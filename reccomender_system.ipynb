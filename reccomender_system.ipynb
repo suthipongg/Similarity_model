{
 "cells": [
  {
   "cell_type": "markdown",
   "metadata": {},
   "source": [
    "# Import library"
   ]
  },
  {
   "cell_type": "code",
   "execution_count": 1,
   "metadata": {},
   "outputs": [],
   "source": [
    "import pandas as pd\n",
    "import numpy as np"
   ]
  },
  {
   "cell_type": "markdown",
   "metadata": {},
   "source": [
    "# Clean dataset"
   ]
  },
  {
   "cell_type": "markdown",
   "metadata": {},
   "source": [
    "## Load data"
   ]
  },
  {
   "cell_type": "code",
   "execution_count": 2,
   "metadata": {},
   "outputs": [],
   "source": [
    "def add_ext_to_str(df, col):\n",
    "    if type(col) == str:\n",
    "        col = [col]\n",
    "    for col in col:\n",
    "        df[col] = df[col].astype(str) + '_' + col\n",
    "    return df\n",
    "\n",
    "def fill_na_with_text(df, col, add_ext=False):\n",
    "    if type(col) == str:\n",
    "        col = [col]\n",
    "    for col in col:\n",
    "        if add_ext:\n",
    "            df[col] = df[col].fillna('NO_'+col)\n",
    "        else:\n",
    "            df[col] = df[col].fillna('NO_INFO')\n",
    "    return df\n",
    "\n",
    "def merge_col(df, col, sep=','):\n",
    "    return df[col].apply(lambda x: sep.join(x), axis=1)\n",
    "\n",
    "def generate_int_id(dataframe, id_col_name):\n",
    "    \"\"\"\n",
    "    Generate unique integer id for users, product and answers\n",
    "\n",
    "    Parameters\n",
    "    ----------\n",
    "    dataframe: Dataframe\n",
    "        Pandas Dataframe for Users or Q&A. \n",
    "    id_col_name : String \n",
    "        New integer id's column name.\n",
    "        \n",
    "    Returns\n",
    "    -------\n",
    "    Dataframe\n",
    "        Updated dataframe containing new id column \n",
    "    \"\"\"\n",
    "    new_dataframe=dataframe.assign(\n",
    "        int_id_col_name=np.arange(len(dataframe))\n",
    "        ).reset_index(drop=True)\n",
    "    return new_dataframe.rename(columns={'int_id_col_name': id_col_name})\n",
    "\n",
    "def generate_feature_list(dataframe, features_name):\n",
    "    \"\"\"\n",
    "    Generate features list for mapping \n",
    "\n",
    "    Parameters\n",
    "    ----------\n",
    "    dataframe: Dataframe\n",
    "        Pandas Dataframe for Users or Q&A. \n",
    "    features_name : List\n",
    "        List of feature columns name avaiable in dataframe. \n",
    "        \n",
    "    Returns\n",
    "    -------\n",
    "    List of all features for mapping \n",
    "    \"\"\"\n",
    "    features = dataframe[features_name].apply(\n",
    "        lambda x: ','.join(x.map(str)), axis=1)\n",
    "    features = features.str.split(',')\n",
    "    features = features.apply(pd.Series).stack().reset_index(drop=True)\n",
    "    return features\n",
    "\n",
    "def create_features(dataframe, features_name, id_col_name):\n",
    "    \"\"\"\n",
    "    Generate features that will be ready for feeding into lightfm\n",
    "\n",
    "    Parameters\n",
    "    ----------\n",
    "    dataframe: Dataframe\n",
    "        Pandas Dataframe which contains features\n",
    "    features_name : List\n",
    "        List of feature columns name avaiable in dataframe\n",
    "    id_col_name: String\n",
    "        Column name which contains id of the product or\n",
    "        answer that the features will map to.\n",
    "        There are two possible values for this variable.\n",
    "        1. product_id_num\n",
    "        2. user_id_num\n",
    "\n",
    "    Returns\n",
    "    -------\n",
    "    Pandas Series\n",
    "        A pandas series containing process features\n",
    "        that are ready for feed into lightfm.\n",
    "        The format of each value\n",
    "        will be (user_id, ['feature_1', 'feature_2', 'feature_3'])\n",
    "        Ex. -> (1, ['military', 'army', '5'])\n",
    "    \"\"\"\n",
    "\n",
    "    features = dataframe[features_name].apply(\n",
    "        lambda x: ','.join(x.map(str)), axis=1)\n",
    "    features = features.str.split(',')\n",
    "    features = list(zip(dataframe[id_col_name], features))\n",
    "    return features"
   ]
  },
  {
   "cell_type": "code",
   "execution_count": 3,
   "metadata": {},
   "outputs": [],
   "source": [
    "from script.tool import ROOT_NFS_TEST"
   ]
  },
  {
   "cell_type": "code",
   "execution_count": 4,
   "metadata": {},
   "outputs": [],
   "source": [
    "data_path = ROOT_NFS_TEST / 'db_cosmenet'\n",
    "df_product = pd.read_csv(data_path / \"product_raw.csv\")\n",
    "df_product = df_product[df_product['ACTIVE'] == 'Y']\n",
    "df_product.drop(index = df_product[df_product['REVIEW_NO'] <= 5].index, inplace=True)\n",
    "df_product.rename(columns={'SECTION_L1': 'CID', 'TYPE_ID': 'SCID'}, inplace=True)\n",
    "\n",
    "df_cat = pd.read_csv(data_path / \"category.csv\")\n",
    "df_brand = pd.read_csv(data_path / \"brand_name.csv\")\n",
    "\n",
    "df_user = pd.read_csv(data_path / \"user.csv\")\n",
    "df_user.rename(columns={'ID': 'UID'}, inplace=True)\n",
    "\n",
    "df_review = pd.read_csv(data_path / \"review.csv\", low_memory=False)\n",
    "df_review = df_review[df_review['ACTION'] == 1]"
   ]
  },
  {
   "cell_type": "code",
   "execution_count": 5,
   "metadata": {},
   "outputs": [],
   "source": [
    "df_review = df_review[df_review['EID'].isin(df_product['EID']) & df_review['UID'].isin(df_user['UID'])].reset_index(drop=True)\n",
    "df_product = df_product[df_product['EID'].isin(df_review['EID'])].reset_index(drop=True)\n",
    "df_user = df_user[df_user['UID'].isin(df_review['UID'])].reset_index(drop=True)"
   ]
  },
  {
   "cell_type": "markdown",
   "metadata": {},
   "source": [
    "## Product"
   ]
  },
  {
   "cell_type": "code",
   "execution_count": null,
   "metadata": {},
   "outputs": [],
   "source": [
    "from itertools import chain"
   ]
  },
  {
   "cell_type": "code",
   "execution_count": null,
   "metadata": {},
   "outputs": [],
   "source": [
    "ini_list = df_product['TAGS'].apply(lambda tags: [tag.strip() for tag in tags.split(',')]).values.tolist()\n",
    "flatten_list = list(chain.from_iterable(ini_list))\n",
    "amount_tag = len(np.array(flatten_list))\n",
    "arr_tag = np.unique(np.array(flatten_list), return_counts=True)\n",
    "arr_tag_one = arr_tag[0][arr_tag[1] == 1]"
   ]
  },
  {
   "cell_type": "code",
   "execution_count": null,
   "metadata": {},
   "outputs": [],
   "source": [
    "ini_list = df_product['TAGS_NAME'].apply(lambda tags: [tag.strip() for tag in tags.split(',')]).values.tolist()\n",
    "flatten_list = list(chain.from_iterable(ini_list))\n",
    "amount_tag_name = len(np.array(flatten_list))\n",
    "arr_tag_name = np.unique(np.array(flatten_list), return_counts=True)\n",
    "arr_tag_name_one = arr_tag_name[0][arr_tag_name[1] == 1]"
   ]
  },
  {
   "cell_type": "code",
   "execution_count": 6,
   "metadata": {},
   "outputs": [],
   "source": [
    "# clean category field\n",
    "row_scid_is_cid = df_product['SCID'].isin(df_cat[df_cat['DEPTH_LEVEL'] == 1]['ID'].values)\n",
    "df_product.loc[row_scid_is_cid, 'CID'] = df_product.loc[row_scid_is_cid, 'SCID']\n",
    "\n",
    "row_scid_is_mid = df_product['SCID'].isin(df_cat[df_cat['DEPTH_LEVEL'] == 2]['ID'].values)\n",
    "df_product.loc[row_scid_is_mid, 'CID'] = df_product.loc[row_scid_is_mid, 'SECTION_L2']\n",
    "\n",
    "row_scid_notin_scid = ~(df_product['SCID'].isin(df_cat[df_cat['DEPTH_LEVEL'] == 3]['ID'].values))\n",
    "df_product.loc[row_scid_notin_scid, 'SCID'] = -1\n",
    "df_product.loc[df_product['CID'].isnull(), 'CID'] = -1\n",
    "df_product['BID'].fillna(-1, inplace=True)\n",
    "df_product['TAGS'].fillna('NO_TAGS', inplace=True)\n",
    "df_product['TAGS_NAME'].fillna('NO_TAGS_NAME', inplace=True)\n",
    "\n",
    "df_product['SCID'] = df_product['SCID'].astype(int)\n",
    "df_product['CID'] = df_product['CID'].astype(int)\n",
    "df_product['BID'] = df_product['BID'].astype(int)\n",
    "df_product['TAGS'] = df_product['TAGS'].astype(str)\n",
    "df_product['TAGS_NAME'] = df_product['TAGS_NAME'].astype(str)"
   ]
  },
  {
   "cell_type": "code",
   "execution_count": 7,
   "metadata": {},
   "outputs": [
    {
     "name": "stderr",
     "output_type": "stream",
     "text": [
      "/tmp/ipykernel_2609789/475195610.py:2: FutureWarning: Setting an item of incompatible dtype is deprecated and will raise in a future error of pandas. Value 'NO_SUBCATEGORY' has dtype incompatible with int64, please explicitly cast to a compatible dtype first.\n",
      "  df_product.loc[df_product['SCID'] == -1, 'SCID'] = 'NO_SUBCATEGORY'\n",
      "/tmp/ipykernel_2609789/475195610.py:3: FutureWarning: Setting an item of incompatible dtype is deprecated and will raise in a future error of pandas. Value 'NO_CATEGORY' has dtype incompatible with int64, please explicitly cast to a compatible dtype first.\n",
      "  df_product.loc[df_product['SCID'] == -1, 'CID'] = 'NO_CATEGORY'\n",
      "/tmp/ipykernel_2609789/475195610.py:4: FutureWarning: Setting an item of incompatible dtype is deprecated and will raise in a future error of pandas. Value 'NO_INFO' has dtype incompatible with int64, please explicitly cast to a compatible dtype first.\n",
      "  df_product.loc[df_product['BID'] == -1, 'BID'] = 'NO_INFO'\n",
      "/tmp/ipykernel_2609789/475195610.py:14: FutureWarning: Setting an item of incompatible dtype is deprecated and will raise in a future error of pandas. Value '0.0 - 0.5' has dtype incompatible with float64, please explicitly cast to a compatible dtype first.\n",
      "  df_product.loc[(df_product['RATE'] >= lw_bound) & (df_product['RATE'] < up_bound), 'RATE_TEXT'] = str(lw_bound) + ' - ' + str(up_bound)\n"
     ]
    },
    {
     "data": {
      "text/html": [
       "<div>\n",
       "<style scoped>\n",
       "    .dataframe tbody tr th:only-of-type {\n",
       "        vertical-align: middle;\n",
       "    }\n",
       "\n",
       "    .dataframe tbody tr th {\n",
       "        vertical-align: top;\n",
       "    }\n",
       "\n",
       "    .dataframe thead th {\n",
       "        text-align: right;\n",
       "    }\n",
       "</style>\n",
       "<table border=\"1\" class=\"dataframe\">\n",
       "  <thead>\n",
       "    <tr style=\"text-align: right;\">\n",
       "      <th></th>\n",
       "      <th>EID</th>\n",
       "      <th>PRODUCT_NAME</th>\n",
       "      <th>product_tag</th>\n",
       "      <th>product_id_num</th>\n",
       "    </tr>\n",
       "  </thead>\n",
       "  <tbody>\n",
       "    <tr>\n",
       "      <th>0</th>\n",
       "      <td>13001</td>\n",
       "      <td>UV Aqua Rich Watery Essence SPF50+ PA++++</td>\n",
       "      <td>กันแดดเนื้อบางเบา,Facial Sunscreen,biore uv,คร...</td>\n",
       "      <td>0</td>\n",
       "    </tr>\n",
       "  </tbody>\n",
       "</table>\n",
       "</div>"
      ],
      "text/plain": [
       "     EID                               PRODUCT_NAME  \\\n",
       "0  13001  UV Aqua Rich Watery Essence SPF50+ PA++++   \n",
       "\n",
       "                                         product_tag  product_id_num  \n",
       "0  กันแดดเนื้อบางเบา,Facial Sunscreen,biore uv,คร...               0  "
      ]
     },
     "execution_count": 7,
     "metadata": {},
     "output_type": "execute_result"
    }
   ],
   "source": [
    "# fillna\n",
    "df_product.loc[df_product['SCID'] == -1, 'SCID'] = 'NO_SUBCATEGORY'\n",
    "df_product.loc[df_product['SCID'] == -1, 'CID'] = 'NO_CATEGORY'\n",
    "df_product.loc[df_product['BID'] == -1, 'BID'] = 'NO_INFO'\n",
    "\n",
    "# add extension to NaN value\n",
    "df_product['BID'] = 'BID_' + df_product['BID'].astype(str)\n",
    "df_product['SCID'] = 'SCID_' + df_product['SCID'].astype(str)\n",
    "df_product['CID'] = 'CID_' + df_product['CID'].astype(str)\n",
    "\n",
    "# create RATE_TEXT\n",
    "for lw_bound in np.arange(0, 5, 0.5):\n",
    "    up_bound = lw_bound + 0.5\n",
    "    df_product.loc[(df_product['RATE'] >= lw_bound) & (df_product['RATE'] < up_bound), 'RATE_TEXT'] = str(lw_bound) + ' - ' + str(up_bound)\n",
    "df_product['RATE_TEXT'].fillna('NO_RATE', inplace=True)\n",
    "\n",
    "# join tags\n",
    "df_product['TAGS'] = df_product['TAGS'].apply(lambda tags: ','.join(tag.strip() for tag in tags.split(',') if tag.strip() not in arr_tag_one))\n",
    "df_product['TAGS_NAME'] = df_product['TAGS_NAME'].apply(lambda tags: ','.join(tag.strip() for tag in tags.split(',') if tag.strip() not in arr_tag_name_one))\n",
    "df_product['product_tag'] = merge_col(df_product, ['BID', 'SCID', 'CID', 'TAGS', 'TAGS_NAME', 'RATE_TEXT'])\n",
    "df_product = generate_int_id(df_product, 'product_id_num')\n",
    "df_product['product_tag'] = (\n",
    "    df_product['product_tag'].str.split(',').apply(set).str.join(','))\n",
    "\n",
    "df_product = df_product[['EID', 'PRODUCT_NAME', 'product_tag', 'product_id_num']]\n",
    "df_product.reset_index(drop=True, inplace=True)\n",
    "df_product.head(1)"
   ]
  },
  {
   "cell_type": "markdown",
   "metadata": {},
   "source": [
    "## User"
   ]
  },
  {
   "cell_type": "code",
   "execution_count": 8,
   "metadata": {},
   "outputs": [
    {
     "data": {
      "text/html": [
       "<div>\n",
       "<style scoped>\n",
       "    .dataframe tbody tr th:only-of-type {\n",
       "        vertical-align: middle;\n",
       "    }\n",
       "\n",
       "    .dataframe tbody tr th {\n",
       "        vertical-align: top;\n",
       "    }\n",
       "\n",
       "    .dataframe thead th {\n",
       "        text-align: right;\n",
       "    }\n",
       "</style>\n",
       "<table border=\"1\" class=\"dataframe\">\n",
       "  <thead>\n",
       "    <tr style=\"text-align: right;\">\n",
       "      <th></th>\n",
       "      <th>UID</th>\n",
       "      <th>user_tag</th>\n",
       "      <th>user_id_num</th>\n",
       "    </tr>\n",
       "  </thead>\n",
       "  <tbody>\n",
       "    <tr>\n",
       "      <th>0</th>\n",
       "      <td>4</td>\n",
       "      <td>40 ขึ้นไป,Male,ผิวมัน_UF_SKINFACE,NO_INFO_UF_B...</td>\n",
       "      <td>0</td>\n",
       "    </tr>\n",
       "  </tbody>\n",
       "</table>\n",
       "</div>"
      ],
      "text/plain": [
       "   UID                                           user_tag  user_id_num\n",
       "0    4  40 ขึ้นไป,Male,ผิวมัน_UF_SKINFACE,NO_INFO_UF_B...            0"
      ]
     },
     "execution_count": 8,
     "metadata": {},
     "output_type": "execute_result"
    }
   ],
   "source": [
    "# clean 'AGE_TEXT'\n",
    "df_user.loc[df_user['AGE'] <= 11, 'AGE_TEXT'] = np.nan\n",
    "df_user.loc[df_user['BIRTHDAY'] <= 11, 'AGE_TEXT'] = np.nan\n",
    "df_user.loc[(df_user['AGE'] < 1900) & (df_user['AGE'] > 100), 'AGE_TEXT'] = np.nan\n",
    "df_user.loc[(df_user['BIRTHDAY'] > 50) & (df_user['BIRTHDAY'] < 100), 'AGE_TEXT'] = np.nan\n",
    "\n",
    "df_user.loc[(df_user['BIRTHDAY'] > 11) & (df_user['BIRTHDAY'] < 18), 'AGE_TEXT'] = 'ตำกว่า 18'\n",
    "df_user.loc[(df_user['BIRTHDAY'] >= 18) & (df_user['BIRTHDAY'] < 25), 'AGE_TEXT'] = '18 - 24'\n",
    "df_user.loc[(df_user['BIRTHDAY'] >= 25) & (df_user['BIRTHDAY'] < 31), 'AGE_TEXT'] = '25 - 30'\n",
    "df_user.loc[(df_user['BIRTHDAY'] >= 31) & (df_user['BIRTHDAY'] < 36), 'AGE_TEXT'] = '31 - 35'\n",
    "df_user.loc[(df_user['BIRTHDAY'] >= 36) & (df_user['BIRTHDAY'] < 41), 'AGE_TEXT'] = '36 - 40'\n",
    "df_user.loc[(df_user['BIRTHDAY'] >= 41) & (df_user['BIRTHDAY'] < 50), 'AGE_TEXT'] = '40 ขึ้นไป'\n",
    "\n",
    "# fill na with text\n",
    "df_user = fill_na_with_text(df_user, ['UF_SKINFACE', 'UF_BODYTYPE'])\n",
    "df_user = add_ext_to_str(df_user, ['UF_SKINFACE', 'UF_BODYTYPE'])\n",
    "df_user = fill_na_with_text(df_user, ['AGE_TEXT', 'PERSONAL_GENDER', 'UF_HAIRTYPE'], add_ext=True)\n",
    "\n",
    "# clean 'PERSONAL_GENDER'\n",
    "is_female = np.isin(df_user['PERSONAL_GENDER'], 'Female')\n",
    "is_male = np.isin(df_user['PERSONAL_GENDER'], 'Male')\n",
    "is_nan = np.isin(df_user['PERSONAL_GENDER'], 'NO_PERSONAL_GENDER')\n",
    "df_user.loc[~is_female & ~is_male & ~is_nan, 'PERSONAL_GENDER'] = 'LGBTQ+'\n",
    "\n",
    "# create 'user_tag' to merge all tags\n",
    "df_user['user_tag'] = merge_col(df_user, ['AGE_TEXT', 'PERSONAL_GENDER', 'UF_SKINFACE', 'UF_BODYTYPE', 'UF_HAIRTYPE'])\n",
    "df_user = generate_int_id(df_user, 'user_id_num')\n",
    "\n",
    "df_user = df_user[['UID', 'user_tag', 'user_id_num']].reset_index(drop=True)\n",
    "df_user.head(1)"
   ]
  },
  {
   "cell_type": "markdown",
   "metadata": {},
   "source": [
    "## Merge"
   ]
  },
  {
   "cell_type": "code",
   "execution_count": 9,
   "metadata": {},
   "outputs": [
    {
     "data": {
      "text/html": [
       "<div>\n",
       "<style scoped>\n",
       "    .dataframe tbody tr th:only-of-type {\n",
       "        vertical-align: middle;\n",
       "    }\n",
       "\n",
       "    .dataframe tbody tr th {\n",
       "        vertical-align: top;\n",
       "    }\n",
       "\n",
       "    .dataframe thead th {\n",
       "        text-align: right;\n",
       "    }\n",
       "</style>\n",
       "<table border=\"1\" class=\"dataframe\">\n",
       "  <thead>\n",
       "    <tr style=\"text-align: right;\">\n",
       "      <th></th>\n",
       "      <th>ID</th>\n",
       "      <th>EID</th>\n",
       "      <th>BID</th>\n",
       "      <th>ACTION</th>\n",
       "      <th>COMMENT</th>\n",
       "      <th>REGULAR</th>\n",
       "      <th>ACTUAL</th>\n",
       "      <th>DATE_CREATE</th>\n",
       "      <th>modify_date</th>\n",
       "      <th>TIMESTAMP_TOP</th>\n",
       "      <th>...</th>\n",
       "      <th>LOCATION</th>\n",
       "      <th>EFFECT</th>\n",
       "      <th>D_USER</th>\n",
       "      <th>FID</th>\n",
       "      <th>campaing_name</th>\n",
       "      <th>SEARCH_TXT</th>\n",
       "      <th>product_tag</th>\n",
       "      <th>product_id_num</th>\n",
       "      <th>user_tag</th>\n",
       "      <th>user_id_num</th>\n",
       "    </tr>\n",
       "  </thead>\n",
       "  <tbody>\n",
       "    <tr>\n",
       "      <th>0</th>\n",
       "      <td>161561</td>\n",
       "      <td>40039</td>\n",
       "      <td>3081</td>\n",
       "      <td>1</td>\n",
       "      <td>ได้รับสี 09 Honey Brown สีน้ำตาลทอง ขนาดกำลังด...</td>\n",
       "      <td>NO</td>\n",
       "      <td>0.0</td>\n",
       "      <td>2023-08-23 15:10:32.000</td>\n",
       "      <td>2023-08-23 15:10:32.000</td>\n",
       "      <td>2023-08-23 15:08:57.000</td>\n",
       "      <td>...</td>\n",
       "      <td>กิจกรรม cosmenet.in.th</td>\n",
       "      <td>NaN</td>\n",
       "      <td>NaN</td>\n",
       "      <td>NaN</td>\n",
       "      <td>product_meilinda_40039</td>\n",
       "      <td>ได้รับสี 09 Honey Brown สีน้ำตาลทอง ขนาดกำลังด...</td>\n",
       "      <td>ดินสอเขียนคิ้วเนื้อเนียน,ผลิตภัณฑ์ตกแต่งคิ้ว,ด...</td>\n",
       "      <td>1243</td>\n",
       "      <td>25 - 30,Female,ผิวผสม_UF_SKINFACE,ผิวธรรมดา_UF...</td>\n",
       "      <td>13946</td>\n",
       "    </tr>\n",
       "  </tbody>\n",
       "</table>\n",
       "<p>1 rows × 38 columns</p>\n",
       "</div>"
      ],
      "text/plain": [
       "       ID    EID   BID  ACTION  \\\n",
       "0  161561  40039  3081       1   \n",
       "\n",
       "                                             COMMENT REGULAR  ACTUAL  \\\n",
       "0  ได้รับสี 09 Honey Brown สีน้ำตาลทอง ขนาดกำลังด...      NO     0.0   \n",
       "\n",
       "               DATE_CREATE              modify_date            TIMESTAMP_TOP  \\\n",
       "0  2023-08-23 15:10:32.000  2023-08-23 15:10:32.000  2023-08-23 15:08:57.000   \n",
       "\n",
       "   ...                LOCATION EFFECT D_USER FID           campaing_name  \\\n",
       "0  ...  กิจกรรม cosmenet.in.th    NaN    NaN NaN  product_meilinda_40039   \n",
       "\n",
       "                                          SEARCH_TXT  \\\n",
       "0  ได้รับสี 09 Honey Brown สีน้ำตาลทอง ขนาดกำลังด...   \n",
       "\n",
       "                                         product_tag product_id_num  \\\n",
       "0  ดินสอเขียนคิ้วเนื้อเนียน,ผลิตภัณฑ์ตกแต่งคิ้ว,ด...           1243   \n",
       "\n",
       "                                            user_tag  user_id_num  \n",
       "0  25 - 30,Female,ผิวผสม_UF_SKINFACE,ผิวธรรมดา_UF...        13946  \n",
       "\n",
       "[1 rows x 38 columns]"
      ]
     },
     "execution_count": 9,
     "metadata": {},
     "output_type": "execute_result"
    }
   ],
   "source": [
    "df_merge = df_review.merge(df_product[['EID', 'product_tag', 'product_id_num']], how='inner',\n",
    "    left_on='EID', right_on='EID')\n",
    "df_merge = df_merge.merge(df_user[['UID', 'user_tag', 'user_id_num']], how='inner',\n",
    "    left_on='UID', right_on='UID')\n",
    "df_merge.head(1)"
   ]
  },
  {
   "cell_type": "code",
   "execution_count": 10,
   "metadata": {},
   "outputs": [
    {
     "data": {
      "text/html": [
       "<div>\n",
       "<style scoped>\n",
       "    .dataframe tbody tr th:only-of-type {\n",
       "        vertical-align: middle;\n",
       "    }\n",
       "\n",
       "    .dataframe tbody tr th {\n",
       "        vertical-align: top;\n",
       "    }\n",
       "\n",
       "    .dataframe thead th {\n",
       "        text-align: right;\n",
       "    }\n",
       "</style>\n",
       "<table border=\"1\" class=\"dataframe\">\n",
       "  <thead>\n",
       "    <tr style=\"text-align: right;\">\n",
       "      <th></th>\n",
       "      <th>UID</th>\n",
       "      <th>user_tag</th>\n",
       "      <th>user_id_num</th>\n",
       "      <th>product_tag</th>\n",
       "      <th>UID_all_tags</th>\n",
       "    </tr>\n",
       "  </thead>\n",
       "  <tbody>\n",
       "    <tr>\n",
       "      <th>0</th>\n",
       "      <td>4</td>\n",
       "      <td>40 ขึ้นไป,Male,ผิวมัน_UF_SKINFACE,NO_INFO_UF_B...</td>\n",
       "      <td>0</td>\n",
       "      <td>ครีมทาใต้ตา,ผลิตภัณฑ์ระงับกลิ่นกายสำหรับผู้ชาย...</td>\n",
       "      <td>40 ขึ้นไป,Male,ผิวมัน_UF_SKINFACE,NO_INFO_UF_B...</td>\n",
       "    </tr>\n",
       "  </tbody>\n",
       "</table>\n",
       "</div>"
      ],
      "text/plain": [
       "   UID                                           user_tag  user_id_num  \\\n",
       "0    4  40 ขึ้นไป,Male,ผิวมัน_UF_SKINFACE,NO_INFO_UF_B...            0   \n",
       "\n",
       "                                         product_tag  \\\n",
       "0  ครีมทาใต้ตา,ผลิตภัณฑ์ระงับกลิ่นกายสำหรับผู้ชาย...   \n",
       "\n",
       "                                        UID_all_tags  \n",
       "0  40 ขึ้นไป,Male,ผิวมัน_UF_SKINFACE,NO_INFO_UF_B...  "
      ]
     },
     "execution_count": 10,
     "metadata": {},
     "output_type": "execute_result"
    }
   ],
   "source": [
    "user_prev_product_tags = df_merge[['UID', 'product_tag']]\n",
    "user_prev_product_tags = user_prev_product_tags.dropna()\n",
    "user_prev_product_tags = user_prev_product_tags.groupby(\n",
    "    ['UID'])['product_tag'].apply(\n",
    "        ','.join).reset_index()\n",
    "\n",
    "# drop duplicates tags from each user rows\n",
    "user_prev_product_tags['product_tag'] = (\n",
    "    user_prev_product_tags['product_tag'].str.split(',').apply(set).str.join(','))\n",
    "\n",
    "# finally merge the dataframe with user dataframe \n",
    "df_user = df_user.merge(user_prev_product_tags, how='left', on='UID')\n",
    "\n",
    "# join user tags and their answered tags \n",
    "# we replace nan values with \"\"\n",
    "df_user['UID_all_tags'] = (\n",
    "    df_user[['user_tag', 'product_tag']].apply(\n",
    "        lambda x: ','.join(x.dropna()),\n",
    "        axis=1))\n",
    "\n",
    "df_user.head(1)"
   ]
  },
  {
   "cell_type": "code",
   "execution_count": 11,
   "metadata": {},
   "outputs": [],
   "source": [
    "df_product['product_tag'] = df_product['product_tag'].str.split(',').apply(set).str.join(',')\n",
    "df_user['UID_all_tags'] = df_user['UID_all_tags'].str.split(',').apply(set).str.join(',')"
   ]
  },
  {
   "cell_type": "code",
   "execution_count": 12,
   "metadata": {},
   "outputs": [],
   "source": [
    "product_feature_list = generate_feature_list(\n",
    "    df_product,\n",
    "    ['product_tag'])\n",
    "\n",
    "user_feature_list = generate_feature_list(\n",
    "    df_user,\n",
    "    ['UID_all_tags'])"
   ]
  },
  {
   "cell_type": "code",
   "execution_count": 13,
   "metadata": {},
   "outputs": [],
   "source": [
    "df_product['product_features'] = create_features(\n",
    "    df_product, ['product_tag'], \n",
    "    'product_id_num')\n",
    "\n",
    "df_user['user_features'] = create_features(\n",
    "    df_user,\n",
    "    ['UID_all_tags'],\n",
    "    'user_id_num')"
   ]
  },
  {
   "cell_type": "markdown",
   "metadata": {},
   "source": [
    "# LightFM"
   ]
  },
  {
   "cell_type": "markdown",
   "metadata": {},
   "source": [
    "## Import"
   ]
  },
  {
   "cell_type": "code",
   "execution_count": 14,
   "metadata": {},
   "outputs": [],
   "source": [
    "from lightfm.data import Dataset\n",
    "from lightfm import LightFM\n",
    "\n",
    "from lightfm.evaluation import auc_score\n",
    "from lightfm.evaluation import precision_at_k\n",
    "from lightfm.cross_validation import random_train_test_split"
   ]
  },
  {
   "cell_type": "markdown",
   "metadata": {},
   "source": [
    "## Build Dataset"
   ]
  },
  {
   "cell_type": "code",
   "execution_count": 15,
   "metadata": {},
   "outputs": [],
   "source": [
    "dataset = Dataset()\n",
    "dataset.fit(\n",
    "    set(df_user['user_id_num']), \n",
    "    set(df_product['product_id_num']),\n",
    "    item_features=product_feature_list, \n",
    "    user_features=user_feature_list)"
   ]
  },
  {
   "cell_type": "code",
   "execution_count": 16,
   "metadata": {},
   "outputs": [],
   "source": [
    "df_merge['point_tuple'] = list(zip(\n",
    "    df_merge.user_id_num, df_merge.product_id_num, df_merge.POINT))"
   ]
  },
  {
   "cell_type": "code",
   "execution_count": 17,
   "metadata": {},
   "outputs": [],
   "source": [
    "interactions, weights = dataset.build_interactions(\n",
    "    df_merge['point_tuple'])"
   ]
  },
  {
   "cell_type": "code",
   "execution_count": 18,
   "metadata": {},
   "outputs": [],
   "source": [
    "product_features = dataset.build_item_features(\n",
    "    df_product['product_features'])\n",
    "\n",
    "user_features = dataset.build_user_features(\n",
    "    df_user['user_features'])"
   ]
  },
  {
   "cell_type": "code",
   "execution_count": 19,
   "metadata": {},
   "outputs": [],
   "source": [
    "train_interactions, test_interactions = random_train_test_split(interactions, test_percentage=0.2)"
   ]
  },
  {
   "cell_type": "markdown",
   "metadata": {},
   "source": [
    "## Train"
   ]
  },
  {
   "cell_type": "code",
   "execution_count": 75,
   "metadata": {},
   "outputs": [
    {
     "name": "stderr",
     "output_type": "stream",
     "text": [
      "Epoch: 100%|██████████| 20/20 [04:19<00:00, 12.99s/it]\n"
     ]
    },
    {
     "data": {
      "text/plain": [
       "<lightfm.lightfm.LightFM at 0x7f3bcf9192b0>"
      ]
     },
     "execution_count": 75,
     "metadata": {},
     "output_type": "execute_result"
    }
   ],
   "source": [
    "model = LightFM(\n",
    "    no_components=150,\n",
    "    learning_rate=0.05,\n",
    "    loss='warp',\n",
    "    random_state=2019)\n",
    "\n",
    "model.fit(\n",
    "    interactions,\n",
    "    item_features=product_features,\n",
    "    user_features=user_features, sample_weight=weights,\n",
    "    epochs=20, num_threads=4, verbose=True)"
   ]
  },
  {
   "cell_type": "code",
   "execution_count": 20,
   "metadata": {},
   "outputs": [],
   "source": [
    "from skopt import forest_minimize"
   ]
  },
  {
   "cell_type": "code",
   "execution_count": 35,
   "metadata": {},
   "outputs": [],
   "source": [
    "def objective(params):\n",
    "    print('=====================================')\n",
    "    # unpack\n",
    "    epochs, learning_rate,\\\n",
    "    no_components, alpha = params\n",
    "    \n",
    "    user_alpha = alpha\n",
    "    item_alpha = alpha\n",
    "    print(params)\n",
    "    model = LightFM(loss='warp',\n",
    "                    random_state=2016,\n",
    "                    learning_rate=learning_rate,\n",
    "                    no_components=no_components,\n",
    "                    user_alpha=user_alpha,\n",
    "                    item_alpha=item_alpha)\n",
    "    model.fit(train_interactions, epochs=epochs,\n",
    "              num_threads=8, verbose=True)\n",
    "    \n",
    "    patks = precision_at_k(model, test_interactions, train_interactions=None,\n",
    "                           k=5, num_threads=8).mean()\n",
    "    # Make negative because we want to _minimize_ objective\n",
    "    out = -patks\n",
    "    # Handle some weird numerical shit going on\n",
    "    if np.abs(out + 1) < 0.01 or out < -1.0:\n",
    "        return 0.0\n",
    "    else:\n",
    "        return out"
   ]
  },
  {
   "cell_type": "code",
   "execution_count": 36,
   "metadata": {},
   "outputs": [
    {
     "name": "stdout",
     "output_type": "stream",
     "text": [
      "Iteration No: 1 started. Evaluating function at random point.\n",
      "[48, 0.07257005721594281, 87, 0.019486241836466404]\n"
     ]
    },
    {
     "name": "stderr",
     "output_type": "stream",
     "text": [
      "Epoch:   0%|          | 0/48 [00:00<?, ?it/s]"
     ]
    },
    {
     "name": "stderr",
     "output_type": "stream",
     "text": [
      "Epoch: 100%|██████████| 48/48 [00:07<00:00,  6.24it/s]\n"
     ]
    },
    {
     "name": "stdout",
     "output_type": "stream",
     "text": [
      "Iteration No: 1 ended. Evaluation done at random point.\n",
      "Time taken: 9.5057\n",
      "Function value obtained: -0.0030\n",
      "Current minimum: -0.0030\n",
      "Iteration No: 2 started. Evaluating function at random point.\n",
      "[10, 0.031207198770106446, 56, 3.073781785362612e-05]\n"
     ]
    },
    {
     "name": "stderr",
     "output_type": "stream",
     "text": [
      "Epoch: 100%|██████████| 10/10 [00:00<00:00, 11.50it/s]\n"
     ]
    },
    {
     "name": "stdout",
     "output_type": "stream",
     "text": [
      "Iteration No: 2 ended. Evaluation done at random point.\n",
      "Time taken: 2.0552\n",
      "Function value obtained: -0.0327\n",
      "Current minimum: -0.0327\n",
      "Iteration No: 3 started. Evaluating function at random point.\n",
      "[89, 0.001232041050356271, 59, 0.0004410365667970993]\n"
     ]
    },
    {
     "name": "stderr",
     "output_type": "stream",
     "text": [
      "Epoch: 100%|██████████| 89/89 [00:12<00:00,  7.13it/s]\n"
     ]
    },
    {
     "name": "stdout",
     "output_type": "stream",
     "text": [
      "Iteration No: 3 ended. Evaluation done at random point.\n",
      "Time taken: 13.6932\n",
      "Function value obtained: -0.0278\n",
      "Current minimum: -0.0327\n",
      "Iteration No: 4 started. Evaluating function at random point.\n",
      "[89, 0.003725110709391402, 45, 2.2655846366566675e-06]\n"
     ]
    },
    {
     "name": "stderr",
     "output_type": "stream",
     "text": [
      "Epoch: 100%|██████████| 89/89 [00:06<00:00, 12.86it/s]\n"
     ]
    },
    {
     "name": "stdout",
     "output_type": "stream",
     "text": [
      "Iteration No: 4 ended. Evaluation done at random point.\n",
      "Time taken: 8.0239\n",
      "Function value obtained: -0.0331\n",
      "Current minimum: -0.0331\n",
      "Iteration No: 5 started. Evaluating function at random point.\n",
      "[116, 0.0029714344857244977, 99, 0.022390342721683734]\n"
     ]
    },
    {
     "name": "stderr",
     "output_type": "stream",
     "text": [
      "Epoch: 100%|██████████| 116/116 [00:26<00:00,  4.45it/s]\n"
     ]
    },
    {
     "name": "stdout",
     "output_type": "stream",
     "text": [
      "Iteration No: 5 ended. Evaluation done at random point.\n",
      "Time taken: 58.7545\n",
      "Function value obtained: -0.0214\n",
      "Current minimum: -0.0331\n",
      "Iteration No: 6 started. Evaluating function at random point.\n",
      "[100, 0.15726578854179527, 49, 0.007991823454611512]\n"
     ]
    },
    {
     "name": "stderr",
     "output_type": "stream",
     "text": [
      "Epoch: 100%|██████████| 100/100 [00:09<00:00, 11.09it/s]\n"
     ]
    },
    {
     "name": "stdout",
     "output_type": "stream",
     "text": [
      "Iteration No: 6 ended. Evaluation done at random point.\n",
      "Time taken: 10.0592\n",
      "Function value obtained: -0.0006\n",
      "Current minimum: -0.0331\n",
      "Iteration No: 7 started. Evaluating function at random point.\n",
      "[186, 0.6007249475906207, 51, 3.3848391532325447e-06]\n"
     ]
    },
    {
     "name": "stderr",
     "output_type": "stream",
     "text": [
      "Epoch: 100%|██████████| 186/186 [00:18<00:00, 10.25it/s]\n"
     ]
    },
    {
     "name": "stdout",
     "output_type": "stream",
     "text": [
      "Iteration No: 7 ended. Evaluation done at random point.\n",
      "Time taken: 19.2236\n",
      "Function value obtained: -0.0003\n",
      "Current minimum: -0.0331\n",
      "Iteration No: 8 started. Evaluating function at random point.\n",
      "[152, 0.0011434638743472202, 134, 0.0001908761475614597]\n"
     ]
    },
    {
     "name": "stderr",
     "output_type": "stream",
     "text": [
      "Epoch: 100%|██████████| 152/152 [00:29<00:00,  5.09it/s]\n"
     ]
    },
    {
     "name": "stdout",
     "output_type": "stream",
     "text": [
      "Iteration No: 8 ended. Evaluation done at random point.\n",
      "Time taken: 32.4203\n",
      "Function value obtained: -0.0307\n",
      "Current minimum: -0.0331\n",
      "Iteration No: 9 started. Evaluating function at random point.\n",
      "[129, 0.00011889379831773007, 73, 5.602402871263744e-06]\n"
     ]
    },
    {
     "name": "stderr",
     "output_type": "stream",
     "text": [
      "Epoch: 100%|██████████| 129/129 [00:14<00:00,  8.77it/s]\n"
     ]
    },
    {
     "name": "stdout",
     "output_type": "stream",
     "text": [
      "Iteration No: 9 ended. Evaluation done at random point.\n",
      "Time taken: 16.1556\n",
      "Function value obtained: -0.0221\n",
      "Current minimum: -0.0331\n",
      "Iteration No: 10 started. Evaluating function at random point.\n",
      "[245, 0.0035152476331992625, 152, 0.002565083431770992]\n"
     ]
    },
    {
     "name": "stderr",
     "output_type": "stream",
     "text": [
      "Epoch: 100%|██████████| 245/245 [00:54<00:00,  4.46it/s]\n"
     ]
    },
    {
     "name": "stdout",
     "output_type": "stream",
     "text": [
      "Iteration No: 10 ended. Evaluation done at random point.\n",
      "Time taken: 58.2859\n",
      "Function value obtained: -0.0272\n",
      "Current minimum: -0.0331\n",
      "Iteration No: 11 started. Searching for the next optimal point.\n",
      "[23, 0.030578391814561182, 27, 3.601342161097718e-05]\n"
     ]
    },
    {
     "name": "stderr",
     "output_type": "stream",
     "text": [
      "Epoch: 100%|██████████| 23/23 [00:01<00:00, 15.57it/s]\n"
     ]
    },
    {
     "name": "stdout",
     "output_type": "stream",
     "text": [
      "Iteration No: 11 ended. Search finished for the next optimal point.\n",
      "Time taken: 2.2712\n",
      "Function value obtained: -0.0371\n",
      "Current minimum: -0.0371\n",
      "Iteration No: 12 started. Searching for the next optimal point.\n",
      "[38, 0.041718876255267455, 53, 3.190872241937754e-05]\n"
     ]
    },
    {
     "name": "stderr",
     "output_type": "stream",
     "text": [
      "Epoch: 100%|██████████| 38/38 [00:03<00:00, 10.89it/s]\n"
     ]
    },
    {
     "name": "stdout",
     "output_type": "stream",
     "text": [
      "Iteration No: 12 ended. Search finished for the next optimal point.\n",
      "Time taken: 5.0404\n",
      "Function value obtained: -0.0332\n",
      "Current minimum: -0.0371\n",
      "Iteration No: 13 started. Searching for the next optimal point.\n",
      "[24, 0.09921674578258577, 23, 2.9339512776145047e-05]\n"
     ]
    },
    {
     "name": "stderr",
     "output_type": "stream",
     "text": [
      "Epoch: 100%|██████████| 24/24 [00:01<00:00, 14.34it/s]\n"
     ]
    },
    {
     "name": "stdout",
     "output_type": "stream",
     "text": [
      "Iteration No: 13 ended. Search finished for the next optimal point.\n",
      "Time taken: 2.5099\n",
      "Function value obtained: -0.0255\n",
      "Current minimum: -0.0371\n",
      "Iteration No: 14 started. Searching for the next optimal point.\n",
      "[13, 0.05426465594045071, 39, 6.635505506125679e-06]\n"
     ]
    },
    {
     "name": "stderr",
     "output_type": "stream",
     "text": [
      "Epoch: 100%|██████████| 13/13 [00:01<00:00, 11.26it/s]\n"
     ]
    },
    {
     "name": "stdout",
     "output_type": "stream",
     "text": [
      "Iteration No: 14 ended. Search finished for the next optimal point.\n",
      "Time taken: 2.2295\n",
      "Function value obtained: -0.0358\n",
      "Current minimum: -0.0371\n",
      "Iteration No: 15 started. Searching for the next optimal point.\n",
      "[20, 0.22659617276319327, 21, 3.800028346285959e-06]\n"
     ]
    },
    {
     "name": "stderr",
     "output_type": "stream",
     "text": [
      "Epoch: 100%|██████████| 20/20 [00:01<00:00, 17.47it/s]\n"
     ]
    },
    {
     "name": "stdout",
     "output_type": "stream",
     "text": [
      "Iteration No: 15 ended. Search finished for the next optimal point.\n",
      "Time taken: 1.9631\n",
      "Function value obtained: -0.0049\n",
      "Current minimum: -0.0371\n",
      "Iteration No: 16 started. Searching for the next optimal point.\n",
      "[24, 0.039633821189504065, 43, 3.3370100240547657e-06]\n"
     ]
    },
    {
     "name": "stderr",
     "output_type": "stream",
     "text": [
      "Epoch: 100%|██████████| 24/24 [00:01<00:00, 13.36it/s]\n"
     ]
    },
    {
     "name": "stdout",
     "output_type": "stream",
     "text": [
      "Iteration No: 16 ended. Search finished for the next optimal point.\n",
      "Time taken: 2.9209\n",
      "Function value obtained: -0.0356\n",
      "Current minimum: -0.0371\n",
      "Iteration No: 17 started. Searching for the next optimal point.\n",
      "[7, 0.049787878489051855, 45, 3.701154215172669e-06]\n"
     ]
    },
    {
     "name": "stderr",
     "output_type": "stream",
     "text": [
      "Epoch: 100%|██████████| 7/7 [00:00<00:00, 13.29it/s]\n"
     ]
    },
    {
     "name": "stdout",
     "output_type": "stream",
     "text": [
      "Iteration No: 17 ended. Search finished for the next optimal point.\n",
      "Time taken: 1.6406\n",
      "Function value obtained: -0.0355\n",
      "Current minimum: -0.0371\n",
      "Iteration No: 18 started. Searching for the next optimal point.\n",
      "[4, 0.6946834012902504, 43, 4.308970543228893e-06]\n"
     ]
    },
    {
     "name": "stderr",
     "output_type": "stream",
     "text": [
      "Epoch: 100%|██████████| 4/4 [00:00<00:00, 11.35it/s]\n"
     ]
    },
    {
     "name": "stdout",
     "output_type": "stream",
     "text": [
      "Iteration No: 18 ended. Search finished for the next optimal point.\n",
      "Time taken: 1.4578\n",
      "Function value obtained: -0.0004\n",
      "Current minimum: -0.0371\n",
      "Iteration No: 19 started. Searching for the next optimal point.\n",
      "[7, 0.060326735599727115, 38, 2.9433924470071666e-06]\n"
     ]
    },
    {
     "name": "stderr",
     "output_type": "stream",
     "text": [
      "Epoch: 100%|██████████| 7/7 [00:00<00:00, 13.85it/s]\n"
     ]
    },
    {
     "name": "stdout",
     "output_type": "stream",
     "text": [
      "Iteration No: 19 ended. Search finished for the next optimal point.\n",
      "Time taken: 1.5041\n",
      "Function value obtained: -0.0336\n",
      "Current minimum: -0.0371\n",
      "Iteration No: 20 started. Searching for the next optimal point.\n",
      "[13, 0.07386839264723388, 40, 1.1750214458028807e-06]\n"
     ]
    },
    {
     "name": "stderr",
     "output_type": "stream",
     "text": [
      "Epoch: 100%|██████████| 13/13 [00:01<00:00, 11.92it/s]\n"
     ]
    },
    {
     "name": "stdout",
     "output_type": "stream",
     "text": [
      "Iteration No: 20 ended. Search finished for the next optimal point.\n",
      "Time taken: 2.1654\n",
      "Function value obtained: -0.0307\n",
      "Current minimum: -0.0371\n",
      "Iteration No: 21 started. Searching for the next optimal point.\n",
      "[7, 0.0671039855398507, 65, 4.055533577084708e-06]\n"
     ]
    },
    {
     "name": "stderr",
     "output_type": "stream",
     "text": [
      "Epoch: 100%|██████████| 7/7 [00:00<00:00,  9.72it/s]\n"
     ]
    },
    {
     "name": "stdout",
     "output_type": "stream",
     "text": [
      "Iteration No: 21 ended. Search finished for the next optimal point.\n",
      "Time taken: 2.2101\n",
      "Function value obtained: -0.0296\n",
      "Current minimum: -0.0371\n",
      "Iteration No: 22 started. Searching for the next optimal point.\n",
      "[22, 0.06896371683259199, 44, 5.631855922070321e-06]\n"
     ]
    },
    {
     "name": "stderr",
     "output_type": "stream",
     "text": [
      "Epoch: 100%|██████████| 22/22 [00:01<00:00, 13.42it/s]\n"
     ]
    },
    {
     "name": "stdout",
     "output_type": "stream",
     "text": [
      "Iteration No: 22 ended. Search finished for the next optimal point.\n",
      "Time taken: 2.7625\n",
      "Function value obtained: -0.0301\n",
      "Current minimum: -0.0371\n",
      "Iteration No: 23 started. Searching for the next optimal point.\n",
      "[65, 0.03729894967356599, 32, 4.383813274327835e-06]\n"
     ]
    },
    {
     "name": "stderr",
     "output_type": "stream",
     "text": [
      "Epoch: 100%|██████████| 65/65 [00:04<00:00, 14.88it/s]\n"
     ]
    },
    {
     "name": "stdout",
     "output_type": "stream",
     "text": [
      "Iteration No: 23 ended. Search finished for the next optimal point.\n",
      "Time taken: 5.2667\n",
      "Function value obtained: -0.0347\n",
      "Current minimum: -0.0371\n",
      "Iteration No: 24 started. Searching for the next optimal point.\n",
      "[13, 0.09741280532636395, 35, 2.3198466783222706e-06]\n"
     ]
    },
    {
     "name": "stderr",
     "output_type": "stream",
     "text": [
      "Epoch: 100%|██████████| 13/13 [00:00<00:00, 14.35it/s]\n"
     ]
    },
    {
     "name": "stdout",
     "output_type": "stream",
     "text": [
      "Iteration No: 24 ended. Search finished for the next optimal point.\n",
      "Time taken: 2.0402\n",
      "Function value obtained: -0.0274\n",
      "Current minimum: -0.0371\n",
      "Iteration No: 25 started. Searching for the next optimal point.\n",
      "[215, 0.0481532710277693, 40, 3.259705061008528e-06]\n"
     ]
    },
    {
     "name": "stderr",
     "output_type": "stream",
     "text": [
      "Epoch: 100%|██████████| 215/215 [00:19<00:00, 10.95it/s]\n"
     ]
    },
    {
     "name": "stdout",
     "output_type": "stream",
     "text": [
      "Iteration No: 25 ended. Search finished for the next optimal point.\n",
      "Time taken: 21.2449\n",
      "Function value obtained: -0.0223\n",
      "Current minimum: -0.0371\n",
      "Iteration No: 26 started. Searching for the next optimal point.\n",
      "[4, 0.18008541078395965, 52, 2.549209946256437e-05]\n"
     ]
    },
    {
     "name": "stderr",
     "output_type": "stream",
     "text": [
      "Epoch: 100%|██████████| 4/4 [00:00<00:00,  5.58it/s]\n"
     ]
    },
    {
     "name": "stdout",
     "output_type": "stream",
     "text": [
      "Iteration No: 26 ended. Search finished for the next optimal point.\n",
      "Time taken: 2.6229\n",
      "Function value obtained: -0.0050\n",
      "Current minimum: -0.0371\n",
      "Iteration No: 27 started. Searching for the next optimal point.\n",
      "[4, 0.08603995076532266, 48, 3.629576056086215e-06]\n"
     ]
    },
    {
     "name": "stderr",
     "output_type": "stream",
     "text": [
      "Epoch: 100%|██████████| 4/4 [00:00<00:00,  8.63it/s]\n"
     ]
    },
    {
     "name": "stdout",
     "output_type": "stream",
     "text": [
      "Iteration No: 27 ended. Search finished for the next optimal point.\n",
      "Time taken: 1.8527\n",
      "Function value obtained: -0.0295\n",
      "Current minimum: -0.0371\n",
      "Iteration No: 28 started. Searching for the next optimal point.\n",
      "[2, 0.04904131335301334, 42, 5.565939140253668e-06]\n"
     ]
    },
    {
     "name": "stderr",
     "output_type": "stream",
     "text": [
      "Epoch: 100%|██████████| 2/2 [00:00<00:00,  9.43it/s]\n"
     ]
    },
    {
     "name": "stdout",
     "output_type": "stream",
     "text": [
      "Iteration No: 28 ended. Search finished for the next optimal point.\n",
      "Time taken: 1.5060\n",
      "Function value obtained: -0.0302\n",
      "Current minimum: -0.0371\n",
      "Iteration No: 29 started. Searching for the next optimal point.\n",
      "[26, 0.03034348175212716, 27, 0.0015893129111340751]\n"
     ]
    },
    {
     "name": "stderr",
     "output_type": "stream",
     "text": [
      "Epoch: 100%|██████████| 26/26 [00:02<00:00, 10.69it/s]\n"
     ]
    },
    {
     "name": "stdout",
     "output_type": "stream",
     "text": [
      "Iteration No: 29 ended. Search finished for the next optimal point.\n",
      "Time taken: 3.5819\n",
      "Function value obtained: -0.0332\n",
      "Current minimum: -0.0371\n",
      "Iteration No: 30 started. Searching for the next optimal point.\n",
      "[4, 0.024214725412083322, 45, 0.004416900245462554]\n"
     ]
    },
    {
     "name": "stderr",
     "output_type": "stream",
     "text": [
      "Epoch: 100%|██████████| 4/4 [00:00<00:00,  7.70it/s]\n"
     ]
    },
    {
     "name": "stdout",
     "output_type": "stream",
     "text": [
      "Iteration No: 30 ended. Search finished for the next optimal point.\n",
      "Time taken: 2.0861\n",
      "Function value obtained: -0.0214\n",
      "Current minimum: -0.0371\n",
      "Iteration No: 31 started. Searching for the next optimal point.\n",
      "[85, 0.1582644885237332, 42, 1.029760229167797e-06]\n"
     ]
    },
    {
     "name": "stderr",
     "output_type": "stream",
     "text": [
      "Epoch: 100%|██████████| 85/85 [00:10<00:00,  8.05it/s]\n"
     ]
    },
    {
     "name": "stdout",
     "output_type": "stream",
     "text": [
      "Iteration No: 31 ended. Search finished for the next optimal point.\n",
      "Time taken: 11.9540\n",
      "Function value obtained: -0.0146\n",
      "Current minimum: -0.0371\n",
      "Iteration No: 32 started. Searching for the next optimal point.\n",
      "[29, 0.03698149521573492, 25, 0.02379128408033402]\n"
     ]
    },
    {
     "name": "stderr",
     "output_type": "stream",
     "text": [
      "Epoch: 100%|██████████| 29/29 [00:02<00:00, 10.72it/s]\n"
     ]
    },
    {
     "name": "stdout",
     "output_type": "stream",
     "text": [
      "Iteration No: 32 ended. Search finished for the next optimal point.\n",
      "Time taken: 3.6827\n",
      "Function value obtained: -0.0137\n",
      "Current minimum: -0.0371\n",
      "Iteration No: 33 started. Searching for the next optimal point.\n",
      "[63, 0.0744726168606457, 53, 3.153787311542833e-05]\n"
     ]
    },
    {
     "name": "stderr",
     "output_type": "stream",
     "text": [
      "Epoch: 100%|██████████| 63/63 [00:07<00:00,  8.66it/s]\n"
     ]
    },
    {
     "name": "stdout",
     "output_type": "stream",
     "text": [
      "Iteration No: 33 ended. Search finished for the next optimal point.\n",
      "Time taken: 8.8463\n",
      "Function value obtained: -0.0194\n",
      "Current minimum: -0.0371\n",
      "Iteration No: 34 started. Searching for the next optimal point.\n",
      "[2, 0.054811921278723655, 42, 2.944287027014528e-05]\n"
     ]
    },
    {
     "name": "stderr",
     "output_type": "stream",
     "text": [
      "Epoch: 100%|██████████| 2/2 [00:00<00:00,  8.87it/s]\n"
     ]
    },
    {
     "name": "stdout",
     "output_type": "stream",
     "text": [
      "Iteration No: 34 ended. Search finished for the next optimal point.\n",
      "Time taken: 1.5597\n",
      "Function value obtained: -0.0317\n",
      "Current minimum: -0.0371\n",
      "Iteration No: 35 started. Searching for the next optimal point.\n",
      "[101, 0.0501638225648558, 22, 3.7527833271596632e-06]\n"
     ]
    },
    {
     "name": "stderr",
     "output_type": "stream",
     "text": [
      "Epoch: 100%|██████████| 101/101 [00:07<00:00, 14.17it/s]\n"
     ]
    },
    {
     "name": "stdout",
     "output_type": "stream",
     "text": [
      "Iteration No: 35 ended. Search finished for the next optimal point.\n",
      "Time taken: 7.8967\n",
      "Function value obtained: -0.0305\n",
      "Current minimum: -0.0371\n",
      "Iteration No: 36 started. Searching for the next optimal point.\n",
      "[28, 0.03860149385706986, 27, 0.0009112388200784379]\n"
     ]
    },
    {
     "name": "stderr",
     "output_type": "stream",
     "text": [
      "Epoch: 100%|██████████| 28/28 [00:01<00:00, 15.12it/s]\n"
     ]
    },
    {
     "name": "stdout",
     "output_type": "stream",
     "text": [
      "Iteration No: 36 ended. Search finished for the next optimal point.\n",
      "Time taken: 2.8155\n",
      "Function value obtained: -0.0402\n",
      "Current minimum: -0.0402\n",
      "Iteration No: 37 started. Searching for the next optimal point.\n",
      "[41, 0.0616906952685306, 27, 0.0025034036435331534]\n"
     ]
    },
    {
     "name": "stderr",
     "output_type": "stream",
     "text": [
      "Epoch: 100%|██████████| 41/41 [00:02<00:00, 15.85it/s]\n"
     ]
    },
    {
     "name": "stdout",
     "output_type": "stream",
     "text": [
      "Iteration No: 37 ended. Search finished for the next optimal point.\n",
      "Time taken: 3.4484\n",
      "Function value obtained: -0.0217\n",
      "Current minimum: -0.0402\n",
      "Iteration No: 38 started. Searching for the next optimal point.\n",
      "[1, 0.10333947387778879, 25, 0.0011003224087366833]\n"
     ]
    },
    {
     "name": "stderr",
     "output_type": "stream",
     "text": [
      "Epoch: 100%|██████████| 1/1 [00:00<00:00, 13.31it/s]\n"
     ]
    },
    {
     "name": "stdout",
     "output_type": "stream",
     "text": [
      "Iteration No: 38 ended. Search finished for the next optimal point.\n",
      "Time taken: 0.9033\n",
      "Function value obtained: -0.0126\n",
      "Current minimum: -0.0402\n",
      "Iteration No: 39 started. Searching for the next optimal point.\n",
      "[74, 0.03903488304845179, 22, 0.0006682874120703619]\n"
     ]
    },
    {
     "name": "stderr",
     "output_type": "stream",
     "text": [
      "Epoch: 100%|██████████| 74/74 [00:05<00:00, 13.95it/s]\n"
     ]
    },
    {
     "name": "stdout",
     "output_type": "stream",
     "text": [
      "Iteration No: 39 ended. Search finished for the next optimal point.\n",
      "Time taken: 6.0502\n",
      "Function value obtained: -0.0420\n",
      "Current minimum: -0.0420\n",
      "Iteration No: 40 started. Searching for the next optimal point.\n",
      "[54, 0.011275434792402828, 22, 0.0010923061653538482]\n"
     ]
    },
    {
     "name": "stderr",
     "output_type": "stream",
     "text": [
      "Epoch: 100%|██████████| 54/54 [00:03<00:00, 16.03it/s]\n"
     ]
    },
    {
     "name": "stdout",
     "output_type": "stream",
     "text": [
      "Iteration No: 40 ended. Search finished for the next optimal point.\n",
      "Time taken: 4.2216\n",
      "Function value obtained: -0.0314\n",
      "Current minimum: -0.0420\n",
      "Iteration No: 41 started. Searching for the next optimal point.\n",
      "[89, 0.0574667843354046, 33, 0.0004310362982524579]\n"
     ]
    },
    {
     "name": "stderr",
     "output_type": "stream",
     "text": [
      "Epoch: 100%|██████████| 89/89 [00:06<00:00, 14.14it/s]\n"
     ]
    },
    {
     "name": "stdout",
     "output_type": "stream",
     "text": [
      "Iteration No: 41 ended. Search finished for the next optimal point.\n",
      "Time taken: 7.4194\n",
      "Function value obtained: -0.0373\n",
      "Current minimum: -0.0420\n",
      "Iteration No: 42 started. Searching for the next optimal point.\n",
      "[3, 0.040548009139620846, 20, 0.0005718769036425339]\n"
     ]
    },
    {
     "name": "stderr",
     "output_type": "stream",
     "text": [
      "Epoch: 100%|██████████| 3/3 [00:00<00:00, 15.38it/s]\n"
     ]
    },
    {
     "name": "stdout",
     "output_type": "stream",
     "text": [
      "Iteration No: 42 ended. Search finished for the next optimal point.\n",
      "Time taken: 1.0534\n",
      "Function value obtained: -0.0325\n",
      "Current minimum: -0.0420\n",
      "Iteration No: 43 started. Searching for the next optimal point.\n",
      "[121, 0.17441120314973446, 29, 0.0005425734913799713]\n"
     ]
    },
    {
     "name": "stderr",
     "output_type": "stream",
     "text": [
      "Epoch: 100%|██████████| 121/121 [00:09<00:00, 12.15it/s]\n"
     ]
    },
    {
     "name": "stdout",
     "output_type": "stream",
     "text": [
      "Iteration No: 43 ended. Search finished for the next optimal point.\n",
      "Time taken: 10.8513\n",
      "Function value obtained: -0.0140\n",
      "Current minimum: -0.0420\n",
      "Iteration No: 44 started. Searching for the next optimal point.\n",
      "[108, 0.04765198285647161, 22, 0.0009223844405862881]\n"
     ]
    },
    {
     "name": "stderr",
     "output_type": "stream",
     "text": [
      "Epoch: 100%|██████████| 108/108 [00:06<00:00, 16.01it/s]\n"
     ]
    },
    {
     "name": "stdout",
     "output_type": "stream",
     "text": [
      "Iteration No: 44 ended. Search finished for the next optimal point.\n",
      "Time taken: 7.4939\n",
      "Function value obtained: -0.0429\n",
      "Current minimum: -0.0429\n",
      "Iteration No: 45 started. Searching for the next optimal point.\n",
      "[192, 0.05416835294068739, 23, 0.0009040662708896701]\n"
     ]
    },
    {
     "name": "stderr",
     "output_type": "stream",
     "text": [
      "Epoch: 100%|██████████| 192/192 [00:12<00:00, 15.65it/s]\n"
     ]
    },
    {
     "name": "stdout",
     "output_type": "stream",
     "text": [
      "Iteration No: 45 ended. Search finished for the next optimal point.\n",
      "Time taken: 13.0455\n",
      "Function value obtained: -0.0444\n",
      "Current minimum: -0.0444\n",
      "Iteration No: 46 started. Searching for the next optimal point.\n",
      "[195, 0.04331344703467425, 21, 0.001158429024129097]\n"
     ]
    },
    {
     "name": "stderr",
     "output_type": "stream",
     "text": [
      "Epoch: 100%|██████████| 195/195 [00:11<00:00, 16.78it/s]\n"
     ]
    },
    {
     "name": "stdout",
     "output_type": "stream",
     "text": [
      "Iteration No: 46 ended. Search finished for the next optimal point.\n",
      "Time taken: 12.5424\n",
      "Function value obtained: -0.0434\n",
      "Current minimum: -0.0444\n",
      "Iteration No: 47 started. Searching for the next optimal point.\n",
      "[200, 0.7607346931877987, 21, 0.0009283875902770927]\n"
     ]
    },
    {
     "name": "stderr",
     "output_type": "stream",
     "text": [
      "Epoch: 100%|██████████| 200/200 [00:18<00:00, 10.54it/s]\n"
     ]
    },
    {
     "name": "stdout",
     "output_type": "stream",
     "text": [
      "Iteration No: 47 ended. Search finished for the next optimal point.\n",
      "Time taken: 19.8418\n",
      "Function value obtained: -0.0003\n",
      "Current minimum: -0.0444\n",
      "Iteration No: 48 started. Searching for the next optimal point.\n",
      "[170, 0.060730242202265985, 24, 0.0010243611632095662]\n"
     ]
    },
    {
     "name": "stderr",
     "output_type": "stream",
     "text": [
      "Epoch: 100%|██████████| 170/170 [00:10<00:00, 15.57it/s]\n"
     ]
    },
    {
     "name": "stdout",
     "output_type": "stream",
     "text": [
      "Iteration No: 48 ended. Search finished for the next optimal point.\n",
      "Time taken: 11.7515\n",
      "Function value obtained: -0.0452\n",
      "Current minimum: -0.0452\n",
      "Iteration No: 49 started. Searching for the next optimal point.\n",
      "[192, 0.044461610245577966, 26, 0.000780633521005696]\n"
     ]
    },
    {
     "name": "stderr",
     "output_type": "stream",
     "text": [
      "Epoch: 100%|██████████| 192/192 [00:12<00:00, 15.70it/s]\n"
     ]
    },
    {
     "name": "stdout",
     "output_type": "stream",
     "text": [
      "Iteration No: 49 ended. Search finished for the next optimal point.\n",
      "Time taken: 13.0402\n",
      "Function value obtained: -0.0435\n",
      "Current minimum: -0.0452\n",
      "Iteration No: 50 started. Searching for the next optimal point.\n",
      "[196, 0.048039113062229515, 26, 0.0012585609308111132]\n"
     ]
    },
    {
     "name": "stderr",
     "output_type": "stream",
     "text": [
      "Epoch: 100%|██████████| 196/196 [00:12<00:00, 16.11it/s]\n"
     ]
    },
    {
     "name": "stdout",
     "output_type": "stream",
     "text": [
      "Iteration No: 50 ended. Search finished for the next optimal point.\n",
      "Time taken: 13.0938\n",
      "Function value obtained: -0.0426\n",
      "Current minimum: -0.0452\n",
      "Iteration No: 51 started. Searching for the next optimal point.\n",
      "[247, 0.0696903437530205, 23, 0.001466138167773293]\n"
     ]
    },
    {
     "name": "stderr",
     "output_type": "stream",
     "text": [
      "Epoch: 100%|██████████| 247/247 [00:18<00:00, 13.39it/s]\n"
     ]
    },
    {
     "name": "stdout",
     "output_type": "stream",
     "text": [
      "Iteration No: 51 ended. Search finished for the next optimal point.\n",
      "Time taken: 19.2812\n",
      "Function value obtained: -0.0411\n",
      "Current minimum: -0.0452\n",
      "Iteration No: 52 started. Searching for the next optimal point.\n",
      "[201, 0.06637508842567576, 21, 0.0007446878252555316]\n"
     ]
    },
    {
     "name": "stderr",
     "output_type": "stream",
     "text": [
      "Epoch: 100%|██████████| 201/201 [00:11<00:00, 16.86it/s]\n"
     ]
    },
    {
     "name": "stdout",
     "output_type": "stream",
     "text": [
      "Iteration No: 52 ended. Search finished for the next optimal point.\n",
      "Time taken: 12.7101\n",
      "Function value obtained: -0.0438\n",
      "Current minimum: -0.0452\n",
      "Iteration No: 53 started. Searching for the next optimal point.\n",
      "[190, 0.07583374788980164, 20, 0.0008262958414592335]\n"
     ]
    },
    {
     "name": "stderr",
     "output_type": "stream",
     "text": [
      "Epoch: 100%|██████████| 190/190 [00:10<00:00, 18.03it/s]\n"
     ]
    },
    {
     "name": "stdout",
     "output_type": "stream",
     "text": [
      "Iteration No: 53 ended. Search finished for the next optimal point.\n",
      "Time taken: 11.2602\n",
      "Function value obtained: -0.0444\n",
      "Current minimum: -0.0452\n",
      "Iteration No: 54 started. Searching for the next optimal point.\n",
      "[203, 0.048947367382245546, 21, 0.0038669950062702784]\n"
     ]
    },
    {
     "name": "stderr",
     "output_type": "stream",
     "text": [
      "Epoch: 100%|██████████| 203/203 [00:10<00:00, 18.50it/s]\n"
     ]
    },
    {
     "name": "stdout",
     "output_type": "stream",
     "text": [
      "Iteration No: 54 ended. Search finished for the next optimal point.\n",
      "Time taken: 11.6970\n",
      "Function value obtained: -0.0215\n",
      "Current minimum: -0.0452\n",
      "Iteration No: 55 started. Searching for the next optimal point.\n",
      "[226, 0.0770099838121126, 20, 0.000900074770342713]\n"
     ]
    },
    {
     "name": "stderr",
     "output_type": "stream",
     "text": [
      "Epoch: 100%|██████████| 226/226 [00:12<00:00, 18.07it/s]\n"
     ]
    },
    {
     "name": "stdout",
     "output_type": "stream",
     "text": [
      "Iteration No: 55 ended. Search finished for the next optimal point.\n",
      "Time taken: 13.2490\n",
      "Function value obtained: -0.0453\n",
      "Current minimum: -0.0453\n",
      "Iteration No: 56 started. Searching for the next optimal point.\n",
      "[173, 0.16881726301639513, 22, 0.0007434137926307128]\n"
     ]
    },
    {
     "name": "stderr",
     "output_type": "stream",
     "text": [
      "Epoch: 100%|██████████| 173/173 [00:10<00:00, 16.87it/s]\n"
     ]
    },
    {
     "name": "stdout",
     "output_type": "stream",
     "text": [
      "Iteration No: 56 ended. Search finished for the next optimal point.\n",
      "Time taken: 11.0404\n",
      "Function value obtained: -0.0162\n",
      "Current minimum: -0.0453\n",
      "Iteration No: 57 started. Searching for the next optimal point.\n",
      "[202, 0.11473917839311336, 24, 0.0005174265869907458]\n"
     ]
    },
    {
     "name": "stderr",
     "output_type": "stream",
     "text": [
      "Epoch: 100%|██████████| 202/202 [00:12<00:00, 16.47it/s]\n"
     ]
    },
    {
     "name": "stdout",
     "output_type": "stream",
     "text": [
      "Iteration No: 57 ended. Search finished for the next optimal point.\n",
      "Time taken: 13.0423\n",
      "Function value obtained: -0.0383\n",
      "Current minimum: -0.0453\n",
      "Iteration No: 58 started. Searching for the next optimal point.\n",
      "[195, 0.08288435447739112, 32, 0.0007185877899643006]\n"
     ]
    },
    {
     "name": "stderr",
     "output_type": "stream",
     "text": [
      "Epoch: 100%|██████████| 195/195 [00:13<00:00, 14.63it/s]\n"
     ]
    },
    {
     "name": "stdout",
     "output_type": "stream",
     "text": [
      "Iteration No: 58 ended. Search finished for the next optimal point.\n",
      "Time taken: 14.2422\n",
      "Function value obtained: -0.0417\n",
      "Current minimum: -0.0453\n",
      "Iteration No: 59 started. Searching for the next optimal point.\n",
      "[178, 0.12201787459502528, 20, 0.0007267148667263176]\n"
     ]
    },
    {
     "name": "stderr",
     "output_type": "stream",
     "text": [
      "Epoch: 100%|██████████| 178/178 [00:10<00:00, 17.52it/s]\n"
     ]
    },
    {
     "name": "stdout",
     "output_type": "stream",
     "text": [
      "Iteration No: 59 ended. Search finished for the next optimal point.\n",
      "Time taken: 10.9441\n",
      "Function value obtained: -0.0414\n",
      "Current minimum: -0.0453\n",
      "Iteration No: 60 started. Searching for the next optimal point.\n",
      "[202, 0.06615844972397365, 56, 0.0010252791486916573]\n"
     ]
    },
    {
     "name": "stderr",
     "output_type": "stream",
     "text": [
      "Epoch: 100%|██████████| 202/202 [00:18<00:00, 10.80it/s]\n"
     ]
    },
    {
     "name": "stdout",
     "output_type": "stream",
     "text": [
      "Iteration No: 60 ended. Search finished for the next optimal point.\n",
      "Time taken: 20.0667\n",
      "Function value obtained: -0.0480\n",
      "Current minimum: -0.0480\n",
      "Iteration No: 61 started. Searching for the next optimal point.\n",
      "[187, 0.11369843516870237, 123, 0.0008695966533912732]\n"
     ]
    },
    {
     "name": "stderr",
     "output_type": "stream",
     "text": [
      "Epoch: 100%|██████████| 187/187 [00:31<00:00,  5.87it/s]\n"
     ]
    },
    {
     "name": "stdout",
     "output_type": "stream",
     "text": [
      "Iteration No: 61 ended. Search finished for the next optimal point.\n",
      "Time taken: 34.6180\n",
      "Function value obtained: -0.0381\n",
      "Current minimum: -0.0480\n",
      "Iteration No: 62 started. Searching for the next optimal point.\n",
      "[181, 0.1292721563781123, 33, 0.0013295966591095616]\n"
     ]
    },
    {
     "name": "stderr",
     "output_type": "stream",
     "text": [
      "Epoch: 100%|██████████| 181/181 [00:12<00:00, 14.37it/s]\n"
     ]
    },
    {
     "name": "stdout",
     "output_type": "stream",
     "text": [
      "Iteration No: 62 ended. Search finished for the next optimal point.\n",
      "Time taken: 13.6125\n",
      "Function value obtained: -0.0204\n",
      "Current minimum: -0.0480\n",
      "Iteration No: 63 started. Searching for the next optimal point.\n",
      "[189, 0.09181420170067287, 41, 0.0010367484114087724]\n"
     ]
    },
    {
     "name": "stderr",
     "output_type": "stream",
     "text": [
      "Epoch: 100%|██████████| 189/189 [00:14<00:00, 12.69it/s]\n"
     ]
    },
    {
     "name": "stdout",
     "output_type": "stream",
     "text": [
      "Iteration No: 63 ended. Search finished for the next optimal point.\n",
      "Time taken: 16.0122\n",
      "Function value obtained: -0.0462\n",
      "Current minimum: -0.0480\n",
      "Iteration No: 64 started. Searching for the next optimal point.\n",
      "[187, 0.13769091985075949, 47, 0.001048991053813191]\n"
     ]
    },
    {
     "name": "stderr",
     "output_type": "stream",
     "text": [
      "Epoch: 100%|██████████| 187/187 [00:15<00:00, 11.90it/s]\n"
     ]
    },
    {
     "name": "stdout",
     "output_type": "stream",
     "text": [
      "Iteration No: 64 ended. Search finished for the next optimal point.\n",
      "Time taken: 16.9562\n",
      "Function value obtained: -0.0236\n",
      "Current minimum: -0.0480\n",
      "Iteration No: 65 started. Searching for the next optimal point.\n",
      "[203, 0.07694426736280413, 174, 0.0011109420011732492]\n"
     ]
    },
    {
     "name": "stderr",
     "output_type": "stream",
     "text": [
      "Epoch: 100%|██████████| 203/203 [00:45<00:00,  4.42it/s]\n"
     ]
    },
    {
     "name": "stdout",
     "output_type": "stream",
     "text": [
      "Iteration No: 65 ended. Search finished for the next optimal point.\n",
      "Time taken: 49.7297\n",
      "Function value obtained: -0.0450\n",
      "Current minimum: -0.0480\n",
      "Iteration No: 66 started. Searching for the next optimal point.\n",
      "[204, 0.10491791254332397, 45, 0.0009679706677408196]\n"
     ]
    },
    {
     "name": "stderr",
     "output_type": "stream",
     "text": [
      "Epoch: 100%|██████████| 204/204 [00:17<00:00, 11.88it/s]\n"
     ]
    },
    {
     "name": "stdout",
     "output_type": "stream",
     "text": [
      "Iteration No: 66 ended. Search finished for the next optimal point.\n",
      "Time taken: 18.3368\n",
      "Function value obtained: -0.0424\n",
      "Current minimum: -0.0480\n",
      "Iteration No: 67 started. Searching for the next optimal point.\n",
      "[197, 0.10664396395617873, 48, 0.001119537204980694]\n"
     ]
    },
    {
     "name": "stderr",
     "output_type": "stream",
     "text": [
      "Epoch: 100%|██████████| 197/197 [00:17<00:00, 11.35it/s]\n"
     ]
    },
    {
     "name": "stdout",
     "output_type": "stream",
     "text": [
      "Iteration No: 67 ended. Search finished for the next optimal point.\n",
      "Time taken: 18.7131\n",
      "Function value obtained: -0.0351\n",
      "Current minimum: -0.0480\n",
      "Iteration No: 68 started. Searching for the next optimal point.\n",
      "[204, 0.3869118219048909, 57, 0.0008541288988079438]\n"
     ]
    },
    {
     "name": "stderr",
     "output_type": "stream",
     "text": [
      "Epoch: 100%|██████████| 204/204 [00:20<00:00, 10.09it/s]\n"
     ]
    },
    {
     "name": "stdout",
     "output_type": "stream",
     "text": [
      "Iteration No: 68 ended. Search finished for the next optimal point.\n",
      "Time taken: 21.6752\n",
      "Function value obtained: -0.0005\n",
      "Current minimum: -0.0480\n",
      "Iteration No: 69 started. Searching for the next optimal point.\n",
      "[208, 0.07556502053404102, 52, 0.001535301692056045]\n"
     ]
    },
    {
     "name": "stderr",
     "output_type": "stream",
     "text": [
      "Epoch: 100%|██████████| 208/208 [00:18<00:00, 11.34it/s]\n"
     ]
    },
    {
     "name": "stdout",
     "output_type": "stream",
     "text": [
      "Iteration No: 69 ended. Search finished for the next optimal point.\n",
      "Time taken: 19.6037\n",
      "Function value obtained: -0.0370\n",
      "Current minimum: -0.0480\n",
      "Iteration No: 70 started. Searching for the next optimal point.\n",
      "[209, 0.06495900322997453, 57, 0.0012872777696408952]\n"
     ]
    },
    {
     "name": "stderr",
     "output_type": "stream",
     "text": [
      "Epoch: 100%|██████████| 209/209 [00:17<00:00, 12.18it/s]\n"
     ]
    },
    {
     "name": "stdout",
     "output_type": "stream",
     "text": [
      "Iteration No: 70 ended. Search finished for the next optimal point.\n",
      "Time taken: 18.5333\n",
      "Function value obtained: -0.0440\n",
      "Current minimum: -0.0480\n",
      "Iteration No: 71 started. Searching for the next optimal point.\n",
      "[200, 0.11353761440106622, 64, 0.0009944112319067368]\n"
     ]
    },
    {
     "name": "stderr",
     "output_type": "stream",
     "text": [
      "Epoch: 100%|██████████| 200/200 [00:17<00:00, 11.33it/s]\n"
     ]
    },
    {
     "name": "stdout",
     "output_type": "stream",
     "text": [
      "Iteration No: 71 ended. Search finished for the next optimal point.\n",
      "Time taken: 19.1236\n",
      "Function value obtained: -0.0370\n",
      "Current minimum: -0.0480\n",
      "Iteration No: 72 started. Searching for the next optimal point.\n",
      "[204, 0.11993359411268385, 69, 0.0008633515109142924]\n"
     ]
    },
    {
     "name": "stderr",
     "output_type": "stream",
     "text": [
      "Epoch: 100%|██████████| 204/204 [00:18<00:00, 10.83it/s]\n"
     ]
    },
    {
     "name": "stdout",
     "output_type": "stream",
     "text": [
      "Iteration No: 72 ended. Search finished for the next optimal point.\n",
      "Time taken: 20.3363\n",
      "Function value obtained: -0.0380\n",
      "Current minimum: -0.0480\n",
      "Iteration No: 73 started. Searching for the next optimal point.\n",
      "[200, 0.05961703922640875, 21, 0.012038635662695274]\n"
     ]
    },
    {
     "name": "stderr",
     "output_type": "stream",
     "text": [
      "Epoch: 100%|██████████| 200/200 [00:09<00:00, 21.75it/s]\n"
     ]
    },
    {
     "name": "stdout",
     "output_type": "stream",
     "text": [
      "Iteration No: 73 ended. Search finished for the next optimal point.\n",
      "Time taken: 9.9258\n",
      "Function value obtained: -0.0160\n",
      "Current minimum: -0.0480\n",
      "Iteration No: 74 started. Searching for the next optimal point.\n",
      "[222, 0.1545931749805142, 24, 0.000939926663176489]\n"
     ]
    },
    {
     "name": "stderr",
     "output_type": "stream",
     "text": [
      "Epoch: 100%|██████████| 222/222 [00:11<00:00, 19.65it/s]\n"
     ]
    },
    {
     "name": "stdout",
     "output_type": "stream",
     "text": [
      "Iteration No: 74 ended. Search finished for the next optimal point.\n",
      "Time taken: 12.0966\n",
      "Function value obtained: -0.0251\n",
      "Current minimum: -0.0480\n",
      "Iteration No: 75 started. Searching for the next optimal point.\n",
      "[226, 0.2882515030463495, 157, 0.0010178360769074744]\n"
     ]
    },
    {
     "name": "stderr",
     "output_type": "stream",
     "text": [
      "Epoch: 100%|██████████| 226/226 [00:51<00:00,  4.41it/s]\n"
     ]
    },
    {
     "name": "stdout",
     "output_type": "stream",
     "text": [
      "Iteration No: 75 ended. Search finished for the next optimal point.\n",
      "Time taken: 54.4431\n",
      "Function value obtained: -0.0005\n",
      "Current minimum: -0.0480\n",
      "Iteration No: 76 started. Searching for the next optimal point.\n",
      "[234, 0.08660189702023557, 161, 0.0009631518511899245]\n"
     ]
    },
    {
     "name": "stderr",
     "output_type": "stream",
     "text": [
      "Epoch: 100%|██████████| 234/234 [00:48<00:00,  4.83it/s]\n"
     ]
    },
    {
     "name": "stdout",
     "output_type": "stream",
     "text": [
      "Iteration No: 76 ended. Search finished for the next optimal point.\n",
      "Time taken: 51.6824\n",
      "Function value obtained: -0.0467\n",
      "Current minimum: -0.0480\n",
      "Iteration No: 77 started. Searching for the next optimal point.\n",
      "[222, 0.07767035361586198, 190, 0.0011595507556372924]\n"
     ]
    },
    {
     "name": "stderr",
     "output_type": "stream",
     "text": [
      "Epoch: 100%|██████████| 222/222 [00:53<00:00,  4.13it/s]\n"
     ]
    },
    {
     "name": "stdout",
     "output_type": "stream",
     "text": [
      "Iteration No: 77 ended. Search finished for the next optimal point.\n",
      "Time taken: 57.6226\n",
      "Function value obtained: -0.0439\n",
      "Current minimum: -0.0480\n",
      "Iteration No: 78 started. Searching for the next optimal point.\n",
      "[240, 0.08421614559125948, 160, 0.000493729036262931]\n"
     ]
    },
    {
     "name": "stderr",
     "output_type": "stream",
     "text": [
      "Epoch: 100%|██████████| 240/240 [00:41<00:00,  5.72it/s]\n"
     ]
    },
    {
     "name": "stdout",
     "output_type": "stream",
     "text": [
      "Iteration No: 78 ended. Search finished for the next optimal point.\n",
      "Time taken: 45.3189\n",
      "Function value obtained: -0.0118\n",
      "Current minimum: -0.0480\n",
      "Iteration No: 79 started. Searching for the next optimal point.\n",
      "[229, 0.0320779411780282, 162, 0.000857091362708434]\n"
     ]
    },
    {
     "name": "stderr",
     "output_type": "stream",
     "text": [
      "Epoch: 100%|██████████| 229/229 [00:50<00:00,  4.53it/s]\n"
     ]
    },
    {
     "name": "stdout",
     "output_type": "stream",
     "text": [
      "Iteration No: 79 ended. Search finished for the next optimal point.\n",
      "Time taken: 54.7184\n",
      "Function value obtained: -0.0489\n",
      "Current minimum: -0.0489\n",
      "Iteration No: 80 started. Searching for the next optimal point.\n",
      "[232, 0.04577759879791892, 156, 0.0007545347747521524]\n"
     ]
    },
    {
     "name": "stderr",
     "output_type": "stream",
     "text": [
      "Epoch: 100%|██████████| 232/232 [00:50<00:00,  4.59it/s]\n"
     ]
    },
    {
     "name": "stdout",
     "output_type": "stream",
     "text": [
      "Iteration No: 80 ended. Search finished for the next optimal point.\n",
      "Time taken: 53.9649\n",
      "Function value obtained: -0.0362\n",
      "Current minimum: -0.0489\n",
      "Iteration No: 81 started. Searching for the next optimal point.\n",
      "[221, 0.09537450074382958, 193, 0.0009938844546360465]\n"
     ]
    },
    {
     "name": "stderr",
     "output_type": "stream",
     "text": [
      "Epoch: 100%|██████████| 221/221 [00:58<00:00,  3.80it/s]\n"
     ]
    },
    {
     "name": "stdout",
     "output_type": "stream",
     "text": [
      "Iteration No: 81 ended. Search finished for the next optimal point.\n",
      "Time taken: 62.2522\n",
      "Function value obtained: -0.0410\n",
      "Current minimum: -0.0489\n",
      "Iteration No: 82 started. Searching for the next optimal point.\n",
      "[235, 0.07991780345371385, 162, 0.0009659552753770877]\n"
     ]
    },
    {
     "name": "stderr",
     "output_type": "stream",
     "text": [
      "Epoch: 100%|██████████| 235/235 [00:49<00:00,  4.73it/s]\n"
     ]
    },
    {
     "name": "stdout",
     "output_type": "stream",
     "text": [
      "Iteration No: 82 ended. Search finished for the next optimal point.\n",
      "Time taken: 53.0077\n",
      "Function value obtained: -0.0472\n",
      "Current minimum: -0.0489\n",
      "Iteration No: 83 started. Searching for the next optimal point.\n",
      "[226, 0.20365641821783956, 181, 0.0006878945968120392]\n"
     ]
    },
    {
     "name": "stderr",
     "output_type": "stream",
     "text": [
      "Epoch: 100%|██████████| 226/226 [00:55<00:00,  4.09it/s]\n"
     ]
    },
    {
     "name": "stdout",
     "output_type": "stream",
     "text": [
      "Iteration No: 83 ended. Search finished for the next optimal point.\n",
      "Time taken: 59.0376\n",
      "Function value obtained: -0.0024\n",
      "Current minimum: -0.0489\n",
      "Iteration No: 84 started. Searching for the next optimal point.\n",
      "[218, 0.12137812130465242, 182, 0.001263367195090907]\n"
     ]
    },
    {
     "name": "stderr",
     "output_type": "stream",
     "text": [
      "Epoch: 100%|██████████| 218/218 [00:49<00:00,  4.40it/s]\n"
     ]
    },
    {
     "name": "stdout",
     "output_type": "stream",
     "text": [
      "Iteration No: 84 ended. Search finished for the next optimal point.\n",
      "Time taken: 53.1656\n",
      "Function value obtained: -0.0121\n",
      "Current minimum: -0.0489\n",
      "Iteration No: 85 started. Searching for the next optimal point.\n",
      "[214, 0.07333577887812812, 183, 0.0008313563678813698]\n"
     ]
    },
    {
     "name": "stderr",
     "output_type": "stream",
     "text": [
      "Epoch: 100%|██████████| 214/214 [00:48<00:00,  4.37it/s]\n"
     ]
    },
    {
     "name": "stdout",
     "output_type": "stream",
     "text": [
      "Iteration No: 85 ended. Search finished for the next optimal point.\n",
      "Time taken: 52.7432\n",
      "Function value obtained: -0.0402\n",
      "Current minimum: -0.0489\n",
      "Iteration No: 86 started. Searching for the next optimal point.\n",
      "[255, 0.08019731436781252, 173, 0.0006780738108493046]\n"
     ]
    },
    {
     "name": "stderr",
     "output_type": "stream",
     "text": [
      "Epoch: 100%|██████████| 255/255 [00:54<00:00,  4.70it/s]\n"
     ]
    },
    {
     "name": "stdout",
     "output_type": "stream",
     "text": [
      "Iteration No: 86 ended. Search finished for the next optimal point.\n",
      "Time taken: 57.9060\n",
      "Function value obtained: -0.0239\n",
      "Current minimum: -0.0489\n",
      "Iteration No: 87 started. Searching for the next optimal point.\n",
      "[238, 0.0840371018009884, 195, 0.0011207140317288076]\n"
     ]
    },
    {
     "name": "stderr",
     "output_type": "stream",
     "text": [
      "Epoch: 100%|██████████| 238/238 [00:58<00:00,  4.05it/s]\n"
     ]
    },
    {
     "name": "stdout",
     "output_type": "stream",
     "text": [
      "Iteration No: 87 ended. Search finished for the next optimal point.\n",
      "Time taken: 62.6292\n",
      "Function value obtained: -0.0423\n",
      "Current minimum: -0.0489\n",
      "Iteration No: 88 started. Searching for the next optimal point.\n",
      "[229, 0.050332085982794914, 175, 0.001094463890429031]\n"
     ]
    },
    {
     "name": "stderr",
     "output_type": "stream",
     "text": [
      "Epoch: 100%|██████████| 229/229 [00:50<00:00,  4.50it/s]\n"
     ]
    },
    {
     "name": "stdout",
     "output_type": "stream",
     "text": [
      "Iteration No: 88 ended. Search finished for the next optimal point.\n",
      "Time taken: 54.5685\n",
      "Function value obtained: -0.0490\n",
      "Current minimum: -0.0490\n",
      "Iteration No: 89 started. Searching for the next optimal point.\n",
      "[227, 0.06951423169126167, 130, 0.001017166500694581]\n"
     ]
    },
    {
     "name": "stderr",
     "output_type": "stream",
     "text": [
      "Epoch: 100%|██████████| 227/227 [00:39<00:00,  5.71it/s]\n"
     ]
    },
    {
     "name": "stdout",
     "output_type": "stream",
     "text": [
      "Iteration No: 89 ended. Search finished for the next optimal point.\n",
      "Time taken: 42.4609\n",
      "Function value obtained: -0.0491\n",
      "Current minimum: -0.0491\n",
      "Iteration No: 90 started. Searching for the next optimal point.\n",
      "[230, 0.10011089700830318, 180, 0.000969794597990834]\n"
     ]
    },
    {
     "name": "stderr",
     "output_type": "stream",
     "text": [
      "Epoch: 100%|██████████| 230/230 [00:56<00:00,  4.08it/s]\n"
     ]
    },
    {
     "name": "stdout",
     "output_type": "stream",
     "text": [
      "Iteration No: 90 ended. Search finished for the next optimal point.\n",
      "Time taken: 60.3477\n",
      "Function value obtained: -0.0394\n",
      "Current minimum: -0.0491\n",
      "Iteration No: 91 started. Searching for the next optimal point.\n",
      "[226, 0.0009328318788166932, 162, 0.0009667732116167084]\n"
     ]
    },
    {
     "name": "stderr",
     "output_type": "stream",
     "text": [
      "Epoch: 100%|██████████| 226/226 [00:52<00:00,  4.34it/s]\n"
     ]
    },
    {
     "name": "stdout",
     "output_type": "stream",
     "text": [
      "Iteration No: 91 ended. Search finished for the next optimal point.\n",
      "Time taken: 55.3746\n",
      "Function value obtained: -0.0275\n",
      "Current minimum: -0.0491\n",
      "Iteration No: 92 started. Searching for the next optimal point.\n",
      "[214, 0.05349014359373086, 149, 0.0010329530926390165]\n"
     ]
    },
    {
     "name": "stderr",
     "output_type": "stream",
     "text": [
      "Epoch: 100%|██████████| 214/214 [00:44<00:00,  4.80it/s]\n"
     ]
    },
    {
     "name": "stdout",
     "output_type": "stream",
     "text": [
      "Iteration No: 92 ended. Search finished for the next optimal point.\n",
      "Time taken: 47.7142\n",
      "Function value obtained: -0.0496\n",
      "Current minimum: -0.0496\n",
      "Iteration No: 93 started. Searching for the next optimal point.\n",
      "[223, 0.05557603494161423, 188, 0.0006985180499474908]\n"
     ]
    },
    {
     "name": "stderr",
     "output_type": "stream",
     "text": [
      "Epoch: 100%|██████████| 223/223 [00:54<00:00,  4.06it/s]\n"
     ]
    },
    {
     "name": "stdout",
     "output_type": "stream",
     "text": [
      "Iteration No: 93 ended. Search finished for the next optimal point.\n",
      "Time taken: 58.8719\n",
      "Function value obtained: -0.0260\n",
      "Current minimum: -0.0496\n",
      "Iteration No: 94 started. Searching for the next optimal point.\n",
      "[220, 0.09760546469139189, 152, 0.0010821939796121546]\n"
     ]
    },
    {
     "name": "stderr",
     "output_type": "stream",
     "text": [
      "Epoch: 100%|██████████| 220/220 [00:47<00:00,  4.66it/s]\n"
     ]
    },
    {
     "name": "stdout",
     "output_type": "stream",
     "text": [
      "Iteration No: 94 ended. Search finished for the next optimal point.\n",
      "Time taken: 50.6710\n",
      "Function value obtained: -0.0378\n",
      "Current minimum: -0.0496\n",
      "Iteration No: 95 started. Searching for the next optimal point.\n",
      "[246, 0.11778457037887817, 161, 0.0010726896925411995]\n"
     ]
    },
    {
     "name": "stderr",
     "output_type": "stream",
     "text": [
      "Epoch: 100%|██████████| 246/246 [00:53<00:00,  4.58it/s]\n"
     ]
    },
    {
     "name": "stdout",
     "output_type": "stream",
     "text": [
      "Iteration No: 95 ended. Search finished for the next optimal point.\n",
      "Time taken: 57.2298\n",
      "Function value obtained: -0.0290\n",
      "Current minimum: -0.0496\n",
      "Iteration No: 96 started. Searching for the next optimal point.\n",
      "[229, 0.061157467339552705, 135, 0.004564697078110307]\n"
     ]
    },
    {
     "name": "stderr",
     "output_type": "stream",
     "text": [
      "Epoch: 100%|██████████| 229/229 [00:44<00:00,  5.18it/s]\n"
     ]
    },
    {
     "name": "stdout",
     "output_type": "stream",
     "text": [
      "Iteration No: 96 ended. Search finished for the next optimal point.\n",
      "Time taken: 47.3184\n",
      "Function value obtained: -0.0137\n",
      "Current minimum: -0.0496\n",
      "Iteration No: 97 started. Searching for the next optimal point.\n",
      "[225, 0.08118861999115147, 139, 0.0008396527377775547]\n"
     ]
    },
    {
     "name": "stderr",
     "output_type": "stream",
     "text": [
      "Epoch: 100%|██████████| 225/225 [00:46<00:00,  4.81it/s]\n"
     ]
    },
    {
     "name": "stdout",
     "output_type": "stream",
     "text": [
      "Iteration No: 97 ended. Search finished for the next optimal point.\n",
      "Time taken: 49.8521\n",
      "Function value obtained: -0.0425\n",
      "Current minimum: -0.0496\n",
      "Iteration No: 98 started. Searching for the next optimal point.\n",
      "[219, 0.048654698922879214, 163, 0.0010778172410051269]\n"
     ]
    },
    {
     "name": "stderr",
     "output_type": "stream",
     "text": [
      "Epoch: 100%|██████████| 219/219 [00:50<00:00,  4.33it/s]\n"
     ]
    },
    {
     "name": "stdout",
     "output_type": "stream",
     "text": [
      "Iteration No: 98 ended. Search finished for the next optimal point.\n",
      "Time taken: 54.4723\n",
      "Function value obtained: -0.0491\n",
      "Current minimum: -0.0496\n",
      "Iteration No: 99 started. Searching for the next optimal point.\n",
      "[226, 0.02576711777892786, 175, 0.0012763887599615952]\n"
     ]
    },
    {
     "name": "stderr",
     "output_type": "stream",
     "text": [
      "Epoch: 100%|██████████| 226/226 [01:00<00:00,  3.72it/s]\n"
     ]
    },
    {
     "name": "stdout",
     "output_type": "stream",
     "text": [
      "Iteration No: 99 ended. Search finished for the next optimal point.\n",
      "Time taken: 64.7842\n",
      "Function value obtained: -0.0460\n",
      "Current minimum: -0.0496\n",
      "Iteration No: 100 started. Searching for the next optimal point.\n",
      "[238, 0.033473427632002464, 159, 0.0012944928810611704]\n"
     ]
    },
    {
     "name": "stderr",
     "output_type": "stream",
     "text": [
      "Epoch: 100%|██████████| 238/238 [00:55<00:00,  4.27it/s]\n"
     ]
    },
    {
     "name": "stdout",
     "output_type": "stream",
     "text": [
      "Iteration No: 100 ended. Search finished for the next optimal point.\n",
      "Time taken: 59.1134\n",
      "Function value obtained: -0.0463\n",
      "Current minimum: -0.0496\n",
      "Iteration No: 101 started. Searching for the next optimal point.\n",
      "[240, 0.03552792178165558, 154, 0.0009180343701400621]\n"
     ]
    },
    {
     "name": "stderr",
     "output_type": "stream",
     "text": [
      "Epoch: 100%|██████████| 240/240 [00:51<00:00,  4.67it/s]\n"
     ]
    },
    {
     "name": "stdout",
     "output_type": "stream",
     "text": [
      "Iteration No: 101 ended. Search finished for the next optimal point.\n",
      "Time taken: 54.8856\n",
      "Function value obtained: -0.0500\n",
      "Current minimum: -0.0500\n",
      "Iteration No: 102 started. Searching for the next optimal point.\n",
      "[226, 0.0594141529446701, 126, 0.000942785014477709]\n"
     ]
    },
    {
     "name": "stderr",
     "output_type": "stream",
     "text": [
      "Epoch: 100%|██████████| 226/226 [00:43<00:00,  5.20it/s]\n"
     ]
    },
    {
     "name": "stdout",
     "output_type": "stream",
     "text": [
      "Iteration No: 102 ended. Search finished for the next optimal point.\n",
      "Time taken: 46.4385\n",
      "Function value obtained: -0.0494\n",
      "Current minimum: -0.0500\n",
      "Iteration No: 103 started. Searching for the next optimal point.\n",
      "[240, 0.06805414491347074, 148, 0.0010741973189005158]\n"
     ]
    },
    {
     "name": "stderr",
     "output_type": "stream",
     "text": [
      "Epoch: 100%|██████████| 240/240 [00:55<00:00,  4.35it/s]\n"
     ]
    },
    {
     "name": "stdout",
     "output_type": "stream",
     "text": [
      "Iteration No: 103 ended. Search finished for the next optimal point.\n",
      "Time taken: 58.2432\n",
      "Function value obtained: -0.0482\n",
      "Current minimum: -0.0500\n",
      "Iteration No: 104 started. Searching for the next optimal point.\n",
      "[229, 0.0312611722432589, 135, 0.0011664300139136007]\n"
     ]
    },
    {
     "name": "stderr",
     "output_type": "stream",
     "text": [
      "Epoch: 100%|██████████| 229/229 [00:45<00:00,  5.02it/s]\n"
     ]
    },
    {
     "name": "stdout",
     "output_type": "stream",
     "text": [
      "Iteration No: 104 ended. Search finished for the next optimal point.\n",
      "Time taken: 48.4254\n",
      "Function value obtained: -0.0467\n",
      "Current minimum: -0.0500\n",
      "Iteration No: 105 started. Searching for the next optimal point.\n",
      "[233, 0.057281197831581476, 167, 0.0015567487747870537]\n"
     ]
    },
    {
     "name": "stderr",
     "output_type": "stream",
     "text": [
      "Epoch: 100%|██████████| 233/233 [00:51<00:00,  4.51it/s]\n"
     ]
    },
    {
     "name": "stdout",
     "output_type": "stream",
     "text": [
      "Iteration No: 105 ended. Search finished for the next optimal point.\n",
      "Time taken: 55.0964\n",
      "Function value obtained: -0.0379\n",
      "Current minimum: -0.0500\n",
      "Iteration No: 106 started. Searching for the next optimal point.\n",
      "[234, 0.02896217802436714, 151, 0.0006921916944246507]\n"
     ]
    },
    {
     "name": "stderr",
     "output_type": "stream",
     "text": [
      "Epoch: 100%|██████████| 234/234 [00:44<00:00,  5.20it/s]\n"
     ]
    },
    {
     "name": "stdout",
     "output_type": "stream",
     "text": [
      "Iteration No: 106 ended. Search finished for the next optimal point.\n",
      "Time taken: 48.2210\n",
      "Function value obtained: -0.0414\n",
      "Current minimum: -0.0500\n",
      "Iteration No: 107 started. Searching for the next optimal point.\n",
      "[157, 0.06066269855435796, 117, 0.001056043655583269]\n"
     ]
    },
    {
     "name": "stderr",
     "output_type": "stream",
     "text": [
      "Epoch: 100%|██████████| 157/157 [00:25<00:00,  6.14it/s]\n"
     ]
    },
    {
     "name": "stdout",
     "output_type": "stream",
     "text": [
      "Iteration No: 107 ended. Search finished for the next optimal point.\n",
      "Time taken: 28.4394\n",
      "Function value obtained: -0.0486\n",
      "Current minimum: -0.0500\n",
      "Iteration No: 108 started. Searching for the next optimal point.\n",
      "[153, 0.06941794053013876, 138, 0.001233635241265793]\n"
     ]
    },
    {
     "name": "stderr",
     "output_type": "stream",
     "text": [
      "Epoch: 100%|██████████| 153/153 [00:34<00:00,  4.48it/s]\n"
     ]
    },
    {
     "name": "stdout",
     "output_type": "stream",
     "text": [
      "Iteration No: 108 ended. Search finished for the next optimal point.\n",
      "Time taken: 37.2073\n",
      "Function value obtained: -0.0446\n",
      "Current minimum: -0.0500\n",
      "Iteration No: 109 started. Searching for the next optimal point.\n",
      "[228, 0.06469220743544411, 116, 0.0009176574718445806]\n"
     ]
    },
    {
     "name": "stderr",
     "output_type": "stream",
     "text": [
      "Epoch: 100%|██████████| 228/228 [00:42<00:00,  5.37it/s]\n"
     ]
    },
    {
     "name": "stdout",
     "output_type": "stream",
     "text": [
      "Iteration No: 109 ended. Search finished for the next optimal point.\n",
      "Time taken: 44.9627\n",
      "Function value obtained: -0.0492\n",
      "Current minimum: -0.0500\n",
      "Iteration No: 110 started. Searching for the next optimal point.\n",
      "[231, 0.15663191197836926, 132, 0.0009748166282576208]\n"
     ]
    },
    {
     "name": "stderr",
     "output_type": "stream",
     "text": [
      "Epoch: 100%|██████████| 231/231 [00:42<00:00,  5.37it/s]\n"
     ]
    },
    {
     "name": "stdout",
     "output_type": "stream",
     "text": [
      "Iteration No: 110 ended. Search finished for the next optimal point.\n",
      "Time taken: 45.7646\n",
      "Function value obtained: -0.0086\n",
      "Current minimum: -0.0500\n",
      "Iteration No: 111 started. Searching for the next optimal point.\n",
      "[256, 0.05374627472157609, 127, 0.0008016912776426268]\n"
     ]
    },
    {
     "name": "stderr",
     "output_type": "stream",
     "text": [
      "Epoch: 100%|██████████| 256/256 [00:43<00:00,  5.83it/s]\n"
     ]
    },
    {
     "name": "stdout",
     "output_type": "stream",
     "text": [
      "Iteration No: 111 ended. Search finished for the next optimal point.\n",
      "Time taken: 46.6192\n",
      "Function value obtained: -0.0400\n",
      "Current minimum: -0.0500\n",
      "Iteration No: 112 started. Searching for the next optimal point.\n",
      "[235, 0.08982410526289969, 129, 0.0011173706793119328]\n"
     ]
    },
    {
     "name": "stderr",
     "output_type": "stream",
     "text": [
      "Epoch: 100%|██████████| 235/235 [00:41<00:00,  5.62it/s]\n"
     ]
    },
    {
     "name": "stdout",
     "output_type": "stream",
     "text": [
      "Iteration No: 112 ended. Search finished for the next optimal point.\n",
      "Time taken: 44.5490\n",
      "Function value obtained: -0.0409\n",
      "Current minimum: -0.0500\n",
      "Iteration No: 113 started. Searching for the next optimal point.\n",
      "[232, 0.040744909280320415, 130, 0.0010656760837029731]\n"
     ]
    },
    {
     "name": "stderr",
     "output_type": "stream",
     "text": [
      "Epoch: 100%|██████████| 232/232 [00:43<00:00,  5.39it/s]\n"
     ]
    },
    {
     "name": "stdout",
     "output_type": "stream",
     "text": [
      "Iteration No: 113 ended. Search finished for the next optimal point.\n",
      "Time taken: 45.9057\n",
      "Function value obtained: -0.0485\n",
      "Current minimum: -0.0500\n",
      "Iteration No: 114 started. Searching for the next optimal point.\n",
      "[112, 0.06314083380321213, 128, 0.0011263800772874446]\n"
     ]
    },
    {
     "name": "stderr",
     "output_type": "stream",
     "text": [
      "Epoch: 100%|██████████| 112/112 [00:30<00:00,  3.72it/s]\n"
     ]
    },
    {
     "name": "stdout",
     "output_type": "stream",
     "text": [
      "Iteration No: 114 ended. Search finished for the next optimal point.\n",
      "Time taken: 33.9304\n",
      "Function value obtained: -0.0464\n",
      "Current minimum: -0.0500\n",
      "Iteration No: 115 started. Searching for the next optimal point.\n",
      "[116, 0.07588377143844982, 197, 0.0009094916135465156]\n"
     ]
    },
    {
     "name": "stderr",
     "output_type": "stream",
     "text": [
      "Epoch: 100%|██████████| 116/116 [00:40<00:00,  2.85it/s]\n"
     ]
    },
    {
     "name": "stdout",
     "output_type": "stream",
     "text": [
      "Iteration No: 115 ended. Search finished for the next optimal point.\n",
      "Time taken: 44.9109\n",
      "Function value obtained: -0.0470\n",
      "Current minimum: -0.0500\n",
      "Iteration No: 116 started. Searching for the next optimal point.\n",
      "[234, 0.06373668157175714, 148, 0.000900294028969607]\n"
     ]
    },
    {
     "name": "stderr",
     "output_type": "stream",
     "text": [
      "Epoch: 100%|██████████| 234/234 [00:54<00:00,  4.26it/s]\n"
     ]
    },
    {
     "name": "stdout",
     "output_type": "stream",
     "text": [
      "Iteration No: 116 ended. Search finished for the next optimal point.\n",
      "Time taken: 58.0571\n",
      "Function value obtained: -0.0466\n",
      "Current minimum: -0.0500\n",
      "Iteration No: 117 started. Searching for the next optimal point.\n",
      "[124, 0.14205162298094046, 124, 0.0011174150518334126]\n"
     ]
    },
    {
     "name": "stderr",
     "output_type": "stream",
     "text": [
      "Epoch: 100%|██████████| 124/124 [00:22<00:00,  5.54it/s]\n"
     ]
    },
    {
     "name": "stdout",
     "output_type": "stream",
     "text": [
      "Iteration No: 117 ended. Search finished for the next optimal point.\n",
      "Time taken: 25.3501\n",
      "Function value obtained: -0.0061\n",
      "Current minimum: -0.0500\n",
      "Iteration No: 118 started. Searching for the next optimal point.\n",
      "[124, 0.04322022092963974, 155, 0.0011812255424637195]\n"
     ]
    },
    {
     "name": "stderr",
     "output_type": "stream",
     "text": [
      "Epoch: 100%|██████████| 124/124 [00:27<00:00,  4.43it/s]\n"
     ]
    },
    {
     "name": "stdout",
     "output_type": "stream",
     "text": [
      "Iteration No: 118 ended. Search finished for the next optimal point.\n",
      "Time taken: 31.2564\n",
      "Function value obtained: -0.0463\n",
      "Current minimum: -0.0500\n",
      "Iteration No: 119 started. Searching for the next optimal point.\n",
      "[111, 0.04858583160608017, 118, 0.001166974370143404]\n"
     ]
    },
    {
     "name": "stderr",
     "output_type": "stream",
     "text": [
      "Epoch: 100%|██████████| 111/111 [00:22<00:00,  4.98it/s]\n"
     ]
    },
    {
     "name": "stdout",
     "output_type": "stream",
     "text": [
      "Iteration No: 119 ended. Search finished for the next optimal point.\n",
      "Time taken: 25.0729\n",
      "Function value obtained: -0.0461\n",
      "Current minimum: -0.0500\n",
      "Iteration No: 120 started. Searching for the next optimal point.\n",
      "[111, 0.07989823540211866, 182, 0.0009814156498385526]\n"
     ]
    },
    {
     "name": "stderr",
     "output_type": "stream",
     "text": [
      "Epoch: 100%|██████████| 111/111 [00:28<00:00,  3.87it/s]\n"
     ]
    },
    {
     "name": "stdout",
     "output_type": "stream",
     "text": [
      "Iteration No: 120 ended. Search finished for the next optimal point.\n",
      "Time taken: 32.9202\n",
      "Function value obtained: -0.0456\n",
      "Current minimum: -0.0500\n",
      "Iteration No: 121 started. Searching for the next optimal point.\n",
      "[104, 0.06256611297206417, 125, 0.001297126879120426]\n"
     ]
    },
    {
     "name": "stderr",
     "output_type": "stream",
     "text": [
      "Epoch: 100%|██████████| 104/104 [00:18<00:00,  5.61it/s]\n"
     ]
    },
    {
     "name": "stdout",
     "output_type": "stream",
     "text": [
      "Iteration No: 121 ended. Search finished for the next optimal point.\n",
      "Time taken: 21.2927\n",
      "Function value obtained: -0.0437\n",
      "Current minimum: -0.0500\n",
      "Iteration No: 122 started. Searching for the next optimal point.\n",
      "[122, 0.06283414335715512, 100, 0.001066513824462317]\n"
     ]
    },
    {
     "name": "stderr",
     "output_type": "stream",
     "text": [
      "Epoch: 100%|██████████| 122/122 [00:18<00:00,  6.63it/s]\n"
     ]
    },
    {
     "name": "stdout",
     "output_type": "stream",
     "text": [
      "Iteration No: 122 ended. Search finished for the next optimal point.\n",
      "Time taken: 20.7466\n",
      "Function value obtained: -0.0475\n",
      "Current minimum: -0.0500\n",
      "Iteration No: 123 started. Searching for the next optimal point.\n",
      "[107, 0.09245814150920831, 127, 0.0010607185622329583]\n"
     ]
    },
    {
     "name": "stderr",
     "output_type": "stream",
     "text": [
      "Epoch: 100%|██████████| 107/107 [00:21<00:00,  5.03it/s]\n"
     ]
    },
    {
     "name": "stdout",
     "output_type": "stream",
     "text": [
      "Iteration No: 123 ended. Search finished for the next optimal point.\n",
      "Time taken: 24.2407\n",
      "Function value obtained: -0.0375\n",
      "Current minimum: -0.0500\n",
      "Iteration No: 124 started. Searching for the next optimal point.\n",
      "[121, 0.07280887611284538, 101, 0.0009901742777067054]\n"
     ]
    },
    {
     "name": "stderr",
     "output_type": "stream",
     "text": [
      "Epoch: 100%|██████████| 121/121 [00:18<00:00,  6.66it/s]\n"
     ]
    },
    {
     "name": "stdout",
     "output_type": "stream",
     "text": [
      "Iteration No: 124 ended. Search finished for the next optimal point.\n",
      "Time taken: 20.5401\n",
      "Function value obtained: -0.0472\n",
      "Current minimum: -0.0500\n",
      "Iteration No: 125 started. Searching for the next optimal point.\n",
      "[46, 0.07569552325862576, 108, 0.0009028060389452476]\n"
     ]
    },
    {
     "name": "stderr",
     "output_type": "stream",
     "text": [
      "Epoch: 100%|██████████| 46/46 [00:07<00:00,  6.33it/s]\n"
     ]
    },
    {
     "name": "stdout",
     "output_type": "stream",
     "text": [
      "Iteration No: 125 ended. Search finished for the next optimal point.\n",
      "Time taken: 9.7665\n",
      "Function value obtained: -0.0450\n",
      "Current minimum: -0.0500\n",
      "Iteration No: 126 started. Searching for the next optimal point.\n",
      "[50, 0.059201692432345736, 111, 0.0010711856780471663]\n"
     ]
    },
    {
     "name": "stderr",
     "output_type": "stream",
     "text": [
      "Epoch: 100%|██████████| 50/50 [00:07<00:00,  6.27it/s]\n"
     ]
    },
    {
     "name": "stdout",
     "output_type": "stream",
     "text": [
      "Iteration No: 126 ended. Search finished for the next optimal point.\n",
      "Time taken: 10.4773\n",
      "Function value obtained: -0.0463\n",
      "Current minimum: -0.0500\n",
      "Iteration No: 127 started. Searching for the next optimal point.\n",
      "[85, 0.03331575352258725, 128, 0.0030567088411931746]\n"
     ]
    },
    {
     "name": "stderr",
     "output_type": "stream",
     "text": [
      "Epoch: 100%|██████████| 85/85 [00:15<00:00,  5.46it/s]\n"
     ]
    },
    {
     "name": "stdout",
     "output_type": "stream",
     "text": [
      "Iteration No: 127 ended. Search finished for the next optimal point.\n",
      "Time taken: 18.4518\n",
      "Function value obtained: -0.0243\n",
      "Current minimum: -0.0500\n",
      "Iteration No: 128 started. Searching for the next optimal point.\n",
      "[53, 0.14981481503166952, 199, 0.0008222980816452626]\n"
     ]
    },
    {
     "name": "stderr",
     "output_type": "stream",
     "text": [
      "Epoch: 100%|██████████| 53/53 [00:14<00:00,  3.55it/s]\n"
     ]
    },
    {
     "name": "stdout",
     "output_type": "stream",
     "text": [
      "Iteration No: 128 ended. Search finished for the next optimal point.\n",
      "Time taken: 19.3142\n",
      "Function value obtained: -0.0039\n",
      "Current minimum: -0.0500\n",
      "Iteration No: 129 started. Searching for the next optimal point.\n",
      "[46, 0.06878754746131911, 172, 0.0010921376058004824]\n"
     ]
    },
    {
     "name": "stderr",
     "output_type": "stream",
     "text": [
      "Epoch: 100%|██████████| 46/46 [00:12<00:00,  3.82it/s]\n"
     ]
    },
    {
     "name": "stdout",
     "output_type": "stream",
     "text": [
      "Iteration No: 129 ended. Search finished for the next optimal point.\n",
      "Time taken: 15.5070\n",
      "Function value obtained: -0.0415\n",
      "Current minimum: -0.0500\n",
      "Iteration No: 130 started. Searching for the next optimal point.\n",
      "[64, 0.08819349299929585, 108, 0.0009652229456464489]\n"
     ]
    },
    {
     "name": "stderr",
     "output_type": "stream",
     "text": [
      "Epoch: 100%|██████████| 64/64 [00:10<00:00,  5.86it/s]\n"
     ]
    },
    {
     "name": "stdout",
     "output_type": "stream",
     "text": [
      "Iteration No: 130 ended. Search finished for the next optimal point.\n",
      "Time taken: 13.3722\n",
      "Function value obtained: -0.0394\n",
      "Current minimum: -0.0500\n",
      "Iteration No: 131 started. Searching for the next optimal point.\n",
      "[49, 0.06773931166138271, 184, 0.0009135419690554007]\n"
     ]
    },
    {
     "name": "stderr",
     "output_type": "stream",
     "text": [
      "Epoch: 100%|██████████| 49/49 [00:12<00:00,  3.95it/s]\n"
     ]
    },
    {
     "name": "stdout",
     "output_type": "stream",
     "text": [
      "Iteration No: 131 ended. Search finished for the next optimal point.\n",
      "Time taken: 16.5625\n",
      "Function value obtained: -0.0454\n",
      "Current minimum: -0.0500\n",
      "Iteration No: 132 started. Searching for the next optimal point.\n",
      "[41, 0.07367734550074276, 149, 0.0008243881438508752]\n"
     ]
    },
    {
     "name": "stderr",
     "output_type": "stream",
     "text": [
      "Epoch: 100%|██████████| 41/41 [00:09<00:00,  4.48it/s]\n"
     ]
    },
    {
     "name": "stdout",
     "output_type": "stream",
     "text": [
      "Iteration No: 132 ended. Search finished for the next optimal point.\n",
      "Time taken: 12.2715\n",
      "Function value obtained: -0.0431\n",
      "Current minimum: -0.0500\n",
      "Iteration No: 133 started. Searching for the next optimal point.\n",
      "[36, 0.10323502662260078, 199, 0.001280234240428551]\n"
     ]
    },
    {
     "name": "stderr",
     "output_type": "stream",
     "text": [
      "Epoch: 100%|██████████| 36/36 [00:09<00:00,  3.92it/s]\n"
     ]
    },
    {
     "name": "stdout",
     "output_type": "stream",
     "text": [
      "Iteration No: 133 ended. Search finished for the next optimal point.\n",
      "Time taken: 13.2456\n",
      "Function value obtained: -0.0099\n",
      "Current minimum: -0.0500\n",
      "Iteration No: 134 started. Searching for the next optimal point.\n",
      "[77, 0.06421050249370171, 187, 0.0008746029353686188]\n"
     ]
    },
    {
     "name": "stderr",
     "output_type": "stream",
     "text": [
      "Epoch: 100%|██████████| 77/77 [00:18<00:00,  4.27it/s]\n"
     ]
    },
    {
     "name": "stdout",
     "output_type": "stream",
     "text": [
      "Iteration No: 134 ended. Search finished for the next optimal point.\n",
      "Time taken: 21.9598\n",
      "Function value obtained: -0.0469\n",
      "Current minimum: -0.0500\n",
      "Iteration No: 135 started. Searching for the next optimal point.\n",
      "[51, 0.02891316298121742, 195, 0.0009998468159861742]\n"
     ]
    },
    {
     "name": "stderr",
     "output_type": "stream",
     "text": [
      "Epoch: 100%|██████████| 51/51 [00:13<00:00,  3.70it/s]\n"
     ]
    },
    {
     "name": "stdout",
     "output_type": "stream",
     "text": [
      "Iteration No: 135 ended. Search finished for the next optimal point.\n",
      "Time taken: 17.8840\n",
      "Function value obtained: -0.0454\n",
      "Current minimum: -0.0500\n",
      "Iteration No: 136 started. Searching for the next optimal point.\n",
      "[69, 0.06229041513964218, 195, 0.0009924778091750202]\n"
     ]
    },
    {
     "name": "stderr",
     "output_type": "stream",
     "text": [
      "Epoch: 100%|██████████| 69/69 [00:20<00:00,  3.42it/s]\n"
     ]
    },
    {
     "name": "stdout",
     "output_type": "stream",
     "text": [
      "Iteration No: 136 ended. Search finished for the next optimal point.\n",
      "Time taken: 24.4032\n",
      "Function value obtained: -0.0483\n",
      "Current minimum: -0.0500\n",
      "Iteration No: 137 started. Searching for the next optimal point.\n",
      "[36, 0.06348123660068417, 192, 0.001236763161031851]\n"
     ]
    },
    {
     "name": "stderr",
     "output_type": "stream",
     "text": [
      "Epoch: 100%|██████████| 36/36 [00:09<00:00,  3.88it/s]\n"
     ]
    },
    {
     "name": "stdout",
     "output_type": "stream",
     "text": [
      "Iteration No: 137 ended. Search finished for the next optimal point.\n",
      "Time taken: 13.1938\n",
      "Function value obtained: -0.0389\n",
      "Current minimum: -0.0500\n",
      "Iteration No: 138 started. Searching for the next optimal point.\n",
      "[56, 0.03344838090529451, 199, 0.0012260794565595917]\n"
     ]
    },
    {
     "name": "stderr",
     "output_type": "stream",
     "text": [
      "Epoch: 100%|██████████| 56/56 [00:14<00:00,  3.80it/s]\n"
     ]
    },
    {
     "name": "stdout",
     "output_type": "stream",
     "text": [
      "Iteration No: 138 ended. Search finished for the next optimal point.\n",
      "Time taken: 19.0223\n",
      "Function value obtained: -0.0460\n",
      "Current minimum: -0.0500\n",
      "Iteration No: 139 started. Searching for the next optimal point.\n",
      "[20, 0.02102281187392434, 200, 0.0009920850878969282]\n"
     ]
    },
    {
     "name": "stderr",
     "output_type": "stream",
     "text": [
      "Epoch: 100%|██████████| 20/20 [00:07<00:00,  2.74it/s]\n"
     ]
    },
    {
     "name": "stdout",
     "output_type": "stream",
     "text": [
      "Iteration No: 139 ended. Search finished for the next optimal point.\n",
      "Time taken: 12.0869\n",
      "Function value obtained: -0.0399\n",
      "Current minimum: -0.0500\n",
      "Iteration No: 140 started. Searching for the next optimal point.\n",
      "[66, 0.09134535299980363, 191, 0.0008929378937579027]\n"
     ]
    },
    {
     "name": "stderr",
     "output_type": "stream",
     "text": [
      "Epoch: 100%|██████████| 66/66 [00:19<00:00,  3.43it/s]\n"
     ]
    },
    {
     "name": "stdout",
     "output_type": "stream",
     "text": [
      "Iteration No: 140 ended. Search finished for the next optimal point.\n",
      "Time taken: 23.2873\n",
      "Function value obtained: -0.0377\n",
      "Current minimum: -0.0500\n",
      "Iteration No: 141 started. Searching for the next optimal point.\n",
      "[229, 0.06942420429070258, 157, 0.0009753406799641884]\n"
     ]
    },
    {
     "name": "stderr",
     "output_type": "stream",
     "text": [
      "Epoch: 100%|██████████| 229/229 [00:48<00:00,  4.69it/s]\n"
     ]
    },
    {
     "name": "stdout",
     "output_type": "stream",
     "text": [
      "Iteration No: 141 ended. Search finished for the next optimal point.\n",
      "Time taken: 52.0927\n",
      "Function value obtained: -0.0492\n",
      "Current minimum: -0.0500\n",
      "Iteration No: 142 started. Searching for the next optimal point.\n",
      "[103, 0.10769565709049696, 149, 0.0009785950398600819]\n"
     ]
    },
    {
     "name": "stderr",
     "output_type": "stream",
     "text": [
      "Epoch: 100%|██████████| 103/103 [00:20<00:00,  5.00it/s]\n"
     ]
    },
    {
     "name": "stdout",
     "output_type": "stream",
     "text": [
      "Iteration No: 142 ended. Search finished for the next optimal point.\n",
      "Time taken: 23.6999\n",
      "Function value obtained: -0.0321\n",
      "Current minimum: -0.0500\n",
      "Iteration No: 143 started. Searching for the next optimal point.\n",
      "[49, 0.08790775234189316, 118, 0.0011975339273918618]\n"
     ]
    },
    {
     "name": "stderr",
     "output_type": "stream",
     "text": [
      "Epoch: 100%|██████████| 49/49 [00:08<00:00,  5.67it/s]\n"
     ]
    },
    {
     "name": "stdout",
     "output_type": "stream",
     "text": [
      "Iteration No: 143 ended. Search finished for the next optimal point.\n",
      "Time taken: 11.3317\n",
      "Function value obtained: -0.0298\n",
      "Current minimum: -0.0500\n",
      "Iteration No: 144 started. Searching for the next optimal point.\n",
      "[225, 0.06029010084233241, 155, 0.0017033922574815035]\n"
     ]
    },
    {
     "name": "stderr",
     "output_type": "stream",
     "text": [
      "Epoch: 100%|██████████| 225/225 [00:46<00:00,  4.86it/s]\n"
     ]
    },
    {
     "name": "stdout",
     "output_type": "stream",
     "text": [
      "Iteration No: 144 ended. Search finished for the next optimal point.\n",
      "Time taken: 49.5737\n",
      "Function value obtained: -0.0316\n",
      "Current minimum: -0.0500\n",
      "Iteration No: 145 started. Searching for the next optimal point.\n",
      "[110, 0.07535619627572691, 105, 0.0006434156694170329]\n"
     ]
    },
    {
     "name": "stderr",
     "output_type": "stream",
     "text": [
      "Epoch: 100%|██████████| 110/110 [00:16<00:00,  6.64it/s]\n"
     ]
    },
    {
     "name": "stdout",
     "output_type": "stream",
     "text": [
      "Iteration No: 145 ended. Search finished for the next optimal point.\n",
      "Time taken: 18.9737\n",
      "Function value obtained: -0.0324\n",
      "Current minimum: -0.0500\n",
      "Iteration No: 146 started. Searching for the next optimal point.\n",
      "[52, 0.02903286297671858, 195, 0.0007548349022765948]\n"
     ]
    },
    {
     "name": "stderr",
     "output_type": "stream",
     "text": [
      "Epoch: 100%|██████████| 52/52 [00:12<00:00,  4.12it/s]\n"
     ]
    },
    {
     "name": "stdout",
     "output_type": "stream",
     "text": [
      "Iteration No: 146 ended. Search finished for the next optimal point.\n",
      "Time taken: 16.7405\n",
      "Function value obtained: -0.0472\n",
      "Current minimum: -0.0500\n",
      "Iteration No: 147 started. Searching for the next optimal point.\n",
      "[92, 0.026379320422347086, 196, 0.0007263588759662598]\n"
     ]
    },
    {
     "name": "stderr",
     "output_type": "stream",
     "text": [
      "Epoch: 100%|██████████| 92/92 [00:22<00:00,  4.08it/s]\n"
     ]
    },
    {
     "name": "stdout",
     "output_type": "stream",
     "text": [
      "Iteration No: 147 ended. Search finished for the next optimal point.\n",
      "Time taken: 26.7312\n",
      "Function value obtained: -0.0485\n",
      "Current minimum: -0.0500\n",
      "Iteration No: 148 started. Searching for the next optimal point.\n",
      "[79, 0.06099180241409855, 194, 0.0005777566231029376]\n"
     ]
    },
    {
     "name": "stderr",
     "output_type": "stream",
     "text": [
      "Epoch: 100%|██████████| 79/79 [00:18<00:00,  4.37it/s]\n"
     ]
    },
    {
     "name": "stdout",
     "output_type": "stream",
     "text": [
      "Iteration No: 148 ended. Search finished for the next optimal point.\n",
      "Time taken: 22.0849\n",
      "Function value obtained: -0.0232\n",
      "Current minimum: -0.0500\n",
      "Iteration No: 149 started. Searching for the next optimal point.\n",
      "[53, 0.0884869903402786, 188, 0.0013330391612632407]\n"
     ]
    },
    {
     "name": "stderr",
     "output_type": "stream",
     "text": [
      "Epoch: 100%|██████████| 53/53 [00:13<00:00,  4.02it/s]\n"
     ]
    },
    {
     "name": "stdout",
     "output_type": "stream",
     "text": [
      "Iteration No: 149 ended. Search finished for the next optimal point.\n",
      "Time taken: 17.0591\n",
      "Function value obtained: -0.0259\n",
      "Current minimum: -0.0500\n",
      "Iteration No: 150 started. Searching for the next optimal point.\n",
      "[40, 0.020756985112424426, 199, 0.0013927473436798534]\n"
     ]
    },
    {
     "name": "stderr",
     "output_type": "stream",
     "text": [
      "Epoch: 100%|██████████| 40/40 [00:10<00:00,  3.98it/s]\n"
     ]
    },
    {
     "name": "stdout",
     "output_type": "stream",
     "text": [
      "Iteration No: 150 ended. Search finished for the next optimal point.\n",
      "Time taken: 14.1057\n",
      "Function value obtained: -0.0399\n",
      "Current minimum: -0.0500\n",
      "Iteration No: 151 started. Searching for the next optimal point.\n",
      "[132, 0.1090873168122011, 182, 0.0008259578661465671]\n"
     ]
    },
    {
     "name": "stderr",
     "output_type": "stream",
     "text": [
      "Epoch: 100%|██████████| 132/132 [00:30<00:00,  4.29it/s]\n"
     ]
    },
    {
     "name": "stdout",
     "output_type": "stream",
     "text": [
      "Iteration No: 151 ended. Search finished for the next optimal point.\n",
      "Time taken: 34.4343\n",
      "Function value obtained: -0.0388\n",
      "Current minimum: -0.0500\n",
      "Iteration No: 152 started. Searching for the next optimal point.\n",
      "[88, 0.061956379281583554, 190, 0.0007233843707872719]\n"
     ]
    },
    {
     "name": "stderr",
     "output_type": "stream",
     "text": [
      "Epoch: 100%|██████████| 88/88 [00:20<00:00,  4.28it/s]\n"
     ]
    },
    {
     "name": "stdout",
     "output_type": "stream",
     "text": [
      "Iteration No: 152 ended. Search finished for the next optimal point.\n",
      "Time taken: 24.5402\n",
      "Function value obtained: -0.0359\n",
      "Current minimum: -0.0500\n",
      "Iteration No: 153 started. Searching for the next optimal point.\n",
      "[22, 0.07376073405261103, 200, 0.0013286868186697183]\n"
     ]
    },
    {
     "name": "stderr",
     "output_type": "stream",
     "text": [
      "Epoch: 100%|██████████| 22/22 [00:05<00:00,  3.76it/s]\n"
     ]
    },
    {
     "name": "stdout",
     "output_type": "stream",
     "text": [
      "Iteration No: 153 ended. Search finished for the next optimal point.\n",
      "Time taken: 9.9554\n",
      "Function value obtained: -0.0276\n",
      "Current minimum: -0.0500\n",
      "Iteration No: 154 started. Searching for the next optimal point.\n",
      "[99, 0.07025884938619154, 69, 0.0011748010613608533]\n"
     ]
    },
    {
     "name": "stderr",
     "output_type": "stream",
     "text": [
      "Epoch: 100%|██████████| 99/99 [00:11<00:00,  8.65it/s]\n"
     ]
    },
    {
     "name": "stdout",
     "output_type": "stream",
     "text": [
      "Iteration No: 154 ended. Search finished for the next optimal point.\n",
      "Time taken: 13.1135\n",
      "Function value obtained: -0.0447\n",
      "Current minimum: -0.0500\n",
      "Iteration No: 155 started. Searching for the next optimal point.\n",
      "[216, 0.06128165427544675, 132, 0.0009929968236443302]\n"
     ]
    },
    {
     "name": "stderr",
     "output_type": "stream",
     "text": [
      "Epoch: 100%|██████████| 216/216 [00:34<00:00,  6.30it/s]\n"
     ]
    },
    {
     "name": "stdout",
     "output_type": "stream",
     "text": [
      "Iteration No: 155 ended. Search finished for the next optimal point.\n",
      "Time taken: 37.0208\n",
      "Function value obtained: -0.0493\n",
      "Current minimum: -0.0500\n",
      "Iteration No: 156 started. Searching for the next optimal point.\n",
      "[243, 0.13455844021353983, 167, 0.0009383815055048409]\n"
     ]
    },
    {
     "name": "stderr",
     "output_type": "stream",
     "text": [
      "Epoch: 100%|██████████| 243/243 [00:43<00:00,  5.61it/s]\n"
     ]
    },
    {
     "name": "stdout",
     "output_type": "stream",
     "text": [
      "Iteration No: 156 ended. Search finished for the next optimal point.\n",
      "Time taken: 46.6612\n",
      "Function value obtained: -0.0117\n",
      "Current minimum: -0.0500\n",
      "Iteration No: 157 started. Searching for the next optimal point.\n",
      "[258, 0.02410502007079325, 109, 0.001028578506114059]\n"
     ]
    },
    {
     "name": "stderr",
     "output_type": "stream",
     "text": [
      "Epoch: 100%|██████████| 258/258 [00:35<00:00,  7.35it/s]\n"
     ]
    },
    {
     "name": "stdout",
     "output_type": "stream",
     "text": [
      "Iteration No: 157 ended. Search finished for the next optimal point.\n",
      "Time taken: 37.3746\n",
      "Function value obtained: -0.0473\n",
      "Current minimum: -0.0500\n",
      "Iteration No: 158 started. Searching for the next optimal point.\n",
      "[250, 0.05489768662585542, 165, 0.0010024970478760666]\n"
     ]
    },
    {
     "name": "stderr",
     "output_type": "stream",
     "text": [
      "Epoch: 100%|██████████| 250/250 [00:48<00:00,  5.16it/s]\n"
     ]
    },
    {
     "name": "stdout",
     "output_type": "stream",
     "text": [
      "Iteration No: 158 ended. Search finished for the next optimal point.\n",
      "Time taken: 51.9185\n",
      "Function value obtained: -0.0503\n",
      "Current minimum: -0.0503\n",
      "Iteration No: 159 started. Searching for the next optimal point.\n",
      "[246, 0.045332947995391816, 167, 0.0009566761097957702]\n"
     ]
    },
    {
     "name": "stderr",
     "output_type": "stream",
     "text": [
      "Epoch: 100%|██████████| 246/246 [00:46<00:00,  5.25it/s]\n"
     ]
    },
    {
     "name": "stdout",
     "output_type": "stream",
     "text": [
      "Iteration No: 159 ended. Search finished for the next optimal point.\n",
      "Time taken: 50.0666\n",
      "Function value obtained: -0.0503\n",
      "Current minimum: -0.0503\n",
      "Iteration No: 160 started. Searching for the next optimal point.\n",
      "[247, 0.02591330097374852, 170, 0.0006210944719433205]\n"
     ]
    },
    {
     "name": "stderr",
     "output_type": "stream",
     "text": [
      "Epoch: 100%|██████████| 247/247 [00:45<00:00,  5.48it/s]\n"
     ]
    },
    {
     "name": "stdout",
     "output_type": "stream",
     "text": [
      "Iteration No: 160 ended. Search finished for the next optimal point.\n",
      "Time taken: 48.5811\n",
      "Function value obtained: -0.0377\n",
      "Current minimum: -0.0503\n",
      "Iteration No: 161 started. Searching for the next optimal point.\n",
      "[125, 0.09983826900782551, 168, 0.0014263875512500544]\n"
     ]
    },
    {
     "name": "stderr",
     "output_type": "stream",
     "text": [
      "Epoch: 100%|██████████| 125/125 [00:23<00:00,  5.27it/s]\n"
     ]
    },
    {
     "name": "stdout",
     "output_type": "stream",
     "text": [
      "Iteration No: 161 ended. Search finished for the next optimal point.\n",
      "Time taken: 27.0512\n",
      "Function value obtained: -0.0234\n",
      "Current minimum: -0.0503\n",
      "Iteration No: 162 started. Searching for the next optimal point.\n",
      "[203, 0.05595333645139601, 77, 0.0009415093244091901]\n"
     ]
    },
    {
     "name": "stderr",
     "output_type": "stream",
     "text": [
      "Epoch: 100%|██████████| 203/203 [00:20<00:00,  9.93it/s]\n"
     ]
    },
    {
     "name": "stdout",
     "output_type": "stream",
     "text": [
      "Iteration No: 162 ended. Search finished for the next optimal point.\n",
      "Time taken: 22.2195\n",
      "Function value obtained: -0.0476\n",
      "Current minimum: -0.0503\n",
      "Iteration No: 163 started. Searching for the next optimal point.\n",
      "[239, 0.08797262988187338, 97, 0.0008931513898842259]\n"
     ]
    },
    {
     "name": "stderr",
     "output_type": "stream",
     "text": [
      "Epoch: 100%|██████████| 239/239 [00:29<00:00,  8.05it/s]\n"
     ]
    },
    {
     "name": "stdout",
     "output_type": "stream",
     "text": [
      "Iteration No: 163 ended. Search finished for the next optimal point.\n",
      "Time taken: 31.9577\n",
      "Function value obtained: -0.0461\n",
      "Current minimum: -0.0503\n",
      "Iteration No: 164 started. Searching for the next optimal point.\n",
      "[245, 0.030093771198307, 97, 0.0022244645767092513]\n"
     ]
    },
    {
     "name": "stderr",
     "output_type": "stream",
     "text": [
      "Epoch: 100%|██████████| 245/245 [00:29<00:00,  8.24it/s]\n"
     ]
    },
    {
     "name": "stdout",
     "output_type": "stream",
     "text": [
      "Iteration No: 164 ended. Search finished for the next optimal point.\n",
      "Time taken: 31.9722\n",
      "Function value obtained: -0.0316\n",
      "Current minimum: -0.0503\n",
      "Iteration No: 165 started. Searching for the next optimal point.\n",
      "[250, 0.07929520935844901, 164, 0.0008654813527450113]\n"
     ]
    },
    {
     "name": "stderr",
     "output_type": "stream",
     "text": [
      "Epoch: 100%|██████████| 250/250 [00:46<00:00,  5.42it/s]\n"
     ]
    },
    {
     "name": "stdout",
     "output_type": "stream",
     "text": [
      "Iteration No: 165 ended. Search finished for the next optimal point.\n",
      "Time taken: 49.4187\n",
      "Function value obtained: -0.0426\n",
      "Current minimum: -0.0503\n",
      "Iteration No: 166 started. Searching for the next optimal point.\n",
      "[164, 0.06710678423192198, 117, 0.00023198120061712396]\n"
     ]
    },
    {
     "name": "stderr",
     "output_type": "stream",
     "text": [
      "Epoch: 100%|██████████| 164/164 [00:18<00:00,  8.66it/s]\n"
     ]
    },
    {
     "name": "stdout",
     "output_type": "stream",
     "text": [
      "Iteration No: 166 ended. Search finished for the next optimal point.\n",
      "Time taken: 21.4468\n",
      "Function value obtained: -0.0113\n",
      "Current minimum: -0.0503\n",
      "Iteration No: 167 started. Searching for the next optimal point.\n",
      "[232, 0.06615265978759953, 47, 0.0009449196972269589]\n"
     ]
    },
    {
     "name": "stderr",
     "output_type": "stream",
     "text": [
      "Epoch: 100%|██████████| 232/232 [00:17<00:00, 13.49it/s]\n"
     ]
    },
    {
     "name": "stdout",
     "output_type": "stream",
     "text": [
      "Iteration No: 167 ended. Search finished for the next optimal point.\n",
      "Time taken: 18.4235\n",
      "Function value obtained: -0.0473\n",
      "Current minimum: -0.0503\n",
      "Iteration No: 168 started. Searching for the next optimal point.\n",
      "[209, 0.016062739446415095, 137, 0.0009960016703537394]\n"
     ]
    },
    {
     "name": "stderr",
     "output_type": "stream",
     "text": [
      "Epoch: 100%|██████████| 209/209 [00:33<00:00,  6.22it/s]\n"
     ]
    },
    {
     "name": "stdout",
     "output_type": "stream",
     "text": [
      "Iteration No: 168 ended. Search finished for the next optimal point.\n",
      "Time taken: 36.3671\n",
      "Function value obtained: -0.0450\n",
      "Current minimum: -0.0503\n",
      "Iteration No: 169 started. Searching for the next optimal point.\n",
      "[240, 0.08280293505109958, 121, 0.0007781824108255487]\n"
     ]
    },
    {
     "name": "stderr",
     "output_type": "stream",
     "text": [
      "Epoch: 100%|██████████| 240/240 [00:34<00:00,  6.96it/s]\n"
     ]
    },
    {
     "name": "stdout",
     "output_type": "stream",
     "text": [
      "Iteration No: 169 ended. Search finished for the next optimal point.\n",
      "Time taken: 36.9978\n",
      "Function value obtained: -0.0373\n",
      "Current minimum: -0.0503\n",
      "Iteration No: 170 started. Searching for the next optimal point.\n",
      "[3, 0.06986303077964913, 196, 0.0008922594242334109]\n"
     ]
    },
    {
     "name": "stderr",
     "output_type": "stream",
     "text": [
      "Epoch: 100%|██████████| 3/3 [00:00<00:00,  4.40it/s]\n"
     ]
    },
    {
     "name": "stdout",
     "output_type": "stream",
     "text": [
      "Iteration No: 170 ended. Search finished for the next optimal point.\n",
      "Time taken: 4.6992\n",
      "Function value obtained: -0.0291\n",
      "Current minimum: -0.0503\n",
      "Iteration No: 171 started. Searching for the next optimal point.\n",
      "[244, 0.10219298882049425, 129, 0.0009657478161270835]\n"
     ]
    },
    {
     "name": "stderr",
     "output_type": "stream",
     "text": [
      "Epoch: 100%|██████████| 244/244 [00:51<00:00,  4.75it/s]\n"
     ]
    },
    {
     "name": "stdout",
     "output_type": "stream",
     "text": [
      "Iteration No: 171 ended. Search finished for the next optimal point.\n",
      "Time taken: 54.7717\n",
      "Function value obtained: -0.0400\n",
      "Current minimum: -0.0503\n",
      "Iteration No: 172 started. Searching for the next optimal point.\n",
      "[220, 0.023366599821684948, 200, 0.0006534696899330364]\n"
     ]
    },
    {
     "name": "stderr",
     "output_type": "stream",
     "text": [
      "Epoch: 100%|██████████| 220/220 [00:55<00:00,  3.97it/s]\n"
     ]
    },
    {
     "name": "stdout",
     "output_type": "stream",
     "text": [
      "Iteration No: 172 ended. Search finished for the next optimal point.\n",
      "Time taken: 59.7381\n",
      "Function value obtained: -0.0418\n",
      "Current minimum: -0.0503\n",
      "Iteration No: 173 started. Searching for the next optimal point.\n",
      "[172, 0.0680281159006935, 53, 0.0008795090216034984]\n"
     ]
    },
    {
     "name": "stderr",
     "output_type": "stream",
     "text": [
      "Epoch: 100%|██████████| 172/172 [00:17<00:00,  9.67it/s]\n"
     ]
    },
    {
     "name": "stdout",
     "output_type": "stream",
     "text": [
      "Iteration No: 173 ended. Search finished for the next optimal point.\n",
      "Time taken: 19.1997\n",
      "Function value obtained: -0.0487\n",
      "Current minimum: -0.0503\n",
      "Iteration No: 174 started. Searching for the next optimal point.\n",
      "[42, 0.11848011910055575, 108, 0.0008958649857114485]\n"
     ]
    },
    {
     "name": "stderr",
     "output_type": "stream",
     "text": [
      "Epoch: 100%|██████████| 42/42 [00:06<00:00,  6.24it/s]\n"
     ]
    },
    {
     "name": "stdout",
     "output_type": "stream",
     "text": [
      "Iteration No: 174 ended. Search finished for the next optimal point.\n",
      "Time taken: 9.4785\n",
      "Function value obtained: -0.0184\n",
      "Current minimum: -0.0503\n",
      "Iteration No: 175 started. Searching for the next optimal point.\n",
      "[137, 0.08152156940405118, 61, 0.0010327157592118074]\n"
     ]
    },
    {
     "name": "stderr",
     "output_type": "stream",
     "text": [
      "Epoch: 100%|██████████| 137/137 [00:15<00:00,  8.60it/s]\n"
     ]
    },
    {
     "name": "stdout",
     "output_type": "stream",
     "text": [
      "Iteration No: 175 ended. Search finished for the next optimal point.\n",
      "Time taken: 17.4096\n",
      "Function value obtained: -0.0463\n",
      "Current minimum: -0.0503\n",
      "Iteration No: 176 started. Searching for the next optimal point.\n",
      "[49, 0.07756673396241849, 197, 0.0009090796193191511]\n"
     ]
    },
    {
     "name": "stderr",
     "output_type": "stream",
     "text": [
      "Epoch: 100%|██████████| 49/49 [00:12<00:00,  4.02it/s]\n"
     ]
    },
    {
     "name": "stdout",
     "output_type": "stream",
     "text": [
      "Iteration No: 176 ended. Search finished for the next optimal point.\n",
      "Time taken: 16.2113\n",
      "Function value obtained: -0.0460\n",
      "Current minimum: -0.0503\n",
      "Iteration No: 177 started. Searching for the next optimal point.\n",
      "[175, 0.06392402784405404, 122, 0.0007177973135355307]\n"
     ]
    },
    {
     "name": "stderr",
     "output_type": "stream",
     "text": [
      "Epoch: 100%|██████████| 175/175 [00:30<00:00,  5.68it/s]\n"
     ]
    },
    {
     "name": "stdout",
     "output_type": "stream",
     "text": [
      "Iteration No: 177 ended. Search finished for the next optimal point.\n",
      "Time taken: 33.5183\n",
      "Function value obtained: -0.0342\n",
      "Current minimum: -0.0503\n",
      "Iteration No: 178 started. Searching for the next optimal point.\n",
      "[36, 0.0769124995946762, 158, 0.0008826544036660952]\n"
     ]
    },
    {
     "name": "stderr",
     "output_type": "stream",
     "text": [
      "Epoch: 100%|██████████| 36/36 [00:07<00:00,  4.68it/s]\n"
     ]
    },
    {
     "name": "stdout",
     "output_type": "stream",
     "text": [
      "Iteration No: 178 ended. Search finished for the next optimal point.\n",
      "Time taken: 11.0647\n",
      "Function value obtained: -0.0433\n",
      "Current minimum: -0.0503\n",
      "Iteration No: 179 started. Searching for the next optimal point.\n",
      "[236, 0.0073346287132682545, 178, 0.0009774810311154658]\n"
     ]
    },
    {
     "name": "stderr",
     "output_type": "stream",
     "text": [
      "Epoch: 100%|██████████| 236/236 [00:54<00:00,  4.36it/s]\n"
     ]
    },
    {
     "name": "stdout",
     "output_type": "stream",
     "text": [
      "Iteration No: 179 ended. Search finished for the next optimal point.\n",
      "Time taken: 57.8204\n",
      "Function value obtained: -0.0384\n",
      "Current minimum: -0.0503\n",
      "Iteration No: 180 started. Searching for the next optimal point.\n",
      "[58, 0.03267290750961279, 194, 0.0004392683076355188]\n"
     ]
    },
    {
     "name": "stderr",
     "output_type": "stream",
     "text": [
      "Epoch: 100%|██████████| 58/58 [00:14<00:00,  4.11it/s]\n"
     ]
    },
    {
     "name": "stdout",
     "output_type": "stream",
     "text": [
      "Iteration No: 180 ended. Search finished for the next optimal point.\n",
      "Time taken: 18.1925\n",
      "Function value obtained: -0.0350\n",
      "Current minimum: -0.0503\n",
      "Iteration No: 181 started. Searching for the next optimal point.\n",
      "[119, 0.08027301054468129, 25, 0.0012281422333515158]\n"
     ]
    },
    {
     "name": "stderr",
     "output_type": "stream",
     "text": [
      "Epoch: 100%|██████████| 119/119 [00:08<00:00, 14.87it/s]\n"
     ]
    },
    {
     "name": "stdout",
     "output_type": "stream",
     "text": [
      "Iteration No: 181 ended. Search finished for the next optimal point.\n",
      "Time taken: 8.8540\n",
      "Function value obtained: -0.0422\n",
      "Current minimum: -0.0503\n",
      "Iteration No: 182 started. Searching for the next optimal point.\n",
      "[226, 0.10843393830947558, 114, 0.0009257903446513452]\n"
     ]
    },
    {
     "name": "stderr",
     "output_type": "stream",
     "text": [
      "Epoch: 100%|██████████| 226/226 [00:39<00:00,  5.72it/s]\n"
     ]
    },
    {
     "name": "stdout",
     "output_type": "stream",
     "text": [
      "Iteration No: 182 ended. Search finished for the next optimal point.\n",
      "Time taken: 42.1268\n",
      "Function value obtained: -0.0400\n",
      "Current minimum: -0.0503\n",
      "Iteration No: 183 started. Searching for the next optimal point.\n",
      "[217, 0.08644621503652448, 77, 0.0005814468342571733]\n"
     ]
    },
    {
     "name": "stderr",
     "output_type": "stream",
     "text": [
      "Epoch: 100%|██████████| 217/217 [00:24<00:00,  8.76it/s]\n"
     ]
    },
    {
     "name": "stdout",
     "output_type": "stream",
     "text": [
      "Iteration No: 183 ended. Search finished for the next optimal point.\n",
      "Time taken: 26.5325\n",
      "Function value obtained: -0.0299\n",
      "Current minimum: -0.0503\n",
      "Iteration No: 184 started. Searching for the next optimal point.\n",
      "[67, 0.0814503384868772, 198, 0.0008400361629594471]\n"
     ]
    },
    {
     "name": "stderr",
     "output_type": "stream",
     "text": [
      "Epoch: 100%|██████████| 67/67 [00:16<00:00,  4.09it/s]\n"
     ]
    },
    {
     "name": "stdout",
     "output_type": "stream",
     "text": [
      "Iteration No: 184 ended. Search finished for the next optimal point.\n",
      "Time taken: 20.4286\n",
      "Function value obtained: -0.0435\n",
      "Current minimum: -0.0503\n",
      "Iteration No: 185 started. Searching for the next optimal point.\n",
      "[44, 0.06903302857524204, 97, 0.0010489158713730263]\n"
     ]
    },
    {
     "name": "stderr",
     "output_type": "stream",
     "text": [
      "Epoch: 100%|██████████| 44/44 [00:06<00:00,  7.21it/s]\n"
     ]
    },
    {
     "name": "stdout",
     "output_type": "stream",
     "text": [
      "Iteration No: 185 ended. Search finished for the next optimal point.\n",
      "Time taken: 8.2921\n",
      "Function value obtained: -0.0434\n",
      "Current minimum: -0.0503\n",
      "Iteration No: 186 started. Searching for the next optimal point.\n",
      "[237, 0.11874357501515943, 116, 0.0009140007756018107]\n"
     ]
    },
    {
     "name": "stderr",
     "output_type": "stream",
     "text": [
      "Epoch: 100%|██████████| 237/237 [00:37<00:00,  6.33it/s]\n"
     ]
    },
    {
     "name": "stdout",
     "output_type": "stream",
     "text": [
      "Iteration No: 186 ended. Search finished for the next optimal point.\n",
      "Time taken: 39.9871\n",
      "Function value obtained: -0.0343\n",
      "Current minimum: -0.0503\n",
      "Iteration No: 187 started. Searching for the next optimal point.\n",
      "[115, 0.11100551439922306, 21, 0.0013051409210265432]\n"
     ]
    },
    {
     "name": "stderr",
     "output_type": "stream",
     "text": [
      "Epoch: 100%|██████████| 115/115 [00:06<00:00, 19.00it/s]\n"
     ]
    },
    {
     "name": "stdout",
     "output_type": "stream",
     "text": [
      "Iteration No: 187 ended. Search finished for the next optimal point.\n",
      "Time taken: 6.8167\n",
      "Function value obtained: -0.0272\n",
      "Current minimum: -0.0503\n",
      "Iteration No: 188 started. Searching for the next optimal point.\n",
      "[98, 0.12612570600690584, 190, 0.0007958956375623188]\n"
     ]
    },
    {
     "name": "stderr",
     "output_type": "stream",
     "text": [
      "Epoch: 100%|██████████| 98/98 [00:22<00:00,  4.36it/s]\n"
     ]
    },
    {
     "name": "stdout",
     "output_type": "stream",
     "text": [
      "Iteration No: 188 ended. Search finished for the next optimal point.\n",
      "Time taken: 26.3396\n",
      "Function value obtained: -0.0121\n",
      "Current minimum: -0.0503\n",
      "Iteration No: 189 started. Searching for the next optimal point.\n",
      "[166, 0.10452639331505265, 198, 0.001017180915753428]\n"
     ]
    },
    {
     "name": "stderr",
     "output_type": "stream",
     "text": [
      "Epoch: 100%|██████████| 166/166 [00:41<00:00,  4.03it/s]\n"
     ]
    },
    {
     "name": "stdout",
     "output_type": "stream",
     "text": [
      "Iteration No: 189 ended. Search finished for the next optimal point.\n",
      "Time taken: 45.2883\n",
      "Function value obtained: -0.0331\n",
      "Current minimum: -0.0503\n",
      "Iteration No: 190 started. Searching for the next optimal point.\n",
      "[175, 0.06262158337594426, 115, 0.0012765806586263987]\n"
     ]
    },
    {
     "name": "stderr",
     "output_type": "stream",
     "text": [
      "Epoch: 100%|██████████| 175/175 [00:30<00:00,  5.66it/s]\n"
     ]
    },
    {
     "name": "stdout",
     "output_type": "stream",
     "text": [
      "Iteration No: 190 ended. Search finished for the next optimal point.\n",
      "Time taken: 33.6669\n",
      "Function value obtained: -0.0450\n",
      "Current minimum: -0.0503\n",
      "Iteration No: 191 started. Searching for the next optimal point.\n",
      "[167, 0.06590131498829707, 102, 0.0008228213600935894]\n"
     ]
    },
    {
     "name": "stderr",
     "output_type": "stream",
     "text": [
      "Epoch: 100%|██████████| 167/167 [00:24<00:00,  6.80it/s]\n"
     ]
    },
    {
     "name": "stdout",
     "output_type": "stream",
     "text": [
      "Iteration No: 191 ended. Search finished for the next optimal point.\n",
      "Time taken: 26.9165\n",
      "Function value obtained: -0.0435\n",
      "Current minimum: -0.0503\n",
      "Iteration No: 192 started. Searching for the next optimal point.\n",
      "[36, 0.07165331660311654, 101, 0.0012477415503607573]\n"
     ]
    },
    {
     "name": "stderr",
     "output_type": "stream",
     "text": [
      "Epoch: 100%|██████████| 36/36 [00:05<00:00,  6.53it/s]\n"
     ]
    },
    {
     "name": "stdout",
     "output_type": "stream",
     "text": [
      "Iteration No: 192 ended. Search finished for the next optimal point.\n",
      "Time taken: 7.8534\n",
      "Function value obtained: -0.0364\n",
      "Current minimum: -0.0503\n",
      "Iteration No: 193 started. Searching for the next optimal point.\n",
      "[216, 0.03815962559673969, 115, 0.00023511889750724187]\n"
     ]
    },
    {
     "name": "stderr",
     "output_type": "stream",
     "text": [
      "Epoch: 100%|██████████| 216/216 [00:30<00:00,  6.98it/s]\n"
     ]
    },
    {
     "name": "stdout",
     "output_type": "stream",
     "text": [
      "Iteration No: 193 ended. Search finished for the next optimal point.\n",
      "Time taken: 33.6629\n",
      "Function value obtained: -0.0169\n",
      "Current minimum: -0.0503\n",
      "Iteration No: 194 started. Searching for the next optimal point.\n",
      "[70, 0.05308170462989967, 189, 0.0007872473052975226]\n"
     ]
    },
    {
     "name": "stderr",
     "output_type": "stream",
     "text": [
      "Epoch: 100%|██████████| 70/70 [00:16<00:00,  4.34it/s]\n"
     ]
    },
    {
     "name": "stdout",
     "output_type": "stream",
     "text": [
      "Iteration No: 194 ended. Search finished for the next optimal point.\n",
      "Time taken: 19.9566\n",
      "Function value obtained: -0.0450\n",
      "Current minimum: -0.0503\n",
      "Iteration No: 195 started. Searching for the next optimal point.\n",
      "[124, 0.009426661047230406, 138, 0.001024424734856454]\n"
     ]
    },
    {
     "name": "stderr",
     "output_type": "stream",
     "text": [
      "Epoch: 100%|██████████| 124/124 [00:23<00:00,  5.35it/s]\n"
     ]
    },
    {
     "name": "stdout",
     "output_type": "stream",
     "text": [
      "Iteration No: 195 ended. Search finished for the next optimal point.\n",
      "Time taken: 26.1511\n",
      "Function value obtained: -0.0353\n",
      "Current minimum: -0.0503\n",
      "Iteration No: 196 started. Searching for the next optimal point.\n",
      "[81, 0.10311647983473561, 184, 0.000789583193006117]\n"
     ]
    },
    {
     "name": "stderr",
     "output_type": "stream",
     "text": [
      "Epoch: 100%|██████████| 81/81 [00:19<00:00,  4.13it/s]\n"
     ]
    },
    {
     "name": "stdout",
     "output_type": "stream",
     "text": [
      "Iteration No: 196 ended. Search finished for the next optimal point.\n",
      "Time taken: 23.6821\n",
      "Function value obtained: -0.0369\n",
      "Current minimum: -0.0503\n",
      "Iteration No: 197 started. Searching for the next optimal point.\n",
      "[223, 0.0640923033431959, 150, 0.0010139453855731392]\n"
     ]
    },
    {
     "name": "stderr",
     "output_type": "stream",
     "text": [
      "Epoch: 100%|██████████| 223/223 [00:47<00:00,  4.72it/s]\n"
     ]
    },
    {
     "name": "stdout",
     "output_type": "stream",
     "text": [
      "Iteration No: 197 ended. Search finished for the next optimal point.\n",
      "Time taken: 50.6323\n",
      "Function value obtained: -0.0487\n",
      "Current minimum: -0.0503\n",
      "Iteration No: 198 started. Searching for the next optimal point.\n",
      "[40, 0.09986929367650516, 152, 0.0008350847635938896]\n"
     ]
    },
    {
     "name": "stderr",
     "output_type": "stream",
     "text": [
      "Epoch: 100%|██████████| 40/40 [00:08<00:00,  4.90it/s]\n"
     ]
    },
    {
     "name": "stdout",
     "output_type": "stream",
     "text": [
      "Iteration No: 198 ended. Search finished for the next optimal point.\n",
      "Time taken: 11.8191\n",
      "Function value obtained: -0.0361\n",
      "Current minimum: -0.0503\n",
      "Iteration No: 199 started. Searching for the next optimal point.\n",
      "[47, 0.1067227595811085, 200, 0.001009283969217101]\n"
     ]
    },
    {
     "name": "stderr",
     "output_type": "stream",
     "text": [
      "Epoch: 100%|██████████| 47/47 [00:12<00:00,  3.90it/s]\n"
     ]
    },
    {
     "name": "stdout",
     "output_type": "stream",
     "text": [
      "Iteration No: 199 ended. Search finished for the next optimal point.\n",
      "Time taken: 16.3785\n",
      "Function value obtained: -0.0187\n",
      "Current minimum: -0.0503\n",
      "Iteration No: 200 started. Searching for the next optimal point.\n",
      "[207, 0.015265246301560625, 28, 0.0009390354561219561]\n"
     ]
    },
    {
     "name": "stderr",
     "output_type": "stream",
     "text": [
      "Epoch: 100%|██████████| 207/207 [00:14<00:00, 14.01it/s]\n"
     ]
    },
    {
     "name": "stdout",
     "output_type": "stream",
     "text": [
      "Iteration No: 200 ended. Search finished for the next optimal point.\n",
      "Time taken: 15.6908\n",
      "Function value obtained: -0.0374\n",
      "Current minimum: -0.0503\n",
      "Iteration No: 201 started. Searching for the next optimal point.\n",
      "[253, 0.09459958849047961, 22, 0.0009303046462502356]\n"
     ]
    },
    {
     "name": "stderr",
     "output_type": "stream",
     "text": [
      "Epoch: 100%|██████████| 253/253 [00:15<00:00, 15.88it/s]\n"
     ]
    },
    {
     "name": "stdout",
     "output_type": "stream",
     "text": [
      "Iteration No: 201 ended. Search finished for the next optimal point.\n",
      "Time taken: 16.7347\n",
      "Function value obtained: -0.0445\n",
      "Current minimum: -0.0503\n",
      "Iteration No: 202 started. Searching for the next optimal point.\n",
      "[156, 0.08910175533943457, 57, 0.0008410986935197943]\n"
     ]
    },
    {
     "name": "stderr",
     "output_type": "stream",
     "text": [
      "Epoch: 100%|██████████| 156/156 [00:16<00:00,  9.62it/s]\n"
     ]
    },
    {
     "name": "stdout",
     "output_type": "stream",
     "text": [
      "Iteration No: 202 ended. Search finished for the next optimal point.\n",
      "Time taken: 17.6673\n",
      "Function value obtained: -0.0429\n",
      "Current minimum: -0.0503\n",
      "Iteration No: 203 started. Searching for the next optimal point.\n",
      "[231, 0.03581043254298799, 142, 0.0009701260154286028]\n"
     ]
    },
    {
     "name": "stderr",
     "output_type": "stream",
     "text": [
      "Epoch: 100%|██████████| 231/231 [00:45<00:00,  5.11it/s]\n"
     ]
    },
    {
     "name": "stdout",
     "output_type": "stream",
     "text": [
      "Iteration No: 203 ended. Search finished for the next optimal point.\n",
      "Time taken: 48.2343\n",
      "Function value obtained: -0.0493\n",
      "Current minimum: -0.0503\n",
      "Iteration No: 204 started. Searching for the next optimal point.\n",
      "[207, 0.03622806680932571, 167, 0.0009625684959030416]\n"
     ]
    },
    {
     "name": "stderr",
     "output_type": "stream",
     "text": [
      "Epoch: 100%|██████████| 207/207 [00:46<00:00,  4.47it/s]\n"
     ]
    },
    {
     "name": "stdout",
     "output_type": "stream",
     "text": [
      "Iteration No: 204 ended. Search finished for the next optimal point.\n",
      "Time taken: 49.7932\n",
      "Function value obtained: -0.0498\n",
      "Current minimum: -0.0503\n",
      "Iteration No: 205 started. Searching for the next optimal point.\n",
      "[152, 0.07170174398056053, 22, 0.0009755187552785785]\n"
     ]
    },
    {
     "name": "stderr",
     "output_type": "stream",
     "text": [
      "Epoch: 100%|██████████| 152/152 [00:09<00:00, 16.43it/s]\n"
     ]
    },
    {
     "name": "stdout",
     "output_type": "stream",
     "text": [
      "Iteration No: 205 ended. Search finished for the next optimal point.\n",
      "Time taken: 10.0463\n",
      "Function value obtained: -0.0452\n",
      "Current minimum: -0.0503\n",
      "Iteration No: 206 started. Searching for the next optimal point.\n",
      "[243, 0.05971281581246572, 182, 0.0012324223170326147]\n"
     ]
    },
    {
     "name": "stderr",
     "output_type": "stream",
     "text": [
      "Epoch: 100%|██████████| 243/243 [00:57<00:00,  4.20it/s]\n"
     ]
    },
    {
     "name": "stdout",
     "output_type": "stream",
     "text": [
      "Iteration No: 206 ended. Search finished for the next optimal point.\n",
      "Time taken: 61.7111\n",
      "Function value obtained: -0.0461\n",
      "Current minimum: -0.0503\n",
      "Iteration No: 207 started. Searching for the next optimal point.\n",
      "[52, 0.07137880836578545, 69, 0.0009579552455567275]\n"
     ]
    },
    {
     "name": "stderr",
     "output_type": "stream",
     "text": [
      "Epoch: 100%|██████████| 52/52 [00:06<00:00,  8.52it/s]\n"
     ]
    },
    {
     "name": "stdout",
     "output_type": "stream",
     "text": [
      "Iteration No: 207 ended. Search finished for the next optimal point.\n",
      "Time taken: 7.7297\n",
      "Function value obtained: -0.0442\n",
      "Current minimum: -0.0503\n",
      "Iteration No: 208 started. Searching for the next optimal point.\n",
      "[226, 0.06673246611380061, 158, 0.0008900953973066711]\n"
     ]
    },
    {
     "name": "stderr",
     "output_type": "stream",
     "text": [
      "Epoch: 100%|██████████| 226/226 [00:45<00:00,  4.94it/s]\n"
     ]
    },
    {
     "name": "stdout",
     "output_type": "stream",
     "text": [
      "Iteration No: 208 ended. Search finished for the next optimal point.\n",
      "Time taken: 49.1889\n",
      "Function value obtained: -0.0462\n",
      "Current minimum: -0.0503\n",
      "Iteration No: 209 started. Searching for the next optimal point.\n",
      "[246, 0.03638647717086802, 162, 0.0005608917275631545]\n"
     ]
    },
    {
     "name": "stderr",
     "output_type": "stream",
     "text": [
      "Epoch: 100%|██████████| 246/246 [00:53<00:00,  4.64it/s]\n"
     ]
    },
    {
     "name": "stdout",
     "output_type": "stream",
     "text": [
      "Iteration No: 209 ended. Search finished for the next optimal point.\n",
      "Time taken: 56.6147\n",
      "Function value obtained: -0.0223\n",
      "Current minimum: -0.0503\n",
      "Iteration No: 210 started. Searching for the next optimal point.\n",
      "[118, 0.07876483968298043, 82, 0.001272182379816463]\n"
     ]
    },
    {
     "name": "stderr",
     "output_type": "stream",
     "text": [
      "Epoch: 100%|██████████| 118/118 [00:17<00:00,  6.62it/s]\n"
     ]
    },
    {
     "name": "stdout",
     "output_type": "stream",
     "text": [
      "Iteration No: 210 ended. Search finished for the next optimal point.\n",
      "Time taken: 20.0593\n",
      "Function value obtained: -0.0369\n",
      "Current minimum: -0.0503\n",
      "Iteration No: 211 started. Searching for the next optimal point.\n",
      "[226, 0.047854853196609745, 184, 0.0010768419058143424]\n"
     ]
    },
    {
     "name": "stderr",
     "output_type": "stream",
     "text": [
      "Epoch: 100%|██████████| 226/226 [01:02<00:00,  3.63it/s]\n"
     ]
    },
    {
     "name": "stdout",
     "output_type": "stream",
     "text": [
      "Iteration No: 211 ended. Search finished for the next optimal point.\n",
      "Time taken: 66.2069\n",
      "Function value obtained: -0.0492\n",
      "Current minimum: -0.0503\n",
      "Iteration No: 212 started. Searching for the next optimal point.\n",
      "[256, 0.0850878944237131, 189, 0.0007833087530674908]\n"
     ]
    },
    {
     "name": "stderr",
     "output_type": "stream",
     "text": [
      "Epoch: 100%|██████████| 256/256 [01:11<00:00,  3.58it/s]\n"
     ]
    },
    {
     "name": "stdout",
     "output_type": "stream",
     "text": [
      "Iteration No: 212 ended. Search finished for the next optimal point.\n",
      "Time taken: 75.9396\n",
      "Function value obtained: -0.0340\n",
      "Current minimum: -0.0503\n",
      "Iteration No: 213 started. Searching for the next optimal point.\n",
      "[54, 0.0630806040127148, 67, 0.0009345125632548827]\n"
     ]
    },
    {
     "name": "stderr",
     "output_type": "stream",
     "text": [
      "Epoch: 100%|██████████| 54/54 [00:07<00:00,  7.41it/s]\n"
     ]
    },
    {
     "name": "stdout",
     "output_type": "stream",
     "text": [
      "Iteration No: 213 ended. Search finished for the next optimal point.\n",
      "Time taken: 9.0546\n",
      "Function value obtained: -0.0465\n",
      "Current minimum: -0.0503\n",
      "Iteration No: 214 started. Searching for the next optimal point.\n",
      "[241, 0.13536716321292452, 70, 0.0009507544050957906]\n"
     ]
    },
    {
     "name": "stderr",
     "output_type": "stream",
     "text": [
      "Epoch: 100%|██████████| 241/241 [00:33<00:00,  7.25it/s]\n"
     ]
    },
    {
     "name": "stdout",
     "output_type": "stream",
     "text": [
      "Iteration No: 214 ended. Search finished for the next optimal point.\n",
      "Time taken: 34.9236\n",
      "Function value obtained: -0.0285\n",
      "Current minimum: -0.0503\n",
      "Iteration No: 215 started. Searching for the next optimal point.\n",
      "[216, 0.04333160152715754, 179, 0.0009270126631194884]\n"
     ]
    },
    {
     "name": "stderr",
     "output_type": "stream",
     "text": [
      "Epoch: 100%|██████████| 216/216 [00:53<00:00,  4.05it/s]\n"
     ]
    },
    {
     "name": "stdout",
     "output_type": "stream",
     "text": [
      "Iteration No: 215 ended. Search finished for the next optimal point.\n",
      "Time taken: 57.0228\n",
      "Function value obtained: -0.0494\n",
      "Current minimum: -0.0503\n",
      "Iteration No: 216 started. Searching for the next optimal point.\n",
      "[56, 0.10138437901710051, 35, 0.0008673215053613299]\n"
     ]
    },
    {
     "name": "stderr",
     "output_type": "stream",
     "text": [
      "Epoch: 100%|██████████| 56/56 [00:04<00:00, 13.46it/s]\n"
     ]
    },
    {
     "name": "stdout",
     "output_type": "stream",
     "text": [
      "Iteration No: 216 ended. Search finished for the next optimal point.\n",
      "Time taken: 5.2553\n",
      "Function value obtained: -0.0386\n",
      "Current minimum: -0.0503\n",
      "Iteration No: 217 started. Searching for the next optimal point.\n",
      "[250, 0.04446410350466057, 189, 0.0008253107535754601]\n"
     ]
    },
    {
     "name": "stderr",
     "output_type": "stream",
     "text": [
      "Epoch: 100%|██████████| 250/250 [00:59<00:00,  4.22it/s]\n"
     ]
    },
    {
     "name": "stdout",
     "output_type": "stream",
     "text": [
      "Iteration No: 217 ended. Search finished for the next optimal point.\n",
      "Time taken: 63.2954\n",
      "Function value obtained: -0.0400\n",
      "Current minimum: -0.0503\n",
      "Iteration No: 218 started. Searching for the next optimal point.\n",
      "[225, 0.12300520503786824, 165, 0.0008683261881527596]\n"
     ]
    },
    {
     "name": "stderr",
     "output_type": "stream",
     "text": [
      "Epoch: 100%|██████████| 225/225 [00:51<00:00,  4.37it/s]\n"
     ]
    },
    {
     "name": "stdout",
     "output_type": "stream",
     "text": [
      "Iteration No: 218 ended. Search finished for the next optimal point.\n",
      "Time taken: 55.0125\n",
      "Function value obtained: -0.0295\n",
      "Current minimum: -0.0503\n",
      "Iteration No: 219 started. Searching for the next optimal point.\n",
      "[152, 0.12570331418027111, 93, 0.0009468297860576458]\n"
     ]
    },
    {
     "name": "stderr",
     "output_type": "stream",
     "text": [
      "Epoch: 100%|██████████| 152/152 [00:20<00:00,  7.27it/s]\n"
     ]
    },
    {
     "name": "stdout",
     "output_type": "stream",
     "text": [
      "Iteration No: 219 ended. Search finished for the next optimal point.\n",
      "Time taken: 23.1326\n",
      "Function value obtained: -0.0309\n",
      "Current minimum: -0.0503\n",
      "Iteration No: 220 started. Searching for the next optimal point.\n",
      "[46, 0.08148783585881768, 199, 0.0009558621991303072]\n"
     ]
    },
    {
     "name": "stderr",
     "output_type": "stream",
     "text": [
      "Epoch: 100%|██████████| 46/46 [00:12<00:00,  3.81it/s]\n"
     ]
    },
    {
     "name": "stdout",
     "output_type": "stream",
     "text": [
      "Iteration No: 220 ended. Search finished for the next optimal point.\n",
      "Time taken: 16.1742\n",
      "Function value obtained: -0.0395\n",
      "Current minimum: -0.0503\n",
      "Iteration No: 221 started. Searching for the next optimal point.\n",
      "[247, 0.024945159189244313, 195, 0.0009654462109161177]\n"
     ]
    },
    {
     "name": "stderr",
     "output_type": "stream",
     "text": [
      "Epoch: 100%|██████████| 247/247 [01:03<00:00,  3.87it/s]\n"
     ]
    },
    {
     "name": "stdout",
     "output_type": "stream",
     "text": [
      "Iteration No: 221 ended. Search finished for the next optimal point.\n",
      "Time taken: 68.2623\n",
      "Function value obtained: -0.0496\n",
      "Current minimum: -0.0503\n",
      "Iteration No: 222 started. Searching for the next optimal point.\n",
      "[35, 0.056969465454521605, 83, 0.0010715070042191205]\n"
     ]
    },
    {
     "name": "stderr",
     "output_type": "stream",
     "text": [
      "Epoch: 100%|██████████| 35/35 [00:05<00:00,  6.73it/s]\n"
     ]
    },
    {
     "name": "stdout",
     "output_type": "stream",
     "text": [
      "Iteration No: 222 ended. Search finished for the next optimal point.\n",
      "Time taken: 7.1433\n",
      "Function value obtained: -0.0451\n",
      "Current minimum: -0.0503\n",
      "Iteration No: 223 started. Searching for the next optimal point.\n",
      "[208, 0.049754352931884106, 147, 0.0013260793940914474]\n"
     ]
    },
    {
     "name": "stderr",
     "output_type": "stream",
     "text": [
      "Epoch: 100%|██████████| 208/208 [00:47<00:00,  4.36it/s]\n"
     ]
    },
    {
     "name": "stdout",
     "output_type": "stream",
     "text": [
      "Iteration No: 223 ended. Search finished for the next optimal point.\n",
      "Time taken: 51.2523\n",
      "Function value obtained: -0.0447\n",
      "Current minimum: -0.0503\n",
      "Iteration No: 224 started. Searching for the next optimal point.\n",
      "[29, 0.07713596177970865, 22, 0.0009881451277392675]\n"
     ]
    },
    {
     "name": "stderr",
     "output_type": "stream",
     "text": [
      "Epoch: 100%|██████████| 29/29 [00:02<00:00, 13.47it/s]\n"
     ]
    },
    {
     "name": "stdout",
     "output_type": "stream",
     "text": [
      "Iteration No: 224 ended. Search finished for the next optimal point.\n",
      "Time taken: 3.0775\n",
      "Function value obtained: -0.0410\n",
      "Current minimum: -0.0503\n",
      "Iteration No: 225 started. Searching for the next optimal point.\n",
      "[5, 0.03463110814895712, 124, 0.0009693254428001226]\n"
     ]
    },
    {
     "name": "stderr",
     "output_type": "stream",
     "text": [
      "Epoch: 100%|██████████| 5/5 [00:00<00:00,  5.18it/s]\n"
     ]
    },
    {
     "name": "stdout",
     "output_type": "stream",
     "text": [
      "Iteration No: 225 ended. Search finished for the next optimal point.\n",
      "Time taken: 3.8904\n",
      "Function value obtained: -0.0339\n",
      "Current minimum: -0.0503\n",
      "Iteration No: 226 started. Searching for the next optimal point.\n",
      "[216, 0.03175548206167581, 77, 0.0008391306383354214]\n"
     ]
    },
    {
     "name": "stderr",
     "output_type": "stream",
     "text": [
      "Epoch: 100%|██████████| 216/216 [00:30<00:00,  6.99it/s]\n"
     ]
    },
    {
     "name": "stdout",
     "output_type": "stream",
     "text": [
      "Iteration No: 226 ended. Search finished for the next optimal point.\n",
      "Time taken: 32.6773\n",
      "Function value obtained: -0.0483\n",
      "Current minimum: -0.0503\n",
      "Iteration No: 227 started. Searching for the next optimal point.\n",
      "[154, 0.071275742606353, 22, 0.00036954637543123515]\n"
     ]
    },
    {
     "name": "stderr",
     "output_type": "stream",
     "text": [
      "Epoch: 100%|██████████| 154/154 [00:12<00:00, 12.53it/s]\n"
     ]
    },
    {
     "name": "stdout",
     "output_type": "stream",
     "text": [
      "Iteration No: 227 ended. Search finished for the next optimal point.\n",
      "Time taken: 13.1142\n",
      "Function value obtained: -0.0348\n",
      "Current minimum: -0.0503\n",
      "Iteration No: 228 started. Searching for the next optimal point.\n",
      "[224, 0.07042031514134112, 198, 0.001328965129720211]\n"
     ]
    },
    {
     "name": "stderr",
     "output_type": "stream",
     "text": [
      "Epoch: 100%|██████████| 224/224 [01:02<00:00,  3.59it/s]\n"
     ]
    },
    {
     "name": "stdout",
     "output_type": "stream",
     "text": [
      "Iteration No: 228 ended. Search finished for the next optimal point.\n",
      "Time taken: 66.6796\n",
      "Function value obtained: -0.0417\n",
      "Current minimum: -0.0503\n",
      "Iteration No: 229 started. Searching for the next optimal point.\n",
      "[198, 0.07372805362650395, 164, 0.001290569722015914]\n"
     ]
    },
    {
     "name": "stderr",
     "output_type": "stream",
     "text": [
      "Epoch: 100%|██████████| 198/198 [00:50<00:00,  3.94it/s]\n"
     ]
    },
    {
     "name": "stdout",
     "output_type": "stream",
     "text": [
      "Iteration No: 229 ended. Search finished for the next optimal point.\n",
      "Time taken: 54.1064\n",
      "Function value obtained: -0.0419\n",
      "Current minimum: -0.0503\n",
      "Iteration No: 230 started. Searching for the next optimal point.\n",
      "[254, 0.06168974167025431, 167, 0.0010054740743900864]\n"
     ]
    },
    {
     "name": "stderr",
     "output_type": "stream",
     "text": [
      "Epoch: 100%|██████████| 254/254 [00:59<00:00,  4.29it/s]\n"
     ]
    },
    {
     "name": "stdout",
     "output_type": "stream",
     "text": [
      "Iteration No: 230 ended. Search finished for the next optimal point.\n",
      "Time taken: 62.8831\n",
      "Function value obtained: -0.0499\n",
      "Current minimum: -0.0503\n",
      "Iteration No: 231 started. Searching for the next optimal point.\n",
      "[218, 0.046459523581718364, 99, 0.0006967983881517696]\n"
     ]
    },
    {
     "name": "stderr",
     "output_type": "stream",
     "text": [
      "Epoch: 100%|██████████| 218/218 [00:37<00:00,  5.83it/s]\n"
     ]
    },
    {
     "name": "stdout",
     "output_type": "stream",
     "text": [
      "Iteration No: 231 ended. Search finished for the next optimal point.\n",
      "Time taken: 39.9711\n",
      "Function value obtained: -0.0370\n",
      "Current minimum: -0.0503\n",
      "Iteration No: 232 started. Searching for the next optimal point.\n",
      "[225, 0.05601301274876489, 161, 0.0010646063394400647]\n"
     ]
    },
    {
     "name": "stderr",
     "output_type": "stream",
     "text": [
      "Epoch: 100%|██████████| 225/225 [00:51<00:00,  4.35it/s]\n"
     ]
    },
    {
     "name": "stdout",
     "output_type": "stream",
     "text": [
      "Iteration No: 232 ended. Search finished for the next optimal point.\n",
      "Time taken: 54.9938\n",
      "Function value obtained: -0.0496\n",
      "Current minimum: -0.0503\n",
      "Iteration No: 233 started. Searching for the next optimal point.\n",
      "[47, 0.05570822199577392, 90, 0.0013498248244263491]\n"
     ]
    },
    {
     "name": "stderr",
     "output_type": "stream",
     "text": [
      "Epoch: 100%|██████████| 47/47 [00:07<00:00,  6.36it/s]\n"
     ]
    },
    {
     "name": "stdout",
     "output_type": "stream",
     "text": [
      "Iteration No: 233 ended. Search finished for the next optimal point.\n",
      "Time taken: 9.7201\n",
      "Function value obtained: -0.0409\n",
      "Current minimum: -0.0503\n",
      "Iteration No: 234 started. Searching for the next optimal point.\n",
      "[213, 0.03839043828478444, 139, 0.000946331637757244]\n"
     ]
    },
    {
     "name": "stderr",
     "output_type": "stream",
     "text": [
      "Epoch: 100%|██████████| 213/213 [00:45<00:00,  4.68it/s]\n"
     ]
    },
    {
     "name": "stdout",
     "output_type": "stream",
     "text": [
      "Iteration No: 234 ended. Search finished for the next optimal point.\n",
      "Time taken: 49.5223\n",
      "Function value obtained: -0.0492\n",
      "Current minimum: -0.0503\n",
      "Iteration No: 235 started. Searching for the next optimal point.\n",
      "[78, 0.13451013440450907, 53, 0.0008908779930284532]\n"
     ]
    },
    {
     "name": "stderr",
     "output_type": "stream",
     "text": [
      "Epoch: 100%|██████████| 78/78 [00:07<00:00, 10.36it/s]\n"
     ]
    },
    {
     "name": "stdout",
     "output_type": "stream",
     "text": [
      "Iteration No: 235 ended. Search finished for the next optimal point.\n",
      "Time taken: 9.0200\n",
      "Function value obtained: -0.0200\n",
      "Current minimum: -0.0503\n",
      "Iteration No: 236 started. Searching for the next optimal point.\n",
      "[202, 0.0369464370119474, 35, 0.0009229874308267826]\n"
     ]
    },
    {
     "name": "stderr",
     "output_type": "stream",
     "text": [
      "Epoch: 100%|██████████| 202/202 [00:15<00:00, 13.19it/s]\n"
     ]
    },
    {
     "name": "stdout",
     "output_type": "stream",
     "text": [
      "Iteration No: 236 ended. Search finished for the next optimal point.\n",
      "Time taken: 16.3761\n",
      "Function value obtained: -0.0454\n",
      "Current minimum: -0.0503\n",
      "Iteration No: 237 started. Searching for the next optimal point.\n",
      "[128, 0.058738782234334624, 199, 0.0012021238687372354]\n"
     ]
    },
    {
     "name": "stderr",
     "output_type": "stream",
     "text": [
      "Epoch: 100%|██████████| 128/128 [00:34<00:00,  3.71it/s]\n"
     ]
    },
    {
     "name": "stdout",
     "output_type": "stream",
     "text": [
      "Iteration No: 237 ended. Search finished for the next optimal point.\n",
      "Time taken: 38.7487\n",
      "Function value obtained: -0.0457\n",
      "Current minimum: -0.0503\n",
      "Iteration No: 238 started. Searching for the next optimal point.\n",
      "[129, 0.03538670856222514, 134, 0.0011309854365711878]\n"
     ]
    },
    {
     "name": "stderr",
     "output_type": "stream",
     "text": [
      "Epoch: 100%|██████████| 129/129 [00:26<00:00,  4.95it/s]\n"
     ]
    },
    {
     "name": "stdout",
     "output_type": "stream",
     "text": [
      "Iteration No: 238 ended. Search finished for the next optimal point.\n",
      "Time taken: 29.1395\n",
      "Function value obtained: -0.0467\n",
      "Current minimum: -0.0503\n",
      "Iteration No: 239 started. Searching for the next optimal point.\n",
      "[248, 0.012988864201307381, 169, 0.0010409576745725538]\n"
     ]
    },
    {
     "name": "stderr",
     "output_type": "stream",
     "text": [
      "Epoch: 100%|██████████| 248/248 [01:04<00:00,  3.86it/s]\n"
     ]
    },
    {
     "name": "stdout",
     "output_type": "stream",
     "text": [
      "Iteration No: 239 ended. Search finished for the next optimal point.\n",
      "Time taken: 68.2542\n",
      "Function value obtained: -0.0432\n",
      "Current minimum: -0.0503\n",
      "Iteration No: 240 started. Searching for the next optimal point.\n",
      "[223, 0.03627063116421862, 99, 0.0010139891451713067]\n"
     ]
    },
    {
     "name": "stderr",
     "output_type": "stream",
     "text": [
      "Epoch: 100%|██████████| 223/223 [00:38<00:00,  5.77it/s]\n"
     ]
    },
    {
     "name": "stdout",
     "output_type": "stream",
     "text": [
      "Iteration No: 240 ended. Search finished for the next optimal point.\n",
      "Time taken: 41.4107\n",
      "Function value obtained: -0.0487\n",
      "Current minimum: -0.0503\n",
      "Iteration No: 241 started. Searching for the next optimal point.\n",
      "[167, 0.08552111818173867, 164, 0.0012743035730159]\n"
     ]
    },
    {
     "name": "stderr",
     "output_type": "stream",
     "text": [
      "Epoch: 100%|██████████| 167/167 [00:39<00:00,  4.19it/s]\n"
     ]
    },
    {
     "name": "stdout",
     "output_type": "stream",
     "text": [
      "Iteration No: 241 ended. Search finished for the next optimal point.\n",
      "Time taken: 43.7272\n",
      "Function value obtained: -0.0327\n",
      "Current minimum: -0.0503\n",
      "Iteration No: 242 started. Searching for the next optimal point.\n",
      "[207, 0.10620569232349261, 20, 0.0008633686517549239]\n"
     ]
    },
    {
     "name": "stderr",
     "output_type": "stream",
     "text": [
      "Epoch: 100%|██████████| 207/207 [00:14<00:00, 14.52it/s]\n"
     ]
    },
    {
     "name": "stdout",
     "output_type": "stream",
     "text": [
      "Iteration No: 242 ended. Search finished for the next optimal point.\n",
      "Time taken: 15.0865\n",
      "Function value obtained: -0.0427\n",
      "Current minimum: -0.0503\n",
      "Iteration No: 243 started. Searching for the next optimal point.\n",
      "[198, 0.09784517832263252, 28, 0.00035427793489729723]\n"
     ]
    },
    {
     "name": "stderr",
     "output_type": "stream",
     "text": [
      "Epoch: 100%|██████████| 198/198 [00:17<00:00, 11.61it/s]\n"
     ]
    },
    {
     "name": "stdout",
     "output_type": "stream",
     "text": [
      "Iteration No: 243 ended. Search finished for the next optimal point.\n",
      "Time taken: 18.1100\n",
      "Function value obtained: -0.0322\n",
      "Current minimum: -0.0503\n",
      "Iteration No: 244 started. Searching for the next optimal point.\n",
      "[202, 0.05939164273201119, 178, 0.0010018419192253198]\n"
     ]
    },
    {
     "name": "stderr",
     "output_type": "stream",
     "text": [
      "Epoch: 100%|██████████| 202/202 [00:49<00:00,  4.07it/s]\n"
     ]
    },
    {
     "name": "stdout",
     "output_type": "stream",
     "text": [
      "Iteration No: 244 ended. Search finished for the next optimal point.\n",
      "Time taken: 53.6613\n",
      "Function value obtained: -0.0488\n",
      "Current minimum: -0.0503\n",
      "Iteration No: 245 started. Searching for the next optimal point.\n",
      "[207, 0.11451342434762132, 194, 0.0009349627732741421]\n"
     ]
    },
    {
     "name": "stderr",
     "output_type": "stream",
     "text": [
      "Epoch: 100%|██████████| 207/207 [00:52<00:00,  3.92it/s]\n"
     ]
    },
    {
     "name": "stdout",
     "output_type": "stream",
     "text": [
      "Iteration No: 245 ended. Search finished for the next optimal point.\n",
      "Time taken: 56.8946\n",
      "Function value obtained: -0.0349\n",
      "Current minimum: -0.0503\n",
      "Iteration No: 246 started. Searching for the next optimal point.\n",
      "[46, 0.10274270181733372, 78, 0.0008195776093410316]\n"
     ]
    },
    {
     "name": "stderr",
     "output_type": "stream",
     "text": [
      "Epoch: 100%|██████████| 46/46 [00:06<00:00,  7.62it/s]\n"
     ]
    },
    {
     "name": "stdout",
     "output_type": "stream",
     "text": [
      "Iteration No: 246 ended. Search finished for the next optimal point.\n",
      "Time taken: 7.9207\n",
      "Function value obtained: -0.0363\n",
      "Current minimum: -0.0503\n",
      "Iteration No: 247 started. Searching for the next optimal point.\n",
      "[216, 0.04072864952714408, 139, 0.0005995180293772761]\n"
     ]
    },
    {
     "name": "stderr",
     "output_type": "stream",
     "text": [
      "Epoch: 100%|██████████| 216/216 [00:42<00:00,  5.07it/s]\n"
     ]
    },
    {
     "name": "stdout",
     "output_type": "stream",
     "text": [
      "Iteration No: 247 ended. Search finished for the next optimal point.\n",
      "Time taken: 45.9685\n",
      "Function value obtained: -0.0265\n",
      "Current minimum: -0.0503\n",
      "Iteration No: 248 started. Searching for the next optimal point.\n",
      "[147, 0.11975012799823503, 20, 0.0006980887571698418]\n"
     ]
    },
    {
     "name": "stderr",
     "output_type": "stream",
     "text": [
      "Epoch: 100%|██████████| 147/147 [00:09<00:00, 14.75it/s]\n"
     ]
    },
    {
     "name": "stdout",
     "output_type": "stream",
     "text": [
      "Iteration No: 248 ended. Search finished for the next optimal point.\n",
      "Time taken: 10.9065\n",
      "Function value obtained: -0.0392\n",
      "Current minimum: -0.0503\n",
      "Iteration No: 249 started. Searching for the next optimal point.\n",
      "[141, 0.06754346250596092, 89, 0.0018949520186317926]\n"
     ]
    },
    {
     "name": "stderr",
     "output_type": "stream",
     "text": [
      "Epoch: 100%|██████████| 141/141 [00:20<00:00,  6.91it/s]\n"
     ]
    },
    {
     "name": "stdout",
     "output_type": "stream",
     "text": [
      "Iteration No: 249 ended. Search finished for the next optimal point.\n",
      "Time taken: 22.5476\n",
      "Function value obtained: -0.0226\n",
      "Current minimum: -0.0503\n",
      "Iteration No: 250 started. Searching for the next optimal point.\n",
      "[75, 0.06911528281384702, 44, 0.001172587657499896]\n"
     ]
    },
    {
     "name": "stderr",
     "output_type": "stream",
     "text": [
      "Epoch: 100%|██████████| 75/75 [00:06<00:00, 11.68it/s]\n"
     ]
    },
    {
     "name": "stdout",
     "output_type": "stream",
     "text": [
      "Iteration No: 250 ended. Search finished for the next optimal point.\n",
      "Time taken: 7.7115\n",
      "Function value obtained: -0.0441\n",
      "Current minimum: -0.0503\n"
     ]
    }
   ],
   "source": [
    "space = [(1, 260), # epochs\n",
    "         (10**-4, 1.0, 'log-uniform'), # learning_rate\n",
    "         (20, 200), # no_components\n",
    "         (10**-6, 10**-1, 'log-uniform'), # alpha\n",
    "        ]\n",
    "\n",
    "res_fm = forest_minimize(objective, space, n_calls=250,\n",
    "                     random_state=0,\n",
    "                     verbose=True)"
   ]
  },
  {
   "cell_type": "code",
   "execution_count": 37,
   "metadata": {},
   "outputs": [
    {
     "name": "stdout",
     "output_type": "stream",
     "text": [
      "Maximimum p@k found: 0.05031\n",
      "Optimal parameters:\n",
      "epochs: 250\n",
      "learning_rate: 0.05489768662585542\n",
      "no_components: 165\n",
      "alpha: 0.0010024970478760666\n",
      "params : [250, 0.05489768662585542, 165, 0.0010024970478760666]\n"
     ]
    }
   ],
   "source": [
    "print('Maximimum p@k found: {:6.5f}'.format(-res_fm.fun))\n",
    "print('Optimal parameters:')\n",
    "params = ['epochs', 'learning_rate', 'no_components', 'alpha']\n",
    "for (p, x_) in zip(params, res_fm.x):\n",
    "    print('{}: {}'.format(p, x_))\n",
    "print(f'params : {res_fm.x}')"
   ]
  },
  {
   "cell_type": "code",
   "execution_count": 24,
   "metadata": {},
   "outputs": [],
   "source": [
    "from bayes_opt import BayesianOptimization"
   ]
  },
  {
   "cell_type": "code",
   "execution_count": 92,
   "metadata": {},
   "outputs": [],
   "source": [
    "import sys, os"
   ]
  },
  {
   "cell_type": "code",
   "execution_count": 93,
   "metadata": {},
   "outputs": [],
   "source": [
    "def objective_baye(epochs, learning_rate, no_components, item_alpha, scale):\n",
    "    print([epochs, learning_rate, no_components, item_alpha, scale])\n",
    "    user_alpha = item_alpha * scale\n",
    "    epochs = int(epochs)\n",
    "    no_components = int(no_components)\n",
    "    model = LightFM(loss='warp',\n",
    "                    random_state=2016,\n",
    "                    learning_rate=learning_rate,\n",
    "                    no_components=no_components,\n",
    "                    user_alpha=user_alpha,\n",
    "                    item_alpha=item_alpha\n",
    "                   )\n",
    "    try:\n",
    "        model.fit(train_interactions, epochs=epochs,\n",
    "                  item_features=product_features, user_features=user_features, \n",
    "                  num_threads=8, verbose=True)\n",
    "    except Exception as e:\n",
    "        exc_type, exc_obj, exc_tb = sys.exc_info()\n",
    "        fname = os.path.split(exc_tb.tb_frame.f_code.co_filename)[1]\n",
    "        print(exc_type, fname, exc_tb.tb_lineno)\n",
    "        print(e)\n",
    "        return 0\n",
    "    \n",
    "    patks = precision_at_k(model, test_interactions, \n",
    "                           item_features=product_features, user_features=user_features,\n",
    "                           check_intersections=False, \n",
    "                           k=5, num_threads=8).mean()\n",
    "    # Make negative because we want to _minimize_ objective\n",
    "    return patks"
   ]
  },
  {
   "cell_type": "code",
   "execution_count": 95,
   "metadata": {
    "scrolled": true
   },
   "outputs": [
    {
     "name": "stdout",
     "output_type": "stream",
     "text": [
      "|   iter    |  target   |  epochs   | item_a... | learni... | no_com... |   scale   |\n",
      "-------------------------------------------------------------------------------------\n",
      "[109.00869921796667, 0.00010570730338550985, 74.41986307373116, 0.07203272901972237, 0.14760913492629593]\n"
     ]
    },
    {
     "name": "stderr",
     "output_type": "stream",
     "text": [
      "Epoch: 100%|███████████████████████████████████| 109/109 [1:26:01<00:00, 47.35s/it]\n"
     ]
    },
    {
     "name": "stdout",
     "output_type": "stream",
     "text": [
      "| \u001b[0m1        \u001b[0m | \u001b[0m0.01297  \u001b[0m | \u001b[0m109.0    \u001b[0m | \u001b[0m0.07203  \u001b[0m | \u001b[0m0.0001057\u001b[0m | \u001b[0m74.42    \u001b[0m | \u001b[0m0.1476   \u001b[0m |\n",
      "[24.91569604511863, 0.01734348027944808, 91.41814536152059, 0.018626834877555714, 0.5392779172693536]\n"
     ]
    },
    {
     "name": "stderr",
     "output_type": "stream",
     "text": [
      "Epoch: 100%|███████████████████████████████████████| 24/24 [20:52<00:00, 52.19s/it]\n"
     ]
    },
    {
     "name": "stdout",
     "output_type": "stream",
     "text": [
      "| \u001b[0m2        \u001b[0m | \u001b[0m0.01297  \u001b[0m | \u001b[0m24.92    \u001b[0m | \u001b[0m0.01863  \u001b[0m | \u001b[0m0.01734  \u001b[0m | \u001b[0m91.42    \u001b[0m | \u001b[0m0.5393   \u001b[0m |\n",
      "[109.57137923045336, 0.01030216726160272, 178.06113855037017, 0.06852226482017555, 0.02836020560472824]\n"
     ]
    },
    {
     "name": "stderr",
     "output_type": "stream",
     "text": [
      "Epoch: 100%|███████████████████████████████████| 109/109 [2:02:27<00:00, 67.41s/it]\n"
     ]
    },
    {
     "name": "stdout",
     "output_type": "stream",
     "text": [
      "| \u001b[0m3        \u001b[0m | \u001b[0m0.01274  \u001b[0m | \u001b[0m109.6    \u001b[0m | \u001b[0m0.06852  \u001b[0m | \u001b[0m0.0103   \u001b[0m | \u001b[0m178.1    \u001b[0m | \u001b[0m0.02836  \u001b[0m |\n",
      "[174.65108513620618, 0.027978622439443008, 45.26964894714207, 0.04173106293191033, 0.1989033875957939]\n"
     ]
    },
    {
     "name": "stderr",
     "output_type": "stream",
     "text": [
      "Epoch: 100%|█████████████████████████████████████| 174/174 [33:41<00:00, 11.62s/it]\n"
     ]
    },
    {
     "name": "stdout",
     "output_type": "stream",
     "text": [
      "| \u001b[0m4        \u001b[0m | \u001b[0m0.0      \u001b[0m | \u001b[0m174.7    \u001b[0m | \u001b[0m0.04173  \u001b[0m | \u001b[0m0.02798  \u001b[0m | \u001b[0m45.27    \u001b[0m | \u001b[0m0.1989   \u001b[0m |\n",
      "[208.392843286964, 0.015739866490146217, 144.61807082047653, 0.09682618931036403, 0.8765127631437423]\n"
     ]
    },
    {
     "name": "stderr",
     "output_type": "stream",
     "text": [
      "Epoch: 100%|███████████████████████████████████| 208/208 [3:12:41<00:00, 55.58s/it]\n"
     ]
    },
    {
     "name": "stdout",
     "output_type": "stream",
     "text": [
      "| \u001b[0m5        \u001b[0m | \u001b[0m0.006536 \u001b[0m | \u001b[0m208.4    \u001b[0m | \u001b[0m0.09683  \u001b[0m | \u001b[0m0.01574  \u001b[0m | \u001b[0m144.6    \u001b[0m | \u001b[0m0.8765   \u001b[0m |\n",
      "[107.83102083676401, 0.02172629508675106, 73.63015881702262, 0.053203854585762406, 0.7555623776054406]\n"
     ]
    },
    {
     "name": "stderr",
     "output_type": "stream",
     "text": [
      "Epoch: 100%|█████████████████████████████████████| 107/107 [20:18<00:00, 11.39s/it]\n"
     ]
    },
    {
     "name": "stdout",
     "output_type": "stream",
     "text": [
      "| \u001b[0m6        \u001b[0m | \u001b[0m0.005275 \u001b[0m | \u001b[0m107.8    \u001b[0m | \u001b[0m0.0532   \u001b[0m | \u001b[0m0.02173  \u001b[0m | \u001b[0m73.63    \u001b[0m | \u001b[0m0.7556   \u001b[0m |\n",
      "[78.67374591127054, 0.02934827395884785, 153.7557822924497, 0.04584681353470207, 0.4747233877512554]\n"
     ]
    },
    {
     "name": "stderr",
     "output_type": "stream",
     "text": [
      "Epoch: 100%|███████████████████████████████████████| 78/78 [22:11<00:00, 17.07s/it]\n"
     ]
    },
    {
     "name": "stdout",
     "output_type": "stream",
     "text": [
      "| \u001b[0m7        \u001b[0m | \u001b[0m0.0      \u001b[0m | \u001b[0m78.67    \u001b[0m | \u001b[0m0.04585  \u001b[0m | \u001b[0m0.02935  \u001b[0m | \u001b[0m153.8    \u001b[0m | \u001b[0m0.4747   \u001b[0m |\n",
      "[191.670310048839, 0.00488363610417932, 141.4324442519394, 0.0690463431894148, 0.652224688908482]\n"
     ]
    },
    {
     "name": "stderr",
     "output_type": "stream",
     "text": [
      "Epoch: 100%|███████████████████████████████████| 191/191 [3:38:24<00:00, 68.61s/it]\n"
     ]
    },
    {
     "name": "stdout",
     "output_type": "stream",
     "text": [
      "| \u001b[0m8        \u001b[0m | \u001b[0m0.01244  \u001b[0m | \u001b[0m191.7    \u001b[0m | \u001b[0m0.06905  \u001b[0m | \u001b[0m0.004884 \u001b[0m | \u001b[0m141.4    \u001b[0m | \u001b[0m0.6522   \u001b[0m |\n",
      "[101.61568292286792, 0.042453482292296583, 125.57611070514643, 0.09257529484545085, 0.22016712668935975]\n"
     ]
    },
    {
     "name": "stderr",
     "output_type": "stream",
     "text": [
      "Epoch: 100%|█████████████████████████████████████| 101/101 [09:37<00:00,  5.72s/it]\n"
     ]
    },
    {
     "name": "stdout",
     "output_type": "stream",
     "text": [
      "| \u001b[0m9        \u001b[0m | \u001b[0m0.0      \u001b[0m | \u001b[0m101.6    \u001b[0m | \u001b[0m0.09258  \u001b[0m | \u001b[0m0.04245  \u001b[0m | \u001b[0m125.6    \u001b[0m | \u001b[0m0.2202   \u001b[0m |\n",
      "[21.952975040039565, 0.04008393810490997, 143.82267292015206, 0.08499692635514772, 0.7562581072489121]\n"
     ]
    },
    {
     "name": "stderr",
     "output_type": "stream",
     "text": [
      "Epoch: 100%|███████████████████████████████████████| 21/21 [02:19<00:00,  6.62s/it]\n"
     ]
    },
    {
     "name": "stdout",
     "output_type": "stream",
     "text": [
      "| \u001b[0m10       \u001b[0m | \u001b[0m0.0      \u001b[0m | \u001b[0m21.95    \u001b[0m | \u001b[0m0.085    \u001b[0m | \u001b[0m0.04008  \u001b[0m | \u001b[0m143.8    \u001b[0m | \u001b[0m0.7563   \u001b[0m |\n",
      "[61.56590494663863, 0.0442096794868358, 21.05909961020243, 0.01373875736506121, 0.7491580366388109]\n"
     ]
    },
    {
     "name": "stderr",
     "output_type": "stream",
     "text": [
      "Epoch: 100%|███████████████████████████████████████| 61/61 [09:37<00:00,  9.47s/it]\n"
     ]
    },
    {
     "name": "stdout",
     "output_type": "stream",
     "text": [
      "| \u001b[0m11       \u001b[0m | \u001b[0m0.006072 \u001b[0m | \u001b[0m61.57    \u001b[0m | \u001b[0m0.01374  \u001b[0m | \u001b[0m0.04421  \u001b[0m | \u001b[0m21.06    \u001b[0m | \u001b[0m0.7492   \u001b[0m |\n",
      "[143.56498503994658, 0.04913507214334557, 96.74391976563794, 0.0214059333588639, 0.8252238656730843]\n"
     ]
    },
    {
     "name": "stderr",
     "output_type": "stream",
     "text": [
      "Epoch: 100%|█████████████████████████████████████| 143/143 [58:18<00:00, 24.47s/it]\n"
     ]
    },
    {
     "name": "stdout",
     "output_type": "stream",
     "text": [
      "| \u001b[0m12       \u001b[0m | \u001b[0m0.006536 \u001b[0m | \u001b[0m143.6    \u001b[0m | \u001b[0m0.02141  \u001b[0m | \u001b[0m0.04914  \u001b[0m | \u001b[0m96.74    \u001b[0m | \u001b[0m0.8252   \u001b[0m |\n",
      "[172.28716683283426, 0.01312751662547347, 132.01439803073004, 0.05042523419353755, 0.4074032604220437]\n"
     ]
    },
    {
     "name": "stderr",
     "output_type": "stream",
     "text": [
      "Epoch: 100%|███████████████████████████████████| 172/172 [1:31:59<00:00, 32.09s/it]\n"
     ]
    },
    {
     "name": "stdout",
     "output_type": "stream",
     "text": [
      "| \u001b[0m13       \u001b[0m | \u001b[0m0.003849 \u001b[0m | \u001b[0m172.3    \u001b[0m | \u001b[0m0.05043  \u001b[0m | \u001b[0m0.01313  \u001b[0m | \u001b[0m132.0    \u001b[0m | \u001b[0m0.4074   \u001b[0m |\n",
      "[37.478266057574004, 0.0425474903965238, 100.81967558729605, 0.02668463077230534, 0.7107829858956666]\n"
     ]
    },
    {
     "name": "stderr",
     "output_type": "stream",
     "text": [
      "Epoch: 100%|███████████████████████████████████████| 37/37 [12:22<00:00, 20.07s/it]\n"
     ]
    },
    {
     "name": "stdout",
     "output_type": "stream",
     "text": [
      "| \u001b[0m14       \u001b[0m | \u001b[0m0.0004645\u001b[0m | \u001b[0m37.48    \u001b[0m | \u001b[0m0.02668  \u001b[0m | \u001b[0m0.04255  \u001b[0m | \u001b[0m100.8    \u001b[0m | \u001b[0m0.7108   \u001b[0m |\n",
      "[122.4491175081127, 0.006598189176144428, 147.02353527467955, 0.0037663271587857114, 0.46901734977669807]\n"
     ]
    },
    {
     "name": "stderr",
     "output_type": "stream",
     "text": [
      "Epoch: 100%|███████████████████████████████████| 122/122 [2:04:52<00:00, 61.42s/it]\n"
     ]
    },
    {
     "name": "stdout",
     "output_type": "stream",
     "text": [
      "| \u001b[0m15       \u001b[0m | \u001b[0m0.01297  \u001b[0m | \u001b[0m122.4    \u001b[0m | \u001b[0m0.003766 \u001b[0m | \u001b[0m0.006598 \u001b[0m | \u001b[0m147.0    \u001b[0m | \u001b[0m0.469    \u001b[0m |\n",
      "[100.6109103458371, 0.001631792537907365, 44.05504556007265, 0.05323037865882169, 0.06271733191719608]\n"
     ]
    },
    {
     "name": "stderr",
     "output_type": "stream",
     "text": [
      "Epoch: 100%|█████████████████████████████████████| 100/100 [49:24<00:00, 29.64s/it]\n"
     ]
    },
    {
     "name": "stdout",
     "output_type": "stream",
     "text": [
      "| \u001b[0m16       \u001b[0m | \u001b[0m0.01015  \u001b[0m | \u001b[0m100.6    \u001b[0m | \u001b[0m0.05323  \u001b[0m | \u001b[0m0.001632 \u001b[0m | \u001b[0m44.06    \u001b[0m | \u001b[0m0.06272  \u001b[0m |\n",
      "[70.479365032402, 0.02274976420025789, 195.97727338664583, 0.05404046016115068, 0.3146715715576851]\n"
     ]
    },
    {
     "name": "stderr",
     "output_type": "stream",
     "text": [
      "Epoch: 100%|███████████████████████████████████████| 70/70 [30:46<00:00, 26.37s/it]\n"
     ]
    },
    {
     "name": "stdout",
     "output_type": "stream",
     "text": [
      "| \u001b[0m17       \u001b[0m | \u001b[0m0.0      \u001b[0m | \u001b[0m70.48    \u001b[0m | \u001b[0m0.05404  \u001b[0m | \u001b[0m0.02275  \u001b[0m | \u001b[0m196.0    \u001b[0m | \u001b[0m0.3147   \u001b[0m |\n",
      "[191.77725212602144, 0.03335340530794067, 141.24236278665427, 0.07847107653789095, 0.6933260022371466]\n"
     ]
    },
    {
     "name": "stderr",
     "output_type": "stream",
     "text": [
      "Epoch: 100%|█████████████████████████████████████| 191/191 [52:29<00:00, 16.49s/it]\n"
     ]
    },
    {
     "name": "stdout",
     "output_type": "stream",
     "text": [
      "| \u001b[0m18       \u001b[0m | \u001b[0m0.006138 \u001b[0m | \u001b[0m191.8    \u001b[0m | \u001b[0m0.07847  \u001b[0m | \u001b[0m0.03335  \u001b[0m | \u001b[0m141.2    \u001b[0m | \u001b[0m0.6933   \u001b[0m |\n",
      "[173.43381538330686, 0.02112487282360381, 122.98146726008483, 0.052527314411297585, 0.3242745911775503]\n"
     ]
    },
    {
     "name": "stderr",
     "output_type": "stream",
     "text": [
      "Epoch: 100%|█████████████████████████████████████| 173/173 [50:53<00:00, 17.65s/it]\n"
     ]
    },
    {
     "name": "stdout",
     "output_type": "stream",
     "text": [
      "| \u001b[0m19       \u001b[0m | \u001b[0m0.0003981\u001b[0m | \u001b[0m173.4    \u001b[0m | \u001b[0m0.05253  \u001b[0m | \u001b[0m0.02112  \u001b[0m | \u001b[0m123.0    \u001b[0m | \u001b[0m0.3243   \u001b[0m |\n",
      "[138.40055646063524, 0.04411343581179524, 170.71585148315486, 0.057668861608645074, 0.7309357990590313]\n"
     ]
    },
    {
     "name": "stderr",
     "output_type": "stream",
     "text": [
      "Epoch: 100%|█████████████████████████████████████| 138/138 [14:03<00:00,  6.11s/it]\n"
     ]
    },
    {
     "name": "stdout",
     "output_type": "stream",
     "text": [
      "| \u001b[0m20       \u001b[0m | \u001b[0m0.0      \u001b[0m | \u001b[0m138.4    \u001b[0m | \u001b[0m0.05767  \u001b[0m | \u001b[0m0.04411  \u001b[0m | \u001b[0m170.7    \u001b[0m | \u001b[0m0.7309   \u001b[0m |\n",
      "[25.201820969243204, 0.01834780325308817, 91.27886823964691, 0.034177389749882756, 0.6787495036938671]\n"
     ]
    },
    {
     "name": "stderr",
     "output_type": "stream",
     "text": [
      "Epoch: 100%|███████████████████████████████████████| 25/25 [19:04<00:00, 45.78s/it]\n"
     ]
    },
    {
     "name": "stdout",
     "output_type": "stream",
     "text": [
      "| \u001b[0m21       \u001b[0m | \u001b[0m0.002754 \u001b[0m | \u001b[0m25.2     \u001b[0m | \u001b[0m0.03418  \u001b[0m | \u001b[0m0.01835  \u001b[0m | \u001b[0m91.28    \u001b[0m | \u001b[0m0.6787   \u001b[0m |\n",
      "[223.52553399317645, 0.02113232152110786, 191.58687875457412, 0.0042205158111379825, 0.12489732044662653]\n"
     ]
    },
    {
     "name": "stderr",
     "output_type": "stream",
     "text": [
      "Epoch: 100%|███████████████████████████████████| 223/223 [4:10:07<00:00, 67.30s/it]\n"
     ]
    },
    {
     "name": "stdout",
     "output_type": "stream",
     "text": [
      "| \u001b[0m22       \u001b[0m | \u001b[0m0.01297  \u001b[0m | \u001b[0m223.5    \u001b[0m | \u001b[0m0.004221 \u001b[0m | \u001b[0m0.02113  \u001b[0m | \u001b[0m191.6    \u001b[0m | \u001b[0m0.1249   \u001b[0m |\n",
      "[108.06789700195257, 0.010629262592317763, 74.40264801342772, 0.003511318793565486, 0.3438103581423716]\n"
     ]
    },
    {
     "name": "stderr",
     "output_type": "stream",
     "text": [
      "Epoch: 100%|███████████████████████████████████| 108/108 [1:25:02<00:00, 47.25s/it]\n"
     ]
    },
    {
     "name": "stdout",
     "output_type": "stream",
     "text": [
      "| \u001b[0m23       \u001b[0m | \u001b[0m0.01297  \u001b[0m | \u001b[0m108.1    \u001b[0m | \u001b[0m0.003511 \u001b[0m | \u001b[0m0.01063  \u001b[0m | \u001b[0m74.4     \u001b[0m | \u001b[0m0.3438   \u001b[0m |\n",
      "[43.354567677827255, 0.002461741491111412, 30.200924826070402, 0.05980272232946514, 0.375713422178108]\n"
     ]
    },
    {
     "name": "stderr",
     "output_type": "stream",
     "text": [
      "Epoch: 100%|███████████████████████████████████████| 43/43 [12:57<00:00, 18.08s/it]\n"
     ]
    },
    {
     "name": "stdout",
     "output_type": "stream",
     "text": [
      "| \u001b[0m24       \u001b[0m | \u001b[0m0.01022  \u001b[0m | \u001b[0m43.35    \u001b[0m | \u001b[0m0.0598   \u001b[0m | \u001b[0m0.002462 \u001b[0m | \u001b[0m30.2     \u001b[0m | \u001b[0m0.3757   \u001b[0m |\n",
      "[145.14273747604136, 0.0006300745040803002, 190.06674603063672, 0.08993522856664309, 0.3098922642607765]\n"
     ]
    },
    {
     "name": "stderr",
     "output_type": "stream",
     "text": [
      "Epoch: 100%|███████████████████████████████████| 145/145 [2:40:48<00:00, 66.54s/it]\n"
     ]
    },
    {
     "name": "stdout",
     "output_type": "stream",
     "text": [
      "| \u001b[0m25       \u001b[0m | \u001b[0m0.01218  \u001b[0m | \u001b[0m145.1    \u001b[0m | \u001b[0m0.08994  \u001b[0m | \u001b[0m0.0006301\u001b[0m | \u001b[0m190.1    \u001b[0m | \u001b[0m0.3099   \u001b[0m |\n",
      "=====================================================================================\n"
     ]
    }
   ],
   "source": [
    "pbounds = {\n",
    "    'epochs': (1, 260), \n",
    "    'learning_rate': (10**-4, 0.05), \n",
    "    'no_components':(20, 200), \n",
    "    'item_alpha':(10**-6, 10**-1),\n",
    "    'scale':(0.001, 1.)\n",
    "}\n",
    "\n",
    "optimizer = BayesianOptimization(\n",
    "    f=objective_baye,\n",
    "    pbounds=pbounds,\n",
    "    random_state=1,\n",
    "    verbose=1\n",
    ")\n",
    "\n",
    "optimizer.maximize(\n",
    "    init_points=5,\n",
    "    n_iter=20,\n",
    ")"
   ]
  },
  {
   "cell_type": "code",
   "execution_count": 96,
   "metadata": {
    "scrolled": true
   },
   "outputs": [
    {
     "name": "stdout",
     "output_type": "stream",
     "text": [
      "|   iter    |  target   |  epochs   | item_a... | learni... | no_com... |   scale   |\n",
      "-------------------------------------------------------------------------------------\n",
      "[13.168657748031956, 0.023234892702307143, 89.65205551079772, 0.024342926278375802, 0.9947924916202493]\n"
     ]
    },
    {
     "name": "stderr",
     "output_type": "stream",
     "text": [
      "Epoch: 100%|███████████████████████████████████████| 13/13 [10:48<00:00, 49.92s/it]\n"
     ]
    },
    {
     "name": "stdout",
     "output_type": "stream",
     "text": [
      "| \u001b[0m26       \u001b[0m | \u001b[0m0.002322 \u001b[0m | \u001b[0m13.17    \u001b[0m | \u001b[0m0.02434  \u001b[0m | \u001b[0m0.02323  \u001b[0m | \u001b[0m89.65    \u001b[0m | \u001b[0m0.9948   \u001b[0m |\n",
      "[188.43840537770126, 0.029132972352501098, 25.619912581216333, 0.0666584386751529, 0.8042278210026584]\n"
     ]
    },
    {
     "name": "stderr",
     "output_type": "stream",
     "text": [
      "Epoch: 100%|█████████████████████████████████████| 188/188 [06:26<00:00,  2.06s/it]\n"
     ]
    },
    {
     "name": "stdout",
     "output_type": "stream",
     "text": [
      "| \u001b[0m27       \u001b[0m | \u001b[0m0.003318 \u001b[0m | \u001b[0m188.4    \u001b[0m | \u001b[0m0.06666  \u001b[0m | \u001b[0m0.02913  \u001b[0m | \u001b[0m25.62    \u001b[0m | \u001b[0m0.8042   \u001b[0m |\n",
      "[44.145170056281295, 0.03028373843626502, 102.87138485616916, 0.02584106089920171, 0.112955562638432]\n"
     ]
    },
    {
     "name": "stderr",
     "output_type": "stream",
     "text": [
      "Epoch: 100%|███████████████████████████████████████| 44/44 [38:41<00:00, 52.77s/it]\n"
     ]
    },
    {
     "name": "stdout",
     "output_type": "stream",
     "text": [
      "| \u001b[0m28       \u001b[0m | \u001b[0m0.003052 \u001b[0m | \u001b[0m44.15    \u001b[0m | \u001b[0m0.02584  \u001b[0m | \u001b[0m0.03028  \u001b[0m | \u001b[0m102.9    \u001b[0m | \u001b[0m0.113    \u001b[0m |\n",
      "[45.68315757747615, 0.037587759986154344, 146.20122681897288, 0.010822829198272333, 0.9777808727167644]\n"
     ]
    },
    {
     "name": "stderr",
     "output_type": "stream",
     "text": [
      "Epoch: 100%|███████████████████████████████████████| 45/45 [40:56<00:00, 54.58s/it]\n"
     ]
    },
    {
     "name": "stdout",
     "output_type": "stream",
     "text": [
      "| \u001b[0m29       \u001b[0m | \u001b[0m0.006967 \u001b[0m | \u001b[0m45.68    \u001b[0m | \u001b[0m0.01082  \u001b[0m | \u001b[0m0.03759  \u001b[0m | \u001b[0m146.2    \u001b[0m | \u001b[0m0.9778   \u001b[0m |\n",
      "[43.180709478677144, 0.03309921606555969, 30.046067171369092, 0.023968315218046512, 0.6278158740784944]\n"
     ]
    },
    {
     "name": "stderr",
     "output_type": "stream",
     "text": [
      "Epoch: 100%|███████████████████████████████████████| 43/43 [08:40<00:00, 12.10s/it]\n"
     ]
    },
    {
     "name": "stdout",
     "output_type": "stream",
     "text": [
      "| \u001b[0m30       \u001b[0m | \u001b[0m0.002621 \u001b[0m | \u001b[0m43.18    \u001b[0m | \u001b[0m0.02397  \u001b[0m | \u001b[0m0.0331   \u001b[0m | \u001b[0m30.05    \u001b[0m | \u001b[0m0.6278   \u001b[0m |\n",
      "[199.18046217558933, 0.033825845673669745, 86.71617737404395, 0.03246312342396985, 0.8338023641742871]\n"
     ]
    },
    {
     "name": "stderr",
     "output_type": "stream",
     "text": [
      "Epoch: 100%|███████████████████████████████████| 199/199 [1:11:05<00:00, 21.43s/it]\n"
     ]
    },
    {
     "name": "stdout",
     "output_type": "stream",
     "text": [
      "| \u001b[0m31       \u001b[0m | \u001b[0m0.006868 \u001b[0m | \u001b[0m199.2    \u001b[0m | \u001b[0m0.03246  \u001b[0m | \u001b[0m0.03383  \u001b[0m | \u001b[0m86.72    \u001b[0m | \u001b[0m0.8338   \u001b[0m |\n",
      "[143.285993735057, 0.034641669758179304, 47.77222610630474, 0.009061570484676058, 0.12414352703535442]\n"
     ]
    },
    {
     "name": "stderr",
     "output_type": "stream",
     "text": [
      "Epoch: 100%|███████████████████████████████████| 143/143 [1:15:57<00:00, 31.87s/it]\n"
     ]
    },
    {
     "name": "stdout",
     "output_type": "stream",
     "text": [
      "| \u001b[0m32       \u001b[0m | \u001b[0m0.01072  \u001b[0m | \u001b[0m143.3    \u001b[0m | \u001b[0m0.009062 \u001b[0m | \u001b[0m0.03464  \u001b[0m | \u001b[0m47.77    \u001b[0m | \u001b[0m0.1241   \u001b[0m |\n",
      "[221.41867647868665, 0.03850748153616447, 58.11260650263937, 0.04766114395109733, 0.23728676689474043]\n"
     ]
    },
    {
     "name": "stderr",
     "output_type": "stream",
     "text": [
      "Epoch: 100%|█████████████████████████████████████| 221/221 [21:27<00:00,  5.83s/it]\n"
     ]
    },
    {
     "name": "stdout",
     "output_type": "stream",
     "text": [
      "| \u001b[0m33       \u001b[0m | \u001b[0m0.0      \u001b[0m | \u001b[0m221.4    \u001b[0m | \u001b[0m0.04766  \u001b[0m | \u001b[0m0.03851  \u001b[0m | \u001b[0m58.11    \u001b[0m | \u001b[0m0.2373   \u001b[0m |\n",
      "[204.77083148654805, 0.03667243833617323, 85.12708579728177, 0.009179685921593761, 0.6573841404738194]\n"
     ]
    },
    {
     "name": "stderr",
     "output_type": "stream",
     "text": [
      "Epoch: 100%|███████████████████████████████████| 204/204 [3:06:52<00:00, 54.96s/it]\n"
     ]
    },
    {
     "name": "stdout",
     "output_type": "stream",
     "text": [
      "| \u001b[0m34       \u001b[0m | \u001b[0m0.01297  \u001b[0m | \u001b[0m204.8    \u001b[0m | \u001b[0m0.00918  \u001b[0m | \u001b[0m0.03667  \u001b[0m | \u001b[0m85.13    \u001b[0m | \u001b[0m0.6574   \u001b[0m |\n",
      "[240.022053143395, 0.0010268614846837242, 34.064519348139264, 0.09376423356169883, 0.7761899165073136]\n"
     ]
    },
    {
     "name": "stderr",
     "output_type": "stream",
     "text": [
      "Epoch: 100%|███████████████████████████████████| 240/240 [1:33:40<00:00, 23.42s/it]\n"
     ]
    },
    {
     "name": "stdout",
     "output_type": "stream",
     "text": [
      "| \u001b[0m35       \u001b[0m | \u001b[0m0.009157 \u001b[0m | \u001b[0m240.0    \u001b[0m | \u001b[0m0.09376  \u001b[0m | \u001b[0m0.001027 \u001b[0m | \u001b[0m34.06    \u001b[0m | \u001b[0m0.7762   \u001b[0m |\n",
      "[255.7138671610988, 0.002873671513611073, 85.07741068331907, 0.008799991251859325, 0.957685447826892]\n"
     ]
    },
    {
     "name": "stderr",
     "output_type": "stream",
     "text": [
      "Epoch: 100%|███████████████████████████████████| 255/255 [3:36:52<00:00, 51.03s/it]\n"
     ]
    },
    {
     "name": "stdout",
     "output_type": "stream",
     "text": [
      "| \u001b[0m36       \u001b[0m | \u001b[0m0.01297  \u001b[0m | \u001b[0m255.7    \u001b[0m | \u001b[0m0.0088   \u001b[0m | \u001b[0m0.002874 \u001b[0m | \u001b[0m85.08    \u001b[0m | \u001b[0m0.9577   \u001b[0m |\n",
      "[31.515805205523904, 0.01177520983392921, 181.01536813693912, 0.08600509605326431, 0.6947576205849421]\n"
     ]
    },
    {
     "name": "stderr",
     "output_type": "stream",
     "text": [
      "Epoch: 100%|███████████████████████████████████████| 31/31 [14:51<00:00, 28.77s/it]\n"
     ]
    },
    {
     "name": "stdout",
     "output_type": "stream",
     "text": [
      "| \u001b[0m37       \u001b[0m | \u001b[0m0.0      \u001b[0m | \u001b[0m31.52    \u001b[0m | \u001b[0m0.08601  \u001b[0m | \u001b[0m0.01178  \u001b[0m | \u001b[0m181.0    \u001b[0m | \u001b[0m0.6948   \u001b[0m |\n",
      "[251.00461000627334, 0.028729140245324403, 124.13472446833443, 0.0028783310941504414, 0.5980421969434317]\n"
     ]
    },
    {
     "name": "stderr",
     "output_type": "stream",
     "text": [
      "Epoch: 100%|███████████████████████████████████| 251/251 [4:03:19<00:00, 58.17s/it]\n"
     ]
    },
    {
     "name": "stdout",
     "output_type": "stream",
     "text": [
      "| \u001b[0m38       \u001b[0m | \u001b[0m0.01297  \u001b[0m | \u001b[0m251.0    \u001b[0m | \u001b[0m0.002878 \u001b[0m | \u001b[0m0.02873  \u001b[0m | \u001b[0m124.1    \u001b[0m | \u001b[0m0.598    \u001b[0m |\n",
      "[218.03453067106776, 0.0006667112664415481, 42.66822969262266, 0.0720358670259158, 0.6408315448818578]\n"
     ]
    },
    {
     "name": "stderr",
     "output_type": "stream",
     "text": [
      "Epoch: 100%|███████████████████████████████████| 218/218 [1:51:43<00:00, 30.75s/it]\n"
     ]
    },
    {
     "name": "stdout",
     "output_type": "stream",
     "text": [
      "| \u001b[0m39       \u001b[0m | \u001b[0m0.01297  \u001b[0m | \u001b[0m218.0    \u001b[0m | \u001b[0m0.07204  \u001b[0m | \u001b[0m0.0006667\u001b[0m | \u001b[0m42.67    \u001b[0m | \u001b[0m0.6408   \u001b[0m |\n",
      "[10.23058914511374, 0.03686692139982727, 49.30979398824921, 0.09439209923756763, 0.09766567627618652]\n"
     ]
    },
    {
     "name": "stderr",
     "output_type": "stream",
     "text": [
      "Epoch: 100%|███████████████████████████████████████| 10/10 [05:46<00:00, 34.69s/it]\n"
     ]
    },
    {
     "name": "stdout",
     "output_type": "stream",
     "text": [
      "| \u001b[0m40       \u001b[0m | \u001b[0m0.0004645\u001b[0m | \u001b[0m10.23    \u001b[0m | \u001b[0m0.09439  \u001b[0m | \u001b[0m0.03687  \u001b[0m | \u001b[0m49.31    \u001b[0m | \u001b[0m0.09767  \u001b[0m |\n",
      "[134.8042908633248, 0.049222631115275604, 168.7834558125443, 0.05763214128106366, 0.37525643957062016]\n"
     ]
    },
    {
     "name": "stderr",
     "output_type": "stream",
     "text": [
      "Epoch: 100%|█████████████████████████████████████| 134/134 [16:43<00:00,  7.49s/it]\n"
     ]
    },
    {
     "name": "stdout",
     "output_type": "stream",
     "text": [
      "| \u001b[0m41       \u001b[0m | \u001b[0m0.0      \u001b[0m | \u001b[0m134.8    \u001b[0m | \u001b[0m0.05763  \u001b[0m | \u001b[0m0.04922  \u001b[0m | \u001b[0m168.8    \u001b[0m | \u001b[0m0.3753   \u001b[0m |\n",
      "[202.79287824823965, 0.04095992331124588, 180.68778781340592, 0.05293368220102049, 0.32674773345977015]\n"
     ]
    },
    {
     "name": "stderr",
     "output_type": "stream",
     "text": [
      "Epoch: 100%|█████████████████████████████████████| 202/202 [30:34<00:00,  9.08s/it]\n"
     ]
    },
    {
     "name": "stdout",
     "output_type": "stream",
     "text": [
      "| \u001b[0m42       \u001b[0m | \u001b[0m0.0      \u001b[0m | \u001b[0m202.8    \u001b[0m | \u001b[0m0.05293  \u001b[0m | \u001b[0m0.04096  \u001b[0m | \u001b[0m180.7    \u001b[0m | \u001b[0m0.3267   \u001b[0m |\n",
      "[197.2042076291682, 0.04227155132775393, 121.77635397196742, 0.044956654748057163, 0.680243445938217]\n"
     ]
    },
    {
     "name": "stderr",
     "output_type": "stream",
     "text": [
      "Epoch: 100%|███████████████████████████████████| 197/197 [2:31:12<00:00, 46.05s/it]\n"
     ]
    },
    {
     "name": "stdout",
     "output_type": "stream",
     "text": [
      "| \u001b[0m43       \u001b[0m | \u001b[0m0.006603 \u001b[0m | \u001b[0m197.2    \u001b[0m | \u001b[0m0.04496  \u001b[0m | \u001b[0m0.04227  \u001b[0m | \u001b[0m121.8    \u001b[0m | \u001b[0m0.6802   \u001b[0m |\n",
      "[122.13519924466017, 0.034750650489345634, 45.78005742424628, 0.055570721035084814, 0.4856719978396573]\n"
     ]
    },
    {
     "name": "stderr",
     "output_type": "stream",
     "text": [
      "Epoch: 100%|█████████████████████████████████████| 122/122 [08:57<00:00,  4.41s/it]\n"
     ]
    },
    {
     "name": "stdout",
     "output_type": "stream",
     "text": [
      "| \u001b[0m44       \u001b[0m | \u001b[0m0.0      \u001b[0m | \u001b[0m122.1    \u001b[0m | \u001b[0m0.05557  \u001b[0m | \u001b[0m0.03475  \u001b[0m | \u001b[0m45.78    \u001b[0m | \u001b[0m0.4857   \u001b[0m |\n",
      "[43.05213133357591, 0.0319259520227863, 110.62262718614193, 0.005016789344603646, 0.8099547096111808]\n"
     ]
    },
    {
     "name": "stderr",
     "output_type": "stream",
     "text": [
      "Epoch: 100%|███████████████████████████████████████| 43/43 [39:52<00:00, 55.63s/it]\n"
     ]
    },
    {
     "name": "stdout",
     "output_type": "stream",
     "text": [
      "| \u001b[0m45       \u001b[0m | \u001b[0m0.01297  \u001b[0m | \u001b[0m43.05    \u001b[0m | \u001b[0m0.005017 \u001b[0m | \u001b[0m0.03193  \u001b[0m | \u001b[0m110.6    \u001b[0m | \u001b[0m0.81     \u001b[0m |\n",
      "[248.44086139324574, 0.02555020884103343, 166.29031405838882, 0.07681277708817436, 0.7689068310653677]\n"
     ]
    },
    {
     "name": "stderr",
     "output_type": "stream",
     "text": [
      "Epoch: 100%|███████████████████████████████████| 248/248 [5:20:40<00:00, 77.58s/it]\n"
     ]
    },
    {
     "name": "stdout",
     "output_type": "stream",
     "text": [
      "| \u001b[0m46       \u001b[0m | \u001b[0m0.006636 \u001b[0m | \u001b[0m248.4    \u001b[0m | \u001b[0m0.07681  \u001b[0m | \u001b[0m0.02555  \u001b[0m | \u001b[0m166.3    \u001b[0m | \u001b[0m0.7689   \u001b[0m |\n",
      "[215.63981197397356, 0.040145571788027606, 100.64438666149577, 0.036962113427825884, 0.3968379185159306]\n"
     ]
    },
    {
     "name": "stderr",
     "output_type": "stream",
     "text": [
      "Epoch: 100%|█████████████████████████████████████| 215/215 [37:46<00:00, 10.54s/it]\n"
     ]
    },
    {
     "name": "stdout",
     "output_type": "stream",
     "text": [
      "| \u001b[0m47       \u001b[0m | \u001b[0m0.001958 \u001b[0m | \u001b[0m215.6    \u001b[0m | \u001b[0m0.03696  \u001b[0m | \u001b[0m0.04015  \u001b[0m | \u001b[0m100.6    \u001b[0m | \u001b[0m0.3968   \u001b[0m |\n",
      "[255.59697913843488, 0.004961349254333271, 94.43510267671427, 0.07837514845391348, 0.1325905548800594]\n"
     ]
    },
    {
     "name": "stderr",
     "output_type": "stream",
     "text": [
      "Epoch: 100%|███████████████████████████████████| 255/255 [3:38:50<00:00, 51.49s/it]\n"
     ]
    },
    {
     "name": "stdout",
     "output_type": "stream",
     "text": [
      "| \u001b[0m48       \u001b[0m | \u001b[0m0.004512 \u001b[0m | \u001b[0m255.6    \u001b[0m | \u001b[0m0.07838  \u001b[0m | \u001b[0m0.004961 \u001b[0m | \u001b[0m94.44    \u001b[0m | \u001b[0m0.1326   \u001b[0m |\n",
      "[12.150726315496204, 0.035121063581757955, 105.55005686289434, 0.005588951820731254, 0.6050620782545705]\n"
     ]
    },
    {
     "name": "stderr",
     "output_type": "stream",
     "text": [
      "Epoch: 100%|███████████████████████████████████████| 12/12 [10:49<00:00, 54.12s/it]\n"
     ]
    },
    {
     "name": "stdout",
     "output_type": "stream",
     "text": [
      "| \u001b[0m49       \u001b[0m | \u001b[0m0.01297  \u001b[0m | \u001b[0m12.15    \u001b[0m | \u001b[0m0.005589 \u001b[0m | \u001b[0m0.03512  \u001b[0m | \u001b[0m105.6    \u001b[0m | \u001b[0m0.6051   \u001b[0m |\n",
      "[123.6487520411793, 0.029450108939601486, 56.38815097530244, 0.06281662578430636, 0.09963191095801747]\n"
     ]
    },
    {
     "name": "stderr",
     "output_type": "stream",
     "text": [
      "Epoch: 100%|█████████████████████████████████████| 123/123 [39:18<00:00, 19.18s/it]\n"
     ]
    },
    {
     "name": "stdout",
     "output_type": "stream",
     "text": [
      "| \u001b[0m50       \u001b[0m | \u001b[0m0.0      \u001b[0m | \u001b[0m123.6    \u001b[0m | \u001b[0m0.06282  \u001b[0m | \u001b[0m0.02945  \u001b[0m | \u001b[0m56.39    \u001b[0m | \u001b[0m0.09963  \u001b[0m |\n",
      "[142.76869433001715, 0.04216245836378821, 47.841173998130245, 0.019413687845884688, 0.10525854633918584]\n"
     ]
    },
    {
     "name": "stderr",
     "output_type": "stream",
     "text": [
      "Epoch: 100%|███████████████████████████████████| 142/142 [1:11:10<00:00, 30.07s/it]\n"
     ]
    },
    {
     "name": "stdout",
     "output_type": "stream",
     "text": [
      "| \u001b[0m51       \u001b[0m | \u001b[0m0.002356 \u001b[0m | \u001b[0m142.8    \u001b[0m | \u001b[0m0.01941  \u001b[0m | \u001b[0m0.04216  \u001b[0m | \u001b[0m47.84    \u001b[0m | \u001b[0m0.1053   \u001b[0m |\n",
      "[192.11148540347108, 0.011804620210475906, 141.49309969969693, 0.021023796223234567, 0.44623315388113927]\n"
     ]
    },
    {
     "name": "stderr",
     "output_type": "stream",
     "text": [
      "Epoch: 100%|███████████████████████████████████| 192/192 [3:28:07<00:00, 65.04s/it]\n"
     ]
    },
    {
     "name": "stdout",
     "output_type": "stream",
     "text": [
      "| \u001b[0m52       \u001b[0m | \u001b[0m0.01029  \u001b[0m | \u001b[0m192.1    \u001b[0m | \u001b[0m0.02102  \u001b[0m | \u001b[0m0.0118   \u001b[0m | \u001b[0m141.5    \u001b[0m | \u001b[0m0.4462   \u001b[0m |\n",
      "[42.90605646866443, 0.008418257861264619, 110.85572544833674, 0.003354034966993914, 0.394466688531036]\n"
     ]
    },
    {
     "name": "stderr",
     "output_type": "stream",
     "text": [
      "Epoch: 100%|███████████████████████████████████████| 42/42 [39:30<00:00, 56.44s/it]\n"
     ]
    },
    {
     "name": "stdout",
     "output_type": "stream",
     "text": [
      "| \u001b[0m53       \u001b[0m | \u001b[0m0.01297  \u001b[0m | \u001b[0m42.91    \u001b[0m | \u001b[0m0.003354 \u001b[0m | \u001b[0m0.008418 \u001b[0m | \u001b[0m110.9    \u001b[0m | \u001b[0m0.3945   \u001b[0m |\n",
      "[157.4043001283528, 0.04342818935707805, 118.68780153370473, 0.06343993728365131, 0.5447011134962418]\n"
     ]
    },
    {
     "name": "stderr",
     "output_type": "stream",
     "text": [
      "Epoch: 100%|█████████████████████████████████████| 157/157 [15:13<00:00,  5.82s/it]\n"
     ]
    },
    {
     "name": "stdout",
     "output_type": "stream",
     "text": [
      "| \u001b[0m54       \u001b[0m | \u001b[0m0.0004313\u001b[0m | \u001b[0m157.4    \u001b[0m | \u001b[0m0.06344  \u001b[0m | \u001b[0m0.04343  \u001b[0m | \u001b[0m118.7    \u001b[0m | \u001b[0m0.5447   \u001b[0m |\n",
      "[24.86298749345317, 0.037847382458210725, 91.19614777694804, 0.06507399802914944, 0.6047502121906176]\n"
     ]
    },
    {
     "name": "stderr",
     "output_type": "stream",
     "text": [
      "Epoch: 100%|███████████████████████████████████████| 24/24 [03:45<00:00,  9.40s/it]\n"
     ]
    },
    {
     "name": "stdout",
     "output_type": "stream",
     "text": [
      "| \u001b[0m55       \u001b[0m | \u001b[0m0.0      \u001b[0m | \u001b[0m24.86    \u001b[0m | \u001b[0m0.06507  \u001b[0m | \u001b[0m0.03785  \u001b[0m | \u001b[0m91.2     \u001b[0m | \u001b[0m0.6048   \u001b[0m |\n",
      "[56.21538268394752, 0.03808099891490398, 48.160574463178556, 0.09784996006374937, 0.010136505841876173]\n"
     ]
    },
    {
     "name": "stderr",
     "output_type": "stream",
     "text": [
      "Epoch: 100%|███████████████████████████████████████| 56/56 [32:22<00:00, 34.69s/it]\n"
     ]
    },
    {
     "name": "stdout",
     "output_type": "stream",
     "text": [
      "| \u001b[0m56       \u001b[0m | \u001b[0m0.008892 \u001b[0m | \u001b[0m56.22    \u001b[0m | \u001b[0m0.09785  \u001b[0m | \u001b[0m0.03808  \u001b[0m | \u001b[0m48.16    \u001b[0m | \u001b[0m0.01014  \u001b[0m |\n",
      "[130.5017803140115, 0.022235527829269457, 103.81336656440027, 0.049110154313935825, 0.4048976614853807]\n"
     ]
    },
    {
     "name": "stderr",
     "output_type": "stream",
     "text": [
      "Epoch: 100%|█████████████████████████████████████| 130/130 [37:31<00:00, 17.32s/it]\n"
     ]
    },
    {
     "name": "stdout",
     "output_type": "stream",
     "text": [
      "| \u001b[0m57       \u001b[0m | \u001b[0m0.0005972\u001b[0m | \u001b[0m130.5    \u001b[0m | \u001b[0m0.04911  \u001b[0m | \u001b[0m0.02224  \u001b[0m | \u001b[0m103.8    \u001b[0m | \u001b[0m0.4049   \u001b[0m |\n",
      "[213.58533375785188, 0.04061118420058606, 144.5046222029508, 0.02073232617068668, 0.3014897745014508]\n"
     ]
    },
    {
     "name": "stderr",
     "output_type": "stream",
     "text": [
      "Epoch: 100%|███████████████████████████████████| 213/213 [1:50:41<00:00, 31.18s/it]\n"
     ]
    },
    {
     "name": "stdout",
     "output_type": "stream",
     "text": [
      "| \u001b[0m58       \u001b[0m | \u001b[0m0.003384 \u001b[0m | \u001b[0m213.6    \u001b[0m | \u001b[0m0.02073  \u001b[0m | \u001b[0m0.04061  \u001b[0m | \u001b[0m144.5    \u001b[0m | \u001b[0m0.3015   \u001b[0m |\n",
      "[95.32431176477935, 0.04013804131750925, 132.74949308741594, 0.028363980542948742, 0.38986382876702785]\n"
     ]
    },
    {
     "name": "stderr",
     "output_type": "stream",
     "text": [
      "Epoch: 100%|███████████████████████████████████████| 95/95 [35:44<00:00, 22.57s/it]\n"
     ]
    },
    {
     "name": "stdout",
     "output_type": "stream",
     "text": [
      "| \u001b[0m59       \u001b[0m | \u001b[0m0.0004313\u001b[0m | \u001b[0m95.32    \u001b[0m | \u001b[0m0.02836  \u001b[0m | \u001b[0m0.04014  \u001b[0m | \u001b[0m132.7    \u001b[0m | \u001b[0m0.3899   \u001b[0m |\n",
      "[140.66292304994923, 0.021791682370980052, 131.08356482451163, 0.09153613712458693, 0.9690823559470401]\n"
     ]
    },
    {
     "name": "stderr",
     "output_type": "stream",
     "text": [
      "Epoch: 100%|█████████████████████████████████████| 140/140 [11:02<00:00,  4.73s/it]\n"
     ]
    },
    {
     "name": "stdout",
     "output_type": "stream",
     "text": [
      "| \u001b[0m60       \u001b[0m | \u001b[0m0.0      \u001b[0m | \u001b[0m140.7    \u001b[0m | \u001b[0m0.09154  \u001b[0m | \u001b[0m0.02179  \u001b[0m | \u001b[0m131.1    \u001b[0m | \u001b[0m0.9691   \u001b[0m |\n",
      "[62.14740103976743, 0.028767414951042625, 162.052088454949, 0.08138273353291896, 0.07113849652603839]\n"
     ]
    },
    {
     "name": "stderr",
     "output_type": "stream",
     "text": [
      "Epoch: 100%|███████████████████████████████████████| 62/62 [51:33<00:00, 49.89s/it]\n"
     ]
    },
    {
     "name": "stdout",
     "output_type": "stream",
     "text": [
      "| \u001b[0m61       \u001b[0m | \u001b[0m0.0      \u001b[0m | \u001b[0m62.15    \u001b[0m | \u001b[0m0.08138  \u001b[0m | \u001b[0m0.02877  \u001b[0m | \u001b[0m162.1    \u001b[0m | \u001b[0m0.07114  \u001b[0m |\n",
      "[30.104116829336295, 0.001951215459051826, 175.03376325002773, 0.023811435541666464, 0.5269098948276966]\n"
     ]
    },
    {
     "name": "stderr",
     "output_type": "stream",
     "text": [
      "Epoch: 100%|███████████████████████████████████████| 30/30 [33:21<00:00, 66.72s/it]\n"
     ]
    },
    {
     "name": "stdout",
     "output_type": "stream",
     "text": [
      "| \u001b[0m62       \u001b[0m | \u001b[0m0.01297  \u001b[0m | \u001b[0m30.1     \u001b[0m | \u001b[0m0.02381  \u001b[0m | \u001b[0m0.001951 \u001b[0m | \u001b[0m175.0    \u001b[0m | \u001b[0m0.5269   \u001b[0m |\n",
      "[239.30235370574817, 0.04104299883108303, 186.30201379675214, 0.06314180486986776, 0.33536138936721405]\n"
     ]
    },
    {
     "name": "stderr",
     "output_type": "stream",
     "text": [
      "Epoch: 100%|█████████████████████████████████████| 239/239 [29:43<00:00,  7.46s/it]\n"
     ]
    },
    {
     "name": "stdout",
     "output_type": "stream",
     "text": [
      "| \u001b[0m63       \u001b[0m | \u001b[0m0.0      \u001b[0m | \u001b[0m239.3    \u001b[0m | \u001b[0m0.06314  \u001b[0m | \u001b[0m0.04104  \u001b[0m | \u001b[0m186.3    \u001b[0m | \u001b[0m0.3354   \u001b[0m |\n",
      "[33.98384782415569, 0.03815684177684187, 136.0320261713864, 0.008811872223039044, 0.5390525661560398]\n"
     ]
    },
    {
     "name": "stderr",
     "output_type": "stream",
     "text": [
      "Epoch: 100%|███████████████████████████████████████| 33/33 [33:09<00:00, 60.30s/it]\n"
     ]
    },
    {
     "name": "stdout",
     "output_type": "stream",
     "text": [
      "| \u001b[0m64       \u001b[0m | \u001b[0m0.01297  \u001b[0m | \u001b[0m33.98    \u001b[0m | \u001b[0m0.008812 \u001b[0m | \u001b[0m0.03816  \u001b[0m | \u001b[0m136.0    \u001b[0m | \u001b[0m0.5391   \u001b[0m |\n",
      "[146.33224856800106, 0.003987155808785742, 150.88390739320675, 0.013938347024744693, 0.29886715117883095]\n"
     ]
    },
    {
     "name": "stderr",
     "output_type": "stream",
     "text": [
      "Epoch: 100%|███████████████████████████████████| 146/146 [2:04:15<00:00, 51.06s/it]\n"
     ]
    },
    {
     "name": "stdout",
     "output_type": "stream",
     "text": [
      "| \u001b[0m65       \u001b[0m | \u001b[0m0.008892 \u001b[0m | \u001b[0m146.3    \u001b[0m | \u001b[0m0.01394  \u001b[0m | \u001b[0m0.003987 \u001b[0m | \u001b[0m150.9    \u001b[0m | \u001b[0m0.2989   \u001b[0m |\n",
      "[130.17182272141238, 0.03357136044316222, 44.20546568995026, 0.006396842723311482, 0.7091593705289728]\n"
     ]
    },
    {
     "name": "stderr",
     "output_type": "stream",
     "text": [
      "Epoch: 100%|███████████████████████████████████| 130/130 [1:08:11<00:00, 31.47s/it]\n"
     ]
    },
    {
     "name": "stdout",
     "output_type": "stream",
     "text": [
      "| \u001b[0m66       \u001b[0m | \u001b[0m0.01297  \u001b[0m | \u001b[0m130.2    \u001b[0m | \u001b[0m0.006397 \u001b[0m | \u001b[0m0.03357  \u001b[0m | \u001b[0m44.21    \u001b[0m | \u001b[0m0.7092   \u001b[0m |\n",
      "[20.658870647037364, 0.03135806511021396, 83.03029947630318, 0.017582379689753815, 0.8098816115841784]\n"
     ]
    },
    {
     "name": "stderr",
     "output_type": "stream",
     "text": [
      "Epoch: 100%|███████████████████████████████████████| 20/20 [16:30<00:00, 49.52s/it]\n"
     ]
    },
    {
     "name": "stdout",
     "output_type": "stream",
     "text": [
      "| \u001b[0m67       \u001b[0m | \u001b[0m0.003583 \u001b[0m | \u001b[0m20.66    \u001b[0m | \u001b[0m0.01758  \u001b[0m | \u001b[0m0.03136  \u001b[0m | \u001b[0m83.03    \u001b[0m | \u001b[0m0.8099   \u001b[0m |\n",
      "[252.4892975891943, 0.0001008490614135129, 183.82102210673844, 0.030746331266622656, 0.492786257210299]\n"
     ]
    },
    {
     "name": "stderr",
     "output_type": "stream",
     "text": [
      "Epoch: 100%|███████████████████████████████████| 252/252 [4:46:37<00:00, 68.24s/it]\n"
     ]
    },
    {
     "name": "stdout",
     "output_type": "stream",
     "text": [
      "| \u001b[0m68       \u001b[0m | \u001b[0m0.01297  \u001b[0m | \u001b[0m252.5    \u001b[0m | \u001b[0m0.03075  \u001b[0m | \u001b[0m0.0001008\u001b[0m | \u001b[0m183.8    \u001b[0m | \u001b[0m0.4928   \u001b[0m |\n",
      "[83.84289445986802, 0.00711753566108857, 53.65327364637194, 0.04571763224476401, 0.6429458533532957]\n"
     ]
    },
    {
     "name": "stderr",
     "output_type": "stream",
     "text": [
      "Epoch: 100%|███████████████████████████████████████| 83/83 [52:06<00:00, 37.67s/it]\n"
     ]
    },
    {
     "name": "stdout",
     "output_type": "stream",
     "text": [
      "| \u001b[0m69       \u001b[0m | \u001b[0m0.01238  \u001b[0m | \u001b[0m83.84    \u001b[0m | \u001b[0m0.04572  \u001b[0m | \u001b[0m0.007118 \u001b[0m | \u001b[0m53.65    \u001b[0m | \u001b[0m0.6429   \u001b[0m |\n",
      "[220.35826455704148, 0.0384914330610293, 144.85531245009233, 0.01514219767436558, 0.6630318474591284]\n"
     ]
    },
    {
     "name": "stderr",
     "output_type": "stream",
     "text": [
      "Epoch: 100%|███████████████████████████████████| 220/220 [3:51:47<00:00, 63.21s/it]\n"
     ]
    },
    {
     "name": "stdout",
     "output_type": "stream",
     "text": [
      "| \u001b[0m70       \u001b[0m | \u001b[0m0.01257  \u001b[0m | \u001b[0m220.4    \u001b[0m | \u001b[0m0.01514  \u001b[0m | \u001b[0m0.03849  \u001b[0m | \u001b[0m144.9    \u001b[0m | \u001b[0m0.663    \u001b[0m |\n",
      "[87.72194663504523, 0.019009390749319937, 44.32313980474905, 1.880287749929721e-05, 0.03417162687712631]\n"
     ]
    },
    {
     "name": "stderr",
     "output_type": "stream",
     "text": [
      "Epoch: 100%|███████████████████████████████████████| 87/87 [41:32<00:00, 28.64s/it]\n"
     ]
    },
    {
     "name": "stdout",
     "output_type": "stream",
     "text": [
      "| \u001b[95m71       \u001b[0m | \u001b[95m0.07923  \u001b[0m | \u001b[95m87.72    \u001b[0m | \u001b[95m1.88e-05 \u001b[0m | \u001b[95m0.01901  \u001b[0m | \u001b[95m44.32    \u001b[0m | \u001b[95m0.03417  \u001b[0m |\n",
      "[67.77862246305358, 0.042450440853533264, 45.139722563300516, 0.052292463787506294, 0.3448704485241109]\n"
     ]
    },
    {
     "name": "stderr",
     "output_type": "stream",
     "text": [
      "Epoch: 100%|███████████████████████████████████████| 67/67 [06:05<00:00,  5.45s/it]\n"
     ]
    },
    {
     "name": "stdout",
     "output_type": "stream",
     "text": [
      "| \u001b[0m72       \u001b[0m | \u001b[0m0.0      \u001b[0m | \u001b[0m67.78    \u001b[0m | \u001b[0m0.05229  \u001b[0m | \u001b[0m0.04245  \u001b[0m | \u001b[0m45.14    \u001b[0m | \u001b[0m0.3449   \u001b[0m |\n",
      "[4.916031646896608, 0.029177639812638833, 191.7545645354588, 0.017917334736633473, 0.23395797288691822]\n"
     ]
    },
    {
     "name": "stderr",
     "output_type": "stream",
     "text": [
      "Epoch: 100%|█████████████████████████████████████████| 4/4 [04:27<00:00, 66.99s/it]\n"
     ]
    },
    {
     "name": "stdout",
     "output_type": "stream",
     "text": [
      "| \u001b[0m73       \u001b[0m | \u001b[0m0.01281  \u001b[0m | \u001b[0m4.916    \u001b[0m | \u001b[0m0.01792  \u001b[0m | \u001b[0m0.02918  \u001b[0m | \u001b[0m191.8    \u001b[0m | \u001b[0m0.234    \u001b[0m |\n",
      "[182.9451186586274, 0.015244357219010652, 148.50120798347115, 0.08891540158862346, 0.45344280991268676]\n"
     ]
    },
    {
     "name": "stderr",
     "output_type": "stream",
     "text": [
      "Epoch: 100%|█████████████████████████████████████| 182/182 [36:26<00:00, 12.01s/it]\n"
     ]
    },
    {
     "name": "stdout",
     "output_type": "stream",
     "text": [
      "| \u001b[0m74       \u001b[0m | \u001b[0m0.0003981\u001b[0m | \u001b[0m182.9    \u001b[0m | \u001b[0m0.08892  \u001b[0m | \u001b[0m0.01524  \u001b[0m | \u001b[0m148.5    \u001b[0m | \u001b[0m0.4534   \u001b[0m |\n",
      "[91.65304056829237, 0.015048117634555587, 178.25641894835852, 0.030047906705582425, 0.8047144682939368]\n"
     ]
    },
    {
     "name": "stderr",
     "output_type": "stream",
     "text": [
      "Epoch: 100%|█████████████████████████████████████| 91/91 [1:49:11<00:00, 71.99s/it]\n"
     ]
    },
    {
     "name": "stdout",
     "output_type": "stream",
     "text": [
      "| \u001b[0m75       \u001b[0m | \u001b[0m0.01102  \u001b[0m | \u001b[0m91.65    \u001b[0m | \u001b[0m0.03005  \u001b[0m | \u001b[0m0.01505  \u001b[0m | \u001b[0m178.3    \u001b[0m | \u001b[0m0.8047   \u001b[0m |\n",
      "[236.71747622613066, 0.023320695969313104, 117.39683308536858, 0.004880757539170478, 0.700031354113732]\n"
     ]
    },
    {
     "name": "stderr",
     "output_type": "stream",
     "text": [
      "Epoch: 100%|███████████████████████████████████| 236/236 [3:45:32<00:00, 57.34s/it]\n"
     ]
    },
    {
     "name": "stdout",
     "output_type": "stream",
     "text": [
      "| \u001b[0m76       \u001b[0m | \u001b[0m0.01297  \u001b[0m | \u001b[0m236.7    \u001b[0m | \u001b[0m0.004881 \u001b[0m | \u001b[0m0.02332  \u001b[0m | \u001b[0m117.4    \u001b[0m | \u001b[0m0.7      \u001b[0m |\n",
      "[189.16642893856957, 0.038564418635751156, 136.06455837051007, 0.0012874330565214847, 0.8842155184704212]\n"
     ]
    },
    {
     "name": "stderr",
     "output_type": "stream",
     "text": [
      "Epoch: 100%|███████████████████████████████████| 189/189 [3:08:21<00:00, 59.79s/it]\n"
     ]
    },
    {
     "name": "stdout",
     "output_type": "stream",
     "text": [
      "| \u001b[0m77       \u001b[0m | \u001b[0m0.01297  \u001b[0m | \u001b[0m189.2    \u001b[0m | \u001b[0m0.001287 \u001b[0m | \u001b[0m0.03856  \u001b[0m | \u001b[0m136.1    \u001b[0m | \u001b[0m0.8842   \u001b[0m |\n",
      "[27.27670143891072, 0.03845227426110559, 160.29903062178394, 0.07638990645310471, 0.9228118536047254]\n"
     ]
    },
    {
     "name": "stderr",
     "output_type": "stream",
     "text": [
      "Epoch: 100%|███████████████████████████████████████| 27/27 [02:48<00:00,  6.26s/it]\n"
     ]
    },
    {
     "name": "stdout",
     "output_type": "stream",
     "text": [
      "| \u001b[0m78       \u001b[0m | \u001b[0m0.0      \u001b[0m | \u001b[0m27.28    \u001b[0m | \u001b[0m0.07639  \u001b[0m | \u001b[0m0.03845  \u001b[0m | \u001b[0m160.3    \u001b[0m | \u001b[0m0.9228   \u001b[0m |\n",
      "[188.04779525742225, 0.015983803693616457, 187.01285674950822, 0.0951292902792416, 0.08979219294206052]\n"
     ]
    },
    {
     "name": "stderr",
     "output_type": "stream",
     "text": [
      "Epoch: 100%|███████████████████████████████████| 188/188 [1:45:38<00:00, 33.71s/it]\n"
     ]
    },
    {
     "name": "stdout",
     "output_type": "stream",
     "text": [
      "| \u001b[0m79       \u001b[0m | \u001b[0m0.0      \u001b[0m | \u001b[0m188.0    \u001b[0m | \u001b[0m0.09513  \u001b[0m | \u001b[0m0.01598  \u001b[0m | \u001b[0m187.0    \u001b[0m | \u001b[0m0.08979  \u001b[0m |\n",
      "[107.82079720933457, 0.047587184632347075, 166.33090657918035, 0.04189214963587832, 0.7446880426897289]\n"
     ]
    },
    {
     "name": "stderr",
     "output_type": "stream",
     "text": [
      "Epoch: 100%|█████████████████████████████████████| 107/107 [18:15<00:00, 10.24s/it]\n"
     ]
    },
    {
     "name": "stdout",
     "output_type": "stream",
     "text": [
      "| \u001b[0m80       \u001b[0m | \u001b[0m0.005873 \u001b[0m | \u001b[0m107.8    \u001b[0m | \u001b[0m0.04189  \u001b[0m | \u001b[0m0.04759  \u001b[0m | \u001b[0m166.3    \u001b[0m | \u001b[0m0.7447   \u001b[0m |\n",
      "[211.72335643660944, 0.04698419959572359, 183.98871898521384, 0.017120635623243244, 0.025187179356118205]\n"
     ]
    },
    {
     "name": "stderr",
     "output_type": "stream",
     "text": [
      "Epoch: 100%|███████████████████████████████████| 211/211 [3:46:32<00:00, 64.42s/it]\n"
     ]
    },
    {
     "name": "stdout",
     "output_type": "stream",
     "text": [
      "| \u001b[0m81       \u001b[0m | \u001b[0m0.01204  \u001b[0m | \u001b[0m211.7    \u001b[0m | \u001b[0m0.01712  \u001b[0m | \u001b[0m0.04698  \u001b[0m | \u001b[0m184.0    \u001b[0m | \u001b[0m0.02519  \u001b[0m |\n",
      "[209.3825758601729, 0.030079163500997787, 199.41483484654978, 0.07558015960384085, 0.4982827314969506]\n"
     ]
    },
    {
     "name": "stderr",
     "output_type": "stream",
     "text": [
      "Epoch: 100%|█████████████████████████████████████| 209/209 [33:54<00:00,  9.73s/it]\n"
     ]
    },
    {
     "name": "stdout",
     "output_type": "stream",
     "text": [
      "| \u001b[0m82       \u001b[0m | \u001b[0m0.002455 \u001b[0m | \u001b[0m209.4    \u001b[0m | \u001b[0m0.07558  \u001b[0m | \u001b[0m0.03008  \u001b[0m | \u001b[0m199.4    \u001b[0m | \u001b[0m0.4983   \u001b[0m |\n",
      "[145.2522327651066, 0.043490239639657396, 133.70662286517597, 0.025523094143042525, 0.8665386229593585]\n"
     ]
    },
    {
     "name": "stderr",
     "output_type": "stream",
     "text": [
      "Epoch: 100%|███████████████████████████████████| 145/145 [1:12:59<00:00, 30.21s/it]\n"
     ]
    },
    {
     "name": "stdout",
     "output_type": "stream",
     "text": [
      "| \u001b[0m83       \u001b[0m | \u001b[0m0.007299 \u001b[0m | \u001b[0m145.3    \u001b[0m | \u001b[0m0.02552  \u001b[0m | \u001b[0m0.04349  \u001b[0m | \u001b[0m133.7    \u001b[0m | \u001b[0m0.8665   \u001b[0m |\n",
      "[15.357120230242206, 0.007032897208525445, 114.57183143100885, 0.02274925113679376, 0.7155074412459191]\n"
     ]
    },
    {
     "name": "stderr",
     "output_type": "stream",
     "text": [
      "Epoch: 100%|███████████████████████████████████████| 15/15 [13:57<00:00, 55.84s/it]\n"
     ]
    },
    {
     "name": "stdout",
     "output_type": "stream",
     "text": [
      "| \u001b[0m84       \u001b[0m | \u001b[0m0.0134   \u001b[0m | \u001b[0m15.36    \u001b[0m | \u001b[0m0.02275  \u001b[0m | \u001b[0m0.007033 \u001b[0m | \u001b[0m114.6    \u001b[0m | \u001b[0m0.7155   \u001b[0m |\n",
      "[186.97590209783758, 0.025376476002197883, 109.53790450320776, 0.05068603034555583, 0.8252854400799821]\n"
     ]
    },
    {
     "name": "stderr",
     "output_type": "stream",
     "text": [
      "Epoch: 100%|███████████████████████████████████| 186/186 [2:10:10<00:00, 41.99s/it]\n"
     ]
    },
    {
     "name": "stdout",
     "output_type": "stream",
     "text": [
      "| \u001b[0m85       \u001b[0m | \u001b[0m0.007764 \u001b[0m | \u001b[0m187.0    \u001b[0m | \u001b[0m0.05069  \u001b[0m | \u001b[0m0.02538  \u001b[0m | \u001b[0m109.5    \u001b[0m | \u001b[0m0.8253   \u001b[0m |\n",
      "[106.42187047077684, 0.043538979306613254, 53.2206165473955, 0.08998203779526022, 0.7961852736110061]\n"
     ]
    },
    {
     "name": "stderr",
     "output_type": "stream",
     "text": [
      "Epoch: 100%|█████████████████████████████████████| 106/106 [03:07<00:00,  1.77s/it]\n"
     ]
    },
    {
     "name": "stdout",
     "output_type": "stream",
     "text": [
      "| \u001b[0m86       \u001b[0m | \u001b[0m0.0      \u001b[0m | \u001b[0m106.4    \u001b[0m | \u001b[0m0.08998  \u001b[0m | \u001b[0m0.04354  \u001b[0m | \u001b[0m53.22    \u001b[0m | \u001b[0m0.7962   \u001b[0m |\n",
      "[13.256706259519884, 0.04775874211558496, 64.66962122212698, 0.023125101930779227, 0.4854143994663506]\n"
     ]
    },
    {
     "name": "stderr",
     "output_type": "stream",
     "text": [
      "Epoch: 100%|███████████████████████████████████████| 13/13 [08:02<00:00, 37.13s/it]\n"
     ]
    },
    {
     "name": "stdout",
     "output_type": "stream",
     "text": [
      "| \u001b[0m87       \u001b[0m | \u001b[0m0.0      \u001b[0m | \u001b[0m13.26    \u001b[0m | \u001b[0m0.02313  \u001b[0m | \u001b[0m0.04776  \u001b[0m | \u001b[0m64.67    \u001b[0m | \u001b[0m0.4854   \u001b[0m |\n",
      "[79.42254957919981, 0.004139834936955579, 20.392839164416287, 0.07917792003383207, 0.24324297734524133]\n"
     ]
    },
    {
     "name": "stderr",
     "output_type": "stream",
     "text": [
      "Epoch: 100%|███████████████████████████████████████| 79/79 [15:57<00:00, 12.12s/it]\n"
     ]
    },
    {
     "name": "stdout",
     "output_type": "stream",
     "text": [
      "| \u001b[0m88       \u001b[0m | \u001b[0m0.01208  \u001b[0m | \u001b[0m79.42    \u001b[0m | \u001b[0m0.07918  \u001b[0m | \u001b[0m0.00414  \u001b[0m | \u001b[0m20.39    \u001b[0m | \u001b[0m0.2432   \u001b[0m |\n",
      "[250.32812109433476, 0.04287885430782824, 90.36348824868054, 0.04116602093565928, 0.10799500021581863]\n"
     ]
    },
    {
     "name": "stderr",
     "output_type": "stream",
     "text": [
      "Epoch: 100%|█████████████████████████████████████| 250/250 [57:44<00:00, 13.86s/it]\n"
     ]
    },
    {
     "name": "stdout",
     "output_type": "stream",
     "text": [
      "| \u001b[0m89       \u001b[0m | \u001b[0m0.0      \u001b[0m | \u001b[0m250.3    \u001b[0m | \u001b[0m0.04117  \u001b[0m | \u001b[0m0.04288  \u001b[0m | \u001b[0m90.36    \u001b[0m | \u001b[0m0.108    \u001b[0m |\n",
      "[231.94864891405638, 0.0449018342148603, 118.9874398218106, 0.06255427771705567, 0.9141318265226637]\n"
     ]
    },
    {
     "name": "stderr",
     "output_type": "stream",
     "text": [
      "Epoch: 100%|█████████████████████████████████████| 231/231 [12:32<00:00,  3.26s/it]\n"
     ]
    },
    {
     "name": "stdout",
     "output_type": "stream",
     "text": [
      "| \u001b[0m90       \u001b[0m | \u001b[0m0.0      \u001b[0m | \u001b[0m231.9    \u001b[0m | \u001b[0m0.06255  \u001b[0m | \u001b[0m0.0449   \u001b[0m | \u001b[0m119.0    \u001b[0m | \u001b[0m0.9141   \u001b[0m |\n",
      "[250.3196435745295, 0.030649873275050313, 162.80534089324556, 0.012888167520537766, 0.09657733486449972]\n"
     ]
    },
    {
     "name": "stderr",
     "output_type": "stream",
     "text": [
      "Epoch: 100%|███████████████████████████████████| 250/250 [4:00:06<00:00, 57.62s/it]\n"
     ]
    },
    {
     "name": "stdout",
     "output_type": "stream",
     "text": [
      "| \u001b[0m91       \u001b[0m | \u001b[0m0.006271 \u001b[0m | \u001b[0m250.3    \u001b[0m | \u001b[0m0.01289  \u001b[0m | \u001b[0m0.03065  \u001b[0m | \u001b[0m162.8    \u001b[0m | \u001b[0m0.09658  \u001b[0m |\n",
      "[125.94174354367426, 0.012844841220293744, 136.4066782047806, 0.04372748508594856, 0.8904017828454602]\n"
     ]
    },
    {
     "name": "stderr",
     "output_type": "stream",
     "text": [
      "Epoch: 100%|███████████████████████████████████| 125/125 [1:52:46<00:00, 54.13s/it]\n"
     ]
    },
    {
     "name": "stdout",
     "output_type": "stream",
     "text": [
      "| \u001b[0m92       \u001b[0m | \u001b[0m0.01102  \u001b[0m | \u001b[0m125.9    \u001b[0m | \u001b[0m0.04373  \u001b[0m | \u001b[0m0.01284  \u001b[0m | \u001b[0m136.4    \u001b[0m | \u001b[0m0.8904   \u001b[0m |\n",
      "[209.6308216064065, 0.04470917602297937, 164.6782275333274, 0.07241096167507928, 0.13468432052442492]\n"
     ]
    },
    {
     "name": "stderr",
     "output_type": "stream",
     "text": [
      "Epoch: 100%|█████████████████████████████████████| 209/209 [28:30<00:00,  8.19s/it]\n"
     ]
    },
    {
     "name": "stdout",
     "output_type": "stream",
     "text": [
      "| \u001b[0m93       \u001b[0m | \u001b[0m0.0      \u001b[0m | \u001b[0m209.6    \u001b[0m | \u001b[0m0.07241  \u001b[0m | \u001b[0m0.04471  \u001b[0m | \u001b[0m164.7    \u001b[0m | \u001b[0m0.1347   \u001b[0m |\n",
      "[224.12434709510782, 0.03605473379891059, 151.10799493864556, 0.0417001057157737, 0.8713052412764422]\n"
     ]
    },
    {
     "name": "stderr",
     "output_type": "stream",
     "text": [
      "Epoch: 100%|███████████████████████████████████| 224/224 [3:51:28<00:00, 62.00s/it]\n"
     ]
    },
    {
     "name": "stdout",
     "output_type": "stream",
     "text": [
      "| \u001b[0m94       \u001b[0m | \u001b[0m0.006603 \u001b[0m | \u001b[0m224.1    \u001b[0m | \u001b[0m0.0417   \u001b[0m | \u001b[0m0.03605  \u001b[0m | \u001b[0m151.1    \u001b[0m | \u001b[0m0.8713   \u001b[0m |\n",
      "[152.09562412421516, 0.02589839689415757, 174.14950042172825, 0.07206901117137018, 0.7153319404169594]\n"
     ]
    },
    {
     "name": "stderr",
     "output_type": "stream",
     "text": [
      "Epoch: 100%|███████████████████████████████████| 152/152 [1:00:30<00:00, 23.89s/it]\n"
     ]
    },
    {
     "name": "stdout",
     "output_type": "stream",
     "text": [
      "| \u001b[0m95       \u001b[0m | \u001b[0m0.005773 \u001b[0m | \u001b[0m152.1    \u001b[0m | \u001b[0m0.07207  \u001b[0m | \u001b[0m0.0259   \u001b[0m | \u001b[0m174.1    \u001b[0m | \u001b[0m0.7153   \u001b[0m |\n",
      "[193.73391750968048, 0.0482543173764277, 36.225303778750494, 0.0018411459630754742, 0.039918996745667304]\n"
     ]
    },
    {
     "name": "stderr",
     "output_type": "stream",
     "text": [
      "Epoch: 100%|███████████████████████████████████| 193/193 [1:16:10<00:00, 23.68s/it]\n"
     ]
    },
    {
     "name": "stdout",
     "output_type": "stream",
     "text": [
      "| \u001b[0m96       \u001b[0m | \u001b[0m0.02167  \u001b[0m | \u001b[0m193.7    \u001b[0m | \u001b[0m0.001841 \u001b[0m | \u001b[0m0.04825  \u001b[0m | \u001b[0m36.23    \u001b[0m | \u001b[0m0.03992  \u001b[0m |\n",
      "[193.36018945004977, 0.04874060453251264, 168.34536787239298, 0.007971202979376134, 0.6733818363930145]\n"
     ]
    },
    {
     "name": "stderr",
     "output_type": "stream",
     "text": [
      "Epoch: 100%|███████████████████████████████████| 193/193 [3:56:29<00:00, 73.52s/it]\n"
     ]
    },
    {
     "name": "stdout",
     "output_type": "stream",
     "text": [
      "| \u001b[0m97       \u001b[0m | \u001b[0m0.01297  \u001b[0m | \u001b[0m193.4    \u001b[0m | \u001b[0m0.007971 \u001b[0m | \u001b[0m0.04874  \u001b[0m | \u001b[0m168.3    \u001b[0m | \u001b[0m0.6734   \u001b[0m |\n",
      "[5.665998931427239, 0.02517363121116406, 29.195092788081183, 0.012835100677148065, 0.4465411116426823]\n"
     ]
    },
    {
     "name": "stderr",
     "output_type": "stream",
     "text": [
      "Epoch: 100%|█████████████████████████████████████████| 5/5 [01:29<00:00, 17.82s/it]\n"
     ]
    },
    {
     "name": "stdout",
     "output_type": "stream",
     "text": [
      "| \u001b[0m98       \u001b[0m | \u001b[0m0.01297  \u001b[0m | \u001b[0m5.666    \u001b[0m | \u001b[0m0.01284  \u001b[0m | \u001b[0m0.02517  \u001b[0m | \u001b[0m29.2     \u001b[0m | \u001b[0m0.4465   \u001b[0m |\n",
      "[231.70829635794757, 0.020385670243266117, 121.65185288785325, 0.01797307641672934, 0.3663539119083158]\n"
     ]
    },
    {
     "name": "stderr",
     "output_type": "stream",
     "text": [
      "Epoch: 100%|███████████████████████████████████| 231/231 [4:16:36<00:00, 66.65s/it]\n"
     ]
    },
    {
     "name": "stdout",
     "output_type": "stream",
     "text": [
      "| \u001b[0m99       \u001b[0m | \u001b[0m0.01274  \u001b[0m | \u001b[0m231.7    \u001b[0m | \u001b[0m0.01797  \u001b[0m | \u001b[0m0.02039  \u001b[0m | \u001b[0m121.7    \u001b[0m | \u001b[0m0.3664   \u001b[0m |\n",
      "[199.32327368935125, 0.04996093392385944, 155.198204350966, 0.08809255267767123, 0.5927015051640327]\n"
     ]
    },
    {
     "name": "stderr",
     "output_type": "stream",
     "text": [
      "Epoch: 100%|█████████████████████████████████████| 199/199 [13:44<00:00,  4.14s/it]\n"
     ]
    },
    {
     "name": "stdout",
     "output_type": "stream",
     "text": [
      "| \u001b[0m100      \u001b[0m | \u001b[0m0.0      \u001b[0m | \u001b[0m199.3    \u001b[0m | \u001b[0m0.08809  \u001b[0m | \u001b[0m0.04996  \u001b[0m | \u001b[0m155.2    \u001b[0m | \u001b[0m0.5927   \u001b[0m |\n",
      "[42.89768101633352, 0.026598883723873843, 193.02448206914605, 0.07882614710883246, 0.11249022869619851]\n"
     ]
    },
    {
     "name": "stderr",
     "output_type": "stream",
     "text": [
      "Epoch: 100%|███████████████████████████████████████| 42/42 [36:30<00:00, 52.15s/it]\n"
     ]
    },
    {
     "name": "stdout",
     "output_type": "stream",
     "text": [
      "| \u001b[0m101      \u001b[0m | \u001b[0m0.0      \u001b[0m | \u001b[0m42.9     \u001b[0m | \u001b[0m0.07883  \u001b[0m | \u001b[0m0.0266   \u001b[0m | \u001b[0m193.0    \u001b[0m | \u001b[0m0.1125   \u001b[0m |\n",
      "[148.6852775345661, 0.04901201549170186, 34.771619719419306, 0.08516220027759007, 0.9691922307823281]\n"
     ]
    },
    {
     "name": "stderr",
     "output_type": "stream",
     "text": [
      "Epoch: 100%|█████████████████████████████████████| 148/148 [02:44<00:00,  1.11s/it]\n"
     ]
    },
    {
     "name": "stdout",
     "output_type": "stream",
     "text": [
      "| \u001b[0m102      \u001b[0m | \u001b[0m0.002721 \u001b[0m | \u001b[0m148.7    \u001b[0m | \u001b[0m0.08516  \u001b[0m | \u001b[0m0.04901  \u001b[0m | \u001b[0m34.77    \u001b[0m | \u001b[0m0.9692   \u001b[0m |\n",
      "[249.26486988391477, 0.04431729023839846, 132.44903626084673, 0.08721427556146638, 0.24281973647380434]\n"
     ]
    },
    {
     "name": "stderr",
     "output_type": "stream",
     "text": [
      "Epoch: 100%|█████████████████████████████████████| 249/249 [16:15<00:00,  3.92s/it]\n"
     ]
    },
    {
     "name": "stdout",
     "output_type": "stream",
     "text": [
      "| \u001b[0m103      \u001b[0m | \u001b[0m0.0      \u001b[0m | \u001b[0m249.3    \u001b[0m | \u001b[0m0.08721  \u001b[0m | \u001b[0m0.04432  \u001b[0m | \u001b[0m132.4    \u001b[0m | \u001b[0m0.2428   \u001b[0m |\n",
      "[245.7053067514153, 0.01020677042030365, 165.3975513318738, 0.09524381264000939, 0.10795202573015221]\n"
     ]
    },
    {
     "name": "stderr",
     "output_type": "stream",
     "text": [
      "Epoch: 100%|███████████████████████████████████| 245/245 [2:25:03<00:00, 35.53s/it]\n"
     ]
    },
    {
     "name": "stdout",
     "output_type": "stream",
     "text": [
      "| \u001b[0m104      \u001b[0m | \u001b[0m0.0      \u001b[0m | \u001b[0m245.7    \u001b[0m | \u001b[0m0.09524  \u001b[0m | \u001b[0m0.01021  \u001b[0m | \u001b[0m165.4    \u001b[0m | \u001b[0m0.108    \u001b[0m |\n",
      "[89.40477556577564, 0.046222748471435524, 104.67980411058895, 0.0882026199298726, 0.7466977646927023]\n"
     ]
    },
    {
     "name": "stderr",
     "output_type": "stream",
     "text": [
      "Epoch: 100%|███████████████████████████████████████| 89/89 [04:36<00:00,  3.11s/it]\n"
     ]
    },
    {
     "name": "stdout",
     "output_type": "stream",
     "text": [
      "| \u001b[0m105      \u001b[0m | \u001b[0m0.0      \u001b[0m | \u001b[0m89.4     \u001b[0m | \u001b[0m0.0882   \u001b[0m | \u001b[0m0.04622  \u001b[0m | \u001b[0m104.7    \u001b[0m | \u001b[0m0.7467   \u001b[0m |\n",
      "[185.96493142946323, 0.01899083568481039, 181.2472001983136, 0.09277089992259233, 0.8528246868031587]\n"
     ]
    },
    {
     "name": "stderr",
     "output_type": "stream",
     "text": [
      "Epoch: 100%|███████████████████████████████████| 185/185 [2:48:26<00:00, 54.63s/it]\n"
     ]
    },
    {
     "name": "stdout",
     "output_type": "stream",
     "text": [
      "| \u001b[0m106      \u001b[0m | \u001b[0m0.006038 \u001b[0m | \u001b[0m186.0    \u001b[0m | \u001b[0m0.09277  \u001b[0m | \u001b[0m0.01899  \u001b[0m | \u001b[0m181.2    \u001b[0m | \u001b[0m0.8528   \u001b[0m |\n",
      "[233.87491838896202, 0.0300606672393444, 145.8745755128806, 0.08412935417917833, 0.6785600855252516]\n"
     ]
    },
    {
     "name": "stderr",
     "output_type": "stream",
     "text": [
      "Epoch: 100%|███████████████████████████████████| 233/233 [2:51:19<00:00, 44.12s/it]\n"
     ]
    },
    {
     "name": "stdout",
     "output_type": "stream",
     "text": [
      "| \u001b[0m107      \u001b[0m | \u001b[0m0.005939 \u001b[0m | \u001b[0m233.9    \u001b[0m | \u001b[0m0.08413  \u001b[0m | \u001b[0m0.03006  \u001b[0m | \u001b[0m145.9    \u001b[0m | \u001b[0m0.6786   \u001b[0m |\n",
      "[232.36971211833665, 0.015123221190230126, 127.78843249522912, 0.016170883039951955, 0.0927302326781686]\n"
     ]
    },
    {
     "name": "stderr",
     "output_type": "stream",
     "text": [
      "Epoch: 100%|███████████████████████████████████| 232/232 [3:27:42<00:00, 53.72s/it]\n"
     ]
    },
    {
     "name": "stdout",
     "output_type": "stream",
     "text": [
      "| \u001b[0m108      \u001b[0m | \u001b[0m0.009456 \u001b[0m | \u001b[0m232.4    \u001b[0m | \u001b[0m0.01617  \u001b[0m | \u001b[0m0.01512  \u001b[0m | \u001b[0m127.8    \u001b[0m | \u001b[0m0.09273  \u001b[0m |\n",
      "[170.55738061878642, 0.04862862430795886, 83.02417326532807, 0.011102910829091147, 0.10101696420657925]\n"
     ]
    },
    {
     "name": "stderr",
     "output_type": "stream",
     "text": [
      "Epoch: 100%|███████████████████████████████████| 170/170 [2:13:37<00:00, 47.16s/it]\n"
     ]
    },
    {
     "name": "stdout",
     "output_type": "stream",
     "text": [
      "| \u001b[0m109      \u001b[0m | \u001b[0m0.003616 \u001b[0m | \u001b[0m170.6    \u001b[0m | \u001b[0m0.0111   \u001b[0m | \u001b[0m0.04863  \u001b[0m | \u001b[0m83.02    \u001b[0m | \u001b[0m0.101    \u001b[0m |\n",
      "[11.888847241026482, 0.00254193584473729, 54.224549222448466, 0.03176669138135471, 0.5371066534455923]\n"
     ]
    },
    {
     "name": "stderr",
     "output_type": "stream",
     "text": [
      "Epoch: 100%|███████████████████████████████████████| 11/11 [06:48<00:00, 37.18s/it]\n"
     ]
    },
    {
     "name": "stdout",
     "output_type": "stream",
     "text": [
      "| \u001b[0m110      \u001b[0m | \u001b[0m0.01062  \u001b[0m | \u001b[0m11.89    \u001b[0m | \u001b[0m0.03177  \u001b[0m | \u001b[0m0.002542 \u001b[0m | \u001b[0m54.22    \u001b[0m | \u001b[0m0.5371   \u001b[0m |\n",
      "[37.94673439765459, 0.021220693441326877, 110.2122953627609, 0.017367473123844512, 0.9486536868952625]\n"
     ]
    },
    {
     "name": "stderr",
     "output_type": "stream",
     "text": [
      "Epoch: 100%|███████████████████████████████████████| 37/37 [34:41<00:00, 56.25s/it]\n"
     ]
    },
    {
     "name": "stdout",
     "output_type": "stream",
     "text": [
      "| \u001b[0m111      \u001b[0m | \u001b[0m0.01184  \u001b[0m | \u001b[0m37.95    \u001b[0m | \u001b[0m0.01737  \u001b[0m | \u001b[0m0.02122  \u001b[0m | \u001b[0m110.2    \u001b[0m | \u001b[0m0.9487   \u001b[0m |\n",
      "[173.42447990015242, 0.009034213166463663, 190.62333217284012, 0.09569746098235206, 0.4270408956299699]\n"
     ]
    },
    {
     "name": "stderr",
     "output_type": "stream",
     "text": [
      "Epoch: 100%|███████████████████████████████████| 173/173 [1:17:12<00:00, 26.78s/it]\n"
     ]
    },
    {
     "name": "stdout",
     "output_type": "stream",
     "text": [
      "| \u001b[0m112      \u001b[0m | \u001b[0m0.001991 \u001b[0m | \u001b[0m173.4    \u001b[0m | \u001b[0m0.0957   \u001b[0m | \u001b[0m0.009034 \u001b[0m | \u001b[0m190.6    \u001b[0m | \u001b[0m0.427    \u001b[0m |\n",
      "[50.11993439268422, 0.03526619649240605, 64.80140683656532, 0.009702491021320175, 0.2189895370806513]\n"
     ]
    },
    {
     "name": "stderr",
     "output_type": "stream",
     "text": [
      "Epoch: 100%|███████████████████████████████████████| 50/50 [35:41<00:00, 42.82s/it]\n"
     ]
    },
    {
     "name": "stdout",
     "output_type": "stream",
     "text": [
      "| \u001b[0m113      \u001b[0m | \u001b[0m0.01297  \u001b[0m | \u001b[0m50.12    \u001b[0m | \u001b[0m0.009702 \u001b[0m | \u001b[0m0.03527  \u001b[0m | \u001b[0m64.8     \u001b[0m | \u001b[0m0.219    \u001b[0m |\n",
      "[200.11185904170298, 0.036926212648436305, 179.94641602897823, 0.05179377314044074, 0.9929028599815313]\n"
     ]
    },
    {
     "name": "stderr",
     "output_type": "stream",
     "text": [
      "Epoch: 100%|█████████████████████████████████████| 200/200 [19:07<00:00,  5.74s/it]\n"
     ]
    },
    {
     "name": "stdout",
     "output_type": "stream",
     "text": [
      "| \u001b[0m114      \u001b[0m | \u001b[0m0.0      \u001b[0m | \u001b[0m200.1    \u001b[0m | \u001b[0m0.05179  \u001b[0m | \u001b[0m0.03693  \u001b[0m | \u001b[0m179.9    \u001b[0m | \u001b[0m0.9929   \u001b[0m |\n",
      "[73.90130166775775, 0.030038778530118136, 137.38603721874256, 0.019953840674226658, 0.3358823281864667]\n"
     ]
    },
    {
     "name": "stderr",
     "output_type": "stream",
     "text": [
      "Epoch: 100%|█████████████████████████████████████| 73/73 [1:01:51<00:00, 50.84s/it]\n"
     ]
    },
    {
     "name": "stdout",
     "output_type": "stream",
     "text": [
      "| \u001b[0m115      \u001b[0m | \u001b[0m0.003616 \u001b[0m | \u001b[0m73.9     \u001b[0m | \u001b[0m0.01995  \u001b[0m | \u001b[0m0.03004  \u001b[0m | \u001b[0m137.4    \u001b[0m | \u001b[0m0.3359   \u001b[0m |\n",
      "[235.60288626273845, 0.014870559034156277, 54.977808053975615, 0.005826660203103318, 0.12078481565172677]\n"
     ]
    },
    {
     "name": "stderr",
     "output_type": "stream",
     "text": [
      "Epoch: 100%|███████████████████████████████████| 235/235 [2:28:23<00:00, 37.89s/it]\n"
     ]
    },
    {
     "name": "stdout",
     "output_type": "stream",
     "text": [
      "| \u001b[0m116      \u001b[0m | \u001b[0m0.01297  \u001b[0m | \u001b[0m235.6    \u001b[0m | \u001b[0m0.005827 \u001b[0m | \u001b[0m0.01487  \u001b[0m | \u001b[0m54.98    \u001b[0m | \u001b[0m0.1208   \u001b[0m |\n",
      "[157.83465954631254, 0.020343613363664356, 65.53934726610515, 0.025730197354560943, 0.4142719899671328]\n"
     ]
    },
    {
     "name": "stderr",
     "output_type": "stream",
     "text": [
      "Epoch: 100%|███████████████████████████████████| 157/157 [1:26:07<00:00, 32.92s/it]\n"
     ]
    },
    {
     "name": "stdout",
     "output_type": "stream",
     "text": [
      "| \u001b[0m117      \u001b[0m | \u001b[0m0.009788 \u001b[0m | \u001b[0m157.8    \u001b[0m | \u001b[0m0.02573  \u001b[0m | \u001b[0m0.02034  \u001b[0m | \u001b[0m65.54    \u001b[0m | \u001b[0m0.4143   \u001b[0m |\n",
      "[44.22331206087636, 0.026704801051112333, 195.9439553210686, 0.020654941573864997, 0.9806373684906416]\n"
     ]
    },
    {
     "name": "stderr",
     "output_type": "stream",
     "text": [
      "Epoch: 100%|███████████████████████████████████████| 44/44 [33:00<00:00, 45.01s/it]\n"
     ]
    },
    {
     "name": "stdout",
     "output_type": "stream",
     "text": [
      "| \u001b[0m118      \u001b[0m | \u001b[0m0.003318 \u001b[0m | \u001b[0m44.22    \u001b[0m | \u001b[0m0.02065  \u001b[0m | \u001b[0m0.0267   \u001b[0m | \u001b[0m195.9    \u001b[0m | \u001b[0m0.9806   \u001b[0m |\n",
      "[213.47557433021817, 0.04256503774033394, 110.28082849629486, 0.08505883344120861, 0.9548863954427163]\n"
     ]
    },
    {
     "name": "stderr",
     "output_type": "stream",
     "text": [
      "Epoch: 100%|█████████████████████████████████████| 213/213 [09:51<00:00,  2.78s/it]\n"
     ]
    },
    {
     "name": "stdout",
     "output_type": "stream",
     "text": [
      "| \u001b[0m119      \u001b[0m | \u001b[0m0.0      \u001b[0m | \u001b[0m213.5    \u001b[0m | \u001b[0m0.08506  \u001b[0m | \u001b[0m0.04257  \u001b[0m | \u001b[0m110.3    \u001b[0m | \u001b[0m0.9549   \u001b[0m |\n",
      "[127.98369922524635, 0.04088543198489454, 43.60508278706985, 0.07341389053032336, 0.07444738095701618]\n"
     ]
    },
    {
     "name": "stderr",
     "output_type": "stream",
     "text": [
      "Epoch: 100%|█████████████████████████████████████| 127/127 [25:13<00:00, 11.92s/it]\n"
     ]
    },
    {
     "name": "stdout",
     "output_type": "stream",
     "text": [
      "| \u001b[0m120      \u001b[0m | \u001b[0m0.0      \u001b[0m | \u001b[0m128.0    \u001b[0m | \u001b[0m0.07341  \u001b[0m | \u001b[0m0.04089  \u001b[0m | \u001b[0m43.61    \u001b[0m | \u001b[0m0.07445  \u001b[0m |\n",
      "[120.55055843575909, 0.007084258370319687, 105.62604508846606, 0.027347568484125274, 0.8072390157463363]\n"
     ]
    },
    {
     "name": "stderr",
     "output_type": "stream",
     "text": [
      "Epoch: 100%|███████████████████████████████████| 120/120 [2:01:24<00:00, 60.71s/it]\n"
     ]
    },
    {
     "name": "stdout",
     "output_type": "stream",
     "text": [
      "| \u001b[0m121      \u001b[0m | \u001b[0m0.01297  \u001b[0m | \u001b[0m120.6    \u001b[0m | \u001b[0m0.02735  \u001b[0m | \u001b[0m0.007084 \u001b[0m | \u001b[0m105.6    \u001b[0m | \u001b[0m0.8072   \u001b[0m |\n",
      "[180.86686704503438, 0.01631004850102542, 28.746736454928843, 0.002676961263034315, 0.9994394268997443]\n"
     ]
    },
    {
     "name": "stderr",
     "output_type": "stream",
     "text": [
      "Epoch: 100%|█████████████████████████████████████| 180/180 [54:22<00:00, 18.12s/it]\n"
     ]
    },
    {
     "name": "stdout",
     "output_type": "stream",
     "text": [
      "| \u001b[0m122      \u001b[0m | \u001b[0m0.01297  \u001b[0m | \u001b[0m180.9    \u001b[0m | \u001b[0m0.002677 \u001b[0m | \u001b[0m0.01631  \u001b[0m | \u001b[0m28.75    \u001b[0m | \u001b[0m0.9994   \u001b[0m |\n",
      "[160.5823300171574, 0.047671227227032854, 30.580943410993235, 0.0893904244539874, 0.3942260988974074]\n"
     ]
    },
    {
     "name": "stderr",
     "output_type": "stream",
     "text": [
      "Epoch: 100%|█████████████████████████████████████| 160/160 [03:29<00:00,  1.31s/it]\n"
     ]
    },
    {
     "name": "stdout",
     "output_type": "stream",
     "text": [
      "| \u001b[0m123      \u001b[0m | \u001b[0m0.0      \u001b[0m | \u001b[0m160.6    \u001b[0m | \u001b[0m0.08939  \u001b[0m | \u001b[0m0.04767  \u001b[0m | \u001b[0m30.58    \u001b[0m | \u001b[0m0.3942   \u001b[0m |\n",
      "[44.01973232666763, 0.03786364754505305, 173.4437277817113, 0.004843259951653378, 0.6940351403023168]\n"
     ]
    },
    {
     "name": "stderr",
     "output_type": "stream",
     "text": [
      "Epoch: 100%|███████████████████████████████████████| 44/44 [47:33<00:00, 64.86s/it]\n"
     ]
    },
    {
     "name": "stdout",
     "output_type": "stream",
     "text": [
      "| \u001b[0m124      \u001b[0m | \u001b[0m0.01297  \u001b[0m | \u001b[0m44.02    \u001b[0m | \u001b[0m0.004843 \u001b[0m | \u001b[0m0.03786  \u001b[0m | \u001b[0m173.4    \u001b[0m | \u001b[0m0.694    \u001b[0m |\n",
      "[158.12133077967982, 0.03014027323298874, 151.47738661636862, 0.0786973555500803, 0.6452477812713604]\n"
     ]
    },
    {
     "name": "stderr",
     "output_type": "stream",
     "text": [
      "Epoch: 100%|█████████████████████████████████████| 158/158 [21:46<00:00,  8.27s/it]\n"
     ]
    },
    {
     "name": "stdout",
     "output_type": "stream",
     "text": [
      "| \u001b[0m125      \u001b[0m | \u001b[0m0.005408 \u001b[0m | \u001b[0m158.1    \u001b[0m | \u001b[0m0.0787   \u001b[0m | \u001b[0m0.03014  \u001b[0m | \u001b[0m151.5    \u001b[0m | \u001b[0m0.6452   \u001b[0m |\n",
      "[44.42252554388667, 0.03245696049673103, 26.24022062341369, 0.03891294937622267, 0.6316078227486375]\n"
     ]
    },
    {
     "name": "stderr",
     "output_type": "stream",
     "text": [
      "Epoch: 100%|███████████████████████████████████████| 44/44 [03:50<00:00,  5.25s/it]\n"
     ]
    },
    {
     "name": "stdout",
     "output_type": "stream",
     "text": [
      "| \u001b[0m126      \u001b[0m | \u001b[0m0.0      \u001b[0m | \u001b[0m44.42    \u001b[0m | \u001b[0m0.03891  \u001b[0m | \u001b[0m0.03246  \u001b[0m | \u001b[0m26.24    \u001b[0m | \u001b[0m0.6316   \u001b[0m |\n",
      "[36.16605778795566, 0.013532312601443594, 137.0354141192318, 0.06888646258669637, 0.7308682684552665]\n"
     ]
    },
    {
     "name": "stderr",
     "output_type": "stream",
     "text": [
      "Epoch: 100%|███████████████████████████████████████| 36/36 [15:53<00:00, 26.48s/it]\n"
     ]
    },
    {
     "name": "stdout",
     "output_type": "stream",
     "text": [
      "| \u001b[0m127      \u001b[0m | \u001b[0m0.0004313\u001b[0m | \u001b[0m36.17    \u001b[0m | \u001b[0m0.06889  \u001b[0m | \u001b[0m0.01353  \u001b[0m | \u001b[0m137.0    \u001b[0m | \u001b[0m0.7309   \u001b[0m |\n",
      "[236.549978768276, 0.02217663034250266, 198.1296902107289, 0.03033955053049254, 0.46108949475104744]\n"
     ]
    },
    {
     "name": "stderr",
     "output_type": "stream",
     "text": [
      "Epoch: 100%|███████████████████████████████████| 236/236 [5:04:01<00:00, 77.30s/it]\n"
     ]
    },
    {
     "name": "stdout",
     "output_type": "stream",
     "text": [
      "| \u001b[0m128      \u001b[0m | \u001b[0m0.01072  \u001b[0m | \u001b[0m236.5    \u001b[0m | \u001b[0m0.03034  \u001b[0m | \u001b[0m0.02218  \u001b[0m | \u001b[0m198.1    \u001b[0m | \u001b[0m0.4611   \u001b[0m |\n",
      "[19.548061601769724, 0.03491089428866057, 146.05538792025305, 0.06368596226871528, 0.4836707436610003]\n"
     ]
    },
    {
     "name": "stderr",
     "output_type": "stream",
     "text": [
      "Epoch: 100%|███████████████████████████████████████| 19/19 [05:44<00:00, 18.12s/it]\n"
     ]
    },
    {
     "name": "stdout",
     "output_type": "stream",
     "text": [
      "| \u001b[0m129      \u001b[0m | \u001b[0m0.0      \u001b[0m | \u001b[0m19.55    \u001b[0m | \u001b[0m0.06369  \u001b[0m | \u001b[0m0.03491  \u001b[0m | \u001b[0m146.1    \u001b[0m | \u001b[0m0.4837   \u001b[0m |\n",
      "[104.97491446009758, 0.049142414348980375, 41.98707568202864, 0.07864650002647793, 0.71602044694198]\n"
     ]
    },
    {
     "name": "stderr",
     "output_type": "stream",
     "text": [
      "Epoch: 100%|█████████████████████████████████████| 104/104 [02:38<00:00,  1.52s/it]\n"
     ]
    },
    {
     "name": "stdout",
     "output_type": "stream",
     "text": [
      "| \u001b[0m130      \u001b[0m | \u001b[0m0.0      \u001b[0m | \u001b[0m105.0    \u001b[0m | \u001b[0m0.07865  \u001b[0m | \u001b[0m0.04914  \u001b[0m | \u001b[0m41.99    \u001b[0m | \u001b[0m0.716    \u001b[0m |\n",
      "[78.96704324846692, 0.0063709075340776895, 179.2700969634392, 0.06277648397902735, 0.9893429476530126]\n"
     ]
    },
    {
     "name": "stderr",
     "output_type": "stream",
     "text": [
      "Epoch: 100%|█████████████████████████████████████| 78/78 [1:39:53<00:00, 76.84s/it]\n"
     ]
    },
    {
     "name": "stdout",
     "output_type": "stream",
     "text": [
      "| \u001b[0m131      \u001b[0m | \u001b[0m0.01141  \u001b[0m | \u001b[0m78.97    \u001b[0m | \u001b[0m0.06278  \u001b[0m | \u001b[0m0.006371 \u001b[0m | \u001b[0m179.3    \u001b[0m | \u001b[0m0.9893   \u001b[0m |\n",
      "[224.74688195537956, 0.03458429307318708, 115.69551840486668, 0.08410100191131904, 0.3377336284769079]\n"
     ]
    },
    {
     "name": "stderr",
     "output_type": "stream",
     "text": [
      "Epoch: 100%|█████████████████████████████████████| 224/224 [16:14<00:00,  4.35s/it]\n"
     ]
    },
    {
     "name": "stdout",
     "output_type": "stream",
     "text": [
      "| \u001b[0m132      \u001b[0m | \u001b[0m0.0      \u001b[0m | \u001b[0m224.7    \u001b[0m | \u001b[0m0.0841   \u001b[0m | \u001b[0m0.03458  \u001b[0m | \u001b[0m115.7    \u001b[0m | \u001b[0m0.3377   \u001b[0m |\n",
      "[224.70769228215974, 0.0391096707702806, 83.14339495081511, 0.07561534878285173, 0.06234739284433375]\n"
     ]
    },
    {
     "name": "stderr",
     "output_type": "stream",
     "text": [
      "Epoch: 100%|█████████████████████████████████████| 224/224 [54:30<00:00, 14.60s/it]\n"
     ]
    },
    {
     "name": "stdout",
     "output_type": "stream",
     "text": [
      "| \u001b[0m133      \u001b[0m | \u001b[0m0.0      \u001b[0m | \u001b[0m224.7    \u001b[0m | \u001b[0m0.07562  \u001b[0m | \u001b[0m0.03911  \u001b[0m | \u001b[0m83.14    \u001b[0m | \u001b[0m0.06235  \u001b[0m |\n",
      "[108.7277710262187, 0.012587808405891661, 50.341989173254774, 0.0363554178224398, 0.6892231480787999]\n"
     ]
    },
    {
     "name": "stderr",
     "output_type": "stream",
     "text": [
      "Epoch: 100%|█████████████████████████████████████| 108/108 [55:58<00:00, 31.10s/it]\n"
     ]
    },
    {
     "name": "stdout",
     "output_type": "stream",
     "text": [
      "| \u001b[0m134      \u001b[0m | \u001b[0m0.01078  \u001b[0m | \u001b[0m108.7    \u001b[0m | \u001b[0m0.03636  \u001b[0m | \u001b[0m0.01259  \u001b[0m | \u001b[0m50.34    \u001b[0m | \u001b[0m0.6892   \u001b[0m |\n",
      "[186.02679207957553, 0.039179178591443604, 101.77331557673425, 0.006869898655356026, 0.5678235855539422]\n"
     ]
    },
    {
     "name": "stderr",
     "output_type": "stream",
     "text": [
      "Epoch: 100%|███████████████████████████████████| 186/186 [2:48:23<00:00, 54.32s/it]\n"
     ]
    },
    {
     "name": "stdout",
     "output_type": "stream",
     "text": [
      "| \u001b[0m135      \u001b[0m | \u001b[0m0.01297  \u001b[0m | \u001b[0m186.0    \u001b[0m | \u001b[0m0.00687  \u001b[0m | \u001b[0m0.03918  \u001b[0m | \u001b[0m101.8    \u001b[0m | \u001b[0m0.5678   \u001b[0m |\n",
      "[3.89873073714162, 0.0411690427439427, 126.18621326106117, 0.05896646757099558, 0.5325855581668137]\n"
     ]
    },
    {
     "name": "stderr",
     "output_type": "stream",
     "text": [
      "Epoch: 100%|█████████████████████████████████████████| 3/3 [02:33<00:00, 51.23s/it]\n"
     ]
    },
    {
     "name": "stdout",
     "output_type": "stream",
     "text": [
      "| \u001b[0m136      \u001b[0m | \u001b[0m0.0      \u001b[0m | \u001b[0m3.899    \u001b[0m | \u001b[0m0.05897  \u001b[0m | \u001b[0m0.04117  \u001b[0m | \u001b[0m126.2    \u001b[0m | \u001b[0m0.5326   \u001b[0m |\n",
      "[15.458631697532716, 0.01622854587762759, 111.74996089318647, 0.020616608074037677, 0.9141529100713995]\n"
     ]
    },
    {
     "name": "stderr",
     "output_type": "stream",
     "text": [
      "Epoch: 100%|███████████████████████████████████████| 15/15 [13:53<00:00, 55.57s/it]\n"
     ]
    },
    {
     "name": "stdout",
     "output_type": "stream",
     "text": [
      "| \u001b[0m137      \u001b[0m | \u001b[0m0.01297  \u001b[0m | \u001b[0m15.46    \u001b[0m | \u001b[0m0.02062  \u001b[0m | \u001b[0m0.01623  \u001b[0m | \u001b[0m111.7    \u001b[0m | \u001b[0m0.9142   \u001b[0m |\n",
      "[188.09570801259255, 0.0037216565295886965, 116.85172633239357, 0.08818927950917824, 0.13090034425777589]\n"
     ]
    },
    {
     "name": "stderr",
     "output_type": "stream",
     "text": [
      "Epoch: 100%|███████████████████████████████████| 188/188 [3:00:12<00:00, 57.52s/it]\n"
     ]
    },
    {
     "name": "stdout",
     "output_type": "stream",
     "text": [
      "| \u001b[0m138      \u001b[0m | \u001b[0m0.009456 \u001b[0m | \u001b[0m188.1    \u001b[0m | \u001b[0m0.08819  \u001b[0m | \u001b[0m0.003722 \u001b[0m | \u001b[0m116.9    \u001b[0m | \u001b[0m0.1309   \u001b[0m |\n",
      "[45.28503114531683, 0.008712223026855592, 157.82118671732346, 0.017947410371780752, 0.016592783830223144]\n"
     ]
    },
    {
     "name": "stderr",
     "output_type": "stream",
     "text": [
      "Epoch: 100%|███████████████████████████████████████| 45/45 [42:31<00:00, 56.70s/it]\n"
     ]
    },
    {
     "name": "stdout",
     "output_type": "stream",
     "text": [
      "| \u001b[0m139      \u001b[0m | \u001b[0m0.007896 \u001b[0m | \u001b[0m45.29    \u001b[0m | \u001b[0m0.01795  \u001b[0m | \u001b[0m0.008712 \u001b[0m | \u001b[0m157.8    \u001b[0m | \u001b[0m0.01659  \u001b[0m |\n",
      "[181.18952153514851, 0.0305579263177097, 156.9853179622767, 0.04360223859582764, 0.2093608743431212]\n"
     ]
    },
    {
     "name": "stderr",
     "output_type": "stream",
     "text": [
      "Epoch: 100%|█████████████████████████████████████| 181/181 [51:32<00:00, 17.08s/it]\n"
     ]
    },
    {
     "name": "stdout",
     "output_type": "stream",
     "text": [
      "| \u001b[0m140      \u001b[0m | \u001b[0m0.0      \u001b[0m | \u001b[0m181.2    \u001b[0m | \u001b[0m0.0436   \u001b[0m | \u001b[0m0.03056  \u001b[0m | \u001b[0m157.0    \u001b[0m | \u001b[0m0.2094   \u001b[0m |\n",
      "[190.30895149999358, 0.04703863341613378, 112.99251705961264, 0.07852021358728059, 0.5747589950453487]\n"
     ]
    },
    {
     "name": "stderr",
     "output_type": "stream",
     "text": [
      "Epoch: 100%|█████████████████████████████████████| 190/190 [11:55<00:00,  3.77s/it]\n"
     ]
    },
    {
     "name": "stdout",
     "output_type": "stream",
     "text": [
      "| \u001b[0m141      \u001b[0m | \u001b[0m0.0      \u001b[0m | \u001b[0m190.3    \u001b[0m | \u001b[0m0.07852  \u001b[0m | \u001b[0m0.04704  \u001b[0m | \u001b[0m113.0    \u001b[0m | \u001b[0m0.5748   \u001b[0m |\n",
      "[211.02675891304813, 0.04123347039229114, 78.57386038298293, 0.0382996049039806, 0.7040028444648205]\n"
     ]
    },
    {
     "name": "stderr",
     "output_type": "stream",
     "text": [
      "Epoch: 100%|███████████████████████████████████| 211/211 [2:04:40<00:00, 35.45s/it]\n"
     ]
    },
    {
     "name": "stdout",
     "output_type": "stream",
     "text": [
      "| \u001b[0m142      \u001b[0m | \u001b[0m0.007797 \u001b[0m | \u001b[0m211.0    \u001b[0m | \u001b[0m0.0383   \u001b[0m | \u001b[0m0.04123  \u001b[0m | \u001b[0m78.57    \u001b[0m | \u001b[0m0.704    \u001b[0m |\n",
      "[201.8066970769282, 0.009832103563247117, 113.76251136613307, 0.04644636629541423, 0.061295549180784094]\n"
     ]
    },
    {
     "name": "stderr",
     "output_type": "stream",
     "text": [
      "Epoch: 100%|███████████████████████████████████| 201/201 [2:58:09<00:00, 53.18s/it]\n"
     ]
    },
    {
     "name": "stdout",
     "output_type": "stream",
     "text": [
      "| \u001b[0m143      \u001b[0m | \u001b[0m0.002322 \u001b[0m | \u001b[0m201.8    \u001b[0m | \u001b[0m0.04645  \u001b[0m | \u001b[0m0.009832 \u001b[0m | \u001b[0m113.8    \u001b[0m | \u001b[0m0.0613   \u001b[0m |\n",
      "[32.06761616822921, 0.026278137037763185, 170.82211385934332, 0.09469949126516161, 0.17223457216608365]\n"
     ]
    },
    {
     "name": "stderr",
     "output_type": "stream",
     "text": [
      "Epoch: 100%|███████████████████████████████████████| 32/32 [16:40<00:00, 31.27s/it]\n"
     ]
    },
    {
     "name": "stdout",
     "output_type": "stream",
     "text": [
      "| \u001b[0m144      \u001b[0m | \u001b[0m0.0      \u001b[0m | \u001b[0m32.07    \u001b[0m | \u001b[0m0.0947   \u001b[0m | \u001b[0m0.02628  \u001b[0m | \u001b[0m170.8    \u001b[0m | \u001b[0m0.1722   \u001b[0m |\n",
      "[53.10034470791273, 0.01915008222124663, 142.00303608110374, 0.014212502385090444, 0.4075421203799581]\n"
     ]
    },
    {
     "name": "stderr",
     "output_type": "stream",
     "text": [
      "Epoch: 100%|███████████████████████████████████████| 53/53 [53:34<00:00, 60.66s/it]\n"
     ]
    },
    {
     "name": "stdout",
     "output_type": "stream",
     "text": [
      "| \u001b[0m145      \u001b[0m | \u001b[0m0.01297  \u001b[0m | \u001b[0m53.1     \u001b[0m | \u001b[0m0.01421  \u001b[0m | \u001b[0m0.01915  \u001b[0m | \u001b[0m142.0    \u001b[0m | \u001b[0m0.4075   \u001b[0m |\n",
      "[26.824804834663748, 0.016788526840180756, 32.634212324947214, 0.020755597259947318, 0.6535803046958094]\n"
     ]
    },
    {
     "name": "stderr",
     "output_type": "stream",
     "text": [
      "Epoch: 100%|███████████████████████████████████████| 26/26 [08:51<00:00, 20.45s/it]\n"
     ]
    },
    {
     "name": "stdout",
     "output_type": "stream",
     "text": [
      "| \u001b[0m146      \u001b[0m | \u001b[0m0.01294  \u001b[0m | \u001b[0m26.82    \u001b[0m | \u001b[0m0.02076  \u001b[0m | \u001b[0m0.01679  \u001b[0m | \u001b[0m32.63    \u001b[0m | \u001b[0m0.6536   \u001b[0m |\n",
      "[253.9986221536493, 0.025454160140510024, 76.99384550261729, 0.022908697543768054, 0.5654346199728857]\n"
     ]
    },
    {
     "name": "stderr",
     "output_type": "stream",
     "text": [
      "Epoch: 100%|███████████████████████████████████| 253/253 [2:49:44<00:00, 40.26s/it]\n"
     ]
    },
    {
     "name": "stdout",
     "output_type": "stream",
     "text": [
      "| \u001b[0m147      \u001b[0m | \u001b[0m0.01165  \u001b[0m | \u001b[0m254.0    \u001b[0m | \u001b[0m0.02291  \u001b[0m | \u001b[0m0.02545  \u001b[0m | \u001b[0m76.99    \u001b[0m | \u001b[0m0.5654   \u001b[0m |\n",
      "[75.35673348040267, 0.03825598361732716, 100.50182431577278, 0.042734732369262035, 0.6137718113030183]\n"
     ]
    },
    {
     "name": "stderr",
     "output_type": "stream",
     "text": [
      "Epoch: 100%|███████████████████████████████████████| 75/75 [14:17<00:00, 11.44s/it]\n"
     ]
    },
    {
     "name": "stdout",
     "output_type": "stream",
     "text": [
      "| \u001b[0m148      \u001b[0m | \u001b[0m0.001792 \u001b[0m | \u001b[0m75.36    \u001b[0m | \u001b[0m0.04273  \u001b[0m | \u001b[0m0.03826  \u001b[0m | \u001b[0m100.5    \u001b[0m | \u001b[0m0.6138   \u001b[0m |\n",
      "[150.48633081868405, 0.01839101842644847, 110.60674975306357, 0.045715312504177597, 0.2789786277816186]\n"
     ]
    },
    {
     "name": "stderr",
     "output_type": "stream",
     "text": [
      "Epoch: 100%|███████████████████████████████████| 150/150 [1:06:20<00:00, 26.53s/it]\n"
     ]
    },
    {
     "name": "stdout",
     "output_type": "stream",
     "text": [
      "| \u001b[0m149      \u001b[0m | \u001b[0m0.0004645\u001b[0m | \u001b[0m150.5    \u001b[0m | \u001b[0m0.04572  \u001b[0m | \u001b[0m0.01839  \u001b[0m | \u001b[0m110.6    \u001b[0m | \u001b[0m0.279    \u001b[0m |\n",
      "[232.52878384559685, 0.03373925459556421, 151.39261754556642, 0.07499050336720657, 0.9243311000702504]\n"
     ]
    },
    {
     "name": "stderr",
     "output_type": "stream",
     "text": [
      "Epoch: 100%|█████████████████████████████████████| 232/232 [16:14<00:00,  4.20s/it]\n"
     ]
    },
    {
     "name": "stdout",
     "output_type": "stream",
     "text": [
      "| \u001b[0m150      \u001b[0m | \u001b[0m0.0      \u001b[0m | \u001b[0m232.5    \u001b[0m | \u001b[0m0.07499  \u001b[0m | \u001b[0m0.03374  \u001b[0m | \u001b[0m151.4    \u001b[0m | \u001b[0m0.9243   \u001b[0m |\n",
      "[110.63799111033526, 0.0422155739743358, 189.1838428757511, 0.07466023173623279, 0.4860964940497275]\n"
     ]
    },
    {
     "name": "stderr",
     "output_type": "stream",
     "text": [
      "Epoch: 100%|█████████████████████████████████████| 110/110 [13:41<00:00,  7.47s/it]\n"
     ]
    },
    {
     "name": "stdout",
     "output_type": "stream",
     "text": [
      "| \u001b[0m151      \u001b[0m | \u001b[0m0.0      \u001b[0m | \u001b[0m110.6    \u001b[0m | \u001b[0m0.07466  \u001b[0m | \u001b[0m0.04222  \u001b[0m | \u001b[0m189.2    \u001b[0m | \u001b[0m0.4861   \u001b[0m |\n",
      "[107.05495293470491, 0.031454510000134904, 177.13072328970935, 0.04034052779969922, 0.27941165080147073]\n"
     ]
    },
    {
     "name": "stderr",
     "output_type": "stream",
     "text": [
      "Epoch: 100%|█████████████████████████████████████| 107/107 [38:51<00:00, 21.79s/it]\n"
     ]
    },
    {
     "name": "stdout",
     "output_type": "stream",
     "text": [
      "| \u001b[0m152      \u001b[0m | \u001b[0m0.0      \u001b[0m | \u001b[0m107.1    \u001b[0m | \u001b[0m0.04034  \u001b[0m | \u001b[0m0.03145  \u001b[0m | \u001b[0m177.1    \u001b[0m | \u001b[0m0.2794   \u001b[0m |\n",
      "[26.063124016949548, 0.025206429712770602, 190.6564187102815, 0.03587626235125953, 0.9816146979930734]\n"
     ]
    },
    {
     "name": "stderr",
     "output_type": "stream",
     "text": [
      "Epoch: 100%|███████████████████████████████████████| 26/26 [11:18<00:00, 26.11s/it]\n"
     ]
    },
    {
     "name": "stdout",
     "output_type": "stream",
     "text": [
      "| \u001b[0m153      \u001b[0m | \u001b[0m0.0      \u001b[0m | \u001b[0m26.06    \u001b[0m | \u001b[0m0.03588  \u001b[0m | \u001b[0m0.02521  \u001b[0m | \u001b[0m190.7    \u001b[0m | \u001b[0m0.9816   \u001b[0m |\n",
      "[75.0195521968363, 0.018285022952688225, 45.56009872915857, 0.0009361006523004516, 0.9045433246456752]\n"
     ]
    },
    {
     "name": "stderr",
     "output_type": "stream",
     "text": [
      "Epoch: 100%|███████████████████████████████████████| 75/75 [40:04<00:00, 32.05s/it]\n"
     ]
    },
    {
     "name": "stdout",
     "output_type": "stream",
     "text": [
      "| \u001b[0m154      \u001b[0m | \u001b[0m0.01297  \u001b[0m | \u001b[0m75.02    \u001b[0m | \u001b[0m0.0009361\u001b[0m | \u001b[0m0.01829  \u001b[0m | \u001b[0m45.56    \u001b[0m | \u001b[0m0.9045   \u001b[0m |\n",
      "[65.85796655805086, 0.01790343569609751, 160.6545039546248, 0.031375665414384114, 0.9817348804571234]\n"
     ]
    },
    {
     "name": "stderr",
     "output_type": "stream",
     "text": [
      "Epoch: 100%|███████████████████████████████████████| 65/65 [46:11<00:00, 42.64s/it]\n"
     ]
    },
    {
     "name": "stdout",
     "output_type": "stream",
     "text": [
      "| \u001b[0m155      \u001b[0m | \u001b[0m0.006403 \u001b[0m | \u001b[0m65.86    \u001b[0m | \u001b[0m0.03138  \u001b[0m | \u001b[0m0.0179   \u001b[0m | \u001b[0m160.7    \u001b[0m | \u001b[0m0.9817   \u001b[0m |\n",
      "[81.68899316087179, 0.018430490011544228, 29.87819072004608, 0.08746519448157905, 0.06583819738847944]\n"
     ]
    },
    {
     "name": "stderr",
     "output_type": "stream",
     "text": [
      "Epoch: 100%|███████████████████████████████████████| 81/81 [25:19<00:00, 18.76s/it]\n"
     ]
    },
    {
     "name": "stdout",
     "output_type": "stream",
     "text": [
      "| \u001b[0m156      \u001b[0m | \u001b[0m0.002356 \u001b[0m | \u001b[0m81.69    \u001b[0m | \u001b[0m0.08747  \u001b[0m | \u001b[0m0.01843  \u001b[0m | \u001b[0m29.88    \u001b[0m | \u001b[0m0.06584  \u001b[0m |\n",
      "[99.12617532727766, 0.018904774730548843, 97.28892578313129, 0.08986414493202352, 0.39397457860227975]\n"
     ]
    },
    {
     "name": "stderr",
     "output_type": "stream",
     "text": [
      "Epoch: 100%|███████████████████████████████████████| 99/99 [14:58<00:00,  9.07s/it]\n"
     ]
    },
    {
     "name": "stdout",
     "output_type": "stream",
     "text": [
      "| \u001b[0m157      \u001b[0m | \u001b[0m0.0      \u001b[0m | \u001b[0m99.13    \u001b[0m | \u001b[0m0.08986  \u001b[0m | \u001b[0m0.0189   \u001b[0m | \u001b[0m97.29    \u001b[0m | \u001b[0m0.394    \u001b[0m |\n",
      "[103.16190711134118, 0.016881750890238627, 193.60989223885412, 0.04965813621160936, 0.4231389787197397]\n"
     ]
    },
    {
     "name": "stderr",
     "output_type": "stream",
     "text": [
      "Epoch: 100%|███████████████████████████████████| 103/103 [1:01:59<00:00, 36.11s/it]\n"
     ]
    },
    {
     "name": "stdout",
     "output_type": "stream",
     "text": [
      "| \u001b[0m158      \u001b[0m | \u001b[0m0.002555 \u001b[0m | \u001b[0m103.2    \u001b[0m | \u001b[0m0.04966  \u001b[0m | \u001b[0m0.01688  \u001b[0m | \u001b[0m193.6    \u001b[0m | \u001b[0m0.4231   \u001b[0m |\n",
      "[189.8485494508251, 0.043026356520706015, 144.43916164417337, 0.026829850504300364, 0.025763422388499983]\n"
     ]
    },
    {
     "name": "stderr",
     "output_type": "stream",
     "text": [
      "Epoch: 100%|███████████████████████████████████| 189/189 [3:09:20<00:00, 60.11s/it]\n"
     ]
    },
    {
     "name": "stdout",
     "output_type": "stream",
     "text": [
      "| \u001b[0m159      \u001b[0m | \u001b[0m0.01583  \u001b[0m | \u001b[0m189.8    \u001b[0m | \u001b[0m0.02683  \u001b[0m | \u001b[0m0.04303  \u001b[0m | \u001b[0m144.4    \u001b[0m | \u001b[0m0.02576  \u001b[0m |\n",
      "[53.84785605705555, 0.007786685936258185, 108.81047402468752, 0.09072134236469244, 0.030663121494001525]\n"
     ]
    },
    {
     "name": "stderr",
     "output_type": "stream",
     "text": [
      "Epoch: 100%|███████████████████████████████████████| 53/53 [49:23<00:00, 55.91s/it]\n"
     ]
    },
    {
     "name": "stdout",
     "output_type": "stream",
     "text": [
      "| \u001b[0m160      \u001b[0m | \u001b[0m0.01271  \u001b[0m | \u001b[0m53.85    \u001b[0m | \u001b[0m0.09072  \u001b[0m | \u001b[0m0.007787 \u001b[0m | \u001b[0m108.8    \u001b[0m | \u001b[0m0.03066  \u001b[0m |\n",
      "[137.84513993677007, 0.02092112349806985, 178.34723646967277, 0.018419582064342563, 0.997091135112504]\n"
     ]
    },
    {
     "name": "stderr",
     "output_type": "stream",
     "text": [
      "Epoch: 100%|███████████████████████████████████| 137/137 [3:03:07<00:00, 80.20s/it]\n"
     ]
    },
    {
     "name": "stdout",
     "output_type": "stream",
     "text": [
      "| \u001b[0m161      \u001b[0m | \u001b[0m0.01244  \u001b[0m | \u001b[0m137.8    \u001b[0m | \u001b[0m0.01842  \u001b[0m | \u001b[0m0.02092  \u001b[0m | \u001b[0m178.3    \u001b[0m | \u001b[0m0.9971   \u001b[0m |\n",
      "[55.026591404052674, 0.049608985982187534, 24.520987013379024, 0.05858194346754993, 0.48102844031180175]\n"
     ]
    },
    {
     "name": "stderr",
     "output_type": "stream",
     "text": [
      "Epoch: 100%|███████████████████████████████████████| 55/55 [01:41<00:00,  1.84s/it]\n"
     ]
    },
    {
     "name": "stdout",
     "output_type": "stream",
     "text": [
      "| \u001b[0m162      \u001b[0m | \u001b[0m0.0      \u001b[0m | \u001b[0m55.03    \u001b[0m | \u001b[0m0.05858  \u001b[0m | \u001b[0m0.04961  \u001b[0m | \u001b[0m24.52    \u001b[0m | \u001b[0m0.481    \u001b[0m |\n",
      "[220.90836199334495, 0.02550292099559342, 184.74758862106682, 0.03536261872463854, 0.4015083396776319]\n"
     ]
    },
    {
     "name": "stderr",
     "output_type": "stream",
     "text": [
      "Epoch: 100%|███████████████████████████████████| 220/220 [1:43:32<00:00, 28.24s/it]\n"
     ]
    },
    {
     "name": "stdout",
     "output_type": "stream",
     "text": [
      "| \u001b[0m163      \u001b[0m | \u001b[0m0.003616 \u001b[0m | \u001b[0m220.9    \u001b[0m | \u001b[0m0.03536  \u001b[0m | \u001b[0m0.0255   \u001b[0m | \u001b[0m184.7    \u001b[0m | \u001b[0m0.4015   \u001b[0m |\n",
      "[13.437957992746846, 0.03370813748939601, 110.89859179321702, 0.0117284740934583, 0.7802321412400458]\n"
     ]
    },
    {
     "name": "stderr",
     "output_type": "stream",
     "text": [
      "Epoch: 100%|███████████████████████████████████████| 13/13 [11:56<00:00, 55.12s/it]\n"
     ]
    },
    {
     "name": "stdout",
     "output_type": "stream",
     "text": [
      "| \u001b[0m164      \u001b[0m | \u001b[0m0.01297  \u001b[0m | \u001b[0m13.44    \u001b[0m | \u001b[0m0.01173  \u001b[0m | \u001b[0m0.03371  \u001b[0m | \u001b[0m110.9    \u001b[0m | \u001b[0m0.7802   \u001b[0m |\n",
      "[104.31187980459718, 0.009728164606751752, 151.97951134278492, 0.03956003909428374, 0.5216181425123622]\n"
     ]
    },
    {
     "name": "stderr",
     "output_type": "stream",
     "text": [
      "Epoch: 100%|███████████████████████████████████| 104/104 [1:42:30<00:00, 59.14s/it]\n"
     ]
    },
    {
     "name": "stdout",
     "output_type": "stream",
     "text": [
      "| \u001b[0m165      \u001b[0m | \u001b[0m0.01022  \u001b[0m | \u001b[0m104.3    \u001b[0m | \u001b[0m0.03956  \u001b[0m | \u001b[0m0.009728 \u001b[0m | \u001b[0m152.0    \u001b[0m | \u001b[0m0.5216   \u001b[0m |\n",
      "[236.3066911073588, 0.037132905035696925, 190.8818653200135, 0.04238295573194127, 0.7331957473515059]\n"
     ]
    },
    {
     "name": "stderr",
     "output_type": "stream",
     "text": [
      "Epoch: 100%|███████████████████████████████████| 236/236 [2:06:52<00:00, 32.25s/it]\n"
     ]
    },
    {
     "name": "stdout",
     "output_type": "stream",
     "text": [
      "| \u001b[0m166      \u001b[0m | \u001b[0m0.008328 \u001b[0m | \u001b[0m236.3    \u001b[0m | \u001b[0m0.04238  \u001b[0m | \u001b[0m0.03713  \u001b[0m | \u001b[0m190.9    \u001b[0m | \u001b[0m0.7332   \u001b[0m |\n",
      "[174.89221540184383, 0.0052869307002143, 167.73924034811972, 0.049770595069681525, 0.07253166431235403]\n"
     ]
    },
    {
     "name": "stderr",
     "output_type": "stream",
     "text": [
      "Epoch: 100%|███████████████████████████████████| 174/174 [3:04:49<00:00, 63.73s/it]\n"
     ]
    },
    {
     "name": "stdout",
     "output_type": "stream",
     "text": [
      "| \u001b[0m167      \u001b[0m | \u001b[0m0.01301  \u001b[0m | \u001b[0m174.9    \u001b[0m | \u001b[0m0.04977  \u001b[0m | \u001b[0m0.005287 \u001b[0m | \u001b[0m167.7    \u001b[0m | \u001b[0m0.07253  \u001b[0m |\n",
      "[73.154520405807, 0.018509144048950352, 21.850494146050888, 0.01458200632577763, 0.06310232538065838]\n"
     ]
    },
    {
     "name": "stderr",
     "output_type": "stream",
     "text": [
      "Epoch: 100%|███████████████████████████████████████| 73/73 [15:29<00:00, 12.73s/it]\n"
     ]
    },
    {
     "name": "stdout",
     "output_type": "stream",
     "text": [
      "| \u001b[0m168      \u001b[0m | \u001b[0m0.01324  \u001b[0m | \u001b[0m73.15    \u001b[0m | \u001b[0m0.01458  \u001b[0m | \u001b[0m0.01851  \u001b[0m | \u001b[0m21.85    \u001b[0m | \u001b[0m0.0631   \u001b[0m |\n",
      "[152.61579355182482, 0.04528852744539614, 68.44061965657055, 0.09625040143617937, 0.8395545092882546]\n"
     ]
    },
    {
     "name": "stderr",
     "output_type": "stream",
     "text": [
      "Epoch: 100%|█████████████████████████████████████| 152/152 [04:47<00:00,  1.89s/it]\n"
     ]
    },
    {
     "name": "stdout",
     "output_type": "stream",
     "text": [
      "| \u001b[0m169      \u001b[0m | \u001b[0m0.0      \u001b[0m | \u001b[0m152.6    \u001b[0m | \u001b[0m0.09625  \u001b[0m | \u001b[0m0.04529  \u001b[0m | \u001b[0m68.44    \u001b[0m | \u001b[0m0.8396   \u001b[0m |\n",
      "[251.53924631401983, 0.04628002117947619, 48.702248935618385, 0.041907713626789245, 0.4383320469759987]\n"
     ]
    },
    {
     "name": "stderr",
     "output_type": "stream",
     "text": [
      "Epoch: 100%|█████████████████████████████████████| 251/251 [18:06<00:00,  4.33s/it]\n"
     ]
    },
    {
     "name": "stdout",
     "output_type": "stream",
     "text": [
      "| \u001b[0m170      \u001b[0m | \u001b[0m0.0003981\u001b[0m | \u001b[0m251.5    \u001b[0m | \u001b[0m0.04191  \u001b[0m | \u001b[0m0.04628  \u001b[0m | \u001b[0m48.7     \u001b[0m | \u001b[0m0.4383   \u001b[0m |\n",
      "[176.5236175260002, 0.017361070824839824, 46.424951550542346, 0.016259132090624916, 0.44761882909552714]\n"
     ]
    },
    {
     "name": "stderr",
     "output_type": "stream",
     "text": [
      "Epoch: 100%|███████████████████████████████████| 176/176 [1:42:26<00:00, 34.92s/it]\n"
     ]
    },
    {
     "name": "stdout",
     "output_type": "stream",
     "text": [
      "| \u001b[0m171      \u001b[0m | \u001b[0m0.008427 \u001b[0m | \u001b[0m176.5    \u001b[0m | \u001b[0m0.01626  \u001b[0m | \u001b[0m0.01736  \u001b[0m | \u001b[0m46.42    \u001b[0m | \u001b[0m0.4476   \u001b[0m |\n",
      "[76.84549628886252, 0.04034300019245374, 56.79451077407905, 0.03525098180168337, 0.4660803271050324]\n"
     ]
    },
    {
     "name": "stderr",
     "output_type": "stream",
     "text": [
      "Epoch: 100%|███████████████████████████████████████| 76/76 [13:18<00:00, 10.51s/it]\n"
     ]
    },
    {
     "name": "stdout",
     "output_type": "stream",
     "text": [
      "| \u001b[0m172      \u001b[0m | \u001b[0m0.0      \u001b[0m | \u001b[0m76.85    \u001b[0m | \u001b[0m0.03525  \u001b[0m | \u001b[0m0.04034  \u001b[0m | \u001b[0m56.79    \u001b[0m | \u001b[0m0.4661   \u001b[0m |\n",
      "[258.97571969641325, 0.002825297000904487, 78.45501710929142, 0.030078660573057855, 0.8631394961081162]\n"
     ]
    },
    {
     "name": "stderr",
     "output_type": "stream",
     "text": [
      "Epoch: 100%|███████████████████████████████████| 258/258 [3:35:41<00:00, 50.16s/it]\n"
     ]
    },
    {
     "name": "stdout",
     "output_type": "stream",
     "text": [
      "| \u001b[0m173      \u001b[0m | \u001b[0m0.01297  \u001b[0m | \u001b[0m259.0    \u001b[0m | \u001b[0m0.03008  \u001b[0m | \u001b[0m0.002825 \u001b[0m | \u001b[0m78.46    \u001b[0m | \u001b[0m0.8631   \u001b[0m |\n",
      "[182.1770514022952, 0.046597671524548405, 52.8639912154302, 0.026745801090332807, 0.8907088767862633]\n"
     ]
    },
    {
     "name": "stderr",
     "output_type": "stream",
     "text": [
      "Epoch: 100%|█████████████████████████████████████| 182/182 [48:57<00:00, 16.14s/it]\n"
     ]
    },
    {
     "name": "stdout",
     "output_type": "stream",
     "text": [
      "| \u001b[0m174      \u001b[0m | \u001b[0m0.006503 \u001b[0m | \u001b[0m182.2    \u001b[0m | \u001b[0m0.02675  \u001b[0m | \u001b[0m0.0466   \u001b[0m | \u001b[0m52.86    \u001b[0m | \u001b[0m0.8907   \u001b[0m |\n",
      "[208.98973826520555, 0.011946790967141909, 182.67064235573372, 0.014268719581688124, 0.5949010592928332]\n"
     ]
    },
    {
     "name": "stderr",
     "output_type": "stream",
     "text": [
      "Epoch: 100%|███████████████████████████████████| 208/208 [4:13:49<00:00, 73.22s/it]\n"
     ]
    },
    {
     "name": "stdout",
     "output_type": "stream",
     "text": [
      "| \u001b[0m175      \u001b[0m | \u001b[0m0.01035  \u001b[0m | \u001b[0m209.0    \u001b[0m | \u001b[0m0.01427  \u001b[0m | \u001b[0m0.01195  \u001b[0m | \u001b[0m182.7    \u001b[0m | \u001b[0m0.5949   \u001b[0m |\n",
      "[37.379683038967045, 0.04222190128080792, 81.82498513661244, 0.08173654321551825, 0.20616979012266057]\n"
     ]
    },
    {
     "name": "stderr",
     "output_type": "stream",
     "text": [
      "Epoch: 100%|███████████████████████████████████████| 37/37 [06:48<00:00, 11.04s/it]\n"
     ]
    },
    {
     "name": "stdout",
     "output_type": "stream",
     "text": [
      "| \u001b[0m176      \u001b[0m | \u001b[0m0.0      \u001b[0m | \u001b[0m37.38    \u001b[0m | \u001b[0m0.08174  \u001b[0m | \u001b[0m0.04222  \u001b[0m | \u001b[0m81.82    \u001b[0m | \u001b[0m0.2062   \u001b[0m |\n",
      "[223.78229974875902, 0.02403978068797687, 88.32953377012295, 0.07228492860432675, 0.32114711763439335]\n"
     ]
    },
    {
     "name": "stderr",
     "output_type": "stream",
     "text": [
      "Epoch: 100%|█████████████████████████████████████| 223/223 [26:10<00:00,  7.04s/it]\n"
     ]
    },
    {
     "name": "stdout",
     "output_type": "stream",
     "text": [
      "| \u001b[0m177      \u001b[0m | \u001b[0m0.0      \u001b[0m | \u001b[0m223.8    \u001b[0m | \u001b[0m0.07228  \u001b[0m | \u001b[0m0.02404  \u001b[0m | \u001b[0m88.33    \u001b[0m | \u001b[0m0.3211   \u001b[0m |\n",
      "[35.30594438410587, 0.003994114919402617, 80.10921175330675, 0.0336630335407925, 0.22376776812754462]\n"
     ]
    },
    {
     "name": "stderr",
     "output_type": "stream",
     "text": [
      "Epoch: 100%|███████████████████████████████████████| 35/35 [26:05<00:00, 44.72s/it]\n"
     ]
    },
    {
     "name": "stdout",
     "output_type": "stream",
     "text": [
      "| \u001b[0m178      \u001b[0m | \u001b[0m0.008958 \u001b[0m | \u001b[0m35.31    \u001b[0m | \u001b[0m0.03366  \u001b[0m | \u001b[0m0.003994 \u001b[0m | \u001b[0m80.11    \u001b[0m | \u001b[0m0.2238   \u001b[0m |\n",
      "[134.7243161873596, 0.008848146334649424, 110.04861210959626, 0.06429183021606007, 0.08390944603819203]\n"
     ]
    },
    {
     "name": "stderr",
     "output_type": "stream",
     "text": [
      "Epoch: 100%|███████████████████████████████████| 134/134 [1:55:25<00:00, 51.68s/it]\n"
     ]
    },
    {
     "name": "stdout",
     "output_type": "stream",
     "text": [
      "| \u001b[0m179      \u001b[0m | \u001b[0m0.005076 \u001b[0m | \u001b[0m134.7    \u001b[0m | \u001b[0m0.06429  \u001b[0m | \u001b[0m0.008848 \u001b[0m | \u001b[0m110.0    \u001b[0m | \u001b[0m0.08391  \u001b[0m |\n",
      "[230.42243167801087, 0.049696854487518746, 146.5079010321454, 0.03553890203152521, 0.5258252443706152]\n"
     ]
    },
    {
     "name": "stderr",
     "output_type": "stream",
     "text": [
      "Epoch: 100%|███████████████████████████████████| 230/230 [3:54:58<00:00, 61.30s/it]\n"
     ]
    },
    {
     "name": "stdout",
     "output_type": "stream",
     "text": [
      "| \u001b[0m180      \u001b[0m | \u001b[0m0.007996 \u001b[0m | \u001b[0m230.4    \u001b[0m | \u001b[0m0.03554  \u001b[0m | \u001b[0m0.0497   \u001b[0m | \u001b[0m146.5    \u001b[0m | \u001b[0m0.5258   \u001b[0m |\n",
      "[119.33493549282159, 0.04309032773111375, 53.34771289299014, 0.08102297045289358, 0.4629013862205863]\n"
     ]
    },
    {
     "name": "stderr",
     "output_type": "stream",
     "text": [
      "Epoch: 100%|█████████████████████████████████████| 119/119 [04:51<00:00,  2.45s/it]\n"
     ]
    },
    {
     "name": "stdout",
     "output_type": "stream",
     "text": [
      "| \u001b[0m181      \u001b[0m | \u001b[0m0.0      \u001b[0m | \u001b[0m119.3    \u001b[0m | \u001b[0m0.08102  \u001b[0m | \u001b[0m0.04309  \u001b[0m | \u001b[0m53.35    \u001b[0m | \u001b[0m0.4629   \u001b[0m |\n",
      "[124.15122909531678, 0.002829654368101604, 40.737873031739426, 0.016560914457154418, 0.43895309338151156]\n"
     ]
    },
    {
     "name": "stderr",
     "output_type": "stream",
     "text": [
      "Epoch: 100%|█████████████████████████████████████| 124/124 [57:18<00:00, 27.73s/it]\n"
     ]
    },
    {
     "name": "stdout",
     "output_type": "stream",
     "text": [
      "| \u001b[0m182      \u001b[0m | \u001b[0m0.01297  \u001b[0m | \u001b[0m124.2    \u001b[0m | \u001b[0m0.01656  \u001b[0m | \u001b[0m0.00283  \u001b[0m | \u001b[0m40.74    \u001b[0m | \u001b[0m0.439    \u001b[0m |\n",
      "[204.53958307732708, 0.045778129539527264, 84.31194235546542, 0.03878532823207577, 0.5263331100579359]\n"
     ]
    },
    {
     "name": "stderr",
     "output_type": "stream",
     "text": [
      "Epoch: 100%|█████████████████████████████████████| 204/204 [30:12<00:00,  8.89s/it]\n"
     ]
    },
    {
     "name": "stdout",
     "output_type": "stream",
     "text": [
      "| \u001b[0m183      \u001b[0m | \u001b[0m0.006038 \u001b[0m | \u001b[0m204.5    \u001b[0m | \u001b[0m0.03879  \u001b[0m | \u001b[0m0.04578  \u001b[0m | \u001b[0m84.31    \u001b[0m | \u001b[0m0.5263   \u001b[0m |\n",
      "[247.04284961775159, 0.005110608149442099, 121.84245159563561, 0.046395987597671884, 0.9014502063403457]\n"
     ]
    },
    {
     "name": "stderr",
     "output_type": "stream",
     "text": [
      "Epoch: 100%|███████████████████████████████████| 247/247 [4:14:21<00:00, 61.79s/it]\n"
     ]
    },
    {
     "name": "stdout",
     "output_type": "stream",
     "text": [
      "| \u001b[0m184      \u001b[0m | \u001b[0m0.01297  \u001b[0m | \u001b[0m247.0    \u001b[0m | \u001b[0m0.0464   \u001b[0m | \u001b[0m0.005111 \u001b[0m | \u001b[0m121.8    \u001b[0m | \u001b[0m0.9015   \u001b[0m |\n",
      "[83.00379785057697, 0.04222298577380758, 118.25105596373527, 0.04351943985320799, 0.2709609175374089]\n"
     ]
    },
    {
     "name": "stderr",
     "output_type": "stream",
     "text": [
      "Epoch: 100%|███████████████████████████████████████| 83/83 [17:20<00:00, 12.54s/it]\n"
     ]
    },
    {
     "name": "stdout",
     "output_type": "stream",
     "text": [
      "| \u001b[0m185      \u001b[0m | \u001b[0m0.0      \u001b[0m | \u001b[0m83.0     \u001b[0m | \u001b[0m0.04352  \u001b[0m | \u001b[0m0.04222  \u001b[0m | \u001b[0m118.3    \u001b[0m | \u001b[0m0.271    \u001b[0m |\n",
      "[7.045777416061513, 0.010700891135266611, 29.2493833433821, 0.08496116182522255, 0.7396207870983097]\n"
     ]
    },
    {
     "name": "stderr",
     "output_type": "stream",
     "text": [
      "Epoch: 100%|█████████████████████████████████████████| 7/7 [02:06<00:00, 18.06s/it]\n"
     ]
    },
    {
     "name": "stdout",
     "output_type": "stream",
     "text": [
      "| \u001b[0m186      \u001b[0m | \u001b[0m3.318e-05\u001b[0m | \u001b[0m7.046    \u001b[0m | \u001b[0m0.08496  \u001b[0m | \u001b[0m0.0107   \u001b[0m | \u001b[0m29.25    \u001b[0m | \u001b[0m0.7396   \u001b[0m |\n",
      "[87.4486196799115, 0.03049559030666509, 114.90898269287909, 0.043720949679028676, 0.4734712869305955]\n"
     ]
    },
    {
     "name": "stderr",
     "output_type": "stream",
     "text": [
      "Epoch: 100%|███████████████████████████████████████| 87/87 [22:01<00:00, 15.19s/it]\n"
     ]
    },
    {
     "name": "stdout",
     "output_type": "stream",
     "text": [
      "| \u001b[0m187      \u001b[0m | \u001b[0m0.0004313\u001b[0m | \u001b[0m87.45    \u001b[0m | \u001b[0m0.04372  \u001b[0m | \u001b[0m0.0305   \u001b[0m | \u001b[0m114.9    \u001b[0m | \u001b[0m0.4735   \u001b[0m |\n",
      "[205.24149961339003, 0.03707958979867835, 38.123906889554554, 0.07592662843289463, 0.36466033797318864]\n"
     ]
    },
    {
     "name": "stderr",
     "output_type": "stream",
     "text": [
      "Epoch: 100%|█████████████████████████████████████| 205/205 [06:51<00:00,  2.01s/it]\n"
     ]
    },
    {
     "name": "stdout",
     "output_type": "stream",
     "text": [
      "| \u001b[0m188      \u001b[0m | \u001b[0m0.0      \u001b[0m | \u001b[0m205.2    \u001b[0m | \u001b[0m0.07593  \u001b[0m | \u001b[0m0.03708  \u001b[0m | \u001b[0m38.12    \u001b[0m | \u001b[0m0.3647   \u001b[0m |\n",
      "[157.7882061952691, 0.006359049278004377, 178.76468836745485, 0.05297740680208052, 0.32274814658796136]\n"
     ]
    },
    {
     "name": "stderr",
     "output_type": "stream",
     "text": [
      "Epoch: 100%|███████████████████████████████████| 157/157 [2:46:54<00:00, 63.79s/it]\n"
     ]
    },
    {
     "name": "stdout",
     "output_type": "stream",
     "text": [
      "| \u001b[0m189      \u001b[0m | \u001b[0m0.008295 \u001b[0m | \u001b[0m157.8    \u001b[0m | \u001b[0m0.05298  \u001b[0m | \u001b[0m0.006359 \u001b[0m | \u001b[0m178.8    \u001b[0m | \u001b[0m0.3227   \u001b[0m |\n",
      "[125.98786012488671, 0.032610009219788065, 152.95940554876995, 0.022272776978454124, 0.27561160992541145]\n"
     ]
    },
    {
     "name": "stderr",
     "output_type": "stream",
     "text": [
      "Epoch: 100%|███████████████████████████████████| 125/125 [1:21:43<00:00, 39.23s/it]\n"
     ]
    },
    {
     "name": "stdout",
     "output_type": "stream",
     "text": [
      "| \u001b[0m190      \u001b[0m | \u001b[0m0.002588 \u001b[0m | \u001b[0m126.0    \u001b[0m | \u001b[0m0.02227  \u001b[0m | \u001b[0m0.03261  \u001b[0m | \u001b[0m153.0    \u001b[0m | \u001b[0m0.2756   \u001b[0m |\n",
      "[132.77640131029008, 0.04443138430857358, 95.23019988825253, 0.04368072496951903, 0.5217209453661499]\n"
     ]
    },
    {
     "name": "stderr",
     "output_type": "stream",
     "text": [
      "Epoch: 100%|█████████████████████████████████████| 132/132 [17:58<00:00,  8.17s/it]\n"
     ]
    },
    {
     "name": "stdout",
     "output_type": "stream",
     "text": [
      "| \u001b[0m191      \u001b[0m | \u001b[0m0.001958 \u001b[0m | \u001b[0m132.8    \u001b[0m | \u001b[0m0.04368  \u001b[0m | \u001b[0m0.04443  \u001b[0m | \u001b[0m95.23    \u001b[0m | \u001b[0m0.5217   \u001b[0m |\n",
      "[254.91536611858723, 0.038409367344415975, 132.82529320883123, 0.08861843172603247, 0.25227031227372687]\n"
     ]
    },
    {
     "name": "stderr",
     "output_type": "stream",
     "text": [
      "Epoch: 100%|█████████████████████████████████████| 254/254 [17:44<00:00,  4.19s/it]\n"
     ]
    },
    {
     "name": "stdout",
     "output_type": "stream",
     "text": [
      "| \u001b[0m192      \u001b[0m | \u001b[0m0.0      \u001b[0m | \u001b[0m254.9    \u001b[0m | \u001b[0m0.08862  \u001b[0m | \u001b[0m0.03841  \u001b[0m | \u001b[0m132.8    \u001b[0m | \u001b[0m0.2523   \u001b[0m |\n",
      "[157.66975100867182, 0.017412173091656474, 154.73898316422918, 0.06967679019298721, 0.8609109673246224]\n"
     ]
    },
    {
     "name": "stderr",
     "output_type": "stream",
     "text": [
      "Epoch: 100%|███████████████████████████████████| 157/157 [2:06:23<00:00, 48.30s/it]\n"
     ]
    },
    {
     "name": "stdout",
     "output_type": "stream",
     "text": [
      "| \u001b[0m193      \u001b[0m | \u001b[0m0.006603 \u001b[0m | \u001b[0m157.7    \u001b[0m | \u001b[0m0.06968  \u001b[0m | \u001b[0m0.01741  \u001b[0m | \u001b[0m154.7    \u001b[0m | \u001b[0m0.8609   \u001b[0m |\n",
      "[99.73117310528883, 0.0021668412566234387, 52.15542434295066, 0.08445028296754235, 0.14310980319044606]\n"
     ]
    },
    {
     "name": "stderr",
     "output_type": "stream",
     "text": [
      "Epoch: 100%|███████████████████████████████████████| 99/99 [58:26<00:00, 35.42s/it]\n"
     ]
    },
    {
     "name": "stdout",
     "output_type": "stream",
     "text": [
      "| \u001b[0m194      \u001b[0m | \u001b[0m0.01294  \u001b[0m | \u001b[0m99.73    \u001b[0m | \u001b[0m0.08445  \u001b[0m | \u001b[0m0.002167 \u001b[0m | \u001b[0m52.16    \u001b[0m | \u001b[0m0.1431   \u001b[0m |\n",
      "[12.105553990984475, 0.030776036680803625, 81.80845629876222, 0.007288449093096841, 0.07870816154588549]\n"
     ]
    },
    {
     "name": "stderr",
     "output_type": "stream",
     "text": [
      "Epoch: 100%|███████████████████████████████████████| 12/12 [09:47<00:00, 48.94s/it]\n"
     ]
    },
    {
     "name": "stdout",
     "output_type": "stream",
     "text": [
      "| \u001b[0m195      \u001b[0m | \u001b[0m0.01377  \u001b[0m | \u001b[0m12.11    \u001b[0m | \u001b[0m0.007288 \u001b[0m | \u001b[0m0.03078  \u001b[0m | \u001b[0m81.81    \u001b[0m | \u001b[0m0.07871  \u001b[0m |\n",
      "[107.6606178651421, 0.004921296867565204, 127.17373244498256, 0.05707266186578276, 0.9853912055910184]\n"
     ]
    },
    {
     "name": "stderr",
     "output_type": "stream",
     "text": [
      "Epoch: 100%|███████████████████████████████████| 107/107 [1:57:30<00:00, 65.89s/it]\n"
     ]
    },
    {
     "name": "stdout",
     "output_type": "stream",
     "text": [
      "| \u001b[0m196      \u001b[0m | \u001b[0m0.01297  \u001b[0m | \u001b[0m107.7    \u001b[0m | \u001b[0m0.05707  \u001b[0m | \u001b[0m0.004921 \u001b[0m | \u001b[0m127.2    \u001b[0m | \u001b[0m0.9854   \u001b[0m |\n",
      "[37.76728346864506, 0.04719619972427396, 149.64365691826364, 0.00574621027958023, 0.007812019048614117]\n"
     ]
    },
    {
     "name": "stderr",
     "output_type": "stream",
     "text": [
      "Epoch: 100%|███████████████████████████████████████| 37/37 [37:44<00:00, 61.20s/it]\n"
     ]
    },
    {
     "name": "stdout",
     "output_type": "stream",
     "text": [
      "| \u001b[0m197      \u001b[0m | \u001b[0m0.01825  \u001b[0m | \u001b[0m37.77    \u001b[0m | \u001b[0m0.005746 \u001b[0m | \u001b[0m0.0472   \u001b[0m | \u001b[0m149.6    \u001b[0m | \u001b[0m0.007812 \u001b[0m |\n",
      "[86.55572316406946, 0.004958846075976078, 147.24888303105922, 0.02986186441949906, 0.6364453068108875]\n"
     ]
    },
    {
     "name": "stderr",
     "output_type": "stream",
     "text": [
      "Epoch: 100%|█████████████████████████████████████| 86/86 [1:20:54<00:00, 56.45s/it]\n"
     ]
    },
    {
     "name": "stdout",
     "output_type": "stream",
     "text": [
      "| \u001b[0m198      \u001b[0m | \u001b[0m0.008461 \u001b[0m | \u001b[0m86.56    \u001b[0m | \u001b[0m0.02986  \u001b[0m | \u001b[0m0.004959 \u001b[0m | \u001b[0m147.2    \u001b[0m | \u001b[0m0.6364   \u001b[0m |\n",
      "[230.78008141577422, 0.022141081282038004, 26.55933196493053, 0.03871765571384973, 0.9848950916532445]\n"
     ]
    },
    {
     "name": "stderr",
     "output_type": "stream",
     "text": [
      "Epoch: 100%|█████████████████████████████████████| 230/230 [52:53<00:00, 13.80s/it]\n"
     ]
    },
    {
     "name": "stdout",
     "output_type": "stream",
     "text": [
      "| \u001b[0m199      \u001b[0m | \u001b[0m0.006835 \u001b[0m | \u001b[0m230.8    \u001b[0m | \u001b[0m0.03872  \u001b[0m | \u001b[0m0.02214  \u001b[0m | \u001b[0m26.56    \u001b[0m | \u001b[0m0.9849   \u001b[0m |\n",
      "[153.92296334228936, 0.03293431003603616, 198.361450708707, 0.07478689203269967, 0.1854886994566081]\n"
     ]
    },
    {
     "name": "stderr",
     "output_type": "stream",
     "text": [
      "Epoch: 100%|█████████████████████████████████████| 153/153 [28:06<00:00, 11.02s/it]\n"
     ]
    },
    {
     "name": "stdout",
     "output_type": "stream",
     "text": [
      "| \u001b[0m200      \u001b[0m | \u001b[0m0.0      \u001b[0m | \u001b[0m153.9    \u001b[0m | \u001b[0m0.07479  \u001b[0m | \u001b[0m0.03293  \u001b[0m | \u001b[0m198.4    \u001b[0m | \u001b[0m0.1855   \u001b[0m |\n",
      "[192.2972449578593, 0.01944223153780403, 30.125727567123853, 0.02317691174229557, 0.3422137056558975]\n"
     ]
    },
    {
     "name": "stderr",
     "output_type": "stream",
     "text": [
      "Epoch: 100%|█████████████████████████████████████| 192/192 [55:38<00:00, 17.39s/it]\n"
     ]
    },
    {
     "name": "stdout",
     "output_type": "stream",
     "text": [
      "| \u001b[0m201      \u001b[0m | \u001b[0m0.01055  \u001b[0m | \u001b[0m192.3    \u001b[0m | \u001b[0m0.02318  \u001b[0m | \u001b[0m0.01944  \u001b[0m | \u001b[0m30.13    \u001b[0m | \u001b[0m0.3422   \u001b[0m |\n",
      "[231.9650615823481, 0.030662531239681122, 66.39060002786346, 0.06580739510872835, 0.1512501393613512]\n"
     ]
    },
    {
     "name": "stderr",
     "output_type": "stream",
     "text": [
      "Epoch: 100%|█████████████████████████████████████| 231/231 [30:32<00:00,  7.93s/it]\n"
     ]
    },
    {
     "name": "stdout",
     "output_type": "stream",
     "text": [
      "| \u001b[0m202      \u001b[0m | \u001b[0m0.0      \u001b[0m | \u001b[0m232.0    \u001b[0m | \u001b[0m0.06581  \u001b[0m | \u001b[0m0.03066  \u001b[0m | \u001b[0m66.39    \u001b[0m | \u001b[0m0.1513   \u001b[0m |\n",
      "[154.65085118107223, 0.026856153841568108, 103.70597741079922, 0.06442902955118156, 0.5567581325266224]\n"
     ]
    },
    {
     "name": "stderr",
     "output_type": "stream",
     "text": [
      "Epoch: 100%|█████████████████████████████████████| 154/154 [20:33<00:00,  8.01s/it]\n"
     ]
    },
    {
     "name": "stdout",
     "output_type": "stream",
     "text": [
      "| \u001b[0m203      \u001b[0m | \u001b[0m0.000564 \u001b[0m | \u001b[0m154.7    \u001b[0m | \u001b[0m0.06443  \u001b[0m | \u001b[0m0.02686  \u001b[0m | \u001b[0m103.7    \u001b[0m | \u001b[0m0.5568   \u001b[0m |\n",
      "[14.405391990821526, 0.03428868388512151, 43.20695817874672, 0.0018659730112901265, 0.44776284950825596]\n"
     ]
    },
    {
     "name": "stderr",
     "output_type": "stream",
     "text": [
      "Epoch: 100%|███████████████████████████████████████| 14/14 [06:48<00:00, 29.18s/it]\n"
     ]
    },
    {
     "name": "stdout",
     "output_type": "stream",
     "text": [
      "| \u001b[0m204      \u001b[0m | \u001b[0m0.02475  \u001b[0m | \u001b[0m14.41    \u001b[0m | \u001b[0m0.001866 \u001b[0m | \u001b[0m0.03429  \u001b[0m | \u001b[0m43.21    \u001b[0m | \u001b[0m0.4478   \u001b[0m |\n",
      "[10.843245436001329, 0.006457299249757516, 94.08623198254587, 0.040132347016789284, 0.8727004304160343]\n"
     ]
    },
    {
     "name": "stderr",
     "output_type": "stream",
     "text": [
      "Epoch: 100%|███████████████████████████████████████| 10/10 [08:37<00:00, 51.76s/it]\n"
     ]
    },
    {
     "name": "stdout",
     "output_type": "stream",
     "text": [
      "| \u001b[0m205      \u001b[0m | \u001b[0m0.01297  \u001b[0m | \u001b[0m10.84    \u001b[0m | \u001b[0m0.04013  \u001b[0m | \u001b[0m0.006457 \u001b[0m | \u001b[0m94.09    \u001b[0m | \u001b[0m0.8727   \u001b[0m |\n",
      "[59.26471216445162, 0.0030824933031467433, 164.1410773280218, 0.07709280884394352, 0.002903862121874168]\n"
     ]
    },
    {
     "name": "stderr",
     "output_type": "stream",
     "text": [
      "Epoch: 100%|█████████████████████████████████████| 59/59 [1:04:04<00:00, 65.16s/it]\n"
     ]
    },
    {
     "name": "stdout",
     "output_type": "stream",
     "text": [
      "| \u001b[0m206      \u001b[0m | \u001b[0m0.01254  \u001b[0m | \u001b[0m59.26    \u001b[0m | \u001b[0m0.07709  \u001b[0m | \u001b[0m0.003082 \u001b[0m | \u001b[0m164.1    \u001b[0m | \u001b[0m0.002904 \u001b[0m |\n",
      "[230.9270373210168, 0.012466826555656167, 71.0728176755563, 0.03392564395394564, 0.928609853807082]\n"
     ]
    },
    {
     "name": "stderr",
     "output_type": "stream",
     "text": [
      "Epoch: 100%|███████████████████████████████████| 230/230 [2:59:20<00:00, 46.78s/it]\n"
     ]
    },
    {
     "name": "stdout",
     "output_type": "stream",
     "text": [
      "| \u001b[0m207      \u001b[0m | \u001b[0m0.01267  \u001b[0m | \u001b[0m230.9    \u001b[0m | \u001b[0m0.03393  \u001b[0m | \u001b[0m0.01247  \u001b[0m | \u001b[0m71.07    \u001b[0m | \u001b[0m0.9286   \u001b[0m |\n",
      "[253.06002417145635, 0.038287383349546705, 22.792694333295024, 0.06054745452898223, 0.2854946048500597]\n"
     ]
    },
    {
     "name": "stderr",
     "output_type": "stream",
     "text": [
      "Epoch: 100%|█████████████████████████████████████| 253/253 [07:22<00:00,  1.75s/it]\n"
     ]
    },
    {
     "name": "stdout",
     "output_type": "stream",
     "text": [
      "| \u001b[0m208      \u001b[0m | \u001b[0m0.0      \u001b[0m | \u001b[0m253.1    \u001b[0m | \u001b[0m0.06055  \u001b[0m | \u001b[0m0.03829  \u001b[0m | \u001b[0m22.79    \u001b[0m | \u001b[0m0.2855   \u001b[0m |\n",
      "[94.2062429953111, 0.015554703545775154, 176.49004309468788, 0.08301578800289643, 0.4749734659205034]\n"
     ]
    },
    {
     "name": "stderr",
     "output_type": "stream",
     "text": [
      "Epoch: 100%|███████████████████████████████████████| 94/94 [27:50<00:00, 17.77s/it]\n"
     ]
    },
    {
     "name": "stdout",
     "output_type": "stream",
     "text": [
      "| \u001b[0m209      \u001b[0m | \u001b[0m0.0      \u001b[0m | \u001b[0m94.21    \u001b[0m | \u001b[0m0.08302  \u001b[0m | \u001b[0m0.01555  \u001b[0m | \u001b[0m176.5    \u001b[0m | \u001b[0m0.475    \u001b[0m |\n",
      "[256.6172968957748, 0.021867680802706835, 63.04883635357386, 0.09944286330885964, 0.21540113052552123]\n"
     ]
    },
    {
     "name": "stderr",
     "output_type": "stream",
     "text": [
      "Epoch: 100%|█████████████████████████████████████| 256/256 [19:39<00:00,  4.61s/it]\n"
     ]
    },
    {
     "name": "stdout",
     "output_type": "stream",
     "text": [
      "| \u001b[0m210      \u001b[0m | \u001b[0m0.0      \u001b[0m | \u001b[0m256.6    \u001b[0m | \u001b[0m0.09944  \u001b[0m | \u001b[0m0.02187  \u001b[0m | \u001b[0m63.05    \u001b[0m | \u001b[0m0.2154   \u001b[0m |\n",
      "[247.57479309981304, 0.01157724519501005, 145.25970682011572, 0.07141938775844481, 0.879770883565264]\n"
     ]
    },
    {
     "name": "stderr",
     "output_type": "stream",
     "text": [
      "Epoch: 100%|███████████████████████████████████| 247/247 [2:23:32<00:00, 34.87s/it]\n"
     ]
    },
    {
     "name": "stdout",
     "output_type": "stream",
     "text": [
      "| \u001b[0m211      \u001b[0m | \u001b[0m0.01029  \u001b[0m | \u001b[0m247.6    \u001b[0m | \u001b[0m0.07142  \u001b[0m | \u001b[0m0.01158  \u001b[0m | \u001b[0m145.3    \u001b[0m | \u001b[0m0.8798   \u001b[0m |\n",
      "[197.40673181876187, 0.0453897809223243, 182.4390286704294, 0.06667345969003695, 0.9911364649989547]\n"
     ]
    },
    {
     "name": "stderr",
     "output_type": "stream",
     "text": [
      "Epoch: 100%|█████████████████████████████████████| 197/197 [14:10<00:00,  4.32s/it]\n"
     ]
    },
    {
     "name": "stdout",
     "output_type": "stream",
     "text": [
      "| \u001b[0m212      \u001b[0m | \u001b[0m0.0      \u001b[0m | \u001b[0m197.4    \u001b[0m | \u001b[0m0.06667  \u001b[0m | \u001b[0m0.04539  \u001b[0m | \u001b[0m182.4    \u001b[0m | \u001b[0m0.9911   \u001b[0m |\n",
      "[206.03981565110772, 0.0067481075478575455, 191.8318400489235, 0.0914899309376498, 0.8272742513424611]\n"
     ]
    },
    {
     "name": "stderr",
     "output_type": "stream",
     "text": [
      "Epoch: 100%|███████████████████████████████████| 206/206 [3:15:38<00:00, 56.98s/it]\n"
     ]
    },
    {
     "name": "stdout",
     "output_type": "stream",
     "text": [
      "| \u001b[0m213      \u001b[0m | \u001b[0m0.01082  \u001b[0m | \u001b[0m206.0    \u001b[0m | \u001b[0m0.09149  \u001b[0m | \u001b[0m0.006748 \u001b[0m | \u001b[0m191.8    \u001b[0m | \u001b[0m0.8273   \u001b[0m |\n",
      "[76.3046251086181, 0.03471182274196088, 81.710234151404, 0.020582046469728228, 0.4719948465268699]\n"
     ]
    },
    {
     "name": "stderr",
     "output_type": "stream",
     "text": [
      "Epoch: 100%|███████████████████████████████████████| 76/76 [41:06<00:00, 32.45s/it]\n"
     ]
    },
    {
     "name": "stdout",
     "output_type": "stream",
     "text": [
      "| \u001b[0m214      \u001b[0m | \u001b[0m0.003716 \u001b[0m | \u001b[0m76.3     \u001b[0m | \u001b[0m0.02058  \u001b[0m | \u001b[0m0.03471  \u001b[0m | \u001b[0m81.71    \u001b[0m | \u001b[0m0.472    \u001b[0m |\n",
      "[179.91904263283044, 0.01012184600207642, 65.79497986530973, 0.09201137626146023, 0.16252427045108211]\n"
     ]
    },
    {
     "name": "stderr",
     "output_type": "stream",
     "text": [
      "Epoch: 100%|███████████████████████████████████| 179/179 [1:02:29<00:00, 20.95s/it]\n"
     ]
    },
    {
     "name": "stdout",
     "output_type": "stream",
     "text": [
      "| \u001b[0m215      \u001b[0m | \u001b[0m0.0      \u001b[0m | \u001b[0m179.9    \u001b[0m | \u001b[0m0.09201  \u001b[0m | \u001b[0m0.01012  \u001b[0m | \u001b[0m65.79    \u001b[0m | \u001b[0m0.1625   \u001b[0m |\n",
      "[16.269735941851142, 0.020697315607659073, 102.90254672499408, 0.031170365480156368, 0.2206860083640759]\n"
     ]
    },
    {
     "name": "stderr",
     "output_type": "stream",
     "text": [
      "Epoch: 100%|███████████████████████████████████████| 16/16 [14:33<00:00, 54.61s/it]\n"
     ]
    },
    {
     "name": "stdout",
     "output_type": "stream",
     "text": [
      "| \u001b[0m216      \u001b[0m | \u001b[0m0.01294  \u001b[0m | \u001b[0m16.27    \u001b[0m | \u001b[0m0.03117  \u001b[0m | \u001b[0m0.0207   \u001b[0m | \u001b[0m102.9    \u001b[0m | \u001b[0m0.2207   \u001b[0m |\n",
      "[142.88249884188727, 0.04207899068319932, 65.45338551526137, 0.02297609677237596, 0.7130350363352537]\n"
     ]
    },
    {
     "name": "stderr",
     "output_type": "stream",
     "text": [
      "Epoch: 100%|█████████████████████████████████████| 142/142 [56:36<00:00, 23.92s/it]\n"
     ]
    },
    {
     "name": "stdout",
     "output_type": "stream",
     "text": [
      "| \u001b[0m217      \u001b[0m | \u001b[0m0.007034 \u001b[0m | \u001b[0m142.9    \u001b[0m | \u001b[0m0.02298  \u001b[0m | \u001b[0m0.04208  \u001b[0m | \u001b[0m65.45    \u001b[0m | \u001b[0m0.713    \u001b[0m |\n",
      "[20.612520281454763, 0.002289411510589019, 63.81229670051295, 0.09110131700701941, 0.5626895770164102]\n"
     ]
    },
    {
     "name": "stderr",
     "output_type": "stream",
     "text": [
      "Epoch: 100%|███████████████████████████████████████| 20/20 [13:21<00:00, 40.08s/it]\n"
     ]
    },
    {
     "name": "stdout",
     "output_type": "stream",
     "text": [
      "| \u001b[0m218      \u001b[0m | \u001b[0m0.01005  \u001b[0m | \u001b[0m20.61    \u001b[0m | \u001b[0m0.0911   \u001b[0m | \u001b[0m0.002289 \u001b[0m | \u001b[0m63.81    \u001b[0m | \u001b[0m0.5627   \u001b[0m |\n",
      "[73.17877179289403, 0.033138835102484644, 179.91253503720102, 0.028957787360879193, 0.5326952536461332]\n"
     ]
    },
    {
     "name": "stderr",
     "output_type": "stream",
     "text": [
      "Epoch: 100%|███████████████████████████████████████| 73/73 [40:05<00:00, 32.95s/it]\n"
     ]
    },
    {
     "name": "stdout",
     "output_type": "stream",
     "text": [
      "| \u001b[0m219      \u001b[0m | \u001b[0m0.003384 \u001b[0m | \u001b[0m73.18    \u001b[0m | \u001b[0m0.02896  \u001b[0m | \u001b[0m0.03314  \u001b[0m | \u001b[0m179.9    \u001b[0m | \u001b[0m0.5327   \u001b[0m |\n",
      "[247.49673355254328, 0.01344066836943593, 31.068806030234963, 0.024559456898847795, 0.8792713407016595]\n"
     ]
    },
    {
     "name": "stderr",
     "output_type": "stream",
     "text": [
      "Epoch: 100%|███████████████████████████████████| 247/247 [1:28:49<00:00, 21.58s/it]\n"
     ]
    },
    {
     "name": "stdout",
     "output_type": "stream",
     "text": [
      "| \u001b[0m220      \u001b[0m | \u001b[0m0.01297  \u001b[0m | \u001b[0m247.5    \u001b[0m | \u001b[0m0.02456  \u001b[0m | \u001b[0m0.01344  \u001b[0m | \u001b[0m31.07    \u001b[0m | \u001b[0m0.8793   \u001b[0m |\n",
      "[114.2662673201666, 0.04196039298074041, 173.37211019436404, 0.04182612024306304, 0.3053903269861637]\n"
     ]
    },
    {
     "name": "stderr",
     "output_type": "stream",
     "text": [
      "Epoch: 100%|█████████████████████████████████████| 114/114 [30:54<00:00, 16.27s/it]\n"
     ]
    },
    {
     "name": "stdout",
     "output_type": "stream",
     "text": [
      "| \u001b[0m221      \u001b[0m | \u001b[0m0.0      \u001b[0m | \u001b[0m114.3    \u001b[0m | \u001b[0m0.04183  \u001b[0m | \u001b[0m0.04196  \u001b[0m | \u001b[0m173.4    \u001b[0m | \u001b[0m0.3054   \u001b[0m |\n",
      "[130.30407596488067, 0.02874562700356603, 146.87793657195897, 0.09620492279579446, 0.2949460360494264]\n"
     ]
    },
    {
     "name": "stderr",
     "output_type": "stream",
     "text": [
      "Epoch: 100%|█████████████████████████████████████| 130/130 [14:08<00:00,  6.53s/it]\n"
     ]
    },
    {
     "name": "stdout",
     "output_type": "stream",
     "text": [
      "| \u001b[0m222      \u001b[0m | \u001b[0m0.0      \u001b[0m | \u001b[0m130.3    \u001b[0m | \u001b[0m0.0962   \u001b[0m | \u001b[0m0.02875  \u001b[0m | \u001b[0m146.9    \u001b[0m | \u001b[0m0.2949   \u001b[0m |\n",
      "[85.34132186222527, 0.019752141465130064, 112.33361859346131, 0.005829312972189329, 0.8001536919879348]\n"
     ]
    },
    {
     "name": "stderr",
     "output_type": "stream",
     "text": [
      "Epoch: 100%|█████████████████████████████████████| 85/85 [1:20:52<00:00, 57.08s/it]\n"
     ]
    },
    {
     "name": "stdout",
     "output_type": "stream",
     "text": [
      "| \u001b[0m223      \u001b[0m | \u001b[0m0.01297  \u001b[0m | \u001b[0m85.34    \u001b[0m | \u001b[0m0.005829 \u001b[0m | \u001b[0m0.01975  \u001b[0m | \u001b[0m112.3    \u001b[0m | \u001b[0m0.8002   \u001b[0m |\n",
      "[49.7087378116408, 0.004325850659596821, 183.35585208211245, 0.05632241677920468, 0.4592664365290204]\n"
     ]
    },
    {
     "name": "stderr",
     "output_type": "stream",
     "text": [
      "Epoch: 100%|███████████████████████████████████████| 49/49 [51:35<00:00, 63.17s/it]\n"
     ]
    },
    {
     "name": "stdout",
     "output_type": "stream",
     "text": [
      "| \u001b[0m224      \u001b[0m | \u001b[0m0.009025 \u001b[0m | \u001b[0m49.71    \u001b[0m | \u001b[0m0.05632  \u001b[0m | \u001b[0m0.004326 \u001b[0m | \u001b[0m183.4    \u001b[0m | \u001b[0m0.4593   \u001b[0m |\n",
      "[140.78241785237384, 0.04213621497985518, 150.95056677778496, 0.09465109650182603, 0.20764138291125497]\n"
     ]
    },
    {
     "name": "stderr",
     "output_type": "stream",
     "text": [
      "Epoch: 100%|█████████████████████████████████████| 140/140 [13:13<00:00,  5.67s/it]\n"
     ]
    },
    {
     "name": "stdout",
     "output_type": "stream",
     "text": [
      "| \u001b[0m225      \u001b[0m | \u001b[0m0.0      \u001b[0m | \u001b[0m140.8    \u001b[0m | \u001b[0m0.09465  \u001b[0m | \u001b[0m0.04214  \u001b[0m | \u001b[0m151.0    \u001b[0m | \u001b[0m0.2076   \u001b[0m |\n",
      "=====================================================================================\n"
     ]
    }
   ],
   "source": [
    "optimizer.maximize(\n",
    "    init_points=0,\n",
    "    n_iter=200,\n",
    ")"
   ]
  },
  {
   "cell_type": "code",
   "execution_count": 97,
   "metadata": {},
   "outputs": [
    {
     "data": {
      "text/plain": [
       "{'target': 0.07923025637865067,\n",
       " 'params': {'epochs': 87.72194663504523,\n",
       "  'item_alpha': 1.880287749929721e-05,\n",
       "  'learning_rate': 0.019009390749319937,\n",
       "  'no_components': 44.32313980474905,\n",
       "  'scale': 0.03417162687712631}}"
      ]
     },
     "execution_count": 97,
     "metadata": {},
     "output_type": "execute_result"
    }
   ],
   "source": [
    "optimizer.max"
   ]
  },
  {
   "cell_type": "code",
   "execution_count": 21,
   "metadata": {},
   "outputs": [],
   "source": [
    "def objective_wsideinfo(params):\n",
    "    # unpack\n",
    "    print('=====================================')\n",
    "    print(params)\n",
    "    epochs, learning_rate,\\\n",
    "    no_components, item_alpha,\\\n",
    "    scale = params\n",
    "    \n",
    "    user_alpha = item_alpha * scale\n",
    "    model = LightFM(loss='warp',\n",
    "                    random_state=2016,\n",
    "                    learning_rate=learning_rate,\n",
    "                    no_components=no_components,\n",
    "                    user_alpha=user_alpha,\n",
    "                    item_alpha=item_alpha)\n",
    "    model.fit(train_interactions, epochs=epochs,\n",
    "              item_features=product_features, user_features=user_features, \n",
    "              num_threads=8, verbose=True)\n",
    "    \n",
    "    patks = precision_at_k(model, test_interactions, item_features=product_features, user_features=user_features,\n",
    "                           check_intersections=False , k=5, num_threads=8).mean()\n",
    "    # Make negative because we want to _minimize_ objective\n",
    "    out = -patks\n",
    "    # Weird shit going on\n",
    "    if np.abs(out + 1) < 0.01 or out < -1.0:\n",
    "        return 0.0\n",
    "    else:\n",
    "        return out"
   ]
  },
  {
   "cell_type": "code",
   "execution_count": 25,
   "metadata": {},
   "outputs": [
    {
     "data": {
      "text/plain": [
       "[250, 0.05489768662585542, 165, 0.0010024970478760666, 1.0]"
      ]
     },
     "execution_count": 25,
     "metadata": {},
     "output_type": "execute_result"
    }
   ],
   "source": [
    "res_fm.x.append(1.)\n",
    "res_fm.x"
   ]
  },
  {
   "cell_type": "code",
   "execution_count": null,
   "metadata": {},
   "outputs": [],
   "source": [
    "space = [(1, 260), # epochs\n",
    "         (10**-3, 1.0, 'log-uniform'), # learning_rate\n",
    "         (20, 200), # no_components\n",
    "         (10**-5, 10**-2, 'log-uniform'), # item_alpha\n",
    "         (0.001, 1., 'log-uniform') # user_scaling\n",
    "        ]\n",
    "# x0 = res_fm.x\n",
    "x0 = [250, 0.05489768662585542, 165, 0.0010024970478760666, 1.0]\n",
    "test = [32, 0.02046896396312668, 85, 1.9853681526881345e-05, 0.811759169863414]\n",
    "# This typecast is required\n",
    "res_fm_itemfeat = forest_minimize(objective_wsideinfo, space, n_calls=50,\n",
    "                                  x0=x0,\n",
    "                                  random_state=0,\n",
    "                                  verbose=True)"
   ]
  },
  {
   "cell_type": "code",
   "execution_count": null,
   "metadata": {},
   "outputs": [],
   "source": [
    "print('Maximimum p@k found: {:6.5f}'.format(-res_fm_itemfeat.fun))\n",
    "print('Optimal parameters:')\n",
    "params = ['epochs', 'learning_rate', 'no_components', 'item_alpha', 'scaling']\n",
    "for (p, x_) in zip(params, res_fm_itemfeat.x):\n",
    "    print('{}: {}'.format(p, x_))"
   ]
  },
  {
   "cell_type": "code",
   "execution_count": 20,
   "metadata": {},
   "outputs": [],
   "source": [
    "from tqdm.notebook import tqdm"
   ]
  },
  {
   "cell_type": "code",
   "execution_count": 102,
   "metadata": {},
   "outputs": [],
   "source": [
    "import pickle\n",
    "import os\n",
    "file = 'weights/lightFM_model_tune_tag.pickle'"
   ]
  },
  {
   "cell_type": "code",
   "execution_count": 100,
   "metadata": {},
   "outputs": [],
   "source": [
    "from tqdm.notebook import tqdm"
   ]
  },
  {
   "cell_type": "code",
   "execution_count": 108,
   "metadata": {
    "scrolled": true
   },
   "outputs": [
    {
     "data": {
      "application/vnd.jupyter.widget-view+json": {
       "model_id": "f13d51fe03814da7ba7efaa3ca747b54",
       "version_major": 2,
       "version_minor": 0
      },
      "text/plain": [
       "  0%|          | 0/200 [00:00<?, ?it/s]"
      ]
     },
     "metadata": {},
     "output_type": "display_data"
    },
    {
     "name": "stdout",
     "output_type": "stream",
     "text": [
      "test score : 0.015759788\n",
      "0 0.02481974\n",
      "=====================================\n",
      "test score : 0.01702057\n",
      "1 0.026758533\n",
      "=====================================\n",
      "test score : 0.025348375\n",
      "2 0.0415959\n",
      "=====================================\n",
      "test score : 0.042236235\n",
      "3 0.06654382\n",
      "=====================================\n",
      "test score : 0.046118114\n",
      "4 0.07497197\n",
      "=====================================\n",
      "test score : 0.04910418\n",
      "5 0.07910591\n",
      "=====================================\n",
      "test score : 0.052621104\n",
      "6 0.08564333\n",
      "=====================================\n",
      "test score : 0.0557067\n",
      "7 0.08918442\n",
      "=====================================\n",
      "test score : 0.059256803\n",
      "9 0.09439192\n",
      "=====================================\n",
      "test score : 0.06224287\n",
      "10 0.09993591\n",
      "=====================================\n",
      "test score : 0.06400133\n",
      "11 0.101073556\n",
      "=====================================\n",
      "test score : 0.067120105\n",
      "12 0.10682584\n",
      "=====================================\n",
      "test score : 0.069840744\n",
      "13 0.11078353\n",
      "=====================================\n",
      "test score : 0.07093564\n",
      "14 0.11390803\n",
      "=====================================\n",
      "test score : 0.07395489\n",
      "15 0.118090056\n",
      "=====================================\n",
      "test score : 0.07584606\n",
      "16 0.122143894\n",
      "=====================================\n",
      "test score : 0.07634373\n",
      "17 0.12275277\n",
      "=====================================\n",
      "test score : 0.07727273\n",
      "18 0.124371104\n",
      "=====================================\n",
      "test score : 0.078699395\n",
      "19 0.12775198\n",
      "=====================================\n",
      "test score : 0.08132051\n",
      "20 0.13129307\n",
      "=====================================\n",
      "test score : 0.08248176\n",
      "21 0.13185388\n",
      "=====================================\n",
      "test score : 0.0830126\n",
      "22 0.13571544\n",
      "=====================================\n",
      "test score : 0.08447246\n",
      "23 0.1352668\n",
      "=====================================\n",
      "test score : 0.08460518\n",
      "24 0.1380388\n",
      "=====================================\n",
      "test score : 0.08636364\n",
      "25 0.138888\n",
      "=====================================\n",
      "test score : 0.087292634\n",
      "26 0.14132352\n",
      "=====================================\n",
      "test score : 0.088619776\n",
      "27 0.14226888\n",
      "=====================================\n",
      "test score : 0.09064367\n",
      "29 0.14553759\n",
      "=====================================\n",
      "test score : 0.092733905\n",
      "31 0.14794104\n",
      "=====================================\n",
      "test score : 0.093165234\n",
      "34 0.15088929\n",
      "=====================================\n",
      "test score : 0.09379563\n",
      "35 0.15122578\n",
      "=====================================\n",
      "test score : 0.09396151\n",
      "36 0.15278001\n",
      "=====================================\n",
      "test score : 0.09512276\n",
      "37 0.15495916\n",
      "=====================================\n",
      "test score : 0.09605176\n",
      "38 0.15497518\n",
      "=====================================\n",
      "test score : 0.09684805\n",
      "39 0.15612884\n",
      "=====================================\n",
      "test score : 0.09774386\n",
      "40 0.15731455\n",
      "=====================================\n",
      "test score : 0.09870604\n",
      "43 0.15878868\n",
      "=====================================\n",
      "test score : 0.10006636\n",
      "45 0.1616568\n",
      "=====================================\n",
      "test score : 0.100530855\n",
      "48 0.16301876\n",
      "=====================================\n",
      "test score : 0.10066358\n",
      "49 0.16438073\n",
      "=====================================\n",
      "test score : 0.101293966\n",
      "50 0.16450891\n",
      "=====================================\n",
      "test score : 0.101758465\n",
      "51 0.16479732\n",
      "=====================================\n",
      "test score : 0.10265428\n",
      "52 0.16724885\n",
      "=====================================\n",
      "test score : 0.10348375\n",
      "54 0.16768149\n",
      "=====================================\n",
      "test score : 0.10394825\n",
      "55 0.16784172\n",
      "=====================================\n",
      "test score : 0.10418049\n",
      "56 0.16801797\n",
      "=====================================\n",
      "test score : 0.105640344\n",
      "57 0.169428\n",
      "=====================================\n",
      "test score : 0.106038496\n",
      "61 0.17099825\n",
      "=====================================\n",
      "test score : 0.106403455\n",
      "62 0.17216794\n",
      "=====================================\n",
      "test score : 0.1071002\n",
      "63 0.1725685\n",
      "=====================================\n",
      "test score : 0.10743199\n",
      "64 0.17335363\n",
      "=====================================\n",
      "test score : 0.10819509\n",
      "66 0.17482777\n",
      "=====================================\n",
      "test score : 0.108858675\n",
      "67 0.17626984\n",
      "=====================================\n",
      "test score : 0.10905773\n",
      "70 0.17726326\n",
      "=====================================\n",
      "test score : 0.1090909\n",
      "71 0.17734338\n",
      "=====================================\n",
      "test score : 0.1097213\n",
      "72 0.17876945\n",
      "=====================================\n",
      "test score : 0.110252164\n",
      "73 0.17867331\n",
      "=====================================\n",
      "test score : 0.11078302\n",
      "74 0.1790899\n",
      "=====================================\n",
      "test score : 0.11101527\n",
      "77 0.18078834\n",
      "=====================================\n",
      "test score : 0.111015275\n",
      "78 0.1809005\n",
      "=====================================\n",
      "test score : 0.11177838\n",
      "79 0.18056403\n",
      "=====================================\n",
      "test score : 0.111977436\n",
      "80 0.18114085\n",
      "=====================================\n",
      "test score : 0.11224287\n",
      "82 0.18242271\n",
      "=====================================\n",
      "test score : 0.11277373\n",
      "84 0.182631\n",
      "=====================================\n",
      "test score : 0.11330458\n",
      "87 0.1824067\n",
      "=====================================\n",
      "test score : 0.113503665\n",
      "89 0.1845057\n",
      "=====================================\n",
      "test score : 0.11357001\n",
      "90 0.18564335\n",
      "=====================================\n",
      "test score : 0.11429993\n",
      "91 0.18572345\n",
      "=====================================\n",
      "test score : 0.11453219\n",
      "92 0.18620415\n",
      "=====================================\n",
      "test score : 0.114565365\n",
      "93 0.18612404\n",
      "=====================================\n",
      "test score : 0.11486397\n",
      "94 0.18634835\n",
      "=====================================\n",
      "test score : 0.11566026\n",
      "95 0.18714951\n",
      "=====================================\n",
      "test score : 0.116257474\n",
      "96 0.18787055\n",
      "=====================================\n",
      "test score : 0.11695422\n",
      "98 0.18931264\n",
      "=====================================\n",
      "test score : 0.117053755\n",
      "102 0.19072264\n",
      "=====================================\n",
      "test score : 0.11788322\n",
      "104 0.19129947\n",
      "=====================================\n",
      "test score : 0.117949575\n",
      "107 0.19105914\n",
      "=====================================\n",
      "test score : 0.118215\n",
      "110 0.19258134\n",
      "=====================================\n",
      "test score : 0.1186795\n",
      "112 0.19277361\n",
      "=====================================\n",
      "test score : 0.119077645\n",
      "114 0.19365488\n",
      "=====================================\n",
      "test score : 0.119674854\n",
      "121 0.19461626\n",
      "=====================================\n",
      "test score : 0.12023889\n",
      "123 0.19479254\n",
      "=====================================\n",
      "test score : 0.121001996\n",
      "127 0.19576992\n",
      "=====================================\n",
      "test score : 0.12103517\n",
      "130 0.19746839\n",
      "=====================================\n",
      "test score : 0.121599205\n",
      "131 0.19796509\n",
      "=====================================\n",
      "test score : 0.12189782\n",
      "141 0.19929501\n",
      "=====================================\n",
      "test score : 0.122262776\n",
      "142 0.19987184\n",
      "=====================================\n",
      "test score : 0.12289318\n",
      "149 0.20064093\n",
      "=====================================\n",
      "test score : 0.12345721\n",
      "154 0.20243552\n",
      "=====================================\n",
      "test score : 0.12355674\n",
      "158 0.20141003\n",
      "=====================================\n",
      "test score : 0.1236231\n",
      "162 0.20362122\n",
      "=====================================\n",
      "test score : 0.12392171\n",
      "164 0.2032527\n",
      "=====================================\n",
      "test score : 0.12431985\n",
      "166 0.20403785\n",
      "=====================================\n",
      "test score : 0.124618456\n",
      "170 0.20515946\n",
      "=====================================\n",
      "test score : 0.12468481\n",
      "171 0.2042301\n",
      "=====================================\n",
      "test score : 0.12478435\n",
      "173 0.20538376\n",
      "=====================================\n",
      "test score : 0.12534837\n",
      "174 0.20490307\n",
      "=====================================\n",
      "test score : 0.12544793\n",
      "175 0.20586446\n",
      "=====================================\n",
      "test score : 0.12551428\n",
      "179 0.205544\n",
      "=====================================\n",
      "test score : 0.12564698\n",
      "180 0.2053998\n",
      "=====================================\n",
      "test score : 0.12581287\n",
      "181 0.20565617\n",
      "=====================================\n",
      "test score : 0.12597878\n",
      "182 0.20572026\n",
      "=====================================\n",
      "test score : 0.12611148\n",
      "183 0.20674573\n",
      "=====================================\n",
      "test score : 0.12641008\n",
      "192 0.20713028\n",
      "=====================================\n",
      "test score : 0.12694095\n",
      "193 0.20870052\n",
      "=====================================\n",
      "test score : 0.12720639\n",
      "196 0.20797952\n",
      "=====================================\n"
     ]
    }
   ],
   "source": [
    "# params = [148, 0.23621062223458383, 192, 2.8247736497887107e-05, 0.9739410842936009]\n",
    "# epochs, learning_rate, no_components, item_alpha, scale = params\n",
    "\n",
    "param = optimizer.max['params']\n",
    "\n",
    "epochs = 200\n",
    "#int(param['epochs'])\n",
    "learning_rate = param['learning_rate']\n",
    "no_components = 150\n",
    "#int(param['no_components'])\n",
    "item_alpha = param['item_alpha']\n",
    "scale = param['scale']\n",
    "\n",
    "adagrad_auc = []\n",
    "max_score = 0\n",
    "model = LightFM(no_components=no_components,\n",
    "                        loss='warp',\n",
    "                        learning_rate=learning_rate,\n",
    "                        user_alpha=item_alpha * scale,\n",
    "                        item_alpha=item_alpha\n",
    "                        )\n",
    "\n",
    "for epoch in tqdm(range(epochs)):\n",
    "    model.fit_partial(train_interactions, item_features=product_features,\n",
    "                        user_features=user_features, num_threads=8, epochs=1)\n",
    "    # score = auc_score( \n",
    "    #     adagrad_model, interactions, \n",
    "    #     item_features=product_features, \n",
    "    #     user_features=user_features, \n",
    "    #     num_threads=8).mean()\n",
    "    test_score = precision_at_k(model, test_interactions, item_features=product_features, user_features=user_features, train_interactions=train_interactions,\n",
    "                                num_threads=8, check_intersections=False, k=5).mean()\n",
    "    if test_score > max_score:\n",
    "        max_score = test_score\n",
    "        with open(file, 'wb') as fle:\n",
    "            pickle.dump(model, fle, protocol=pickle.HIGHEST_PROTOCOL)\n",
    "        print('test score :', test_score)\n",
    "        score = precision_at_k(model, train_interactions, item_features=product_features, user_features=user_features, k=5, \n",
    "                                    num_threads=8).mean()\n",
    "        print(epoch, score)\n",
    "        print(\"=====================================\")"
   ]
  },
  {
   "cell_type": "code",
   "execution_count": 109,
   "metadata": {},
   "outputs": [],
   "source": [
    "model.learning_rate = 0.05"
   ]
  },
  {
   "cell_type": "code",
   "execution_count": 111,
   "metadata": {},
   "outputs": [
    {
     "data": {
      "application/vnd.jupyter.widget-view+json": {
       "model_id": "bf9785a34a8649ab81c7a3806eb385a5",
       "version_major": 2,
       "version_minor": 0
      },
      "text/plain": [
       "  0%|          | 0/200 [00:00<?, ?it/s]"
      ]
     },
     "metadata": {},
     "output_type": "display_data"
    },
    {
     "name": "stdout",
     "output_type": "stream",
     "text": [
      "test score : 0.14256802\n",
      "1 0.23384075\n",
      "=====================================\n",
      "test score : 0.14280027\n",
      "9 0.2356193\n",
      "=====================================\n",
      "test score : 0.14333113\n",
      "10 0.23488225\n",
      "=====================================\n",
      "test score : 0.1452223\n",
      "39 0.23733379\n",
      "=====================================\n",
      "test score : 0.14545456\n",
      "95 0.24000964\n",
      "=====================================\n",
      "test score : 0.14575318\n",
      "120 0.24058644\n",
      "=====================================\n",
      "test score : 0.14611812\n",
      "135 0.24076271\n",
      "=====================================\n",
      "test score : 0.14621766\n",
      "156 0.24140364\n",
      "=====================================\n",
      "test score : 0.14658263\n",
      "165 0.24090691\n",
      "=====================================\n",
      "test score : 0.1470803\n",
      "179 0.24249321\n",
      "=====================================\n",
      "test score : 0.14761116\n",
      "195 0.24257334\n",
      "=====================================\n"
     ]
    }
   ],
   "source": [
    "for epoch in tqdm(range(200)):\n",
    "    model.fit_partial(train_interactions, item_features=product_features,\n",
    "                        user_features=user_features, num_threads=8, epochs=1)\n",
    "    # score = auc_score( \n",
    "    #     adagrad_model, interactions, \n",
    "    #     item_features=product_features, \n",
    "    #     user_features=user_features, \n",
    "    #     num_threads=8).mean()\n",
    "    test_score = precision_at_k(model, test_interactions, item_features=product_features, user_features=user_features, train_interactions=train_interactions,\n",
    "                                num_threads=8, check_intersections=False, k=5).mean()\n",
    "    if test_score > max_score:\n",
    "        max_score = test_score\n",
    "        with open(file, 'wb') as fle:\n",
    "            pickle.dump(model, fle, protocol=pickle.HIGHEST_PROTOCOL)\n",
    "        print('test score :', test_score)\n",
    "        score = precision_at_k(model, train_interactions, item_features=product_features, user_features=user_features, k=5, \n",
    "                                    num_threads=8).mean()\n",
    "        print(epoch, score)\n",
    "        print(\"=====================================\")"
   ]
  },
  {
   "cell_type": "code",
   "execution_count": 25,
   "metadata": {},
   "outputs": [
    {
     "name": "stdout",
     "output_type": "stream",
     "text": [
      "19 0.17044514\n"
     ]
    }
   ],
   "source": [
    "for n, i in enumerate(adagrad_auc):\n",
    "    if i == max(adagrad_auc):\n",
    "        print(n, i)"
   ]
  },
  {
   "cell_type": "code",
   "execution_count": 20,
   "metadata": {},
   "outputs": [],
   "source": [
    "import pickle\n",
    "import os\n",
    "file = 'weights/lightFM_model_tune_lr0.05.pickle'\n",
    "if not os.path.exists(file):\n",
    "    with open(file, 'wb') as fle:\n",
    "        pickle.dump(model, fle, protocol=pickle.HIGHEST_PROTOCOL)\n",
    "else:\n",
    "    print(f\"{file} exists.\")"
   ]
  },
  {
   "cell_type": "code",
   "execution_count": 31,
   "metadata": {},
   "outputs": [],
   "source": [
    "import pickle\n",
    "loaded_model = pickle.load(open('/home/music/Desktop/measure_model/weights/lightFM_model_tune.pickle', 'rb'))"
   ]
  },
  {
   "cell_type": "code",
   "execution_count": 32,
   "metadata": {},
   "outputs": [],
   "source": [
    "loaded_model.learning_rate = 0.01\n",
    "file = 'weights/lightFM_model_tune_lr0.05.pickle'"
   ]
  },
  {
   "cell_type": "code",
   "execution_count": 35,
   "metadata": {},
   "outputs": [
    {
     "data": {
      "application/vnd.jupyter.widget-view+json": {
       "model_id": "e8126a7b002e4a499b8244cf698b2f5b",
       "version_major": 2,
       "version_minor": 0
      },
      "text/plain": [
       "  0%|          | 0/100 [00:00<?, ?it/s]"
      ]
     },
     "metadata": {},
     "output_type": "display_data"
    },
    {
     "name": "stdout",
     "output_type": "stream",
     "text": [
      "test score : 0.19500165\n",
      "12 0.36601508\n",
      "=====================================\n"
     ]
    }
   ],
   "source": [
    "for epoch in tqdm(range(100)):\n",
    "    loaded_model.fit_partial(train_interactions, item_features=product_features,\n",
    "                        user_features=user_features, num_threads=8, epochs=1)\n",
    "    # score = auc_score( \n",
    "    #     adagrad_model, interactions, \n",
    "    #     item_features=product_features, \n",
    "    #     user_features=user_features, \n",
    "    #     num_threads=8).mean()\n",
    "    test_score = precision_at_k(loaded_model, test_interactions, item_features=product_features, user_features=user_features, train_interactions=train_interactions,\n",
    "                                num_threads=8, check_intersections=False, k=5).mean()\n",
    "    if test_score > max_score:\n",
    "        max_score = test_score\n",
    "        with open(file, 'wb') as fle:\n",
    "            pickle.dump(loaded_model, fle, protocol=pickle.HIGHEST_PROTOCOL)\n",
    "        print('test score :', test_score)\n",
    "        score = precision_at_k(loaded_model, train_interactions, item_features=product_features, user_features=user_features, k=5, \n",
    "                                    num_threads=8).mean()\n",
    "        print(epoch, score)\n",
    "        print(\"=====================================\")"
   ]
  },
  {
   "cell_type": "code",
   "execution_count": 76,
   "metadata": {},
   "outputs": [],
   "source": [
    "def calculate_auc_score(lightfm_model, interactions_matrix, \n",
    "                        product_features, User_features): \n",
    "    \"\"\"\n",
    "    Measure the ROC AUC metric for a model. \n",
    "    A perfect score is 1.0.\n",
    "\n",
    "    Parameters\n",
    "    ----------\n",
    "    lightfm_model: LightFM model \n",
    "        A fitted lightfm model \n",
    "    interactions_matrix : \n",
    "        A lightfm interactions matrix \n",
    "    product_features, User_features: \n",
    "        Lightfm features \n",
    "        \n",
    "    Returns\n",
    "    -------\n",
    "    String containing AUC score \n",
    "    \"\"\"\n",
    "    score = auc_score( \n",
    "        lightfm_model, interactions_matrix, \n",
    "        item_features=product_features, \n",
    "        user_features=User_features, \n",
    "        num_threads=8).mean()\n",
    "    return score"
   ]
  },
  {
   "cell_type": "code",
   "execution_count": 79,
   "metadata": {},
   "outputs": [
    {
     "data": {
      "text/plain": [
       "0.99271107"
      ]
     },
     "execution_count": 79,
     "metadata": {},
     "output_type": "execute_result"
    }
   ],
   "source": [
    "calculate_auc_score(model, interactions, product_features, user_features)"
   ]
  },
  {
   "cell_type": "code",
   "execution_count": 83,
   "metadata": {},
   "outputs": [
    {
     "data": {
      "text/plain": [
       "0.29803705"
      ]
     },
     "execution_count": 83,
     "metadata": {},
     "output_type": "execute_result"
    }
   ],
   "source": [
    "precision_at_k(model, interactions, item_features=product_features, user_features=user_features, k=1, \n",
    "                                   num_threads=8, check_intersections=False).mean()"
   ]
  },
  {
   "cell_type": "code",
   "execution_count": 84,
   "metadata": {},
   "outputs": [],
   "source": [
    "from IPython.display import display_html\n",
    "def display_side_by_side(*args):\n",
    "    html_str=''\n",
    "    for df in args:\n",
    "        html_str+=df.to_html()\n",
    "    display_html(html_str.replace('table','table style=\"display:inline\"'),raw=True)\n",
    "\n",
    "def previous_product(user, n_previous=3, show=True):\n",
    "    # print their previous answered product title\n",
    "    previous_product_id_num = df_merge.loc[df_merge['user_id_num'] == user][:n_previous]['product_id_num']\n",
    "    df_previous_product = df_product.loc[df_product['product_id_num'].isin(previous_product_id_num)]\n",
    "    if show:\n",
    "        print('User Id (' + str(user) + \"): Previous review product\")\n",
    "        display_side_by_side(\n",
    "            df_previous_product[['EID', 'PRODUCT_NAME', 'product_features']],\n",
    "            df_user.loc[df_user.user_id_num == user][['UID', 'user_id_num','user_tag']])\n",
    "    return df_previous_product\n",
    "\n",
    "def recommend_product(model, user, n_previous=3, top_n=10, show=True):\n",
    "    df_previous_product = previous_product(user, n_previous, show=show)\n",
    "    \n",
    "    # predict\n",
    "    discard_product_id = df_previous_product['product_id_num'].values.tolist()\n",
    "    df_use_for_prediction = df_product.loc[~df_product['product_id_num'].isin(discard_product_id)]\n",
    "    product_id_for_predict = df_use_for_prediction['product_id_num'].values.tolist()\n",
    "    \n",
    "    scores = model.predict(\n",
    "        user,\n",
    "        product_id_for_predict,\n",
    "        item_features=product_features,\n",
    "        user_features=user_features)\n",
    "    \n",
    "    df_use_for_prediction = df_use_for_prediction.assign(scores=scores)\n",
    "    df_use_for_prediction = df_use_for_prediction.sort_values(by='scores', ascending=False)[:top_n]\n",
    "    if show:\n",
    "        print('User Id (' + str(user) + \"): Recommended product: \")\n",
    "        display(df_use_for_prediction[['EID', 'PRODUCT_NAME', 'product_features']])\n",
    "    return df_use_for_prediction\n",
    "\n",
    "def recommends_product(model, user_ids, n_previous=3, top_n=10):\n",
    "    for user in user_ids:\n",
    "        recommend_product(model, user, n_previous, top_n)\n",
    "        print(\"=========================================================================================================\")"
   ]
  },
  {
   "cell_type": "code",
   "execution_count": 85,
   "metadata": {},
   "outputs": [],
   "source": [
    "from tqdm.notebook import tqdm"
   ]
  },
  {
   "cell_type": "code",
   "execution_count": 92,
   "metadata": {},
   "outputs": [
    {
     "data": {
      "application/vnd.jupyter.widget-view+json": {
       "model_id": "9683bf684d3042709faa51b0d96c25a1",
       "version_major": 2,
       "version_minor": 0
      },
      "text/plain": [
       "  0%|          | 0/14467 [00:00<?, ?it/s]"
      ]
     },
     "metadata": {},
     "output_type": "display_data"
    },
    {
     "name": "stdout",
     "output_type": "stream",
     "text": [
      "1869\n",
      "12.91905716458146\n"
     ]
    }
   ],
   "source": [
    "n_previous=5\n",
    "count = 0\n",
    "# num_users = 1000\n",
    "num_users = df_merge['user_id_num'].max()\n",
    "\n",
    "for i in tqdm(range(num_users)):\n",
    "    previous = previous_product(i, None, show=False)\n",
    "    recommend = recommend_product(model, i, n_previous=n_previous, top_n=10, show=False)\n",
    "    result = recommend[recommend['EID'].isin(previous['EID'])]\n",
    "    \n",
    "    if len(result) > 0:\n",
    "        count += 1\n",
    "        # print('User Id (' + str(i) + \"): Previous review product\")\n",
    "        # display_side_by_side(\n",
    "        #     previous[['EID', 'PRODUCT_NAME']],\n",
    "        #     previous_product(i, 5, show=False)[['EID', 'PRODUCT_NAME']],\n",
    "        #     recommend[['EID', 'PRODUCT_NAME']],\n",
    "        #     result[['EID', 'PRODUCT_NAME']])\n",
    "        # print(\"=========================================================================================================\")\n",
    "print(count)\n",
    "print(count/num_users*100)"
   ]
  },
  {
   "cell_type": "code",
   "execution_count": 31,
   "metadata": {},
   "outputs": [],
   "source": [
    "train_interactions, test_interactions = random_train_test_split(interactions, test_percentage=0.2)"
   ]
  },
  {
   "cell_type": "code",
   "execution_count": 33,
   "metadata": {},
   "outputs": [],
   "source": [
    "train_weights, test_weights = random_train_test_split(weights, test_percentage=0.2)\n"
   ]
  },
  {
   "cell_type": "code",
   "execution_count": 60,
   "metadata": {},
   "outputs": [
    {
     "name": "stderr",
     "output_type": "stream",
     "text": [
      "Epoch: 100%|██████████| 20/20 [05:20<00:00, 16.04s/it]\n"
     ]
    },
    {
     "data": {
      "text/plain": [
       "<lightfm.lightfm.LightFM at 0x7fbea86ff9d0>"
      ]
     },
     "execution_count": 60,
     "metadata": {},
     "output_type": "execute_result"
    }
   ],
   "source": [
    "model = LightFM(\n",
    "    no_components=250,\n",
    "    learning_rate=0.0005,\n",
    "    loss='warp',\n",
    "    random_state=2019)\n",
    "\n",
    "model.fit(\n",
    "    train_interactions,\n",
    "    item_features=product_features,\n",
    "    user_features=user_features,\n",
    "    epochs=20, num_threads=8, verbose=True)"
   ]
  },
  {
   "cell_type": "code",
   "execution_count": 61,
   "metadata": {},
   "outputs": [
    {
     "name": "stdout",
     "output_type": "stream",
     "text": [
      "Test precision_at_k score: 0.13128889\n"
     ]
    }
   ],
   "source": [
    "print(\"Test precision_at_k score:\", precision_at_k(loaded_model, interactions, item_features=product_features, user_features=user_features, train_interactions=train_interactions,\n",
    "                                   num_threads=8, check_intersections=False).mean())"
   ]
  },
  {
   "cell_type": "code",
   "execution_count": null,
   "metadata": {},
   "outputs": [],
   "source": [
    "0.13, 150\n"
   ]
  },
  {
   "cell_type": "code",
   "execution_count": 43,
   "metadata": {},
   "outputs": [
    {
     "name": "stdout",
     "output_type": "stream",
     "text": [
      "Test AUC score: 0.98318493\n"
     ]
    }
   ],
   "source": [
    "print(\"Test AUC score:\", auc_score(model, test_interactions, item_features=product_features, user_features=user_features, \n",
    "                                   num_threads=7).mean())"
   ]
  },
  {
   "cell_type": "code",
   "execution_count": 45,
   "metadata": {},
   "outputs": [
    {
     "name": "stdout",
     "output_type": "stream",
     "text": [
      "Collaborative filtering test AUC: 0.98344797\n"
     ]
    }
   ],
   "source": [
    "test_auc = auc_score(model, test_interactions, item_features=product_features, user_features=user_features,\n",
    "                     train_interactions=train_interactions, num_threads=7, check_intersections=False).mean()\n",
    "print('Collaborative filtering test AUC: %s' % test_auc)"
   ]
  },
  {
   "cell_type": "code",
   "execution_count": null,
   "metadata": {},
   "outputs": [],
   "source": []
  }
 ],
 "metadata": {
  "kernelspec": {
   "display_name": "Python 3 (ipykernel)",
   "language": "python",
   "name": "python3"
  },
  "language_info": {
   "codemirror_mode": {
    "name": "ipython",
    "version": 3
   },
   "file_extension": ".py",
   "mimetype": "text/x-python",
   "name": "python",
   "nbconvert_exporter": "python",
   "pygments_lexer": "ipython3",
   "version": "3.11.6"
  }
 },
 "nbformat": 4,
 "nbformat_minor": 4
}
