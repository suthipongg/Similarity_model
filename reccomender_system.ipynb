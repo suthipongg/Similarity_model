{
 "cells": [
  {
   "cell_type": "markdown",
   "metadata": {},
   "source": [
    "# Import library"
   ]
  },
  {
   "cell_type": "code",
   "execution_count": 1,
   "metadata": {},
   "outputs": [],
   "source": [
    "import pandas as pd\n",
    "import numpy as np"
   ]
  },
  {
   "cell_type": "markdown",
   "metadata": {},
   "source": [
    "# Clean dataset"
   ]
  },
  {
   "cell_type": "markdown",
   "metadata": {},
   "source": [
    "## Load data"
   ]
  },
  {
   "cell_type": "code",
   "execution_count": 15,
   "metadata": {},
   "outputs": [],
   "source": [
    "def add_ext_to_str(df, col):\n",
    "    if type(col) == str:\n",
    "        col = [col]\n",
    "    for col in col:\n",
    "        df[col] = df[col].astype(str) + '_' + col\n",
    "    return df\n",
    "\n",
    "def fill_na_with_text(df, col, add_ext=False):\n",
    "    if type(col) == str:\n",
    "        col = [col]\n",
    "    for col in col:\n",
    "        if add_ext:\n",
    "            df[col] = df[col].fillna('NO_'+col)\n",
    "        else:\n",
    "            df[col] = df[col].fillna('NO_INFO')\n",
    "    return df\n",
    "\n",
    "def merge_col(df, col, sep=','):\n",
    "    return df[col].apply(lambda x: sep.join(x), axis=1)\n",
    "\n",
    "def generate_int_id(dataframe, id_col_name):\n",
    "    \"\"\"\n",
    "    Generate unique integer id for users, product and answers\n",
    "\n",
    "    Parameters\n",
    "    ----------\n",
    "    dataframe: Dataframe\n",
    "        Pandas Dataframe for Users or Q&A. \n",
    "    id_col_name : String \n",
    "        New integer id's column name.\n",
    "        \n",
    "    Returns\n",
    "    -------\n",
    "    Dataframe\n",
    "        Updated dataframe containing new id column \n",
    "    \"\"\"\n",
    "    new_dataframe=dataframe.assign(\n",
    "        int_id_col_name=np.arange(len(dataframe))\n",
    "        ).reset_index(drop=True)\n",
    "    return new_dataframe.rename(columns={'int_id_col_name': id_col_name})\n",
    "\n",
    "def generate_feature_list(dataframe, features_name):\n",
    "    \"\"\"\n",
    "    Generate features list for mapping \n",
    "\n",
    "    Parameters\n",
    "    ----------\n",
    "    dataframe: Dataframe\n",
    "        Pandas Dataframe for Users or Q&A. \n",
    "    features_name : List\n",
    "        List of feature columns name avaiable in dataframe. \n",
    "        \n",
    "    Returns\n",
    "    -------\n",
    "    List of all features for mapping \n",
    "    \"\"\"\n",
    "    features = dataframe[features_name].apply(\n",
    "        lambda x: ','.join(x.map(str)), axis=1)\n",
    "    features = features.str.split(',')\n",
    "    features = features.apply(pd.Series).stack().reset_index(drop=True)\n",
    "    return features\n",
    "\n",
    "def create_features(dataframe, features_name, id_col_name):\n",
    "    \"\"\"\n",
    "    Generate features that will be ready for feeding into lightfm\n",
    "\n",
    "    Parameters\n",
    "    ----------\n",
    "    dataframe: Dataframe\n",
    "        Pandas Dataframe which contains features\n",
    "    features_name : List\n",
    "        List of feature columns name avaiable in dataframe\n",
    "    id_col_name: String\n",
    "        Column name which contains id of the product or\n",
    "        answer that the features will map to.\n",
    "        There are two possible values for this variable.\n",
    "        1. product_id_num\n",
    "        2. user_id_num\n",
    "\n",
    "    Returns\n",
    "    -------\n",
    "    Pandas Series\n",
    "        A pandas series containing process features\n",
    "        that are ready for feed into lightfm.\n",
    "        The format of each value\n",
    "        will be (user_id, ['feature_1', 'feature_2', 'feature_3'])\n",
    "        Ex. -> (1, ['military', 'army', '5'])\n",
    "    \"\"\"\n",
    "\n",
    "    features = dataframe[features_name].apply(\n",
    "        lambda x: ','.join(x.map(str)), axis=1)\n",
    "    features = features.str.split(',')\n",
    "    features = list(zip(dataframe[id_col_name], features))\n",
    "    return features"
   ]
  },
  {
   "cell_type": "code",
   "execution_count": 17,
   "metadata": {},
   "outputs": [],
   "source": [
    "df_product = pd.read_csv(\"/home/music/Desktop/measure_model/db_cosmenet/product_raw.csv\")\n",
    "df_product = df_product[df_product['ACTIVE'] == 'Y']\n",
    "df_product.drop(index = df_product[df_product['REVIEW_NO'] <= 5].index, inplace=True)\n",
    "df_product.rename(columns={'SECTION_L1': 'CID', 'TYPE_ID': 'SCID'}, inplace=True)\n",
    "\n",
    "df_cat = pd.read_csv(\"/home/music/Desktop/measure_model/db_cosmenet/category.csv\")\n",
    "df_brand = pd.read_csv(\"/home/music/Desktop/measure_model/db_cosmenet/brand_name.csv\")\n",
    "\n",
    "df_user = pd.read_csv(\"/home/music/Desktop/measure_model/db_cosmenet/user.csv\")\n",
    "df_user.rename(columns={'ID': 'UID'}, inplace=True)\n",
    "\n",
    "df_review = pd.read_csv(\"/home/music/Desktop/measure_model/db_cosmenet/review.csv\", low_memory=False)\n",
    "df_review = df_review[df_review['ACTION'] == 1]"
   ]
  },
  {
   "cell_type": "code",
   "execution_count": 18,
   "metadata": {},
   "outputs": [],
   "source": [
    "df_review = df_review[df_review['EID'].isin(df_product['EID']) & df_review['UID'].isin(df_user['UID'])].reset_index(drop=True)\n",
    "df_product = df_product[df_product['EID'].isin(df_review['EID'])].reset_index(drop=True)\n",
    "df_user = df_user[df_user['UID'].isin(df_review['UID'])].reset_index(drop=True)"
   ]
  },
  {
   "cell_type": "markdown",
   "metadata": {},
   "source": [
    "## Product"
   ]
  },
  {
   "cell_type": "code",
   "execution_count": 19,
   "metadata": {},
   "outputs": [],
   "source": [
    "# clean category field\n",
    "row_scid_is_cid = df_product['SCID'].isin(df_cat[df_cat['DEPTH_LEVEL'] == 1]['ID'].values)\n",
    "df_product.loc[row_scid_is_cid, 'CID'] = df_product.loc[row_scid_is_cid, 'SCID']\n",
    "\n",
    "row_scid_is_mid = df_product['SCID'].isin(df_cat[df_cat['DEPTH_LEVEL'] == 2]['ID'].values)\n",
    "df_product.loc[row_scid_is_mid, 'CID'] = df_product.loc[row_scid_is_mid, 'SECTION_L2']\n",
    "\n",
    "row_scid_notin_scid = ~(df_product['SCID'].isin(df_cat[df_cat['DEPTH_LEVEL'] == 3]['ID'].values))\n",
    "df_product.loc[row_scid_notin_scid, 'SCID'] = -1\n",
    "df_product.loc[df_product['CID'].isnull(), 'CID'] = -1\n",
    "df_product['BID'].fillna(-1, inplace=True)\n",
    "df_product['TAGS'].fillna('NO_TAGS', inplace=True)\n",
    "df_product['TAGS_NAME'].fillna('NO_TAGS_NAME', inplace=True)\n",
    "\n",
    "df_product['SCID'] = df_product['SCID'].astype(int)\n",
    "df_product['CID'] = df_product['CID'].astype(int)\n",
    "df_product['BID'] = df_product['BID'].astype(int)\n",
    "df_product['TAGS'] = df_product['TAGS'].astype(str)\n",
    "df_product['TAGS_NAME'] = df_product['TAGS_NAME'].astype(str)"
   ]
  },
  {
   "cell_type": "code",
   "execution_count": 20,
   "metadata": {},
   "outputs": [
    {
     "data": {
      "text/html": [
       "<div>\n",
       "<style scoped>\n",
       "    .dataframe tbody tr th:only-of-type {\n",
       "        vertical-align: middle;\n",
       "    }\n",
       "\n",
       "    .dataframe tbody tr th {\n",
       "        vertical-align: top;\n",
       "    }\n",
       "\n",
       "    .dataframe thead th {\n",
       "        text-align: right;\n",
       "    }\n",
       "</style>\n",
       "<table border=\"1\" class=\"dataframe\">\n",
       "  <thead>\n",
       "    <tr style=\"text-align: right;\">\n",
       "      <th></th>\n",
       "      <th>EID</th>\n",
       "      <th>PRODUCT_NAME</th>\n",
       "      <th>product_tag</th>\n",
       "      <th>product_id_num</th>\n",
       "    </tr>\n",
       "  </thead>\n",
       "  <tbody>\n",
       "    <tr>\n",
       "      <th>0</th>\n",
       "      <td>13001</td>\n",
       "      <td>UV Aqua Rich Watery Essence SPF50+ PA++++</td>\n",
       "      <td>ครีมกันแดด,กันแดด,Facial Sunscreen,sun care,BI...</td>\n",
       "      <td>0</td>\n",
       "    </tr>\n",
       "  </tbody>\n",
       "</table>\n",
       "</div>"
      ],
      "text/plain": [
       "     EID                               PRODUCT_NAME  \\\n",
       "0  13001  UV Aqua Rich Watery Essence SPF50+ PA++++   \n",
       "\n",
       "                                         product_tag  product_id_num  \n",
       "0  ครีมกันแดด,กันแดด,Facial Sunscreen,sun care,BI...               0  "
      ]
     },
     "execution_count": 20,
     "metadata": {},
     "output_type": "execute_result"
    }
   ],
   "source": [
    "# fillna\n",
    "df_product.loc[df_product['SCID'] == -1, 'SCID'] = 'NO_SUBCATEGORY'\n",
    "df_product.loc[df_product['SCID'] == -1, 'CID'] = 'NO_CATEGORY'\n",
    "df_product.loc[df_product['BID'] == -1, 'BID'] = 'NO_INFO'\n",
    "\n",
    "# add extension to NaN value\n",
    "df_product['BID'] = 'BID_' + df_product['BID'].astype(str)\n",
    "df_product['SCID'] = 'SCID_' + df_product['SCID'].astype(str)\n",
    "df_product['CID'] = 'CID_' + df_product['CID'].astype(str)\n",
    "\n",
    "# create RATE_TEXT\n",
    "for lw_bound in np.arange(0, 5, 0.5):\n",
    "    up_bound = lw_bound + 0.5\n",
    "    df_product.loc[(df_product['RATE'] >= lw_bound) & (df_product['RATE'] < up_bound), 'RATE_TEXT'] = str(lw_bound) + ' - ' + str(up_bound)\n",
    "df_product['RATE_TEXT'].fillna('NO_RATE', inplace=True)\n",
    "\n",
    "# join tags\n",
    "df_product['TAGS'] = df_product['TAGS'].apply(lambda tags: ','.join(tag.strip() for tag in tags.split(',')))\n",
    "df_product['TAGS_NAME'] = df_product['TAGS_NAME'].apply(lambda tags: ','.join(tag.strip() for tag in tags.split(',')))\n",
    "df_product['product_tag'] = merge_col(df_product, ['BID', 'SCID', 'CID', 'TAGS', 'TAGS_NAME', 'RATE_TEXT'])\n",
    "df_product = generate_int_id(df_product, 'product_id_num')\n",
    "df_product['product_tag'] = (\n",
    "    df_product['product_tag'].str.split(',').apply(set).str.join(','))\n",
    "\n",
    "df_product = df_product[['EID', 'PRODUCT_NAME', 'product_tag', 'product_id_num']]\n",
    "df_product.reset_index(drop=True, inplace=True)\n",
    "df_product.head(1)"
   ]
  },
  {
   "cell_type": "markdown",
   "metadata": {},
   "source": [
    "## User"
   ]
  },
  {
   "cell_type": "code",
   "execution_count": 21,
   "metadata": {},
   "outputs": [
    {
     "data": {
      "text/html": [
       "<div>\n",
       "<style scoped>\n",
       "    .dataframe tbody tr th:only-of-type {\n",
       "        vertical-align: middle;\n",
       "    }\n",
       "\n",
       "    .dataframe tbody tr th {\n",
       "        vertical-align: top;\n",
       "    }\n",
       "\n",
       "    .dataframe thead th {\n",
       "        text-align: right;\n",
       "    }\n",
       "</style>\n",
       "<table border=\"1\" class=\"dataframe\">\n",
       "  <thead>\n",
       "    <tr style=\"text-align: right;\">\n",
       "      <th></th>\n",
       "      <th>UID</th>\n",
       "      <th>user_tag</th>\n",
       "      <th>user_id_num</th>\n",
       "    </tr>\n",
       "  </thead>\n",
       "  <tbody>\n",
       "    <tr>\n",
       "      <th>0</th>\n",
       "      <td>4</td>\n",
       "      <td>40 ขึ้นไป,Male,ผิวมัน_UF_SKINFACE,NO_INFO_UF_B...</td>\n",
       "      <td>0</td>\n",
       "    </tr>\n",
       "  </tbody>\n",
       "</table>\n",
       "</div>"
      ],
      "text/plain": [
       "   UID                                           user_tag  user_id_num\n",
       "0    4  40 ขึ้นไป,Male,ผิวมัน_UF_SKINFACE,NO_INFO_UF_B...            0"
      ]
     },
     "execution_count": 21,
     "metadata": {},
     "output_type": "execute_result"
    }
   ],
   "source": [
    "# clean 'AGE_TEXT'\n",
    "df_user.loc[df_user['AGE'] <= 11, 'AGE_TEXT'] = np.nan\n",
    "df_user.loc[df_user['BIRTHDAY'] <= 11, 'AGE_TEXT'] = np.nan\n",
    "df_user.loc[(df_user['AGE'] < 1900) & (df_user['AGE'] > 100), 'AGE_TEXT'] = np.nan\n",
    "df_user.loc[(df_user['BIRTHDAY'] > 50) & (df_user['BIRTHDAY'] < 100), 'AGE_TEXT'] = np.nan\n",
    "\n",
    "df_user.loc[(df_user['BIRTHDAY'] > 11) & (df_user['BIRTHDAY'] < 18), 'AGE_TEXT'] = 'ตำกว่า 18'\n",
    "df_user.loc[(df_user['BIRTHDAY'] >= 18) & (df_user['BIRTHDAY'] < 25), 'AGE_TEXT'] = '18 - 24'\n",
    "df_user.loc[(df_user['BIRTHDAY'] >= 25) & (df_user['BIRTHDAY'] < 31), 'AGE_TEXT'] = '25 - 30'\n",
    "df_user.loc[(df_user['BIRTHDAY'] >= 31) & (df_user['BIRTHDAY'] < 36), 'AGE_TEXT'] = '31 - 35'\n",
    "df_user.loc[(df_user['BIRTHDAY'] >= 36) & (df_user['BIRTHDAY'] < 41), 'AGE_TEXT'] = '36 - 40'\n",
    "df_user.loc[(df_user['BIRTHDAY'] >= 41) & (df_user['BIRTHDAY'] < 50), 'AGE_TEXT'] = '40 ขึ้นไป'\n",
    "\n",
    "# fill na with text\n",
    "df_user = fill_na_with_text(df_user, ['UF_SKINFACE', 'UF_BODYTYPE'])\n",
    "df_user = add_ext_to_str(df_user, ['UF_SKINFACE', 'UF_BODYTYPE'])\n",
    "df_user = fill_na_with_text(df_user, ['AGE_TEXT', 'PERSONAL_GENDER', 'UF_HAIRTYPE'], add_ext=True)\n",
    "\n",
    "# clean 'PERSONAL_GENDER'\n",
    "is_female = np.isin(df_user['PERSONAL_GENDER'], 'Female')\n",
    "is_male = np.isin(df_user['PERSONAL_GENDER'], 'Male')\n",
    "is_nan = np.isin(df_user['PERSONAL_GENDER'], 'NO_PERSONAL_GENDER')\n",
    "df_user.loc[~is_female & ~is_male & ~is_nan, 'PERSONAL_GENDER'] = 'LGBTQ+'\n",
    "\n",
    "# create 'user_tag' to merge all tags\n",
    "df_user['user_tag'] = merge_col(df_user, ['AGE_TEXT', 'PERSONAL_GENDER', 'UF_SKINFACE', 'UF_BODYTYPE', 'UF_HAIRTYPE'])\n",
    "df_user = generate_int_id(df_user, 'user_id_num')\n",
    "\n",
    "df_user = df_user[['UID', 'user_tag', 'user_id_num']].reset_index(drop=True)\n",
    "df_user.head(1)"
   ]
  },
  {
   "cell_type": "markdown",
   "metadata": {},
   "source": [
    "## Merge"
   ]
  },
  {
   "cell_type": "code",
   "execution_count": 22,
   "metadata": {},
   "outputs": [
    {
     "data": {
      "text/html": [
       "<div>\n",
       "<style scoped>\n",
       "    .dataframe tbody tr th:only-of-type {\n",
       "        vertical-align: middle;\n",
       "    }\n",
       "\n",
       "    .dataframe tbody tr th {\n",
       "        vertical-align: top;\n",
       "    }\n",
       "\n",
       "    .dataframe thead th {\n",
       "        text-align: right;\n",
       "    }\n",
       "</style>\n",
       "<table border=\"1\" class=\"dataframe\">\n",
       "  <thead>\n",
       "    <tr style=\"text-align: right;\">\n",
       "      <th></th>\n",
       "      <th>ID</th>\n",
       "      <th>EID</th>\n",
       "      <th>BID</th>\n",
       "      <th>ACTION</th>\n",
       "      <th>COMMENT</th>\n",
       "      <th>REGULAR</th>\n",
       "      <th>ACTUAL</th>\n",
       "      <th>DATE_CREATE</th>\n",
       "      <th>modify_date</th>\n",
       "      <th>TIMESTAMP_TOP</th>\n",
       "      <th>...</th>\n",
       "      <th>LOCATION</th>\n",
       "      <th>EFFECT</th>\n",
       "      <th>D_USER</th>\n",
       "      <th>FID</th>\n",
       "      <th>campaing_name</th>\n",
       "      <th>SEARCH_TXT</th>\n",
       "      <th>product_tag</th>\n",
       "      <th>product_id_num</th>\n",
       "      <th>user_tag</th>\n",
       "      <th>user_id_num</th>\n",
       "    </tr>\n",
       "  </thead>\n",
       "  <tbody>\n",
       "    <tr>\n",
       "      <th>0</th>\n",
       "      <td>161561</td>\n",
       "      <td>40039</td>\n",
       "      <td>3081</td>\n",
       "      <td>1</td>\n",
       "      <td>ได้รับสี 09 Honey Brown สีน้ำตาลทอง ขนาดกำลังด...</td>\n",
       "      <td>NO</td>\n",
       "      <td>0.0</td>\n",
       "      <td>2023-08-23 15:10:32.000</td>\n",
       "      <td>2023-08-23 15:10:32.000</td>\n",
       "      <td>2023-08-23 15:08:57.000</td>\n",
       "      <td>...</td>\n",
       "      <td>กิจกรรม cosmenet.in.th</td>\n",
       "      <td>NaN</td>\n",
       "      <td>NaN</td>\n",
       "      <td>NaN</td>\n",
       "      <td>product_meilinda_40039</td>\n",
       "      <td>ได้รับสี 09 Honey Brown สีน้ำตาลทอง ขนาดกำลังด...</td>\n",
       "      <td>ดินสอเขียนคิ้วเนื้อเนียน,ดินสอเขียนคิ้ว,เขียนค...</td>\n",
       "      <td>1243</td>\n",
       "      <td>25 - 30,Female,ผิวผสม_UF_SKINFACE,ผิวธรรมดา_UF...</td>\n",
       "      <td>13946</td>\n",
       "    </tr>\n",
       "  </tbody>\n",
       "</table>\n",
       "<p>1 rows × 38 columns</p>\n",
       "</div>"
      ],
      "text/plain": [
       "       ID    EID   BID  ACTION  \\\n",
       "0  161561  40039  3081       1   \n",
       "\n",
       "                                             COMMENT REGULAR  ACTUAL  \\\n",
       "0  ได้รับสี 09 Honey Brown สีน้ำตาลทอง ขนาดกำลังด...      NO     0.0   \n",
       "\n",
       "               DATE_CREATE              modify_date            TIMESTAMP_TOP  \\\n",
       "0  2023-08-23 15:10:32.000  2023-08-23 15:10:32.000  2023-08-23 15:08:57.000   \n",
       "\n",
       "   ...                LOCATION EFFECT D_USER FID           campaing_name  \\\n",
       "0  ...  กิจกรรม cosmenet.in.th    NaN    NaN NaN  product_meilinda_40039   \n",
       "\n",
       "                                          SEARCH_TXT  \\\n",
       "0  ได้รับสี 09 Honey Brown สีน้ำตาลทอง ขนาดกำลังด...   \n",
       "\n",
       "                                         product_tag product_id_num  \\\n",
       "0  ดินสอเขียนคิ้วเนื้อเนียน,ดินสอเขียนคิ้ว,เขียนค...           1243   \n",
       "\n",
       "                                            user_tag  user_id_num  \n",
       "0  25 - 30,Female,ผิวผสม_UF_SKINFACE,ผิวธรรมดา_UF...        13946  \n",
       "\n",
       "[1 rows x 38 columns]"
      ]
     },
     "execution_count": 22,
     "metadata": {},
     "output_type": "execute_result"
    }
   ],
   "source": [
    "df_merge = df_review.merge(df_product[['EID', 'product_tag', 'product_id_num']], how='inner',\n",
    "    left_on='EID', right_on='EID')\n",
    "df_merge = df_merge.merge(df_user[['UID', 'user_tag', 'user_id_num']], how='inner',\n",
    "    left_on='UID', right_on='UID')\n",
    "df_merge.head(1)"
   ]
  },
  {
   "cell_type": "code",
   "execution_count": 23,
   "metadata": {},
   "outputs": [
    {
     "data": {
      "text/html": [
       "<div>\n",
       "<style scoped>\n",
       "    .dataframe tbody tr th:only-of-type {\n",
       "        vertical-align: middle;\n",
       "    }\n",
       "\n",
       "    .dataframe tbody tr th {\n",
       "        vertical-align: top;\n",
       "    }\n",
       "\n",
       "    .dataframe thead th {\n",
       "        text-align: right;\n",
       "    }\n",
       "</style>\n",
       "<table border=\"1\" class=\"dataframe\">\n",
       "  <thead>\n",
       "    <tr style=\"text-align: right;\">\n",
       "      <th></th>\n",
       "      <th>UID</th>\n",
       "      <th>user_tag</th>\n",
       "      <th>user_id_num</th>\n",
       "      <th>product_tag</th>\n",
       "      <th>UID_all_tags</th>\n",
       "    </tr>\n",
       "  </thead>\n",
       "  <tbody>\n",
       "    <tr>\n",
       "      <th>0</th>\n",
       "      <td>4</td>\n",
       "      <td>40 ขึ้นไป,Male,ผิวมัน_UF_SKINFACE,NO_INFO_UF_B...</td>\n",
       "      <td>0</td>\n",
       "      <td>เขียนขอบปาก,เอสเซ้นส์ทาหน้า,Essence,dove inten...</td>\n",
       "      <td>40 ขึ้นไป,Male,ผิวมัน_UF_SKINFACE,NO_INFO_UF_B...</td>\n",
       "    </tr>\n",
       "  </tbody>\n",
       "</table>\n",
       "</div>"
      ],
      "text/plain": [
       "   UID                                           user_tag  user_id_num  \\\n",
       "0    4  40 ขึ้นไป,Male,ผิวมัน_UF_SKINFACE,NO_INFO_UF_B...            0   \n",
       "\n",
       "                                         product_tag  \\\n",
       "0  เขียนขอบปาก,เอสเซ้นส์ทาหน้า,Essence,dove inten...   \n",
       "\n",
       "                                        UID_all_tags  \n",
       "0  40 ขึ้นไป,Male,ผิวมัน_UF_SKINFACE,NO_INFO_UF_B...  "
      ]
     },
     "execution_count": 23,
     "metadata": {},
     "output_type": "execute_result"
    }
   ],
   "source": [
    "user_prev_product_tags = df_merge[['UID', 'product_tag']]\n",
    "user_prev_product_tags = user_prev_product_tags.dropna()\n",
    "user_prev_product_tags = user_prev_product_tags.groupby(\n",
    "    ['UID'])['product_tag'].apply(\n",
    "        ','.join).reset_index()\n",
    "\n",
    "# drop duplicates tags from each user rows\n",
    "user_prev_product_tags['product_tag'] = (\n",
    "    user_prev_product_tags['product_tag'].str.split(',').apply(set).str.join(','))\n",
    "\n",
    "# finally merge the dataframe with user dataframe \n",
    "df_user = df_user.merge(user_prev_product_tags, how='left', on='UID')\n",
    "\n",
    "# join user tags and their answered tags \n",
    "# we replace nan values with \"\"\n",
    "df_user['UID_all_tags'] = (\n",
    "    df_user[['user_tag', 'product_tag']].apply(\n",
    "        lambda x: ','.join(x.dropna()),\n",
    "        axis=1))\n",
    "\n",
    "df_user.head(1)"
   ]
  },
  {
   "cell_type": "code",
   "execution_count": 24,
   "metadata": {},
   "outputs": [],
   "source": [
    "df_product['product_tag'] = df_product['product_tag'].str.split(',').apply(set).str.join(',')\n",
    "df_user['UID_all_tags'] = df_user['UID_all_tags'].str.split(',').apply(set).str.join(',')"
   ]
  },
  {
   "cell_type": "code",
   "execution_count": 25,
   "metadata": {},
   "outputs": [],
   "source": [
    "product_feature_list = generate_feature_list(\n",
    "    df_product,\n",
    "    ['product_tag'])\n",
    "\n",
    "user_feature_list = generate_feature_list(\n",
    "    df_user,\n",
    "    ['UID_all_tags'])"
   ]
  },
  {
   "cell_type": "code",
   "execution_count": 26,
   "metadata": {},
   "outputs": [],
   "source": [
    "df_product['product_features'] = create_features(\n",
    "    df_product, ['product_tag'], \n",
    "    'product_id_num')\n",
    "\n",
    "df_user['user_features'] = create_features(\n",
    "    df_user,\n",
    "    ['UID_all_tags'],\n",
    "    'user_id_num')"
   ]
  },
  {
   "cell_type": "markdown",
   "metadata": {},
   "source": [
    "# LightFM"
   ]
  },
  {
   "cell_type": "markdown",
   "metadata": {},
   "source": [
    "## Import"
   ]
  },
  {
   "cell_type": "code",
   "execution_count": 28,
   "metadata": {},
   "outputs": [],
   "source": [
    "from lightfm.data import Dataset\n",
    "from lightfm import LightFM\n",
    "\n",
    "from lightfm.evaluation import auc_score\n",
    "from lightfm.evaluation import precision_at_k\n",
    "from lightfm.cross_validation import random_train_test_split"
   ]
  },
  {
   "cell_type": "markdown",
   "metadata": {},
   "source": [
    "## Build Dataset"
   ]
  },
  {
   "cell_type": "code",
   "execution_count": 29,
   "metadata": {},
   "outputs": [],
   "source": [
    "dataset = Dataset()\n",
    "dataset.fit(\n",
    "    set(df_user['user_id_num']), \n",
    "    set(df_product['product_id_num']),\n",
    "    item_features=product_feature_list, \n",
    "    user_features=user_feature_list)"
   ]
  },
  {
   "cell_type": "code",
   "execution_count": 30,
   "metadata": {},
   "outputs": [],
   "source": [
    "df_merge['point_tuple'] = list(zip(\n",
    "    df_merge.user_id_num, df_merge.product_id_num, df_merge.POINT))"
   ]
  },
  {
   "cell_type": "code",
   "execution_count": 31,
   "metadata": {},
   "outputs": [],
   "source": [
    "interactions, weights = dataset.build_interactions(\n",
    "    df_merge['point_tuple'])"
   ]
  },
  {
   "cell_type": "code",
   "execution_count": 32,
   "metadata": {},
   "outputs": [],
   "source": [
    "product_features = dataset.build_item_features(\n",
    "    df_product['product_features'])\n",
    "\n",
    "user_features = dataset.build_user_features(\n",
    "    df_user['user_features'])"
   ]
  },
  {
   "cell_type": "code",
   "execution_count": 33,
   "metadata": {},
   "outputs": [],
   "source": [
    "train_interactions, test_interactions = random_train_test_split(interactions, test_percentage=0.2)"
   ]
  },
  {
   "cell_type": "markdown",
   "metadata": {},
   "source": [
    "## Train"
   ]
  },
  {
   "cell_type": "code",
   "execution_count": 75,
   "metadata": {},
   "outputs": [
    {
     "name": "stderr",
     "output_type": "stream",
     "text": [
      "Epoch: 100%|██████████| 20/20 [04:19<00:00, 12.99s/it]\n"
     ]
    },
    {
     "data": {
      "text/plain": [
       "<lightfm.lightfm.LightFM at 0x7f3bcf9192b0>"
      ]
     },
     "execution_count": 75,
     "metadata": {},
     "output_type": "execute_result"
    }
   ],
   "source": [
    "model = LightFM(\n",
    "    no_components=150,\n",
    "    learning_rate=0.05,\n",
    "    loss='warp',\n",
    "    random_state=2019)\n",
    "\n",
    "model.fit(\n",
    "    interactions,\n",
    "    item_features=product_features,\n",
    "    user_features=user_features, sample_weight=weights,\n",
    "    epochs=20, num_threads=4, verbose=True)"
   ]
  },
  {
   "cell_type": "code",
   "execution_count": 34,
   "metadata": {},
   "outputs": [],
   "source": [
    "from skopt import forest_minimize"
   ]
  },
  {
   "cell_type": "code",
   "execution_count": 35,
   "metadata": {},
   "outputs": [],
   "source": [
    "def objective(params):\n",
    "    print('=====================================')\n",
    "    # unpack\n",
    "    epochs, learning_rate,\\\n",
    "    no_components, alpha = params\n",
    "    \n",
    "    user_alpha = alpha\n",
    "    item_alpha = alpha\n",
    "    print(params)\n",
    "    model = LightFM(loss='warp',\n",
    "                    random_state=2016,\n",
    "                    learning_rate=learning_rate,\n",
    "                    no_components=no_components,\n",
    "                    user_alpha=user_alpha,\n",
    "                    item_alpha=item_alpha)\n",
    "    model.fit(train_interactions, epochs=epochs,\n",
    "              num_threads=8, verbose=True)\n",
    "    \n",
    "    patks = precision_at_k(model, test_interactions, train_interactions=None,\n",
    "                           k=5, num_threads=8).mean()\n",
    "    # Make negative because we want to _minimize_ objective\n",
    "    out = -patks\n",
    "    # Handle some weird numerical shit going on\n",
    "    if np.abs(out + 1) < 0.01 or out < -1.0:\n",
    "        return 0.0\n",
    "    else:\n",
    "        return out"
   ]
  },
  {
   "cell_type": "code",
   "execution_count": 36,
   "metadata": {},
   "outputs": [
    {
     "name": "stdout",
     "output_type": "stream",
     "text": [
      "Iteration No: 1 started. Evaluating function at random point.\n",
      "[48, 0.07257005721594281, 87, 0.019486241836466404]\n"
     ]
    },
    {
     "name": "stderr",
     "output_type": "stream",
     "text": [
      "Epoch:   0%|          | 0/48 [00:00<?, ?it/s]"
     ]
    },
    {
     "name": "stderr",
     "output_type": "stream",
     "text": [
      "Epoch: 100%|██████████| 48/48 [00:07<00:00,  6.24it/s]\n"
     ]
    },
    {
     "name": "stdout",
     "output_type": "stream",
     "text": [
      "Iteration No: 1 ended. Evaluation done at random point.\n",
      "Time taken: 9.5057\n",
      "Function value obtained: -0.0030\n",
      "Current minimum: -0.0030\n",
      "Iteration No: 2 started. Evaluating function at random point.\n",
      "[10, 0.031207198770106446, 56, 3.073781785362612e-05]\n"
     ]
    },
    {
     "name": "stderr",
     "output_type": "stream",
     "text": [
      "Epoch: 100%|██████████| 10/10 [00:00<00:00, 11.50it/s]\n"
     ]
    },
    {
     "name": "stdout",
     "output_type": "stream",
     "text": [
      "Iteration No: 2 ended. Evaluation done at random point.\n",
      "Time taken: 2.0552\n",
      "Function value obtained: -0.0327\n",
      "Current minimum: -0.0327\n",
      "Iteration No: 3 started. Evaluating function at random point.\n",
      "[89, 0.001232041050356271, 59, 0.0004410365667970993]\n"
     ]
    },
    {
     "name": "stderr",
     "output_type": "stream",
     "text": [
      "Epoch: 100%|██████████| 89/89 [00:12<00:00,  7.13it/s]\n"
     ]
    },
    {
     "name": "stdout",
     "output_type": "stream",
     "text": [
      "Iteration No: 3 ended. Evaluation done at random point.\n",
      "Time taken: 13.6932\n",
      "Function value obtained: -0.0278\n",
      "Current minimum: -0.0327\n",
      "Iteration No: 4 started. Evaluating function at random point.\n",
      "[89, 0.003725110709391402, 45, 2.2655846366566675e-06]\n"
     ]
    },
    {
     "name": "stderr",
     "output_type": "stream",
     "text": [
      "Epoch: 100%|██████████| 89/89 [00:06<00:00, 12.86it/s]\n"
     ]
    },
    {
     "name": "stdout",
     "output_type": "stream",
     "text": [
      "Iteration No: 4 ended. Evaluation done at random point.\n",
      "Time taken: 8.0239\n",
      "Function value obtained: -0.0331\n",
      "Current minimum: -0.0331\n",
      "Iteration No: 5 started. Evaluating function at random point.\n",
      "[116, 0.0029714344857244977, 99, 0.022390342721683734]\n"
     ]
    },
    {
     "name": "stderr",
     "output_type": "stream",
     "text": [
      "Epoch: 100%|██████████| 116/116 [00:26<00:00,  4.45it/s]\n"
     ]
    },
    {
     "name": "stdout",
     "output_type": "stream",
     "text": [
      "Iteration No: 5 ended. Evaluation done at random point.\n",
      "Time taken: 58.7545\n",
      "Function value obtained: -0.0214\n",
      "Current minimum: -0.0331\n",
      "Iteration No: 6 started. Evaluating function at random point.\n",
      "[100, 0.15726578854179527, 49, 0.007991823454611512]\n"
     ]
    },
    {
     "name": "stderr",
     "output_type": "stream",
     "text": [
      "Epoch: 100%|██████████| 100/100 [00:09<00:00, 11.09it/s]\n"
     ]
    },
    {
     "name": "stdout",
     "output_type": "stream",
     "text": [
      "Iteration No: 6 ended. Evaluation done at random point.\n",
      "Time taken: 10.0592\n",
      "Function value obtained: -0.0006\n",
      "Current minimum: -0.0331\n",
      "Iteration No: 7 started. Evaluating function at random point.\n",
      "[186, 0.6007249475906207, 51, 3.3848391532325447e-06]\n"
     ]
    },
    {
     "name": "stderr",
     "output_type": "stream",
     "text": [
      "Epoch: 100%|██████████| 186/186 [00:18<00:00, 10.25it/s]\n"
     ]
    },
    {
     "name": "stdout",
     "output_type": "stream",
     "text": [
      "Iteration No: 7 ended. Evaluation done at random point.\n",
      "Time taken: 19.2236\n",
      "Function value obtained: -0.0003\n",
      "Current minimum: -0.0331\n",
      "Iteration No: 8 started. Evaluating function at random point.\n",
      "[152, 0.0011434638743472202, 134, 0.0001908761475614597]\n"
     ]
    },
    {
     "name": "stderr",
     "output_type": "stream",
     "text": [
      "Epoch: 100%|██████████| 152/152 [00:29<00:00,  5.09it/s]\n"
     ]
    },
    {
     "name": "stdout",
     "output_type": "stream",
     "text": [
      "Iteration No: 8 ended. Evaluation done at random point.\n",
      "Time taken: 32.4203\n",
      "Function value obtained: -0.0307\n",
      "Current minimum: -0.0331\n",
      "Iteration No: 9 started. Evaluating function at random point.\n",
      "[129, 0.00011889379831773007, 73, 5.602402871263744e-06]\n"
     ]
    },
    {
     "name": "stderr",
     "output_type": "stream",
     "text": [
      "Epoch: 100%|██████████| 129/129 [00:14<00:00,  8.77it/s]\n"
     ]
    },
    {
     "name": "stdout",
     "output_type": "stream",
     "text": [
      "Iteration No: 9 ended. Evaluation done at random point.\n",
      "Time taken: 16.1556\n",
      "Function value obtained: -0.0221\n",
      "Current minimum: -0.0331\n",
      "Iteration No: 10 started. Evaluating function at random point.\n",
      "[245, 0.0035152476331992625, 152, 0.002565083431770992]\n"
     ]
    },
    {
     "name": "stderr",
     "output_type": "stream",
     "text": [
      "Epoch: 100%|██████████| 245/245 [00:54<00:00,  4.46it/s]\n"
     ]
    },
    {
     "name": "stdout",
     "output_type": "stream",
     "text": [
      "Iteration No: 10 ended. Evaluation done at random point.\n",
      "Time taken: 58.2859\n",
      "Function value obtained: -0.0272\n",
      "Current minimum: -0.0331\n",
      "Iteration No: 11 started. Searching for the next optimal point.\n",
      "[23, 0.030578391814561182, 27, 3.601342161097718e-05]\n"
     ]
    },
    {
     "name": "stderr",
     "output_type": "stream",
     "text": [
      "Epoch: 100%|██████████| 23/23 [00:01<00:00, 15.57it/s]\n"
     ]
    },
    {
     "name": "stdout",
     "output_type": "stream",
     "text": [
      "Iteration No: 11 ended. Search finished for the next optimal point.\n",
      "Time taken: 2.2712\n",
      "Function value obtained: -0.0371\n",
      "Current minimum: -0.0371\n",
      "Iteration No: 12 started. Searching for the next optimal point.\n",
      "[38, 0.041718876255267455, 53, 3.190872241937754e-05]\n"
     ]
    },
    {
     "name": "stderr",
     "output_type": "stream",
     "text": [
      "Epoch: 100%|██████████| 38/38 [00:03<00:00, 10.89it/s]\n"
     ]
    },
    {
     "name": "stdout",
     "output_type": "stream",
     "text": [
      "Iteration No: 12 ended. Search finished for the next optimal point.\n",
      "Time taken: 5.0404\n",
      "Function value obtained: -0.0332\n",
      "Current minimum: -0.0371\n",
      "Iteration No: 13 started. Searching for the next optimal point.\n",
      "[24, 0.09921674578258577, 23, 2.9339512776145047e-05]\n"
     ]
    },
    {
     "name": "stderr",
     "output_type": "stream",
     "text": [
      "Epoch: 100%|██████████| 24/24 [00:01<00:00, 14.34it/s]\n"
     ]
    },
    {
     "name": "stdout",
     "output_type": "stream",
     "text": [
      "Iteration No: 13 ended. Search finished for the next optimal point.\n",
      "Time taken: 2.5099\n",
      "Function value obtained: -0.0255\n",
      "Current minimum: -0.0371\n",
      "Iteration No: 14 started. Searching for the next optimal point.\n",
      "[13, 0.05426465594045071, 39, 6.635505506125679e-06]\n"
     ]
    },
    {
     "name": "stderr",
     "output_type": "stream",
     "text": [
      "Epoch: 100%|██████████| 13/13 [00:01<00:00, 11.26it/s]\n"
     ]
    },
    {
     "name": "stdout",
     "output_type": "stream",
     "text": [
      "Iteration No: 14 ended. Search finished for the next optimal point.\n",
      "Time taken: 2.2295\n",
      "Function value obtained: -0.0358\n",
      "Current minimum: -0.0371\n",
      "Iteration No: 15 started. Searching for the next optimal point.\n",
      "[20, 0.22659617276319327, 21, 3.800028346285959e-06]\n"
     ]
    },
    {
     "name": "stderr",
     "output_type": "stream",
     "text": [
      "Epoch: 100%|██████████| 20/20 [00:01<00:00, 17.47it/s]\n"
     ]
    },
    {
     "name": "stdout",
     "output_type": "stream",
     "text": [
      "Iteration No: 15 ended. Search finished for the next optimal point.\n",
      "Time taken: 1.9631\n",
      "Function value obtained: -0.0049\n",
      "Current minimum: -0.0371\n",
      "Iteration No: 16 started. Searching for the next optimal point.\n",
      "[24, 0.039633821189504065, 43, 3.3370100240547657e-06]\n"
     ]
    },
    {
     "name": "stderr",
     "output_type": "stream",
     "text": [
      "Epoch: 100%|██████████| 24/24 [00:01<00:00, 13.36it/s]\n"
     ]
    },
    {
     "name": "stdout",
     "output_type": "stream",
     "text": [
      "Iteration No: 16 ended. Search finished for the next optimal point.\n",
      "Time taken: 2.9209\n",
      "Function value obtained: -0.0356\n",
      "Current minimum: -0.0371\n",
      "Iteration No: 17 started. Searching for the next optimal point.\n",
      "[7, 0.049787878489051855, 45, 3.701154215172669e-06]\n"
     ]
    },
    {
     "name": "stderr",
     "output_type": "stream",
     "text": [
      "Epoch: 100%|██████████| 7/7 [00:00<00:00, 13.29it/s]\n"
     ]
    },
    {
     "name": "stdout",
     "output_type": "stream",
     "text": [
      "Iteration No: 17 ended. Search finished for the next optimal point.\n",
      "Time taken: 1.6406\n",
      "Function value obtained: -0.0355\n",
      "Current minimum: -0.0371\n",
      "Iteration No: 18 started. Searching for the next optimal point.\n",
      "[4, 0.6946834012902504, 43, 4.308970543228893e-06]\n"
     ]
    },
    {
     "name": "stderr",
     "output_type": "stream",
     "text": [
      "Epoch: 100%|██████████| 4/4 [00:00<00:00, 11.35it/s]\n"
     ]
    },
    {
     "name": "stdout",
     "output_type": "stream",
     "text": [
      "Iteration No: 18 ended. Search finished for the next optimal point.\n",
      "Time taken: 1.4578\n",
      "Function value obtained: -0.0004\n",
      "Current minimum: -0.0371\n",
      "Iteration No: 19 started. Searching for the next optimal point.\n",
      "[7, 0.060326735599727115, 38, 2.9433924470071666e-06]\n"
     ]
    },
    {
     "name": "stderr",
     "output_type": "stream",
     "text": [
      "Epoch: 100%|██████████| 7/7 [00:00<00:00, 13.85it/s]\n"
     ]
    },
    {
     "name": "stdout",
     "output_type": "stream",
     "text": [
      "Iteration No: 19 ended. Search finished for the next optimal point.\n",
      "Time taken: 1.5041\n",
      "Function value obtained: -0.0336\n",
      "Current minimum: -0.0371\n",
      "Iteration No: 20 started. Searching for the next optimal point.\n",
      "[13, 0.07386839264723388, 40, 1.1750214458028807e-06]\n"
     ]
    },
    {
     "name": "stderr",
     "output_type": "stream",
     "text": [
      "Epoch: 100%|██████████| 13/13 [00:01<00:00, 11.92it/s]\n"
     ]
    },
    {
     "name": "stdout",
     "output_type": "stream",
     "text": [
      "Iteration No: 20 ended. Search finished for the next optimal point.\n",
      "Time taken: 2.1654\n",
      "Function value obtained: -0.0307\n",
      "Current minimum: -0.0371\n",
      "Iteration No: 21 started. Searching for the next optimal point.\n",
      "[7, 0.0671039855398507, 65, 4.055533577084708e-06]\n"
     ]
    },
    {
     "name": "stderr",
     "output_type": "stream",
     "text": [
      "Epoch: 100%|██████████| 7/7 [00:00<00:00,  9.72it/s]\n"
     ]
    },
    {
     "name": "stdout",
     "output_type": "stream",
     "text": [
      "Iteration No: 21 ended. Search finished for the next optimal point.\n",
      "Time taken: 2.2101\n",
      "Function value obtained: -0.0296\n",
      "Current minimum: -0.0371\n",
      "Iteration No: 22 started. Searching for the next optimal point.\n",
      "[22, 0.06896371683259199, 44, 5.631855922070321e-06]\n"
     ]
    },
    {
     "name": "stderr",
     "output_type": "stream",
     "text": [
      "Epoch: 100%|██████████| 22/22 [00:01<00:00, 13.42it/s]\n"
     ]
    },
    {
     "name": "stdout",
     "output_type": "stream",
     "text": [
      "Iteration No: 22 ended. Search finished for the next optimal point.\n",
      "Time taken: 2.7625\n",
      "Function value obtained: -0.0301\n",
      "Current minimum: -0.0371\n",
      "Iteration No: 23 started. Searching for the next optimal point.\n",
      "[65, 0.03729894967356599, 32, 4.383813274327835e-06]\n"
     ]
    },
    {
     "name": "stderr",
     "output_type": "stream",
     "text": [
      "Epoch: 100%|██████████| 65/65 [00:04<00:00, 14.88it/s]\n"
     ]
    },
    {
     "name": "stdout",
     "output_type": "stream",
     "text": [
      "Iteration No: 23 ended. Search finished for the next optimal point.\n",
      "Time taken: 5.2667\n",
      "Function value obtained: -0.0347\n",
      "Current minimum: -0.0371\n",
      "Iteration No: 24 started. Searching for the next optimal point.\n",
      "[13, 0.09741280532636395, 35, 2.3198466783222706e-06]\n"
     ]
    },
    {
     "name": "stderr",
     "output_type": "stream",
     "text": [
      "Epoch: 100%|██████████| 13/13 [00:00<00:00, 14.35it/s]\n"
     ]
    },
    {
     "name": "stdout",
     "output_type": "stream",
     "text": [
      "Iteration No: 24 ended. Search finished for the next optimal point.\n",
      "Time taken: 2.0402\n",
      "Function value obtained: -0.0274\n",
      "Current minimum: -0.0371\n",
      "Iteration No: 25 started. Searching for the next optimal point.\n",
      "[215, 0.0481532710277693, 40, 3.259705061008528e-06]\n"
     ]
    },
    {
     "name": "stderr",
     "output_type": "stream",
     "text": [
      "Epoch: 100%|██████████| 215/215 [00:19<00:00, 10.95it/s]\n"
     ]
    },
    {
     "name": "stdout",
     "output_type": "stream",
     "text": [
      "Iteration No: 25 ended. Search finished for the next optimal point.\n",
      "Time taken: 21.2449\n",
      "Function value obtained: -0.0223\n",
      "Current minimum: -0.0371\n",
      "Iteration No: 26 started. Searching for the next optimal point.\n",
      "[4, 0.18008541078395965, 52, 2.549209946256437e-05]\n"
     ]
    },
    {
     "name": "stderr",
     "output_type": "stream",
     "text": [
      "Epoch: 100%|██████████| 4/4 [00:00<00:00,  5.58it/s]\n"
     ]
    },
    {
     "name": "stdout",
     "output_type": "stream",
     "text": [
      "Iteration No: 26 ended. Search finished for the next optimal point.\n",
      "Time taken: 2.6229\n",
      "Function value obtained: -0.0050\n",
      "Current minimum: -0.0371\n",
      "Iteration No: 27 started. Searching for the next optimal point.\n",
      "[4, 0.08603995076532266, 48, 3.629576056086215e-06]\n"
     ]
    },
    {
     "name": "stderr",
     "output_type": "stream",
     "text": [
      "Epoch: 100%|██████████| 4/4 [00:00<00:00,  8.63it/s]\n"
     ]
    },
    {
     "name": "stdout",
     "output_type": "stream",
     "text": [
      "Iteration No: 27 ended. Search finished for the next optimal point.\n",
      "Time taken: 1.8527\n",
      "Function value obtained: -0.0295\n",
      "Current minimum: -0.0371\n",
      "Iteration No: 28 started. Searching for the next optimal point.\n",
      "[2, 0.04904131335301334, 42, 5.565939140253668e-06]\n"
     ]
    },
    {
     "name": "stderr",
     "output_type": "stream",
     "text": [
      "Epoch: 100%|██████████| 2/2 [00:00<00:00,  9.43it/s]\n"
     ]
    },
    {
     "name": "stdout",
     "output_type": "stream",
     "text": [
      "Iteration No: 28 ended. Search finished for the next optimal point.\n",
      "Time taken: 1.5060\n",
      "Function value obtained: -0.0302\n",
      "Current minimum: -0.0371\n",
      "Iteration No: 29 started. Searching for the next optimal point.\n",
      "[26, 0.03034348175212716, 27, 0.0015893129111340751]\n"
     ]
    },
    {
     "name": "stderr",
     "output_type": "stream",
     "text": [
      "Epoch: 100%|██████████| 26/26 [00:02<00:00, 10.69it/s]\n"
     ]
    },
    {
     "name": "stdout",
     "output_type": "stream",
     "text": [
      "Iteration No: 29 ended. Search finished for the next optimal point.\n",
      "Time taken: 3.5819\n",
      "Function value obtained: -0.0332\n",
      "Current minimum: -0.0371\n",
      "Iteration No: 30 started. Searching for the next optimal point.\n",
      "[4, 0.024214725412083322, 45, 0.004416900245462554]\n"
     ]
    },
    {
     "name": "stderr",
     "output_type": "stream",
     "text": [
      "Epoch: 100%|██████████| 4/4 [00:00<00:00,  7.70it/s]\n"
     ]
    },
    {
     "name": "stdout",
     "output_type": "stream",
     "text": [
      "Iteration No: 30 ended. Search finished for the next optimal point.\n",
      "Time taken: 2.0861\n",
      "Function value obtained: -0.0214\n",
      "Current minimum: -0.0371\n",
      "Iteration No: 31 started. Searching for the next optimal point.\n",
      "[85, 0.1582644885237332, 42, 1.029760229167797e-06]\n"
     ]
    },
    {
     "name": "stderr",
     "output_type": "stream",
     "text": [
      "Epoch: 100%|██████████| 85/85 [00:10<00:00,  8.05it/s]\n"
     ]
    },
    {
     "name": "stdout",
     "output_type": "stream",
     "text": [
      "Iteration No: 31 ended. Search finished for the next optimal point.\n",
      "Time taken: 11.9540\n",
      "Function value obtained: -0.0146\n",
      "Current minimum: -0.0371\n",
      "Iteration No: 32 started. Searching for the next optimal point.\n",
      "[29, 0.03698149521573492, 25, 0.02379128408033402]\n"
     ]
    },
    {
     "name": "stderr",
     "output_type": "stream",
     "text": [
      "Epoch: 100%|██████████| 29/29 [00:02<00:00, 10.72it/s]\n"
     ]
    },
    {
     "name": "stdout",
     "output_type": "stream",
     "text": [
      "Iteration No: 32 ended. Search finished for the next optimal point.\n",
      "Time taken: 3.6827\n",
      "Function value obtained: -0.0137\n",
      "Current minimum: -0.0371\n",
      "Iteration No: 33 started. Searching for the next optimal point.\n",
      "[63, 0.0744726168606457, 53, 3.153787311542833e-05]\n"
     ]
    },
    {
     "name": "stderr",
     "output_type": "stream",
     "text": [
      "Epoch: 100%|██████████| 63/63 [00:07<00:00,  8.66it/s]\n"
     ]
    },
    {
     "name": "stdout",
     "output_type": "stream",
     "text": [
      "Iteration No: 33 ended. Search finished for the next optimal point.\n",
      "Time taken: 8.8463\n",
      "Function value obtained: -0.0194\n",
      "Current minimum: -0.0371\n",
      "Iteration No: 34 started. Searching for the next optimal point.\n",
      "[2, 0.054811921278723655, 42, 2.944287027014528e-05]\n"
     ]
    },
    {
     "name": "stderr",
     "output_type": "stream",
     "text": [
      "Epoch: 100%|██████████| 2/2 [00:00<00:00,  8.87it/s]\n"
     ]
    },
    {
     "name": "stdout",
     "output_type": "stream",
     "text": [
      "Iteration No: 34 ended. Search finished for the next optimal point.\n",
      "Time taken: 1.5597\n",
      "Function value obtained: -0.0317\n",
      "Current minimum: -0.0371\n",
      "Iteration No: 35 started. Searching for the next optimal point.\n",
      "[101, 0.0501638225648558, 22, 3.7527833271596632e-06]\n"
     ]
    },
    {
     "name": "stderr",
     "output_type": "stream",
     "text": [
      "Epoch: 100%|██████████| 101/101 [00:07<00:00, 14.17it/s]\n"
     ]
    },
    {
     "name": "stdout",
     "output_type": "stream",
     "text": [
      "Iteration No: 35 ended. Search finished for the next optimal point.\n",
      "Time taken: 7.8967\n",
      "Function value obtained: -0.0305\n",
      "Current minimum: -0.0371\n",
      "Iteration No: 36 started. Searching for the next optimal point.\n",
      "[28, 0.03860149385706986, 27, 0.0009112388200784379]\n"
     ]
    },
    {
     "name": "stderr",
     "output_type": "stream",
     "text": [
      "Epoch: 100%|██████████| 28/28 [00:01<00:00, 15.12it/s]\n"
     ]
    },
    {
     "name": "stdout",
     "output_type": "stream",
     "text": [
      "Iteration No: 36 ended. Search finished for the next optimal point.\n",
      "Time taken: 2.8155\n",
      "Function value obtained: -0.0402\n",
      "Current minimum: -0.0402\n",
      "Iteration No: 37 started. Searching for the next optimal point.\n",
      "[41, 0.0616906952685306, 27, 0.0025034036435331534]\n"
     ]
    },
    {
     "name": "stderr",
     "output_type": "stream",
     "text": [
      "Epoch: 100%|██████████| 41/41 [00:02<00:00, 15.85it/s]\n"
     ]
    },
    {
     "name": "stdout",
     "output_type": "stream",
     "text": [
      "Iteration No: 37 ended. Search finished for the next optimal point.\n",
      "Time taken: 3.4484\n",
      "Function value obtained: -0.0217\n",
      "Current minimum: -0.0402\n",
      "Iteration No: 38 started. Searching for the next optimal point.\n",
      "[1, 0.10333947387778879, 25, 0.0011003224087366833]\n"
     ]
    },
    {
     "name": "stderr",
     "output_type": "stream",
     "text": [
      "Epoch: 100%|██████████| 1/1 [00:00<00:00, 13.31it/s]\n"
     ]
    },
    {
     "name": "stdout",
     "output_type": "stream",
     "text": [
      "Iteration No: 38 ended. Search finished for the next optimal point.\n",
      "Time taken: 0.9033\n",
      "Function value obtained: -0.0126\n",
      "Current minimum: -0.0402\n",
      "Iteration No: 39 started. Searching for the next optimal point.\n",
      "[74, 0.03903488304845179, 22, 0.0006682874120703619]\n"
     ]
    },
    {
     "name": "stderr",
     "output_type": "stream",
     "text": [
      "Epoch: 100%|██████████| 74/74 [00:05<00:00, 13.95it/s]\n"
     ]
    },
    {
     "name": "stdout",
     "output_type": "stream",
     "text": [
      "Iteration No: 39 ended. Search finished for the next optimal point.\n",
      "Time taken: 6.0502\n",
      "Function value obtained: -0.0420\n",
      "Current minimum: -0.0420\n",
      "Iteration No: 40 started. Searching for the next optimal point.\n",
      "[54, 0.011275434792402828, 22, 0.0010923061653538482]\n"
     ]
    },
    {
     "name": "stderr",
     "output_type": "stream",
     "text": [
      "Epoch: 100%|██████████| 54/54 [00:03<00:00, 16.03it/s]\n"
     ]
    },
    {
     "name": "stdout",
     "output_type": "stream",
     "text": [
      "Iteration No: 40 ended. Search finished for the next optimal point.\n",
      "Time taken: 4.2216\n",
      "Function value obtained: -0.0314\n",
      "Current minimum: -0.0420\n",
      "Iteration No: 41 started. Searching for the next optimal point.\n",
      "[89, 0.0574667843354046, 33, 0.0004310362982524579]\n"
     ]
    },
    {
     "name": "stderr",
     "output_type": "stream",
     "text": [
      "Epoch: 100%|██████████| 89/89 [00:06<00:00, 14.14it/s]\n"
     ]
    },
    {
     "name": "stdout",
     "output_type": "stream",
     "text": [
      "Iteration No: 41 ended. Search finished for the next optimal point.\n",
      "Time taken: 7.4194\n",
      "Function value obtained: -0.0373\n",
      "Current minimum: -0.0420\n",
      "Iteration No: 42 started. Searching for the next optimal point.\n",
      "[3, 0.040548009139620846, 20, 0.0005718769036425339]\n"
     ]
    },
    {
     "name": "stderr",
     "output_type": "stream",
     "text": [
      "Epoch: 100%|██████████| 3/3 [00:00<00:00, 15.38it/s]\n"
     ]
    },
    {
     "name": "stdout",
     "output_type": "stream",
     "text": [
      "Iteration No: 42 ended. Search finished for the next optimal point.\n",
      "Time taken: 1.0534\n",
      "Function value obtained: -0.0325\n",
      "Current minimum: -0.0420\n",
      "Iteration No: 43 started. Searching for the next optimal point.\n",
      "[121, 0.17441120314973446, 29, 0.0005425734913799713]\n"
     ]
    },
    {
     "name": "stderr",
     "output_type": "stream",
     "text": [
      "Epoch: 100%|██████████| 121/121 [00:09<00:00, 12.15it/s]\n"
     ]
    },
    {
     "name": "stdout",
     "output_type": "stream",
     "text": [
      "Iteration No: 43 ended. Search finished for the next optimal point.\n",
      "Time taken: 10.8513\n",
      "Function value obtained: -0.0140\n",
      "Current minimum: -0.0420\n",
      "Iteration No: 44 started. Searching for the next optimal point.\n",
      "[108, 0.04765198285647161, 22, 0.0009223844405862881]\n"
     ]
    },
    {
     "name": "stderr",
     "output_type": "stream",
     "text": [
      "Epoch: 100%|██████████| 108/108 [00:06<00:00, 16.01it/s]\n"
     ]
    },
    {
     "name": "stdout",
     "output_type": "stream",
     "text": [
      "Iteration No: 44 ended. Search finished for the next optimal point.\n",
      "Time taken: 7.4939\n",
      "Function value obtained: -0.0429\n",
      "Current minimum: -0.0429\n",
      "Iteration No: 45 started. Searching for the next optimal point.\n",
      "[192, 0.05416835294068739, 23, 0.0009040662708896701]\n"
     ]
    },
    {
     "name": "stderr",
     "output_type": "stream",
     "text": [
      "Epoch: 100%|██████████| 192/192 [00:12<00:00, 15.65it/s]\n"
     ]
    },
    {
     "name": "stdout",
     "output_type": "stream",
     "text": [
      "Iteration No: 45 ended. Search finished for the next optimal point.\n",
      "Time taken: 13.0455\n",
      "Function value obtained: -0.0444\n",
      "Current minimum: -0.0444\n",
      "Iteration No: 46 started. Searching for the next optimal point.\n",
      "[195, 0.04331344703467425, 21, 0.001158429024129097]\n"
     ]
    },
    {
     "name": "stderr",
     "output_type": "stream",
     "text": [
      "Epoch: 100%|██████████| 195/195 [00:11<00:00, 16.78it/s]\n"
     ]
    },
    {
     "name": "stdout",
     "output_type": "stream",
     "text": [
      "Iteration No: 46 ended. Search finished for the next optimal point.\n",
      "Time taken: 12.5424\n",
      "Function value obtained: -0.0434\n",
      "Current minimum: -0.0444\n",
      "Iteration No: 47 started. Searching for the next optimal point.\n",
      "[200, 0.7607346931877987, 21, 0.0009283875902770927]\n"
     ]
    },
    {
     "name": "stderr",
     "output_type": "stream",
     "text": [
      "Epoch: 100%|██████████| 200/200 [00:18<00:00, 10.54it/s]\n"
     ]
    },
    {
     "name": "stdout",
     "output_type": "stream",
     "text": [
      "Iteration No: 47 ended. Search finished for the next optimal point.\n",
      "Time taken: 19.8418\n",
      "Function value obtained: -0.0003\n",
      "Current minimum: -0.0444\n",
      "Iteration No: 48 started. Searching for the next optimal point.\n",
      "[170, 0.060730242202265985, 24, 0.0010243611632095662]\n"
     ]
    },
    {
     "name": "stderr",
     "output_type": "stream",
     "text": [
      "Epoch: 100%|██████████| 170/170 [00:10<00:00, 15.57it/s]\n"
     ]
    },
    {
     "name": "stdout",
     "output_type": "stream",
     "text": [
      "Iteration No: 48 ended. Search finished for the next optimal point.\n",
      "Time taken: 11.7515\n",
      "Function value obtained: -0.0452\n",
      "Current minimum: -0.0452\n",
      "Iteration No: 49 started. Searching for the next optimal point.\n",
      "[192, 0.044461610245577966, 26, 0.000780633521005696]\n"
     ]
    },
    {
     "name": "stderr",
     "output_type": "stream",
     "text": [
      "Epoch: 100%|██████████| 192/192 [00:12<00:00, 15.70it/s]\n"
     ]
    },
    {
     "name": "stdout",
     "output_type": "stream",
     "text": [
      "Iteration No: 49 ended. Search finished for the next optimal point.\n",
      "Time taken: 13.0402\n",
      "Function value obtained: -0.0435\n",
      "Current minimum: -0.0452\n",
      "Iteration No: 50 started. Searching for the next optimal point.\n",
      "[196, 0.048039113062229515, 26, 0.0012585609308111132]\n"
     ]
    },
    {
     "name": "stderr",
     "output_type": "stream",
     "text": [
      "Epoch: 100%|██████████| 196/196 [00:12<00:00, 16.11it/s]\n"
     ]
    },
    {
     "name": "stdout",
     "output_type": "stream",
     "text": [
      "Iteration No: 50 ended. Search finished for the next optimal point.\n",
      "Time taken: 13.0938\n",
      "Function value obtained: -0.0426\n",
      "Current minimum: -0.0452\n",
      "Iteration No: 51 started. Searching for the next optimal point.\n",
      "[247, 0.0696903437530205, 23, 0.001466138167773293]\n"
     ]
    },
    {
     "name": "stderr",
     "output_type": "stream",
     "text": [
      "Epoch: 100%|██████████| 247/247 [00:18<00:00, 13.39it/s]\n"
     ]
    },
    {
     "name": "stdout",
     "output_type": "stream",
     "text": [
      "Iteration No: 51 ended. Search finished for the next optimal point.\n",
      "Time taken: 19.2812\n",
      "Function value obtained: -0.0411\n",
      "Current minimum: -0.0452\n",
      "Iteration No: 52 started. Searching for the next optimal point.\n",
      "[201, 0.06637508842567576, 21, 0.0007446878252555316]\n"
     ]
    },
    {
     "name": "stderr",
     "output_type": "stream",
     "text": [
      "Epoch: 100%|██████████| 201/201 [00:11<00:00, 16.86it/s]\n"
     ]
    },
    {
     "name": "stdout",
     "output_type": "stream",
     "text": [
      "Iteration No: 52 ended. Search finished for the next optimal point.\n",
      "Time taken: 12.7101\n",
      "Function value obtained: -0.0438\n",
      "Current minimum: -0.0452\n",
      "Iteration No: 53 started. Searching for the next optimal point.\n",
      "[190, 0.07583374788980164, 20, 0.0008262958414592335]\n"
     ]
    },
    {
     "name": "stderr",
     "output_type": "stream",
     "text": [
      "Epoch: 100%|██████████| 190/190 [00:10<00:00, 18.03it/s]\n"
     ]
    },
    {
     "name": "stdout",
     "output_type": "stream",
     "text": [
      "Iteration No: 53 ended. Search finished for the next optimal point.\n",
      "Time taken: 11.2602\n",
      "Function value obtained: -0.0444\n",
      "Current minimum: -0.0452\n",
      "Iteration No: 54 started. Searching for the next optimal point.\n",
      "[203, 0.048947367382245546, 21, 0.0038669950062702784]\n"
     ]
    },
    {
     "name": "stderr",
     "output_type": "stream",
     "text": [
      "Epoch: 100%|██████████| 203/203 [00:10<00:00, 18.50it/s]\n"
     ]
    },
    {
     "name": "stdout",
     "output_type": "stream",
     "text": [
      "Iteration No: 54 ended. Search finished for the next optimal point.\n",
      "Time taken: 11.6970\n",
      "Function value obtained: -0.0215\n",
      "Current minimum: -0.0452\n",
      "Iteration No: 55 started. Searching for the next optimal point.\n",
      "[226, 0.0770099838121126, 20, 0.000900074770342713]\n"
     ]
    },
    {
     "name": "stderr",
     "output_type": "stream",
     "text": [
      "Epoch: 100%|██████████| 226/226 [00:12<00:00, 18.07it/s]\n"
     ]
    },
    {
     "name": "stdout",
     "output_type": "stream",
     "text": [
      "Iteration No: 55 ended. Search finished for the next optimal point.\n",
      "Time taken: 13.2490\n",
      "Function value obtained: -0.0453\n",
      "Current minimum: -0.0453\n",
      "Iteration No: 56 started. Searching for the next optimal point.\n",
      "[173, 0.16881726301639513, 22, 0.0007434137926307128]\n"
     ]
    },
    {
     "name": "stderr",
     "output_type": "stream",
     "text": [
      "Epoch: 100%|██████████| 173/173 [00:10<00:00, 16.87it/s]\n"
     ]
    },
    {
     "name": "stdout",
     "output_type": "stream",
     "text": [
      "Iteration No: 56 ended. Search finished for the next optimal point.\n",
      "Time taken: 11.0404\n",
      "Function value obtained: -0.0162\n",
      "Current minimum: -0.0453\n",
      "Iteration No: 57 started. Searching for the next optimal point.\n",
      "[202, 0.11473917839311336, 24, 0.0005174265869907458]\n"
     ]
    },
    {
     "name": "stderr",
     "output_type": "stream",
     "text": [
      "Epoch: 100%|██████████| 202/202 [00:12<00:00, 16.47it/s]\n"
     ]
    },
    {
     "name": "stdout",
     "output_type": "stream",
     "text": [
      "Iteration No: 57 ended. Search finished for the next optimal point.\n",
      "Time taken: 13.0423\n",
      "Function value obtained: -0.0383\n",
      "Current minimum: -0.0453\n",
      "Iteration No: 58 started. Searching for the next optimal point.\n",
      "[195, 0.08288435447739112, 32, 0.0007185877899643006]\n"
     ]
    },
    {
     "name": "stderr",
     "output_type": "stream",
     "text": [
      "Epoch: 100%|██████████| 195/195 [00:13<00:00, 14.63it/s]\n"
     ]
    },
    {
     "name": "stdout",
     "output_type": "stream",
     "text": [
      "Iteration No: 58 ended. Search finished for the next optimal point.\n",
      "Time taken: 14.2422\n",
      "Function value obtained: -0.0417\n",
      "Current minimum: -0.0453\n",
      "Iteration No: 59 started. Searching for the next optimal point.\n",
      "[178, 0.12201787459502528, 20, 0.0007267148667263176]\n"
     ]
    },
    {
     "name": "stderr",
     "output_type": "stream",
     "text": [
      "Epoch: 100%|██████████| 178/178 [00:10<00:00, 17.52it/s]\n"
     ]
    },
    {
     "name": "stdout",
     "output_type": "stream",
     "text": [
      "Iteration No: 59 ended. Search finished for the next optimal point.\n",
      "Time taken: 10.9441\n",
      "Function value obtained: -0.0414\n",
      "Current minimum: -0.0453\n",
      "Iteration No: 60 started. Searching for the next optimal point.\n",
      "[202, 0.06615844972397365, 56, 0.0010252791486916573]\n"
     ]
    },
    {
     "name": "stderr",
     "output_type": "stream",
     "text": [
      "Epoch: 100%|██████████| 202/202 [00:18<00:00, 10.80it/s]\n"
     ]
    },
    {
     "name": "stdout",
     "output_type": "stream",
     "text": [
      "Iteration No: 60 ended. Search finished for the next optimal point.\n",
      "Time taken: 20.0667\n",
      "Function value obtained: -0.0480\n",
      "Current minimum: -0.0480\n",
      "Iteration No: 61 started. Searching for the next optimal point.\n",
      "[187, 0.11369843516870237, 123, 0.0008695966533912732]\n"
     ]
    },
    {
     "name": "stderr",
     "output_type": "stream",
     "text": [
      "Epoch: 100%|██████████| 187/187 [00:31<00:00,  5.87it/s]\n"
     ]
    },
    {
     "name": "stdout",
     "output_type": "stream",
     "text": [
      "Iteration No: 61 ended. Search finished for the next optimal point.\n",
      "Time taken: 34.6180\n",
      "Function value obtained: -0.0381\n",
      "Current minimum: -0.0480\n",
      "Iteration No: 62 started. Searching for the next optimal point.\n",
      "[181, 0.1292721563781123, 33, 0.0013295966591095616]\n"
     ]
    },
    {
     "name": "stderr",
     "output_type": "stream",
     "text": [
      "Epoch: 100%|██████████| 181/181 [00:12<00:00, 14.37it/s]\n"
     ]
    },
    {
     "name": "stdout",
     "output_type": "stream",
     "text": [
      "Iteration No: 62 ended. Search finished for the next optimal point.\n",
      "Time taken: 13.6125\n",
      "Function value obtained: -0.0204\n",
      "Current minimum: -0.0480\n",
      "Iteration No: 63 started. Searching for the next optimal point.\n",
      "[189, 0.09181420170067287, 41, 0.0010367484114087724]\n"
     ]
    },
    {
     "name": "stderr",
     "output_type": "stream",
     "text": [
      "Epoch: 100%|██████████| 189/189 [00:14<00:00, 12.69it/s]\n"
     ]
    },
    {
     "name": "stdout",
     "output_type": "stream",
     "text": [
      "Iteration No: 63 ended. Search finished for the next optimal point.\n",
      "Time taken: 16.0122\n",
      "Function value obtained: -0.0462\n",
      "Current minimum: -0.0480\n",
      "Iteration No: 64 started. Searching for the next optimal point.\n",
      "[187, 0.13769091985075949, 47, 0.001048991053813191]\n"
     ]
    },
    {
     "name": "stderr",
     "output_type": "stream",
     "text": [
      "Epoch: 100%|██████████| 187/187 [00:15<00:00, 11.90it/s]\n"
     ]
    },
    {
     "name": "stdout",
     "output_type": "stream",
     "text": [
      "Iteration No: 64 ended. Search finished for the next optimal point.\n",
      "Time taken: 16.9562\n",
      "Function value obtained: -0.0236\n",
      "Current minimum: -0.0480\n",
      "Iteration No: 65 started. Searching for the next optimal point.\n",
      "[203, 0.07694426736280413, 174, 0.0011109420011732492]\n"
     ]
    },
    {
     "name": "stderr",
     "output_type": "stream",
     "text": [
      "Epoch: 100%|██████████| 203/203 [00:45<00:00,  4.42it/s]\n"
     ]
    },
    {
     "name": "stdout",
     "output_type": "stream",
     "text": [
      "Iteration No: 65 ended. Search finished for the next optimal point.\n",
      "Time taken: 49.7297\n",
      "Function value obtained: -0.0450\n",
      "Current minimum: -0.0480\n",
      "Iteration No: 66 started. Searching for the next optimal point.\n",
      "[204, 0.10491791254332397, 45, 0.0009679706677408196]\n"
     ]
    },
    {
     "name": "stderr",
     "output_type": "stream",
     "text": [
      "Epoch: 100%|██████████| 204/204 [00:17<00:00, 11.88it/s]\n"
     ]
    },
    {
     "name": "stdout",
     "output_type": "stream",
     "text": [
      "Iteration No: 66 ended. Search finished for the next optimal point.\n",
      "Time taken: 18.3368\n",
      "Function value obtained: -0.0424\n",
      "Current minimum: -0.0480\n",
      "Iteration No: 67 started. Searching for the next optimal point.\n",
      "[197, 0.10664396395617873, 48, 0.001119537204980694]\n"
     ]
    },
    {
     "name": "stderr",
     "output_type": "stream",
     "text": [
      "Epoch: 100%|██████████| 197/197 [00:17<00:00, 11.35it/s]\n"
     ]
    },
    {
     "name": "stdout",
     "output_type": "stream",
     "text": [
      "Iteration No: 67 ended. Search finished for the next optimal point.\n",
      "Time taken: 18.7131\n",
      "Function value obtained: -0.0351\n",
      "Current minimum: -0.0480\n",
      "Iteration No: 68 started. Searching for the next optimal point.\n",
      "[204, 0.3869118219048909, 57, 0.0008541288988079438]\n"
     ]
    },
    {
     "name": "stderr",
     "output_type": "stream",
     "text": [
      "Epoch: 100%|██████████| 204/204 [00:20<00:00, 10.09it/s]\n"
     ]
    },
    {
     "name": "stdout",
     "output_type": "stream",
     "text": [
      "Iteration No: 68 ended. Search finished for the next optimal point.\n",
      "Time taken: 21.6752\n",
      "Function value obtained: -0.0005\n",
      "Current minimum: -0.0480\n",
      "Iteration No: 69 started. Searching for the next optimal point.\n",
      "[208, 0.07556502053404102, 52, 0.001535301692056045]\n"
     ]
    },
    {
     "name": "stderr",
     "output_type": "stream",
     "text": [
      "Epoch: 100%|██████████| 208/208 [00:18<00:00, 11.34it/s]\n"
     ]
    },
    {
     "name": "stdout",
     "output_type": "stream",
     "text": [
      "Iteration No: 69 ended. Search finished for the next optimal point.\n",
      "Time taken: 19.6037\n",
      "Function value obtained: -0.0370\n",
      "Current minimum: -0.0480\n",
      "Iteration No: 70 started. Searching for the next optimal point.\n",
      "[209, 0.06495900322997453, 57, 0.0012872777696408952]\n"
     ]
    },
    {
     "name": "stderr",
     "output_type": "stream",
     "text": [
      "Epoch: 100%|██████████| 209/209 [00:17<00:00, 12.18it/s]\n"
     ]
    },
    {
     "name": "stdout",
     "output_type": "stream",
     "text": [
      "Iteration No: 70 ended. Search finished for the next optimal point.\n",
      "Time taken: 18.5333\n",
      "Function value obtained: -0.0440\n",
      "Current minimum: -0.0480\n",
      "Iteration No: 71 started. Searching for the next optimal point.\n",
      "[200, 0.11353761440106622, 64, 0.0009944112319067368]\n"
     ]
    },
    {
     "name": "stderr",
     "output_type": "stream",
     "text": [
      "Epoch: 100%|██████████| 200/200 [00:17<00:00, 11.33it/s]\n"
     ]
    },
    {
     "name": "stdout",
     "output_type": "stream",
     "text": [
      "Iteration No: 71 ended. Search finished for the next optimal point.\n",
      "Time taken: 19.1236\n",
      "Function value obtained: -0.0370\n",
      "Current minimum: -0.0480\n",
      "Iteration No: 72 started. Searching for the next optimal point.\n",
      "[204, 0.11993359411268385, 69, 0.0008633515109142924]\n"
     ]
    },
    {
     "name": "stderr",
     "output_type": "stream",
     "text": [
      "Epoch: 100%|██████████| 204/204 [00:18<00:00, 10.83it/s]\n"
     ]
    },
    {
     "name": "stdout",
     "output_type": "stream",
     "text": [
      "Iteration No: 72 ended. Search finished for the next optimal point.\n",
      "Time taken: 20.3363\n",
      "Function value obtained: -0.0380\n",
      "Current minimum: -0.0480\n",
      "Iteration No: 73 started. Searching for the next optimal point.\n",
      "[200, 0.05961703922640875, 21, 0.012038635662695274]\n"
     ]
    },
    {
     "name": "stderr",
     "output_type": "stream",
     "text": [
      "Epoch: 100%|██████████| 200/200 [00:09<00:00, 21.75it/s]\n"
     ]
    },
    {
     "name": "stdout",
     "output_type": "stream",
     "text": [
      "Iteration No: 73 ended. Search finished for the next optimal point.\n",
      "Time taken: 9.9258\n",
      "Function value obtained: -0.0160\n",
      "Current minimum: -0.0480\n",
      "Iteration No: 74 started. Searching for the next optimal point.\n",
      "[222, 0.1545931749805142, 24, 0.000939926663176489]\n"
     ]
    },
    {
     "name": "stderr",
     "output_type": "stream",
     "text": [
      "Epoch: 100%|██████████| 222/222 [00:11<00:00, 19.65it/s]\n"
     ]
    },
    {
     "name": "stdout",
     "output_type": "stream",
     "text": [
      "Iteration No: 74 ended. Search finished for the next optimal point.\n",
      "Time taken: 12.0966\n",
      "Function value obtained: -0.0251\n",
      "Current minimum: -0.0480\n",
      "Iteration No: 75 started. Searching for the next optimal point.\n",
      "[226, 0.2882515030463495, 157, 0.0010178360769074744]\n"
     ]
    },
    {
     "name": "stderr",
     "output_type": "stream",
     "text": [
      "Epoch: 100%|██████████| 226/226 [00:51<00:00,  4.41it/s]\n"
     ]
    },
    {
     "name": "stdout",
     "output_type": "stream",
     "text": [
      "Iteration No: 75 ended. Search finished for the next optimal point.\n",
      "Time taken: 54.4431\n",
      "Function value obtained: -0.0005\n",
      "Current minimum: -0.0480\n",
      "Iteration No: 76 started. Searching for the next optimal point.\n",
      "[234, 0.08660189702023557, 161, 0.0009631518511899245]\n"
     ]
    },
    {
     "name": "stderr",
     "output_type": "stream",
     "text": [
      "Epoch: 100%|██████████| 234/234 [00:48<00:00,  4.83it/s]\n"
     ]
    },
    {
     "name": "stdout",
     "output_type": "stream",
     "text": [
      "Iteration No: 76 ended. Search finished for the next optimal point.\n",
      "Time taken: 51.6824\n",
      "Function value obtained: -0.0467\n",
      "Current minimum: -0.0480\n",
      "Iteration No: 77 started. Searching for the next optimal point.\n",
      "[222, 0.07767035361586198, 190, 0.0011595507556372924]\n"
     ]
    },
    {
     "name": "stderr",
     "output_type": "stream",
     "text": [
      "Epoch: 100%|██████████| 222/222 [00:53<00:00,  4.13it/s]\n"
     ]
    },
    {
     "name": "stdout",
     "output_type": "stream",
     "text": [
      "Iteration No: 77 ended. Search finished for the next optimal point.\n",
      "Time taken: 57.6226\n",
      "Function value obtained: -0.0439\n",
      "Current minimum: -0.0480\n",
      "Iteration No: 78 started. Searching for the next optimal point.\n",
      "[240, 0.08421614559125948, 160, 0.000493729036262931]\n"
     ]
    },
    {
     "name": "stderr",
     "output_type": "stream",
     "text": [
      "Epoch: 100%|██████████| 240/240 [00:41<00:00,  5.72it/s]\n"
     ]
    },
    {
     "name": "stdout",
     "output_type": "stream",
     "text": [
      "Iteration No: 78 ended. Search finished for the next optimal point.\n",
      "Time taken: 45.3189\n",
      "Function value obtained: -0.0118\n",
      "Current minimum: -0.0480\n",
      "Iteration No: 79 started. Searching for the next optimal point.\n",
      "[229, 0.0320779411780282, 162, 0.000857091362708434]\n"
     ]
    },
    {
     "name": "stderr",
     "output_type": "stream",
     "text": [
      "Epoch: 100%|██████████| 229/229 [00:50<00:00,  4.53it/s]\n"
     ]
    },
    {
     "name": "stdout",
     "output_type": "stream",
     "text": [
      "Iteration No: 79 ended. Search finished for the next optimal point.\n",
      "Time taken: 54.7184\n",
      "Function value obtained: -0.0489\n",
      "Current minimum: -0.0489\n",
      "Iteration No: 80 started. Searching for the next optimal point.\n",
      "[232, 0.04577759879791892, 156, 0.0007545347747521524]\n"
     ]
    },
    {
     "name": "stderr",
     "output_type": "stream",
     "text": [
      "Epoch: 100%|██████████| 232/232 [00:50<00:00,  4.59it/s]\n"
     ]
    },
    {
     "name": "stdout",
     "output_type": "stream",
     "text": [
      "Iteration No: 80 ended. Search finished for the next optimal point.\n",
      "Time taken: 53.9649\n",
      "Function value obtained: -0.0362\n",
      "Current minimum: -0.0489\n",
      "Iteration No: 81 started. Searching for the next optimal point.\n",
      "[221, 0.09537450074382958, 193, 0.0009938844546360465]\n"
     ]
    },
    {
     "name": "stderr",
     "output_type": "stream",
     "text": [
      "Epoch: 100%|██████████| 221/221 [00:58<00:00,  3.80it/s]\n"
     ]
    },
    {
     "name": "stdout",
     "output_type": "stream",
     "text": [
      "Iteration No: 81 ended. Search finished for the next optimal point.\n",
      "Time taken: 62.2522\n",
      "Function value obtained: -0.0410\n",
      "Current minimum: -0.0489\n",
      "Iteration No: 82 started. Searching for the next optimal point.\n",
      "[235, 0.07991780345371385, 162, 0.0009659552753770877]\n"
     ]
    },
    {
     "name": "stderr",
     "output_type": "stream",
     "text": [
      "Epoch: 100%|██████████| 235/235 [00:49<00:00,  4.73it/s]\n"
     ]
    },
    {
     "name": "stdout",
     "output_type": "stream",
     "text": [
      "Iteration No: 82 ended. Search finished for the next optimal point.\n",
      "Time taken: 53.0077\n",
      "Function value obtained: -0.0472\n",
      "Current minimum: -0.0489\n",
      "Iteration No: 83 started. Searching for the next optimal point.\n",
      "[226, 0.20365641821783956, 181, 0.0006878945968120392]\n"
     ]
    },
    {
     "name": "stderr",
     "output_type": "stream",
     "text": [
      "Epoch: 100%|██████████| 226/226 [00:55<00:00,  4.09it/s]\n"
     ]
    },
    {
     "name": "stdout",
     "output_type": "stream",
     "text": [
      "Iteration No: 83 ended. Search finished for the next optimal point.\n",
      "Time taken: 59.0376\n",
      "Function value obtained: -0.0024\n",
      "Current minimum: -0.0489\n",
      "Iteration No: 84 started. Searching for the next optimal point.\n",
      "[218, 0.12137812130465242, 182, 0.001263367195090907]\n"
     ]
    },
    {
     "name": "stderr",
     "output_type": "stream",
     "text": [
      "Epoch: 100%|██████████| 218/218 [00:49<00:00,  4.40it/s]\n"
     ]
    },
    {
     "name": "stdout",
     "output_type": "stream",
     "text": [
      "Iteration No: 84 ended. Search finished for the next optimal point.\n",
      "Time taken: 53.1656\n",
      "Function value obtained: -0.0121\n",
      "Current minimum: -0.0489\n",
      "Iteration No: 85 started. Searching for the next optimal point.\n",
      "[214, 0.07333577887812812, 183, 0.0008313563678813698]\n"
     ]
    },
    {
     "name": "stderr",
     "output_type": "stream",
     "text": [
      "Epoch: 100%|██████████| 214/214 [00:48<00:00,  4.37it/s]\n"
     ]
    },
    {
     "name": "stdout",
     "output_type": "stream",
     "text": [
      "Iteration No: 85 ended. Search finished for the next optimal point.\n",
      "Time taken: 52.7432\n",
      "Function value obtained: -0.0402\n",
      "Current minimum: -0.0489\n",
      "Iteration No: 86 started. Searching for the next optimal point.\n",
      "[255, 0.08019731436781252, 173, 0.0006780738108493046]\n"
     ]
    },
    {
     "name": "stderr",
     "output_type": "stream",
     "text": [
      "Epoch: 100%|██████████| 255/255 [00:54<00:00,  4.70it/s]\n"
     ]
    },
    {
     "name": "stdout",
     "output_type": "stream",
     "text": [
      "Iteration No: 86 ended. Search finished for the next optimal point.\n",
      "Time taken: 57.9060\n",
      "Function value obtained: -0.0239\n",
      "Current minimum: -0.0489\n",
      "Iteration No: 87 started. Searching for the next optimal point.\n",
      "[238, 0.0840371018009884, 195, 0.0011207140317288076]\n"
     ]
    },
    {
     "name": "stderr",
     "output_type": "stream",
     "text": [
      "Epoch: 100%|██████████| 238/238 [00:58<00:00,  4.05it/s]\n"
     ]
    },
    {
     "name": "stdout",
     "output_type": "stream",
     "text": [
      "Iteration No: 87 ended. Search finished for the next optimal point.\n",
      "Time taken: 62.6292\n",
      "Function value obtained: -0.0423\n",
      "Current minimum: -0.0489\n",
      "Iteration No: 88 started. Searching for the next optimal point.\n",
      "[229, 0.050332085982794914, 175, 0.001094463890429031]\n"
     ]
    },
    {
     "name": "stderr",
     "output_type": "stream",
     "text": [
      "Epoch: 100%|██████████| 229/229 [00:50<00:00,  4.50it/s]\n"
     ]
    },
    {
     "name": "stdout",
     "output_type": "stream",
     "text": [
      "Iteration No: 88 ended. Search finished for the next optimal point.\n",
      "Time taken: 54.5685\n",
      "Function value obtained: -0.0490\n",
      "Current minimum: -0.0490\n",
      "Iteration No: 89 started. Searching for the next optimal point.\n",
      "[227, 0.06951423169126167, 130, 0.001017166500694581]\n"
     ]
    },
    {
     "name": "stderr",
     "output_type": "stream",
     "text": [
      "Epoch: 100%|██████████| 227/227 [00:39<00:00,  5.71it/s]\n"
     ]
    },
    {
     "name": "stdout",
     "output_type": "stream",
     "text": [
      "Iteration No: 89 ended. Search finished for the next optimal point.\n",
      "Time taken: 42.4609\n",
      "Function value obtained: -0.0491\n",
      "Current minimum: -0.0491\n",
      "Iteration No: 90 started. Searching for the next optimal point.\n",
      "[230, 0.10011089700830318, 180, 0.000969794597990834]\n"
     ]
    },
    {
     "name": "stderr",
     "output_type": "stream",
     "text": [
      "Epoch: 100%|██████████| 230/230 [00:56<00:00,  4.08it/s]\n"
     ]
    },
    {
     "name": "stdout",
     "output_type": "stream",
     "text": [
      "Iteration No: 90 ended. Search finished for the next optimal point.\n",
      "Time taken: 60.3477\n",
      "Function value obtained: -0.0394\n",
      "Current minimum: -0.0491\n",
      "Iteration No: 91 started. Searching for the next optimal point.\n",
      "[226, 0.0009328318788166932, 162, 0.0009667732116167084]\n"
     ]
    },
    {
     "name": "stderr",
     "output_type": "stream",
     "text": [
      "Epoch: 100%|██████████| 226/226 [00:52<00:00,  4.34it/s]\n"
     ]
    },
    {
     "name": "stdout",
     "output_type": "stream",
     "text": [
      "Iteration No: 91 ended. Search finished for the next optimal point.\n",
      "Time taken: 55.3746\n",
      "Function value obtained: -0.0275\n",
      "Current minimum: -0.0491\n",
      "Iteration No: 92 started. Searching for the next optimal point.\n",
      "[214, 0.05349014359373086, 149, 0.0010329530926390165]\n"
     ]
    },
    {
     "name": "stderr",
     "output_type": "stream",
     "text": [
      "Epoch: 100%|██████████| 214/214 [00:44<00:00,  4.80it/s]\n"
     ]
    },
    {
     "name": "stdout",
     "output_type": "stream",
     "text": [
      "Iteration No: 92 ended. Search finished for the next optimal point.\n",
      "Time taken: 47.7142\n",
      "Function value obtained: -0.0496\n",
      "Current minimum: -0.0496\n",
      "Iteration No: 93 started. Searching for the next optimal point.\n",
      "[223, 0.05557603494161423, 188, 0.0006985180499474908]\n"
     ]
    },
    {
     "name": "stderr",
     "output_type": "stream",
     "text": [
      "Epoch: 100%|██████████| 223/223 [00:54<00:00,  4.06it/s]\n"
     ]
    },
    {
     "name": "stdout",
     "output_type": "stream",
     "text": [
      "Iteration No: 93 ended. Search finished for the next optimal point.\n",
      "Time taken: 58.8719\n",
      "Function value obtained: -0.0260\n",
      "Current minimum: -0.0496\n",
      "Iteration No: 94 started. Searching for the next optimal point.\n",
      "[220, 0.09760546469139189, 152, 0.0010821939796121546]\n"
     ]
    },
    {
     "name": "stderr",
     "output_type": "stream",
     "text": [
      "Epoch: 100%|██████████| 220/220 [00:47<00:00,  4.66it/s]\n"
     ]
    },
    {
     "name": "stdout",
     "output_type": "stream",
     "text": [
      "Iteration No: 94 ended. Search finished for the next optimal point.\n",
      "Time taken: 50.6710\n",
      "Function value obtained: -0.0378\n",
      "Current minimum: -0.0496\n",
      "Iteration No: 95 started. Searching for the next optimal point.\n",
      "[246, 0.11778457037887817, 161, 0.0010726896925411995]\n"
     ]
    },
    {
     "name": "stderr",
     "output_type": "stream",
     "text": [
      "Epoch: 100%|██████████| 246/246 [00:53<00:00,  4.58it/s]\n"
     ]
    },
    {
     "name": "stdout",
     "output_type": "stream",
     "text": [
      "Iteration No: 95 ended. Search finished for the next optimal point.\n",
      "Time taken: 57.2298\n",
      "Function value obtained: -0.0290\n",
      "Current minimum: -0.0496\n",
      "Iteration No: 96 started. Searching for the next optimal point.\n",
      "[229, 0.061157467339552705, 135, 0.004564697078110307]\n"
     ]
    },
    {
     "name": "stderr",
     "output_type": "stream",
     "text": [
      "Epoch: 100%|██████████| 229/229 [00:44<00:00,  5.18it/s]\n"
     ]
    },
    {
     "name": "stdout",
     "output_type": "stream",
     "text": [
      "Iteration No: 96 ended. Search finished for the next optimal point.\n",
      "Time taken: 47.3184\n",
      "Function value obtained: -0.0137\n",
      "Current minimum: -0.0496\n",
      "Iteration No: 97 started. Searching for the next optimal point.\n",
      "[225, 0.08118861999115147, 139, 0.0008396527377775547]\n"
     ]
    },
    {
     "name": "stderr",
     "output_type": "stream",
     "text": [
      "Epoch: 100%|██████████| 225/225 [00:46<00:00,  4.81it/s]\n"
     ]
    },
    {
     "name": "stdout",
     "output_type": "stream",
     "text": [
      "Iteration No: 97 ended. Search finished for the next optimal point.\n",
      "Time taken: 49.8521\n",
      "Function value obtained: -0.0425\n",
      "Current minimum: -0.0496\n",
      "Iteration No: 98 started. Searching for the next optimal point.\n",
      "[219, 0.048654698922879214, 163, 0.0010778172410051269]\n"
     ]
    },
    {
     "name": "stderr",
     "output_type": "stream",
     "text": [
      "Epoch: 100%|██████████| 219/219 [00:50<00:00,  4.33it/s]\n"
     ]
    },
    {
     "name": "stdout",
     "output_type": "stream",
     "text": [
      "Iteration No: 98 ended. Search finished for the next optimal point.\n",
      "Time taken: 54.4723\n",
      "Function value obtained: -0.0491\n",
      "Current minimum: -0.0496\n",
      "Iteration No: 99 started. Searching for the next optimal point.\n",
      "[226, 0.02576711777892786, 175, 0.0012763887599615952]\n"
     ]
    },
    {
     "name": "stderr",
     "output_type": "stream",
     "text": [
      "Epoch: 100%|██████████| 226/226 [01:00<00:00,  3.72it/s]\n"
     ]
    },
    {
     "name": "stdout",
     "output_type": "stream",
     "text": [
      "Iteration No: 99 ended. Search finished for the next optimal point.\n",
      "Time taken: 64.7842\n",
      "Function value obtained: -0.0460\n",
      "Current minimum: -0.0496\n",
      "Iteration No: 100 started. Searching for the next optimal point.\n",
      "[238, 0.033473427632002464, 159, 0.0012944928810611704]\n"
     ]
    },
    {
     "name": "stderr",
     "output_type": "stream",
     "text": [
      "Epoch: 100%|██████████| 238/238 [00:55<00:00,  4.27it/s]\n"
     ]
    },
    {
     "name": "stdout",
     "output_type": "stream",
     "text": [
      "Iteration No: 100 ended. Search finished for the next optimal point.\n",
      "Time taken: 59.1134\n",
      "Function value obtained: -0.0463\n",
      "Current minimum: -0.0496\n",
      "Iteration No: 101 started. Searching for the next optimal point.\n",
      "[240, 0.03552792178165558, 154, 0.0009180343701400621]\n"
     ]
    },
    {
     "name": "stderr",
     "output_type": "stream",
     "text": [
      "Epoch: 100%|██████████| 240/240 [00:51<00:00,  4.67it/s]\n"
     ]
    },
    {
     "name": "stdout",
     "output_type": "stream",
     "text": [
      "Iteration No: 101 ended. Search finished for the next optimal point.\n",
      "Time taken: 54.8856\n",
      "Function value obtained: -0.0500\n",
      "Current minimum: -0.0500\n",
      "Iteration No: 102 started. Searching for the next optimal point.\n",
      "[226, 0.0594141529446701, 126, 0.000942785014477709]\n"
     ]
    },
    {
     "name": "stderr",
     "output_type": "stream",
     "text": [
      "Epoch: 100%|██████████| 226/226 [00:43<00:00,  5.20it/s]\n"
     ]
    },
    {
     "name": "stdout",
     "output_type": "stream",
     "text": [
      "Iteration No: 102 ended. Search finished for the next optimal point.\n",
      "Time taken: 46.4385\n",
      "Function value obtained: -0.0494\n",
      "Current minimum: -0.0500\n",
      "Iteration No: 103 started. Searching for the next optimal point.\n",
      "[240, 0.06805414491347074, 148, 0.0010741973189005158]\n"
     ]
    },
    {
     "name": "stderr",
     "output_type": "stream",
     "text": [
      "Epoch: 100%|██████████| 240/240 [00:55<00:00,  4.35it/s]\n"
     ]
    },
    {
     "name": "stdout",
     "output_type": "stream",
     "text": [
      "Iteration No: 103 ended. Search finished for the next optimal point.\n",
      "Time taken: 58.2432\n",
      "Function value obtained: -0.0482\n",
      "Current minimum: -0.0500\n",
      "Iteration No: 104 started. Searching for the next optimal point.\n",
      "[229, 0.0312611722432589, 135, 0.0011664300139136007]\n"
     ]
    },
    {
     "name": "stderr",
     "output_type": "stream",
     "text": [
      "Epoch: 100%|██████████| 229/229 [00:45<00:00,  5.02it/s]\n"
     ]
    },
    {
     "name": "stdout",
     "output_type": "stream",
     "text": [
      "Iteration No: 104 ended. Search finished for the next optimal point.\n",
      "Time taken: 48.4254\n",
      "Function value obtained: -0.0467\n",
      "Current minimum: -0.0500\n",
      "Iteration No: 105 started. Searching for the next optimal point.\n",
      "[233, 0.057281197831581476, 167, 0.0015567487747870537]\n"
     ]
    },
    {
     "name": "stderr",
     "output_type": "stream",
     "text": [
      "Epoch: 100%|██████████| 233/233 [00:51<00:00,  4.51it/s]\n"
     ]
    },
    {
     "name": "stdout",
     "output_type": "stream",
     "text": [
      "Iteration No: 105 ended. Search finished for the next optimal point.\n",
      "Time taken: 55.0964\n",
      "Function value obtained: -0.0379\n",
      "Current minimum: -0.0500\n",
      "Iteration No: 106 started. Searching for the next optimal point.\n",
      "[234, 0.02896217802436714, 151, 0.0006921916944246507]\n"
     ]
    },
    {
     "name": "stderr",
     "output_type": "stream",
     "text": [
      "Epoch: 100%|██████████| 234/234 [00:44<00:00,  5.20it/s]\n"
     ]
    },
    {
     "name": "stdout",
     "output_type": "stream",
     "text": [
      "Iteration No: 106 ended. Search finished for the next optimal point.\n",
      "Time taken: 48.2210\n",
      "Function value obtained: -0.0414\n",
      "Current minimum: -0.0500\n",
      "Iteration No: 107 started. Searching for the next optimal point.\n",
      "[157, 0.06066269855435796, 117, 0.001056043655583269]\n"
     ]
    },
    {
     "name": "stderr",
     "output_type": "stream",
     "text": [
      "Epoch: 100%|██████████| 157/157 [00:25<00:00,  6.14it/s]\n"
     ]
    },
    {
     "name": "stdout",
     "output_type": "stream",
     "text": [
      "Iteration No: 107 ended. Search finished for the next optimal point.\n",
      "Time taken: 28.4394\n",
      "Function value obtained: -0.0486\n",
      "Current minimum: -0.0500\n",
      "Iteration No: 108 started. Searching for the next optimal point.\n",
      "[153, 0.06941794053013876, 138, 0.001233635241265793]\n"
     ]
    },
    {
     "name": "stderr",
     "output_type": "stream",
     "text": [
      "Epoch: 100%|██████████| 153/153 [00:34<00:00,  4.48it/s]\n"
     ]
    },
    {
     "name": "stdout",
     "output_type": "stream",
     "text": [
      "Iteration No: 108 ended. Search finished for the next optimal point.\n",
      "Time taken: 37.2073\n",
      "Function value obtained: -0.0446\n",
      "Current minimum: -0.0500\n",
      "Iteration No: 109 started. Searching for the next optimal point.\n",
      "[228, 0.06469220743544411, 116, 0.0009176574718445806]\n"
     ]
    },
    {
     "name": "stderr",
     "output_type": "stream",
     "text": [
      "Epoch: 100%|██████████| 228/228 [00:42<00:00,  5.37it/s]\n"
     ]
    },
    {
     "name": "stdout",
     "output_type": "stream",
     "text": [
      "Iteration No: 109 ended. Search finished for the next optimal point.\n",
      "Time taken: 44.9627\n",
      "Function value obtained: -0.0492\n",
      "Current minimum: -0.0500\n",
      "Iteration No: 110 started. Searching for the next optimal point.\n",
      "[231, 0.15663191197836926, 132, 0.0009748166282576208]\n"
     ]
    },
    {
     "name": "stderr",
     "output_type": "stream",
     "text": [
      "Epoch: 100%|██████████| 231/231 [00:42<00:00,  5.37it/s]\n"
     ]
    },
    {
     "name": "stdout",
     "output_type": "stream",
     "text": [
      "Iteration No: 110 ended. Search finished for the next optimal point.\n",
      "Time taken: 45.7646\n",
      "Function value obtained: -0.0086\n",
      "Current minimum: -0.0500\n",
      "Iteration No: 111 started. Searching for the next optimal point.\n",
      "[256, 0.05374627472157609, 127, 0.0008016912776426268]\n"
     ]
    },
    {
     "name": "stderr",
     "output_type": "stream",
     "text": [
      "Epoch: 100%|██████████| 256/256 [00:43<00:00,  5.83it/s]\n"
     ]
    },
    {
     "name": "stdout",
     "output_type": "stream",
     "text": [
      "Iteration No: 111 ended. Search finished for the next optimal point.\n",
      "Time taken: 46.6192\n",
      "Function value obtained: -0.0400\n",
      "Current minimum: -0.0500\n",
      "Iteration No: 112 started. Searching for the next optimal point.\n",
      "[235, 0.08982410526289969, 129, 0.0011173706793119328]\n"
     ]
    },
    {
     "name": "stderr",
     "output_type": "stream",
     "text": [
      "Epoch: 100%|██████████| 235/235 [00:41<00:00,  5.62it/s]\n"
     ]
    },
    {
     "name": "stdout",
     "output_type": "stream",
     "text": [
      "Iteration No: 112 ended. Search finished for the next optimal point.\n",
      "Time taken: 44.5490\n",
      "Function value obtained: -0.0409\n",
      "Current minimum: -0.0500\n",
      "Iteration No: 113 started. Searching for the next optimal point.\n",
      "[232, 0.040744909280320415, 130, 0.0010656760837029731]\n"
     ]
    },
    {
     "name": "stderr",
     "output_type": "stream",
     "text": [
      "Epoch: 100%|██████████| 232/232 [00:43<00:00,  5.39it/s]\n"
     ]
    },
    {
     "name": "stdout",
     "output_type": "stream",
     "text": [
      "Iteration No: 113 ended. Search finished for the next optimal point.\n",
      "Time taken: 45.9057\n",
      "Function value obtained: -0.0485\n",
      "Current minimum: -0.0500\n",
      "Iteration No: 114 started. Searching for the next optimal point.\n",
      "[112, 0.06314083380321213, 128, 0.0011263800772874446]\n"
     ]
    },
    {
     "name": "stderr",
     "output_type": "stream",
     "text": [
      "Epoch: 100%|██████████| 112/112 [00:30<00:00,  3.72it/s]\n"
     ]
    },
    {
     "name": "stdout",
     "output_type": "stream",
     "text": [
      "Iteration No: 114 ended. Search finished for the next optimal point.\n",
      "Time taken: 33.9304\n",
      "Function value obtained: -0.0464\n",
      "Current minimum: -0.0500\n",
      "Iteration No: 115 started. Searching for the next optimal point.\n",
      "[116, 0.07588377143844982, 197, 0.0009094916135465156]\n"
     ]
    },
    {
     "name": "stderr",
     "output_type": "stream",
     "text": [
      "Epoch: 100%|██████████| 116/116 [00:40<00:00,  2.85it/s]\n"
     ]
    },
    {
     "name": "stdout",
     "output_type": "stream",
     "text": [
      "Iteration No: 115 ended. Search finished for the next optimal point.\n",
      "Time taken: 44.9109\n",
      "Function value obtained: -0.0470\n",
      "Current minimum: -0.0500\n",
      "Iteration No: 116 started. Searching for the next optimal point.\n",
      "[234, 0.06373668157175714, 148, 0.000900294028969607]\n"
     ]
    },
    {
     "name": "stderr",
     "output_type": "stream",
     "text": [
      "Epoch: 100%|██████████| 234/234 [00:54<00:00,  4.26it/s]\n"
     ]
    },
    {
     "name": "stdout",
     "output_type": "stream",
     "text": [
      "Iteration No: 116 ended. Search finished for the next optimal point.\n",
      "Time taken: 58.0571\n",
      "Function value obtained: -0.0466\n",
      "Current minimum: -0.0500\n",
      "Iteration No: 117 started. Searching for the next optimal point.\n",
      "[124, 0.14205162298094046, 124, 0.0011174150518334126]\n"
     ]
    },
    {
     "name": "stderr",
     "output_type": "stream",
     "text": [
      "Epoch: 100%|██████████| 124/124 [00:22<00:00,  5.54it/s]\n"
     ]
    },
    {
     "name": "stdout",
     "output_type": "stream",
     "text": [
      "Iteration No: 117 ended. Search finished for the next optimal point.\n",
      "Time taken: 25.3501\n",
      "Function value obtained: -0.0061\n",
      "Current minimum: -0.0500\n",
      "Iteration No: 118 started. Searching for the next optimal point.\n",
      "[124, 0.04322022092963974, 155, 0.0011812255424637195]\n"
     ]
    },
    {
     "name": "stderr",
     "output_type": "stream",
     "text": [
      "Epoch: 100%|██████████| 124/124 [00:27<00:00,  4.43it/s]\n"
     ]
    },
    {
     "name": "stdout",
     "output_type": "stream",
     "text": [
      "Iteration No: 118 ended. Search finished for the next optimal point.\n",
      "Time taken: 31.2564\n",
      "Function value obtained: -0.0463\n",
      "Current minimum: -0.0500\n",
      "Iteration No: 119 started. Searching for the next optimal point.\n",
      "[111, 0.04858583160608017, 118, 0.001166974370143404]\n"
     ]
    },
    {
     "name": "stderr",
     "output_type": "stream",
     "text": [
      "Epoch: 100%|██████████| 111/111 [00:22<00:00,  4.98it/s]\n"
     ]
    },
    {
     "name": "stdout",
     "output_type": "stream",
     "text": [
      "Iteration No: 119 ended. Search finished for the next optimal point.\n",
      "Time taken: 25.0729\n",
      "Function value obtained: -0.0461\n",
      "Current minimum: -0.0500\n",
      "Iteration No: 120 started. Searching for the next optimal point.\n",
      "[111, 0.07989823540211866, 182, 0.0009814156498385526]\n"
     ]
    },
    {
     "name": "stderr",
     "output_type": "stream",
     "text": [
      "Epoch: 100%|██████████| 111/111 [00:28<00:00,  3.87it/s]\n"
     ]
    },
    {
     "name": "stdout",
     "output_type": "stream",
     "text": [
      "Iteration No: 120 ended. Search finished for the next optimal point.\n",
      "Time taken: 32.9202\n",
      "Function value obtained: -0.0456\n",
      "Current minimum: -0.0500\n",
      "Iteration No: 121 started. Searching for the next optimal point.\n",
      "[104, 0.06256611297206417, 125, 0.001297126879120426]\n"
     ]
    },
    {
     "name": "stderr",
     "output_type": "stream",
     "text": [
      "Epoch: 100%|██████████| 104/104 [00:18<00:00,  5.61it/s]\n"
     ]
    },
    {
     "name": "stdout",
     "output_type": "stream",
     "text": [
      "Iteration No: 121 ended. Search finished for the next optimal point.\n",
      "Time taken: 21.2927\n",
      "Function value obtained: -0.0437\n",
      "Current minimum: -0.0500\n",
      "Iteration No: 122 started. Searching for the next optimal point.\n",
      "[122, 0.06283414335715512, 100, 0.001066513824462317]\n"
     ]
    },
    {
     "name": "stderr",
     "output_type": "stream",
     "text": [
      "Epoch: 100%|██████████| 122/122 [00:18<00:00,  6.63it/s]\n"
     ]
    },
    {
     "name": "stdout",
     "output_type": "stream",
     "text": [
      "Iteration No: 122 ended. Search finished for the next optimal point.\n",
      "Time taken: 20.7466\n",
      "Function value obtained: -0.0475\n",
      "Current minimum: -0.0500\n",
      "Iteration No: 123 started. Searching for the next optimal point.\n",
      "[107, 0.09245814150920831, 127, 0.0010607185622329583]\n"
     ]
    },
    {
     "name": "stderr",
     "output_type": "stream",
     "text": [
      "Epoch: 100%|██████████| 107/107 [00:21<00:00,  5.03it/s]\n"
     ]
    },
    {
     "name": "stdout",
     "output_type": "stream",
     "text": [
      "Iteration No: 123 ended. Search finished for the next optimal point.\n",
      "Time taken: 24.2407\n",
      "Function value obtained: -0.0375\n",
      "Current minimum: -0.0500\n",
      "Iteration No: 124 started. Searching for the next optimal point.\n",
      "[121, 0.07280887611284538, 101, 0.0009901742777067054]\n"
     ]
    },
    {
     "name": "stderr",
     "output_type": "stream",
     "text": [
      "Epoch: 100%|██████████| 121/121 [00:18<00:00,  6.66it/s]\n"
     ]
    },
    {
     "name": "stdout",
     "output_type": "stream",
     "text": [
      "Iteration No: 124 ended. Search finished for the next optimal point.\n",
      "Time taken: 20.5401\n",
      "Function value obtained: -0.0472\n",
      "Current minimum: -0.0500\n",
      "Iteration No: 125 started. Searching for the next optimal point.\n",
      "[46, 0.07569552325862576, 108, 0.0009028060389452476]\n"
     ]
    },
    {
     "name": "stderr",
     "output_type": "stream",
     "text": [
      "Epoch: 100%|██████████| 46/46 [00:07<00:00,  6.33it/s]\n"
     ]
    },
    {
     "name": "stdout",
     "output_type": "stream",
     "text": [
      "Iteration No: 125 ended. Search finished for the next optimal point.\n",
      "Time taken: 9.7665\n",
      "Function value obtained: -0.0450\n",
      "Current minimum: -0.0500\n",
      "Iteration No: 126 started. Searching for the next optimal point.\n",
      "[50, 0.059201692432345736, 111, 0.0010711856780471663]\n"
     ]
    },
    {
     "name": "stderr",
     "output_type": "stream",
     "text": [
      "Epoch: 100%|██████████| 50/50 [00:07<00:00,  6.27it/s]\n"
     ]
    },
    {
     "name": "stdout",
     "output_type": "stream",
     "text": [
      "Iteration No: 126 ended. Search finished for the next optimal point.\n",
      "Time taken: 10.4773\n",
      "Function value obtained: -0.0463\n",
      "Current minimum: -0.0500\n",
      "Iteration No: 127 started. Searching for the next optimal point.\n",
      "[85, 0.03331575352258725, 128, 0.0030567088411931746]\n"
     ]
    },
    {
     "name": "stderr",
     "output_type": "stream",
     "text": [
      "Epoch: 100%|██████████| 85/85 [00:15<00:00,  5.46it/s]\n"
     ]
    },
    {
     "name": "stdout",
     "output_type": "stream",
     "text": [
      "Iteration No: 127 ended. Search finished for the next optimal point.\n",
      "Time taken: 18.4518\n",
      "Function value obtained: -0.0243\n",
      "Current minimum: -0.0500\n",
      "Iteration No: 128 started. Searching for the next optimal point.\n",
      "[53, 0.14981481503166952, 199, 0.0008222980816452626]\n"
     ]
    },
    {
     "name": "stderr",
     "output_type": "stream",
     "text": [
      "Epoch: 100%|██████████| 53/53 [00:14<00:00,  3.55it/s]\n"
     ]
    },
    {
     "name": "stdout",
     "output_type": "stream",
     "text": [
      "Iteration No: 128 ended. Search finished for the next optimal point.\n",
      "Time taken: 19.3142\n",
      "Function value obtained: -0.0039\n",
      "Current minimum: -0.0500\n",
      "Iteration No: 129 started. Searching for the next optimal point.\n",
      "[46, 0.06878754746131911, 172, 0.0010921376058004824]\n"
     ]
    },
    {
     "name": "stderr",
     "output_type": "stream",
     "text": [
      "Epoch: 100%|██████████| 46/46 [00:12<00:00,  3.82it/s]\n"
     ]
    },
    {
     "name": "stdout",
     "output_type": "stream",
     "text": [
      "Iteration No: 129 ended. Search finished for the next optimal point.\n",
      "Time taken: 15.5070\n",
      "Function value obtained: -0.0415\n",
      "Current minimum: -0.0500\n",
      "Iteration No: 130 started. Searching for the next optimal point.\n",
      "[64, 0.08819349299929585, 108, 0.0009652229456464489]\n"
     ]
    },
    {
     "name": "stderr",
     "output_type": "stream",
     "text": [
      "Epoch: 100%|██████████| 64/64 [00:10<00:00,  5.86it/s]\n"
     ]
    },
    {
     "name": "stdout",
     "output_type": "stream",
     "text": [
      "Iteration No: 130 ended. Search finished for the next optimal point.\n",
      "Time taken: 13.3722\n",
      "Function value obtained: -0.0394\n",
      "Current minimum: -0.0500\n",
      "Iteration No: 131 started. Searching for the next optimal point.\n",
      "[49, 0.06773931166138271, 184, 0.0009135419690554007]\n"
     ]
    },
    {
     "name": "stderr",
     "output_type": "stream",
     "text": [
      "Epoch: 100%|██████████| 49/49 [00:12<00:00,  3.95it/s]\n"
     ]
    },
    {
     "name": "stdout",
     "output_type": "stream",
     "text": [
      "Iteration No: 131 ended. Search finished for the next optimal point.\n",
      "Time taken: 16.5625\n",
      "Function value obtained: -0.0454\n",
      "Current minimum: -0.0500\n",
      "Iteration No: 132 started. Searching for the next optimal point.\n",
      "[41, 0.07367734550074276, 149, 0.0008243881438508752]\n"
     ]
    },
    {
     "name": "stderr",
     "output_type": "stream",
     "text": [
      "Epoch: 100%|██████████| 41/41 [00:09<00:00,  4.48it/s]\n"
     ]
    },
    {
     "name": "stdout",
     "output_type": "stream",
     "text": [
      "Iteration No: 132 ended. Search finished for the next optimal point.\n",
      "Time taken: 12.2715\n",
      "Function value obtained: -0.0431\n",
      "Current minimum: -0.0500\n",
      "Iteration No: 133 started. Searching for the next optimal point.\n",
      "[36, 0.10323502662260078, 199, 0.001280234240428551]\n"
     ]
    },
    {
     "name": "stderr",
     "output_type": "stream",
     "text": [
      "Epoch: 100%|██████████| 36/36 [00:09<00:00,  3.92it/s]\n"
     ]
    },
    {
     "name": "stdout",
     "output_type": "stream",
     "text": [
      "Iteration No: 133 ended. Search finished for the next optimal point.\n",
      "Time taken: 13.2456\n",
      "Function value obtained: -0.0099\n",
      "Current minimum: -0.0500\n",
      "Iteration No: 134 started. Searching for the next optimal point.\n",
      "[77, 0.06421050249370171, 187, 0.0008746029353686188]\n"
     ]
    },
    {
     "name": "stderr",
     "output_type": "stream",
     "text": [
      "Epoch: 100%|██████████| 77/77 [00:18<00:00,  4.27it/s]\n"
     ]
    },
    {
     "name": "stdout",
     "output_type": "stream",
     "text": [
      "Iteration No: 134 ended. Search finished for the next optimal point.\n",
      "Time taken: 21.9598\n",
      "Function value obtained: -0.0469\n",
      "Current minimum: -0.0500\n",
      "Iteration No: 135 started. Searching for the next optimal point.\n",
      "[51, 0.02891316298121742, 195, 0.0009998468159861742]\n"
     ]
    },
    {
     "name": "stderr",
     "output_type": "stream",
     "text": [
      "Epoch: 100%|██████████| 51/51 [00:13<00:00,  3.70it/s]\n"
     ]
    },
    {
     "name": "stdout",
     "output_type": "stream",
     "text": [
      "Iteration No: 135 ended. Search finished for the next optimal point.\n",
      "Time taken: 17.8840\n",
      "Function value obtained: -0.0454\n",
      "Current minimum: -0.0500\n",
      "Iteration No: 136 started. Searching for the next optimal point.\n",
      "[69, 0.06229041513964218, 195, 0.0009924778091750202]\n"
     ]
    },
    {
     "name": "stderr",
     "output_type": "stream",
     "text": [
      "Epoch: 100%|██████████| 69/69 [00:20<00:00,  3.42it/s]\n"
     ]
    },
    {
     "name": "stdout",
     "output_type": "stream",
     "text": [
      "Iteration No: 136 ended. Search finished for the next optimal point.\n",
      "Time taken: 24.4032\n",
      "Function value obtained: -0.0483\n",
      "Current minimum: -0.0500\n",
      "Iteration No: 137 started. Searching for the next optimal point.\n",
      "[36, 0.06348123660068417, 192, 0.001236763161031851]\n"
     ]
    },
    {
     "name": "stderr",
     "output_type": "stream",
     "text": [
      "Epoch: 100%|██████████| 36/36 [00:09<00:00,  3.88it/s]\n"
     ]
    },
    {
     "name": "stdout",
     "output_type": "stream",
     "text": [
      "Iteration No: 137 ended. Search finished for the next optimal point.\n",
      "Time taken: 13.1938\n",
      "Function value obtained: -0.0389\n",
      "Current minimum: -0.0500\n",
      "Iteration No: 138 started. Searching for the next optimal point.\n",
      "[56, 0.03344838090529451, 199, 0.0012260794565595917]\n"
     ]
    },
    {
     "name": "stderr",
     "output_type": "stream",
     "text": [
      "Epoch: 100%|██████████| 56/56 [00:14<00:00,  3.80it/s]\n"
     ]
    },
    {
     "name": "stdout",
     "output_type": "stream",
     "text": [
      "Iteration No: 138 ended. Search finished for the next optimal point.\n",
      "Time taken: 19.0223\n",
      "Function value obtained: -0.0460\n",
      "Current minimum: -0.0500\n",
      "Iteration No: 139 started. Searching for the next optimal point.\n",
      "[20, 0.02102281187392434, 200, 0.0009920850878969282]\n"
     ]
    },
    {
     "name": "stderr",
     "output_type": "stream",
     "text": [
      "Epoch: 100%|██████████| 20/20 [00:07<00:00,  2.74it/s]\n"
     ]
    },
    {
     "name": "stdout",
     "output_type": "stream",
     "text": [
      "Iteration No: 139 ended. Search finished for the next optimal point.\n",
      "Time taken: 12.0869\n",
      "Function value obtained: -0.0399\n",
      "Current minimum: -0.0500\n",
      "Iteration No: 140 started. Searching for the next optimal point.\n",
      "[66, 0.09134535299980363, 191, 0.0008929378937579027]\n"
     ]
    },
    {
     "name": "stderr",
     "output_type": "stream",
     "text": [
      "Epoch: 100%|██████████| 66/66 [00:19<00:00,  3.43it/s]\n"
     ]
    },
    {
     "name": "stdout",
     "output_type": "stream",
     "text": [
      "Iteration No: 140 ended. Search finished for the next optimal point.\n",
      "Time taken: 23.2873\n",
      "Function value obtained: -0.0377\n",
      "Current minimum: -0.0500\n",
      "Iteration No: 141 started. Searching for the next optimal point.\n",
      "[229, 0.06942420429070258, 157, 0.0009753406799641884]\n"
     ]
    },
    {
     "name": "stderr",
     "output_type": "stream",
     "text": [
      "Epoch: 100%|██████████| 229/229 [00:48<00:00,  4.69it/s]\n"
     ]
    },
    {
     "name": "stdout",
     "output_type": "stream",
     "text": [
      "Iteration No: 141 ended. Search finished for the next optimal point.\n",
      "Time taken: 52.0927\n",
      "Function value obtained: -0.0492\n",
      "Current minimum: -0.0500\n",
      "Iteration No: 142 started. Searching for the next optimal point.\n",
      "[103, 0.10769565709049696, 149, 0.0009785950398600819]\n"
     ]
    },
    {
     "name": "stderr",
     "output_type": "stream",
     "text": [
      "Epoch: 100%|██████████| 103/103 [00:20<00:00,  5.00it/s]\n"
     ]
    },
    {
     "name": "stdout",
     "output_type": "stream",
     "text": [
      "Iteration No: 142 ended. Search finished for the next optimal point.\n",
      "Time taken: 23.6999\n",
      "Function value obtained: -0.0321\n",
      "Current minimum: -0.0500\n",
      "Iteration No: 143 started. Searching for the next optimal point.\n",
      "[49, 0.08790775234189316, 118, 0.0011975339273918618]\n"
     ]
    },
    {
     "name": "stderr",
     "output_type": "stream",
     "text": [
      "Epoch: 100%|██████████| 49/49 [00:08<00:00,  5.67it/s]\n"
     ]
    },
    {
     "name": "stdout",
     "output_type": "stream",
     "text": [
      "Iteration No: 143 ended. Search finished for the next optimal point.\n",
      "Time taken: 11.3317\n",
      "Function value obtained: -0.0298\n",
      "Current minimum: -0.0500\n",
      "Iteration No: 144 started. Searching for the next optimal point.\n",
      "[225, 0.06029010084233241, 155, 0.0017033922574815035]\n"
     ]
    },
    {
     "name": "stderr",
     "output_type": "stream",
     "text": [
      "Epoch: 100%|██████████| 225/225 [00:46<00:00,  4.86it/s]\n"
     ]
    },
    {
     "name": "stdout",
     "output_type": "stream",
     "text": [
      "Iteration No: 144 ended. Search finished for the next optimal point.\n",
      "Time taken: 49.5737\n",
      "Function value obtained: -0.0316\n",
      "Current minimum: -0.0500\n",
      "Iteration No: 145 started. Searching for the next optimal point.\n",
      "[110, 0.07535619627572691, 105, 0.0006434156694170329]\n"
     ]
    },
    {
     "name": "stderr",
     "output_type": "stream",
     "text": [
      "Epoch: 100%|██████████| 110/110 [00:16<00:00,  6.64it/s]\n"
     ]
    },
    {
     "name": "stdout",
     "output_type": "stream",
     "text": [
      "Iteration No: 145 ended. Search finished for the next optimal point.\n",
      "Time taken: 18.9737\n",
      "Function value obtained: -0.0324\n",
      "Current minimum: -0.0500\n",
      "Iteration No: 146 started. Searching for the next optimal point.\n",
      "[52, 0.02903286297671858, 195, 0.0007548349022765948]\n"
     ]
    },
    {
     "name": "stderr",
     "output_type": "stream",
     "text": [
      "Epoch: 100%|██████████| 52/52 [00:12<00:00,  4.12it/s]\n"
     ]
    },
    {
     "name": "stdout",
     "output_type": "stream",
     "text": [
      "Iteration No: 146 ended. Search finished for the next optimal point.\n",
      "Time taken: 16.7405\n",
      "Function value obtained: -0.0472\n",
      "Current minimum: -0.0500\n",
      "Iteration No: 147 started. Searching for the next optimal point.\n",
      "[92, 0.026379320422347086, 196, 0.0007263588759662598]\n"
     ]
    },
    {
     "name": "stderr",
     "output_type": "stream",
     "text": [
      "Epoch: 100%|██████████| 92/92 [00:22<00:00,  4.08it/s]\n"
     ]
    },
    {
     "name": "stdout",
     "output_type": "stream",
     "text": [
      "Iteration No: 147 ended. Search finished for the next optimal point.\n",
      "Time taken: 26.7312\n",
      "Function value obtained: -0.0485\n",
      "Current minimum: -0.0500\n",
      "Iteration No: 148 started. Searching for the next optimal point.\n",
      "[79, 0.06099180241409855, 194, 0.0005777566231029376]\n"
     ]
    },
    {
     "name": "stderr",
     "output_type": "stream",
     "text": [
      "Epoch: 100%|██████████| 79/79 [00:18<00:00,  4.37it/s]\n"
     ]
    },
    {
     "name": "stdout",
     "output_type": "stream",
     "text": [
      "Iteration No: 148 ended. Search finished for the next optimal point.\n",
      "Time taken: 22.0849\n",
      "Function value obtained: -0.0232\n",
      "Current minimum: -0.0500\n",
      "Iteration No: 149 started. Searching for the next optimal point.\n",
      "[53, 0.0884869903402786, 188, 0.0013330391612632407]\n"
     ]
    },
    {
     "name": "stderr",
     "output_type": "stream",
     "text": [
      "Epoch: 100%|██████████| 53/53 [00:13<00:00,  4.02it/s]\n"
     ]
    },
    {
     "name": "stdout",
     "output_type": "stream",
     "text": [
      "Iteration No: 149 ended. Search finished for the next optimal point.\n",
      "Time taken: 17.0591\n",
      "Function value obtained: -0.0259\n",
      "Current minimum: -0.0500\n",
      "Iteration No: 150 started. Searching for the next optimal point.\n",
      "[40, 0.020756985112424426, 199, 0.0013927473436798534]\n"
     ]
    },
    {
     "name": "stderr",
     "output_type": "stream",
     "text": [
      "Epoch: 100%|██████████| 40/40 [00:10<00:00,  3.98it/s]\n"
     ]
    },
    {
     "name": "stdout",
     "output_type": "stream",
     "text": [
      "Iteration No: 150 ended. Search finished for the next optimal point.\n",
      "Time taken: 14.1057\n",
      "Function value obtained: -0.0399\n",
      "Current minimum: -0.0500\n",
      "Iteration No: 151 started. Searching for the next optimal point.\n",
      "[132, 0.1090873168122011, 182, 0.0008259578661465671]\n"
     ]
    },
    {
     "name": "stderr",
     "output_type": "stream",
     "text": [
      "Epoch: 100%|██████████| 132/132 [00:30<00:00,  4.29it/s]\n"
     ]
    },
    {
     "name": "stdout",
     "output_type": "stream",
     "text": [
      "Iteration No: 151 ended. Search finished for the next optimal point.\n",
      "Time taken: 34.4343\n",
      "Function value obtained: -0.0388\n",
      "Current minimum: -0.0500\n",
      "Iteration No: 152 started. Searching for the next optimal point.\n",
      "[88, 0.061956379281583554, 190, 0.0007233843707872719]\n"
     ]
    },
    {
     "name": "stderr",
     "output_type": "stream",
     "text": [
      "Epoch: 100%|██████████| 88/88 [00:20<00:00,  4.28it/s]\n"
     ]
    },
    {
     "name": "stdout",
     "output_type": "stream",
     "text": [
      "Iteration No: 152 ended. Search finished for the next optimal point.\n",
      "Time taken: 24.5402\n",
      "Function value obtained: -0.0359\n",
      "Current minimum: -0.0500\n",
      "Iteration No: 153 started. Searching for the next optimal point.\n",
      "[22, 0.07376073405261103, 200, 0.0013286868186697183]\n"
     ]
    },
    {
     "name": "stderr",
     "output_type": "stream",
     "text": [
      "Epoch: 100%|██████████| 22/22 [00:05<00:00,  3.76it/s]\n"
     ]
    },
    {
     "name": "stdout",
     "output_type": "stream",
     "text": [
      "Iteration No: 153 ended. Search finished for the next optimal point.\n",
      "Time taken: 9.9554\n",
      "Function value obtained: -0.0276\n",
      "Current minimum: -0.0500\n",
      "Iteration No: 154 started. Searching for the next optimal point.\n",
      "[99, 0.07025884938619154, 69, 0.0011748010613608533]\n"
     ]
    },
    {
     "name": "stderr",
     "output_type": "stream",
     "text": [
      "Epoch: 100%|██████████| 99/99 [00:11<00:00,  8.65it/s]\n"
     ]
    },
    {
     "name": "stdout",
     "output_type": "stream",
     "text": [
      "Iteration No: 154 ended. Search finished for the next optimal point.\n",
      "Time taken: 13.1135\n",
      "Function value obtained: -0.0447\n",
      "Current minimum: -0.0500\n",
      "Iteration No: 155 started. Searching for the next optimal point.\n",
      "[216, 0.06128165427544675, 132, 0.0009929968236443302]\n"
     ]
    },
    {
     "name": "stderr",
     "output_type": "stream",
     "text": [
      "Epoch: 100%|██████████| 216/216 [00:34<00:00,  6.30it/s]\n"
     ]
    },
    {
     "name": "stdout",
     "output_type": "stream",
     "text": [
      "Iteration No: 155 ended. Search finished for the next optimal point.\n",
      "Time taken: 37.0208\n",
      "Function value obtained: -0.0493\n",
      "Current minimum: -0.0500\n",
      "Iteration No: 156 started. Searching for the next optimal point.\n",
      "[243, 0.13455844021353983, 167, 0.0009383815055048409]\n"
     ]
    },
    {
     "name": "stderr",
     "output_type": "stream",
     "text": [
      "Epoch: 100%|██████████| 243/243 [00:43<00:00,  5.61it/s]\n"
     ]
    },
    {
     "name": "stdout",
     "output_type": "stream",
     "text": [
      "Iteration No: 156 ended. Search finished for the next optimal point.\n",
      "Time taken: 46.6612\n",
      "Function value obtained: -0.0117\n",
      "Current minimum: -0.0500\n",
      "Iteration No: 157 started. Searching for the next optimal point.\n",
      "[258, 0.02410502007079325, 109, 0.001028578506114059]\n"
     ]
    },
    {
     "name": "stderr",
     "output_type": "stream",
     "text": [
      "Epoch: 100%|██████████| 258/258 [00:35<00:00,  7.35it/s]\n"
     ]
    },
    {
     "name": "stdout",
     "output_type": "stream",
     "text": [
      "Iteration No: 157 ended. Search finished for the next optimal point.\n",
      "Time taken: 37.3746\n",
      "Function value obtained: -0.0473\n",
      "Current minimum: -0.0500\n",
      "Iteration No: 158 started. Searching for the next optimal point.\n",
      "[250, 0.05489768662585542, 165, 0.0010024970478760666]\n"
     ]
    },
    {
     "name": "stderr",
     "output_type": "stream",
     "text": [
      "Epoch: 100%|██████████| 250/250 [00:48<00:00,  5.16it/s]\n"
     ]
    },
    {
     "name": "stdout",
     "output_type": "stream",
     "text": [
      "Iteration No: 158 ended. Search finished for the next optimal point.\n",
      "Time taken: 51.9185\n",
      "Function value obtained: -0.0503\n",
      "Current minimum: -0.0503\n",
      "Iteration No: 159 started. Searching for the next optimal point.\n",
      "[246, 0.045332947995391816, 167, 0.0009566761097957702]\n"
     ]
    },
    {
     "name": "stderr",
     "output_type": "stream",
     "text": [
      "Epoch: 100%|██████████| 246/246 [00:46<00:00,  5.25it/s]\n"
     ]
    },
    {
     "name": "stdout",
     "output_type": "stream",
     "text": [
      "Iteration No: 159 ended. Search finished for the next optimal point.\n",
      "Time taken: 50.0666\n",
      "Function value obtained: -0.0503\n",
      "Current minimum: -0.0503\n",
      "Iteration No: 160 started. Searching for the next optimal point.\n",
      "[247, 0.02591330097374852, 170, 0.0006210944719433205]\n"
     ]
    },
    {
     "name": "stderr",
     "output_type": "stream",
     "text": [
      "Epoch: 100%|██████████| 247/247 [00:45<00:00,  5.48it/s]\n"
     ]
    },
    {
     "name": "stdout",
     "output_type": "stream",
     "text": [
      "Iteration No: 160 ended. Search finished for the next optimal point.\n",
      "Time taken: 48.5811\n",
      "Function value obtained: -0.0377\n",
      "Current minimum: -0.0503\n",
      "Iteration No: 161 started. Searching for the next optimal point.\n",
      "[125, 0.09983826900782551, 168, 0.0014263875512500544]\n"
     ]
    },
    {
     "name": "stderr",
     "output_type": "stream",
     "text": [
      "Epoch: 100%|██████████| 125/125 [00:23<00:00,  5.27it/s]\n"
     ]
    },
    {
     "name": "stdout",
     "output_type": "stream",
     "text": [
      "Iteration No: 161 ended. Search finished for the next optimal point.\n",
      "Time taken: 27.0512\n",
      "Function value obtained: -0.0234\n",
      "Current minimum: -0.0503\n",
      "Iteration No: 162 started. Searching for the next optimal point.\n",
      "[203, 0.05595333645139601, 77, 0.0009415093244091901]\n"
     ]
    },
    {
     "name": "stderr",
     "output_type": "stream",
     "text": [
      "Epoch: 100%|██████████| 203/203 [00:20<00:00,  9.93it/s]\n"
     ]
    },
    {
     "name": "stdout",
     "output_type": "stream",
     "text": [
      "Iteration No: 162 ended. Search finished for the next optimal point.\n",
      "Time taken: 22.2195\n",
      "Function value obtained: -0.0476\n",
      "Current minimum: -0.0503\n",
      "Iteration No: 163 started. Searching for the next optimal point.\n",
      "[239, 0.08797262988187338, 97, 0.0008931513898842259]\n"
     ]
    },
    {
     "name": "stderr",
     "output_type": "stream",
     "text": [
      "Epoch: 100%|██████████| 239/239 [00:29<00:00,  8.05it/s]\n"
     ]
    },
    {
     "name": "stdout",
     "output_type": "stream",
     "text": [
      "Iteration No: 163 ended. Search finished for the next optimal point.\n",
      "Time taken: 31.9577\n",
      "Function value obtained: -0.0461\n",
      "Current minimum: -0.0503\n",
      "Iteration No: 164 started. Searching for the next optimal point.\n",
      "[245, 0.030093771198307, 97, 0.0022244645767092513]\n"
     ]
    },
    {
     "name": "stderr",
     "output_type": "stream",
     "text": [
      "Epoch: 100%|██████████| 245/245 [00:29<00:00,  8.24it/s]\n"
     ]
    },
    {
     "name": "stdout",
     "output_type": "stream",
     "text": [
      "Iteration No: 164 ended. Search finished for the next optimal point.\n",
      "Time taken: 31.9722\n",
      "Function value obtained: -0.0316\n",
      "Current minimum: -0.0503\n",
      "Iteration No: 165 started. Searching for the next optimal point.\n",
      "[250, 0.07929520935844901, 164, 0.0008654813527450113]\n"
     ]
    },
    {
     "name": "stderr",
     "output_type": "stream",
     "text": [
      "Epoch: 100%|██████████| 250/250 [00:46<00:00,  5.42it/s]\n"
     ]
    },
    {
     "name": "stdout",
     "output_type": "stream",
     "text": [
      "Iteration No: 165 ended. Search finished for the next optimal point.\n",
      "Time taken: 49.4187\n",
      "Function value obtained: -0.0426\n",
      "Current minimum: -0.0503\n",
      "Iteration No: 166 started. Searching for the next optimal point.\n",
      "[164, 0.06710678423192198, 117, 0.00023198120061712396]\n"
     ]
    },
    {
     "name": "stderr",
     "output_type": "stream",
     "text": [
      "Epoch: 100%|██████████| 164/164 [00:18<00:00,  8.66it/s]\n"
     ]
    },
    {
     "name": "stdout",
     "output_type": "stream",
     "text": [
      "Iteration No: 166 ended. Search finished for the next optimal point.\n",
      "Time taken: 21.4468\n",
      "Function value obtained: -0.0113\n",
      "Current minimum: -0.0503\n",
      "Iteration No: 167 started. Searching for the next optimal point.\n",
      "[232, 0.06615265978759953, 47, 0.0009449196972269589]\n"
     ]
    },
    {
     "name": "stderr",
     "output_type": "stream",
     "text": [
      "Epoch: 100%|██████████| 232/232 [00:17<00:00, 13.49it/s]\n"
     ]
    },
    {
     "name": "stdout",
     "output_type": "stream",
     "text": [
      "Iteration No: 167 ended. Search finished for the next optimal point.\n",
      "Time taken: 18.4235\n",
      "Function value obtained: -0.0473\n",
      "Current minimum: -0.0503\n",
      "Iteration No: 168 started. Searching for the next optimal point.\n",
      "[209, 0.016062739446415095, 137, 0.0009960016703537394]\n"
     ]
    },
    {
     "name": "stderr",
     "output_type": "stream",
     "text": [
      "Epoch: 100%|██████████| 209/209 [00:33<00:00,  6.22it/s]\n"
     ]
    },
    {
     "name": "stdout",
     "output_type": "stream",
     "text": [
      "Iteration No: 168 ended. Search finished for the next optimal point.\n",
      "Time taken: 36.3671\n",
      "Function value obtained: -0.0450\n",
      "Current minimum: -0.0503\n",
      "Iteration No: 169 started. Searching for the next optimal point.\n",
      "[240, 0.08280293505109958, 121, 0.0007781824108255487]\n"
     ]
    },
    {
     "name": "stderr",
     "output_type": "stream",
     "text": [
      "Epoch: 100%|██████████| 240/240 [00:34<00:00,  6.96it/s]\n"
     ]
    },
    {
     "name": "stdout",
     "output_type": "stream",
     "text": [
      "Iteration No: 169 ended. Search finished for the next optimal point.\n",
      "Time taken: 36.9978\n",
      "Function value obtained: -0.0373\n",
      "Current minimum: -0.0503\n",
      "Iteration No: 170 started. Searching for the next optimal point.\n",
      "[3, 0.06986303077964913, 196, 0.0008922594242334109]\n"
     ]
    },
    {
     "name": "stderr",
     "output_type": "stream",
     "text": [
      "Epoch: 100%|██████████| 3/3 [00:00<00:00,  4.40it/s]\n"
     ]
    },
    {
     "name": "stdout",
     "output_type": "stream",
     "text": [
      "Iteration No: 170 ended. Search finished for the next optimal point.\n",
      "Time taken: 4.6992\n",
      "Function value obtained: -0.0291\n",
      "Current minimum: -0.0503\n",
      "Iteration No: 171 started. Searching for the next optimal point.\n",
      "[244, 0.10219298882049425, 129, 0.0009657478161270835]\n"
     ]
    },
    {
     "name": "stderr",
     "output_type": "stream",
     "text": [
      "Epoch: 100%|██████████| 244/244 [00:51<00:00,  4.75it/s]\n"
     ]
    },
    {
     "name": "stdout",
     "output_type": "stream",
     "text": [
      "Iteration No: 171 ended. Search finished for the next optimal point.\n",
      "Time taken: 54.7717\n",
      "Function value obtained: -0.0400\n",
      "Current minimum: -0.0503\n",
      "Iteration No: 172 started. Searching for the next optimal point.\n",
      "[220, 0.023366599821684948, 200, 0.0006534696899330364]\n"
     ]
    },
    {
     "name": "stderr",
     "output_type": "stream",
     "text": [
      "Epoch: 100%|██████████| 220/220 [00:55<00:00,  3.97it/s]\n"
     ]
    },
    {
     "name": "stdout",
     "output_type": "stream",
     "text": [
      "Iteration No: 172 ended. Search finished for the next optimal point.\n",
      "Time taken: 59.7381\n",
      "Function value obtained: -0.0418\n",
      "Current minimum: -0.0503\n",
      "Iteration No: 173 started. Searching for the next optimal point.\n",
      "[172, 0.0680281159006935, 53, 0.0008795090216034984]\n"
     ]
    },
    {
     "name": "stderr",
     "output_type": "stream",
     "text": [
      "Epoch: 100%|██████████| 172/172 [00:17<00:00,  9.67it/s]\n"
     ]
    },
    {
     "name": "stdout",
     "output_type": "stream",
     "text": [
      "Iteration No: 173 ended. Search finished for the next optimal point.\n",
      "Time taken: 19.1997\n",
      "Function value obtained: -0.0487\n",
      "Current minimum: -0.0503\n",
      "Iteration No: 174 started. Searching for the next optimal point.\n",
      "[42, 0.11848011910055575, 108, 0.0008958649857114485]\n"
     ]
    },
    {
     "name": "stderr",
     "output_type": "stream",
     "text": [
      "Epoch: 100%|██████████| 42/42 [00:06<00:00,  6.24it/s]\n"
     ]
    },
    {
     "name": "stdout",
     "output_type": "stream",
     "text": [
      "Iteration No: 174 ended. Search finished for the next optimal point.\n",
      "Time taken: 9.4785\n",
      "Function value obtained: -0.0184\n",
      "Current minimum: -0.0503\n",
      "Iteration No: 175 started. Searching for the next optimal point.\n",
      "[137, 0.08152156940405118, 61, 0.0010327157592118074]\n"
     ]
    },
    {
     "name": "stderr",
     "output_type": "stream",
     "text": [
      "Epoch: 100%|██████████| 137/137 [00:15<00:00,  8.60it/s]\n"
     ]
    },
    {
     "name": "stdout",
     "output_type": "stream",
     "text": [
      "Iteration No: 175 ended. Search finished for the next optimal point.\n",
      "Time taken: 17.4096\n",
      "Function value obtained: -0.0463\n",
      "Current minimum: -0.0503\n",
      "Iteration No: 176 started. Searching for the next optimal point.\n",
      "[49, 0.07756673396241849, 197, 0.0009090796193191511]\n"
     ]
    },
    {
     "name": "stderr",
     "output_type": "stream",
     "text": [
      "Epoch: 100%|██████████| 49/49 [00:12<00:00,  4.02it/s]\n"
     ]
    },
    {
     "name": "stdout",
     "output_type": "stream",
     "text": [
      "Iteration No: 176 ended. Search finished for the next optimal point.\n",
      "Time taken: 16.2113\n",
      "Function value obtained: -0.0460\n",
      "Current minimum: -0.0503\n",
      "Iteration No: 177 started. Searching for the next optimal point.\n",
      "[175, 0.06392402784405404, 122, 0.0007177973135355307]\n"
     ]
    },
    {
     "name": "stderr",
     "output_type": "stream",
     "text": [
      "Epoch: 100%|██████████| 175/175 [00:30<00:00,  5.68it/s]\n"
     ]
    },
    {
     "name": "stdout",
     "output_type": "stream",
     "text": [
      "Iteration No: 177 ended. Search finished for the next optimal point.\n",
      "Time taken: 33.5183\n",
      "Function value obtained: -0.0342\n",
      "Current minimum: -0.0503\n",
      "Iteration No: 178 started. Searching for the next optimal point.\n",
      "[36, 0.0769124995946762, 158, 0.0008826544036660952]\n"
     ]
    },
    {
     "name": "stderr",
     "output_type": "stream",
     "text": [
      "Epoch: 100%|██████████| 36/36 [00:07<00:00,  4.68it/s]\n"
     ]
    },
    {
     "name": "stdout",
     "output_type": "stream",
     "text": [
      "Iteration No: 178 ended. Search finished for the next optimal point.\n",
      "Time taken: 11.0647\n",
      "Function value obtained: -0.0433\n",
      "Current minimum: -0.0503\n",
      "Iteration No: 179 started. Searching for the next optimal point.\n",
      "[236, 0.0073346287132682545, 178, 0.0009774810311154658]\n"
     ]
    },
    {
     "name": "stderr",
     "output_type": "stream",
     "text": [
      "Epoch: 100%|██████████| 236/236 [00:54<00:00,  4.36it/s]\n"
     ]
    },
    {
     "name": "stdout",
     "output_type": "stream",
     "text": [
      "Iteration No: 179 ended. Search finished for the next optimal point.\n",
      "Time taken: 57.8204\n",
      "Function value obtained: -0.0384\n",
      "Current minimum: -0.0503\n",
      "Iteration No: 180 started. Searching for the next optimal point.\n",
      "[58, 0.03267290750961279, 194, 0.0004392683076355188]\n"
     ]
    },
    {
     "name": "stderr",
     "output_type": "stream",
     "text": [
      "Epoch: 100%|██████████| 58/58 [00:14<00:00,  4.11it/s]\n"
     ]
    },
    {
     "name": "stdout",
     "output_type": "stream",
     "text": [
      "Iteration No: 180 ended. Search finished for the next optimal point.\n",
      "Time taken: 18.1925\n",
      "Function value obtained: -0.0350\n",
      "Current minimum: -0.0503\n",
      "Iteration No: 181 started. Searching for the next optimal point.\n",
      "[119, 0.08027301054468129, 25, 0.0012281422333515158]\n"
     ]
    },
    {
     "name": "stderr",
     "output_type": "stream",
     "text": [
      "Epoch: 100%|██████████| 119/119 [00:08<00:00, 14.87it/s]\n"
     ]
    },
    {
     "name": "stdout",
     "output_type": "stream",
     "text": [
      "Iteration No: 181 ended. Search finished for the next optimal point.\n",
      "Time taken: 8.8540\n",
      "Function value obtained: -0.0422\n",
      "Current minimum: -0.0503\n",
      "Iteration No: 182 started. Searching for the next optimal point.\n",
      "[226, 0.10843393830947558, 114, 0.0009257903446513452]\n"
     ]
    },
    {
     "name": "stderr",
     "output_type": "stream",
     "text": [
      "Epoch: 100%|██████████| 226/226 [00:39<00:00,  5.72it/s]\n"
     ]
    },
    {
     "name": "stdout",
     "output_type": "stream",
     "text": [
      "Iteration No: 182 ended. Search finished for the next optimal point.\n",
      "Time taken: 42.1268\n",
      "Function value obtained: -0.0400\n",
      "Current minimum: -0.0503\n",
      "Iteration No: 183 started. Searching for the next optimal point.\n",
      "[217, 0.08644621503652448, 77, 0.0005814468342571733]\n"
     ]
    },
    {
     "name": "stderr",
     "output_type": "stream",
     "text": [
      "Epoch: 100%|██████████| 217/217 [00:24<00:00,  8.76it/s]\n"
     ]
    },
    {
     "name": "stdout",
     "output_type": "stream",
     "text": [
      "Iteration No: 183 ended. Search finished for the next optimal point.\n",
      "Time taken: 26.5325\n",
      "Function value obtained: -0.0299\n",
      "Current minimum: -0.0503\n",
      "Iteration No: 184 started. Searching for the next optimal point.\n",
      "[67, 0.0814503384868772, 198, 0.0008400361629594471]\n"
     ]
    },
    {
     "name": "stderr",
     "output_type": "stream",
     "text": [
      "Epoch: 100%|██████████| 67/67 [00:16<00:00,  4.09it/s]\n"
     ]
    },
    {
     "name": "stdout",
     "output_type": "stream",
     "text": [
      "Iteration No: 184 ended. Search finished for the next optimal point.\n",
      "Time taken: 20.4286\n",
      "Function value obtained: -0.0435\n",
      "Current minimum: -0.0503\n",
      "Iteration No: 185 started. Searching for the next optimal point.\n",
      "[44, 0.06903302857524204, 97, 0.0010489158713730263]\n"
     ]
    },
    {
     "name": "stderr",
     "output_type": "stream",
     "text": [
      "Epoch: 100%|██████████| 44/44 [00:06<00:00,  7.21it/s]\n"
     ]
    },
    {
     "name": "stdout",
     "output_type": "stream",
     "text": [
      "Iteration No: 185 ended. Search finished for the next optimal point.\n",
      "Time taken: 8.2921\n",
      "Function value obtained: -0.0434\n",
      "Current minimum: -0.0503\n",
      "Iteration No: 186 started. Searching for the next optimal point.\n",
      "[237, 0.11874357501515943, 116, 0.0009140007756018107]\n"
     ]
    },
    {
     "name": "stderr",
     "output_type": "stream",
     "text": [
      "Epoch: 100%|██████████| 237/237 [00:37<00:00,  6.33it/s]\n"
     ]
    },
    {
     "name": "stdout",
     "output_type": "stream",
     "text": [
      "Iteration No: 186 ended. Search finished for the next optimal point.\n",
      "Time taken: 39.9871\n",
      "Function value obtained: -0.0343\n",
      "Current minimum: -0.0503\n",
      "Iteration No: 187 started. Searching for the next optimal point.\n",
      "[115, 0.11100551439922306, 21, 0.0013051409210265432]\n"
     ]
    },
    {
     "name": "stderr",
     "output_type": "stream",
     "text": [
      "Epoch: 100%|██████████| 115/115 [00:06<00:00, 19.00it/s]\n"
     ]
    },
    {
     "name": "stdout",
     "output_type": "stream",
     "text": [
      "Iteration No: 187 ended. Search finished for the next optimal point.\n",
      "Time taken: 6.8167\n",
      "Function value obtained: -0.0272\n",
      "Current minimum: -0.0503\n",
      "Iteration No: 188 started. Searching for the next optimal point.\n",
      "[98, 0.12612570600690584, 190, 0.0007958956375623188]\n"
     ]
    },
    {
     "name": "stderr",
     "output_type": "stream",
     "text": [
      "Epoch: 100%|██████████| 98/98 [00:22<00:00,  4.36it/s]\n"
     ]
    },
    {
     "name": "stdout",
     "output_type": "stream",
     "text": [
      "Iteration No: 188 ended. Search finished for the next optimal point.\n",
      "Time taken: 26.3396\n",
      "Function value obtained: -0.0121\n",
      "Current minimum: -0.0503\n",
      "Iteration No: 189 started. Searching for the next optimal point.\n",
      "[166, 0.10452639331505265, 198, 0.001017180915753428]\n"
     ]
    },
    {
     "name": "stderr",
     "output_type": "stream",
     "text": [
      "Epoch: 100%|██████████| 166/166 [00:41<00:00,  4.03it/s]\n"
     ]
    },
    {
     "name": "stdout",
     "output_type": "stream",
     "text": [
      "Iteration No: 189 ended. Search finished for the next optimal point.\n",
      "Time taken: 45.2883\n",
      "Function value obtained: -0.0331\n",
      "Current minimum: -0.0503\n",
      "Iteration No: 190 started. Searching for the next optimal point.\n",
      "[175, 0.06262158337594426, 115, 0.0012765806586263987]\n"
     ]
    },
    {
     "name": "stderr",
     "output_type": "stream",
     "text": [
      "Epoch: 100%|██████████| 175/175 [00:30<00:00,  5.66it/s]\n"
     ]
    },
    {
     "name": "stdout",
     "output_type": "stream",
     "text": [
      "Iteration No: 190 ended. Search finished for the next optimal point.\n",
      "Time taken: 33.6669\n",
      "Function value obtained: -0.0450\n",
      "Current minimum: -0.0503\n",
      "Iteration No: 191 started. Searching for the next optimal point.\n",
      "[167, 0.06590131498829707, 102, 0.0008228213600935894]\n"
     ]
    },
    {
     "name": "stderr",
     "output_type": "stream",
     "text": [
      "Epoch: 100%|██████████| 167/167 [00:24<00:00,  6.80it/s]\n"
     ]
    },
    {
     "name": "stdout",
     "output_type": "stream",
     "text": [
      "Iteration No: 191 ended. Search finished for the next optimal point.\n",
      "Time taken: 26.9165\n",
      "Function value obtained: -0.0435\n",
      "Current minimum: -0.0503\n",
      "Iteration No: 192 started. Searching for the next optimal point.\n",
      "[36, 0.07165331660311654, 101, 0.0012477415503607573]\n"
     ]
    },
    {
     "name": "stderr",
     "output_type": "stream",
     "text": [
      "Epoch: 100%|██████████| 36/36 [00:05<00:00,  6.53it/s]\n"
     ]
    },
    {
     "name": "stdout",
     "output_type": "stream",
     "text": [
      "Iteration No: 192 ended. Search finished for the next optimal point.\n",
      "Time taken: 7.8534\n",
      "Function value obtained: -0.0364\n",
      "Current minimum: -0.0503\n",
      "Iteration No: 193 started. Searching for the next optimal point.\n",
      "[216, 0.03815962559673969, 115, 0.00023511889750724187]\n"
     ]
    },
    {
     "name": "stderr",
     "output_type": "stream",
     "text": [
      "Epoch: 100%|██████████| 216/216 [00:30<00:00,  6.98it/s]\n"
     ]
    },
    {
     "name": "stdout",
     "output_type": "stream",
     "text": [
      "Iteration No: 193 ended. Search finished for the next optimal point.\n",
      "Time taken: 33.6629\n",
      "Function value obtained: -0.0169\n",
      "Current minimum: -0.0503\n",
      "Iteration No: 194 started. Searching for the next optimal point.\n",
      "[70, 0.05308170462989967, 189, 0.0007872473052975226]\n"
     ]
    },
    {
     "name": "stderr",
     "output_type": "stream",
     "text": [
      "Epoch: 100%|██████████| 70/70 [00:16<00:00,  4.34it/s]\n"
     ]
    },
    {
     "name": "stdout",
     "output_type": "stream",
     "text": [
      "Iteration No: 194 ended. Search finished for the next optimal point.\n",
      "Time taken: 19.9566\n",
      "Function value obtained: -0.0450\n",
      "Current minimum: -0.0503\n",
      "Iteration No: 195 started. Searching for the next optimal point.\n",
      "[124, 0.009426661047230406, 138, 0.001024424734856454]\n"
     ]
    },
    {
     "name": "stderr",
     "output_type": "stream",
     "text": [
      "Epoch: 100%|██████████| 124/124 [00:23<00:00,  5.35it/s]\n"
     ]
    },
    {
     "name": "stdout",
     "output_type": "stream",
     "text": [
      "Iteration No: 195 ended. Search finished for the next optimal point.\n",
      "Time taken: 26.1511\n",
      "Function value obtained: -0.0353\n",
      "Current minimum: -0.0503\n",
      "Iteration No: 196 started. Searching for the next optimal point.\n",
      "[81, 0.10311647983473561, 184, 0.000789583193006117]\n"
     ]
    },
    {
     "name": "stderr",
     "output_type": "stream",
     "text": [
      "Epoch: 100%|██████████| 81/81 [00:19<00:00,  4.13it/s]\n"
     ]
    },
    {
     "name": "stdout",
     "output_type": "stream",
     "text": [
      "Iteration No: 196 ended. Search finished for the next optimal point.\n",
      "Time taken: 23.6821\n",
      "Function value obtained: -0.0369\n",
      "Current minimum: -0.0503\n",
      "Iteration No: 197 started. Searching for the next optimal point.\n",
      "[223, 0.0640923033431959, 150, 0.0010139453855731392]\n"
     ]
    },
    {
     "name": "stderr",
     "output_type": "stream",
     "text": [
      "Epoch: 100%|██████████| 223/223 [00:47<00:00,  4.72it/s]\n"
     ]
    },
    {
     "name": "stdout",
     "output_type": "stream",
     "text": [
      "Iteration No: 197 ended. Search finished for the next optimal point.\n",
      "Time taken: 50.6323\n",
      "Function value obtained: -0.0487\n",
      "Current minimum: -0.0503\n",
      "Iteration No: 198 started. Searching for the next optimal point.\n",
      "[40, 0.09986929367650516, 152, 0.0008350847635938896]\n"
     ]
    },
    {
     "name": "stderr",
     "output_type": "stream",
     "text": [
      "Epoch: 100%|██████████| 40/40 [00:08<00:00,  4.90it/s]\n"
     ]
    },
    {
     "name": "stdout",
     "output_type": "stream",
     "text": [
      "Iteration No: 198 ended. Search finished for the next optimal point.\n",
      "Time taken: 11.8191\n",
      "Function value obtained: -0.0361\n",
      "Current minimum: -0.0503\n",
      "Iteration No: 199 started. Searching for the next optimal point.\n",
      "[47, 0.1067227595811085, 200, 0.001009283969217101]\n"
     ]
    },
    {
     "name": "stderr",
     "output_type": "stream",
     "text": [
      "Epoch: 100%|██████████| 47/47 [00:12<00:00,  3.90it/s]\n"
     ]
    },
    {
     "name": "stdout",
     "output_type": "stream",
     "text": [
      "Iteration No: 199 ended. Search finished for the next optimal point.\n",
      "Time taken: 16.3785\n",
      "Function value obtained: -0.0187\n",
      "Current minimum: -0.0503\n",
      "Iteration No: 200 started. Searching for the next optimal point.\n",
      "[207, 0.015265246301560625, 28, 0.0009390354561219561]\n"
     ]
    },
    {
     "name": "stderr",
     "output_type": "stream",
     "text": [
      "Epoch: 100%|██████████| 207/207 [00:14<00:00, 14.01it/s]\n"
     ]
    },
    {
     "name": "stdout",
     "output_type": "stream",
     "text": [
      "Iteration No: 200 ended. Search finished for the next optimal point.\n",
      "Time taken: 15.6908\n",
      "Function value obtained: -0.0374\n",
      "Current minimum: -0.0503\n",
      "Iteration No: 201 started. Searching for the next optimal point.\n",
      "[253, 0.09459958849047961, 22, 0.0009303046462502356]\n"
     ]
    },
    {
     "name": "stderr",
     "output_type": "stream",
     "text": [
      "Epoch: 100%|██████████| 253/253 [00:15<00:00, 15.88it/s]\n"
     ]
    },
    {
     "name": "stdout",
     "output_type": "stream",
     "text": [
      "Iteration No: 201 ended. Search finished for the next optimal point.\n",
      "Time taken: 16.7347\n",
      "Function value obtained: -0.0445\n",
      "Current minimum: -0.0503\n",
      "Iteration No: 202 started. Searching for the next optimal point.\n",
      "[156, 0.08910175533943457, 57, 0.0008410986935197943]\n"
     ]
    },
    {
     "name": "stderr",
     "output_type": "stream",
     "text": [
      "Epoch: 100%|██████████| 156/156 [00:16<00:00,  9.62it/s]\n"
     ]
    },
    {
     "name": "stdout",
     "output_type": "stream",
     "text": [
      "Iteration No: 202 ended. Search finished for the next optimal point.\n",
      "Time taken: 17.6673\n",
      "Function value obtained: -0.0429\n",
      "Current minimum: -0.0503\n",
      "Iteration No: 203 started. Searching for the next optimal point.\n",
      "[231, 0.03581043254298799, 142, 0.0009701260154286028]\n"
     ]
    },
    {
     "name": "stderr",
     "output_type": "stream",
     "text": [
      "Epoch: 100%|██████████| 231/231 [00:45<00:00,  5.11it/s]\n"
     ]
    },
    {
     "name": "stdout",
     "output_type": "stream",
     "text": [
      "Iteration No: 203 ended. Search finished for the next optimal point.\n",
      "Time taken: 48.2343\n",
      "Function value obtained: -0.0493\n",
      "Current minimum: -0.0503\n",
      "Iteration No: 204 started. Searching for the next optimal point.\n",
      "[207, 0.03622806680932571, 167, 0.0009625684959030416]\n"
     ]
    },
    {
     "name": "stderr",
     "output_type": "stream",
     "text": [
      "Epoch: 100%|██████████| 207/207 [00:46<00:00,  4.47it/s]\n"
     ]
    },
    {
     "name": "stdout",
     "output_type": "stream",
     "text": [
      "Iteration No: 204 ended. Search finished for the next optimal point.\n",
      "Time taken: 49.7932\n",
      "Function value obtained: -0.0498\n",
      "Current minimum: -0.0503\n",
      "Iteration No: 205 started. Searching for the next optimal point.\n",
      "[152, 0.07170174398056053, 22, 0.0009755187552785785]\n"
     ]
    },
    {
     "name": "stderr",
     "output_type": "stream",
     "text": [
      "Epoch: 100%|██████████| 152/152 [00:09<00:00, 16.43it/s]\n"
     ]
    },
    {
     "name": "stdout",
     "output_type": "stream",
     "text": [
      "Iteration No: 205 ended. Search finished for the next optimal point.\n",
      "Time taken: 10.0463\n",
      "Function value obtained: -0.0452\n",
      "Current minimum: -0.0503\n",
      "Iteration No: 206 started. Searching for the next optimal point.\n",
      "[243, 0.05971281581246572, 182, 0.0012324223170326147]\n"
     ]
    },
    {
     "name": "stderr",
     "output_type": "stream",
     "text": [
      "Epoch: 100%|██████████| 243/243 [00:57<00:00,  4.20it/s]\n"
     ]
    },
    {
     "name": "stdout",
     "output_type": "stream",
     "text": [
      "Iteration No: 206 ended. Search finished for the next optimal point.\n",
      "Time taken: 61.7111\n",
      "Function value obtained: -0.0461\n",
      "Current minimum: -0.0503\n",
      "Iteration No: 207 started. Searching for the next optimal point.\n",
      "[52, 0.07137880836578545, 69, 0.0009579552455567275]\n"
     ]
    },
    {
     "name": "stderr",
     "output_type": "stream",
     "text": [
      "Epoch: 100%|██████████| 52/52 [00:06<00:00,  8.52it/s]\n"
     ]
    },
    {
     "name": "stdout",
     "output_type": "stream",
     "text": [
      "Iteration No: 207 ended. Search finished for the next optimal point.\n",
      "Time taken: 7.7297\n",
      "Function value obtained: -0.0442\n",
      "Current minimum: -0.0503\n",
      "Iteration No: 208 started. Searching for the next optimal point.\n",
      "[226, 0.06673246611380061, 158, 0.0008900953973066711]\n"
     ]
    },
    {
     "name": "stderr",
     "output_type": "stream",
     "text": [
      "Epoch: 100%|██████████| 226/226 [00:45<00:00,  4.94it/s]\n"
     ]
    },
    {
     "name": "stdout",
     "output_type": "stream",
     "text": [
      "Iteration No: 208 ended. Search finished for the next optimal point.\n",
      "Time taken: 49.1889\n",
      "Function value obtained: -0.0462\n",
      "Current minimum: -0.0503\n",
      "Iteration No: 209 started. Searching for the next optimal point.\n",
      "[246, 0.03638647717086802, 162, 0.0005608917275631545]\n"
     ]
    },
    {
     "name": "stderr",
     "output_type": "stream",
     "text": [
      "Epoch: 100%|██████████| 246/246 [00:53<00:00,  4.64it/s]\n"
     ]
    },
    {
     "name": "stdout",
     "output_type": "stream",
     "text": [
      "Iteration No: 209 ended. Search finished for the next optimal point.\n",
      "Time taken: 56.6147\n",
      "Function value obtained: -0.0223\n",
      "Current minimum: -0.0503\n",
      "Iteration No: 210 started. Searching for the next optimal point.\n",
      "[118, 0.07876483968298043, 82, 0.001272182379816463]\n"
     ]
    },
    {
     "name": "stderr",
     "output_type": "stream",
     "text": [
      "Epoch: 100%|██████████| 118/118 [00:17<00:00,  6.62it/s]\n"
     ]
    },
    {
     "name": "stdout",
     "output_type": "stream",
     "text": [
      "Iteration No: 210 ended. Search finished for the next optimal point.\n",
      "Time taken: 20.0593\n",
      "Function value obtained: -0.0369\n",
      "Current minimum: -0.0503\n",
      "Iteration No: 211 started. Searching for the next optimal point.\n",
      "[226, 0.047854853196609745, 184, 0.0010768419058143424]\n"
     ]
    },
    {
     "name": "stderr",
     "output_type": "stream",
     "text": [
      "Epoch: 100%|██████████| 226/226 [01:02<00:00,  3.63it/s]\n"
     ]
    },
    {
     "name": "stdout",
     "output_type": "stream",
     "text": [
      "Iteration No: 211 ended. Search finished for the next optimal point.\n",
      "Time taken: 66.2069\n",
      "Function value obtained: -0.0492\n",
      "Current minimum: -0.0503\n",
      "Iteration No: 212 started. Searching for the next optimal point.\n",
      "[256, 0.0850878944237131, 189, 0.0007833087530674908]\n"
     ]
    },
    {
     "name": "stderr",
     "output_type": "stream",
     "text": [
      "Epoch: 100%|██████████| 256/256 [01:11<00:00,  3.58it/s]\n"
     ]
    },
    {
     "name": "stdout",
     "output_type": "stream",
     "text": [
      "Iteration No: 212 ended. Search finished for the next optimal point.\n",
      "Time taken: 75.9396\n",
      "Function value obtained: -0.0340\n",
      "Current minimum: -0.0503\n",
      "Iteration No: 213 started. Searching for the next optimal point.\n",
      "[54, 0.0630806040127148, 67, 0.0009345125632548827]\n"
     ]
    },
    {
     "name": "stderr",
     "output_type": "stream",
     "text": [
      "Epoch: 100%|██████████| 54/54 [00:07<00:00,  7.41it/s]\n"
     ]
    },
    {
     "name": "stdout",
     "output_type": "stream",
     "text": [
      "Iteration No: 213 ended. Search finished for the next optimal point.\n",
      "Time taken: 9.0546\n",
      "Function value obtained: -0.0465\n",
      "Current minimum: -0.0503\n",
      "Iteration No: 214 started. Searching for the next optimal point.\n",
      "[241, 0.13536716321292452, 70, 0.0009507544050957906]\n"
     ]
    },
    {
     "name": "stderr",
     "output_type": "stream",
     "text": [
      "Epoch: 100%|██████████| 241/241 [00:33<00:00,  7.25it/s]\n"
     ]
    },
    {
     "name": "stdout",
     "output_type": "stream",
     "text": [
      "Iteration No: 214 ended. Search finished for the next optimal point.\n",
      "Time taken: 34.9236\n",
      "Function value obtained: -0.0285\n",
      "Current minimum: -0.0503\n",
      "Iteration No: 215 started. Searching for the next optimal point.\n",
      "[216, 0.04333160152715754, 179, 0.0009270126631194884]\n"
     ]
    },
    {
     "name": "stderr",
     "output_type": "stream",
     "text": [
      "Epoch: 100%|██████████| 216/216 [00:53<00:00,  4.05it/s]\n"
     ]
    },
    {
     "name": "stdout",
     "output_type": "stream",
     "text": [
      "Iteration No: 215 ended. Search finished for the next optimal point.\n",
      "Time taken: 57.0228\n",
      "Function value obtained: -0.0494\n",
      "Current minimum: -0.0503\n",
      "Iteration No: 216 started. Searching for the next optimal point.\n",
      "[56, 0.10138437901710051, 35, 0.0008673215053613299]\n"
     ]
    },
    {
     "name": "stderr",
     "output_type": "stream",
     "text": [
      "Epoch: 100%|██████████| 56/56 [00:04<00:00, 13.46it/s]\n"
     ]
    },
    {
     "name": "stdout",
     "output_type": "stream",
     "text": [
      "Iteration No: 216 ended. Search finished for the next optimal point.\n",
      "Time taken: 5.2553\n",
      "Function value obtained: -0.0386\n",
      "Current minimum: -0.0503\n",
      "Iteration No: 217 started. Searching for the next optimal point.\n",
      "[250, 0.04446410350466057, 189, 0.0008253107535754601]\n"
     ]
    },
    {
     "name": "stderr",
     "output_type": "stream",
     "text": [
      "Epoch: 100%|██████████| 250/250 [00:59<00:00,  4.22it/s]\n"
     ]
    },
    {
     "name": "stdout",
     "output_type": "stream",
     "text": [
      "Iteration No: 217 ended. Search finished for the next optimal point.\n",
      "Time taken: 63.2954\n",
      "Function value obtained: -0.0400\n",
      "Current minimum: -0.0503\n",
      "Iteration No: 218 started. Searching for the next optimal point.\n",
      "[225, 0.12300520503786824, 165, 0.0008683261881527596]\n"
     ]
    },
    {
     "name": "stderr",
     "output_type": "stream",
     "text": [
      "Epoch: 100%|██████████| 225/225 [00:51<00:00,  4.37it/s]\n"
     ]
    },
    {
     "name": "stdout",
     "output_type": "stream",
     "text": [
      "Iteration No: 218 ended. Search finished for the next optimal point.\n",
      "Time taken: 55.0125\n",
      "Function value obtained: -0.0295\n",
      "Current minimum: -0.0503\n",
      "Iteration No: 219 started. Searching for the next optimal point.\n",
      "[152, 0.12570331418027111, 93, 0.0009468297860576458]\n"
     ]
    },
    {
     "name": "stderr",
     "output_type": "stream",
     "text": [
      "Epoch: 100%|██████████| 152/152 [00:20<00:00,  7.27it/s]\n"
     ]
    },
    {
     "name": "stdout",
     "output_type": "stream",
     "text": [
      "Iteration No: 219 ended. Search finished for the next optimal point.\n",
      "Time taken: 23.1326\n",
      "Function value obtained: -0.0309\n",
      "Current minimum: -0.0503\n",
      "Iteration No: 220 started. Searching for the next optimal point.\n",
      "[46, 0.08148783585881768, 199, 0.0009558621991303072]\n"
     ]
    },
    {
     "name": "stderr",
     "output_type": "stream",
     "text": [
      "Epoch: 100%|██████████| 46/46 [00:12<00:00,  3.81it/s]\n"
     ]
    },
    {
     "name": "stdout",
     "output_type": "stream",
     "text": [
      "Iteration No: 220 ended. Search finished for the next optimal point.\n",
      "Time taken: 16.1742\n",
      "Function value obtained: -0.0395\n",
      "Current minimum: -0.0503\n",
      "Iteration No: 221 started. Searching for the next optimal point.\n",
      "[247, 0.024945159189244313, 195, 0.0009654462109161177]\n"
     ]
    },
    {
     "name": "stderr",
     "output_type": "stream",
     "text": [
      "Epoch: 100%|██████████| 247/247 [01:03<00:00,  3.87it/s]\n"
     ]
    },
    {
     "name": "stdout",
     "output_type": "stream",
     "text": [
      "Iteration No: 221 ended. Search finished for the next optimal point.\n",
      "Time taken: 68.2623\n",
      "Function value obtained: -0.0496\n",
      "Current minimum: -0.0503\n",
      "Iteration No: 222 started. Searching for the next optimal point.\n",
      "[35, 0.056969465454521605, 83, 0.0010715070042191205]\n"
     ]
    },
    {
     "name": "stderr",
     "output_type": "stream",
     "text": [
      "Epoch: 100%|██████████| 35/35 [00:05<00:00,  6.73it/s]\n"
     ]
    },
    {
     "name": "stdout",
     "output_type": "stream",
     "text": [
      "Iteration No: 222 ended. Search finished for the next optimal point.\n",
      "Time taken: 7.1433\n",
      "Function value obtained: -0.0451\n",
      "Current minimum: -0.0503\n",
      "Iteration No: 223 started. Searching for the next optimal point.\n",
      "[208, 0.049754352931884106, 147, 0.0013260793940914474]\n"
     ]
    },
    {
     "name": "stderr",
     "output_type": "stream",
     "text": [
      "Epoch: 100%|██████████| 208/208 [00:47<00:00,  4.36it/s]\n"
     ]
    },
    {
     "name": "stdout",
     "output_type": "stream",
     "text": [
      "Iteration No: 223 ended. Search finished for the next optimal point.\n",
      "Time taken: 51.2523\n",
      "Function value obtained: -0.0447\n",
      "Current minimum: -0.0503\n",
      "Iteration No: 224 started. Searching for the next optimal point.\n",
      "[29, 0.07713596177970865, 22, 0.0009881451277392675]\n"
     ]
    },
    {
     "name": "stderr",
     "output_type": "stream",
     "text": [
      "Epoch: 100%|██████████| 29/29 [00:02<00:00, 13.47it/s]\n"
     ]
    },
    {
     "name": "stdout",
     "output_type": "stream",
     "text": [
      "Iteration No: 224 ended. Search finished for the next optimal point.\n",
      "Time taken: 3.0775\n",
      "Function value obtained: -0.0410\n",
      "Current minimum: -0.0503\n",
      "Iteration No: 225 started. Searching for the next optimal point.\n",
      "[5, 0.03463110814895712, 124, 0.0009693254428001226]\n"
     ]
    },
    {
     "name": "stderr",
     "output_type": "stream",
     "text": [
      "Epoch: 100%|██████████| 5/5 [00:00<00:00,  5.18it/s]\n"
     ]
    },
    {
     "name": "stdout",
     "output_type": "stream",
     "text": [
      "Iteration No: 225 ended. Search finished for the next optimal point.\n",
      "Time taken: 3.8904\n",
      "Function value obtained: -0.0339\n",
      "Current minimum: -0.0503\n",
      "Iteration No: 226 started. Searching for the next optimal point.\n",
      "[216, 0.03175548206167581, 77, 0.0008391306383354214]\n"
     ]
    },
    {
     "name": "stderr",
     "output_type": "stream",
     "text": [
      "Epoch: 100%|██████████| 216/216 [00:30<00:00,  6.99it/s]\n"
     ]
    },
    {
     "name": "stdout",
     "output_type": "stream",
     "text": [
      "Iteration No: 226 ended. Search finished for the next optimal point.\n",
      "Time taken: 32.6773\n",
      "Function value obtained: -0.0483\n",
      "Current minimum: -0.0503\n",
      "Iteration No: 227 started. Searching for the next optimal point.\n",
      "[154, 0.071275742606353, 22, 0.00036954637543123515]\n"
     ]
    },
    {
     "name": "stderr",
     "output_type": "stream",
     "text": [
      "Epoch: 100%|██████████| 154/154 [00:12<00:00, 12.53it/s]\n"
     ]
    },
    {
     "name": "stdout",
     "output_type": "stream",
     "text": [
      "Iteration No: 227 ended. Search finished for the next optimal point.\n",
      "Time taken: 13.1142\n",
      "Function value obtained: -0.0348\n",
      "Current minimum: -0.0503\n",
      "Iteration No: 228 started. Searching for the next optimal point.\n",
      "[224, 0.07042031514134112, 198, 0.001328965129720211]\n"
     ]
    },
    {
     "name": "stderr",
     "output_type": "stream",
     "text": [
      "Epoch: 100%|██████████| 224/224 [01:02<00:00,  3.59it/s]\n"
     ]
    },
    {
     "name": "stdout",
     "output_type": "stream",
     "text": [
      "Iteration No: 228 ended. Search finished for the next optimal point.\n",
      "Time taken: 66.6796\n",
      "Function value obtained: -0.0417\n",
      "Current minimum: -0.0503\n",
      "Iteration No: 229 started. Searching for the next optimal point.\n",
      "[198, 0.07372805362650395, 164, 0.001290569722015914]\n"
     ]
    },
    {
     "name": "stderr",
     "output_type": "stream",
     "text": [
      "Epoch: 100%|██████████| 198/198 [00:50<00:00,  3.94it/s]\n"
     ]
    },
    {
     "name": "stdout",
     "output_type": "stream",
     "text": [
      "Iteration No: 229 ended. Search finished for the next optimal point.\n",
      "Time taken: 54.1064\n",
      "Function value obtained: -0.0419\n",
      "Current minimum: -0.0503\n",
      "Iteration No: 230 started. Searching for the next optimal point.\n",
      "[254, 0.06168974167025431, 167, 0.0010054740743900864]\n"
     ]
    },
    {
     "name": "stderr",
     "output_type": "stream",
     "text": [
      "Epoch: 100%|██████████| 254/254 [00:59<00:00,  4.29it/s]\n"
     ]
    },
    {
     "name": "stdout",
     "output_type": "stream",
     "text": [
      "Iteration No: 230 ended. Search finished for the next optimal point.\n",
      "Time taken: 62.8831\n",
      "Function value obtained: -0.0499\n",
      "Current minimum: -0.0503\n",
      "Iteration No: 231 started. Searching for the next optimal point.\n",
      "[218, 0.046459523581718364, 99, 0.0006967983881517696]\n"
     ]
    },
    {
     "name": "stderr",
     "output_type": "stream",
     "text": [
      "Epoch: 100%|██████████| 218/218 [00:37<00:00,  5.83it/s]\n"
     ]
    },
    {
     "name": "stdout",
     "output_type": "stream",
     "text": [
      "Iteration No: 231 ended. Search finished for the next optimal point.\n",
      "Time taken: 39.9711\n",
      "Function value obtained: -0.0370\n",
      "Current minimum: -0.0503\n",
      "Iteration No: 232 started. Searching for the next optimal point.\n",
      "[225, 0.05601301274876489, 161, 0.0010646063394400647]\n"
     ]
    },
    {
     "name": "stderr",
     "output_type": "stream",
     "text": [
      "Epoch: 100%|██████████| 225/225 [00:51<00:00,  4.35it/s]\n"
     ]
    },
    {
     "name": "stdout",
     "output_type": "stream",
     "text": [
      "Iteration No: 232 ended. Search finished for the next optimal point.\n",
      "Time taken: 54.9938\n",
      "Function value obtained: -0.0496\n",
      "Current minimum: -0.0503\n",
      "Iteration No: 233 started. Searching for the next optimal point.\n",
      "[47, 0.05570822199577392, 90, 0.0013498248244263491]\n"
     ]
    },
    {
     "name": "stderr",
     "output_type": "stream",
     "text": [
      "Epoch: 100%|██████████| 47/47 [00:07<00:00,  6.36it/s]\n"
     ]
    },
    {
     "name": "stdout",
     "output_type": "stream",
     "text": [
      "Iteration No: 233 ended. Search finished for the next optimal point.\n",
      "Time taken: 9.7201\n",
      "Function value obtained: -0.0409\n",
      "Current minimum: -0.0503\n",
      "Iteration No: 234 started. Searching for the next optimal point.\n",
      "[213, 0.03839043828478444, 139, 0.000946331637757244]\n"
     ]
    },
    {
     "name": "stderr",
     "output_type": "stream",
     "text": [
      "Epoch: 100%|██████████| 213/213 [00:45<00:00,  4.68it/s]\n"
     ]
    },
    {
     "name": "stdout",
     "output_type": "stream",
     "text": [
      "Iteration No: 234 ended. Search finished for the next optimal point.\n",
      "Time taken: 49.5223\n",
      "Function value obtained: -0.0492\n",
      "Current minimum: -0.0503\n",
      "Iteration No: 235 started. Searching for the next optimal point.\n",
      "[78, 0.13451013440450907, 53, 0.0008908779930284532]\n"
     ]
    },
    {
     "name": "stderr",
     "output_type": "stream",
     "text": [
      "Epoch: 100%|██████████| 78/78 [00:07<00:00, 10.36it/s]\n"
     ]
    },
    {
     "name": "stdout",
     "output_type": "stream",
     "text": [
      "Iteration No: 235 ended. Search finished for the next optimal point.\n",
      "Time taken: 9.0200\n",
      "Function value obtained: -0.0200\n",
      "Current minimum: -0.0503\n",
      "Iteration No: 236 started. Searching for the next optimal point.\n",
      "[202, 0.0369464370119474, 35, 0.0009229874308267826]\n"
     ]
    },
    {
     "name": "stderr",
     "output_type": "stream",
     "text": [
      "Epoch: 100%|██████████| 202/202 [00:15<00:00, 13.19it/s]\n"
     ]
    },
    {
     "name": "stdout",
     "output_type": "stream",
     "text": [
      "Iteration No: 236 ended. Search finished for the next optimal point.\n",
      "Time taken: 16.3761\n",
      "Function value obtained: -0.0454\n",
      "Current minimum: -0.0503\n",
      "Iteration No: 237 started. Searching for the next optimal point.\n",
      "[128, 0.058738782234334624, 199, 0.0012021238687372354]\n"
     ]
    },
    {
     "name": "stderr",
     "output_type": "stream",
     "text": [
      "Epoch: 100%|██████████| 128/128 [00:34<00:00,  3.71it/s]\n"
     ]
    },
    {
     "name": "stdout",
     "output_type": "stream",
     "text": [
      "Iteration No: 237 ended. Search finished for the next optimal point.\n",
      "Time taken: 38.7487\n",
      "Function value obtained: -0.0457\n",
      "Current minimum: -0.0503\n",
      "Iteration No: 238 started. Searching for the next optimal point.\n",
      "[129, 0.03538670856222514, 134, 0.0011309854365711878]\n"
     ]
    },
    {
     "name": "stderr",
     "output_type": "stream",
     "text": [
      "Epoch: 100%|██████████| 129/129 [00:26<00:00,  4.95it/s]\n"
     ]
    },
    {
     "name": "stdout",
     "output_type": "stream",
     "text": [
      "Iteration No: 238 ended. Search finished for the next optimal point.\n",
      "Time taken: 29.1395\n",
      "Function value obtained: -0.0467\n",
      "Current minimum: -0.0503\n",
      "Iteration No: 239 started. Searching for the next optimal point.\n",
      "[248, 0.012988864201307381, 169, 0.0010409576745725538]\n"
     ]
    },
    {
     "name": "stderr",
     "output_type": "stream",
     "text": [
      "Epoch: 100%|██████████| 248/248 [01:04<00:00,  3.86it/s]\n"
     ]
    },
    {
     "name": "stdout",
     "output_type": "stream",
     "text": [
      "Iteration No: 239 ended. Search finished for the next optimal point.\n",
      "Time taken: 68.2542\n",
      "Function value obtained: -0.0432\n",
      "Current minimum: -0.0503\n",
      "Iteration No: 240 started. Searching for the next optimal point.\n",
      "[223, 0.03627063116421862, 99, 0.0010139891451713067]\n"
     ]
    },
    {
     "name": "stderr",
     "output_type": "stream",
     "text": [
      "Epoch: 100%|██████████| 223/223 [00:38<00:00,  5.77it/s]\n"
     ]
    },
    {
     "name": "stdout",
     "output_type": "stream",
     "text": [
      "Iteration No: 240 ended. Search finished for the next optimal point.\n",
      "Time taken: 41.4107\n",
      "Function value obtained: -0.0487\n",
      "Current minimum: -0.0503\n",
      "Iteration No: 241 started. Searching for the next optimal point.\n",
      "[167, 0.08552111818173867, 164, 0.0012743035730159]\n"
     ]
    },
    {
     "name": "stderr",
     "output_type": "stream",
     "text": [
      "Epoch: 100%|██████████| 167/167 [00:39<00:00,  4.19it/s]\n"
     ]
    },
    {
     "name": "stdout",
     "output_type": "stream",
     "text": [
      "Iteration No: 241 ended. Search finished for the next optimal point.\n",
      "Time taken: 43.7272\n",
      "Function value obtained: -0.0327\n",
      "Current minimum: -0.0503\n",
      "Iteration No: 242 started. Searching for the next optimal point.\n",
      "[207, 0.10620569232349261, 20, 0.0008633686517549239]\n"
     ]
    },
    {
     "name": "stderr",
     "output_type": "stream",
     "text": [
      "Epoch: 100%|██████████| 207/207 [00:14<00:00, 14.52it/s]\n"
     ]
    },
    {
     "name": "stdout",
     "output_type": "stream",
     "text": [
      "Iteration No: 242 ended. Search finished for the next optimal point.\n",
      "Time taken: 15.0865\n",
      "Function value obtained: -0.0427\n",
      "Current minimum: -0.0503\n",
      "Iteration No: 243 started. Searching for the next optimal point.\n",
      "[198, 0.09784517832263252, 28, 0.00035427793489729723]\n"
     ]
    },
    {
     "name": "stderr",
     "output_type": "stream",
     "text": [
      "Epoch: 100%|██████████| 198/198 [00:17<00:00, 11.61it/s]\n"
     ]
    },
    {
     "name": "stdout",
     "output_type": "stream",
     "text": [
      "Iteration No: 243 ended. Search finished for the next optimal point.\n",
      "Time taken: 18.1100\n",
      "Function value obtained: -0.0322\n",
      "Current minimum: -0.0503\n",
      "Iteration No: 244 started. Searching for the next optimal point.\n",
      "[202, 0.05939164273201119, 178, 0.0010018419192253198]\n"
     ]
    },
    {
     "name": "stderr",
     "output_type": "stream",
     "text": [
      "Epoch: 100%|██████████| 202/202 [00:49<00:00,  4.07it/s]\n"
     ]
    },
    {
     "name": "stdout",
     "output_type": "stream",
     "text": [
      "Iteration No: 244 ended. Search finished for the next optimal point.\n",
      "Time taken: 53.6613\n",
      "Function value obtained: -0.0488\n",
      "Current minimum: -0.0503\n",
      "Iteration No: 245 started. Searching for the next optimal point.\n",
      "[207, 0.11451342434762132, 194, 0.0009349627732741421]\n"
     ]
    },
    {
     "name": "stderr",
     "output_type": "stream",
     "text": [
      "Epoch: 100%|██████████| 207/207 [00:52<00:00,  3.92it/s]\n"
     ]
    },
    {
     "name": "stdout",
     "output_type": "stream",
     "text": [
      "Iteration No: 245 ended. Search finished for the next optimal point.\n",
      "Time taken: 56.8946\n",
      "Function value obtained: -0.0349\n",
      "Current minimum: -0.0503\n",
      "Iteration No: 246 started. Searching for the next optimal point.\n",
      "[46, 0.10274270181733372, 78, 0.0008195776093410316]\n"
     ]
    },
    {
     "name": "stderr",
     "output_type": "stream",
     "text": [
      "Epoch: 100%|██████████| 46/46 [00:06<00:00,  7.62it/s]\n"
     ]
    },
    {
     "name": "stdout",
     "output_type": "stream",
     "text": [
      "Iteration No: 246 ended. Search finished for the next optimal point.\n",
      "Time taken: 7.9207\n",
      "Function value obtained: -0.0363\n",
      "Current minimum: -0.0503\n",
      "Iteration No: 247 started. Searching for the next optimal point.\n",
      "[216, 0.04072864952714408, 139, 0.0005995180293772761]\n"
     ]
    },
    {
     "name": "stderr",
     "output_type": "stream",
     "text": [
      "Epoch: 100%|██████████| 216/216 [00:42<00:00,  5.07it/s]\n"
     ]
    },
    {
     "name": "stdout",
     "output_type": "stream",
     "text": [
      "Iteration No: 247 ended. Search finished for the next optimal point.\n",
      "Time taken: 45.9685\n",
      "Function value obtained: -0.0265\n",
      "Current minimum: -0.0503\n",
      "Iteration No: 248 started. Searching for the next optimal point.\n",
      "[147, 0.11975012799823503, 20, 0.0006980887571698418]\n"
     ]
    },
    {
     "name": "stderr",
     "output_type": "stream",
     "text": [
      "Epoch: 100%|██████████| 147/147 [00:09<00:00, 14.75it/s]\n"
     ]
    },
    {
     "name": "stdout",
     "output_type": "stream",
     "text": [
      "Iteration No: 248 ended. Search finished for the next optimal point.\n",
      "Time taken: 10.9065\n",
      "Function value obtained: -0.0392\n",
      "Current minimum: -0.0503\n",
      "Iteration No: 249 started. Searching for the next optimal point.\n",
      "[141, 0.06754346250596092, 89, 0.0018949520186317926]\n"
     ]
    },
    {
     "name": "stderr",
     "output_type": "stream",
     "text": [
      "Epoch: 100%|██████████| 141/141 [00:20<00:00,  6.91it/s]\n"
     ]
    },
    {
     "name": "stdout",
     "output_type": "stream",
     "text": [
      "Iteration No: 249 ended. Search finished for the next optimal point.\n",
      "Time taken: 22.5476\n",
      "Function value obtained: -0.0226\n",
      "Current minimum: -0.0503\n",
      "Iteration No: 250 started. Searching for the next optimal point.\n",
      "[75, 0.06911528281384702, 44, 0.001172587657499896]\n"
     ]
    },
    {
     "name": "stderr",
     "output_type": "stream",
     "text": [
      "Epoch: 100%|██████████| 75/75 [00:06<00:00, 11.68it/s]\n"
     ]
    },
    {
     "name": "stdout",
     "output_type": "stream",
     "text": [
      "Iteration No: 250 ended. Search finished for the next optimal point.\n",
      "Time taken: 7.7115\n",
      "Function value obtained: -0.0441\n",
      "Current minimum: -0.0503\n"
     ]
    }
   ],
   "source": [
    "space = [(1, 260), # epochs\n",
    "         (10**-4, 1.0, 'log-uniform'), # learning_rate\n",
    "         (20, 200), # no_components\n",
    "         (10**-6, 10**-1, 'log-uniform'), # alpha\n",
    "        ]\n",
    "\n",
    "res_fm = forest_minimize(objective, space, n_calls=250,\n",
    "                     random_state=0,\n",
    "                     verbose=True)"
   ]
  },
  {
   "cell_type": "code",
   "execution_count": 37,
   "metadata": {},
   "outputs": [
    {
     "name": "stdout",
     "output_type": "stream",
     "text": [
      "Maximimum p@k found: 0.05031\n",
      "Optimal parameters:\n",
      "epochs: 250\n",
      "learning_rate: 0.05489768662585542\n",
      "no_components: 165\n",
      "alpha: 0.0010024970478760666\n",
      "params : [250, 0.05489768662585542, 165, 0.0010024970478760666]\n"
     ]
    }
   ],
   "source": [
    "print('Maximimum p@k found: {:6.5f}'.format(-res_fm.fun))\n",
    "print('Optimal parameters:')\n",
    "params = ['epochs', 'learning_rate', 'no_components', 'alpha']\n",
    "for (p, x_) in zip(params, res_fm.x):\n",
    "    print('{}: {}'.format(p, x_))\n",
    "print(f'params : {res_fm.x}')"
   ]
  },
  {
   "cell_type": "code",
   "execution_count": 38,
   "metadata": {},
   "outputs": [],
   "source": [
    "def objective_wsideinfo(params):\n",
    "    # unpack\n",
    "    print('=====================================')\n",
    "    print(params)\n",
    "    epochs, learning_rate,\\\n",
    "    no_components, item_alpha,\\\n",
    "    scale = params\n",
    "    \n",
    "    user_alpha = item_alpha * scale\n",
    "    model = LightFM(loss='warp',\n",
    "                    random_state=2016,\n",
    "                    learning_rate=learning_rate,\n",
    "                    no_components=no_components,\n",
    "                    user_alpha=user_alpha,\n",
    "                    item_alpha=item_alpha)\n",
    "    model.fit(train_interactions, epochs=epochs,\n",
    "              item_features=product_features, user_features=user_features, \n",
    "              num_threads=8, verbose=True)\n",
    "    \n",
    "    patks = precision_at_k(model, test_interactions, item_features=product_features, user_features=user_features,\n",
    "                           check_intersections=False , k=5, num_threads=8).mean()\n",
    "    # Make negative because we want to _minimize_ objective\n",
    "    out = -patks\n",
    "    # Weird shit going on\n",
    "    if np.abs(out + 1) < 0.01 or out < -1.0:\n",
    "        return 0.0\n",
    "    else:\n",
    "        return out"
   ]
  },
  {
   "cell_type": "code",
   "execution_count": 39,
   "metadata": {},
   "outputs": [
    {
     "data": {
      "text/plain": [
       "[250, 0.05489768662585542, 165, 0.0010024970478760666, 1.0]"
      ]
     },
     "execution_count": 39,
     "metadata": {},
     "output_type": "execute_result"
    }
   ],
   "source": [
    "res_fm.x.append(1.)\n",
    "res_fm.x"
   ]
  },
  {
   "cell_type": "code",
   "execution_count": 40,
   "metadata": {},
   "outputs": [
    {
     "name": "stdout",
     "output_type": "stream",
     "text": [
      "Iteration No: 1 started. Evaluating function at provided point.\n",
      "=====================================\n",
      "[250, 0.05489768662585542, 165, 0.0010024970478760666, 1.0]\n"
     ]
    },
    {
     "name": "stderr",
     "output_type": "stream",
     "text": [
      "Epoch:   0%|          | 0/250 [00:00<?, ?it/s]"
     ]
    },
    {
     "name": "stderr",
     "output_type": "stream",
     "text": [
      "Epoch:   2%|▏         | 5/250 [08:13<6:41:42, 98.38s/it] "
     ]
    }
   ],
   "source": [
    "space = [(1, 260), # epochs\n",
    "         (10**-3, 1.0, 'log-uniform'), # learning_rate\n",
    "         (20, 200), # no_components\n",
    "         (10**-5, 10**-3, 'log-uniform'), # item_alpha\n",
    "         (0.001, 1., 'log-uniform') # user_scaling\n",
    "        ]\n",
    "x0 = res_fm.x\n",
    "# This typecast is required\n",
    "res_fm_itemfeat = forest_minimize(objective_wsideinfo, space, n_calls=50,\n",
    "                                  x0=x0,\n",
    "                                  random_state=0,\n",
    "                                  verbose=True)"
   ]
  },
  {
   "cell_type": "code",
   "execution_count": 33,
   "metadata": {},
   "outputs": [
    {
     "ename": "NameError",
     "evalue": "name 'res_fm_itemfeat' is not defined",
     "output_type": "error",
     "traceback": [
      "\u001b[0;31m---------------------------------------------------------------------------\u001b[0m",
      "\u001b[0;31mNameError\u001b[0m                                 Traceback (most recent call last)",
      "Cell \u001b[0;32mIn[33], line 1\u001b[0m\n\u001b[0;32m----> 1\u001b[0m \u001b[38;5;28mprint\u001b[39m(\u001b[38;5;124m'\u001b[39m\u001b[38;5;124mMaximimum p@k found: \u001b[39m\u001b[38;5;132;01m{:6.5f}\u001b[39;00m\u001b[38;5;124m'\u001b[39m\u001b[38;5;241m.\u001b[39mformat(\u001b[38;5;241m-\u001b[39m\u001b[43mres_fm_itemfeat\u001b[49m\u001b[38;5;241m.\u001b[39mfun))\n\u001b[1;32m      2\u001b[0m \u001b[38;5;28mprint\u001b[39m(\u001b[38;5;124m'\u001b[39m\u001b[38;5;124mOptimal parameters:\u001b[39m\u001b[38;5;124m'\u001b[39m)\n\u001b[1;32m      3\u001b[0m params \u001b[38;5;241m=\u001b[39m [\u001b[38;5;124m'\u001b[39m\u001b[38;5;124mepochs\u001b[39m\u001b[38;5;124m'\u001b[39m, \u001b[38;5;124m'\u001b[39m\u001b[38;5;124mlearning_rate\u001b[39m\u001b[38;5;124m'\u001b[39m, \u001b[38;5;124m'\u001b[39m\u001b[38;5;124mno_components\u001b[39m\u001b[38;5;124m'\u001b[39m, \u001b[38;5;124m'\u001b[39m\u001b[38;5;124mitem_alpha\u001b[39m\u001b[38;5;124m'\u001b[39m, \u001b[38;5;124m'\u001b[39m\u001b[38;5;124mscaling\u001b[39m\u001b[38;5;124m'\u001b[39m]\n",
      "\u001b[0;31mNameError\u001b[0m: name 'res_fm_itemfeat' is not defined"
     ]
    }
   ],
   "source": [
    "print('Maximimum p@k found: {:6.5f}'.format(-res_fm_itemfeat.fun))\n",
    "print('Optimal parameters:')\n",
    "params = ['epochs', 'learning_rate', 'no_components', 'item_alpha', 'scaling']\n",
    "for (p, x_) in zip(params, res_fm_itemfeat.x):\n",
    "    print('{}: {}'.format(p, x_))"
   ]
  },
  {
   "cell_type": "code",
   "execution_count": 20,
   "metadata": {},
   "outputs": [],
   "source": [
    "from tqdm.notebook import tqdm"
   ]
  },
  {
   "cell_type": "code",
   "execution_count": 22,
   "metadata": {},
   "outputs": [],
   "source": [
    "import pickle\n",
    "import os\n",
    "file = 'weights/lightFM_model_tune.pickle'"
   ]
  },
  {
   "cell_type": "code",
   "execution_count": 25,
   "metadata": {},
   "outputs": [
    {
     "data": {
      "application/vnd.jupyter.widget-view+json": {
       "model_id": "3d422351003e4f5a83b536b83a22d672",
       "version_major": 2,
       "version_minor": 0
      },
      "text/plain": [
       "  0%|          | 0/148 [00:00<?, ?it/s]"
      ]
     },
     "metadata": {},
     "output_type": "display_data"
    },
    {
     "name": "stdout",
     "output_type": "stream",
     "text": [
      "0 0.14994614\n",
      "test score : 0.090493314\n",
      "=====================================\n",
      "1 0.19145761\n",
      "test score : 0.11682458\n",
      "=====================================\n",
      "2 0.20940436\n",
      "test score : 0.127246\n",
      "=====================================\n",
      "3 0.218978\n",
      "test score : 0.1297942\n",
      "=====================================\n",
      "4 0.23001386\n",
      "test score : 0.13593598\n",
      "=====================================\n",
      "5 0.24006465\n",
      "test score : 0.14263314\n",
      "=====================================\n",
      "6 0.24582115\n",
      "test score : 0.14619407\n",
      "=====================================\n",
      "7 0.25006926\n",
      "test score : 0.14861158\n",
      "=====================================\n",
      "8 0.2547176\n",
      "test score : 0.14998367\n",
      "=====================================\n",
      "9 0.25750345\n",
      "test score : 0.15174781\n",
      "=====================================\n",
      "10 0.25981224\n",
      "test score : 0.15269521\n",
      "=====================================\n",
      "11 0.2622595\n",
      "test score : 0.154296\n",
      "=====================================\n",
      "12 0.2661998\n",
      "test score : 0.15648481\n",
      "=====================================\n",
      "13 0.2691704\n",
      "test score : 0.15749756\n",
      "=====================================\n",
      "14 0.27058643\n",
      "test score : 0.16027443\n",
      "=====================================\n",
      "16 0.27569652\n",
      "test score : 0.16099313\n",
      "=====================================\n",
      "18 0.27783594\n",
      "test score : 0.16324733\n",
      "=====================================\n",
      "20 0.28206864\n",
      "test score : 0.16452141\n",
      "=====================================\n",
      "21 0.2826997\n",
      "test score : 0.16471744\n",
      "=====================================\n",
      "22 0.2846083\n",
      "test score : 0.1657955\n",
      "=====================================\n",
      "23 0.28713253\n",
      "test score : 0.16625287\n",
      "=====================================\n",
      "24 0.2877174\n",
      "test score : 0.168017\n",
      "=====================================\n",
      "26 0.29004157\n",
      "test score : 0.16922574\n",
      "=====================================\n",
      "28 0.29175007\n",
      "test score : 0.17049985\n",
      "=====================================\n",
      "32 0.2963214\n",
      "test score : 0.17098989\n",
      "=====================================\n",
      "33 0.29701403\n",
      "test score : 0.17239466\n",
      "=====================================\n",
      "34 0.29863015\n",
      "test score : 0.17357074\n",
      "=====================================\n",
      "40 0.3029398\n",
      "test score : 0.17386475\n",
      "=====================================\n",
      "41 0.30347854\n",
      "test score : 0.17471416\n",
      "=====================================\n",
      "42 0.30440205\n",
      "test score : 0.1752042\n",
      "=====================================\n",
      "43 0.30537173\n",
      "test score : 0.17562889\n",
      "=====================================\n",
      "45 0.30641836\n",
      "test score : 0.17579223\n",
      "=====================================\n",
      "46 0.30623367\n",
      "test score : 0.17680499\n",
      "=====================================\n",
      "51 0.30980453\n",
      "test score : 0.17729503\n",
      "=====================================\n",
      "52 0.31072804\n",
      "test score : 0.17830776\n",
      "=====================================\n",
      "57 0.31219023\n",
      "test score : 0.17938584\n",
      "=====================================\n",
      "64 0.31734648\n",
      "test score : 0.17967984\n",
      "=====================================\n",
      "65 0.31919348\n",
      "test score : 0.18030056\n",
      "=====================================\n",
      "67 0.31965524\n",
      "test score : 0.18118265\n",
      "=====================================\n",
      "68 0.31880867\n",
      "test score : 0.18209736\n",
      "=====================================\n",
      "81 0.32451904\n",
      "test score : 0.18229339\n",
      "=====================================\n",
      "83 0.32484224\n",
      "test score : 0.18262006\n",
      "=====================================\n",
      "85 0.32564265\n",
      "test score : 0.18304478\n",
      "=====================================\n",
      "89 0.32781285\n",
      "test score : 0.18340412\n",
      "=====================================\n",
      "90 0.32708943\n",
      "test score : 0.1840575\n",
      "=====================================\n",
      "91 0.3276897\n",
      "test score : 0.18441688\n",
      "=====================================\n",
      "106 0.33316916\n",
      "test score : 0.18474355\n",
      "=====================================\n",
      "109 0.3341234\n",
      "test score : 0.18490691\n",
      "=====================================\n",
      "110 0.33319992\n",
      "test score : 0.18500492\n",
      "=====================================\n",
      "111 0.33299986\n",
      "test score : 0.18507023\n",
      "=====================================\n",
      "113 0.33527783\n",
      "test score : 0.18549496\n",
      "=====================================\n",
      "119 0.33814067\n",
      "test score : 0.18647502\n",
      "=====================================\n",
      "120 0.33709407\n",
      "test score : 0.18683438\n",
      "=====================================\n",
      "124 0.33821768\n",
      "test score : 0.18689972\n",
      "=====================================\n",
      "128 0.33934125\n",
      "test score : 0.18703038\n",
      "=====================================\n",
      "133 0.34037247\n",
      "test score : 0.1872591\n",
      "=====================================\n",
      "137 0.34023395\n",
      "test score : 0.18742244\n",
      "=====================================\n",
      "139 0.34117287\n",
      "test score : 0.18771644\n",
      "=====================================\n",
      "140 0.34081885\n",
      "test score : 0.18774913\n",
      "=====================================\n",
      "141 0.34161922\n",
      "test score : 0.18794513\n",
      "=====================================\n",
      "142 0.34071112\n",
      "test score : 0.18797779\n",
      "=====================================\n",
      "145 0.34221947\n",
      "test score : 0.18817385\n",
      "=====================================\n"
     ]
    }
   ],
   "source": [
    "params = [148, 0.23621062223458383, 192, 2.8247736497887107e-05, 0.9739410842936009]\n",
    "epochs, learning_rate, no_components, item_alpha, scale = params\n",
    "\n",
    "adagrad_auc = []\n",
    "max_score = 0\n",
    "model = LightFM(no_components=no_components,\n",
    "                        loss='warp',\n",
    "                        learning_rate=learning_rate,\n",
    "                        user_alpha=item_alpha * scale,\n",
    "                        item_alpha=item_alpha\n",
    "                        )\n",
    "\n",
    "for epoch in tqdm(range(epochs)):\n",
    "    model.fit_partial(train_interactions, item_features=product_features,\n",
    "                        user_features=user_features, num_threads=8, epochs=1)\n",
    "    # score = auc_score( \n",
    "    #     adagrad_model, interactions, \n",
    "    #     item_features=product_features, \n",
    "    #     user_features=user_features, \n",
    "    #     num_threads=8).mean()\n",
    "    test_score = precision_at_k(model, test_interactions, item_features=product_features, user_features=user_features, train_interactions=train_interactions,\n",
    "                                num_threads=8, check_intersections=False, k=5).mean()\n",
    "    if test_score > max_score:\n",
    "        max_score = test_score\n",
    "        with open(file, 'wb') as fle:\n",
    "            pickle.dump(model, fle, protocol=pickle.HIGHEST_PROTOCOL)\n",
    "        print('test score :', test_score)\n",
    "        score = precision_at_k(model, train_interactions, item_features=product_features, user_features=user_features, k=5, \n",
    "                                    num_threads=8).mean()\n",
    "        print(epoch, score)\n",
    "        print(\"=====================================\")"
   ]
  },
  {
   "cell_type": "code",
   "execution_count": 30,
   "metadata": {},
   "outputs": [],
   "source": [
    "model.learning_rate = 0.05"
   ]
  },
  {
   "cell_type": "code",
   "execution_count": 29,
   "metadata": {},
   "outputs": [
    {
     "data": {
      "application/vnd.jupyter.widget-view+json": {
       "model_id": "e750f2ba4b2b44519cbd228c16c7cb29",
       "version_major": 2,
       "version_minor": 0
      },
      "text/plain": [
       "  0%|          | 0/50 [00:00<?, ?it/s]"
      ]
     },
     "metadata": {},
     "output_type": "display_data"
    },
    {
     "name": "stdout",
     "output_type": "stream",
     "text": [
      "test score : 0.19297618\n",
      "1 0.3614745\n",
      "=====================================\n",
      "test score : 0.19366221\n",
      "6 0.36168998\n",
      "=====================================\n"
     ]
    }
   ],
   "source": [
    "for epoch in tqdm(range(100)):\n",
    "    model.fit_partial(train_interactions, item_features=product_features,\n",
    "                        user_features=user_features, num_threads=8, epochs=1)\n",
    "    # score = auc_score( \n",
    "    #     adagrad_model, interactions, \n",
    "    #     item_features=product_features, \n",
    "    #     user_features=user_features, \n",
    "    #     num_threads=8).mean()\n",
    "    test_score = precision_at_k(model, test_interactions, item_features=product_features, user_features=user_features, train_interactions=train_interactions,\n",
    "                                num_threads=8, check_intersections=False, k=5).mean()\n",
    "    if test_score > max_score:\n",
    "        max_score = test_score\n",
    "        with open(file, 'wb') as fle:\n",
    "            pickle.dump(model, fle, protocol=pickle.HIGHEST_PROTOCOL)\n",
    "        print('test score :', test_score)\n",
    "        score = precision_at_k(model, train_interactions, item_features=product_features, user_features=user_features, k=5, \n",
    "                                    num_threads=8).mean()\n",
    "        print(epoch, score)\n",
    "        print(\"=====================================\")"
   ]
  },
  {
   "cell_type": "code",
   "execution_count": 25,
   "metadata": {},
   "outputs": [
    {
     "name": "stdout",
     "output_type": "stream",
     "text": [
      "19 0.17044514\n"
     ]
    }
   ],
   "source": [
    "for n, i in enumerate(adagrad_auc):\n",
    "    if i == max(adagrad_auc):\n",
    "        print(n, i)"
   ]
  },
  {
   "cell_type": "code",
   "execution_count": 20,
   "metadata": {},
   "outputs": [],
   "source": [
    "import pickle\n",
    "import os\n",
    "file = 'weights/lightFM_model_tune_lr0.05.pickle'\n",
    "if not os.path.exists(file):\n",
    "    with open(file, 'wb') as fle:\n",
    "        pickle.dump(model, fle, protocol=pickle.HIGHEST_PROTOCOL)\n",
    "else:\n",
    "    print(f\"{file} exists.\")"
   ]
  },
  {
   "cell_type": "code",
   "execution_count": 31,
   "metadata": {},
   "outputs": [],
   "source": [
    "import pickle\n",
    "loaded_model = pickle.load(open('/home/music/Desktop/measure_model/weights/lightFM_model_tune.pickle', 'rb'))"
   ]
  },
  {
   "cell_type": "code",
   "execution_count": 32,
   "metadata": {},
   "outputs": [],
   "source": [
    "loaded_model.learning_rate = 0.01\n",
    "file = 'weights/lightFM_model_tune_lr0.05.pickle'"
   ]
  },
  {
   "cell_type": "code",
   "execution_count": 35,
   "metadata": {},
   "outputs": [
    {
     "data": {
      "application/vnd.jupyter.widget-view+json": {
       "model_id": "e8126a7b002e4a499b8244cf698b2f5b",
       "version_major": 2,
       "version_minor": 0
      },
      "text/plain": [
       "  0%|          | 0/100 [00:00<?, ?it/s]"
      ]
     },
     "metadata": {},
     "output_type": "display_data"
    },
    {
     "name": "stdout",
     "output_type": "stream",
     "text": [
      "test score : 0.19500165\n",
      "12 0.36601508\n",
      "=====================================\n"
     ]
    }
   ],
   "source": [
    "for epoch in tqdm(range(100)):\n",
    "    loaded_model.fit_partial(train_interactions, item_features=product_features,\n",
    "                        user_features=user_features, num_threads=8, epochs=1)\n",
    "    # score = auc_score( \n",
    "    #     adagrad_model, interactions, \n",
    "    #     item_features=product_features, \n",
    "    #     user_features=user_features, \n",
    "    #     num_threads=8).mean()\n",
    "    test_score = precision_at_k(loaded_model, test_interactions, item_features=product_features, user_features=user_features, train_interactions=train_interactions,\n",
    "                                num_threads=8, check_intersections=False, k=5).mean()\n",
    "    if test_score > max_score:\n",
    "        max_score = test_score\n",
    "        with open(file, 'wb') as fle:\n",
    "            pickle.dump(loaded_model, fle, protocol=pickle.HIGHEST_PROTOCOL)\n",
    "        print('test score :', test_score)\n",
    "        score = precision_at_k(loaded_model, train_interactions, item_features=product_features, user_features=user_features, k=5, \n",
    "                                    num_threads=8).mean()\n",
    "        print(epoch, score)\n",
    "        print(\"=====================================\")"
   ]
  },
  {
   "cell_type": "code",
   "execution_count": 76,
   "metadata": {},
   "outputs": [],
   "source": [
    "def calculate_auc_score(lightfm_model, interactions_matrix, \n",
    "                        product_features, User_features): \n",
    "    \"\"\"\n",
    "    Measure the ROC AUC metric for a model. \n",
    "    A perfect score is 1.0.\n",
    "\n",
    "    Parameters\n",
    "    ----------\n",
    "    lightfm_model: LightFM model \n",
    "        A fitted lightfm model \n",
    "    interactions_matrix : \n",
    "        A lightfm interactions matrix \n",
    "    product_features, User_features: \n",
    "        Lightfm features \n",
    "        \n",
    "    Returns\n",
    "    -------\n",
    "    String containing AUC score \n",
    "    \"\"\"\n",
    "    score = auc_score( \n",
    "        lightfm_model, interactions_matrix, \n",
    "        item_features=product_features, \n",
    "        user_features=User_features, \n",
    "        num_threads=8).mean()\n",
    "    return score"
   ]
  },
  {
   "cell_type": "code",
   "execution_count": 79,
   "metadata": {},
   "outputs": [
    {
     "data": {
      "text/plain": [
       "0.99271107"
      ]
     },
     "execution_count": 79,
     "metadata": {},
     "output_type": "execute_result"
    }
   ],
   "source": [
    "calculate_auc_score(model, interactions, product_features, user_features)"
   ]
  },
  {
   "cell_type": "code",
   "execution_count": 83,
   "metadata": {},
   "outputs": [
    {
     "data": {
      "text/plain": [
       "0.29803705"
      ]
     },
     "execution_count": 83,
     "metadata": {},
     "output_type": "execute_result"
    }
   ],
   "source": [
    "precision_at_k(model, interactions, item_features=product_features, user_features=user_features, k=1, \n",
    "                                   num_threads=8, check_intersections=False).mean()"
   ]
  },
  {
   "cell_type": "code",
   "execution_count": 84,
   "metadata": {},
   "outputs": [],
   "source": [
    "from IPython.display import display_html\n",
    "def display_side_by_side(*args):\n",
    "    html_str=''\n",
    "    for df in args:\n",
    "        html_str+=df.to_html()\n",
    "    display_html(html_str.replace('table','table style=\"display:inline\"'),raw=True)\n",
    "\n",
    "def previous_product(user, n_previous=3, show=True):\n",
    "    # print their previous answered product title\n",
    "    previous_product_id_num = df_merge.loc[df_merge['user_id_num'] == user][:n_previous]['product_id_num']\n",
    "    df_previous_product = df_product.loc[df_product['product_id_num'].isin(previous_product_id_num)]\n",
    "    if show:\n",
    "        print('User Id (' + str(user) + \"): Previous review product\")\n",
    "        display_side_by_side(\n",
    "            df_previous_product[['EID', 'PRODUCT_NAME', 'product_features']],\n",
    "            df_user.loc[df_user.user_id_num == user][['UID', 'user_id_num','user_tag']])\n",
    "    return df_previous_product\n",
    "\n",
    "def recommend_product(model, user, n_previous=3, top_n=10, show=True):\n",
    "    df_previous_product = previous_product(user, n_previous, show=show)\n",
    "    \n",
    "    # predict\n",
    "    discard_product_id = df_previous_product['product_id_num'].values.tolist()\n",
    "    df_use_for_prediction = df_product.loc[~df_product['product_id_num'].isin(discard_product_id)]\n",
    "    product_id_for_predict = df_use_for_prediction['product_id_num'].values.tolist()\n",
    "    \n",
    "    scores = model.predict(\n",
    "        user,\n",
    "        product_id_for_predict,\n",
    "        item_features=product_features,\n",
    "        user_features=user_features)\n",
    "    \n",
    "    df_use_for_prediction = df_use_for_prediction.assign(scores=scores)\n",
    "    df_use_for_prediction = df_use_for_prediction.sort_values(by='scores', ascending=False)[:top_n]\n",
    "    if show:\n",
    "        print('User Id (' + str(user) + \"): Recommended product: \")\n",
    "        display(df_use_for_prediction[['EID', 'PRODUCT_NAME', 'product_features']])\n",
    "    return df_use_for_prediction\n",
    "\n",
    "def recommends_product(model, user_ids, n_previous=3, top_n=10):\n",
    "    for user in user_ids:\n",
    "        recommend_product(model, user, n_previous, top_n)\n",
    "        print(\"=========================================================================================================\")"
   ]
  },
  {
   "cell_type": "code",
   "execution_count": 85,
   "metadata": {},
   "outputs": [],
   "source": [
    "from tqdm.notebook import tqdm"
   ]
  },
  {
   "cell_type": "code",
   "execution_count": 92,
   "metadata": {},
   "outputs": [
    {
     "data": {
      "application/vnd.jupyter.widget-view+json": {
       "model_id": "9683bf684d3042709faa51b0d96c25a1",
       "version_major": 2,
       "version_minor": 0
      },
      "text/plain": [
       "  0%|          | 0/14467 [00:00<?, ?it/s]"
      ]
     },
     "metadata": {},
     "output_type": "display_data"
    },
    {
     "name": "stdout",
     "output_type": "stream",
     "text": [
      "1869\n",
      "12.91905716458146\n"
     ]
    }
   ],
   "source": [
    "n_previous=5\n",
    "count = 0\n",
    "# num_users = 1000\n",
    "num_users = df_merge['user_id_num'].max()\n",
    "\n",
    "for i in tqdm(range(num_users)):\n",
    "    previous = previous_product(i, None, show=False)\n",
    "    recommend = recommend_product(model, i, n_previous=n_previous, top_n=10, show=False)\n",
    "    result = recommend[recommend['EID'].isin(previous['EID'])]\n",
    "    \n",
    "    if len(result) > 0:\n",
    "        count += 1\n",
    "        # print('User Id (' + str(i) + \"): Previous review product\")\n",
    "        # display_side_by_side(\n",
    "        #     previous[['EID', 'PRODUCT_NAME']],\n",
    "        #     previous_product(i, 5, show=False)[['EID', 'PRODUCT_NAME']],\n",
    "        #     recommend[['EID', 'PRODUCT_NAME']],\n",
    "        #     result[['EID', 'PRODUCT_NAME']])\n",
    "        # print(\"=========================================================================================================\")\n",
    "print(count)\n",
    "print(count/num_users*100)"
   ]
  },
  {
   "cell_type": "code",
   "execution_count": 31,
   "metadata": {},
   "outputs": [],
   "source": [
    "train_interactions, test_interactions = random_train_test_split(interactions, test_percentage=0.2)"
   ]
  },
  {
   "cell_type": "code",
   "execution_count": 33,
   "metadata": {},
   "outputs": [],
   "source": [
    "train_weights, test_weights = random_train_test_split(weights, test_percentage=0.2)\n"
   ]
  },
  {
   "cell_type": "code",
   "execution_count": 60,
   "metadata": {},
   "outputs": [
    {
     "name": "stderr",
     "output_type": "stream",
     "text": [
      "Epoch: 100%|██████████| 20/20 [05:20<00:00, 16.04s/it]\n"
     ]
    },
    {
     "data": {
      "text/plain": [
       "<lightfm.lightfm.LightFM at 0x7fbea86ff9d0>"
      ]
     },
     "execution_count": 60,
     "metadata": {},
     "output_type": "execute_result"
    }
   ],
   "source": [
    "model = LightFM(\n",
    "    no_components=250,\n",
    "    learning_rate=0.0005,\n",
    "    loss='warp',\n",
    "    random_state=2019)\n",
    "\n",
    "model.fit(\n",
    "    train_interactions,\n",
    "    item_features=product_features,\n",
    "    user_features=user_features,\n",
    "    epochs=20, num_threads=8, verbose=True)"
   ]
  },
  {
   "cell_type": "code",
   "execution_count": 61,
   "metadata": {},
   "outputs": [
    {
     "name": "stdout",
     "output_type": "stream",
     "text": [
      "Test precision_at_k score: 0.13128889\n"
     ]
    }
   ],
   "source": [
    "print(\"Test precision_at_k score:\", precision_at_k(loaded_model, interactions, item_features=product_features, user_features=user_features, train_interactions=train_interactions,\n",
    "                                   num_threads=8, check_intersections=False).mean())"
   ]
  },
  {
   "cell_type": "code",
   "execution_count": null,
   "metadata": {},
   "outputs": [],
   "source": [
    "0.13, 150\n"
   ]
  },
  {
   "cell_type": "code",
   "execution_count": 43,
   "metadata": {},
   "outputs": [
    {
     "name": "stdout",
     "output_type": "stream",
     "text": [
      "Test AUC score: 0.98318493\n"
     ]
    }
   ],
   "source": [
    "print(\"Test AUC score:\", auc_score(model, test_interactions, item_features=product_features, user_features=user_features, \n",
    "                                   num_threads=7).mean())"
   ]
  },
  {
   "cell_type": "code",
   "execution_count": 45,
   "metadata": {},
   "outputs": [
    {
     "name": "stdout",
     "output_type": "stream",
     "text": [
      "Collaborative filtering test AUC: 0.98344797\n"
     ]
    }
   ],
   "source": [
    "test_auc = auc_score(model, test_interactions, item_features=product_features, user_features=user_features,\n",
    "                     train_interactions=train_interactions, num_threads=7, check_intersections=False).mean()\n",
    "print('Collaborative filtering test AUC: %s' % test_auc)"
   ]
  },
  {
   "cell_type": "code",
   "execution_count": null,
   "metadata": {},
   "outputs": [],
   "source": []
  }
 ],
 "metadata": {
  "kernelspec": {
   "display_name": "Python 3",
   "language": "python",
   "name": "python3"
  },
  "language_info": {
   "codemirror_mode": {
    "name": "ipython",
    "version": 3
   },
   "file_extension": ".py",
   "mimetype": "text/x-python",
   "name": "python",
   "nbconvert_exporter": "python",
   "pygments_lexer": "ipython3",
   "version": "3.8.10"
  }
 },
 "nbformat": 4,
 "nbformat_minor": 2
}
