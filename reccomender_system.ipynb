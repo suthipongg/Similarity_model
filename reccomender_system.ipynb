{
 "cells": [
  {
   "cell_type": "code",
   "execution_count": 1,
   "metadata": {},
   "outputs": [],
   "source": [
    "import pandas as pd\n",
    "import numpy as np"
   ]
  },
  {
   "cell_type": "code",
   "execution_count": 2,
   "metadata": {},
   "outputs": [],
   "source": [
    "def add_ext_to_str(df, col):\n",
    "    if type(col) == str:\n",
    "        col = [col]\n",
    "    for col in col:\n",
    "        df[col] = df[col].astype(str) + '_' + col\n",
    "    return df\n",
    "\n",
    "def fill_na_with_text(df, col, add_ext=False):\n",
    "    if type(col) == str:\n",
    "        col = [col]\n",
    "    for col in col:\n",
    "        if add_ext:\n",
    "            df[col] = df[col].fillna('NO_'+col)\n",
    "        else:\n",
    "            df[col] = df[col].fillna('NO_INFO')\n",
    "    return df\n",
    "\n",
    "def merge_col(df, col, sep=','):\n",
    "    return df[col].apply(lambda x: sep.join(x), axis=1)\n",
    "\n",
    "def generate_int_id(dataframe, id_col_name):\n",
    "    \"\"\"\n",
    "    Generate unique integer id for users, product and answers\n",
    "\n",
    "    Parameters\n",
    "    ----------\n",
    "    dataframe: Dataframe\n",
    "        Pandas Dataframe for Users or Q&A. \n",
    "    id_col_name : String \n",
    "        New integer id's column name.\n",
    "        \n",
    "    Returns\n",
    "    -------\n",
    "    Dataframe\n",
    "        Updated dataframe containing new id column \n",
    "    \"\"\"\n",
    "    new_dataframe=dataframe.assign(\n",
    "        int_id_col_name=np.arange(len(dataframe))\n",
    "        ).reset_index(drop=True)\n",
    "    return new_dataframe.rename(columns={'int_id_col_name': id_col_name})\n",
    "\n",
    "def generate_feature_list(dataframe, features_name):\n",
    "    \"\"\"\n",
    "    Generate features list for mapping \n",
    "\n",
    "    Parameters\n",
    "    ----------\n",
    "    dataframe: Dataframe\n",
    "        Pandas Dataframe for Users or Q&A. \n",
    "    features_name : List\n",
    "        List of feature columns name avaiable in dataframe. \n",
    "        \n",
    "    Returns\n",
    "    -------\n",
    "    List of all features for mapping \n",
    "    \"\"\"\n",
    "    features = dataframe[features_name].apply(\n",
    "        lambda x: ','.join(x.map(str)), axis=1)\n",
    "    features = features.str.split(',')\n",
    "    features = features.apply(pd.Series).stack().reset_index(drop=True)\n",
    "    return features\n",
    "\n",
    "def create_features(dataframe, features_name, id_col_name):\n",
    "    \"\"\"\n",
    "    Generate features that will be ready for feeding into lightfm\n",
    "\n",
    "    Parameters\n",
    "    ----------\n",
    "    dataframe: Dataframe\n",
    "        Pandas Dataframe which contains features\n",
    "    features_name : List\n",
    "        List of feature columns name avaiable in dataframe\n",
    "    id_col_name: String\n",
    "        Column name which contains id of the product or\n",
    "        answer that the features will map to.\n",
    "        There are two possible values for this variable.\n",
    "        1. product_id_num\n",
    "        2. user_id_num\n",
    "\n",
    "    Returns\n",
    "    -------\n",
    "    Pandas Series\n",
    "        A pandas series containing process features\n",
    "        that are ready for feed into lightfm.\n",
    "        The format of each value\n",
    "        will be (user_id, ['feature_1', 'feature_2', 'feature_3'])\n",
    "        Ex. -> (1, ['military', 'army', '5'])\n",
    "    \"\"\"\n",
    "\n",
    "    features = dataframe[features_name].apply(\n",
    "        lambda x: ','.join(x.map(str)), axis=1)\n",
    "    features = features.str.split(',')\n",
    "    features = list(zip(dataframe[id_col_name], features))\n",
    "    return features"
   ]
  },
  {
   "cell_type": "code",
   "execution_count": 3,
   "metadata": {},
   "outputs": [
    {
     "data": {
      "text/html": [
       "<div>\n",
       "<style scoped>\n",
       "    .dataframe tbody tr th:only-of-type {\n",
       "        vertical-align: middle;\n",
       "    }\n",
       "\n",
       "    .dataframe tbody tr th {\n",
       "        vertical-align: top;\n",
       "    }\n",
       "\n",
       "    .dataframe thead th {\n",
       "        text-align: right;\n",
       "    }\n",
       "</style>\n",
       "<table border=\"1\" class=\"dataframe\">\n",
       "  <thead>\n",
       "    <tr style=\"text-align: right;\">\n",
       "      <th></th>\n",
       "      <th>ID</th>\n",
       "      <th>EID</th>\n",
       "      <th>UID</th>\n",
       "      <th>POINT</th>\n",
       "    </tr>\n",
       "  </thead>\n",
       "  <tbody>\n",
       "    <tr>\n",
       "      <th>0</th>\n",
       "      <td>161562</td>\n",
       "      <td>40039</td>\n",
       "      <td>106774</td>\n",
       "      <td>5</td>\n",
       "    </tr>\n",
       "  </tbody>\n",
       "</table>\n",
       "</div>"
      ],
      "text/plain": [
       "       ID    EID     UID  POINT\n",
       "0  161562  40039  106774      5"
      ]
     },
     "execution_count": 3,
     "metadata": {},
     "output_type": "execute_result"
    }
   ],
   "source": [
    "df_review = pd.read_csv(\"/home/music/Desktop/measure_model/db_cosmenet/review.csv\", low_memory=False)\n",
    "df_review = df_review[['ID', 'EID', 'UID', 'POINT']][df_review['ACTION'] == 1]\n",
    "df_review.head(1)"
   ]
  },
  {
   "cell_type": "code",
   "execution_count": 4,
   "metadata": {},
   "outputs": [
    {
     "data": {
      "text/html": [
       "<div>\n",
       "<style scoped>\n",
       "    .dataframe tbody tr th:only-of-type {\n",
       "        vertical-align: middle;\n",
       "    }\n",
       "\n",
       "    .dataframe tbody tr th {\n",
       "        vertical-align: top;\n",
       "    }\n",
       "\n",
       "    .dataframe thead th {\n",
       "        text-align: right;\n",
       "    }\n",
       "</style>\n",
       "<table border=\"1\" class=\"dataframe\">\n",
       "  <thead>\n",
       "    <tr style=\"text-align: right;\">\n",
       "      <th></th>\n",
       "      <th>EID</th>\n",
       "      <th>PRODUCT_NAME</th>\n",
       "      <th>BID</th>\n",
       "      <th>SCID</th>\n",
       "      <th>CID</th>\n",
       "    </tr>\n",
       "  </thead>\n",
       "  <tbody>\n",
       "    <tr>\n",
       "      <th>0</th>\n",
       "      <td>13001</td>\n",
       "      <td>UV Aqua Rich Watery Essence SPF50+ PA++++</td>\n",
       "      <td>1528</td>\n",
       "      <td>248</td>\n",
       "      <td>62</td>\n",
       "    </tr>\n",
       "  </tbody>\n",
       "</table>\n",
       "</div>"
      ],
      "text/plain": [
       "     EID                               PRODUCT_NAME   BID  SCID  CID\n",
       "0  13001  UV Aqua Rich Watery Essence SPF50+ PA++++  1528   248   62"
      ]
     },
     "execution_count": 4,
     "metadata": {},
     "output_type": "execute_result"
    }
   ],
   "source": [
    "df_product = pd.read_csv(\"/home/music/Desktop/measure_model/db_cosmenet/product_joined.csv\")\n",
    "df_product = df_product[['EID', 'PRODUCT_NAME', 'BID', 'SCID', 'CID']]\n",
    "df_product.head(1)"
   ]
  },
  {
   "cell_type": "code",
   "execution_count": 5,
   "metadata": {},
   "outputs": [
    {
     "data": {
      "text/html": [
       "<div>\n",
       "<style scoped>\n",
       "    .dataframe tbody tr th:only-of-type {\n",
       "        vertical-align: middle;\n",
       "    }\n",
       "\n",
       "    .dataframe tbody tr th {\n",
       "        vertical-align: top;\n",
       "    }\n",
       "\n",
       "    .dataframe thead th {\n",
       "        text-align: right;\n",
       "    }\n",
       "</style>\n",
       "<table border=\"1\" class=\"dataframe\">\n",
       "  <thead>\n",
       "    <tr style=\"text-align: right;\">\n",
       "      <th></th>\n",
       "      <th>EID</th>\n",
       "      <th>PRODUCT_NAME</th>\n",
       "      <th>BID</th>\n",
       "      <th>SCID</th>\n",
       "      <th>CID</th>\n",
       "      <th>product_tag</th>\n",
       "      <th>product_id_num</th>\n",
       "    </tr>\n",
       "  </thead>\n",
       "  <tbody>\n",
       "    <tr>\n",
       "      <th>0</th>\n",
       "      <td>13001</td>\n",
       "      <td>UV Aqua Rich Watery Essence SPF50+ PA++++</td>\n",
       "      <td>BID_1528</td>\n",
       "      <td>248</td>\n",
       "      <td>62</td>\n",
       "      <td>248,BID_1528,62</td>\n",
       "      <td>0</td>\n",
       "    </tr>\n",
       "  </tbody>\n",
       "</table>\n",
       "</div>"
      ],
      "text/plain": [
       "     EID                               PRODUCT_NAME       BID SCID CID  \\\n",
       "0  13001  UV Aqua Rich Watery Essence SPF50+ PA++++  BID_1528  248  62   \n",
       "\n",
       "       product_tag  product_id_num  \n",
       "0  248,BID_1528,62               0  "
      ]
     },
     "execution_count": 5,
     "metadata": {},
     "output_type": "execute_result"
    }
   ],
   "source": [
    "df_product.loc[df_product['SCID'] == -1, 'SCID'] = 'NO_SUBCATEGORY'\n",
    "df_product.loc[df_product['SCID'] == -2, ['SCID', 'CID']] = 'NO_CATEGORY'\n",
    "df_product.loc[df_product['BID'] == -4, 'BID'] = 'NO_INFO'\n",
    "\n",
    "df_product['BID'] = 'BID' + '_' + df_product['BID'].astype(str)\n",
    "df_product['SCID'] = df_product['SCID'].astype(str)\n",
    "df_product['CID'] = df_product['CID'].astype(str)\n",
    "\n",
    "df_product['product_tag'] = merge_col(df_product, ['BID', 'SCID', 'CID'])\n",
    "df_product = generate_int_id(df_product, 'product_id_num')\n",
    "df_product['product_tag'] = (\n",
    "    df_product['product_tag'].str.split(',').apply(set).str.join(','))\n",
    "\n",
    "df_product.head(1)"
   ]
  },
  {
   "cell_type": "code",
   "execution_count": 6,
   "metadata": {},
   "outputs": [
    {
     "data": {
      "text/html": [
       "<div>\n",
       "<style scoped>\n",
       "    .dataframe tbody tr th:only-of-type {\n",
       "        vertical-align: middle;\n",
       "    }\n",
       "\n",
       "    .dataframe tbody tr th {\n",
       "        vertical-align: top;\n",
       "    }\n",
       "\n",
       "    .dataframe thead th {\n",
       "        text-align: right;\n",
       "    }\n",
       "</style>\n",
       "<table border=\"1\" class=\"dataframe\">\n",
       "  <thead>\n",
       "    <tr style=\"text-align: right;\">\n",
       "      <th></th>\n",
       "      <th>UID</th>\n",
       "      <th>AGE_TEXT</th>\n",
       "      <th>PERSONAL_GENDER</th>\n",
       "      <th>UF_SKINFACE</th>\n",
       "      <th>UF_BODYTYPE</th>\n",
       "      <th>UF_HAIRTYPE</th>\n",
       "    </tr>\n",
       "  </thead>\n",
       "  <tbody>\n",
       "    <tr>\n",
       "      <th>0</th>\n",
       "      <td>1</td>\n",
       "      <td>31 - 35</td>\n",
       "      <td>Female</td>\n",
       "      <td>NaN</td>\n",
       "      <td>NaN</td>\n",
       "      <td>NaN</td>\n",
       "    </tr>\n",
       "  </tbody>\n",
       "</table>\n",
       "</div>"
      ],
      "text/plain": [
       "   UID AGE_TEXT PERSONAL_GENDER UF_SKINFACE UF_BODYTYPE UF_HAIRTYPE\n",
       "0    1  31 - 35          Female         NaN         NaN         NaN"
      ]
     },
     "execution_count": 6,
     "metadata": {},
     "output_type": "execute_result"
    }
   ],
   "source": [
    "df_user = pd.read_csv(\"/home/music/Desktop/measure_model/db_cosmenet/user.csv\")\n",
    "df_user = df_user[['ID', 'AGE_TEXT', 'PERSONAL_GENDER', 'UF_SKINFACE', 'UF_BODYTYPE', 'UF_HAIRTYPE']]\n",
    "df_user.rename(columns={'ID': 'UID'}, inplace=True)\n",
    "df_user.head(1)"
   ]
  },
  {
   "cell_type": "code",
   "execution_count": 7,
   "metadata": {},
   "outputs": [
    {
     "data": {
      "text/html": [
       "<div>\n",
       "<style scoped>\n",
       "    .dataframe tbody tr th:only-of-type {\n",
       "        vertical-align: middle;\n",
       "    }\n",
       "\n",
       "    .dataframe tbody tr th {\n",
       "        vertical-align: top;\n",
       "    }\n",
       "\n",
       "    .dataframe thead th {\n",
       "        text-align: right;\n",
       "    }\n",
       "</style>\n",
       "<table border=\"1\" class=\"dataframe\">\n",
       "  <thead>\n",
       "    <tr style=\"text-align: right;\">\n",
       "      <th></th>\n",
       "      <th>UID</th>\n",
       "      <th>AGE_TEXT</th>\n",
       "      <th>PERSONAL_GENDER</th>\n",
       "      <th>UF_SKINFACE</th>\n",
       "      <th>UF_BODYTYPE</th>\n",
       "      <th>UF_HAIRTYPE</th>\n",
       "      <th>user_tag</th>\n",
       "      <th>user_id_num</th>\n",
       "    </tr>\n",
       "  </thead>\n",
       "  <tbody>\n",
       "    <tr>\n",
       "      <th>0</th>\n",
       "      <td>1</td>\n",
       "      <td>31 - 35</td>\n",
       "      <td>Female</td>\n",
       "      <td>NO_INFO_UF_SKINFACE</td>\n",
       "      <td>NO_INFO_UF_BODYTYPE</td>\n",
       "      <td>NO_UF_HAIRTYPE</td>\n",
       "      <td>31 - 35,Female,NO_INFO_UF_SKINFACE,NO_INFO_UF_...</td>\n",
       "      <td>0</td>\n",
       "    </tr>\n",
       "  </tbody>\n",
       "</table>\n",
       "</div>"
      ],
      "text/plain": [
       "   UID AGE_TEXT PERSONAL_GENDER          UF_SKINFACE          UF_BODYTYPE  \\\n",
       "0    1  31 - 35          Female  NO_INFO_UF_SKINFACE  NO_INFO_UF_BODYTYPE   \n",
       "\n",
       "      UF_HAIRTYPE                                           user_tag  \\\n",
       "0  NO_UF_HAIRTYPE  31 - 35,Female,NO_INFO_UF_SKINFACE,NO_INFO_UF_...   \n",
       "\n",
       "   user_id_num  \n",
       "0            0  "
      ]
     },
     "execution_count": 7,
     "metadata": {},
     "output_type": "execute_result"
    }
   ],
   "source": [
    "df_user = fill_na_with_text(df_user, ['UF_SKINFACE', 'UF_BODYTYPE'])\n",
    "df_user = add_ext_to_str(df_user, ['UF_SKINFACE', 'UF_BODYTYPE'])\n",
    "df_user = fill_na_with_text(df_user, ['AGE_TEXT', 'PERSONAL_GENDER', 'UF_HAIRTYPE'], add_ext=True)\n",
    "\n",
    "is_female = np.isin(df_user['PERSONAL_GENDER'], 'Female')\n",
    "is_male = np.isin(df_user['PERSONAL_GENDER'], 'Male')\n",
    "is_nan = np.isin(df_user['PERSONAL_GENDER'], 'NO_PERSONAL_GENDER')\n",
    "df_user.loc[~is_female & ~is_male & ~is_nan, 'PERSONAL_GENDER'] = 'LGBTQ+'\n",
    "\n",
    "df_user['user_tag'] = merge_col(df_user, ['AGE_TEXT', 'PERSONAL_GENDER', 'UF_SKINFACE', 'UF_BODYTYPE', 'UF_HAIRTYPE'])\n",
    "df_user = generate_int_id(df_user, 'user_id_num')\n",
    "\n",
    "df_user.head(1)"
   ]
  },
  {
   "cell_type": "code",
   "execution_count": 8,
   "metadata": {},
   "outputs": [
    {
     "data": {
      "text/html": [
       "<div>\n",
       "<style scoped>\n",
       "    .dataframe tbody tr th:only-of-type {\n",
       "        vertical-align: middle;\n",
       "    }\n",
       "\n",
       "    .dataframe tbody tr th {\n",
       "        vertical-align: top;\n",
       "    }\n",
       "\n",
       "    .dataframe thead th {\n",
       "        text-align: right;\n",
       "    }\n",
       "</style>\n",
       "<table border=\"1\" class=\"dataframe\">\n",
       "  <thead>\n",
       "    <tr style=\"text-align: right;\">\n",
       "      <th></th>\n",
       "      <th>ID</th>\n",
       "      <th>EID</th>\n",
       "      <th>UID</th>\n",
       "      <th>POINT</th>\n",
       "      <th>product_tag</th>\n",
       "      <th>product_id_num</th>\n",
       "      <th>user_tag</th>\n",
       "      <th>user_id_num</th>\n",
       "    </tr>\n",
       "  </thead>\n",
       "  <tbody>\n",
       "    <tr>\n",
       "      <th>0</th>\n",
       "      <td>161561</td>\n",
       "      <td>40039</td>\n",
       "      <td>104728</td>\n",
       "      <td>5</td>\n",
       "      <td>58,216,BID_3081</td>\n",
       "      <td>1244</td>\n",
       "      <td>25 - 30,Female,ผิวผสม_UF_SKINFACE,ผิวธรรมดา_UF...</td>\n",
       "      <td>102544</td>\n",
       "    </tr>\n",
       "  </tbody>\n",
       "</table>\n",
       "</div>"
      ],
      "text/plain": [
       "       ID    EID     UID  POINT      product_tag  product_id_num  \\\n",
       "0  161561  40039  104728      5  58,216,BID_3081            1244   \n",
       "\n",
       "                                            user_tag  user_id_num  \n",
       "0  25 - 30,Female,ผิวผสม_UF_SKINFACE,ผิวธรรมดา_UF...       102544  "
      ]
     },
     "execution_count": 8,
     "metadata": {},
     "output_type": "execute_result"
    }
   ],
   "source": [
    "df_merge = df_review.merge(df_product[['EID', 'product_tag', 'product_id_num']], how='inner',\n",
    "    left_on='EID', right_on='EID')\n",
    "df_merge = df_merge.merge(df_user[['UID', 'user_tag', 'user_id_num']], how='inner',\n",
    "    left_on='UID', right_on='UID')\n",
    "df_merge.head(1)"
   ]
  },
  {
   "cell_type": "code",
   "execution_count": 9,
   "metadata": {},
   "outputs": [
    {
     "data": {
      "text/html": [
       "<div>\n",
       "<style scoped>\n",
       "    .dataframe tbody tr th:only-of-type {\n",
       "        vertical-align: middle;\n",
       "    }\n",
       "\n",
       "    .dataframe tbody tr th {\n",
       "        vertical-align: top;\n",
       "    }\n",
       "\n",
       "    .dataframe thead th {\n",
       "        text-align: right;\n",
       "    }\n",
       "</style>\n",
       "<table border=\"1\" class=\"dataframe\">\n",
       "  <thead>\n",
       "    <tr style=\"text-align: right;\">\n",
       "      <th></th>\n",
       "      <th>UID</th>\n",
       "      <th>AGE_TEXT</th>\n",
       "      <th>PERSONAL_GENDER</th>\n",
       "      <th>UF_SKINFACE</th>\n",
       "      <th>UF_BODYTYPE</th>\n",
       "      <th>UF_HAIRTYPE</th>\n",
       "      <th>user_tag</th>\n",
       "      <th>user_id_num</th>\n",
       "      <th>product_tag</th>\n",
       "      <th>UID_all_tags</th>\n",
       "    </tr>\n",
       "  </thead>\n",
       "  <tbody>\n",
       "    <tr>\n",
       "      <th>0</th>\n",
       "      <td>1</td>\n",
       "      <td>31 - 35</td>\n",
       "      <td>Female</td>\n",
       "      <td>NO_INFO_UF_SKINFACE</td>\n",
       "      <td>NO_INFO_UF_BODYTYPE</td>\n",
       "      <td>NO_UF_HAIRTYPE</td>\n",
       "      <td>31 - 35,Female,NO_INFO_UF_SKINFACE,NO_INFO_UF_...</td>\n",
       "      <td>0</td>\n",
       "      <td>BID_1578,1821,2636</td>\n",
       "      <td>31 - 35,Female,NO_INFO_UF_SKINFACE,NO_INFO_UF_...</td>\n",
       "    </tr>\n",
       "  </tbody>\n",
       "</table>\n",
       "</div>"
      ],
      "text/plain": [
       "   UID AGE_TEXT PERSONAL_GENDER          UF_SKINFACE          UF_BODYTYPE  \\\n",
       "0    1  31 - 35          Female  NO_INFO_UF_SKINFACE  NO_INFO_UF_BODYTYPE   \n",
       "\n",
       "      UF_HAIRTYPE                                           user_tag  \\\n",
       "0  NO_UF_HAIRTYPE  31 - 35,Female,NO_INFO_UF_SKINFACE,NO_INFO_UF_...   \n",
       "\n",
       "   user_id_num         product_tag  \\\n",
       "0            0  BID_1578,1821,2636   \n",
       "\n",
       "                                        UID_all_tags  \n",
       "0  31 - 35,Female,NO_INFO_UF_SKINFACE,NO_INFO_UF_...  "
      ]
     },
     "execution_count": 9,
     "metadata": {},
     "output_type": "execute_result"
    }
   ],
   "source": [
    "user_prev_product_tags = df_merge[['UID', 'product_tag']]\n",
    "user_prev_product_tags = user_prev_product_tags.dropna()\n",
    "user_prev_product_tags = user_prev_product_tags.groupby(\n",
    "    ['UID'])['product_tag'].apply(\n",
    "        ','.join).reset_index()\n",
    "\n",
    "# drop duplicates tags from each user rows\n",
    "user_prev_product_tags['product_tag'] = (\n",
    "    user_prev_product_tags['product_tag'].str.split(',').apply(set).str.join(','))\n",
    "\n",
    "# finally merge the dataframe with user dataframe \n",
    "df_user = df_user.merge(user_prev_product_tags, how='left', on='UID')\n",
    "\n",
    "# join user tags and their answered tags \n",
    "# we replace nan values with \"\"\n",
    "df_user['UID_all_tags'] = (\n",
    "    df_user[['user_tag', 'product_tag']].apply(\n",
    "        lambda x: ','.join(x.dropna()),\n",
    "        axis=1))\n",
    "\n",
    "df_user.head(1)"
   ]
  },
  {
   "cell_type": "code",
   "execution_count": 10,
   "metadata": {},
   "outputs": [],
   "source": [
    "df_product['product_tag'] = df_product['product_tag'].str.split(',').apply(set).str.join(',')\n",
    "df_user['UID_all_tags'] = df_user['UID_all_tags'].str.split(',').apply(set).str.join(',')"
   ]
  },
  {
   "cell_type": "code",
   "execution_count": 11,
   "metadata": {},
   "outputs": [],
   "source": [
    "product_feature_list = generate_feature_list(\n",
    "    df_product,\n",
    "    ['product_tag'])\n",
    "\n",
    "user_feature_list = generate_feature_list(\n",
    "    df_user,\n",
    "    ['UID_all_tags'])"
   ]
  },
  {
   "cell_type": "code",
   "execution_count": 12,
   "metadata": {},
   "outputs": [],
   "source": [
    "df_product['product_features'] = create_features(\n",
    "    df_product, ['product_tag'], \n",
    "    'product_id_num')\n",
    "\n",
    "df_user['user_features'] = create_features(\n",
    "    df_user,\n",
    "    ['UID_all_tags'],\n",
    "    'user_id_num')"
   ]
  },
  {
   "cell_type": "code",
   "execution_count": 13,
   "metadata": {},
   "outputs": [],
   "source": [
    "from lightfm.data import Dataset\n",
    "from lightfm import LightFM"
   ]
  },
  {
   "cell_type": "code",
   "execution_count": 14,
   "metadata": {},
   "outputs": [],
   "source": [
    "dataset = Dataset()\n",
    "dataset.fit(\n",
    "    set(df_user['user_id_num']), \n",
    "    set(df_product['product_id_num']),\n",
    "    item_features=product_feature_list, \n",
    "    user_features=user_feature_list)"
   ]
  },
  {
   "cell_type": "code",
   "execution_count": 15,
   "metadata": {},
   "outputs": [],
   "source": [
    "df_merge['point_tuple'] = list(zip(\n",
    "    df_merge.user_id_num, df_merge.product_id_num, df_merge.POINT))"
   ]
  },
  {
   "cell_type": "code",
   "execution_count": 16,
   "metadata": {},
   "outputs": [],
   "source": [
    "interactions, weights = dataset.build_interactions(\n",
    "    df_merge['point_tuple'])"
   ]
  },
  {
   "cell_type": "code",
   "execution_count": 17,
   "metadata": {},
   "outputs": [],
   "source": [
    "product_features = dataset.build_item_features(\n",
    "    df_product['product_features'])\n",
    "\n",
    "user_features = dataset.build_user_features(\n",
    "    df_user['user_features'])"
   ]
  },
  {
   "cell_type": "code",
   "execution_count": 18,
   "metadata": {},
   "outputs": [
    {
     "name": "stderr",
     "output_type": "stream",
     "text": [
      "Epoch: 100%|██████████| 20/20 [02:52<00:00,  8.61s/it]\n"
     ]
    },
    {
     "data": {
      "text/plain": [
       "<lightfm.lightfm.LightFM at 0x7fbeac6eb1f0>"
      ]
     },
     "execution_count": 18,
     "metadata": {},
     "output_type": "execute_result"
    }
   ],
   "source": [
    "model = LightFM(\n",
    "    no_components=150,\n",
    "    learning_rate=0.05,\n",
    "    loss='warp',\n",
    "    random_state=2019)\n",
    "\n",
    "model.fit(\n",
    "    interactions,\n",
    "    item_features=product_features,\n",
    "    user_features=user_features, sample_weight=weights,\n",
    "    epochs=20, num_threads=4, verbose=True)"
   ]
  },
  {
   "cell_type": "code",
   "execution_count": 20,
   "metadata": {},
   "outputs": [],
   "source": [
    "import pickle\n",
    "import os\n",
    "file = 'lightFM_model.pickle'\n",
    "if not os.path.exists(file):\n",
    "    with open(file, 'wb') as fle:\n",
    "        pickle.dump(model, fle, protocol=pickle.HIGHEST_PROTOCOL)\n",
    "else:\n",
    "    print(f\"{file} exists.\")"
   ]
  },
  {
   "cell_type": "code",
   "execution_count": 21,
   "metadata": {},
   "outputs": [],
   "source": [
    "import pickle\n",
    "loaded_model = pickle.load(open('lightFM_model.pickle', 'rb'))"
   ]
  },
  {
   "cell_type": "code",
   "execution_count": 22,
   "metadata": {},
   "outputs": [],
   "source": [
    "from lightfm.evaluation import auc_score"
   ]
  },
  {
   "cell_type": "code",
   "execution_count": 23,
   "metadata": {},
   "outputs": [],
   "source": [
    "def calculate_auc_score(lightfm_model, interactions_matrix, \n",
    "                        product_features, User_features): \n",
    "    \"\"\"\n",
    "    Measure the ROC AUC metric for a model. \n",
    "    A perfect score is 1.0.\n",
    "\n",
    "    Parameters\n",
    "    ----------\n",
    "    lightfm_model: LightFM model \n",
    "        A fitted lightfm model \n",
    "    interactions_matrix : \n",
    "        A lightfm interactions matrix \n",
    "    product_features, User_features: \n",
    "        Lightfm features \n",
    "        \n",
    "    Returns\n",
    "    -------\n",
    "    String containing AUC score \n",
    "    \"\"\"\n",
    "    score = auc_score( \n",
    "        lightfm_model, interactions_matrix, \n",
    "        item_features=product_features, \n",
    "        user_features=User_features, \n",
    "        num_threads=4).mean()\n",
    "    return score"
   ]
  },
  {
   "cell_type": "code",
   "execution_count": 27,
   "metadata": {},
   "outputs": [
    {
     "data": {
      "text/plain": [
       "0.99134266"
      ]
     },
     "execution_count": 27,
     "metadata": {},
     "output_type": "execute_result"
    }
   ],
   "source": [
    "calculate_auc_score(model, interactions, product_features, user_features)"
   ]
  },
  {
   "cell_type": "code",
   "execution_count": 129,
   "metadata": {},
   "outputs": [
    {
     "data": {
      "text/plain": [
       "0.99591017"
      ]
     },
     "execution_count": 129,
     "metadata": {},
     "output_type": "execute_result"
    }
   ],
   "source": [
    "calculate_auc_score(loaded_model, interactions, product_features, user_features)"
   ]
  },
  {
   "cell_type": "code",
   "execution_count": 24,
   "metadata": {},
   "outputs": [],
   "source": [
    "from IPython.display import display_html\n",
    "def display_side_by_side(*args):\n",
    "    html_str=''\n",
    "    for df in args:\n",
    "        html_str+=df.to_html()\n",
    "    display_html(html_str.replace('table','table style=\"display:inline\"'),raw=True)\n",
    "\n",
    "def previous_product(user, n_previous=3, show=True):\n",
    "    # print their previous answered product title\n",
    "    previous_product_id_num = df_merge.loc[df_merge['user_id_num'] == user][:n_previous]['product_id_num']\n",
    "    df_previous_product = df_product.loc[df_product['product_id_num'].isin(previous_product_id_num)]\n",
    "    if show:\n",
    "        print('User Id (' + str(user) + \"): Previous review product\")\n",
    "        display_side_by_side(\n",
    "            df_previous_product[['EID', 'PRODUCT_NAME', 'product_features']],\n",
    "            df_user.loc[df_user.user_id_num == user][['UID', 'user_id_num','user_tag']])\n",
    "    return df_previous_product\n",
    "\n",
    "def recommend_product(model, user, n_previous=3, top_n=10, show=True):\n",
    "    df_previous_product = previous_product(user, n_previous, show=show)\n",
    "    \n",
    "    # predict\n",
    "    discard_product_id = df_previous_product['product_id_num'].values.tolist()\n",
    "    df_use_for_prediction = df_product.loc[~df_product['product_id_num'].isin(discard_product_id)]\n",
    "    product_id_for_predict = df_use_for_prediction['product_id_num'].values.tolist()\n",
    "    \n",
    "    scores = model.predict(\n",
    "        user,\n",
    "        product_id_for_predict,\n",
    "        item_features=product_features,\n",
    "        user_features=user_features)\n",
    "    \n",
    "    df_use_for_prediction = df_use_for_prediction.assign(scores=scores)\n",
    "    df_use_for_prediction = df_use_for_prediction.sort_values(by='scores', ascending=False)[:top_n]\n",
    "    if show:\n",
    "        print('User Id (' + str(user) + \"): Recommended product: \")\n",
    "        display(df_use_for_prediction[['EID', 'PRODUCT_NAME', 'product_features']])\n",
    "    return df_use_for_prediction\n",
    "\n",
    "def recommends_product(model, user_ids, n_previous=3, top_n=10):\n",
    "    for user in user_ids:\n",
    "        recommend_product(model, user, n_previous, top_n)\n",
    "        print(\"=========================================================================================================\")"
   ]
  },
  {
   "cell_type": "code",
   "execution_count": 25,
   "metadata": {},
   "outputs": [],
   "source": [
    "from tqdm.notebook import tqdm"
   ]
  },
  {
   "cell_type": "code",
   "execution_count": 27,
   "metadata": {},
   "outputs": [
    {
     "data": {
      "application/vnd.jupyter.widget-view+json": {
       "model_id": "e530f421f2ec45558cd7edce05593981",
       "version_major": 2,
       "version_minor": 0
      },
      "text/plain": [
       "  0%|          | 0/103527 [00:00<?, ?it/s]"
      ]
     },
     "metadata": {},
     "output_type": "display_data"
    },
    {
     "name": "stdout",
     "output_type": "stream",
     "text": [
      "1721\n"
     ]
    }
   ],
   "source": [
    "n_previous=5\n",
    "count = 0\n",
    "for i in tqdm(range(df_merge['user_id_num'].max())):\n",
    "    previous = previous_product(i, None, show=False)\n",
    "    recommend = recommend_product(loaded_model, i, n_previous=n_previous, top_n=10, show=False)\n",
    "    result = recommend[recommend['EID'].isin(previous['EID'])]\n",
    "    \n",
    "    if len(result) > 0:\n",
    "        count += 1\n",
    "        # print('User Id (' + str(i) + \"): Previous review product\")\n",
    "        # display_side_by_side(\n",
    "        #     previous[['EID', 'PRODUCT_NAME']],\n",
    "        #     previous_product(i, 5, show=False)[['EID', 'PRODUCT_NAME']],\n",
    "        #     recommend[['EID', 'PRODUCT_NAME']],\n",
    "        #     result[['EID', 'PRODUCT_NAME']])\n",
    "        # print(\"=========================================================================================================\")\n",
    "print(count)\n",
    "print(count/(df_merge['user_id_num'].max()+1)*100)"
   ]
  },
  {
   "cell_type": "code",
   "execution_count": 29,
   "metadata": {},
   "outputs": [],
   "source": [
    "from lightfm.evaluation import precision_at_k\n",
    "from lightfm.cross_validation import random_train_test_split"
   ]
  },
  {
   "cell_type": "code",
   "execution_count": 31,
   "metadata": {},
   "outputs": [],
   "source": [
    "train_interactions, test_interactions = random_train_test_split(interactions, test_percentage=0.2)"
   ]
  },
  {
   "cell_type": "code",
   "execution_count": 33,
   "metadata": {},
   "outputs": [],
   "source": [
    "train_weights, test_weights = random_train_test_split(weights, test_percentage=0.2)\n"
   ]
  },
  {
   "cell_type": "code",
   "execution_count": 60,
   "metadata": {},
   "outputs": [
    {
     "name": "stderr",
     "output_type": "stream",
     "text": [
      "Epoch: 100%|██████████| 20/20 [05:20<00:00, 16.04s/it]\n"
     ]
    },
    {
     "data": {
      "text/plain": [
       "<lightfm.lightfm.LightFM at 0x7fbea86ff9d0>"
      ]
     },
     "execution_count": 60,
     "metadata": {},
     "output_type": "execute_result"
    }
   ],
   "source": [
    "model = LightFM(\n",
    "    no_components=250,\n",
    "    learning_rate=0.0005,\n",
    "    loss='warp',\n",
    "    random_state=2019)\n",
    "\n",
    "model.fit(\n",
    "    train_interactions,\n",
    "    item_features=product_features,\n",
    "    user_features=user_features,\n",
    "    epochs=20, num_threads=8, verbose=True)"
   ]
  },
  {
   "cell_type": "code",
   "execution_count": 61,
   "metadata": {},
   "outputs": [
    {
     "name": "stdout",
     "output_type": "stream",
     "text": [
      "Test precision_at_k score: 0.13128889\n"
     ]
    }
   ],
   "source": [
    "print(\"Test precision_at_k score:\", precision_at_k(loaded_model, interactions, item_features=product_features, user_features=user_features, train_interactions=train_interactions,\n",
    "                                   num_threads=8, check_intersections=False).mean())"
   ]
  },
  {
   "cell_type": "code",
   "execution_count": null,
   "metadata": {},
   "outputs": [],
   "source": [
    "0.13, 150\n"
   ]
  },
  {
   "cell_type": "code",
   "execution_count": 43,
   "metadata": {},
   "outputs": [
    {
     "name": "stdout",
     "output_type": "stream",
     "text": [
      "Test AUC score: 0.98318493\n"
     ]
    }
   ],
   "source": [
    "print(\"Test AUC score:\", auc_score(model, test_interactions, item_features=product_features, user_features=user_features, \n",
    "                                   num_threads=7).mean())"
   ]
  },
  {
   "cell_type": "code",
   "execution_count": 45,
   "metadata": {},
   "outputs": [
    {
     "name": "stdout",
     "output_type": "stream",
     "text": [
      "Collaborative filtering test AUC: 0.98344797\n"
     ]
    }
   ],
   "source": [
    "test_auc = auc_score(model, test_interactions, item_features=product_features, user_features=user_features,\n",
    "                     train_interactions=train_interactions, num_threads=7, check_intersections=False).mean()\n",
    "print('Collaborative filtering test AUC: %s' % test_auc)"
   ]
  },
  {
   "cell_type": "code",
   "execution_count": null,
   "metadata": {},
   "outputs": [],
   "source": []
  }
 ],
 "metadata": {
  "kernelspec": {
   "display_name": "Python 3",
   "language": "python",
   "name": "python3"
  },
  "language_info": {
   "codemirror_mode": {
    "name": "ipython",
    "version": 3
   },
   "file_extension": ".py",
   "mimetype": "text/x-python",
   "name": "python",
   "nbconvert_exporter": "python",
   "pygments_lexer": "ipython3",
   "version": "3.8.10"
  }
 },
 "nbformat": 4,
 "nbformat_minor": 2
}
