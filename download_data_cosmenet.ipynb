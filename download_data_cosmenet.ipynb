{
 "cells": [
  {
   "cell_type": "code",
   "execution_count": 6,
   "metadata": {},
   "outputs": [],
   "source": [
    "MYSQL_DB='cosmenet_db'\n",
    "MYSQL_USER='website'\n",
    "MYSQL_PASSWORD='123prod@WEBNic'\n",
    "MYSQL_HOST='10.148.0.30'\n",
    "MYSQL_PORT=3306"
   ]
  },
  {
   "cell_type": "code",
   "execution_count": 7,
   "metadata": {},
   "outputs": [],
   "source": [
    "import pymysql, os\n",
    "import pandas as pd\n",
    "import csv"
   ]
  },
  {
   "cell_type": "code",
   "execution_count": 8,
   "metadata": {},
   "outputs": [],
   "source": [
    "def connect_mysql():\n",
    "    mysql_conn = pymysql.connect(host=MYSQL_HOST,\n",
    "                                user=MYSQL_USER,\n",
    "                                password=MYSQL_PASSWORD,\n",
    "                                database=MYSQL_DB,\n",
    "                                port=MYSQL_PORT)\n",
    "    mysql_cursor = mysql_conn.cursor()\n",
    "    return mysql_cursor, mysql_conn"
   ]
  },
  {
   "cell_type": "code",
   "execution_count": 9,
   "metadata": {},
   "outputs": [],
   "source": [
    "def get_data_table(table):\n",
    "    mysql_cursor, mysql_conn = connect_mysql()\n",
    "    \n",
    "    mysql_cursor.execute(f\"SELECT * FROM {table}\")\n",
    "    data = mysql_cursor.fetchall()\n",
    "    columns = [i[0] for i in mysql_cursor.description]\n",
    "    \n",
    "    mysql_cursor.close()\n",
    "    mysql_conn.close()\n",
    "    return data, columns\n",
    "\n",
    "def save_table_path(table):\n",
    "    data, columns = get_data_table(table)\n",
    "    path = os.path.join(os.getcwd(), f'db_cosmenet/raw_data_production/{table}.csv')\n",
    "    fp = open(path, 'w')\n",
    "    myFile = csv.writer(fp, lineterminator = '\\n') #use lineterminator for windows\n",
    "    myFile.writerow(columns)\n",
    "    myFile.writerows(data)\n",
    "    fp.close()\n",
    "    print(f'{table} success')"
   ]
  },
  {
   "cell_type": "code",
   "execution_count": 10,
   "metadata": {},
   "outputs": [
    {
     "name": "stdout",
     "output_type": "stream",
     "text": [
      "b_user success\n",
      "b_uts_user success\n",
      "b_product_review success\n",
      "b_iblock_element success\n",
      "b_iblock_section success\n",
      "b_iblock_section_element success\n"
     ]
    }
   ],
   "source": [
    "save_table_path('b_user')\n",
    "save_table_path('b_uts_user')\n",
    "save_table_path('b_product_review')\n",
    "save_table_path('b_iblock_element')\n",
    "save_table_path('b_iblock_section')\n",
    "save_table_path('b_iblock_section_element')"
   ]
  }
 ],
 "metadata": {
  "kernelspec": {
   "display_name": "Python 3",
   "language": "python",
   "name": "python3"
  },
  "language_info": {
   "codemirror_mode": {
    "name": "ipython",
    "version": 3
   },
   "file_extension": ".py",
   "mimetype": "text/x-python",
   "name": "python",
   "nbconvert_exporter": "python",
   "pygments_lexer": "ipython3",
   "version": "3.8.10"
  }
 },
 "nbformat": 4,
 "nbformat_minor": 2
}
