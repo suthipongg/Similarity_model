{
 "cells": [
  {
   "cell_type": "code",
   "execution_count": 2,
   "metadata": {},
   "outputs": [],
   "source": [
    "import pandas as pd"
   ]
  },
  {
   "cell_type": "code",
   "execution_count": 3,
   "metadata": {},
   "outputs": [],
   "source": [
    "df_search_product = pd.read_csv(\"/home/music/Downloads/view_b_product.csv\")"
   ]
  },
  {
   "cell_type": "code",
   "execution_count": 108,
   "metadata": {},
   "outputs": [],
   "source": [
    "df_search_product['BID'] = df_search_product['BID'].fillna(-1).astype(int)"
   ]
  },
  {
   "cell_type": "code",
   "execution_count": 4,
   "metadata": {},
   "outputs": [],
   "source": [
    "ls_searh_field = ['PRODUCT_NAME', 'PREVIEW_TEXT', 'TAGS', 'BRAND_NAME', 'TAGS_NAME']"
   ]
  },
  {
   "cell_type": "code",
   "execution_count": 40,
   "metadata": {},
   "outputs": [],
   "source": [
    "from elasticsearch import Elasticsearch\n",
    "from elasticsearch.helpers import bulk"
   ]
  },
  {
   "cell_type": "code",
   "execution_count": 139,
   "metadata": {},
   "outputs": [],
   "source": [
    "stop_lang_filter = {\n",
    "    \"stop_lang\": {\n",
    "    \"type\":       \"stop\",\n",
    "    \"stopwords\":  [\n",
    "        \"_thai_\" ,\n",
    "        \"_english_\" \n",
    "        ]\n",
    "    }\n",
    "}\n",
    "\n",
    "english_stemmer_filter = {\n",
    "    \"english_stemmer\": {\n",
    "        \"type\":       \"stemmer\",\n",
    "        \"language\":   \"english\"\n",
    "    }\n",
    "}\n",
    "\n",
    "english_possessive_stemmer_filter = {\n",
    "    \"english_possessive_stemmer\": {\n",
    "        \"type\":       \"stemmer\",\n",
    "        \"language\":   \"possessive_english\"\n",
    "    }\n",
    "}\n",
    "\n",
    "ls_filter = [\n",
    "    \"lowercase\",\n",
    "    \"decimal_digit\",\n",
    "    \"stop_lang\",\n",
    "    \"asciifolding\",\n",
    "    \"classic\",\n",
    "    \"english_stemmer\",\n",
    "    \"english_possessive_stemmer\"\n",
    "]\n",
    "\n",
    "search = {\n",
    "    \"search\": {\n",
    "        \"tokenizer\":  \"classic\",\n",
    "        \"filter\": [\n",
    "            \"lowercase\",\n",
    "            \"decimal_digit\",\n",
    "            \"asciifolding\",\n",
    "            \"classic\",\n",
    "        ]\n",
    "    }\n",
    "}\n",
    "\n",
    "full_search = {\n",
    "    \"full_search\": {\n",
    "        \"tokenizer\":  \"classic\",\n",
    "        \"filter\": [\n",
    "            \"lowercase\",\n",
    "            \"decimal_digit\",\n",
    "            \"stop_lang\",\n",
    "            \"asciifolding\",\n",
    "            \"classic\",\n",
    "            \"english_stemmer\",\n",
    "            \"english_possessive_stemmer\"\n",
    "        ]\n",
    "    }\n",
    "}\n",
    "\n",
    "full_put_search = {\n",
    "    \"full_put_search\": {\n",
    "        \"tokenizer\":  \"classic\",\n",
    "        \"filter\": [\n",
    "            \"lowercase\",\n",
    "            \"decimal_digit\",\n",
    "            \"stop_lang\",\n",
    "            \"asciifolding\",\n",
    "            \"classic\",\n",
    "            \"english_stemmer\",\n",
    "            \"english_possessive_stemmer\",\n",
    "            \"unique\"\n",
    "        ]\n",
    "    }\n",
    "}\n",
    "\n",
    "put_search = {\n",
    "    \"put_search\": {\n",
    "        \"tokenizer\":  \"classic\",\n",
    "        \"filter\": [\n",
    "            \"lowercase\",\n",
    "            \"decimal_digit\",\n",
    "            \"asciifolding\",\n",
    "            \"classic\",\n",
    "            \"unique\"\n",
    "        ]\n",
    "    }\n",
    "}\n",
    "\n",
    "setting = {\n",
    "    \"settings\": {\n",
    "        \"analysis\": {\n",
    "            \"filter\": {\n",
    "                **stop_lang_filter, \n",
    "                **english_stemmer_filter, \n",
    "                **english_possessive_stemmer_filter\n",
    "            },\n",
    "            \"analyzer\": {\n",
    "                **search,\n",
    "                **put_search,\n",
    "                **full_put_search,\n",
    "                **full_search\n",
    "            }\n",
    "        }\n",
    "    }\n",
    "}"
   ]
  },
  {
   "cell_type": "code",
   "execution_count": 143,
   "metadata": {},
   "outputs": [],
   "source": [
    "mapping = {\n",
    "    \"mappings\":{\n",
    "        \"properties\":{\n",
    "            \"search\":{\n",
    "                \"type\":\"text\",\n",
    "                \"analyzer\":\"put_search\",\n",
    "                \"fields\": {\n",
    "                    \"keyword\": {\n",
    "                        \"type\": \"keyword\",\n",
    "                        \"ignore_above\": 256\n",
    "                    },\n",
    "                    \"full_put_search\": {\n",
    "                        \"type\": \"text\",\n",
    "                        \"analyzer\": \"full_put_search\"\n",
    "                    },\n",
    "                    \"search\": {\n",
    "                        \"type\": \"text\",\n",
    "                        \"analyzer\": \"search\"\n",
    "                    },\n",
    "                    \"full_search\": {\n",
    "                        \"type\": \"text\",\n",
    "                        \"analyzer\": \"full_search\"\n",
    "                    }\n",
    "                }\n",
    "            },\n",
    "            'product_id':{\n",
    "                \"type\":\"keyword\",\n",
    "            },\n",
    "            'original_search':{\n",
    "                \"type\":\"text\",\n",
    "                \"fields\": {\n",
    "                    \"keyword\": {\n",
    "                        \"type\": \"keyword\",\n",
    "                        \"ignore_above\": 256\n",
    "                    }\n",
    "                }\n",
    "                    \n",
    "            },\n",
    "            'product_name':{\n",
    "                \"type\":\"text\",\n",
    "                \"fields\": {\n",
    "                    \"keyword\": {\n",
    "                        \"type\": \"keyword\",\n",
    "                        \"ignore_above\": 256\n",
    "                    }\n",
    "                }\n",
    "            },\n",
    "            'brand_name':{\n",
    "                \"type\":\"text\",\n",
    "                \"fields\": {\n",
    "                    \"keyword\": {\n",
    "                        \"type\": \"keyword\",\n",
    "                        \"ignore_above\": 256\n",
    "                    }\n",
    "                }\n",
    "            },\n",
    "            'brand_id':{\n",
    "                \"type\":\"keyword\",\n",
    "            },\n",
    "        }\n",
    "    }\n",
    "}"
   ]
  },
  {
   "cell_type": "code",
   "execution_count": 59,
   "metadata": {},
   "outputs": [],
   "source": [
    "es = Elasticsearch(\"192.168.1.97:9200\")"
   ]
  },
  {
   "cell_type": "code",
   "execution_count": 144,
   "metadata": {},
   "outputs": [
    {
     "name": "stderr",
     "output_type": "stream",
     "text": [
      "/tmp/ipykernel_19889/1457842971.py:3: DeprecationWarning: The 'body' parameter is deprecated for the 'create' API and will be removed in a future version. Instead use API parameters directly. See https://github.com/elastic/elasticsearch-py/issues/1698 for more information\n",
      "  es.indices.create(index=name_index, body={**setting, **mapping})\n"
     ]
    }
   ],
   "source": [
    "name_index = \"search_product\"\n",
    "if not es.indices.exists(index=name_index):\n",
    "    es.indices.create(index=name_index, body={**setting, **mapping})"
   ]
  },
  {
   "cell_type": "code",
   "execution_count": 103,
   "metadata": {},
   "outputs": [],
   "source": [
    "from tqdm import tqdm\n",
    "import numpy as np"
   ]
  },
  {
   "cell_type": "code",
   "execution_count": 145,
   "metadata": {},
   "outputs": [
    {
     "name": "stderr",
     "output_type": "stream",
     "text": [
      "100%|██████████| 30030/30030 [00:19<00:00, 1557.12it/s]\n"
     ]
    }
   ],
   "source": [
    "ls_bulks = []\n",
    "\n",
    "for row in tqdm(range(len(df_search_product))):\n",
    "    data = df_search_product.iloc[row]\n",
    "    str_search = []\n",
    "    for field in ls_searh_field:\n",
    "        text = data[field]\n",
    "        if pd.isna(text):\n",
    "            continue\n",
    "        elif type(text) != str:\n",
    "            text = str(text)\n",
    "        str_search.append(text)\n",
    "        \n",
    "    str_search = ' '.join(str_search)\n",
    "    body = {\n",
    "        '_id': row,\n",
    "        \"search\": str_search,\n",
    "        \"product_id\": data['EID'],\n",
    "        'original_search': str_search,\n",
    "        'product_name': data['PRODUCT_NAME'],\n",
    "        'brand_name': '' if data['BRAND_NAME'] is np.nan else data['BRAND_NAME'],\n",
    "        'brand_id': -1 if data['BID'] is np.nan else data['BID'],\n",
    "    }\n",
    "    ls_bulks.append(body)\n",
    "    if row % 1000 == 999:\n",
    "        bulk(es, ls_bulks, index=name_index)\n",
    "        ls_bulks = []\n"
   ]
  },
  {
   "cell_type": "code",
   "execution_count": 149,
   "metadata": {},
   "outputs": [],
   "source": [
    "def auto_complete(text):\n",
    "    analyzed_text = es.indices.analyze(index=name_index, body={\"analyzer\": \"search\", \"text\": text})['tokens']\n",
    "    body_search = {'suggest': {}}\n",
    "    for n, text in enumerate(analyzed_text):\n",
    "        body_search['suggest'][str(n)+'_search'] = {}\n",
    "        body_search['suggest'][str(n)+'_search']['text'] = text['token']\n",
    "        body_search['suggest'][str(n)+'_search']['term'] = {\n",
    "            \"field\": \"search\",\n",
    "            \"size\": 1,\n",
    "            \"min_word_length\" : 2}\n",
    "    return es.search(index=name_index, body=body_search)['suggest']\n",
    "\n",
    "def search_product(ls_suggest, n_result=5):\n",
    "    ls_text = []\n",
    "    for n, text in enumerate(ls_suggest):\n",
    "        if len(ls_suggest[text][0]['options']) > 0:\n",
    "            ls_text.append(ls_suggest[text][0]['options'][0]['text'])\n",
    "        else:\n",
    "            \n",
    "            ls_text.append(ls_suggest[text][0]['text'])\n",
    "            \n",
    "    body_product = {\n",
    "        \"query\": {\n",
    "            \"match\": {\n",
    "                \"search\": { \n",
    "                    \"query\": ' '.join(ls_text),\n",
    "                    \"analyzer\": \"search\"\n",
    "                }\n",
    "            }\n",
    "        },\n",
    "        \"_source\": {\n",
    "            \"excludes\": ['original_search', 'brand_id']\n",
    "        },\n",
    "        \"size\": n_result\n",
    "    }\n",
    "    return es.search(index=name_index, body=body_product)"
   ]
  },
  {
   "cell_type": "code",
   "execution_count": 150,
   "metadata": {},
   "outputs": [],
   "source": [
    "def pipeline_search(text, n_result=5):\n",
    "    ls_suggest = auto_complete(text)\n",
    "    result = search_product(ls_suggest, n_result=n_result)\n",
    "    ls_product = []\n",
    "    for res in result['hits']['hits']:\n",
    "        print(f\"{res['_score']:.2f} : {res['_source']['brand_name']} : {res['_source']['product_name']}\")\n",
    "        print(f\"    {res['_source']['search']}\")\n",
    "        print(\"=====================================\")\n",
    "        ls_product.append(res['_source']['product_id'])\n",
    "    return ls_product"
   ]
  },
  {
   "cell_type": "code",
   "execution_count": 187,
   "metadata": {},
   "outputs": [],
   "source": [
    "import time"
   ]
  },
  {
   "cell_type": "code",
   "execution_count": 191,
   "metadata": {},
   "outputs": [
    {
     "name": "stdout",
     "output_type": "stream",
     "text": [
      "10.27 : Ranong Tea : Ranongtea Herbalist\n",
      "    Ranongtea Herbalist Ranongtea Herbalist, เครื่องดื่มเพื่อสุขภาพ, ชา, tea Ranong Tea Dietary Food (Healthy care), ผลิตภัณฑ์เสริมอาหาร, อาหารเสริม, อาหารเสริมบำรุงสมอง, วิตามินบำรุงสายตา, วิตามินบำรุงร่างกาย\n",
      "=====================================\n",
      "6.42 : NIVEA : Original Care\n",
      "    Original Care Nivea Original Care NIVEA ORIGINAL CARE, NIVEA ESSENTIAL CARE, NIVEA, LIP CARE, ลิปมัน, นีเวีย, ลิปมัน นีเวีย NIVEA Lip Care, ลิปแคร์, ลิปมัน, ลิปบาล์ม, ลิปบำรุงริมฝีปาก, ลิปมันเปลี่ยนสี\n",
      "=====================================\n",
      "6.24 : NIVEA : White Day Cream SPF15\n",
      "    White Day Cream SPF15 Nivea White Day Cream SPF15 nivea, day cream, face cream, cream, นีเวีย, เดย์ครีม, ครีมบำรุงผิวหน้า NIVEA Day Cream, เดย์ครีม, ครีมบํารุงผิวหน้ากลางวัน, ครีมทากลางวัน, ครีมกลางวัน\n",
      "=====================================\n",
      "6.24 : NIVEA : Lip Butter\n",
      "    Lip Butter Nivea Lip Butter nivea, nivea lip butter, lip butter, lip care, นีเวีย, ลิป บัตเตอร์, ลิปแคร์, ลิป NIVEA Lip Care, ลิปแคร์, ลิปมัน, ลิปบาล์ม, ลิปบำรุงริมฝีปาก, ลิปมันเปลี่ยนสี\n",
      "=====================================\n",
      "6.24 : NIVEA : Micellair Expert Micellar Wipes\n",
      "    Micellair Expert Micellar Wipes Nivea Micellair Expert Micellar Wipes nivea, nivea micellair, nivea micellair expert, cleansing wipes, cleansing, micellar, นีเวีย, คลีนซิ่งไวฟ, กระดาษเช็ดเครื่องสำอาง NIVEA Cleansing Wipes, แผ่นเช็ดเครื่องสําอาง, ทิชชู่เปียกเช็ดเครื่องสำอาง, ทิชชู่เปียกลบเมคอัพ, กระดาษเช็ดเครื่องสำอาง\n",
      "=====================================\n",
      "6.07 : NIVEA : Acne Care Super Serum\n",
      "    Acne Care Super Serum Nivea Acne Care Super Serum nivea, nivea acne, acne care, acne serum, face serum, serum, นีเวีย, เซรั่มลดสิว, เซรั่มบำรุงผิวหน้า, เซรั่ม NIVEA Serum, เซรั่ม, เซรั่มบำรุงผิว, เซรั่มทาหน้า, เซรั่มไฮยา\n",
      "=====================================\n",
      "6.07 : NIVEA : Shine Lip Care\n",
      "    Shine Lip Care Nivea Shine Lip Care nivea, nivea shine lip, lip care, lip balm, นีเวีย, ลิปแคร์, ลิปบาล์ม, ลิปบาล์มมีสี, ริมฝีปากชุ่มชื้น NIVEA Lip Care, ลิปแคร์, ลิปมัน, ลิปบาล์ม, ลิปบำรุงริมฝีปาก, ลิปมันเปลี่ยนสี\n",
      "=====================================\n",
      "6.07 : NIVEA : Sun Protect & Refresh Body Lotion SPF50 PA++++\n",
      "    Sun Protect & Refresh Body Lotion SPF50 PA++++ Nivea Sun Protect & Refresh Body Lotion SPF50 PA++++  nivea sun protect & refresh body lotion spf50 pa++++, nivea sun protect, nivea, นีเวีย, ครีมกันแดด NIVEA Body Sunscreen, ครีมกันแดดตัว, กันแดดตัว\n",
      "=====================================\n",
      "5.91 : NIVEA : Q10 Plus Anti Wrinkle Eye Care\n",
      "    Q10 Plus Anti Wrinkle Eye Care Nivea Q10 Plus Anti Wrinkle Eye Care nivea, q10, eye care, eye cream, นีเวีย, อายครีม, อายแคร์ NIVEA Eye Care, อายครีม, ครีมบำรุงใต้ตา, ครีมบำรุงผิวรอบดวงตา, ครีมทาใต้ตา, eye cream\n",
      "=====================================\n",
      "5.91 : NIVEA : Acne Repair Spot Serum\n",
      "    Acne Repair Spot Serum Nivea Acne Repair Spot Serum nivea, nivea acne care, nivea serum, acne serum, acne care, spot serum, นีเวีย, เจลแต้มสิว, แต้มสิว, ลดสิว NIVEA Acne Care, เจลแต้มสิว, ที่แต้มสิว,  แต้มสิว, เจลลดสิว,  ครีมลดสิว, ยาแต้มสิว\n",
      "=====================================\n",
      "time 24.35 ms\n"
     ]
    },
    {
     "name": "stderr",
     "output_type": "stream",
     "text": [
      "/tmp/ipykernel_19889/2998513151.py:11: DeprecationWarning: The 'body' parameter is deprecated for the 'search' API and will be removed in a future version. Instead use API parameters directly. See https://github.com/elastic/elasticsearch-py/issues/1698 for more information\n",
      "  return es.search(index=name_index, body=body_search)['suggest']\n",
      "/tmp/ipykernel_19889/2998513151.py:36: DeprecationWarning: The 'body' parameter is deprecated for the 'search' API and will be removed in a future version. Instead use API parameters directly. See https://github.com/elastic/elasticsearch-py/issues/1698 for more information\n",
      "  return es.search(index=name_index, body=body_product)\n"
     ]
    }
   ],
   "source": [
    "test_text = \"นีเวีย ชาย\"\n",
    "st = time.time()\n",
    "ls_product = pipeline_search(test_text, n_result=10)\n",
    "print(f\"time {(time.time() - st)*1000:.2f} ms\")"
   ]
  },
  {
   "cell_type": "code",
   "execution_count": 184,
   "metadata": {},
   "outputs": [
    {
     "data": {
      "text/plain": [
       "[35208, 647, 644, 2434, 646, 643, 14625, 653, 2269, 39718]"
      ]
     },
     "execution_count": 184,
     "metadata": {},
     "output_type": "execute_result"
    }
   ],
   "source": [
    "ls_product"
   ]
  },
  {
   "cell_type": "code",
   "execution_count": 154,
   "metadata": {},
   "outputs": [
    {
     "data": {
      "text/plain": [
       "Index(['ID', 'EID', 'BID', 'ACTION', 'COMMENT', 'REGULAR', 'ACTUAL',\n",
       "       'DATE_CREATE', 'modify_date', 'TIMESTAMP_TOP', 'UID', 'AUTHOR_IP',\n",
       "       'AUTHOR_REAL_IP', 'COMMENT_IMG', 'COMMENT_IMG_2', 'COMMENT_IMG_3',\n",
       "       'COMMENT_IMG_4', 'COMMENT_IMG_5', 'REVIEW_SHOW', 'REVIEW_WHEN', 'POINT',\n",
       "       'ENAME', 'EIMG', 'BRAND', 'TYPE', 'TYPE_ID', 'UNAME', 'UIMG',\n",
       "       'LOCATION', 'EFFECT', 'D_USER', 'FID', 'campaing_name', 'SEARCH_TXT'],\n",
       "      dtype='object')"
      ]
     },
     "execution_count": 154,
     "metadata": {},
     "output_type": "execute_result"
    }
   ],
   "source": [
    "df_rev = pd.read_csv(\"/home/music/Downloads/review.csv\", low_memory=False)\n",
    "df_rev.columns"
   ]
  },
  {
   "cell_type": "code",
   "execution_count": 161,
   "metadata": {},
   "outputs": [
    {
     "data": {
      "text/plain": [
       "'ดินสอเขียนคิ้ว เมลินดา ตัวนี้ใช้มาหลายแท่งมากๆ เป็นสิบแท่งก็ว่าได้ แต่เพิ่งจะมีโอกาสมารีวิว เนื้อดินสอนุ่ม เขียนง่ายมาก สีสวย กันน้ำ กันเหงื่อ ติดทนนานมากๆค่ะ เพื่อนๆคนไหนกำลังมองหาดินสอเขียนคิ้วถูกและดี แนะนำตัวนี่เลยค่ะ เริ่ดมากค่า'"
      ]
     },
     "execution_count": 161,
     "metadata": {},
     "output_type": "execute_result"
    }
   ],
   "source": [
    "df_rev.iloc[0]['COMMENT']"
   ]
  },
  {
   "cell_type": "code",
   "execution_count": 185,
   "metadata": {},
   "outputs": [],
   "source": [
    "review = '\\n\\n'.join(df_rev[df_rev['EID'] == ls_product[1]]['COMMENT'].values.tolist())\n",
    "ls_review = df_rev[df_rev['EID'] == ls_product[1]]['COMMENT'].values.tolist()\n",
    "review_clean = '\\n\\n'.join([review.replace('\\r', ' ') for review in ls_review])"
   ]
  },
  {
   "cell_type": "code",
   "execution_count": 186,
   "metadata": {},
   "outputs": [
    {
     "name": "stdout",
     "output_type": "stream",
     "text": [
      "กลิ่นหอมติดทนนานมาก ติดทนนานทั้งวันเลย เป็นกลิ่นแบบผู้ใหญ่นิดๆ ใช้ได้เรื่อๆไม่ฉุนเลย\n",
      "\n",
      "ได้ไซส์เทสเตอร์มาลองใช้ดูก่อนค่ะ ก่อนนี้ไม่เคยใช้น้ำหอมเลยอยากลองใช้ดูบ้าง เลยลองเลือกแบรนด์นี้มาลอง กลิ่นหอมติดทนนานมากค่ะ ตั้งแต่เช้าจรดเย็นกลิ่นไม่จางเลย ชอบที่กลิ่นหอมกำลังดี จะว่าหวานก็หวานแต่หวานไม่มาก แอบมีความเซ็กซี่เล็กๆ ไม่ชวนเวียนหัวดีค่ะ เราว่าจะฉีดในโอกาสไหนๆก็ได้ทั้งนั้นนะ ทั้งทำงาน เที่ยว หรือโอกาสพิเศษอื่นๆ\n",
      "\n",
      "หอมมากๆ  หอมแนวไฮโซๆ\n"
     ]
    }
   ],
   "source": [
    "print(review_clean)"
   ]
  },
  {
   "cell_type": "code",
   "execution_count": null,
   "metadata": {},
   "outputs": [],
   "source": []
  }
 ],
 "metadata": {
  "kernelspec": {
   "display_name": "Python 3",
   "language": "python",
   "name": "python3"
  },
  "language_info": {
   "codemirror_mode": {
    "name": "ipython",
    "version": 3
   },
   "file_extension": ".py",
   "mimetype": "text/x-python",
   "name": "python",
   "nbconvert_exporter": "python",
   "pygments_lexer": "ipython3",
   "version": "3.8.10"
  }
 },
 "nbformat": 4,
 "nbformat_minor": 2
}
