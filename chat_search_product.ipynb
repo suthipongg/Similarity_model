{
 "cells": [
  {
   "cell_type": "code",
   "execution_count": 1,
   "metadata": {},
   "outputs": [],
   "source": [
    "import pandas as pd"
   ]
  },
  {
   "cell_type": "code",
   "execution_count": 3,
   "metadata": {},
   "outputs": [],
   "source": [
    "df_search_product = pd.read_csv(\"/home/music/Downloads/view_b_product.csv\")"
   ]
  },
  {
   "cell_type": "code",
   "execution_count": 108,
   "metadata": {},
   "outputs": [],
   "source": [
    "df_search_product['BID'] = df_search_product['BID'].fillna(-1).astype(int)"
   ]
  },
  {
   "cell_type": "code",
   "execution_count": 4,
   "metadata": {},
   "outputs": [],
   "source": [
    "ls_searh_field = ['PRODUCT_NAME', 'PREVIEW_TEXT', 'TAGS', 'BRAND_NAME', 'TAGS_NAME']"
   ]
  },
  {
   "cell_type": "code",
   "execution_count": 2,
   "metadata": {},
   "outputs": [],
   "source": [
    "from elasticsearch import Elasticsearch\n",
    "from elasticsearch.helpers import bulk"
   ]
  },
  {
   "cell_type": "code",
   "execution_count": 139,
   "metadata": {},
   "outputs": [],
   "source": [
    "stop_lang_filter = {\n",
    "    \"stop_lang\": {\n",
    "    \"type\":       \"stop\",\n",
    "    \"stopwords\":  [\n",
    "        \"_thai_\" ,\n",
    "        \"_english_\" \n",
    "        ]\n",
    "    }\n",
    "}\n",
    "\n",
    "english_stemmer_filter = {\n",
    "    \"english_stemmer\": {\n",
    "        \"type\":       \"stemmer\",\n",
    "        \"language\":   \"english\"\n",
    "    }\n",
    "}\n",
    "\n",
    "english_possessive_stemmer_filter = {\n",
    "    \"english_possessive_stemmer\": {\n",
    "        \"type\":       \"stemmer\",\n",
    "        \"language\":   \"possessive_english\"\n",
    "    }\n",
    "}\n",
    "\n",
    "ls_filter = [\n",
    "    \"lowercase\",\n",
    "    \"decimal_digit\",\n",
    "    \"stop_lang\",\n",
    "    \"asciifolding\",\n",
    "    \"classic\",\n",
    "    \"english_stemmer\",\n",
    "    \"english_possessive_stemmer\"\n",
    "]\n",
    "\n",
    "search = {\n",
    "    \"search\": {\n",
    "        \"tokenizer\":  \"classic\",\n",
    "        \"filter\": [\n",
    "            \"lowercase\",\n",
    "            \"decimal_digit\",\n",
    "            \"asciifolding\",\n",
    "            \"classic\",\n",
    "        ]\n",
    "    }\n",
    "}\n",
    "\n",
    "full_search = {\n",
    "    \"full_search\": {\n",
    "        \"tokenizer\":  \"classic\",\n",
    "        \"filter\": [\n",
    "            \"lowercase\",\n",
    "            \"decimal_digit\",\n",
    "            \"stop_lang\",\n",
    "            \"asciifolding\",\n",
    "            \"classic\",\n",
    "            \"english_stemmer\",\n",
    "            \"english_possessive_stemmer\"\n",
    "        ]\n",
    "    }\n",
    "}\n",
    "\n",
    "full_put_search = {\n",
    "    \"full_put_search\": {\n",
    "        \"tokenizer\":  \"classic\",\n",
    "        \"filter\": [\n",
    "            \"lowercase\",\n",
    "            \"decimal_digit\",\n",
    "            \"stop_lang\",\n",
    "            \"asciifolding\",\n",
    "            \"classic\",\n",
    "            \"english_stemmer\",\n",
    "            \"english_possessive_stemmer\",\n",
    "            \"unique\"\n",
    "        ]\n",
    "    }\n",
    "}\n",
    "\n",
    "put_search = {\n",
    "    \"put_search\": {\n",
    "        \"tokenizer\":  \"classic\",\n",
    "        \"filter\": [\n",
    "            \"lowercase\",\n",
    "            \"decimal_digit\",\n",
    "            \"asciifolding\",\n",
    "            \"classic\",\n",
    "            \"unique\"\n",
    "        ]\n",
    "    }\n",
    "}\n",
    "\n",
    "setting = {\n",
    "    \"settings\": {\n",
    "        \"analysis\": {\n",
    "            \"filter\": {\n",
    "                **stop_lang_filter, \n",
    "                **english_stemmer_filter, \n",
    "                **english_possessive_stemmer_filter\n",
    "            },\n",
    "            \"analyzer\": {\n",
    "                **search,\n",
    "                **put_search,\n",
    "                **full_put_search,\n",
    "                **full_search\n",
    "            }\n",
    "        }\n",
    "    }\n",
    "}"
   ]
  },
  {
   "cell_type": "code",
   "execution_count": 143,
   "metadata": {},
   "outputs": [],
   "source": [
    "mapping = {\n",
    "    \"mappings\":{\n",
    "        \"properties\":{\n",
    "            \"search\":{\n",
    "                \"type\":\"text\",\n",
    "                \"analyzer\":\"put_search\",\n",
    "                \"fields\": {\n",
    "                    \"keyword\": {\n",
    "                        \"type\": \"keyword\",\n",
    "                        \"ignore_above\": 256\n",
    "                    },\n",
    "                    \"full_put_search\": {\n",
    "                        \"type\": \"text\",\n",
    "                        \"analyzer\": \"full_put_search\"\n",
    "                    },\n",
    "                    \"search\": {\n",
    "                        \"type\": \"text\",\n",
    "                        \"analyzer\": \"search\"\n",
    "                    },\n",
    "                    \"full_search\": {\n",
    "                        \"type\": \"text\",\n",
    "                        \"analyzer\": \"full_search\"\n",
    "                    }\n",
    "                }\n",
    "            },\n",
    "            'product_id':{\n",
    "                \"type\":\"keyword\",\n",
    "            },\n",
    "            'original_search':{\n",
    "                \"type\":\"text\",\n",
    "                \"fields\": {\n",
    "                    \"keyword\": {\n",
    "                        \"type\": \"keyword\",\n",
    "                        \"ignore_above\": 256\n",
    "                    }\n",
    "                }\n",
    "                    \n",
    "            },\n",
    "            'product_name':{\n",
    "                \"type\":\"text\",\n",
    "                \"fields\": {\n",
    "                    \"keyword\": {\n",
    "                        \"type\": \"keyword\",\n",
    "                        \"ignore_above\": 256\n",
    "                    }\n",
    "                }\n",
    "            },\n",
    "            'brand_name':{\n",
    "                \"type\":\"text\",\n",
    "                \"fields\": {\n",
    "                    \"keyword\": {\n",
    "                        \"type\": \"keyword\",\n",
    "                        \"ignore_above\": 256\n",
    "                    }\n",
    "                }\n",
    "            },\n",
    "            'brand_id':{\n",
    "                \"type\":\"keyword\",\n",
    "            },\n",
    "        }\n",
    "    }\n",
    "}"
   ]
  },
  {
   "cell_type": "code",
   "execution_count": 59,
   "metadata": {},
   "outputs": [],
   "source": [
    "es = Elasticsearch(\"192.168.1.97:9200\")"
   ]
  },
  {
   "cell_type": "code",
   "execution_count": 144,
   "metadata": {},
   "outputs": [
    {
     "name": "stderr",
     "output_type": "stream",
     "text": [
      "/tmp/ipykernel_19889/1457842971.py:3: DeprecationWarning: The 'body' parameter is deprecated for the 'create' API and will be removed in a future version. Instead use API parameters directly. See https://github.com/elastic/elasticsearch-py/issues/1698 for more information\n",
      "  es.indices.create(index=name_index, body={**setting, **mapping})\n"
     ]
    }
   ],
   "source": [
    "name_index = \"search_product\"\n",
    "if not es.indices.exists(index=name_index):\n",
    "    es.indices.create(index=name_index, body={**setting, **mapping})"
   ]
  },
  {
   "cell_type": "code",
   "execution_count": 15,
   "metadata": {},
   "outputs": [],
   "source": [
    "from tqdm import tqdm\n",
    "import numpy as np"
   ]
  },
  {
   "cell_type": "code",
   "execution_count": 145,
   "metadata": {},
   "outputs": [
    {
     "name": "stderr",
     "output_type": "stream",
     "text": [
      "100%|██████████| 30030/30030 [00:19<00:00, 1557.12it/s]\n"
     ]
    }
   ],
   "source": [
    "ls_bulks = []\n",
    "\n",
    "for row in tqdm(range(len(df_search_product))):\n",
    "    data = df_search_product.iloc[row]\n",
    "    str_search = []\n",
    "    for field in ls_searh_field:\n",
    "        text = data[field]\n",
    "        if pd.isna(text):\n",
    "            continue\n",
    "        elif type(text) != str:\n",
    "            text = str(text)\n",
    "        str_search.append(text)\n",
    "        \n",
    "    str_search = ' '.join(str_search)\n",
    "    body = {\n",
    "        '_id': row,\n",
    "        \"search\": str_search,\n",
    "        \"product_id\": data['EID'],\n",
    "        'original_search': str_search,\n",
    "        'product_name': data['PRODUCT_NAME'],\n",
    "        'brand_name': '' if data['BRAND_NAME'] is np.nan else data['BRAND_NAME'],\n",
    "        'brand_id': -1 if data['BID'] is np.nan else data['BID'],\n",
    "    }\n",
    "    ls_bulks.append(body)\n",
    "    if row % 1000 == 999:\n",
    "        bulk(es, ls_bulks, index=name_index)\n",
    "        ls_bulks = []\n"
   ]
  },
  {
   "cell_type": "code",
   "execution_count": 27,
   "metadata": {},
   "outputs": [
    {
     "data": {
      "text/plain": [
       "Index(['ID', 'EID', 'BID', 'ACTION', 'COMMENT', 'REGULAR', 'ACTUAL',\n",
       "       'DATE_CREATE', 'modify_date', 'TIMESTAMP_TOP', 'UID', 'AUTHOR_IP',\n",
       "       'AUTHOR_REAL_IP', 'COMMENT_IMG', 'COMMENT_IMG_2', 'COMMENT_IMG_3',\n",
       "       'COMMENT_IMG_4', 'COMMENT_IMG_5', 'REVIEW_SHOW', 'REVIEW_WHEN', 'POINT',\n",
       "       'ENAME', 'EIMG', 'BRAND', 'TYPE', 'TYPE_ID', 'UNAME', 'UIMG',\n",
       "       'LOCATION', 'EFFECT', 'D_USER', 'FID', 'campaing_name', 'SEARCH_TXT'],\n",
       "      dtype='object')"
      ]
     },
     "execution_count": 27,
     "metadata": {},
     "output_type": "execute_result"
    }
   ],
   "source": [
    "df_rev = pd.read_csv(\"/home/music/Desktop/measure_model/db_cosmenet/review.csv\", low_memory=False)\n",
    "df_rev.columns"
   ]
  },
  {
   "cell_type": "code",
   "execution_count": 28,
   "metadata": {},
   "outputs": [
    {
     "data": {
      "text/html": [
       "<div>\n",
       "<style scoped>\n",
       "    .dataframe tbody tr th:only-of-type {\n",
       "        vertical-align: middle;\n",
       "    }\n",
       "\n",
       "    .dataframe tbody tr th {\n",
       "        vertical-align: top;\n",
       "    }\n",
       "\n",
       "    .dataframe thead th {\n",
       "        text-align: right;\n",
       "    }\n",
       "</style>\n",
       "<table border=\"1\" class=\"dataframe\">\n",
       "  <thead>\n",
       "    <tr style=\"text-align: right;\">\n",
       "      <th></th>\n",
       "      <th>EID</th>\n",
       "      <th>COMMENT</th>\n",
       "      <th>POINT</th>\n",
       "    </tr>\n",
       "  </thead>\n",
       "  <tbody>\n",
       "    <tr>\n",
       "      <th>0</th>\n",
       "      <td>40039</td>\n",
       "      <td>ดินสอเขียนคิ้ว เมลินดา ตัวนี้ใช้มาหลายแท่งมากๆ...</td>\n",
       "      <td>5</td>\n",
       "    </tr>\n",
       "  </tbody>\n",
       "</table>\n",
       "</div>"
      ],
      "text/plain": [
       "     EID                                            COMMENT  POINT\n",
       "0  40039  ดินสอเขียนคิ้ว เมลินดา ตัวนี้ใช้มาหลายแท่งมากๆ...      5"
      ]
     },
     "execution_count": 28,
     "metadata": {},
     "output_type": "execute_result"
    }
   ],
   "source": [
    "meta_review_put = df_rev[['EID', 'COMMENT', 'POINT']].copy()\n",
    "meta_review_put.drop(meta_review_put[meta_review_put['COMMENT'].isna()].index, inplace=True)\n",
    "meta_review_put.head(1)"
   ]
  },
  {
   "cell_type": "code",
   "execution_count": 21,
   "metadata": {},
   "outputs": [],
   "source": [
    "mapping_review = {\n",
    "    \"mappings\":{\n",
    "        \"properties\":{\n",
    "            'product_id':{\n",
    "                \"type\":\"keyword\",\n",
    "            },\n",
    "            \"comment\":{\n",
    "                \"type\":\"text\",\n",
    "            },\n",
    "            'point':{\n",
    "                \"type\":\"integer\",\n",
    "            }\n",
    "        }\n",
    "    }\n",
    "}"
   ]
  },
  {
   "cell_type": "code",
   "execution_count": 29,
   "metadata": {},
   "outputs": [],
   "source": [
    "es = Elasticsearch(\"192.168.1.97:9200\")"
   ]
  },
  {
   "cell_type": "code",
   "execution_count": 30,
   "metadata": {},
   "outputs": [
    {
     "name": "stderr",
     "output_type": "stream",
     "text": [
      "/tmp/ipykernel_41126/3411495168.py:3: DeprecationWarning: The 'body' parameter is deprecated for the 'create' API and will be removed in a future version. Instead use API parameters directly. See https://github.com/elastic/elasticsearch-py/issues/1698 for more information\n",
      "  es.indices.create(index=name_index, body={**mapping_review})\n"
     ]
    }
   ],
   "source": [
    "name_index = \"review_product\"\n",
    "if not es.indices.exists(index=name_index):\n",
    "    es.indices.create(index=name_index, body={**mapping_review})"
   ]
  },
  {
   "cell_type": "code",
   "execution_count": 31,
   "metadata": {},
   "outputs": [
    {
     "name": "stderr",
     "output_type": "stream",
     "text": [
      "100%|██████████| 156915/156915 [00:39<00:00, 4008.73it/s]\n"
     ]
    }
   ],
   "source": [
    "ls_bulks_review = []\n",
    "\n",
    "for row in tqdm(range(len(meta_review_put))):\n",
    "    data = meta_review_put.iloc[row]\n",
    "        \n",
    "    body = {\n",
    "        '_id': row,\n",
    "        \"product_id\": data['EID'],\n",
    "        \"comment\": data['COMMENT'],\n",
    "        'point': data['POINT'],\n",
    "    }\n",
    "    ls_bulks_review.append(body)\n",
    "    if row % 1000 == 999:\n",
    "        bulk(es, ls_bulks_review, index=name_index)\n",
    "        ls_bulks_review = []\n",
    "if len(ls_bulks_review) > 0:\n",
    "    bulk(es, ls_bulks_review, index=name_index)"
   ]
  }
 ],
 "metadata": {
  "kernelspec": {
   "display_name": "Python 3",
   "language": "python",
   "name": "python3"
  },
  "language_info": {
   "codemirror_mode": {
    "name": "ipython",
    "version": 3
   },
   "file_extension": ".py",
   "mimetype": "text/x-python",
   "name": "python",
   "nbconvert_exporter": "python",
   "pygments_lexer": "ipython3",
   "version": "3.8.10"
  }
 },
 "nbformat": 4,
 "nbformat_minor": 2
}
