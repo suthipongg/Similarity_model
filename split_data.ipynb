{
 "cells": [
  {
   "cell_type": "code",
   "execution_count": 101,
   "id": "1b42dade-a623-4897-8fa6-a6ca658a4ce3",
   "metadata": {},
   "outputs": [],
   "source": [
    "import torch\n",
    "from torch.utils.data import DataLoader\n",
    "from torchvision.transforms import transforms\n",
    "from sklearn.model_selection import StratifiedShuffleSplit\n",
    "from sklearn.model_selection import StratifiedKFold\n",
    "\n",
    "import pandas as pd\n",
    "import numpy as np\n",
    "\n",
    "from PIL import Image\n",
    "import random\n",
    "from tqdm.notebook import tqdm\n",
    "from script.tool import ROOT_NFS, ROOT_NFS_DATA, ROOT_NFS_TEST"
   ]
  },
  {
   "cell_type": "code",
   "execution_count": 2,
   "id": "666ded81-5eef-467e-ab1d-b10eeebc7d91",
   "metadata": {},
   "outputs": [
    {
     "data": {
      "text/html": [
       "<div>\n",
       "<style scoped>\n",
       "    .dataframe tbody tr th:only-of-type {\n",
       "        vertical-align: middle;\n",
       "    }\n",
       "\n",
       "    .dataframe tbody tr th {\n",
       "        vertical-align: top;\n",
       "    }\n",
       "\n",
       "    .dataframe thead th {\n",
       "        text-align: right;\n",
       "    }\n",
       "</style>\n",
       "<table border=\"1\" class=\"dataframe\">\n",
       "  <thead>\n",
       "    <tr style=\"text-align: right;\">\n",
       "      <th></th>\n",
       "      <th>file_names</th>\n",
       "      <th>labels</th>\n",
       "      <th>images_path</th>\n",
       "    </tr>\n",
       "  </thead>\n",
       "  <tbody>\n",
       "    <tr>\n",
       "      <th>0</th>\n",
       "      <td>14624_14.jpg</td>\n",
       "      <td>14624</td>\n",
       "      <td>/app/nfs_clientshare/Datasets/Cosmenet_product...</td>\n",
       "    </tr>\n",
       "  </tbody>\n",
       "</table>\n",
       "</div>"
      ],
      "text/plain": [
       "     file_names  labels                                        images_path\n",
       "0  14624_14.jpg   14624  /app/nfs_clientshare/Datasets/Cosmenet_product..."
      ]
     },
     "execution_count": 2,
     "metadata": {},
     "output_type": "execute_result"
    }
   ],
   "source": [
    "path_dataset = ROOT_NFS_DATA / 'Cosmenet_product_20231018'\n",
    "device = torch.device(\"cpu\")\n",
    "df_pd = pd.read_csv(path_dataset / 'datas_20231018.csv')\n",
    "df_pd.head(1)"
   ]
  },
  {
   "cell_type": "code",
   "execution_count": 3,
   "id": "ca75d0f1-51f9-4b82-8844-42b2f1d1a9df",
   "metadata": {},
   "outputs": [
    {
     "data": {
      "text/html": [
       "<div>\n",
       "<style scoped>\n",
       "    .dataframe tbody tr th:only-of-type {\n",
       "        vertical-align: middle;\n",
       "    }\n",
       "\n",
       "    .dataframe tbody tr th {\n",
       "        vertical-align: top;\n",
       "    }\n",
       "\n",
       "    .dataframe thead th {\n",
       "        text-align: right;\n",
       "    }\n",
       "</style>\n",
       "<table border=\"1\" class=\"dataframe\">\n",
       "  <thead>\n",
       "    <tr style=\"text-align: right;\">\n",
       "      <th></th>\n",
       "      <th>labels</th>\n",
       "      <th>count</th>\n",
       "    </tr>\n",
       "  </thead>\n",
       "  <tbody>\n",
       "    <tr>\n",
       "      <th>4172</th>\n",
       "      <td>50348</td>\n",
       "      <td>100</td>\n",
       "    </tr>\n",
       "  </tbody>\n",
       "</table>\n",
       "</div>"
      ],
      "text/plain": [
       "      labels  count\n",
       "4172   50348    100"
      ]
     },
     "execution_count": 3,
     "metadata": {},
     "output_type": "execute_result"
    }
   ],
   "source": [
    "group_df = df_pd.groupby(['labels'])['labels'].count().reset_index(name='count').sort_values(['count'], ascending=False)\n",
    "group_df.head(1)"
   ]
  },
  {
   "cell_type": "code",
   "execution_count": 4,
   "id": "f37b653a-c925-43df-a7ba-ad7f24d64a53",
   "metadata": {},
   "outputs": [],
   "source": [
    "filter_img_2_to_8 = group_df[(group_df['count'] <= 8) & (group_df['count'] > 1)]['labels'].values\n",
    "filter_img_1_to_8 = group_df[group_df['count'] <= 8]['labels'].values\n",
    "\n",
    "df_more_8 = df_pd[~df_pd['labels'].isin(filter_img_1_to_8)]\n",
    "df_2_to_8 = df_pd[df_pd['labels'].isin(filter_img_2_to_8)]"
   ]
  },
  {
   "cell_type": "code",
   "execution_count": 110,
   "id": "ecfafe05-737e-4683-8156-aa46578e823d",
   "metadata": {},
   "outputs": [
    {
     "data": {
      "text/html": [
       "<div>\n",
       "<style scoped>\n",
       "    .dataframe tbody tr th:only-of-type {\n",
       "        vertical-align: middle;\n",
       "    }\n",
       "\n",
       "    .dataframe tbody tr th {\n",
       "        vertical-align: top;\n",
       "    }\n",
       "\n",
       "    .dataframe thead th {\n",
       "        text-align: right;\n",
       "    }\n",
       "</style>\n",
       "<table border=\"1\" class=\"dataframe\">\n",
       "  <thead>\n",
       "    <tr style=\"text-align: right;\">\n",
       "      <th></th>\n",
       "      <th>file_names</th>\n",
       "      <th>labels</th>\n",
       "      <th>images_path</th>\n",
       "    </tr>\n",
       "  </thead>\n",
       "  <tbody>\n",
       "    <tr>\n",
       "      <th>322</th>\n",
       "      <td>39856_2.png</td>\n",
       "      <td>39856</td>\n",
       "      <td>/app/nfs_clientshare/Datasets/Cosmenet_product...</td>\n",
       "    </tr>\n",
       "  </tbody>\n",
       "</table>\n",
       "</div>"
      ],
      "text/plain": [
       "      file_names  labels                                        images_path\n",
       "322  39856_2.png   39856  /app/nfs_clientshare/Datasets/Cosmenet_product..."
      ]
     },
     "execution_count": 110,
     "metadata": {},
     "output_type": "execute_result"
    }
   ],
   "source": [
    "skf = StratifiedKFold(n_splits=2, shuffle=True, random_state=42)\n",
    "train_2_to_8, test_2_to_8 = skf.split(df_2_to_8, df_2_to_8['labels']).__next__()\n",
    "df_2_to_8_train = df_2_to_8.iloc[train_2_to_8]\n",
    "df_2_to_8_test = df_2_to_8.iloc[test_2_to_8]\n",
    "df_2_to_8_train.head(1)"
   ]
  },
  {
   "cell_type": "code",
   "execution_count": 5,
   "id": "2524147c-6b16-4c2e-beff-be2b0db6f116",
   "metadata": {},
   "outputs": [
    {
     "data": {
      "text/html": [
       "<div>\n",
       "<style scoped>\n",
       "    .dataframe tbody tr th:only-of-type {\n",
       "        vertical-align: middle;\n",
       "    }\n",
       "\n",
       "    .dataframe tbody tr th {\n",
       "        vertical-align: top;\n",
       "    }\n",
       "\n",
       "    .dataframe thead th {\n",
       "        text-align: right;\n",
       "    }\n",
       "</style>\n",
       "<table border=\"1\" class=\"dataframe\">\n",
       "  <thead>\n",
       "    <tr style=\"text-align: right;\">\n",
       "      <th></th>\n",
       "      <th>file_names</th>\n",
       "      <th>labels</th>\n",
       "      <th>images_path</th>\n",
       "    </tr>\n",
       "  </thead>\n",
       "  <tbody>\n",
       "    <tr>\n",
       "      <th>3177</th>\n",
       "      <td>11596_2.jpg</td>\n",
       "      <td>11596</td>\n",
       "      <td>/app/nfs_clientshare/Datasets/Cosmenet_product...</td>\n",
       "    </tr>\n",
       "  </tbody>\n",
       "</table>\n",
       "</div>"
      ],
      "text/plain": [
       "       file_names  labels                                        images_path\n",
       "3177  11596_2.jpg   11596  /app/nfs_clientshare/Datasets/Cosmenet_product..."
      ]
     },
     "execution_count": 5,
     "metadata": {},
     "output_type": "execute_result"
    }
   ],
   "source": [
    "sss_train = StratifiedShuffleSplit(n_splits=1, test_size=0.2, random_state=42)\n",
    "train_idx, test_idx = sss_train.split(df_more_8, df_more_8['labels']).__next__()\n",
    "df_train = df_more_8.iloc[train_idx]\n",
    "df_test = df_more_8.iloc[test_idx]\n",
    "df_train.head(1)"
   ]
  },
  {
   "cell_type": "code",
   "execution_count": 6,
   "id": "1bd09c94-f2f4-418a-a9bc-792b3491905d",
   "metadata": {},
   "outputs": [
    {
     "name": "stdout",
     "output_type": "stream",
     "text": [
      "amount of all data : 60196\n",
      "amount of all class : 4178\n",
      "amount of data 2-8 img : 1548\n",
      "amount of 2-8 img class : 278\n",
      "amount of data more 8 img : 58631\n",
      "amount of more 8 img class : 3883\n",
      "amount of data & class only one : 17\n"
     ]
    }
   ],
   "source": [
    "print(f\"amount of all data : {df_pd.__len__()}\")\n",
    "print(f\"amount of all class : {group_df.__len__()}\")\n",
    "print(f\"amount of data 2-8 img : {df_2_to_8.__len__()}\")\n",
    "print(f\"amount of 2-8 img class : {filter_img_2_to_8.__len__()}\")\n",
    "print(f\"amount of data more 8 img : {df_more_8.__len__()}\")\n",
    "print(f\"amount of more 8 img class : {group_df[group_df['count'] > 8]['labels'].__len__()}\")\n",
    "print(f\"amount of data & class only one : {group_df[group_df['count'] == 1]['labels'].__len__()}\")"
   ]
  },
  {
   "cell_type": "code",
   "execution_count": 7,
   "id": "2d471c76-2760-4d83-8628-c8977f6fa51e",
   "metadata": {},
   "outputs": [],
   "source": [
    "df_count_8 = group_df[(group_df['count'] > 8) & (group_df['count'] > 1)]\n",
    "group_df_count_8 = df_count_8.groupby(['count'])['count'] \\\n",
    "    .count().reset_index(name='counter_count').sort_values(['counter_count'], ascending=False)\n",
    "counter_count_1 = group_df_count_8[group_df_count_8[\"counter_count\"] == 1][\"count\"].values\n",
    "ind_c = group_df_count_8[group_df_count_8[\"counter_count\"] == 1][\"count\"].index\n",
    "df_count_8.loc[df_count_8[\"count\"].isin(counter_count_1), \"count\"] = 101"
   ]
  },
  {
   "cell_type": "code",
   "execution_count": 88,
   "id": "b4d19d97-544a-457a-872f-33c92104cdb2",
   "metadata": {},
   "outputs": [
    {
     "data": {
      "text/plain": [
       "array([46783, 44043, 40575, 44033, 48695])"
      ]
     },
     "execution_count": 88,
     "metadata": {},
     "output_type": "execute_result"
    }
   ],
   "source": [
    "sss_val = StratifiedShuffleSplit(n_splits=1, test_size=0.18, random_state=42)\n",
    "split_idx, val_idx = sss_val.split(df_count_8, df_count_8['count']).__next__()\n",
    "split_class = df_count_8.iloc[split_idx][\"labels\"].values\n",
    "val_class = df_count_8.iloc[val_idx][\"labels\"].values\n",
    "val_class[:5]"
   ]
  },
  {
   "cell_type": "code",
   "execution_count": 94,
   "id": "77a228bf-7067-4e24-9af3-53fdec187dc7",
   "metadata": {},
   "outputs": [],
   "source": [
    "df_train_split = df_train[df_train[\"labels\"].isin(split_class)]\n",
    "df_test_split = df_test[df_test[\"labels\"].isin(split_class)]\n",
    "df_train_val = df_train[df_train[\"labels\"].isin(val_class)]\n",
    "df_test_val = df_test[df_test[\"labels\"].isin(val_class)]"
   ]
  },
  {
   "cell_type": "code",
   "execution_count": 111,
   "id": "26555afb-82c8-43cb-9668-d4d3830e7759",
   "metadata": {},
   "outputs": [],
   "source": [
    "df_train_val_mix = pd.concat([df_train_val, df_2_to_8_train])\n",
    "df_test_val_mix = pd.concat([df_test_val, df_2_to_8_test])"
   ]
  },
  {
   "cell_type": "code",
   "execution_count": 112,
   "id": "9c144aa2-dfcd-4c20-981b-0cbac63acd51",
   "metadata": {},
   "outputs": [
    {
     "name": "stdout",
     "output_type": "stream",
     "text": [
      "amount of train split : 38474\n",
      "amount of train split class : 3184\n",
      "amount of test split : 9620\n",
      "amount of test split class : 3184\n",
      "amount of train val : 8430\n",
      "amount of train val class : 699\n",
      "amount of test val : 2107\n",
      "amount of test val class : 699\n",
      "amount of train val mix : 9204\n",
      "amount of train val mix class : 977\n",
      "amount of test val mix : 2881\n",
      "amount of test val mix class : 977\n"
     ]
    }
   ],
   "source": [
    "print(f\"amount of train split : {len(df_train_split)}\")\n",
    "print(f\"amount of train split class : {df_train_split['labels'].nunique()}\")\n",
    "print(f\"amount of test split : {len(df_test_split)}\")\n",
    "print(f\"amount of test split class : {df_test_split['labels'].nunique()}\")\n",
    "print(f\"amount of train val : {len(df_train_val)}\")\n",
    "print(f\"amount of train val class : {df_train_val['labels'].nunique()}\")\n",
    "print(f\"amount of test val : {len(df_test_val)}\")\n",
    "print(f\"amount of test val class : {df_test_val['labels'].nunique()}\")\n",
    "print(f\"amount of train val mix : {len(df_train_val_mix)}\")\n",
    "print(f\"amount of train val mix class : {df_train_val_mix['labels'].nunique()}\")\n",
    "print(f\"amount of test val mix : {len(df_test_val_mix)}\")\n",
    "print(f\"amount of test val mix class : {df_test_val_mix['labels'].nunique()}\")"
   ]
  }
 ],
 "metadata": {
  "kernelspec": {
   "display_name": "Python 3 (ipykernel)",
   "language": "python",
   "name": "python3"
  },
  "language_info": {
   "codemirror_mode": {
    "name": "ipython",
    "version": 3
   },
   "file_extension": ".py",
   "mimetype": "text/x-python",
   "name": "python",
   "nbconvert_exporter": "python",
   "pygments_lexer": "ipython3",
   "version": "3.11.5"
  }
 },
 "nbformat": 4,
 "nbformat_minor": 5
}
