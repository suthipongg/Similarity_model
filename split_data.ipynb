{
 "cells": [
  {
   "cell_type": "code",
   "execution_count": 1,
   "id": "1b42dade-a623-4897-8fa6-a6ca658a4ce3",
   "metadata": {},
   "outputs": [],
   "source": [
    "from tqdm.notebook import tqdm\n",
    "from script.func_split_data import split_data"
   ]
  },
  {
   "cell_type": "code",
   "execution_count": 29,
   "id": "27342b2e",
   "metadata": {},
   "outputs": [
    {
     "name": "stdout",
     "output_type": "stream",
     "text": [
      "amount of all data : 60196\n",
      "amount of all class : 4178\n",
      "amount of data 2-8 img : 1548\n",
      "amount of 2-8 img class : 278\n",
      "amount of data more 8 img : 58631\n",
      "amount of more 8 img class : 3883\n",
      "amount of data & class only one : 17\n",
      "\n",
      "amount of train split : 38472\n",
      "amount of train split class : 3184\n",
      "amount of test split : 9620\n",
      "amount of test split class : 3184\n",
      "amount of train val : 8432\n",
      "amount of train val class : 699\n",
      "amount of test val : 2107\n",
      "amount of test val class : 699\n",
      "amount of train val mix : 9206\n",
      "amount of train val mix class : 977\n",
      "amount of test val mix : 2881\n",
      "amount of test val mix class : 977\n"
     ]
    }
   ],
   "source": [
    "split_df = split_data(data_path='Cosmenet_product_20231018', data_csv='datas_20231018.csv')\n",
    "split_df.split_data()\n",
    "split_df.report_train_test_split()\n",
    "print()\n",
    "split_df.report_train_test_val_split()"
   ]
  },
  {
   "cell_type": "code",
   "execution_count": 35,
   "id": "3b6361f3",
   "metadata": {},
   "outputs": [],
   "source": [
    "df_train_split, df_test_split = split_df.get_train_test()\n",
    "df_train_val_mix, df_test_val_mix = split_df.get_validate()"
   ]
  },
  {
   "cell_type": "code",
   "execution_count": 38,
   "id": "811618dd",
   "metadata": {},
   "outputs": [
    {
     "name": "stdout",
     "output_type": "stream",
     "text": [
      "       file_names  labels                                        images_path\n",
      "3177  11596_2.jpg   11596  /app/nfs_clientshare/Datasets/Cosmenet_product...\n",
      "        file_names  labels                                        images_path\n",
      "57775  39409_4.png   39409  /app/nfs_clientshare/Datasets/Cosmenet_product...\n",
      "       file_names  labels                                        images_path\n",
      "2856  45422_5.JPG   45422  /app/nfs_clientshare/Datasets/Cosmenet_product...\n",
      "        file_names  labels                                        images_path\n",
      "14160  36892_6.png   36892  /app/nfs_clientshare/Datasets/Cosmenet_product...\n"
     ]
    }
   ],
   "source": [
    "print(df_train_split.head(1))\n",
    "print(df_test_split.head(1))\n",
    "print(df_train_val_mix.head(1))\n",
    "print(df_test_val_mix.head(1))"
   ]
  }
 ],
 "metadata": {
  "kernelspec": {
   "display_name": "Python 3 (ipykernel)",
   "language": "python",
   "name": "python3"
  },
  "language_info": {
   "codemirror_mode": {
    "name": "ipython",
    "version": 3
   },
   "file_extension": ".py",
   "mimetype": "text/x-python",
   "name": "python",
   "nbconvert_exporter": "python",
   "pygments_lexer": "ipython3",
   "version": "3.8.10"
  }
 },
 "nbformat": 4,
 "nbformat_minor": 5
}
