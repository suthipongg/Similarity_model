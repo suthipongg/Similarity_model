{
 "cells": [
  {
   "cell_type": "code",
   "execution_count": 1,
   "metadata": {},
   "outputs": [],
   "source": [
    "from sklearn.metrics import accuracy_score\n",
    "from numpy.linalg import norm\n",
    "from pathlib import Path\n",
    "\n",
    "from PIL import Image\n",
    "\n",
    "import os\n",
    "import numpy as np\n",
    "import matplotlib.pyplot as plt\n",
    "import pandas as pd\n",
    "\n",
    "from script.tool import *"
   ]
  },
  {
   "cell_type": "code",
   "execution_count": 2,
   "metadata": {},
   "outputs": [],
   "source": [
    "def filter_data(data, minimum_data_class=5):\n",
    "    df_pd = pd.DataFrame(data, columns = ['classes'])\n",
    "    df_pd['classes_labeled'], _ = pd.factorize(df_pd['classes'])\n",
    "    counts = df_pd['classes_labeled'].value_counts()\n",
    "    classes_less_than_n = counts[counts < minimum_data_class].index\n",
    "    index_less_than_n = df_pd['classes_labeled'].isin(classes_less_than_n)\n",
    "    index_greater_than_or_equal_to_n = ~df_pd['classes_labeled'].isin(classes_less_than_n)\n",
    "    print(\"amount of all image :\", len(df_pd))\n",
    "    print(f\"amount of image that less than {minimum_data_class} in that class : {sum(index_less_than_n)}\")\n",
    "    print(f\"amount of image that more than {minimum_data_class} in that class : {sum(index_greater_than_or_equal_to_n)}\")\n",
    "    return df_pd, index_less_than_n, index_greater_than_or_equal_to_n"
   ]
  },
  {
   "cell_type": "code",
   "execution_count": 3,
   "metadata": {},
   "outputs": [],
   "source": [
    "def scan_directory(path):\n",
    "    df = pd.read_csv(path)\n",
    "    return np.array(df['classes'])"
   ]
  },
  {
   "cell_type": "code",
   "execution_count": 6,
   "metadata": {},
   "outputs": [],
   "source": [
    "n_cv = 5 \n",
    "path_dataset = '/home/music/Desktop/measure_model/feature_map/vit_b_p16_224_last_hidden_trained_lr2e_05_cos.csv'"
   ]
  },
  {
   "cell_type": "code",
   "execution_count": 7,
   "metadata": {},
   "outputs": [
    {
     "name": "stdout",
     "output_type": "stream",
     "text": [
      "amount of all image : 15524\n",
      "amount of image that less than 5 in that class : 116\n",
      "amount of image that more than 5 in that class : 15408\n"
     ]
    }
   ],
   "source": [
    "df = scan_directory(path_dataset)\n",
    "df_pd, index_less_than_n, index_greater_than_or_equal_to_n = filter_data(df, minimum_data_class=n_cv)"
   ]
  },
  {
   "cell_type": "code",
   "execution_count": null,
   "metadata": {},
   "outputs": [],
   "source": [
    "def StratifiedKFold_score(X, y, n_cv=5, index_filter = False):\n",
    "    first = True\n",
    "    result = []\n",
    "    result_in_n = []\n",
    "    skf = StratifiedKFold(n_splits=n_cv)\n",
    "    if index_filter != False:\n",
    "        index_greater_filtered, index_less_filtered = index_filter\n",
    "        X_less = X[index_less_filtered]\n",
    "        y_less = y[index_less_filtered]\n",
    "        X = X[index_greater_filtered]\n",
    "        y = y[index_greater_filtered]\n",
    "                \n",
    "    index_df_split = skf.split(X, y)\n",
    "\n",
    "    for train_index, test_index in index_df_split:\n",
    "        x_train = np.array(X)[train_index]\n",
    "        y_train = np.array(y)[train_index]\n",
    "        x_test = np.array(X)[test_index]\n",
    "        y_test = np.array(y)[test_index]\n",
    "        \n",
    "        if index_filter != False:\n",
    "            x_train = np.concatenate((x_train, X_less))\n",
    "            y_train = np.concatenate((y_train, y_less))\n",
    "\n",
    "        dot_product = np.dot(x_test,x_train.T)              # (x_test , x_train)\n",
    "        norm_test = norm(x_test, axis=1).reshape(-1, 1)     # (x_test, 1)\n",
    "        norm_train = norm(x_train, axis=1).reshape(1, -1)   # (1, x_train)\n",
    "        res = dot_product/(norm_test*norm_train)            # res = (x_test , x_train), norm_test*norm_train = (x_test , x_train)\n",
    "        \n",
    "        ranking = np.argsort(res, axis=1)\n",
    "        # ind_top_n = np.argsort(res, axis=1)[:, -n_cv:]\n",
    "        y_pred = y_train[np.argmax(res, axis=1)]\n",
    "        acc = accuracy_score(y_test, y_pred)\n",
    "        if first:\n",
    "            first = False\n",
    "            result = [acc]\n",
    "        else:\n",
    "            result.append(acc)\n",
    "        \n",
    "        break\n",
    "    return result, [train_index, test_index], res, ranking"
   ]
  },
  {
   "cell_type": "code",
   "execution_count": 6,
   "metadata": {},
   "outputs": [],
   "source": [
    "x_gg, y_gg = load_feature(\"vit_base_patch16_224_in21k_last_hidden_state_onnx.csv\")\n",
    "y_gg_label_encode, _ = pd.factorize(y_gg)"
   ]
  },
  {
   "cell_type": "code",
   "execution_count": 6,
   "metadata": {},
   "outputs": [],
   "source": [
    "x_gg, y_gg = load_feature(\"vit_b_p16_224_last_hidden_trained_lr2e_05.csv\")\n",
    "y_gg_label_encode, _ = pd.factorize(y_gg)"
   ]
  },
  {
   "cell_type": "code",
   "execution_count": 8,
   "metadata": {},
   "outputs": [],
   "source": [
    "x_gg, y_gg = load_feature(\"vit_b_p16_224_last_hidden_trained_lr2e_05_cos.csv\")\n",
    "y_gg_label_encode, _ = pd.factorize(y_gg)"
   ]
  },
  {
   "cell_type": "code",
   "execution_count": 44,
   "metadata": {},
   "outputs": [],
   "source": [
    "x_gg, y_gg = load_feature(\"efficientnet_b1.csv\")\n",
    "y_gg_label_encode, _ = pd.factorize(y_gg)"
   ]
  },
  {
   "cell_type": "code",
   "execution_count": 53,
   "metadata": {},
   "outputs": [],
   "source": [
    "x_gg, y_gg = load_feature(\"efficientnet_b5.csv\")\n",
    "y_gg_label_encode, _ = pd.factorize(y_gg)"
   ]
  },
  {
   "cell_type": "code",
   "execution_count": null,
   "metadata": {},
   "outputs": [],
   "source": [
    "result_gg, ls_gg, res_t_gg, result_in_n = StratifiedKFold_score(x_gg, \n",
    "                                                   y_gg_label_encode, \n",
    "                                                   n_cv=n_cv, \n",
    "                                                   index_filter=(index_greater_than_or_equal_to_n, index_less_than_n))\n",
    "print(f\"scores {n_cv} fold : {result_gg}\")\n",
    "print(f\"average score : {sum(result_gg)/n_cv}\")\n",
    "print(result_in_n)"
   ]
  },
  {
   "cell_type": "code",
   "execution_count": 9,
   "metadata": {},
   "outputs": [],
   "source": [
    "X = x_gg\n",
    "y = y_gg_label_encode\n",
    "y_gg_un = y_gg\n",
    "index_filter=(index_greater_than_or_equal_to_n, index_less_than_n)\n",
    "\n",
    "first = True\n",
    "result = []\n",
    "result_in_n = []\n",
    "score_top_n = []\n",
    "skf = StratifiedKFold(n_splits=n_cv)\n",
    "if index_filter != False:\n",
    "    index_greater_filtered, index_less_filtered = index_filter\n",
    "    X_less = X[index_less_filtered]\n",
    "    y_less = y[index_less_filtered]\n",
    "    y_gg_un_less = y_gg_un[index_less_filtered]\n",
    "    X = X[index_greater_filtered]\n",
    "    y = y[index_greater_filtered]\n",
    "    y_gg_un = y_gg_un[index_greater_filtered]\n",
    "            \n",
    "index_df_split = skf.split(X, y)\n",
    "\n",
    "for train_index, test_index in index_df_split:\n",
    "    x_train = np.array(X)[train_index]\n",
    "    y_gg_un_train = np.array(y_gg_un)[train_index]\n",
    "    y_train = np.array(y)[train_index]\n",
    "    x_test = np.array(X)[test_index]\n",
    "    y_test = np.array(y)[test_index]\n",
    "    y_gg_un_test = np.array(y_gg_un)[test_index]\n",
    "    \n",
    "    if index_filter != False:\n",
    "        x_train = np.concatenate((x_train, X_less))\n",
    "        y_train = np.concatenate((y_train, y_less))\n",
    "        y_gg_train = np.concatenate((y_gg_un_train, y_gg_un_less))\n",
    "\n",
    "    dot_product = np.dot(x_test,x_train.T)              # (x_test , x_train)\n",
    "    norm_test = norm(x_test, axis=1).reshape(-1, 1)     # (x_test, 1)\n",
    "    norm_train = norm(x_train, axis=1).reshape(1, -1)   # (1, x_train)\n",
    "    res = dot_product/(norm_test*norm_train)            # res = (x_test , x_train), norm_test*norm_train = (x_test , x_train)\n",
    "    \n",
    "    f = True\n",
    "    rank_top_n = []\n",
    "    ranking = np.argsort(res, axis=1)\n",
    "    y_ranking = np.repeat(y_gg_train.reshape(1, -1), repeats=ranking.shape[0], axis=0)\n",
    "    result_ranking = np.take_along_axis(y_ranking, ranking, axis=1)[:, ::-1]\n",
    "    for row in result_ranking:\n",
    "        indexes = np.unique(row, return_index=True)\n",
    "        res_row = row[sorted(indexes[1])][:5].reshape(1, -1)\n",
    "        if f:\n",
    "            f = False\n",
    "            rank_top_n = res_row\n",
    "        else:\n",
    "            rank_top_n = np.concatenate((rank_top_n, res_row))\n",
    "    \n",
    "    y_pred = y_train[np.argmax(res, axis=1)]\n",
    "    acc = accuracy_score(y_test, y_pred)\n",
    "    # acc_top_n = \n",
    "    if first:\n",
    "        first = False\n",
    "        result = [acc]\n",
    "        result_in_n = [rank_top_n]\n",
    "    else:\n",
    "        result.append(acc)\n",
    "        result_in_n.append(rank_top_n)"
   ]
  },
  {
   "cell_type": "code",
   "execution_count": 43,
   "metadata": {},
   "outputs": [
    {
     "data": {
      "text/plain": [
       "0.8231093800714054"
      ]
     },
     "execution_count": 43,
     "metadata": {},
     "output_type": "execute_result"
    }
   ],
   "source": [
    "# vit_base_patch16_224_in21k_last_hidden_state_onnx\n",
    "sum((y_gg_un_test.reshape(-1, 1) == result_in_n[-1]).any(axis=1))/result_in_n[-1].shape[0]"
   ]
  },
  {
   "cell_type": "code",
   "execution_count": 8,
   "metadata": {},
   "outputs": [
    {
     "data": {
      "text/plain": [
       "0.8805582603050958"
      ]
     },
     "execution_count": 8,
     "metadata": {},
     "output_type": "execute_result"
    }
   ],
   "source": [
    "# vit_b_p16_224_last_hidden_trained_lr2e_05\n",
    "sum((y_gg_un_test.reshape(-1, 1) == result_in_n[-1]).any(axis=1))/result_in_n[-1].shape[0]"
   ]
  },
  {
   "cell_type": "code",
   "execution_count": 10,
   "metadata": {},
   "outputs": [
    {
     "data": {
      "text/plain": [
       "0.8620577734501785"
      ]
     },
     "execution_count": 10,
     "metadata": {},
     "output_type": "execute_result"
    }
   ],
   "source": [
    "# vit_b_p16_224_last_hidden_trained_lr2e_05_cos\n",
    "sum((y_gg_un_test.reshape(-1, 1) == result_in_n[-1]).any(axis=1))/result_in_n[-1].shape[0]"
   ]
  },
  {
   "cell_type": "code",
   "execution_count": 46,
   "metadata": {},
   "outputs": [
    {
     "data": {
      "text/plain": [
       "0.881207400194742"
      ]
     },
     "execution_count": 46,
     "metadata": {},
     "output_type": "execute_result"
    }
   ],
   "source": [
    "# efficientnet_b1\n",
    "sum((y_gg_un_test.reshape(-1, 1) == result_in_n[-1]).any(axis=1))/result_in_n[-1].shape[0]"
   ]
  },
  {
   "cell_type": "code",
   "execution_count": 55,
   "metadata": {},
   "outputs": [
    {
     "data": {
      "text/plain": [
       "0.9409282700421941"
      ]
     },
     "execution_count": 55,
     "metadata": {},
     "output_type": "execute_result"
    }
   ],
   "source": [
    "# efficientnet_b5\n",
    "sum((y_gg_un_test.reshape(-1, 1) == result_in_n[-1]).any(axis=1))/result_in_n[-1].shape[0]"
   ]
  }
 ],
 "metadata": {
  "kernelspec": {
   "display_name": "Python 3",
   "language": "python",
   "name": "python3"
  },
  "language_info": {
   "codemirror_mode": {
    "name": "ipython",
    "version": 3
   },
   "file_extension": ".py",
   "mimetype": "text/x-python",
   "name": "python",
   "nbconvert_exporter": "python",
   "pygments_lexer": "ipython3",
   "version": "3.8.10"
  }
 },
 "nbformat": 4,
 "nbformat_minor": 2
}
