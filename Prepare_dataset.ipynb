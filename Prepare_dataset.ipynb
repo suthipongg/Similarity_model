{
 "cells": [
  {
   "cell_type": "markdown",
   "id": "fdd0fa93-07a2-4bdc-b924-dbdac4f69e92",
   "metadata": {},
   "source": [
    "# Join cat & brand Table"
   ]
  },
  {
   "cell_type": "code",
   "execution_count": 97,
   "id": "fb467fd5-9f59-4551-a2e4-47387896c082",
   "metadata": {},
   "outputs": [],
   "source": [
    "import pandas as pd\n",
    "from script.tool import ROOT_NFS_DATA"
   ]
  },
  {
   "cell_type": "code",
   "execution_count": 98,
   "id": "0dc944a0-6529-4947-9952-d24bce89ee80",
   "metadata": {},
   "outputs": [
    {
     "data": {
      "text/html": [
       "<div>\n",
       "<style scoped>\n",
       "    .dataframe tbody tr th:only-of-type {\n",
       "        vertical-align: middle;\n",
       "    }\n",
       "\n",
       "    .dataframe tbody tr th {\n",
       "        vertical-align: top;\n",
       "    }\n",
       "\n",
       "    .dataframe thead th {\n",
       "        text-align: right;\n",
       "    }\n",
       "</style>\n",
       "<table border=\"1\" class=\"dataframe\">\n",
       "  <thead>\n",
       "    <tr style=\"text-align: right;\">\n",
       "      <th></th>\n",
       "      <th>EID</th>\n",
       "      <th>PRODUCT_NAME</th>\n",
       "      <th>BID</th>\n",
       "      <th>BRAND_NAME</th>\n",
       "      <th>SCID</th>\n",
       "      <th>SUBCAT_NAME</th>\n",
       "      <th>CID</th>\n",
       "      <th>CAT_NAME</th>\n",
       "    </tr>\n",
       "  </thead>\n",
       "  <tbody>\n",
       "    <tr>\n",
       "      <th>0</th>\n",
       "      <td>13001</td>\n",
       "      <td>UV Aqua Rich Watery Essence SPF50+ PA++++</td>\n",
       "      <td>1528</td>\n",
       "      <td>Biore</td>\n",
       "      <td>248</td>\n",
       "      <td>Facial Sunscreen</td>\n",
       "      <td>62</td>\n",
       "      <td>Sun Product</td>\n",
       "    </tr>\n",
       "  </tbody>\n",
       "</table>\n",
       "</div>"
      ],
      "text/plain": [
       "     EID                               PRODUCT_NAME   BID BRAND_NAME  SCID  \\\n",
       "0  13001  UV Aqua Rich Watery Essence SPF50+ PA++++  1528      Biore   248   \n",
       "\n",
       "        SUBCAT_NAME  CID     CAT_NAME  \n",
       "0  Facial Sunscreen   62  Sun Product  "
      ]
     },
     "execution_count": 98,
     "metadata": {},
     "output_type": "execute_result"
    }
   ],
   "source": [
    "pro_join = pd.read_csv(ROOT_NFS_DATA / 'Cosmenet_UAT' / 'product_joined.csv')\n",
    "pro_join.head(1)"
   ]
  },
  {
   "cell_type": "code",
   "execution_count": 37,
   "id": "9bf94423-89d6-4e68-b129-5ef2fc8f4140",
   "metadata": {},
   "outputs": [
    {
     "data": {
      "text/html": [
       "<div>\n",
       "<style scoped>\n",
       "    .dataframe tbody tr th:only-of-type {\n",
       "        vertical-align: middle;\n",
       "    }\n",
       "\n",
       "    .dataframe tbody tr th {\n",
       "        vertical-align: top;\n",
       "    }\n",
       "\n",
       "    .dataframe thead th {\n",
       "        text-align: right;\n",
       "    }\n",
       "</style>\n",
       "<table border=\"1\" class=\"dataframe\">\n",
       "  <thead>\n",
       "    <tr style=\"text-align: right;\">\n",
       "      <th></th>\n",
       "      <th>file_names</th>\n",
       "      <th>labels</th>\n",
       "      <th>images_path</th>\n",
       "    </tr>\n",
       "  </thead>\n",
       "  <tbody>\n",
       "    <tr>\n",
       "      <th>0</th>\n",
       "      <td>14624_14.jpg</td>\n",
       "      <td>14624</td>\n",
       "      <td>/app/nfs_clientshare/Datasets/Cosmenet_product...</td>\n",
       "    </tr>\n",
       "  </tbody>\n",
       "</table>\n",
       "</div>"
      ],
      "text/plain": [
       "     file_names  labels                                        images_path\n",
       "0  14624_14.jpg   14624  /app/nfs_clientshare/Datasets/Cosmenet_product..."
      ]
     },
     "execution_count": 37,
     "metadata": {},
     "output_type": "execute_result"
    }
   ],
   "source": [
    "df = pd.read_csv(ROOT_NFS_DATA / 'Cosmenet_product_20231018' / 'datas_20231018.csv')\n",
    "df.head(1)"
   ]
  },
  {
   "cell_type": "code",
   "execution_count": 4,
   "id": "5046533e-8dff-4691-be5c-4b11dff3325c",
   "metadata": {},
   "outputs": [],
   "source": [
    "pro_join_id = pro_join[['EID', 'BID', 'SCID', 'CID']]"
   ]
  },
  {
   "cell_type": "code",
   "execution_count": 25,
   "id": "f489af15-8600-4201-bf46-2e62a7d57fa8",
   "metadata": {},
   "outputs": [
    {
     "data": {
      "text/html": [
       "<div>\n",
       "<style scoped>\n",
       "    .dataframe tbody tr th:only-of-type {\n",
       "        vertical-align: middle;\n",
       "    }\n",
       "\n",
       "    .dataframe tbody tr th {\n",
       "        vertical-align: top;\n",
       "    }\n",
       "\n",
       "    .dataframe thead th {\n",
       "        text-align: right;\n",
       "    }\n",
       "</style>\n",
       "<table border=\"1\" class=\"dataframe\">\n",
       "  <thead>\n",
       "    <tr style=\"text-align: right;\">\n",
       "      <th></th>\n",
       "      <th>file_names</th>\n",
       "      <th>labels</th>\n",
       "      <th>images_path</th>\n",
       "      <th>EID</th>\n",
       "      <th>BID</th>\n",
       "      <th>SUBCAT_ID</th>\n",
       "      <th>CAT_ID</th>\n",
       "    </tr>\n",
       "  </thead>\n",
       "  <tbody>\n",
       "    <tr>\n",
       "      <th>0</th>\n",
       "      <td>14624_14.jpg</td>\n",
       "      <td>14624</td>\n",
       "      <td>/app/nfs_clientshare/Datasets/Cosmenet_product...</td>\n",
       "      <td>14624</td>\n",
       "      <td>1428</td>\n",
       "      <td>2542</td>\n",
       "      <td>59</td>\n",
       "    </tr>\n",
       "  </tbody>\n",
       "</table>\n",
       "</div>"
      ],
      "text/plain": [
       "     file_names  labels  ... SUBCAT_ID  CAT_ID\n",
       "0  14624_14.jpg   14624  ...      2542      59\n",
       "\n",
       "[1 rows x 7 columns]"
      ]
     },
     "execution_count": 25,
     "metadata": {},
     "output_type": "execute_result"
    }
   ],
   "source": [
    "df_joined = pd.merge(df, pro_join_id, how=\"left\", left_on=[\"labels\"], right_on=['EID'])\n",
    "df_joined.head(1)"
   ]
  },
  {
   "cell_type": "code",
   "execution_count": 21,
   "id": "9063640d-5481-47da-95c7-22569e124d41",
   "metadata": {},
   "outputs": [],
   "source": [
    "for i in df_joined.keys():\n",
    "    if df_joined[i].isnull().sum() > 0:\n",
    "        print(i, df_joined[i].isnull().sum())"
   ]
  },
  {
   "cell_type": "code",
   "execution_count": 32,
   "id": "135f2585-2634-4897-aedd-5c0d5e143507",
   "metadata": {},
   "outputs": [],
   "source": [
    "df_joined.to_csv(ROOT_NFS_DATA / 'Cosmenet_product_20231018' / 'datas_20231018_merge.csv', index=False)"
   ]
  },
  {
   "cell_type": "code",
   "execution_count": 99,
   "id": "9e1d3e2c-7508-4360-8035-ee08dd0177ed",
   "metadata": {},
   "outputs": [
    {
     "data": {
      "text/html": [
       "<div>\n",
       "<style scoped>\n",
       "    .dataframe tbody tr th:only-of-type {\n",
       "        vertical-align: middle;\n",
       "    }\n",
       "\n",
       "    .dataframe tbody tr th {\n",
       "        vertical-align: top;\n",
       "    }\n",
       "\n",
       "    .dataframe thead th {\n",
       "        text-align: right;\n",
       "    }\n",
       "</style>\n",
       "<table border=\"1\" class=\"dataframe\">\n",
       "  <thead>\n",
       "    <tr style=\"text-align: right;\">\n",
       "      <th></th>\n",
       "      <th>file_names</th>\n",
       "      <th>labels</th>\n",
       "      <th>images_path</th>\n",
       "      <th>BID</th>\n",
       "      <th>SCID</th>\n",
       "      <th>CID</th>\n",
       "    </tr>\n",
       "  </thead>\n",
       "  <tbody>\n",
       "    <tr>\n",
       "      <th>0</th>\n",
       "      <td>14624_14.jpg</td>\n",
       "      <td>14624</td>\n",
       "      <td>/app/nfs_clientshare/Datasets/Cosmenet_product...</td>\n",
       "      <td>1428</td>\n",
       "      <td>2542</td>\n",
       "      <td>59</td>\n",
       "    </tr>\n",
       "  </tbody>\n",
       "</table>\n",
       "</div>"
      ],
      "text/plain": [
       "     file_names  labels                                        images_path  \\\n",
       "0  14624_14.jpg   14624  /app/nfs_clientshare/Datasets/Cosmenet_product...   \n",
       "\n",
       "    BID  SCID  CID  \n",
       "0  1428  2542   59  "
      ]
     },
     "execution_count": 99,
     "metadata": {},
     "output_type": "execute_result"
    }
   ],
   "source": [
    "df_joined_load = pd.read_csv(ROOT_NFS_DATA / 'Cosmenet_product_20231018' / 'datas_20231018_merge.csv')\n",
    "df_joined_load.head(1)"
   ]
  },
  {
   "cell_type": "code",
   "execution_count": 100,
   "id": "dea81a45-109d-491a-97b7-9154f7c82e75",
   "metadata": {},
   "outputs": [
    {
     "data": {
      "text/html": [
       "<div>\n",
       "<style scoped>\n",
       "    .dataframe tbody tr th:only-of-type {\n",
       "        vertical-align: middle;\n",
       "    }\n",
       "\n",
       "    .dataframe tbody tr th {\n",
       "        vertical-align: top;\n",
       "    }\n",
       "\n",
       "    .dataframe thead th {\n",
       "        text-align: right;\n",
       "    }\n",
       "</style>\n",
       "<table border=\"1\" class=\"dataframe\">\n",
       "  <thead>\n",
       "    <tr style=\"text-align: right;\">\n",
       "      <th></th>\n",
       "      <th>images_path</th>\n",
       "      <th>file_names</th>\n",
       "      <th>labels</th>\n",
       "    </tr>\n",
       "  </thead>\n",
       "  <tbody>\n",
       "    <tr>\n",
       "      <th>0</th>\n",
       "      <td>/app/nfs_clientshare/Datasets/Cosmenet_uat_202...</td>\n",
       "      <td>Kiko-Milano-Floral-Wonderland-Nail-Lacquer-001...</td>\n",
       "      <td>46838</td>\n",
       "    </tr>\n",
       "  </tbody>\n",
       "</table>\n",
       "</div>"
      ],
      "text/plain": [
       "                                         images_path  \\\n",
       "0  /app/nfs_clientshare/Datasets/Cosmenet_uat_202...   \n",
       "\n",
       "                                          file_names  labels  \n",
       "0  Kiko-Milano-Floral-Wonderland-Nail-Lacquer-001...   46838  "
      ]
     },
     "execution_count": 100,
     "metadata": {},
     "output_type": "execute_result"
    }
   ],
   "source": [
    "new_data = pd.read_csv(ROOT_NFS_DATA / 'Cosmenet_uat_20231108' / 'data_search_image_only.csv')\n",
    "new_data.head(1)"
   ]
  },
  {
   "cell_type": "code",
   "execution_count": 101,
   "id": "e58c83cb-e98a-4509-93ac-00a56f7405e2",
   "metadata": {},
   "outputs": [
    {
     "data": {
      "text/html": [
       "<div>\n",
       "<style scoped>\n",
       "    .dataframe tbody tr th:only-of-type {\n",
       "        vertical-align: middle;\n",
       "    }\n",
       "\n",
       "    .dataframe tbody tr th {\n",
       "        vertical-align: top;\n",
       "    }\n",
       "\n",
       "    .dataframe thead th {\n",
       "        text-align: right;\n",
       "    }\n",
       "</style>\n",
       "<table border=\"1\" class=\"dataframe\">\n",
       "  <thead>\n",
       "    <tr style=\"text-align: right;\">\n",
       "      <th></th>\n",
       "      <th>images_path</th>\n",
       "      <th>file_names</th>\n",
       "      <th>labels</th>\n",
       "      <th>BID</th>\n",
       "      <th>SCID</th>\n",
       "      <th>CID</th>\n",
       "    </tr>\n",
       "  </thead>\n",
       "  <tbody>\n",
       "    <tr>\n",
       "      <th>0</th>\n",
       "      <td>/app/nfs_clientshare/Datasets/Cosmenet_uat_202...</td>\n",
       "      <td>Kiko-Milano-Floral-Wonderland-Nail-Lacquer-001...</td>\n",
       "      <td>46838</td>\n",
       "      <td>3908.0</td>\n",
       "      <td>222.0</td>\n",
       "      <td>58.0</td>\n",
       "    </tr>\n",
       "  </tbody>\n",
       "</table>\n",
       "</div>"
      ],
      "text/plain": [
       "                                         images_path  \\\n",
       "0  /app/nfs_clientshare/Datasets/Cosmenet_uat_202...   \n",
       "\n",
       "                                          file_names  labels     BID   SCID  \\\n",
       "0  Kiko-Milano-Floral-Wonderland-Nail-Lacquer-001...   46838  3908.0  222.0   \n",
       "\n",
       "    CID  \n",
       "0  58.0  "
      ]
     },
     "execution_count": 101,
     "metadata": {},
     "output_type": "execute_result"
    }
   ],
   "source": [
    "new_data_joined = pd.merge(new_data, pro_join_id, how=\"left\", left_on=[\"labels\"], \n",
    "                           right_on=['EID'])\n",
    "new_data_joined.drop(columns=['EID'], inplace=True)\n",
    "new_data_joined.head(1)"
   ]
  },
  {
   "cell_type": "code",
   "execution_count": 102,
   "id": "48b753c2-66a8-4cc7-8dfb-c7ad1cca7031",
   "metadata": {},
   "outputs": [
    {
     "name": "stdout",
     "output_type": "stream",
     "text": [
      "<class 'pandas.core.frame.DataFrame'>\n",
      "RangeIndex: 34334 entries, 0 to 34333\n",
      "Data columns (total 6 columns):\n",
      " #   Column       Non-Null Count  Dtype  \n",
      "---  ------       --------------  -----  \n",
      " 0   images_path  34334 non-null  object \n",
      " 1   file_names   34334 non-null  object \n",
      " 2   labels       34334 non-null  int64  \n",
      " 3   BID          34254 non-null  float64\n",
      " 4   SCID         34254 non-null  float64\n",
      " 5   CID          34254 non-null  float64\n",
      "dtypes: float64(3), int64(1), object(2)\n",
      "memory usage: 1.6+ MB\n"
     ]
    }
   ],
   "source": [
    "new_data_joined.info()"
   ]
  },
  {
   "cell_type": "code",
   "execution_count": 103,
   "id": "7777a27b-c979-433d-b99d-5fabb381530c",
   "metadata": {},
   "outputs": [
    {
     "data": {
      "text/html": [
       "<div>\n",
       "<style scoped>\n",
       "    .dataframe tbody tr th:only-of-type {\n",
       "        vertical-align: middle;\n",
       "    }\n",
       "\n",
       "    .dataframe tbody tr th {\n",
       "        vertical-align: top;\n",
       "    }\n",
       "\n",
       "    .dataframe thead th {\n",
       "        text-align: right;\n",
       "    }\n",
       "</style>\n",
       "<table border=\"1\" class=\"dataframe\">\n",
       "  <thead>\n",
       "    <tr style=\"text-align: right;\">\n",
       "      <th></th>\n",
       "      <th>images_path</th>\n",
       "      <th>file_names</th>\n",
       "      <th>labels</th>\n",
       "      <th>BID</th>\n",
       "      <th>SCID</th>\n",
       "      <th>CID</th>\n",
       "    </tr>\n",
       "  </thead>\n",
       "  <tbody>\n",
       "    <tr>\n",
       "      <th>0</th>\n",
       "      <td>/app/nfs_clientshare/Datasets/Cosmenet_uat_202...</td>\n",
       "      <td>Kiko-Milano-Floral-Wonderland-Nail-Lacquer-001...</td>\n",
       "      <td>46838</td>\n",
       "      <td>3908</td>\n",
       "      <td>222</td>\n",
       "      <td>58</td>\n",
       "    </tr>\n",
       "  </tbody>\n",
       "</table>\n",
       "</div>"
      ],
      "text/plain": [
       "                                         images_path  \\\n",
       "0  /app/nfs_clientshare/Datasets/Cosmenet_uat_202...   \n",
       "\n",
       "                                          file_names  labels   BID  SCID  CID  \n",
       "0  Kiko-Milano-Floral-Wonderland-Nail-Lacquer-001...   46838  3908   222   58  "
      ]
     },
     "execution_count": 103,
     "metadata": {},
     "output_type": "execute_result"
    }
   ],
   "source": [
    "new_data_joined = new_data_joined.fillna(value=-1).astype({\n",
    "    'BID':'int', 'SCID':'int', 'CID':'int'})\n",
    "new_data_joined.head(1)"
   ]
  },
  {
   "cell_type": "code",
   "execution_count": 104,
   "id": "9612a0dc-1b4b-4869-8371-efd5b48eb999",
   "metadata": {},
   "outputs": [],
   "source": [
    "new_data_joined.to_csv(ROOT_NFS_DATA / 'Cosmenet_uat_20231108' / 'data_search_merge_product_info.csv', \n",
    "                       index=False)"
   ]
  },
  {
   "cell_type": "code",
   "execution_count": 105,
   "id": "8f44646a-5a93-4506-afb5-cc333ababd68",
   "metadata": {},
   "outputs": [
    {
     "data": {
      "text/html": [
       "<div>\n",
       "<style scoped>\n",
       "    .dataframe tbody tr th:only-of-type {\n",
       "        vertical-align: middle;\n",
       "    }\n",
       "\n",
       "    .dataframe tbody tr th {\n",
       "        vertical-align: top;\n",
       "    }\n",
       "\n",
       "    .dataframe thead th {\n",
       "        text-align: right;\n",
       "    }\n",
       "</style>\n",
       "<table border=\"1\" class=\"dataframe\">\n",
       "  <thead>\n",
       "    <tr style=\"text-align: right;\">\n",
       "      <th></th>\n",
       "      <th>images_path</th>\n",
       "      <th>file_names</th>\n",
       "      <th>labels</th>\n",
       "      <th>BID</th>\n",
       "      <th>SCID</th>\n",
       "      <th>CID</th>\n",
       "    </tr>\n",
       "  </thead>\n",
       "  <tbody>\n",
       "    <tr>\n",
       "      <th>0</th>\n",
       "      <td>/app/nfs_clientshare/Datasets/Cosmenet_uat_202...</td>\n",
       "      <td>Kiko-Milano-Floral-Wonderland-Nail-Lacquer-001...</td>\n",
       "      <td>46838</td>\n",
       "      <td>3908</td>\n",
       "      <td>222</td>\n",
       "      <td>58</td>\n",
       "    </tr>\n",
       "  </tbody>\n",
       "</table>\n",
       "</div>"
      ],
      "text/plain": [
       "                                         images_path  \\\n",
       "0  /app/nfs_clientshare/Datasets/Cosmenet_uat_202...   \n",
       "\n",
       "                                          file_names  labels   BID  SCID  CID  \n",
       "0  Kiko-Milano-Floral-Wonderland-Nail-Lacquer-001...   46838  3908   222   58  "
      ]
     },
     "execution_count": 105,
     "metadata": {},
     "output_type": "execute_result"
    }
   ],
   "source": [
    "new_data_merge = pd.read_csv(\n",
    "    ROOT_NFS_DATA / 'Cosmenet_uat_20231108' / 'data_search_merge_product_info.csv')\n",
    "new_data_merge.head(1)"
   ]
  },
  {
   "cell_type": "code",
   "execution_count": 106,
   "id": "302c804d-8909-4943-bb2b-20575ad33adc",
   "metadata": {},
   "outputs": [
    {
     "data": {
      "text/html": [
       "<div>\n",
       "<style scoped>\n",
       "    .dataframe tbody tr th:only-of-type {\n",
       "        vertical-align: middle;\n",
       "    }\n",
       "\n",
       "    .dataframe tbody tr th {\n",
       "        vertical-align: top;\n",
       "    }\n",
       "\n",
       "    .dataframe thead th {\n",
       "        text-align: right;\n",
       "    }\n",
       "</style>\n",
       "<table border=\"1\" class=\"dataframe\">\n",
       "  <thead>\n",
       "    <tr style=\"text-align: right;\">\n",
       "      <th></th>\n",
       "      <th>file_names</th>\n",
       "      <th>labels</th>\n",
       "      <th>images_path</th>\n",
       "      <th>BID</th>\n",
       "      <th>SCID</th>\n",
       "      <th>CID</th>\n",
       "    </tr>\n",
       "  </thead>\n",
       "  <tbody>\n",
       "    <tr>\n",
       "      <th>0</th>\n",
       "      <td>14624_14.jpg</td>\n",
       "      <td>14624</td>\n",
       "      <td>/app/nfs_clientshare/Datasets/Cosmenet_product...</td>\n",
       "      <td>1428</td>\n",
       "      <td>2542</td>\n",
       "      <td>59</td>\n",
       "    </tr>\n",
       "  </tbody>\n",
       "</table>\n",
       "</div>"
      ],
      "text/plain": [
       "     file_names  labels                                        images_path  \\\n",
       "0  14624_14.jpg   14624  /app/nfs_clientshare/Datasets/Cosmenet_product...   \n",
       "\n",
       "    BID  SCID  CID  \n",
       "0  1428  2542   59  "
      ]
     },
     "execution_count": 106,
     "metadata": {},
     "output_type": "execute_result"
    }
   ],
   "source": [
    "old_concat_new = pd.concat([df_joined_load, new_data_merge]).reset_index(drop=True)\n",
    "old_concat_new.head(1)"
   ]
  },
  {
   "cell_type": "code",
   "execution_count": 107,
   "id": "aa79e7f1-ba0a-4455-a58c-8a86d6b0eec5",
   "metadata": {},
   "outputs": [],
   "source": [
    "old_concat_new.to_csv(ROOT_NFS_DATA / 'Cosmenet_uat_20231108' / 'data_last_join_2023_12_18.csv'\n",
    "                      , index=False)"
   ]
  },
  {
   "cell_type": "code",
   "execution_count": 108,
   "id": "a7bb4897-bdab-4c91-9193-b6fb8f43ac84",
   "metadata": {},
   "outputs": [
    {
     "name": "stdout",
     "output_type": "stream",
     "text": [
      "94530\n"
     ]
    },
    {
     "data": {
      "text/html": [
       "<div>\n",
       "<style scoped>\n",
       "    .dataframe tbody tr th:only-of-type {\n",
       "        vertical-align: middle;\n",
       "    }\n",
       "\n",
       "    .dataframe tbody tr th {\n",
       "        vertical-align: top;\n",
       "    }\n",
       "\n",
       "    .dataframe thead th {\n",
       "        text-align: right;\n",
       "    }\n",
       "</style>\n",
       "<table border=\"1\" class=\"dataframe\">\n",
       "  <thead>\n",
       "    <tr style=\"text-align: right;\">\n",
       "      <th></th>\n",
       "      <th>file_names</th>\n",
       "      <th>labels</th>\n",
       "      <th>images_path</th>\n",
       "      <th>BID</th>\n",
       "      <th>SCID</th>\n",
       "      <th>CID</th>\n",
       "    </tr>\n",
       "  </thead>\n",
       "  <tbody>\n",
       "    <tr>\n",
       "      <th>0</th>\n",
       "      <td>14624_14.jpg</td>\n",
       "      <td>14624</td>\n",
       "      <td>/app/nfs_clientshare/Datasets/Cosmenet_product...</td>\n",
       "      <td>1428</td>\n",
       "      <td>2542</td>\n",
       "      <td>59</td>\n",
       "    </tr>\n",
       "  </tbody>\n",
       "</table>\n",
       "</div>"
      ],
      "text/plain": [
       "     file_names  labels                                        images_path  \\\n",
       "0  14624_14.jpg   14624  /app/nfs_clientshare/Datasets/Cosmenet_product...   \n",
       "\n",
       "    BID  SCID  CID  \n",
       "0  1428  2542   59  "
      ]
     },
     "execution_count": 108,
     "metadata": {},
     "output_type": "execute_result"
    }
   ],
   "source": [
    "test = pd.read_csv(ROOT_NFS_DATA / 'Cosmenet_uat_20231108' / 'data_last_join_2023_12_18.csv')\n",
    "print(len(test))\n",
    "test.head(1)"
   ]
  },
  {
   "cell_type": "markdown",
   "id": "3c806fa8-6e4c-4760-9d52-33f58a2a9937",
   "metadata": {
    "jp-MarkdownHeadingCollapsed": true
   },
   "source": [
    "# Clean Image"
   ]
  },
  {
   "cell_type": "code",
   "execution_count": 67,
   "id": "064ceb2d-c7bc-41b3-92ae-b97a5ba2b16b",
   "metadata": {},
   "outputs": [],
   "source": [
    "import pandas as pd\n",
    "import numpy as np\n",
    "from script.tool import ROOT_NFS_DATA, scan_directory\n",
    "from PIL import Image\n",
    "from tqdm.notebook import tqdm\n",
    "import os"
   ]
  },
  {
   "cell_type": "code",
   "execution_count": 44,
   "id": "ce544a4c-f1e4-4a2a-ab09-83715c3f4713",
   "metadata": {},
   "outputs": [],
   "source": [
    "path_root = '/app/nfs_clientshare/Datasets/Cosmenet_uat_20231108/datas_image_from_db_uat'"
   ]
  },
  {
   "cell_type": "code",
   "execution_count": 47,
   "id": "8a62cd40-61aa-4ee2-927f-4545d2b71472",
   "metadata": {},
   "outputs": [
    {
     "name": "stdout",
     "output_type": "stream",
     "text": [
      "amount of all image : 34836\n"
     ]
    },
    {
     "data": {
      "text/html": [
       "<div>\n",
       "<style scoped>\n",
       "    .dataframe tbody tr th:only-of-type {\n",
       "        vertical-align: middle;\n",
       "    }\n",
       "\n",
       "    .dataframe tbody tr th {\n",
       "        vertical-align: top;\n",
       "    }\n",
       "\n",
       "    .dataframe thead th {\n",
       "        text-align: right;\n",
       "    }\n",
       "</style>\n",
       "<table border=\"1\" class=\"dataframe\">\n",
       "  <thead>\n",
       "    <tr style=\"text-align: right;\">\n",
       "      <th></th>\n",
       "      <th>images_path</th>\n",
       "      <th>file_names</th>\n",
       "      <th>labels</th>\n",
       "    </tr>\n",
       "  </thead>\n",
       "  <tbody>\n",
       "    <tr>\n",
       "      <th>0</th>\n",
       "      <td>/app/nfs_clientshare/Datasets/Cosmenet_uat_202...</td>\n",
       "      <td>Kiko-Milano-Floral-Wonderland-Nail-Lacquer-001...</td>\n",
       "      <td>46838</td>\n",
       "    </tr>\n",
       "  </tbody>\n",
       "</table>\n",
       "</div>"
      ],
      "text/plain": [
       "                                         images_path  \\\n",
       "0  /app/nfs_clientshare/Datasets/Cosmenet_uat_202...   \n",
       "\n",
       "                                          file_names labels  \n",
       "0  Kiko-Milano-Floral-Wonderland-Nail-Lacquer-001...  46838  "
      ]
     },
     "execution_count": 47,
     "metadata": {},
     "output_type": "execute_result"
    }
   ],
   "source": [
    "df = scan_directory(path_root, 0, 1)\n",
    "df.head(1)"
   ]
  },
  {
   "cell_type": "code",
   "execution_count": 48,
   "id": "132da762-7498-4291-83bd-a43c2367b4be",
   "metadata": {
    "scrolled": true
   },
   "outputs": [
    {
     "data": {
      "application/vnd.jupyter.widget-view+json": {
       "model_id": "4309b41d55c4461191b1ec562d283010",
       "version_major": 2,
       "version_minor": 0
      },
      "text/plain": [
       "  0%|          | 0/34836 [00:00<?, ?it/s]"
      ]
     },
     "metadata": {},
     "output_type": "display_data"
    },
    {
     "name": "stdout",
     "output_type": "stream",
     "text": [
      "15 /app/nfs_clientshare/Datasets/Cosmenet_uat_20231108/datas_image_from_db_uat/42716/PregSkin-l-Intensive-Hydrating-Stretch-Mark-Butter-10.jpg\n",
      "17 /app/nfs_clientshare/Datasets/Cosmenet_uat_20231108/datas_image_from_db_uat/42716/PregSkin-l-Intensive-Hydrating-Stretch-Mark-Butter-06.jpg\n",
      "18 /app/nfs_clientshare/Datasets/Cosmenet_uat_20231108/datas_image_from_db_uat/42716/PregSkin-l-Intensive-Hydrating-Stretch-Mark-Butter-09.jpg\n",
      "19 /app/nfs_clientshare/Datasets/Cosmenet_uat_20231108/datas_image_from_db_uat/42716/PregSkin-l-Intensive-Hydrating-Stretch-Mark-Butter-04.jpg\n",
      "21 /app/nfs_clientshare/Datasets/Cosmenet_uat_20231108/datas_image_from_db_uat/42716/PregSkin-l-Intensive-Hydrating-Stretch-Mark-Butter-02.jpg\n",
      "23 /app/nfs_clientshare/Datasets/Cosmenet_uat_20231108/datas_image_from_db_uat/42716/PregSkin-l-Intensive-Hydrating-Stretch-Mark-Butter-01.jpg\n",
      "25 /app/nfs_clientshare/Datasets/Cosmenet_uat_20231108/datas_image_from_db_uat/42716/PregSkin-l-Intensive-Hydrating-Stretch-Mark-Butter-03.jpg\n",
      "31 /app/nfs_clientshare/Datasets/Cosmenet_uat_20231108/datas_image_from_db_uat/30654/stives-acnecontrolapricotfacialscrub-300.jpg\n",
      "91 /app/nfs_clientshare/Datasets/Cosmenet_uat_20231108/datas_image_from_db_uat/42529/Cetaphil-Bright-Healthy-Radiance-Brightness-Refresh-Toner-10.jpg\n",
      "92 /app/nfs_clientshare/Datasets/Cosmenet_uat_20231108/datas_image_from_db_uat/42529/Cetaphil-Bright-Healthy-Radiance-Brightness-Refresh-Toner-05.jpg\n",
      "93 /app/nfs_clientshare/Datasets/Cosmenet_uat_20231108/datas_image_from_db_uat/42529/Cetaphil-Bright-Healthy-Radiance-Brightness-Refresh-Toner-07.jpg\n",
      "94 /app/nfs_clientshare/Datasets/Cosmenet_uat_20231108/datas_image_from_db_uat/42529/Cetaphil-Bright-Healthy-Radiance-Brightness-Refresh-Toner-01.jpg\n",
      "95 /app/nfs_clientshare/Datasets/Cosmenet_uat_20231108/datas_image_from_db_uat/42529/Cetaphil-Bright-Healthy-Radiance-Brightness-Refresh-Toner-02.jpg\n",
      "96 /app/nfs_clientshare/Datasets/Cosmenet_uat_20231108/datas_image_from_db_uat/42529/Cetaphil-Bright-Healthy-Radiance-Brightness-Refresh-Toner-09.jpg\n",
      "97 /app/nfs_clientshare/Datasets/Cosmenet_uat_20231108/datas_image_from_db_uat/42529/Cetaphil-Bright-Healthy-Radiance-Brightness-Refresh-Toner-03.jpg\n",
      "98 /app/nfs_clientshare/Datasets/Cosmenet_uat_20231108/datas_image_from_db_uat/42529/Cetaphil-Bright-Healthy-Radiance-Brightness-Refresh-Toner-06.jpg\n",
      "99 /app/nfs_clientshare/Datasets/Cosmenet_uat_20231108/datas_image_from_db_uat/42529/Cetaphil-Bright-Healthy-Radiance-Brightness-Refresh-Toner-04.jpg\n",
      "100 /app/nfs_clientshare/Datasets/Cosmenet_uat_20231108/datas_image_from_db_uat/42529/Cetaphil-Bright-Healthy-Radiance-Brightness-Refresh-Toner.jpg\n",
      "101 /app/nfs_clientshare/Datasets/Cosmenet_uat_20231108/datas_image_from_db_uat/42529/Cetaphil-Bright-Healthy-Radiance-Brightness-Refresh-Toner-08.jpg\n",
      "163 /app/nfs_clientshare/Datasets/Cosmenet_uat_20231108/datas_image_from_db_uat/28054/cezanne-nose-and-eyebrow-powder-300.jpg\n",
      "197 /app/nfs_clientshare/Datasets/Cosmenet_uat_20231108/datas_image_from_db_uat/49216/th-11134103-23010-szcjw9060ylv6d.jpg\n",
      "198 /app/nfs_clientshare/Datasets/Cosmenet_uat_20231108/datas_image_from_db_uat/49216/th-11134103-23010-c4kb6c8vlwlvad.jpg\n",
      "540 /app/nfs_clientshare/Datasets/Cosmenet_uat_20231108/datas_image_from_db_uat/47640/Nivea.jpg\n",
      "737 /app/nfs_clientshare/Datasets/Cosmenet_uat_20231108/datas_image_from_db_uat/47766/2021-new-product_picture-dropper_serum-1000x1000--17.jpg\n",
      "738 /app/nfs_clientshare/Datasets/Cosmenet_uat_20231108/datas_image_from_db_uat/47766/qr31niqtfNOmXm5j3Rk-o.jpg\n",
      "748 /app/nfs_clientshare/Datasets/Cosmenet_uat_20231108/datas_image_from_db_uat/42568/Charlotte-Tilbury-Cheek-to-Chic-01.jpg\n",
      "750 /app/nfs_clientshare/Datasets/Cosmenet_uat_20231108/datas_image_from_db_uat/42568/Charlotte-Tilbury-Cheek-to-Chic-03.jpg\n",
      "751 /app/nfs_clientshare/Datasets/Cosmenet_uat_20231108/datas_image_from_db_uat/42568/Charlotte-Tilbury-Cheek-to-Chic-07.jpg\n",
      "752 /app/nfs_clientshare/Datasets/Cosmenet_uat_20231108/datas_image_from_db_uat/42568/Charlotte-Tilbury-Cheek-to-Chic-08.jpg\n",
      "766 /app/nfs_clientshare/Datasets/Cosmenet_uat_20231108/datas_image_from_db_uat/34819/babymild-ultramildbabypowderl-300.jpg\n",
      "792 /app/nfs_clientshare/Datasets/Cosmenet_uat_20231108/datas_image_from_db_uat/41726/hot-style-bubble-hair-coloring-7.jpg\n",
      "1122 /app/nfs_clientshare/Datasets/Cosmenet_uat_20231108/datas_image_from_db_uat/35074/domohorn-wrinkle-cream20-300.jpg\n",
      "1329 /app/nfs_clientshare/Datasets/Cosmenet_uat_20231108/datas_image_from_db_uat/19183/8bd67e6b811adea813ad643dd84c4f98.jpg\n",
      "1345 /app/nfs_clientshare/Datasets/Cosmenet_uat_20231108/datas_image_from_db_uat/40225/cutepress-imjustmedeodorant-300.jpg\n",
      "1438 /app/nfs_clientshare/Datasets/Cosmenet_uat_20231108/datas_image_from_db_uat/48209/bsc_c_cover_lightpowderspf25_600x600.jpg\n",
      "1676 /app/nfs_clientshare/Datasets/Cosmenet_uat_20231108/datas_image_from_db_uat/2692/16045454447245.jpg_w.jpg_11zon.jpg\n",
      "1679 /app/nfs_clientshare/Datasets/Cosmenet_uat_20231108/datas_image_from_db_uat/2692/bnib_kate_tokyo_limited_editio_1608554875_15cc157f_progressive_11zon.jpg\n",
      "1681 /app/nfs_clientshare/Datasets/Cosmenet_uat_20231108/datas_image_from_db_uat/2692/1449570171-8449166295_cfa719df75_c_11zon.jpg\n",
      "1687 /app/nfs_clientshare/Datasets/Cosmenet_uat_20231108/datas_image_from_db_uat/21215/Dentiste-Oral-rinse-300.jpg\n",
      "1695 /app/nfs_clientshare/Datasets/Cosmenet_uat_20231108/datas_image_from_db_uat/19635/smoothe_extrasensitivemakeupcleansingwater600x600.jpg\n",
      "1933 /app/nfs_clientshare/Datasets/Cosmenet_uat_20231108/datas_image_from_db_uat/34562/head-and-shoulders-apple-fresh-300.jpg\n",
      "1998 /app/nfs_clientshare/Datasets/Cosmenet_uat_20231108/datas_image_from_db_uat/40610/nive_luminous630Intensivetreatmentserum600x600.jpg\n",
      "2629 /app/nfs_clientshare/Datasets/Cosmenet_uat_20231108/datas_image_from_db_uat/37348/d1c95a89c1bf00a4c556011045deced2.jpg\n",
      "2630 /app/nfs_clientshare/Datasets/Cosmenet_uat_20231108/datas_image_from_db_uat/37348/cezanne_uvclearfacepowder_refil_l600x600.jpg\n",
      "2631 /app/nfs_clientshare/Datasets/Cosmenet_uat_20231108/datas_image_from_db_uat/37348/f69cf3160c1323a6d89ec6ff03a24681.jpg\n",
      "2632 /app/nfs_clientshare/Datasets/Cosmenet_uat_20231108/datas_image_from_db_uat/37348/6ecbdde6c853fd95c7a608ed8e4d9fe6.jpg\n",
      "2633 /app/nfs_clientshare/Datasets/Cosmenet_uat_20231108/datas_image_from_db_uat/37348/b3489022d1dce81540225e6a9788d9d1.jpg\n",
      "2634 /app/nfs_clientshare/Datasets/Cosmenet_uat_20231108/datas_image_from_db_uat/37348/th-11134103-22070-e3vd11p5j1ev6b.jpg\n",
      "2984 /app/nfs_clientshare/Datasets/Cosmenet_uat_20231108/datas_image_from_db_uat/34538/senka_perfectwhipcollagenin600x600.jpg\n",
      "2985 /app/nfs_clientshare/Datasets/Cosmenet_uat_20231108/datas_image_from_db_uat/34538/th-11134103-22080-f118pf1lc6fv5e.jpg\n",
      "2986 /app/nfs_clientshare/Datasets/Cosmenet_uat_20231108/datas_image_from_db_uat/34538/f35b4efedb557d1bc3c8442250fbf23c.jpg\n",
      "2987 /app/nfs_clientshare/Datasets/Cosmenet_uat_20231108/datas_image_from_db_uat/34538/th-11134103-22110-0ejh4lf8jvjv8f.jpg\n",
      "2988 /app/nfs_clientshare/Datasets/Cosmenet_uat_20231108/datas_image_from_db_uat/34538/86f13a7ce38abfed65cfc6d40fc3e8b2.jpg\n",
      "2989 /app/nfs_clientshare/Datasets/Cosmenet_uat_20231108/datas_image_from_db_uat/34538/th-11134103-22110-0yq56r2fjvjv38.jpg\n",
      "2990 /app/nfs_clientshare/Datasets/Cosmenet_uat_20231108/datas_image_from_db_uat/34538/senka_perfect_whip_collagen_1658826896_6e529569_progressive.jpg\n",
      "2991 /app/nfs_clientshare/Datasets/Cosmenet_uat_20231108/datas_image_from_db_uat/34538/587fc543816e4b2d978e66af811effff_5_1664127720.987710.jpg\n",
      "2992 /app/nfs_clientshare/Datasets/Cosmenet_uat_20231108/datas_image_from_db_uat/34538/th-11134103-22070-hxa0rflsiuev5d.jpg\n",
      "2993 /app/nfs_clientshare/Datasets/Cosmenet_uat_20231108/datas_image_from_db_uat/34538/senka_perfect_whip_collagen_fa_1671245894_eb68d268.jpg\n",
      "2994 /app/nfs_clientshare/Datasets/Cosmenet_uat_20231108/datas_image_from_db_uat/34538/th-11134103-23010-4zilpzzankmv1b.jpg\n",
      "3125 /app/nfs_clientshare/Datasets/Cosmenet_uat_20231108/datas_image_from_db_uat/36130/senka-perfect-whip-white-600.jpg\n",
      "3312 /app/nfs_clientshare/Datasets/Cosmenet_uat_20231108/datas_image_from_db_uat/44582/kerastase_genesisserum600x600.jpg\n",
      "3787 /app/nfs_clientshare/Datasets/Cosmenet_uat_20231108/datas_image_from_db_uat/48615/cathydoll_skinfitnudemattefoundation600x600.jpg\n",
      "3856 /app/nfs_clientshare/Datasets/Cosmenet_uat_20231108/datas_image_from_db_uat/46550/IMG20220903171511.jpg\n",
      "3864 /app/nfs_clientshare/Datasets/Cosmenet_uat_20231108/datas_image_from_db_uat/48126/Nivea.jpg\n",
      "4153 /app/nfs_clientshare/Datasets/Cosmenet_uat_20231108/datas_image_from_db_uat/37591/bio-essence-bio-gold-rose-gold-water-300.jpg\n",
      "4333 /app/nfs_clientshare/Datasets/Cosmenet_uat_20231108/datas_image_from_db_uat/39945/senka-perfect-whip-acne-care-600.jpg\n",
      "4976 /app/nfs_clientshare/Datasets/Cosmenet_uat_20231108/datas_image_from_db_uat/17765/SuperMulti-CorrectiveCream-300x300.jpg\n",
      "4994 /app/nfs_clientshare/Datasets/Cosmenet_uat_20231108/datas_image_from_db_uat/42565/KATE-TOKYO-Lash-Maximizer-HP-02.jpg\n",
      "4995 /app/nfs_clientshare/Datasets/Cosmenet_uat_20231108/datas_image_from_db_uat/42565/KATE-TOKYO-Lash-Maximizer-HP-01.jpg\n",
      "4998 /app/nfs_clientshare/Datasets/Cosmenet_uat_20231108/datas_image_from_db_uat/42565/KATE-TOKYO-Lash-Maximizer-HP-07.jpg\n",
      "5056 /app/nfs_clientshare/Datasets/Cosmenet_uat_20231108/datas_image_from_db_uat/28270/seiei-delicate-zone-cleansing-for-men-300.jpg\n",
      "5129 /app/nfs_clientshare/Datasets/Cosmenet_uat_20231108/datas_image_from_db_uat/38366/merrezca-aloeverasunprotectionstick-300.jpg\n",
      "5415 /app/nfs_clientshare/Datasets/Cosmenet_uat_20231108/datas_image_from_db_uat/47102/alinamin_ex_plus600x600.jpg\n",
      "5575 /app/nfs_clientshare/Datasets/Cosmenet_uat_20231108/datas_image_from_db_uat/48516/S__53346356.jpg\n",
      "5576 /app/nfs_clientshare/Datasets/Cosmenet_uat_20231108/datas_image_from_db_uat/48516/S__53346357.jpg\n",
      "5577 /app/nfs_clientshare/Datasets/Cosmenet_uat_20231108/datas_image_from_db_uat/48516/S__53346354.jpg\n",
      "5578 /app/nfs_clientshare/Datasets/Cosmenet_uat_20231108/datas_image_from_db_uat/48516/S__53346355.jpg\n",
      "5579 /app/nfs_clientshare/Datasets/Cosmenet_uat_20231108/datas_image_from_db_uat/48516/ink-mood-glowy-tint.jpg\n",
      "5580 /app/nfs_clientshare/Datasets/Cosmenet_uat_20231108/datas_image_from_db_uat/48516/S__53346358.jpg\n",
      "5840 /app/nfs_clientshare/Datasets/Cosmenet_uat_20231108/datas_image_from_db_uat/42679/Lilybyred-LUV-Beam-Cheek-Balm-10.jpg\n",
      "5841 /app/nfs_clientshare/Datasets/Cosmenet_uat_20231108/datas_image_from_db_uat/42679/Lilybyred-LUV-Beam-Cheek-Balm-08.jpg\n",
      "5842 /app/nfs_clientshare/Datasets/Cosmenet_uat_20231108/datas_image_from_db_uat/42679/Lilybyred-LUV-Beam-Cheek-Balm-05.jpg\n",
      "5844 /app/nfs_clientshare/Datasets/Cosmenet_uat_20231108/datas_image_from_db_uat/42679/Lilybyred-LUV-Beam-Cheek-Balm-04.jpg\n",
      "5845 /app/nfs_clientshare/Datasets/Cosmenet_uat_20231108/datas_image_from_db_uat/42679/Lilybyred-LUV-Beam-Cheek-Balm-09.jpg\n",
      "5846 /app/nfs_clientshare/Datasets/Cosmenet_uat_20231108/datas_image_from_db_uat/42679/Lilybyred-LUV-Beam-Cheek-Balm-02.jpg\n",
      "5849 /app/nfs_clientshare/Datasets/Cosmenet_uat_20231108/datas_image_from_db_uat/42679/Lilybyred-LUV-Beam-Cheek-Balm-03.jpg\n",
      "5856 /app/nfs_clientshare/Datasets/Cosmenet_uat_20231108/datas_image_from_db_uat/47364/a5dff4cf713cc9b2604288adce48097f.jpg\n",
      "5909 /app/nfs_clientshare/Datasets/Cosmenet_uat_20231108/datas_image_from_db_uat/47019/enfant_organicplusextramildmoisturelotion600x600.jpg\n",
      "6192 /app/nfs_clientshare/Datasets/Cosmenet_uat_20231108/datas_image_from_db_uat/32353/nivea-extra-white-repair-and-protect-lotion-300.jpg\n",
      "6346 /app/nfs_clientshare/Datasets/Cosmenet_uat_20231108/datas_image_from_db_uat/31358/biore_uv_anti_pollutionbodycareserumrefreshbright600x600.jpg\n",
      "6409 /app/nfs_clientshare/Datasets/Cosmenet_uat_20231108/datas_image_from_db_uat/47810/web_ci-lab--body-lotion-490_01.jpg\n",
      "6532 /app/nfs_clientshare/Datasets/Cosmenet_uat_20231108/datas_image_from_db_uat/42793/HER-HYNESS-ROYAL-PEPTIDE-ANTI-WRINKLE-WHITENING-CREAM-05.jpg\n",
      "6534 /app/nfs_clientshare/Datasets/Cosmenet_uat_20231108/datas_image_from_db_uat/42678/﻿Lilybyred-LUV-Beam-Glow-09.jpg\n",
      "6541 /app/nfs_clientshare/Datasets/Cosmenet_uat_20231108/datas_image_from_db_uat/42678/﻿Lilybyred-LUV-Beam-Glow-07.jpg\n",
      "6542 /app/nfs_clientshare/Datasets/Cosmenet_uat_20231108/datas_image_from_db_uat/42678/﻿Lilybyred-LUV-Beam-Glow-02.jpg\n",
      "6708 /app/nfs_clientshare/Datasets/Cosmenet_uat_20231108/datas_image_from_db_uat/17761/40353700392_7169052f91_b_11zon (1).jpg\n",
      "6710 /app/nfs_clientshare/Datasets/Cosmenet_uat_20231108/datas_image_from_db_uat/17761/orientalprincess_naturalpower_c_miraclebrighteningcomplexpowerboostingserum600x600.jpg\n",
      "6712 /app/nfs_clientshare/Datasets/Cosmenet_uat_20231108/datas_image_from_db_uat/17761/16264411602019_11zon.jpg\n",
      "6713 /app/nfs_clientshare/Datasets/Cosmenet_uat_20231108/datas_image_from_db_uat/17761/bc50686fd5dd4238a30912f908c3aaad_0x1600_11zon.jpg\n",
      "6802 /app/nfs_clientshare/Datasets/Cosmenet_uat_20231108/datas_image_from_db_uat/38039/mamonde-everyday-sun-stick-300.jpg\n",
      "6896 /app/nfs_clientshare/Datasets/Cosmenet_uat_20231108/datas_image_from_db_uat/49361/yvesrocher_theantiagingcomfortnightcream600x600.jpg\n",
      "6931 /app/nfs_clientshare/Datasets/Cosmenet_uat_20231108/datas_image_from_db_uat/47627/itisacat600x600.jpeg\n",
      "7014 /app/nfs_clientshare/Datasets/Cosmenet_uat_20231108/datas_image_from_db_uat/11321/beauty-buffet-scentio-milk-plus-whitening-q10-facial-scrub-300.jpg\n",
      "7175 /app/nfs_clientshare/Datasets/Cosmenet_uat_20231108/datas_image_from_db_uat/40920/2_11zon.jpg\n",
      "7176 /app/nfs_clientshare/Datasets/Cosmenet_uat_20231108/datas_image_from_db_uat/40920/deleaf_pomegranateagelessglowmoisturizinggel600x600.jpg\n",
      "7482 /app/nfs_clientshare/Datasets/Cosmenet_uat_20231108/datas_image_from_db_uat/38012/loreal-true-match-super-blendable-powder-300.jpg\n",
      "7574 /app/nfs_clientshare/Datasets/Cosmenet_uat_20231108/datas_image_from_db_uat/30242/senka_perfectwhiteclay600x600.jpg\n",
      "8046 /app/nfs_clientshare/Datasets/Cosmenet_uat_20231108/datas_image_from_db_uat/10765/8.JPG\n",
      "8331 /app/nfs_clientshare/Datasets/Cosmenet_uat_20231108/datas_image_from_db_uat/41727/lolane_pixxelcolorcream600x600.jpg\n",
      "8408 /app/nfs_clientshare/Datasets/Cosmenet_uat_20231108/datas_image_from_db_uat/48124/001-002-00-600.jpeg\n",
      "8422 /app/nfs_clientshare/Datasets/Cosmenet_uat_20231108/datas_image_from_db_uat/42694/khaokho-talaypu-rice-oat-face-scurb-600.jpg\n",
      "8557 /app/nfs_clientshare/Datasets/Cosmenet_uat_20231108/datas_image_from_db_uat/47856/nivea_lipcaringcolorangelpink600x600.jpg\n",
      "8563 /app/nfs_clientshare/Datasets/Cosmenet_uat_20231108/datas_image_from_db_uat/32377/suisai-beauty-clear-powder-wash-300.jpg\n",
      "8618 /app/nfs_clientshare/Datasets/Cosmenet_uat_20231108/datas_image_from_db_uat/38264/supergoop-glowsticksunscreenspf50-300.jpg\n",
      "8698 /app/nfs_clientshare/Datasets/Cosmenet_uat_20231108/datas_image_from_db_uat/37714/super-sunshield-bright-fit.jpg\n",
      "8701 /app/nfs_clientshare/Datasets/Cosmenet_uat_20231108/datas_image_from_db_uat/34889/dnee-purebabylotionorganic-300.jpg\n",
      "8900 /app/nfs_clientshare/Datasets/Cosmenet_uat_20231108/datas_image_from_db_uat/42721/﻿Laneige-Neo-Cushion-Glow-04.jpg\n",
      "8903 /app/nfs_clientshare/Datasets/Cosmenet_uat_20231108/datas_image_from_db_uat/42721/﻿Laneige-Neo-Cushion-Glow-02.jpg\n",
      "8906 /app/nfs_clientshare/Datasets/Cosmenet_uat_20231108/datas_image_from_db_uat/42721/﻿Laneige-Neo-Cushion-Glow-10.jpg\n",
      "8967 /app/nfs_clientshare/Datasets/Cosmenet_uat_20231108/datas_image_from_db_uat/26904/th-11134103-22070-vsxoccbq99evbe.jpg\n",
      "8968 /app/nfs_clientshare/Datasets/Cosmenet_uat_20231108/datas_image_from_db_uat/26904/648cb008edb04ceeb04b0d97cf4c7e8a.jpg\n",
      "8969 /app/nfs_clientshare/Datasets/Cosmenet_uat_20231108/datas_image_from_db_uat/26904/23d4f98d5095b54caabd0a18c6a119ff.jpg\n",
      "8970 /app/nfs_clientshare/Datasets/Cosmenet_uat_20231108/datas_image_from_db_uat/26904/1d6c42cb2b91e02f8284f2666702f58c.jpg\n",
      "8972 /app/nfs_clientshare/Datasets/Cosmenet_uat_20231108/datas_image_from_db_uat/26904/e2a149bbd08d767b359f1466b1dd0287.jpg\n",
      "9174 /app/nfs_clientshare/Datasets/Cosmenet_uat_20231108/datas_image_from_db_uat/37963/shiseido-white-lucent-overnight-cream-and-mask-300.jpg\n",
      "9345 /app/nfs_clientshare/Datasets/Cosmenet_uat_20231108/datas_image_from_db_uat/50448/th-11134103-22120-5ryqhhari6kv5a.jpg\n",
      "9355 /app/nfs_clientshare/Datasets/Cosmenet_uat_20231108/datas_image_from_db_uat/26541/biore-uv-anti-pollution-body-care-serum-intensive-aura-600.jpg\n",
      "9526 /app/nfs_clientshare/Datasets/Cosmenet_uat_20231108/datas_image_from_db_uat/47855/th-11134103-22070-wstxcrovbofv1c.jpg\n",
      "9581 /app/nfs_clientshare/Datasets/Cosmenet_uat_20231108/datas_image_from_db_uat/47645/itisacat600x600.jpeg\n",
      "9993 /app/nfs_clientshare/Datasets/Cosmenet_uat_20231108/datas_image_from_db_uat/38479/6f3b267624fef7e2c1d131a0adc010c8.jpg\n",
      "9994 /app/nfs_clientshare/Datasets/Cosmenet_uat_20231108/datas_image_from_db_uat/38479/th-11134103-22070-g6gfflcu3yev16.jpg\n",
      "9995 /app/nfs_clientshare/Datasets/Cosmenet_uat_20231108/datas_image_from_db_uat/38479/132319422.jpg\n",
      "9996 /app/nfs_clientshare/Datasets/Cosmenet_uat_20231108/datas_image_from_db_uat/38479/08f998e9c7284b259cca548de1d4cc91.jpg\n",
      "10147 /app/nfs_clientshare/Datasets/Cosmenet_uat_20231108/datas_image_from_db_uat/44284/daeng-gi-meo-ri-vitalizing-shampoo-01.jpg\n",
      "10268 /app/nfs_clientshare/Datasets/Cosmenet_uat_20231108/datas_image_from_db_uat/32349/nivea_extrawhiteradiantandmoothlotion600x600.jpg\n",
      "10493 /app/nfs_clientshare/Datasets/Cosmenet_uat_20231108/datas_image_from_db_uat/42707/PregSkin-Blemish-Control-Skin-Clearing-Serum-02.jpg\n",
      "10494 /app/nfs_clientshare/Datasets/Cosmenet_uat_20231108/datas_image_from_db_uat/42707/PregSkin-Blemish-Control-Skin-Clearing-Serum-06.jpg\n",
      "10497 /app/nfs_clientshare/Datasets/Cosmenet_uat_20231108/datas_image_from_db_uat/42707/PregSkin-Blemish-Control-Skin-Clearing-Serum-10.jpg\n",
      "10500 /app/nfs_clientshare/Datasets/Cosmenet_uat_20231108/datas_image_from_db_uat/42707/PregSkin-Blemish-Control-Skin-Clearing-Serum-09.jpg\n",
      "10747 /app/nfs_clientshare/Datasets/Cosmenet_uat_20231108/datas_image_from_db_uat/2456/mac-studio-fix-powder-plus-foundation-300.jpg\n",
      "10836 /app/nfs_clientshare/Datasets/Cosmenet_uat_20231108/datas_image_from_db_uat/42658/﻿AquaPlus-Enriched-C-Serum-08.jpg\n",
      "10837 /app/nfs_clientshare/Datasets/Cosmenet_uat_20231108/datas_image_from_db_uat/42658/﻿AquaPlus-Enriched-C-Serum-03.jpg\n",
      "10839 /app/nfs_clientshare/Datasets/Cosmenet_uat_20231108/datas_image_from_db_uat/42658/﻿AquaPlus-Enriched-C-Serum-09.jpg\n",
      "10840 /app/nfs_clientshare/Datasets/Cosmenet_uat_20231108/datas_image_from_db_uat/42658/﻿AquaPlus-Enriched-C-Serum-02.jpg\n",
      "10841 /app/nfs_clientshare/Datasets/Cosmenet_uat_20231108/datas_image_from_db_uat/42658/﻿AquaPlus-Enriched-C-Serum-05.jpg\n",
      "10843 /app/nfs_clientshare/Datasets/Cosmenet_uat_20231108/datas_image_from_db_uat/42658/﻿AquaPlus-Enriched-C-Serum-06.jpg\n",
      "10845 /app/nfs_clientshare/Datasets/Cosmenet_uat_20231108/datas_image_from_db_uat/42658/﻿AquaPlus-Enriched-C-Serum-07.jpg\n",
      "11054 /app/nfs_clientshare/Datasets/Cosmenet_uat_20231108/datas_image_from_db_uat/41415/loreal_infallible_24h_matte_co_1640588546_a0a56c42.jpg\n",
      "11055 /app/nfs_clientshare/Datasets/Cosmenet_uat_20231108/datas_image_from_db_uat/41415/046df88f7be8ea097b9585d83e073232.jpg\n",
      "11056 /app/nfs_clientshare/Datasets/Cosmenet_uat_20231108/datas_image_from_db_uat/41415/loreal_paris_infallible_24h_ma_1636126896_351a00a1_progressive.jpg\n",
      "11057 /app/nfs_clientshare/Datasets/Cosmenet_uat_20231108/datas_image_from_db_uat/41415/400x400_41415_85530_YNLK1600692085326.jpg\n",
      "11058 /app/nfs_clientshare/Datasets/Cosmenet_uat_20231108/datas_image_from_db_uat/41415/loreal_infallible_24hour_matte_1629124341_531a4090.jpg\n",
      "11059 /app/nfs_clientshare/Datasets/Cosmenet_uat_20231108/datas_image_from_db_uat/41415/loreal_Infallible24hmattecoverfoundation600x600.jpg\n",
      "11553 /app/nfs_clientshare/Datasets/Cosmenet_uat_20231108/datas_image_from_db_uat/36128/senka-perfect-whip-fresh-600.jpg\n",
      "11762 /app/nfs_clientshare/Datasets/Cosmenet_uat_20231108/datas_image_from_db_uat/46786/lip-comfort-oil-preview.jpg\n",
      "11769 /app/nfs_clientshare/Datasets/Cosmenet_uat_20231108/datas_image_from_db_uat/48841/9bb037739dab4f5e1918420a21933851.jpg\n",
      "11771 /app/nfs_clientshare/Datasets/Cosmenet_uat_20231108/datas_image_from_db_uat/48841/f81af26529b66faabe2ccf3782780a6f.jpg\n",
      "11772 /app/nfs_clientshare/Datasets/Cosmenet_uat_20231108/datas_image_from_db_uat/48841/f6ecc73494e7fe65a433a2d583ee3b51.jpg\n",
      "11973 /app/nfs_clientshare/Datasets/Cosmenet_uat_20231108/datas_image_from_db_uat/33488/faith-in-face-truly-waterly-cleansing-water-300.jpg\n",
      "12013 /app/nfs_clientshare/Datasets/Cosmenet_uat_20231108/datas_image_from_db_uat/36516/maison-francis-kurkdjian-baccarat-rouge-540-extrait-de-parfum-300.jpg\n",
      "12159 /app/nfs_clientshare/Datasets/Cosmenet_uat_20231108/datas_image_from_db_uat/34892/dnee-pureorganicnaturalbabypowder-300.jpeg\n",
      "12404 /app/nfs_clientshare/Datasets/Cosmenet_uat_20231108/datas_image_from_db_uat/25554/SMOOTO-VAMPIRE-BB-CC-GLUTA-WHITE-CREAM-300.jpg\n",
      "12449 /app/nfs_clientshare/Datasets/Cosmenet_uat_20231108/datas_image_from_db_uat/42724/Sulwhasoo-Snowise-Brightening-Cushion-SPF50-07.jpg\n",
      "12961 /app/nfs_clientshare/Datasets/Cosmenet_uat_20231108/datas_image_from_db_uat/14311/dfd6fb576fcf792c693807a9fce54cf5.jpg\n",
      "13150 /app/nfs_clientshare/Datasets/Cosmenet_uat_20231108/datas_image_from_db_uat/40336/deonatulle-softstonedoubledeodorant-300.jpg\n",
      "13405 /app/nfs_clientshare/Datasets/Cosmenet_uat_20231108/datas_image_from_db_uat/39570/kolbadent-original-formula-herbal-mouthwash-300.jpg\n",
      "13890 /app/nfs_clientshare/Datasets/Cosmenet_uat_20231108/datas_image_from_db_uat/46505/Taoyeablok-New-Gen-Pure-White-Deo-Spray.jpg\n",
      "14268 /app/nfs_clientshare/Datasets/Cosmenet_uat_20231108/datas_image_from_db_uat/39108/skinsista-v-pore-minimizing-booster-300.jpg\n",
      "14273 /app/nfs_clientshare/Datasets/Cosmenet_uat_20231108/datas_image_from_db_uat/42704/MAC-Powder-Kiss-Liquid-Lipcolour-07.jpg\n",
      "14277 /app/nfs_clientshare/Datasets/Cosmenet_uat_20231108/datas_image_from_db_uat/42704/MAC-Powder-Kiss-Liquid-Lipcolour-05.jpg\n",
      "14278 /app/nfs_clientshare/Datasets/Cosmenet_uat_20231108/datas_image_from_db_uat/42704/MAC-Powder-Kiss-Liquid-Lipcolour-06.jpg\n",
      "14279 /app/nfs_clientshare/Datasets/Cosmenet_uat_20231108/datas_image_from_db_uat/42704/MAC-Powder-Kiss-Liquid-Lipcolour-08.jpg\n",
      "14280 /app/nfs_clientshare/Datasets/Cosmenet_uat_20231108/datas_image_from_db_uat/42704/MAC-Powder-Kiss-Liquid-Lipcolour-02.jpg\n",
      "14281 /app/nfs_clientshare/Datasets/Cosmenet_uat_20231108/datas_image_from_db_uat/42704/th-11134103-22090-wxpxuuh5r8gvaf.jpg\n",
      "14282 /app/nfs_clientshare/Datasets/Cosmenet_uat_20231108/datas_image_from_db_uat/42704/MAC-Powder-Kiss-Liquid-Lipcolour-03.jpg\n",
      "14283 /app/nfs_clientshare/Datasets/Cosmenet_uat_20231108/datas_image_from_db_uat/42704/MAC-Powder-Kiss-Liquid-Lipcolour-09.jpg\n",
      "14545 /app/nfs_clientshare/Datasets/Cosmenet_uat_20231108/datas_image_from_db_uat/38539/beautyblender_blendercleansersolid600x600.jpg\n",
      "14646 /app/nfs_clientshare/Datasets/Cosmenet_uat_20231108/datas_image_from_db_uat/47628/perfume_mist_preview.jpg\n",
      "14681 /app/nfs_clientshare/Datasets/Cosmenet_uat_20231108/datas_image_from_db_uat/32362/herbal-deodorant-300.jpg\n",
      "14799 /app/nfs_clientshare/Datasets/Cosmenet_uat_20231108/datas_image_from_db_uat/48711/th-11134103-22120-y1qbu4zzr0kv2c.jpg\n",
      "14800 /app/nfs_clientshare/Datasets/Cosmenet_uat_20231108/datas_image_from_db_uat/48711/th-11134103-22120-tewy80fazskv65.jpg\n",
      "14801 /app/nfs_clientshare/Datasets/Cosmenet_uat_20231108/datas_image_from_db_uat/48711/th-11134103-22120-sewy80fazskv85.jpg\n",
      "14802 /app/nfs_clientshare/Datasets/Cosmenet_uat_20231108/datas_image_from_db_uat/48711/th-11134103-22100-ses8fzex1aiv90.jpg\n",
      "14803 /app/nfs_clientshare/Datasets/Cosmenet_uat_20231108/datas_image_from_db_uat/48711/th-11134103-22090-ri4ec4mu0yhv00.jpg\n",
      "14804 /app/nfs_clientshare/Datasets/Cosmenet_uat_20231108/datas_image_from_db_uat/48711/lorealparis_revitalifthyaluroniceyeserum600x600.jpg\n",
      "14819 /app/nfs_clientshare/Datasets/Cosmenet_uat_20231108/datas_image_from_db_uat/45005/Tea-Tree-First-Cleansing-Water-01.jpg\n",
      "14908 /app/nfs_clientshare/Datasets/Cosmenet_uat_20231108/datas_image_from_db_uat/47037/400x400_47037_100392_VQk71660027334707.jpg\n",
      "15137 /app/nfs_clientshare/Datasets/Cosmenet_uat_20231108/datas_image_from_db_uat/34222/0817fc3a981edeb1e3f1aedce3a4dc60.jpg\n",
      "15138 /app/nfs_clientshare/Datasets/Cosmenet_uat_20231108/datas_image_from_db_uat/34222/626bd3b5691a5ee1c4b623dbe640ce1f.jpg\n",
      "15139 /app/nfs_clientshare/Datasets/Cosmenet_uat_20231108/datas_image_from_db_uat/34222/330475789e216e0ba49aa2cc7ddaad84.jpg\n",
      "15140 /app/nfs_clientshare/Datasets/Cosmenet_uat_20231108/datas_image_from_db_uat/34222/711acb0d20f3846c20d96961f4e2297d.jpg\n",
      "15142 /app/nfs_clientshare/Datasets/Cosmenet_uat_20231108/datas_image_from_db_uat/34222/th-11134103-22060-5v2bftxmh5dv37.jpg\n",
      "15163 /app/nfs_clientshare/Datasets/Cosmenet_uat_20231108/datas_image_from_db_uat/35792/Yves-RocherAnti-Pollution-Detox-Micellar-Shampoo-04.jpg\n",
      "15165 /app/nfs_clientshare/Datasets/Cosmenet_uat_20231108/datas_image_from_db_uat/35792/Yves-RocherAnti-Pollution-Detox-Micellar-Shampoo-03.jpg\n",
      "15166 /app/nfs_clientshare/Datasets/Cosmenet_uat_20231108/datas_image_from_db_uat/35792/Yves-RocherAnti-Pollution-Detox-Micellar-Shampoo-02.jpg\n",
      "15167 /app/nfs_clientshare/Datasets/Cosmenet_uat_20231108/datas_image_from_db_uat/35792/Yves-RocherAnti-Pollution-Detox-Micellar-Shampoo-05.jpg\n",
      "15168 /app/nfs_clientshare/Datasets/Cosmenet_uat_20231108/datas_image_from_db_uat/35792/Yves-RocherAnti-Pollution-Detox-Micellar-Shampoo-01.jpg\n",
      "15294 /app/nfs_clientshare/Datasets/Cosmenet_uat_20231108/datas_image_from_db_uat/46898/sasi_jollysweetliptint600x600.jpg\n",
      "15407 /app/nfs_clientshare/Datasets/Cosmenet_uat_20231108/datas_image_from_db_uat/15088/DSC_0802.JPG_11zon.jpg\n",
      "15408 /app/nfs_clientshare/Datasets/Cosmenet_uat_20231108/datas_image_from_db_uat/15088/367226_f20f1b02f6_11zon.jpg\n",
      "15484 /app/nfs_clientshare/Datasets/Cosmenet_uat_20231108/datas_image_from_db_uat/32609/bk-jelly-ball-clearly-brightening-gentle-scrub-300.jpg\n",
      "15506 /app/nfs_clientshare/Datasets/Cosmenet_uat_20231108/datas_image_from_db_uat/40259/cutepress-jetset12hrnaturalbrowkit-300.jpg\n",
      "16082 /app/nfs_clientshare/Datasets/Cosmenet_uat_20231108/datas_image_from_db_uat/48776/lolane_pixxelproscalpguarddefense600x600.jpg\n",
      "16156 /app/nfs_clientshare/Datasets/Cosmenet_uat_20231108/datas_image_from_db_uat/34147/gillette-venus-3-basic-300.jpg\n",
      "16451 /app/nfs_clientshare/Datasets/Cosmenet_uat_20231108/datas_image_from_db_uat/48145/001-002-00-600.jpeg\n",
      "16479 /app/nfs_clientshare/Datasets/Cosmenet_uat_20231108/datas_image_from_db_uat/15212/24c8ae76cc7f82412217fa9a7a8dec47_11zon.jpg\n",
      "16484 /app/nfs_clientshare/Datasets/Cosmenet_uat_20231108/datas_image_from_db_uat/15212/brand_new_auth_dove_deeply_nourishing_body_wash_45_ml_1572045156_eb9ce0e0_11zon.jpg\n",
      "16491 /app/nfs_clientshare/Datasets/Cosmenet_uat_20231108/datas_image_from_db_uat/48105/63956825_000_b_11zon.jpg\n",
      "16691 /app/nfs_clientshare/Datasets/Cosmenet_uat_20231108/datas_image_from_db_uat/23534/Aromatic-Wood-Hand-Cream.jpg\n",
      "16724 /app/nfs_clientshare/Datasets/Cosmenet_uat_20231108/datas_image_from_db_uat/46052/tsubaki_premiumhairmask600x600.jpg\n",
      "16798 /app/nfs_clientshare/Datasets/Cosmenet_uat_20231108/datas_image_from_db_uat/36179/reiscare-ricebabyperfumedpowder-300.jpg\n",
      "16828 /app/nfs_clientshare/Datasets/Cosmenet_uat_20231108/datas_image_from_db_uat/38433/biore_uvantipollutionbodycareserumagedefense600x600.jpg\n",
      "16870 /app/nfs_clientshare/Datasets/Cosmenet_uat_20231108/datas_image_from_db_uat/26406/rexona-shower-clean-spray-300.jpg\n",
      "17037 /app/nfs_clientshare/Datasets/Cosmenet_uat_20231108/datas_image_from_db_uat/50417/oriental_beautylovelysakurashowercream600x600.jpg\n",
      "17091 /app/nfs_clientshare/Datasets/Cosmenet_uat_20231108/datas_image_from_db_uat/48433/kadprai_emblicamelasmaserum600x600.jpg\n",
      "17287 /app/nfs_clientshare/Datasets/Cosmenet_uat_20231108/datas_image_from_db_uat/42572/MAC-Glow-Play-Blush-01.jpg\n",
      "17293 /app/nfs_clientshare/Datasets/Cosmenet_uat_20231108/datas_image_from_db_uat/42572/MAC-Glow-Play-Blush-09.jpg\n",
      "17294 /app/nfs_clientshare/Datasets/Cosmenet_uat_20231108/datas_image_from_db_uat/42572/MAC-Glow-Play-Blush-06.jpg\n",
      "17296 /app/nfs_clientshare/Datasets/Cosmenet_uat_20231108/datas_image_from_db_uat/42572/MAC-Glow-Play-Blush-10.jpg\n",
      "18057 /app/nfs_clientshare/Datasets/Cosmenet_uat_20231108/datas_image_from_db_uat/15802/Smooth-E-smooth-Scar-Serum-300.jpg\n",
      "18150 /app/nfs_clientshare/Datasets/Cosmenet_uat_20231108/datas_image_from_db_uat/49214/th-11134103-22120-54zyhze60klv20.jpg\n",
      "18152 /app/nfs_clientshare/Datasets/Cosmenet_uat_20231108/datas_image_from_db_uat/49214/th-11134103-22120-l4114xe60klv9f.jpg\n",
      "18460 /app/nfs_clientshare/Datasets/Cosmenet_uat_20231108/datas_image_from_db_uat/48215/lolane_naturecodecolorshampoo600x600.jpg\n",
      "18548 /app/nfs_clientshare/Datasets/Cosmenet_uat_20231108/datas_image_from_db_uat/48344/skinprorx_ultra_hydrating_cleansing_cream600x600.jpg\n",
      "18797 /app/nfs_clientshare/Datasets/Cosmenet_uat_20231108/datas_image_from_db_uat/35738/nature-replublic-california-aloe-fresh-powdery-sun-stick-300.jpg\n",
      "19635 /app/nfs_clientshare/Datasets/Cosmenet_uat_20231108/datas_image_from_db_uat/20187/lolane-z-cool-bubble-color-foam-300.jpg\n",
      "19960 /app/nfs_clientshare/Datasets/Cosmenet_uat_20231108/datas_image_from_db_uat/30652/stives-freshskinapricotfacialscrub-300.jpg\n",
      "20018 /app/nfs_clientshare/Datasets/Cosmenet_uat_20231108/datas_image_from_db_uat/48125/Nivea.jpg\n",
      "20181 /app/nfs_clientshare/Datasets/Cosmenet_uat_20231108/datas_image_from_db_uat/20475/ultimune_power_infusing_concentrate_preview.jpg\n",
      "20298 /app/nfs_clientshare/Datasets/Cosmenet_uat_20231108/datas_image_from_db_uat/47657/nivea-micellair-oxygen-boost-micellar-water-01.jpg\n",
      "20299 /app/nfs_clientshare/Datasets/Cosmenet_uat_20231108/datas_image_from_db_uat/47657/nivea-micellair-oxygen-boost-micellar-water.jpg\n",
      "20304 /app/nfs_clientshare/Datasets/Cosmenet_uat_20231108/datas_image_from_db_uat/42726/NARS-Aqua-Glow-Cushion-Foundation-02.jpg\n",
      "20305 /app/nfs_clientshare/Datasets/Cosmenet_uat_20231108/datas_image_from_db_uat/42726/NARS-Aqua-Glow-Cushion-Foundation-09.jpg\n",
      "20308 /app/nfs_clientshare/Datasets/Cosmenet_uat_20231108/datas_image_from_db_uat/42726/NARS-Aqua-Glow-Cushion-Foundation-03.jpg\n",
      "20311 /app/nfs_clientshare/Datasets/Cosmenet_uat_20231108/datas_image_from_db_uat/42726/NARS-Aqua-Glow-Cushion-Foundation-10.jpg\n",
      "20336 /app/nfs_clientshare/Datasets/Cosmenet_uat_20231108/datas_image_from_db_uat/20535/Skin-Weightless-Compact-Powder-Foundation-SPF-16-PA-300.jpg\n",
      "20370 /app/nfs_clientshare/Datasets/Cosmenet_uat_20231108/datas_image_from_db_uat/14961/Clinique-Pore-Refining-Solutions-Correction-Serum200x200.jpg\n",
      "20407 /app/nfs_clientshare/Datasets/Cosmenet_uat_20231108/datas_image_from_db_uat/33592/ai-matt-fluid.jpg\n",
      "20436 /app/nfs_clientshare/Datasets/Cosmenet_uat_20231108/datas_image_from_db_uat/47956/herbalessences_shampooarganoilofmorocco600x600.jpg\n",
      "20687 /app/nfs_clientshare/Datasets/Cosmenet_uat_20231108/datas_image_from_db_uat/13530/Gel-color-coat200x200.jpg\n",
      "20689 /app/nfs_clientshare/Datasets/Cosmenet_uat_20231108/datas_image_from_db_uat/47078/14281.jpg\n",
      "20967 /app/nfs_clientshare/Datasets/Cosmenet_uat_20231108/datas_image_from_db_uat/42720/KMA-Wonder-Look-Loose-Powder-04.jpg\n",
      "20975 /app/nfs_clientshare/Datasets/Cosmenet_uat_20231108/datas_image_from_db_uat/42720/KMA-Wonder-Look-Loose-Powder-09.jpg\n",
      "21065 /app/nfs_clientshare/Datasets/Cosmenet_uat_20231108/datas_image_from_db_uat/9362/bioderma_sensibioh2o600x600.jpg\n",
      "21216 /app/nfs_clientshare/Datasets/Cosmenet_uat_20231108/datas_image_from_db_uat/48865/660111_JPG_PP_JM_HairTonic_Red_600_6.jpg\n",
      "21431 /app/nfs_clientshare/Datasets/Cosmenet_uat_20231108/datas_image_from_db_uat/49163/images (1).jpg\n",
      "21432 /app/nfs_clientshare/Datasets/Cosmenet_uat_20231108/datas_image_from_db_uat/49163/1486d8636c3cfc8d2f9bfceea9817f2e.jpg\n",
      "21433 /app/nfs_clientshare/Datasets/Cosmenet_uat_20231108/datas_image_from_db_uat/49163/maxresdefault.jpg\n",
      "21434 /app/nfs_clientshare/Datasets/Cosmenet_uat_20231108/datas_image_from_db_uat/49163/vichy_liftactivsupremenight600x600.jpg\n",
      "21435 /app/nfs_clientshare/Datasets/Cosmenet_uat_20231108/datas_image_from_db_uat/49163/b411c94227fc124459df63a685dbf096.jpg\n",
      "21436 /app/nfs_clientshare/Datasets/Cosmenet_uat_20231108/datas_image_from_db_uat/49163/th-11134103-22090-g0vh75e33ehv5b.jpg\n",
      "21437 /app/nfs_clientshare/Datasets/Cosmenet_uat_20231108/datas_image_from_db_uat/49163/s-l1600.jpg\n",
      "21438 /app/nfs_clientshare/Datasets/Cosmenet_uat_20231108/datas_image_from_db_uat/49163/2eabce9baf56d645f82a2dd443de2ab4.jpg\n",
      "21439 /app/nfs_clientshare/Datasets/Cosmenet_uat_20231108/datas_image_from_db_uat/49163/3b950b4e622c11c58e2433f18975b722.jpg\n",
      "21440 /app/nfs_clientshare/Datasets/Cosmenet_uat_20231108/datas_image_from_db_uat/49163/49188747d260d277612c7aaf5c3de544.jpg\n",
      "21441 /app/nfs_clientshare/Datasets/Cosmenet_uat_20231108/datas_image_from_db_uat/49163/b4660b51c5baa38ff273eae5ec522173.jpg\n",
      "21674 /app/nfs_clientshare/Datasets/Cosmenet_uat_20231108/datas_image_from_db_uat/46075/schwarzkopf_professional_good__1669503861_b796977f_thumbnail_11zon.jpg\n",
      "21675 /app/nfs_clientshare/Datasets/Cosmenet_uat_20231108/datas_image_from_db_uat/46075/db674ef7231332f7c2ef0bbdedbc641e_11zon.jpg\n",
      "21676 /app/nfs_clientshare/Datasets/Cosmenet_uat_20231108/datas_image_from_db_uat/46075/20220616180339TfacH_11zon.jpg\n",
      "21677 /app/nfs_clientshare/Datasets/Cosmenet_uat_20231108/datas_image_from_db_uat/46075/FGptXFqVcAANOWm_11zon.jpg\n",
      "21678 /app/nfs_clientshare/Datasets/Cosmenet_uat_20231108/datas_image_from_db_uat/46075/ff3047a6988dfe7f570591425b76b123_11zon.jpg\n",
      "21679 /app/nfs_clientshare/Datasets/Cosmenet_uat_20231108/datas_image_from_db_uat/46075/schwarzkopf_professional_goodb_1662479705_1b818a6b_progressive_11zon.jpg\n",
      "21680 /app/nfs_clientshare/Datasets/Cosmenet_uat_20231108/datas_image_from_db_uat/46075/schwarzkopf_goodbye_yellow_col_1668422110_7a4c044a_thumbnail_11zon.jpg\n",
      "21681 /app/nfs_clientshare/Datasets/Cosmenet_uat_20231108/datas_image_from_db_uat/46075/eyJidWNrZXQiOiAiaW5mbHVlbnN0ZXJfcHJvZHVjdGlvbiIsICJrZXkiOiAibWVkaWEvcGhvdG8vaW1hZ2UvMTY2NjY0OTc1MDU1NV82Qm9PZ1gwIiwgImVkaXRzIjogeyJyb3RhdGUiOiBudWxsLCAicmVzaXplIjogeyJ3aWR0aCI6IDM1NSwgImhlaWdodCI6IDM1NSwgI_.jpg\n",
      "21682 /app/nfs_clientshare/Datasets/Cosmenet_uat_20231108/datas_image_from_db_uat/46075/RS-edit-4_11zon.jpg\n",
      "21683 /app/nfs_clientshare/Datasets/Cosmenet_uat_20231108/datas_image_from_db_uat/46075/schwarzkopf_goodbyeyellow600x600.jpg\n",
      "21684 /app/nfs_clientshare/Datasets/Cosmenet_uat_20231108/datas_image_from_db_uat/46075/8ff50049915a357afde37b75701f2dd1_11zon.jpg\n",
      "21712 /app/nfs_clientshare/Datasets/Cosmenet_uat_20231108/datas_image_from_db_uat/44287/daeng-gi-meo-ri-vitalizing-treatment-01.jpg\n",
      "21743 /app/nfs_clientshare/Datasets/Cosmenet_uat_20231108/datas_image_from_db_uat/14343/DhkBrOWVAAELO8J_11zon.jpg\n",
      "21744 /app/nfs_clientshare/Datasets/Cosmenet_uat_20231108/datas_image_from_db_uat/14343/s-l500 (5)_11zon.jpg\n",
      "21745 /app/nfs_clientshare/Datasets/Cosmenet_uat_20231108/datas_image_from_db_uat/14343/a7133db4eb94a3eb32be6e5dd80cc39d_11zon.jpg\n",
      "21746 /app/nfs_clientshare/Datasets/Cosmenet_uat_20231108/datas_image_from_db_uat/14343/bsc_nookmuskoil600x600.jpg\n",
      "21747 /app/nfs_clientshare/Datasets/Cosmenet_uat_20231108/datas_image_from_db_uat/14343/DllM6BRUwAA700H_11zon.jpg\n",
      "21748 /app/nfs_clientshare/Datasets/Cosmenet_uat_20231108/datas_image_from_db_uat/14343/EeOnX7YU4AMH3lN_11zon.jpg\n",
      "21874 /app/nfs_clientshare/Datasets/Cosmenet_uat_20231108/datas_image_from_db_uat/27048/lululun-regular-facial-mask-600.jpg\n",
      "22007 /app/nfs_clientshare/Datasets/Cosmenet_uat_20231108/datas_image_from_db_uat/14512/PhotoGrid_1463205020905_11zon.jpg\n",
      "22008 /app/nfs_clientshare/Datasets/Cosmenet_uat_20231108/datas_image_from_db_uat/14512/S0I7KYli1619682421-650x488_11zon.jpg\n",
      "22009 /app/nfs_clientshare/Datasets/Cosmenet_uat_20231108/datas_image_from_db_uat/14512/Dyt2J7fUcAUxPwn_480x480_11zon.jpg\n",
      "22010 /app/nfs_clientshare/Datasets/Cosmenet_uat_20231108/datas_image_from_db_uat/14512/s-l300_11zon.jpg\n",
      "22012 /app/nfs_clientshare/Datasets/Cosmenet_uat_20231108/datas_image_from_db_uat/14512/3e54d347321e4f4eba6829a913c80652_11zon.jpg\n",
      "22039 /app/nfs_clientshare/Datasets/Cosmenet_uat_20231108/datas_image_from_db_uat/28786/puricas-dragons-blood-scar-gel-600.jpg\n",
      "22309 /app/nfs_clientshare/Datasets/Cosmenet_uat_20231108/datas_image_from_db_uat/43783/Vinoclean-Micellar-Cleansing-Water.jpg\n",
      "22447 /app/nfs_clientshare/Datasets/Cosmenet_uat_20231108/datas_image_from_db_uat/40552/366955_4a8e874f47.jpeg\n",
      "22448 /app/nfs_clientshare/Datasets/Cosmenet_uat_20231108/datas_image_from_db_uat/40552/1cb0d4fcddfc31394b951046db660eaa.jpg\n",
      "22466 /app/nfs_clientshare/Datasets/Cosmenet_uat_20231108/datas_image_from_db_uat/43278/rojukiss-perfect-poreless-serum-600.jpg\n",
      "22469 /app/nfs_clientshare/Datasets/Cosmenet_uat_20231108/datas_image_from_db_uat/43278/S__368654.jpg\n",
      "22506 /app/nfs_clientshare/Datasets/Cosmenet_uat_20231108/datas_image_from_db_uat/25279/snailwhite-body-booster-600.jpg\n",
      "22512 /app/nfs_clientshare/Datasets/Cosmenet_uat_20231108/datas_image_from_db_uat/49215/th-11134103-23010-2onpw20xlemv2e.jpg\n",
      "22514 /app/nfs_clientshare/Datasets/Cosmenet_uat_20231108/datas_image_from_db_uat/49215/th-11134103-23010-kf1qt9gil6lv52.jpg\n",
      "22515 /app/nfs_clientshare/Datasets/Cosmenet_uat_20231108/datas_image_from_db_uat/49215/th-11134103-23010-ry2tj1otbbmv28.jpg\n",
      "22516 /app/nfs_clientshare/Datasets/Cosmenet_uat_20231108/datas_image_from_db_uat/49215/th-11134103-23010-9tfz6tltz6lv8d.jpg\n",
      "22883 /app/nfs_clientshare/Datasets/Cosmenet_uat_20231108/datas_image_from_db_uat/41241/tatcha-the-dewy-skin-cream-300.jpg\n",
      "22884 /app/nfs_clientshare/Datasets/Cosmenet_uat_20231108/datas_image_from_db_uat/49213/th-11134103-23010-4npiqvebwqmvb1.jpg\n",
      "22967 /app/nfs_clientshare/Datasets/Cosmenet_uat_20231108/datas_image_from_db_uat/35220/sanctuaryspa-hotsugarscrub-300.jpg\n",
      "23121 /app/nfs_clientshare/Datasets/Cosmenet_uat_20231108/datas_image_from_db_uat/47137/th-11134103-22090-p884wx5fxehv7a_11zon.jpg\n",
      "23122 /app/nfs_clientshare/Datasets/Cosmenet_uat_20231108/datas_image_from_db_uat/47137/e8e7179d37629bb0202ee9f6d6ec23b2.jpg\n",
      "23123 /app/nfs_clientshare/Datasets/Cosmenet_uat_20231108/datas_image_from_db_uat/47137/th-11134103-23010-n8p84c2evgmvb2_11zon.jpg\n",
      "23124 /app/nfs_clientshare/Datasets/Cosmenet_uat_20231108/datas_image_from_db_uat/47137/4ee783ba075ac6483378aa46fce3cca7.jpg\n",
      "23125 /app/nfs_clientshare/Datasets/Cosmenet_uat_20231108/datas_image_from_db_uat/47137/th-11134103-22060-ui82w23f3eev68.jpg\n",
      "23126 /app/nfs_clientshare/Datasets/Cosmenet_uat_20231108/datas_image_from_db_uat/47137/99ba84af46536bfba8a34c218874b8a7.jpg\n",
      "23127 /app/nfs_clientshare/Datasets/Cosmenet_uat_20231108/datas_image_from_db_uat/47137/th-11134103-22100-orbwk9qb6oiv37_11zon.jpg\n",
      "23129 /app/nfs_clientshare/Datasets/Cosmenet_uat_20231108/datas_image_from_db_uat/47137/c609eccbb365af159d98309af19b94d0_11zon.jpg\n",
      "23130 /app/nfs_clientshare/Datasets/Cosmenet_uat_20231108/datas_image_from_db_uat/47137/5035e94b54286e7e88f07068f43cc853.jpg\n",
      "23131 /app/nfs_clientshare/Datasets/Cosmenet_uat_20231108/datas_image_from_db_uat/47137/th-11134103-22100-wpjr8clybrivaf_11zon.jpg\n",
      "23291 /app/nfs_clientshare/Datasets/Cosmenet_uat_20231108/datas_image_from_db_uat/42671/Lilybyred-AM9-To-PM9-Infinite-Mascara-07.jpg\n",
      "23294 /app/nfs_clientshare/Datasets/Cosmenet_uat_20231108/datas_image_from_db_uat/42671/Lilybyred-AM9-To-PM9-Infinite-Mascara-11.jpg\n",
      "23301 /app/nfs_clientshare/Datasets/Cosmenet_uat_20231108/datas_image_from_db_uat/42671/Lilybyred-AM9-To-PM9-Infinite-Mascara-02.jpg\n",
      "23413 /app/nfs_clientshare/Datasets/Cosmenet_uat_20231108/datas_image_from_db_uat/47624/d4d602b621b648fa8f037d98a6140fdf_64c00bc9cdff429a83bb39a56ae47c0b.jpg\n",
      "23414 /app/nfs_clientshare/Datasets/Cosmenet_uat_20231108/datas_image_from_db_uat/47624/nivea-pearl-and-beauty-shaveless-spray.jpg\n",
      "23666 /app/nfs_clientshare/Datasets/Cosmenet_uat_20231108/datas_image_from_db_uat/41274/muji-OIL-CLEANSING-600.jpg\n",
      "23715 /app/nfs_clientshare/Datasets/Cosmenet_uat_20231108/datas_image_from_db_uat/21986/la-mer-the-moisturizing-soft-cream.jpg\n",
      "24095 /app/nfs_clientshare/Datasets/Cosmenet_uat_20231108/datas_image_from_db_uat/25471/soap-and-glory-flake-away-300.jpg\n",
      "24266 /app/nfs_clientshare/Datasets/Cosmenet_uat_20231108/datas_image_from_db_uat/46124/beautylabo-bubble-hair-color-05.jpg\n",
      "24924 /app/nfs_clientshare/Datasets/Cosmenet_uat_20231108/datas_image_from_db_uat/10757/kma_waterresistliquidfoundation600x600.jpg\n",
      "25058 /app/nfs_clientshare/Datasets/Cosmenet_uat_20231108/datas_image_from_db_uat/44080/eucerin-poreless-solution-pore-minimizer-serum-600.jpg\n",
      "25086 /app/nfs_clientshare/Datasets/Cosmenet_uat_20231108/datas_image_from_db_uat/36951/b3670a435554127067e65f38fb6e71c5.jpg\n",
      "25087 /app/nfs_clientshare/Datasets/Cosmenet_uat_20231108/datas_image_from_db_uat/36951/IMG_5272.jpg\n",
      "25088 /app/nfs_clientshare/Datasets/Cosmenet_uat_20231108/datas_image_from_db_uat/36951/maxresdefault.jpg\n",
      "25089 /app/nfs_clientshare/Datasets/Cosmenet_uat_20231108/datas_image_from_db_uat/36951/231032109427b78dcdf7a6bc340fdd12.jpg\n",
      "25090 /app/nfs_clientshare/Datasets/Cosmenet_uat_20231108/datas_image_from_db_uat/36951/aveeno-active-naturals-lotion-skin-relief--500x500.jpg\n",
      "25149 /app/nfs_clientshare/Datasets/Cosmenet_uat_20231108/datas_image_from_db_uat/21210/Neutrogena-Hydro-Boost-Nourishing-Gel-Cream-300.jpg\n",
      "25248 /app/nfs_clientshare/Datasets/Cosmenet_uat_20231108/datas_image_from_db_uat/34507/78155438_2189345991367283_1597170506270769152_o_11zon.jpg\n",
      "25249 /app/nfs_clientshare/Datasets/Cosmenet_uat_20231108/datas_image_from_db_uat/34507/2f506a1c84931f5ca1da5052d32893dc_11zon.jpg\n",
      "25251 /app/nfs_clientshare/Datasets/Cosmenet_uat_20231108/datas_image_from_db_uat/34507/FC_20210530_0059_11zon.jpg\n",
      "25252 /app/nfs_clientshare/Datasets/Cosmenet_uat_20231108/datas_image_from_db_uat/34507/20190206_05_RiangSupod-5-691x1024.jpg_11zon.jpg\n",
      "25253 /app/nfs_clientshare/Datasets/Cosmenet_uat_20231108/datas_image_from_db_uat/34507/shiseido-anessa-perfect-uv-sunscreen-skincare-milk-spf50-pa-60ml-kim-glowy-1_11zon.jpg\n",
      "25464 /app/nfs_clientshare/Datasets/Cosmenet_uat_20231108/datas_image_from_db_uat/42728/LA-MER-The-Luminous-Lifting-Cushion-Foundation-SPF-20-01.jpg\n",
      "25465 /app/nfs_clientshare/Datasets/Cosmenet_uat_20231108/datas_image_from_db_uat/42728/LA-MER-The-Luminous-Lifting-Cushion-Foundation-SPF-20-08.jpg\n",
      "25467 /app/nfs_clientshare/Datasets/Cosmenet_uat_20231108/datas_image_from_db_uat/42728/LA-MER-The-Luminous-Lifting-Cushion-Foundation-SPF-20-0010.jpg\n",
      "25468 /app/nfs_clientshare/Datasets/Cosmenet_uat_20231108/datas_image_from_db_uat/42728/LA-MER-The-Luminous-Lifting-Cushion-Foundation-SPF-20.jpg\n",
      "25474 /app/nfs_clientshare/Datasets/Cosmenet_uat_20231108/datas_image_from_db_uat/42728/LA-MER-The-Luminous-Lifting-Cushion-Foundation-SPF-20-06.jpg\n",
      "25476 /app/nfs_clientshare/Datasets/Cosmenet_uat_20231108/datas_image_from_db_uat/48426/th-11134103-22090-etr4jxgbtjhv82.jpg\n",
      "25477 /app/nfs_clientshare/Datasets/Cosmenet_uat_20231108/datas_image_from_db_uat/48426/th-11134103-22080-0dq72j0yi5fv3f.jpg\n",
      "25478 /app/nfs_clientshare/Datasets/Cosmenet_uat_20231108/datas_image_from_db_uat/48426/c89b1463e5f65e043c797173bd34f2f0.jpg\n",
      "25479 /app/nfs_clientshare/Datasets/Cosmenet_uat_20231108/datas_image_from_db_uat/48426/th-11134103-22100-pj6ds3iosniv68.jpg\n",
      "25480 /app/nfs_clientshare/Datasets/Cosmenet_uat_20231108/datas_image_from_db_uat/48426/th-11134103-22090-jg9mdscvbihvf5.jpg\n",
      "25498 /app/nfs_clientshare/Datasets/Cosmenet_uat_20231108/datas_image_from_db_uat/42714/PregSkin-l-Brightening-Age-Defying-Moisturizing-Facial-Cream-02.jpg\n",
      "25499 /app/nfs_clientshare/Datasets/Cosmenet_uat_20231108/datas_image_from_db_uat/42714/PregSkin-l-Brightening-Age-Defying-Moisturizing-Facial-Cream-03.jpg\n",
      "25503 /app/nfs_clientshare/Datasets/Cosmenet_uat_20231108/datas_image_from_db_uat/42714/PregSkin-l-Brightening-Age-Defying-Moisturizing-Facial-Cream-06.jpg\n",
      "25504 /app/nfs_clientshare/Datasets/Cosmenet_uat_20231108/datas_image_from_db_uat/42714/PregSkin-l-Brightening-Age-Defying-Moisturizing-Facial-Cream-07.jpg\n",
      "25505 /app/nfs_clientshare/Datasets/Cosmenet_uat_20231108/datas_image_from_db_uat/42714/PregSkin-l-Brightening-Age-Defying-Moisturizing-Facial-Cream-05.jpg\n",
      "25982 /app/nfs_clientshare/Datasets/Cosmenet_uat_20231108/datas_image_from_db_uat/8490/narciso-rodriguez-for-her-edp-600.jpg\n",
      "26236 /app/nfs_clientshare/Datasets/Cosmenet_uat_20231108/datas_image_from_db_uat/42713/YSL-Vernis-A-Levres-Water-Glow-Liquid-Lipstick-08.jpg\n",
      "26240 /app/nfs_clientshare/Datasets/Cosmenet_uat_20231108/datas_image_from_db_uat/42713/YSL-Vernis-A-Levres-Water-Glow-Liquid-Lipstick-09.jpg\n",
      "26241 /app/nfs_clientshare/Datasets/Cosmenet_uat_20231108/datas_image_from_db_uat/42713/YSL-Vernis-A-Levres-Water-Glow-Liquid-Lipstick-03.jpg\n",
      "26243 /app/nfs_clientshare/Datasets/Cosmenet_uat_20231108/datas_image_from_db_uat/42713/YSL-Vernis-A-Levres-Water-Glow-Liquid-Lipstick-02.jpg\n",
      "26422 /app/nfs_clientshare/Datasets/Cosmenet_uat_20231108/datas_image_from_db_uat/45020/jergens-brightening-ultra-nourish-body-serum-600.jpg\n",
      "26589 /app/nfs_clientshare/Datasets/Cosmenet_uat_20231108/datas_image_from_db_uat/37956/puricas_advancedformulaantiacnegel600x600.jpg\n",
      "26634 /app/nfs_clientshare/Datasets/Cosmenet_uat_20231108/datas_image_from_db_uat/47646/466715_ddc4b8a5fa_11zon.jpg\n",
      "26635 /app/nfs_clientshare/Datasets/Cosmenet_uat_20231108/datas_image_from_db_uat/47646/bond_bondmensintimatewash600x600.jpg\n",
      "26636 /app/nfs_clientshare/Datasets/Cosmenet_uat_20231108/datas_image_from_db_uat/47646/FAxxl4vVcAAZaJ-_11zon.jpg\n",
      "26637 /app/nfs_clientshare/Datasets/Cosmenet_uat_20231108/datas_image_from_db_uat/47646/s-l500_11zon.jpg\n",
      "26638 /app/nfs_clientshare/Datasets/Cosmenet_uat_20231108/datas_image_from_db_uat/47646/466715_b17f4ee5d1_11zon.jpg\n",
      "26639 /app/nfs_clientshare/Datasets/Cosmenet_uat_20231108/datas_image_from_db_uat/47646/images_11zon.jpg\n",
      "26654 /app/nfs_clientshare/Datasets/Cosmenet_uat_20231108/datas_image_from_db_uat/47608/qqqv19qo33b6T7801E-o.jpg\n",
      "26655 /app/nfs_clientshare/Datasets/Cosmenet_uat_20231108/datas_image_from_db_uat/47608/76dc3df23eb2cca82ee628f7dceaf064.jpg\n",
      "26656 /app/nfs_clientshare/Datasets/Cosmenet_uat_20231108/datas_image_from_db_uat/47608/th-11134103-22060-xx2ifagbzcevfe.jpg\n",
      "26657 /app/nfs_clientshare/Datasets/Cosmenet_uat_20231108/datas_image_from_db_uat/47608/91bb7802722e765c488f6e23bfc76b4d.jpg\n",
      "26658 /app/nfs_clientshare/Datasets/Cosmenet_uat_20231108/datas_image_from_db_uat/47608/400x533_9960_86202_20190929175535.jpg\n",
      "26772 /app/nfs_clientshare/Datasets/Cosmenet_uat_20231108/datas_image_from_db_uat/36363/senka-all-clear-water-micellar-fresh-450.jpg\n",
      "26822 /app/nfs_clientshare/Datasets/Cosmenet_uat_20231108/datas_image_from_db_uat/45425/senka-perfect-whip-berry-bright-600.jpg\n",
      "26863 /app/nfs_clientshare/Datasets/Cosmenet_uat_20231108/datas_image_from_db_uat/41370/bifesta-foaming-whip-acne-care-300.jpg\n",
      "26895 /app/nfs_clientshare/Datasets/Cosmenet_uat_20231108/datas_image_from_db_uat/29126/bifesta-foaming-whip-sebum-300.jpg\n",
      "27444 /app/nfs_clientshare/Datasets/Cosmenet_uat_20231108/datas_image_from_db_uat/41800/Revitalift-Triple-Action-Night-Cream-Mask-pre.jpg\n",
      "27616 /app/nfs_clientshare/Datasets/Cosmenet_uat_20231108/datas_image_from_db_uat/49829/th-11134103-7qul0-lf9k6djurlsh3f_11zon.jpg\n",
      "27619 /app/nfs_clientshare/Datasets/Cosmenet_uat_20231108/datas_image_from_db_uat/49829/p0_11zon.jpg\n",
      "28049 /app/nfs_clientshare/Datasets/Cosmenet_uat_20231108/datas_image_from_db_uat/41136/synchro-skin-self-refreshing-custom-finish-powder-foundation-600.jpg\n",
      "28244 /app/nfs_clientshare/Datasets/Cosmenet_uat_20231108/datas_image_from_db_uat/42528/Cetaphil-Bright-Healthy-Radiance-Brightness-Reveal-Creamy-Cleanser-08.jpg\n",
      "28245 /app/nfs_clientshare/Datasets/Cosmenet_uat_20231108/datas_image_from_db_uat/42528/Cetaphil-Bright-Healthy-Radiance-Brightness-Reveal-Creamy-Cleanser-06.jpg\n",
      "28246 /app/nfs_clientshare/Datasets/Cosmenet_uat_20231108/datas_image_from_db_uat/42528/Cetaphil-Bright-Healthy-Radiance-Brightness-Reveal-Creamy-Cleanser-03.jpg\n",
      "28247 /app/nfs_clientshare/Datasets/Cosmenet_uat_20231108/datas_image_from_db_uat/42528/Cetaphil-Bright-Healthy-Radiance-Brightness-Reveal-Creamy-Cleanser-02.jpg\n",
      "28248 /app/nfs_clientshare/Datasets/Cosmenet_uat_20231108/datas_image_from_db_uat/42528/Cetaphil-Bright-Healthy-Radiance-Brightness-Reveal-Creamy-Cleanser-10.jpg\n",
      "28249 /app/nfs_clientshare/Datasets/Cosmenet_uat_20231108/datas_image_from_db_uat/42528/Cetaphil-Bright-Healthy-Radiance-Brightness-Reveal-Creamy-Cleanser-09.jpg\n",
      "28250 /app/nfs_clientshare/Datasets/Cosmenet_uat_20231108/datas_image_from_db_uat/42528/Cetaphil-Bright-Healthy-Radiance-Brightness-Reveal-Creamy-Cleanser.jpg\n",
      "28251 /app/nfs_clientshare/Datasets/Cosmenet_uat_20231108/datas_image_from_db_uat/42528/Cetaphil-Bright-Healthy-Radiance-Brightness-Reveal-Creamy-Cleanser-04.jpg\n",
      "28252 /app/nfs_clientshare/Datasets/Cosmenet_uat_20231108/datas_image_from_db_uat/42528/Cetaphil-Bright-Healthy-Radiance-Brightness-Reveal-Creamy-Cleanser-01.jpg\n",
      "28253 /app/nfs_clientshare/Datasets/Cosmenet_uat_20231108/datas_image_from_db_uat/42528/Cetaphil-Bright-Healthy-Radiance-Brightness-Reveal-Creamy-Cleanser-05.jpg\n",
      "28254 /app/nfs_clientshare/Datasets/Cosmenet_uat_20231108/datas_image_from_db_uat/42528/Cetaphil-Bright-Healthy-Radiance-Brightness-Reveal-Creamy-Cleanser-07.jpg\n",
      "28312 /app/nfs_clientshare/Datasets/Cosmenet_uat_20231108/datas_image_from_db_uat/42719/Chaonang-Long-Lasting-Waterproof-Eyeliner-01.jpg\n",
      "28315 /app/nfs_clientshare/Datasets/Cosmenet_uat_20231108/datas_image_from_db_uat/42719/Chaonang-Long-Lasting-Waterproof-Eyeliner-09.jpg\n",
      "28317 /app/nfs_clientshare/Datasets/Cosmenet_uat_20231108/datas_image_from_db_uat/42719/Chaonang-Long-Lasting-Waterproof-Eyeliner-02.jpg\n",
      "28318 /app/nfs_clientshare/Datasets/Cosmenet_uat_20231108/datas_image_from_db_uat/42719/Chaonang-Long-Lasting-Waterproof-Eyeliner-03.jpg\n",
      "28320 /app/nfs_clientshare/Datasets/Cosmenet_uat_20231108/datas_image_from_db_uat/42719/th-11134103-22070-ptfob8du03ev0e.jpg\n",
      "28365 /app/nfs_clientshare/Datasets/Cosmenet_uat_20231108/datas_image_from_db_uat/37193/melano_cc_vitamin_c_brighteningfaceessence600x600.jpg\n",
      "28411 /app/nfs_clientshare/Datasets/Cosmenet_uat_20231108/datas_image_from_db_uat/47020/narak_babycamomilelotion600x600.jpg\n",
      "28421 /app/nfs_clientshare/Datasets/Cosmenet_uat_20231108/datas_image_from_db_uat/42708/Lancome-L-Absolu-Rouge-Intimatte-01.jpg\n",
      "28422 /app/nfs_clientshare/Datasets/Cosmenet_uat_20231108/datas_image_from_db_uat/42708/Lancome-L-Absolu-Rouge-Intimatte-07.jpg\n",
      "28424 /app/nfs_clientshare/Datasets/Cosmenet_uat_20231108/datas_image_from_db_uat/42708/Lancome-L-Absolu-Rouge-Intimatte-06.jpg\n",
      "28425 /app/nfs_clientshare/Datasets/Cosmenet_uat_20231108/datas_image_from_db_uat/42708/Lancome-L-Absolu-Rouge-Intimatte-04.jpg\n",
      "28426 /app/nfs_clientshare/Datasets/Cosmenet_uat_20231108/datas_image_from_db_uat/42708/Lancome-L-Absolu-Rouge-Intimatte-10.jpg\n",
      "28427 /app/nfs_clientshare/Datasets/Cosmenet_uat_20231108/datas_image_from_db_uat/42708/Lancome-L-Absolu-Rouge-Intimatte-05.jpg\n",
      "28429 /app/nfs_clientshare/Datasets/Cosmenet_uat_20231108/datas_image_from_db_uat/42708/Lancome-L-Absolu-Rouge-Intimatte-02.jpg\n",
      "28447 /app/nfs_clientshare/Datasets/Cosmenet_uat_20231108/datas_image_from_db_uat/42288/1025-Dokdo-Pad-05.jpg\n",
      "28450 /app/nfs_clientshare/Datasets/Cosmenet_uat_20231108/datas_image_from_db_uat/42288/1025-Dokdo-Pad-04.jpg\n",
      "28475 /app/nfs_clientshare/Datasets/Cosmenet_uat_20231108/datas_image_from_db_uat/16589/ed9e9f17a3229b9b6aa85a892e0c88cf_11zon.jpg\n",
      "28476 /app/nfs_clientshare/Datasets/Cosmenet_uat_20231108/datas_image_from_db_uat/16589/S__34455794_11zon.jpg\n",
      "28477 /app/nfs_clientshare/Datasets/Cosmenet_uat_20231108/datas_image_from_db_uat/16589/1620123712104.jpg\n",
      "28478 /app/nfs_clientshare/Datasets/Cosmenet_uat_20231108/datas_image_from_db_uat/16589/senka_perfectwhip600x600.jpg\n",
      "28479 /app/nfs_clientshare/Datasets/Cosmenet_uat_20231108/datas_image_from_db_uat/16589/3c5f11b815014c09be88ab5c395c2020_11zon.jpg\n",
      "28480 /app/nfs_clientshare/Datasets/Cosmenet_uat_20231108/datas_image_from_db_uat/16589/16603174077507.jpg_w.jpg_11zon.jpg\n",
      "28515 /app/nfs_clientshare/Datasets/Cosmenet_uat_20231108/datas_image_from_db_uat/42615/Rice-Oat-Face-Serum-08.jpg\n",
      "28518 /app/nfs_clientshare/Datasets/Cosmenet_uat_20231108/datas_image_from_db_uat/42615/Rice-Oat-Face-Serum-09.jpg\n",
      "28519 /app/nfs_clientshare/Datasets/Cosmenet_uat_20231108/datas_image_from_db_uat/42615/Rice-Oat-Face-Serum-10.jpg\n",
      "28520 /app/nfs_clientshare/Datasets/Cosmenet_uat_20231108/datas_image_from_db_uat/42615/Rice-Oat-Face-Serum-04.jpg\n",
      "28592 /app/nfs_clientshare/Datasets/Cosmenet_uat_20231108/datas_image_from_db_uat/42657/AquaPlus-Radiance-Intensive-Essence-09.jpg\n",
      "28600 /app/nfs_clientshare/Datasets/Cosmenet_uat_20231108/datas_image_from_db_uat/42657/AquaPlus-Radiance-Intensive-Essence-03.jpg\n",
      "28601 /app/nfs_clientshare/Datasets/Cosmenet_uat_20231108/datas_image_from_db_uat/42657/AquaPlus-Radiance-Intensive-Essence-10.jpg\n",
      "28880 /app/nfs_clientshare/Datasets/Cosmenet_uat_20231108/datas_image_from_db_uat/46538/Age-Miracle-Facial-Cream-Night-Cream-600.jpg\n",
      "28944 /app/nfs_clientshare/Datasets/Cosmenet_uat_20231108/datas_image_from_db_uat/48361/b3a514d6dedde7a2782f2dd4aa65ca3a.jpg\n",
      "28945 /app/nfs_clientshare/Datasets/Cosmenet_uat_20231108/datas_image_from_db_uat/48361/th-11134103-22080-15li4gehlogv87.jpg\n",
      "28946 /app/nfs_clientshare/Datasets/Cosmenet_uat_20231108/datas_image_from_db_uat/48361/f92b5a7ac3695f366b7daa1af30411fd.jpg\n",
      "28947 /app/nfs_clientshare/Datasets/Cosmenet_uat_20231108/datas_image_from_db_uat/48361/1719b1d97abdf23cd51db79994fbe387.jpg\n",
      "28948 /app/nfs_clientshare/Datasets/Cosmenet_uat_20231108/datas_image_from_db_uat/48361/4b06eac22e38ff04c10678f8465227e6.jpg\n",
      "28969 /app/nfs_clientshare/Datasets/Cosmenet_uat_20231108/datas_image_from_db_uat/36578/16469027854780.jpg_w.jpg_11zon.jpg\n",
      "29260 /app/nfs_clientshare/Datasets/Cosmenet_uat_20231108/datas_image_from_db_uat/47813/itisacat600x600.jpeg\n",
      "29310 /app/nfs_clientshare/Datasets/Cosmenet_uat_20231108/datas_image_from_db_uat/31545/curel-uv-protection-essence-spf30-300.jpg\n",
      "29745 /app/nfs_clientshare/Datasets/Cosmenet_uat_20231108/datas_image_from_db_uat/47017/dmp_doublemilklotion600x600.jpg\n",
      "29837 /app/nfs_clientshare/Datasets/Cosmenet_uat_20231108/datas_image_from_db_uat/42530/Cetaphil-Bright-Healthy-Radiance-Brightening-Day-Protection-Cream-SPF-15-07.jpg\n",
      "29838 /app/nfs_clientshare/Datasets/Cosmenet_uat_20231108/datas_image_from_db_uat/42530/Cetaphil-Bright-Healthy-Radiance-Brightening-Day-Protection-Cream-SPF-15-02.jpg\n",
      "29839 /app/nfs_clientshare/Datasets/Cosmenet_uat_20231108/datas_image_from_db_uat/42530/Cetaphil-Bright-Healthy-Radiance-Brightening-Day-Protection-Cream-SPF-15-06.jpg\n",
      "29840 /app/nfs_clientshare/Datasets/Cosmenet_uat_20231108/datas_image_from_db_uat/42530/Cetaphil-Bright-Healthy-Radiance-Brightening-Day-Protection-Cream-SPF-15-01.jpg\n",
      "29841 /app/nfs_clientshare/Datasets/Cosmenet_uat_20231108/datas_image_from_db_uat/42530/Cetaphil-Bright-Healthy-Radiance-Brightening-Day-Protection-Cream-SPF-15-10.jpg\n",
      "29842 /app/nfs_clientshare/Datasets/Cosmenet_uat_20231108/datas_image_from_db_uat/42530/Cetaphil-Bright-Healthy-Radiance-Brightening-Day-Protection-Cream-SPF-15-04.jpg\n",
      "29843 /app/nfs_clientshare/Datasets/Cosmenet_uat_20231108/datas_image_from_db_uat/42530/Cetaphil-Bright-Healthy-Radiance-Brightening-Day-Protection-Cream-SPF-15-03.jpg\n",
      "29844 /app/nfs_clientshare/Datasets/Cosmenet_uat_20231108/datas_image_from_db_uat/42530/Cetaphil-Bright-Healthy-Radiance-Brightening-Day-Protection-Cream-SPF-15.jpg\n",
      "29845 /app/nfs_clientshare/Datasets/Cosmenet_uat_20231108/datas_image_from_db_uat/42530/Cetaphil-Bright-Healthy-Radiance-Brightening-Day-Protection-Cream-SPF-15-05.jpg\n",
      "29846 /app/nfs_clientshare/Datasets/Cosmenet_uat_20231108/datas_image_from_db_uat/42530/Cetaphil-Bright-Healthy-Radiance-Brightening-Day-Protection-Cream-SPF-15-09.jpg\n",
      "29847 /app/nfs_clientshare/Datasets/Cosmenet_uat_20231108/datas_image_from_db_uat/42530/Cetaphil-Bright-Healthy-Radiance-Brightening-Day-Protection-Cream-SPF-15-08.jpg\n",
      "29934 /app/nfs_clientshare/Datasets/Cosmenet_uat_20231108/datas_image_from_db_uat/17110/GenifiqueYeuxLightPearl-300x300.jpg\n",
      "29947 /app/nfs_clientshare/Datasets/Cosmenet_uat_20231108/datas_image_from_db_uat/48144/001-002-00-600.jpeg\n",
      "29982 /app/nfs_clientshare/Datasets/Cosmenet_uat_20231108/datas_image_from_db_uat/45269/puricas-plus-advanced-dragons-blood-c-and-e-scar-gel-600.jpg\n",
      "30002 /app/nfs_clientshare/Datasets/Cosmenet_uat_20231108/datas_image_from_db_uat/10758/2.JPG\n",
      "30191 /app/nfs_clientshare/Datasets/Cosmenet_uat_20231108/datas_image_from_db_uat/37626/in2it-prolashmascarabase-300.jpg\n",
      "30229 /app/nfs_clientshare/Datasets/Cosmenet_uat_20231108/datas_image_from_db_uat/48675/S__53624850.jpg\n",
      "30231 /app/nfs_clientshare/Datasets/Cosmenet_uat_20231108/datas_image_from_db_uat/48675/S__53624853.jpg\n",
      "30416 /app/nfs_clientshare/Datasets/Cosmenet_uat_20231108/datas_image_from_db_uat/42560/KATE-TOKYO-Zero-Feeling-Powder-Foundation-04.jpg\n",
      "30417 /app/nfs_clientshare/Datasets/Cosmenet_uat_20231108/datas_image_from_db_uat/42560/KATE-TOKYO-Zero-Feeling-Powder-Foundation-01.jpg\n",
      "30420 /app/nfs_clientshare/Datasets/Cosmenet_uat_20231108/datas_image_from_db_uat/42560/KATE-TOKYO-Zero-Feeling-Powder-Foundation-03.jpg\n",
      "30470 /app/nfs_clientshare/Datasets/Cosmenet_uat_20231108/datas_image_from_db_uat/37116/d362e3d4694e7b8cf3c563e25f310e4d.jpg\n",
      "30471 /app/nfs_clientshare/Datasets/Cosmenet_uat_20231108/datas_image_from_db_uat/37116/499e751bec91b7188b878ef883d249ad.jpg\n",
      "30638 /app/nfs_clientshare/Datasets/Cosmenet_uat_20231108/datas_image_from_db_uat/47182/cherry_treat_lip_conditioning_oil_preview.jpg\n",
      "31017 /app/nfs_clientshare/Datasets/Cosmenet_uat_20231108/datas_image_from_db_uat/25863/loreal-white-perfect-anti-dullness-scrub-300.jpg\n",
      "31071 /app/nfs_clientshare/Datasets/Cosmenet_uat_20231108/datas_image_from_db_uat/42612/Crystal-Lip-Scrub-09.jpg\n",
      "31105 /app/nfs_clientshare/Datasets/Cosmenet_uat_20231108/datas_image_from_db_uat/11613/SkinBalancingMoistureGel-300x300.jpg\n",
      "31278 /app/nfs_clientshare/Datasets/Cosmenet_uat_20231108/datas_image_from_db_uat/42116/twelveplus_whiteningrollonlessshave600x600.jpg\n",
      "31295 /app/nfs_clientshare/Datasets/Cosmenet_uat_20231108/datas_image_from_db_uat/36423/clear_men_deep_cleanse_with_activated_charcoal_and_mint_1562991678_31efafc0.jpg\n",
      "31383 /app/nfs_clientshare/Datasets/Cosmenet_uat_20231108/datas_image_from_db_uat/9969/smoothe_babyfacegel600x600.jpg\n",
      "31535 /app/nfs_clientshare/Datasets/Cosmenet_uat_20231108/datas_image_from_db_uat/48693/bigen_easy_n_naturalhaircolor600x600.jpg\n",
      "31595 /app/nfs_clientshare/Datasets/Cosmenet_uat_20231108/datas_image_from_db_uat/32285/reverence-aromatique-hand-wash-300.jpg\n",
      "32001 /app/nfs_clientshare/Datasets/Cosmenet_uat_20231108/datas_image_from_db_uat/27281/400x400_27281_29902_APzZ1658930505831_11zon.jpg\n",
      "32084 /app/nfs_clientshare/Datasets/Cosmenet_uat_20231108/datas_image_from_db_uat/669/revlon_colorstaymakeup600x600.jpg\n",
      "32468 /app/nfs_clientshare/Datasets/Cosmenet_uat_20231108/datas_image_from_db_uat/2527/mac-brush-cleanser-1.jpg\n",
      "33116 /app/nfs_clientshare/Datasets/Cosmenet_uat_20231108/datas_image_from_db_uat/25995/ExyGnw0VIAA5HW0_11zon.jpg\n",
      "33117 /app/nfs_clientshare/Datasets/Cosmenet_uat_20231108/datas_image_from_db_uat/25995/ba69173b747422528cf28acfd0500acf_11zon.jpg\n",
      "33118 /app/nfs_clientshare/Datasets/Cosmenet_uat_20231108/datas_image_from_db_uat/25995/126288659_11zon.jpg\n",
      "33120 /app/nfs_clientshare/Datasets/Cosmenet_uat_20231108/datas_image_from_db_uat/25995/img_9632_11zon.jpg\n",
      "33121 /app/nfs_clientshare/Datasets/Cosmenet_uat_20231108/datas_image_from_db_uat/25995/35363362_1187231728085911_2940581262223474688_n_11zon.jpg\n",
      "33646 /app/nfs_clientshare/Datasets/Cosmenet_uat_20231108/datas_image_from_db_uat/45304/patummas-herbs-facial-scrub-600.jpg\n",
      "33911 /app/nfs_clientshare/Datasets/Cosmenet_uat_20231108/datas_image_from_db_uat/15484/CANMAKE-Marshmallow-Finish-Powder-03.jpg\n",
      "33912 /app/nfs_clientshare/Datasets/Cosmenet_uat_20231108/datas_image_from_db_uat/15484/CANMAKE-Marshmallow-Finish-Powder-05.jpg\n",
      "33913 /app/nfs_clientshare/Datasets/Cosmenet_uat_20231108/datas_image_from_db_uat/15484/CANMAKE-Marshmallow-Finish-Powder-04.jpg\n",
      "33914 /app/nfs_clientshare/Datasets/Cosmenet_uat_20231108/datas_image_from_db_uat/15484/CANMAKE-Marshmallow-Finish-Powder-01.jpg\n",
      "33915 /app/nfs_clientshare/Datasets/Cosmenet_uat_20231108/datas_image_from_db_uat/15484/CANMAKE-Marshmallow-Finish-Powder.jpg\n",
      "33916 /app/nfs_clientshare/Datasets/Cosmenet_uat_20231108/datas_image_from_db_uat/15484/CANMAKE-Marshmallow-Finish-Powder-02.jpg\n",
      "33934 /app/nfs_clientshare/Datasets/Cosmenet_uat_20231108/datas_image_from_db_uat/40900/shokubutsu-facialfoam-300.jpg\n",
      "33973 /app/nfs_clientshare/Datasets/Cosmenet_uat_20231108/datas_image_from_db_uat/42531/cetaphil_brighthealthyradiancebrighteningnightcomfortcream600x600.jpg\n",
      "33974 /app/nfs_clientshare/Datasets/Cosmenet_uat_20231108/datas_image_from_db_uat/42531/cetaphil_brightening_night_com_1623323994_c6b075f6_11zon.jpg\n",
      "33975 /app/nfs_clientshare/Datasets/Cosmenet_uat_20231108/datas_image_from_db_uat/42531/c2_11zon.jpg\n",
      "33976 /app/nfs_clientshare/Datasets/Cosmenet_uat_20231108/datas_image_from_db_uat/42531/177053_5503b2e8d8_11zon.jpg\n",
      "33977 /app/nfs_clientshare/Datasets/Cosmenet_uat_20231108/datas_image_from_db_uat/42531/maxresdefault_11zon.jpg\n",
      "33978 /app/nfs_clientshare/Datasets/Cosmenet_uat_20231108/datas_image_from_db_uat/42531/508823_fc0615b920_11zon.jpg\n",
      "34109 /app/nfs_clientshare/Datasets/Cosmenet_uat_20231108/datas_image_from_db_uat/41646/Yves-Rocher-Garden-Party-600.jpg\n"
     ]
    }
   ],
   "source": [
    "not_img = []\n",
    "for n, i in enumerate(tqdm(df['images_path'])):\n",
    "    try:\n",
    "        Image.open(i)\n",
    "    except:\n",
    "        not_img.append(n)\n",
    "        print(n, i)"
   ]
  },
  {
   "cell_type": "code",
   "execution_count": 52,
   "id": "9111f381-3b9b-4a7c-afee-d76c0d0213ab",
   "metadata": {},
   "outputs": [
    {
     "data": {
      "text/plain": [
       "34364"
      ]
     },
     "execution_count": 52,
     "metadata": {},
     "output_type": "execute_result"
    }
   ],
   "source": [
    "len(df) - len(not_img)"
   ]
  },
  {
   "cell_type": "code",
   "execution_count": 54,
   "id": "ed06a3f1-0e6b-4c18-a9f6-db5585417a4a",
   "metadata": {},
   "outputs": [],
   "source": [
    "df.drop(not_img).reset_index(drop=True).to_csv(\n",
    "    '/app/nfs_clientshare/Datasets/Cosmenet_uat_20231108/data_search_image_only.csv', index=False)"
   ]
  },
  {
   "cell_type": "code",
   "execution_count": 95,
   "id": "609a60e2-e53d-4eee-9068-d6cd0398cce1",
   "metadata": {},
   "outputs": [
    {
     "data": {
      "text/html": [
       "<div>\n",
       "<style scoped>\n",
       "    .dataframe tbody tr th:only-of-type {\n",
       "        vertical-align: middle;\n",
       "    }\n",
       "\n",
       "    .dataframe tbody tr th {\n",
       "        vertical-align: top;\n",
       "    }\n",
       "\n",
       "    .dataframe thead th {\n",
       "        text-align: right;\n",
       "    }\n",
       "</style>\n",
       "<table border=\"1\" class=\"dataframe\">\n",
       "  <thead>\n",
       "    <tr style=\"text-align: right;\">\n",
       "      <th></th>\n",
       "      <th>images_path</th>\n",
       "      <th>file_names</th>\n",
       "      <th>labels</th>\n",
       "    </tr>\n",
       "  </thead>\n",
       "  <tbody>\n",
       "    <tr>\n",
       "      <th>34333</th>\n",
       "      <td>/app/nfs_clientshare/Datasets/Cosmenet_uat_202...</td>\n",
       "      <td>Be-You-Tiful-Eyeshadow-Palette.jpg</td>\n",
       "      <td>37992</td>\n",
       "    </tr>\n",
       "  </tbody>\n",
       "</table>\n",
       "</div>"
      ],
      "text/plain": [
       "                                             images_path  \\\n",
       "34333  /app/nfs_clientshare/Datasets/Cosmenet_uat_202...   \n",
       "\n",
       "                               file_names  labels  \n",
       "34333  Be-You-Tiful-Eyeshadow-Palette.jpg   37992  "
      ]
     },
     "execution_count": 95,
     "metadata": {},
     "output_type": "execute_result"
    }
   ],
   "source": [
    "test = pd.read_csv('/app/nfs_clientshare/Datasets/Cosmenet_uat_20231108/data_search_image_only.csv')\n",
    "test.tail(1)"
   ]
  },
  {
   "cell_type": "code",
   "execution_count": 86,
   "id": "7c9b8401-65c4-48f7-be79-1d6130f5c1e3",
   "metadata": {
    "scrolled": true
   },
   "outputs": [
    {
     "data": {
      "application/vnd.jupyter.widget-view+json": {
       "model_id": "07c5ad8ce9f34297a72489b2e91b4f27",
       "version_major": 2,
       "version_minor": 0
      },
      "text/plain": [
       "  0%|          | 0/21088 [00:00<?, ?it/s]"
      ]
     },
     "metadata": {},
     "output_type": "display_data"
    },
    {
     "name": "stdout",
     "output_type": "stream",
     "text": [
      "/app/nfs_clientshare/Datasets/Cosmenet_uat_20231108/datas_image_from_db_uat/31666/ab26670e683e20845ec20bceaf684c60 (1).jpg /app/nfs_clientshare/Datasets/Cosmenet_uat_20231108/datas_image_from_db_uat/31666/ab26670e683e20845ec20bceaf684c60.jpg\n",
      "/app/nfs_clientshare/Datasets/Cosmenet_uat_20231108/datas_image_from_db_uat/36130/54e90203cde256ce1bf22dea2716aab9_11zon.jpg /app/nfs_clientshare/Datasets/Cosmenet_uat_20231108/datas_image_from_db_uat/36130/54e90203cde256ce1bf22dea2716aab9 (1)_11zon.jpg\n",
      "/app/nfs_clientshare/Datasets/Cosmenet_uat_20231108/datas_image_from_db_uat/32467/0aeb7d76-d531-5e2a-afbf-f0fe2c906c02 (1)_11zon.jpg /app/nfs_clientshare/Datasets/Cosmenet_uat_20231108/datas_image_from_db_uat/32467/0aeb7d76-d531-5e2a-afbf-f0fe2c906c02_11zon.jpg\n",
      "/app/nfs_clientshare/Datasets/Cosmenet_uat_20231108/datas_image_from_db_uat/46649/169501714_11zon_11zon.jpg /app/nfs_clientshare/Datasets/Cosmenet_uat_20231108/datas_image_from_db_uat/46649/169501714 (1)_11zon_11zon.jpg\n",
      "/app/nfs_clientshare/Datasets/Cosmenet_uat_20231108/datas_image_from_db_uat/45575/s-l500 (24)_11zon.jpg /app/nfs_clientshare/Datasets/Cosmenet_uat_20231108/datas_image_from_db_uat/45575/s-l500 (23)_11zon.jpg\n",
      "/app/nfs_clientshare/Datasets/Cosmenet_uat_20231108/datas_image_from_db_uat/46479/62e1c3f34448c96690d67f0530b6f0f9 (1)_11zon.jpg /app/nfs_clientshare/Datasets/Cosmenet_uat_20231108/datas_image_from_db_uat/46479/62e1c3f34448c96690d67f0530b6f0f9_11zon.jpg\n",
      "/app/nfs_clientshare/Datasets/Cosmenet_uat_20231108/datas_image_from_db_uat/49613/385e5d1777aa24639079cbd62754e93d (1)_11zon.jpg /app/nfs_clientshare/Datasets/Cosmenet_uat_20231108/datas_image_from_db_uat/49613/385e5d1777aa24639079cbd62754e93d_11zon.jpg\n",
      "/app/nfs_clientshare/Datasets/Cosmenet_uat_20231108/datas_image_from_db_uat/26250/16635789026466.jpg_w.jpg_11zon.jpg /app/nfs_clientshare/Datasets/Cosmenet_uat_20231108/datas_image_from_db_uat/26250/16635789026466.jpg_w.jpg (1)_11zon.jpg\n",
      "/app/nfs_clientshare/Datasets/Cosmenet_uat_20231108/datas_image_from_db_uat/46196/b42cd858976d9d243ef5e45d2cee60d7_11zon.jpg /app/nfs_clientshare/Datasets/Cosmenet_uat_20231108/datas_image_from_db_uat/46196/b42cd858976d9d243ef5e45d2cee60d7 (1)_11zon.jpg\n",
      "/app/nfs_clientshare/Datasets/Cosmenet_uat_20231108/datas_image_from_db_uat/45342/ysl_rouge_pur_couture_the_slim_1651214445_3a6db66f_11zon_11zon (2).jpg /app/nfs_clientshare/Datasets/Cosmenet_uat_20231108/datas_image_from_db_uat/45342/ysl_rouge_pur_couture_the_slim_1651214445_3a6db66f_11zon_11zon (1).jpg\n",
      "/app/nfs_clientshare/Datasets/Cosmenet_uat_20231108/datas_image_from_db_uat/45342/ysl_rouge_pur_couture_the_slim_1651214445_3a6db66f_11zon (1)_11zon (1).jpg /app/nfs_clientshare/Datasets/Cosmenet_uat_20231108/datas_image_from_db_uat/45342/ysl_rouge_pur_couture_the_slim_1651214445_3a6db66f_11zon (1)_11zon (2).jpg\n",
      "/app/nfs_clientshare/Datasets/Cosmenet_uat_20231108/datas_image_from_db_uat/45342/e0db5ad10e11eb145064233d291f30b5_11zon_11zon (1).jpg /app/nfs_clientshare/Datasets/Cosmenet_uat_20231108/datas_image_from_db_uat/45342/e0db5ad10e11eb145064233d291f30b5 (1)_11zon_11zon (1).jpg\n",
      "/app/nfs_clientshare/Datasets/Cosmenet_uat_20231108/datas_image_from_db_uat/45751/th-11134103-23020-034ppuuzkbnvfb_11zon.jpg /app/nfs_clientshare/Datasets/Cosmenet_uat_20231108/datas_image_from_db_uat/45751/th-11134103-23020-034ppuuzkbnvfb (1)_11zon.jpg\n",
      "/app/nfs_clientshare/Datasets/Cosmenet_uat_20231108/datas_image_from_db_uat/45450/26729ef966e9e19e860044796934184c (1)_11zon.jpg /app/nfs_clientshare/Datasets/Cosmenet_uat_20231108/datas_image_from_db_uat/45450/26729ef966e9e19e860044796934184c_11zon.jpg\n",
      "/app/nfs_clientshare/Datasets/Cosmenet_uat_20231108/datas_image_from_db_uat/15079/19592438622153f046999e1b95671a81_11zon.jpg /app/nfs_clientshare/Datasets/Cosmenet_uat_20231108/datas_image_from_db_uat/15079/19592438622153f046999e1b95671a81 (1)_11zon.jpg\n",
      "/app/nfs_clientshare/Datasets/Cosmenet_uat_20231108/datas_image_from_db_uat/23911/93424659_11zon.jpg /app/nfs_clientshare/Datasets/Cosmenet_uat_20231108/datas_image_from_db_uat/23911/93424659 (1)_11zon.jpg\n",
      "/app/nfs_clientshare/Datasets/Cosmenet_uat_20231108/datas_image_from_db_uat/50423/67dc8_bfacd3875ec741eea258_2_20220725_103250 (1)_11zon.jpg /app/nfs_clientshare/Datasets/Cosmenet_uat_20231108/datas_image_from_db_uat/50423/67dc8_bfacd3875ec741eea258_2_20220725_103250_11zon.jpg\n",
      "/app/nfs_clientshare/Datasets/Cosmenet_uat_20231108/datas_image_from_db_uat/49399/eyJidWNrZXQiOiAiaW5mbHVlbnN0ZXJfcHJvZHVjdGlvbiIsICJrZXkiOiAibWVkaWEvcGhvdG8vaW1hZ2UvbWFya2V0cGxhY2VfcGhvdG9fMTY1NjMwNzY5MzA2OV9UNkY1QVFmLmpwZyIsICJlZGl0cyI6IHsicm90YXRlIjogbnVsbCwgInJlc2l6ZSI6IHsid2lkdGgiO_.jpg /app/nfs_clientshare/Datasets/Cosmenet_uat_20231108/datas_image_from_db_uat/49399/eyJidWNrZXQiOiAiaW5mbHVlbnN0ZXJfcHJvZHVjdGlvbiIsICJrZXkiOiAibWVkaWEvcGhvdG8vaW1hZ2UvbWFya2V0cGxhY2VfcGhvdG9fMTY1NjMwNzY5MzA2OV9UNkY1QVFmLmpwZyIsICJlZGl0cyI6IHsicm90YXRlIjogbnVsbCwgInJlc2l6ZSI6IHsid2lkd (1)_.jpg\n",
      "/app/nfs_clientshare/Datasets/Cosmenet_uat_20231108/datas_image_from_db_uat/49399/eyJidWNrZXQiOiAiaW5mbHVlbnN0ZXJfcHJvZHVjdGlvbiIsICJrZXkiOiAibWVkaWEvcGhvdG8vaW1hZ2UvMTY2NzIzNzk2MTY5M19aZDBIaWtkLmpwZyIsICJlZGl0cyI6IHsicm90YXRlIjogbnVsbCwgInJlc2l6ZSI6IHsid2lkdGgiOiAxMDgwLCAiaGVpZ2h0I (1)_.jpg /app/nfs_clientshare/Datasets/Cosmenet_uat_20231108/datas_image_from_db_uat/49399/eyJidWNrZXQiOiAiaW5mbHVlbnN0ZXJfcHJvZHVjdGlvbiIsICJrZXkiOiAibWVkaWEvcGhvdG8vaW1hZ2UvMTY2NzIzNzk2MTY5M19aZDBIaWtkLmpwZyIsICJlZGl0cyI6IHsicm90YXRlIjogbnVsbCwgInJlc2l6ZSI6IHsid2lkdGgiOiAxMDgwLCAiaGVpZ2h0IjogM_.jpg\n",
      "/app/nfs_clientshare/Datasets/Cosmenet_uat_20231108/datas_image_from_db_uat/29373/16349666593009 (1)_11zon.jpg /app/nfs_clientshare/Datasets/Cosmenet_uat_20231108/datas_image_from_db_uat/29373/16349666593009_11zon.jpg\n",
      "/app/nfs_clientshare/Datasets/Cosmenet_uat_20231108/datas_image_from_db_uat/50027/c6c8c98ecaf917b2e2f58f74e8e64122_11zon.jpg /app/nfs_clientshare/Datasets/Cosmenet_uat_20231108/datas_image_from_db_uat/50027/c6c8c98ecaf917b2e2f58f74e8e64122 (1)_11zon.jpg\n",
      "/app/nfs_clientshare/Datasets/Cosmenet_uat_20231108/datas_image_from_db_uat/40314/4c10104e54e55f966c76a3eeda833c70 (1)_11zon.jpg /app/nfs_clientshare/Datasets/Cosmenet_uat_20231108/datas_image_from_db_uat/40314/4c10104e54e55f966c76a3eeda833c70_11zon.jpg\n",
      "/app/nfs_clientshare/Datasets/Cosmenet_uat_20231108/datas_image_from_db_uat/46236/ad615d913f4ea33c07d721fca853e61a_11zon.jpg /app/nfs_clientshare/Datasets/Cosmenet_uat_20231108/datas_image_from_db_uat/46236/ad615d913f4ea33c07d721fca853e61a (1)_11zon.jpg\n",
      "/app/nfs_clientshare/Datasets/Cosmenet_uat_20231108/datas_image_from_db_uat/49388/fb507c7481d40049349d02820c9f567b (1)_11zon.jpg /app/nfs_clientshare/Datasets/Cosmenet_uat_20231108/datas_image_from_db_uat/49388/fb507c7481d40049349d02820c9f567b_11zon.jpg\n",
      "/app/nfs_clientshare/Datasets/Cosmenet_uat_20231108/datas_image_from_db_uat/49388/aeb41fffcd981d1f30f47b24691c7911_11zon.jpg /app/nfs_clientshare/Datasets/Cosmenet_uat_20231108/datas_image_from_db_uat/49388/aeb41fffcd981d1f30f47b24691c7911 (1)_11zon.jpg\n",
      "/app/nfs_clientshare/Datasets/Cosmenet_uat_20231108/datas_image_from_db_uat/50207/2A5625B9-03E6-4EBA-8BF3-032B1AC2B0CD (1).jpg /app/nfs_clientshare/Datasets/Cosmenet_uat_20231108/datas_image_from_db_uat/50207/2A5625B9-03E6-4EBA-8BF3-032B1AC2B0CD.jpg\n",
      "/app/nfs_clientshare/Datasets/Cosmenet_uat_20231108/datas_image_from_db_uat/41378/16211559936543 (1).jpg /app/nfs_clientshare/Datasets/Cosmenet_uat_20231108/datas_image_from_db_uat/41378/16211559936543.jpg\n",
      "/app/nfs_clientshare/Datasets/Cosmenet_uat_20231108/datas_image_from_db_uat/46069/9e68e8c751e96f065e6107c9397dd4de_11zon_11zon.jpg /app/nfs_clientshare/Datasets/Cosmenet_uat_20231108/datas_image_from_db_uat/46069/9e68e8c751e96f065e6107c9397dd4de_11zon_11zon (1).jpg\n",
      "/app/nfs_clientshare/Datasets/Cosmenet_uat_20231108/datas_image_from_db_uat/48834/FD92yFpVcAMBRVQ_11zon.jpg /app/nfs_clientshare/Datasets/Cosmenet_uat_20231108/datas_image_from_db_uat/48834/FD92yFpVcAMBRVQ (1)_11zon.jpg\n",
      "/app/nfs_clientshare/Datasets/Cosmenet_uat_20231108/datas_image_from_db_uat/40395/b503bcbc54787832441618ba31ffda91 (1)_11zon.jpg /app/nfs_clientshare/Datasets/Cosmenet_uat_20231108/datas_image_from_db_uat/40395/b503bcbc54787832441618ba31ffda91_11zon.jpg\n"
     ]
    }
   ],
   "source": [
    "ls_duplicate = set()\n",
    "for c in tqdm(test['labels'].unique()):\n",
    "    img_path = test[test['labels'] == c]['images_path'].values\n",
    "    n = len(img_path)\n",
    "    for i, p in enumerate(img_path):\n",
    "        img_i = np.array(Image.open(p))\n",
    "        for j in range(i+1, n):\n",
    "            img_j = np.array(Image.open(img_path[j]))\n",
    "            if np.array_equal(img_i, img_j):\n",
    "                ls_duplicate.add(img_path[j])\n",
    "                print(p, img_path[j])"
   ]
  },
  {
   "cell_type": "code",
   "execution_count": 88,
   "id": "bba085d7-9f38-4380-9374-33d966ee8ce5",
   "metadata": {},
   "outputs": [
    {
     "data": {
      "text/plain": [
       "30"
      ]
     },
     "execution_count": 88,
     "metadata": {},
     "output_type": "execute_result"
    }
   ],
   "source": [
    "len(ls_duplicate)"
   ]
  },
  {
   "cell_type": "code",
   "execution_count": 93,
   "id": "396dc6fa-8584-4729-85b8-7d6fcffa1214",
   "metadata": {},
   "outputs": [],
   "source": [
    "test.drop(test[test['images_path'].isin(ls_duplicate)].index, inplace=True)"
   ]
  },
  {
   "cell_type": "code",
   "execution_count": 94,
   "id": "9aecc584-554d-4da9-9f69-930c14bee6a7",
   "metadata": {},
   "outputs": [],
   "source": [
    "test.to_csv(\n",
    "    '/app/nfs_clientshare/Datasets/Cosmenet_uat_20231108/data_search_image_only.csv', index=False)"
   ]
  },
  {
   "cell_type": "code",
   "execution_count": null,
   "id": "d6ee6c71-6beb-424f-992b-b8b224e95a6d",
   "metadata": {},
   "outputs": [],
   "source": []
  },
  {
   "cell_type": "markdown",
   "id": "158fad8d-5d65-4f95-a1bd-d0629a4744ba",
   "metadata": {
    "jp-MarkdownHeadingCollapsed": true
   },
   "source": [
    "# Mix dataset"
   ]
  },
  {
   "cell_type": "code",
   "execution_count": 32,
   "id": "db222c44-8a27-40a2-89f4-23321e54af87",
   "metadata": {},
   "outputs": [],
   "source": [
    "import pandas as pd\n",
    "import numpy as np\n",
    "from script.tool import ROOT_NFS_DATA\n",
    "import requests"
   ]
  },
  {
   "cell_type": "code",
   "execution_count": 33,
   "id": "a1b11f7b-c5f4-4799-ada6-d4a146d9bb1c",
   "metadata": {},
   "outputs": [
    {
     "data": {
      "text/html": [
       "<div>\n",
       "<style scoped>\n",
       "    .dataframe tbody tr th:only-of-type {\n",
       "        vertical-align: middle;\n",
       "    }\n",
       "\n",
       "    .dataframe tbody tr th {\n",
       "        vertical-align: top;\n",
       "    }\n",
       "\n",
       "    .dataframe thead th {\n",
       "        text-align: right;\n",
       "    }\n",
       "</style>\n",
       "<table border=\"1\" class=\"dataframe\">\n",
       "  <thead>\n",
       "    <tr style=\"text-align: right;\">\n",
       "      <th></th>\n",
       "      <th>file_names</th>\n",
       "      <th>labels</th>\n",
       "      <th>images_path</th>\n",
       "      <th>BID</th>\n",
       "      <th>SCID</th>\n",
       "      <th>CID</th>\n",
       "    </tr>\n",
       "  </thead>\n",
       "  <tbody>\n",
       "    <tr>\n",
       "      <th>0</th>\n",
       "      <td>14624_14.jpg</td>\n",
       "      <td>14624</td>\n",
       "      <td>/app/nfs_clientshare/Datasets/Cosmenet_product...</td>\n",
       "      <td>1428</td>\n",
       "      <td>2542</td>\n",
       "      <td>59</td>\n",
       "    </tr>\n",
       "  </tbody>\n",
       "</table>\n",
       "</div>"
      ],
      "text/plain": [
       "     file_names  labels                                        images_path  \\\n",
       "0  14624_14.jpg   14624  /app/nfs_clientshare/Datasets/Cosmenet_product...   \n",
       "\n",
       "    BID  SCID  CID  \n",
       "0  1428  2542   59  "
      ]
     },
     "execution_count": 33,
     "metadata": {},
     "output_type": "execute_result"
    }
   ],
   "source": [
    "old_data = pd.read_csv(ROOT_NFS_DATA / 'Cosmenet_product_20231018' / 'datas_20231018_merge.csv')\n",
    "old_data.head(1)"
   ]
  },
  {
   "cell_type": "code",
   "execution_count": 34,
   "id": "bcbd5e8c-60f2-404e-9d7e-61d0ccee6fb8",
   "metadata": {},
   "outputs": [
    {
     "data": {
      "text/html": [
       "<div>\n",
       "<style scoped>\n",
       "    .dataframe tbody tr th:only-of-type {\n",
       "        vertical-align: middle;\n",
       "    }\n",
       "\n",
       "    .dataframe tbody tr th {\n",
       "        vertical-align: top;\n",
       "    }\n",
       "\n",
       "    .dataframe thead th {\n",
       "        text-align: right;\n",
       "    }\n",
       "</style>\n",
       "<table border=\"1\" class=\"dataframe\">\n",
       "  <thead>\n",
       "    <tr style=\"text-align: right;\">\n",
       "      <th></th>\n",
       "      <th>file_names</th>\n",
       "      <th>labels</th>\n",
       "      <th>images_path</th>\n",
       "    </tr>\n",
       "  </thead>\n",
       "  <tbody>\n",
       "    <tr>\n",
       "      <th>0</th>\n",
       "      <td>Kiko-Milano-Floral-Wonderland-Nail-Lacquer-001...</td>\n",
       "      <td>46838</td>\n",
       "      <td>/app/nfs_clientshare/Datasets/Cosmenet_uat_202...</td>\n",
       "    </tr>\n",
       "  </tbody>\n",
       "</table>\n",
       "</div>"
      ],
      "text/plain": [
       "                                          file_names  labels  \\\n",
       "0  Kiko-Milano-Floral-Wonderland-Nail-Lacquer-001...   46838   \n",
       "\n",
       "                                         images_path  \n",
       "0  /app/nfs_clientshare/Datasets/Cosmenet_uat_202...  "
      ]
     },
     "execution_count": 34,
     "metadata": {},
     "output_type": "execute_result"
    }
   ],
   "source": [
    "new_data = pd.read_csv(ROOT_NFS_DATA / 'Cosmenet_uat_20231108' / 'data_image_only.csv')\n",
    "new_data.head(1)"
   ]
  },
  {
   "cell_type": "code",
   "execution_count": 35,
   "id": "da455044-6b8d-427b-b176-31a185187872",
   "metadata": {},
   "outputs": [
    {
     "data": {
      "text/html": [
       "<div>\n",
       "<style scoped>\n",
       "    .dataframe tbody tr th:only-of-type {\n",
       "        vertical-align: middle;\n",
       "    }\n",
       "\n",
       "    .dataframe tbody tr th {\n",
       "        vertical-align: top;\n",
       "    }\n",
       "\n",
       "    .dataframe thead th {\n",
       "        text-align: right;\n",
       "    }\n",
       "</style>\n",
       "<table border=\"1\" class=\"dataframe\">\n",
       "  <thead>\n",
       "    <tr style=\"text-align: right;\">\n",
       "      <th></th>\n",
       "      <th>EID</th>\n",
       "      <th>PRODUCT_NAME</th>\n",
       "      <th>BID</th>\n",
       "      <th>BRAND_NAME</th>\n",
       "      <th>SCID</th>\n",
       "      <th>SUBCAT_NAME</th>\n",
       "      <th>CID</th>\n",
       "      <th>CAT_NAME</th>\n",
       "    </tr>\n",
       "  </thead>\n",
       "  <tbody>\n",
       "    <tr>\n",
       "      <th>30030</th>\n",
       "      <td>49169</td>\n",
       "      <td>Bio Booster Skin Brightening Sun Surum SPF 50 ...</td>\n",
       "      <td>3992</td>\n",
       "      <td>Am Herb</td>\n",
       "      <td>248</td>\n",
       "      <td>Facial Sunscreen</td>\n",
       "      <td>62</td>\n",
       "      <td>Sun Product</td>\n",
       "    </tr>\n",
       "  </tbody>\n",
       "</table>\n",
       "</div>"
      ],
      "text/plain": [
       "         EID                                       PRODUCT_NAME   BID  \\\n",
       "30030  49169  Bio Booster Skin Brightening Sun Surum SPF 50 ...  3992   \n",
       "\n",
       "      BRAND_NAME  SCID       SUBCAT_NAME  CID     CAT_NAME  \n",
       "30030    Am Herb   248  Facial Sunscreen   62  Sun Product  "
      ]
     },
     "execution_count": 35,
     "metadata": {},
     "output_type": "execute_result"
    }
   ],
   "source": [
    "link_cat = pd.read_csv(ROOT_NFS_DATA / 'Cosmenet_UAT' / 'product_joined.csv')\n",
    "link_cat.tail(1)"
   ]
  },
  {
   "cell_type": "markdown",
   "id": "d537ee8a-84ff-4792-bc93-f829792f298e",
   "metadata": {
    "jp-MarkdownHeadingCollapsed": true
   },
   "source": [
    "## Product"
   ]
  },
  {
   "cell_type": "code",
   "execution_count": 36,
   "id": "7d58c734-21b1-4000-acd1-dae18879c3a1",
   "metadata": {},
   "outputs": [
    {
     "data": {
      "text/plain": [
       "(4178, 21088, 30031)"
      ]
     },
     "execution_count": 36,
     "metadata": {},
     "output_type": "execute_result"
    }
   ],
   "source": [
    "old_labels_product = old_data['labels'].unique()\n",
    "new_labels_product = new_data['labels'].unique()\n",
    "link_cat_product = link_cat['EID'].values\n",
    "len(old_labels_product), len(new_labels_product), len(link_cat_product)"
   ]
  },
  {
   "cell_type": "code",
   "execution_count": 37,
   "id": "5f4bbdbe-ca31-4a4a-a7af-9fa1e77099c2",
   "metadata": {},
   "outputs": [],
   "source": [
    "# all \"old_labels_product\" in link_cat_product\n",
    "old_labels_product_not_new_product = old_labels_product[~np.isin(old_labels_product, new_labels_product)]\n",
    "\n",
    "new_labels_product_in_old_product = new_labels_product[np.isin(new_labels_product, old_labels_product)]\n",
    "new_labels_product_in_link_cat_not_old_product = new_labels_product[\n",
    "    np.isin(new_labels_product, link_cat_product) & ~np.isin(new_labels_product, old_labels_product)]\n",
    "new_labels_product_not_link_cat = new_labels_product[~np.isin(new_labels_product, link_cat_product)]\n",
    "\n",
    "link_cat_product_not_all = link_cat_product[\n",
    "    ~np.isin(link_cat_product, new_labels_product) & ~np.isin(link_cat_product, old_labels_product)]"
   ]
  },
  {
   "cell_type": "markdown",
   "id": "69288237-1e0c-441a-ac8a-8ad3948d28b5",
   "metadata": {
    "jp-MarkdownHeadingCollapsed": true
   },
   "source": [
    "## has product on cosmenet web"
   ]
  },
  {
   "cell_type": "code",
   "execution_count": 490,
   "id": "e65199ad-d713-4a09-996d-b98b4ccb3afa",
   "metadata": {},
   "outputs": [],
   "source": [
    "import requests\n",
    "from requests.sessions import Session\n",
    "import time\n",
    "from concurrent.futures import ThreadPoolExecutor\n",
    "from threading import Thread,local\n",
    "\n",
    "def check_not_found(result, not_in):\n",
    "    if not_in:\n",
    "        return \"https://www.cosmenet.in.th/product/not-found\" not in result\n",
    "    else:\n",
    "        return \"https://www.cosmenet.in.th/product/not-found\" in result\n",
    "\n",
    "thread_local = local()\n",
    "\n",
    "def get_session() -> Session:\n",
    "    if not hasattr(thread_local,'session'):\n",
    "        thread_local.session = requests.Session()\n",
    "    return thread_local.session\n",
    "\n",
    "def download_link(id:int):\n",
    "    session = get_session()\n",
    "    url = 'https://www.cosmenet.in.th/product/' + str(id)\n",
    "    with session.get(url) as response:\n",
    "        result = response.text\n",
    "        if check_not_found(result, not_in):\n",
    "            res.append(id)\n",
    "        pbar.update(1)\n",
    "\n",
    "def download_all(ids:list) -> None:\n",
    "    with ThreadPoolExecutor(max_workers=10) as executor:\n",
    "        executor.map(download_link,ids)"
   ]
  },
  {
   "cell_type": "code",
   "execution_count": 489,
   "id": "3fb074fc-20d4-47b7-8d2b-c20555428652",
   "metadata": {},
   "outputs": [
    {
     "data": {
      "application/vnd.jupyter.widget-view+json": {
       "model_id": "1645a5dfd01f41f983bcf2d77ecdba26",
       "version_major": 2,
       "version_minor": 0
      },
      "text/plain": [
       "  0%|          | 0/162 [00:00<?, ?it/s]"
      ]
     },
     "metadata": {},
     "output_type": "display_data"
    },
    {
     "name": "stdout",
     "output_type": "stream",
     "text": [
      "[]\n"
     ]
    }
   ],
   "source": [
    "# not has\n",
    "res = []\n",
    "pbar = tqdm(total=len(old_labels_product_not_new_product))\n",
    "not_in = False\n",
    "download_all(old_labels_product_not_new_product)\n",
    "pbar.close()\n",
    "print(res)"
   ]
  },
  {
   "cell_type": "code",
   "execution_count": 493,
   "id": "a00e0c26-1eb2-444c-aa92-74647a44d459",
   "metadata": {},
   "outputs": [
    {
     "data": {
      "application/vnd.jupyter.widget-view+json": {
       "model_id": "22097962163d4f9889490d6df07c9b6c",
       "version_major": 2,
       "version_minor": 0
      },
      "text/plain": [
       "  0%|          | 0/4016 [00:00<?, ?it/s]"
      ]
     },
     "metadata": {},
     "output_type": "display_data"
    },
    {
     "name": "stdout",
     "output_type": "stream",
     "text": [
      "[47702, 43038]\n"
     ]
    }
   ],
   "source": [
    "# not has\n",
    "res = []\n",
    "pbar = tqdm(total=len(new_labels_product_in_old_product))\n",
    "not_in = False\n",
    "download_all(new_labels_product_in_old_product)\n",
    "pbar.close()\n",
    "print(res)\n",
    "# [47702, 43038]"
   ]
  },
  {
   "cell_type": "code",
   "execution_count": 491,
   "id": "154bd182-8745-4822-9678-29aabd5c376f",
   "metadata": {
    "scrolled": true
   },
   "outputs": [
    {
     "data": {
      "application/vnd.jupyter.widget-view+json": {
       "model_id": "031288ac75b44c029708f639ff8df640",
       "version_major": 2,
       "version_minor": 0
      },
      "text/plain": [
       "  0%|          | 0/17043 [00:00<?, ?it/s]"
      ]
     },
     "metadata": {},
     "output_type": "display_data"
    },
    {
     "name": "stdout",
     "output_type": "stream",
     "text": [
      "[40853, 28057, 32459, 9225, 26846, 8030, 26881, 1976, 13824, 26418, 41594, 42120, 4831, 29939, 4785, 31227, 41725, 45989]\n"
     ]
    }
   ],
   "source": [
    "# not has\n",
    "res = []\n",
    "pbar = tqdm(total=len(new_labels_product_in_link_cat_not_old_product))\n",
    "not_in = False\n",
    "download_all(new_labels_product_in_link_cat_not_old_product)\n",
    "pbar.close()\n",
    "print(res)\n",
    "# [13824, 1976, 26418, 26846, 26881, 28057, 29939, 31227, 32459, 40853, 41594, 41725, 42120, 45989, 4785, 4831]"
   ]
  },
  {
   "cell_type": "code",
   "execution_count": 481,
   "id": "7897d2e0-4469-41e1-ac8d-c101e7b5f135",
   "metadata": {},
   "outputs": [
    {
     "data": {
      "application/vnd.jupyter.widget-view+json": {
       "model_id": "23d2c6c5854845379bf856daf5907493",
       "version_major": 2,
       "version_minor": 0
      },
      "text/plain": [
       "  0%|          | 0/29 [00:00<?, ?it/s]"
      ]
     },
     "metadata": {},
     "output_type": "display_data"
    },
    {
     "name": "stdout",
     "output_type": "stream",
     "text": [
      "[]\n"
     ]
    }
   ],
   "source": [
    "# has\n",
    "res = []\n",
    "pbar = tqdm(total=len(new_labels_product_not_link_cat))\n",
    "not_in = True\n",
    "download_all(new_labels_product_not_link_cat)\n",
    "pbar.close()\n",
    "print(res)"
   ]
  },
  {
   "cell_type": "code",
   "execution_count": 492,
   "id": "84b3fe7a-0876-4e0a-a988-876ae5668678",
   "metadata": {
    "scrolled": true
   },
   "outputs": [
    {
     "data": {
      "application/vnd.jupyter.widget-view+json": {
       "model_id": "fdca9cbdd1c74b3085b31e84e8d0327e",
       "version_major": 2,
       "version_minor": 0
      },
      "text/plain": [
       "  0%|          | 0/8810 [00:00<?, ?it/s]"
      ]
     },
     "metadata": {},
     "output_type": "display_data"
    },
    {
     "name": "stdout",
     "output_type": "stream",
     "text": [
      "[50505, 49053, 7367, 35536, 33241]\n"
     ]
    }
   ],
   "source": [
    "# not has\n",
    "res = []\n",
    "pbar = tqdm(total=len(link_cat_product_not_all))\n",
    "not_in = False\n",
    "download_all(link_cat_product_not_all)\n",
    "pbar.close()\n",
    "print(res)\n",
    "# [50505, 49053, 7367, 35536, 33241]"
   ]
  },
  {
   "cell_type": "code",
   "execution_count": 497,
   "id": "0e602d75-7a9d-4a5f-b55c-60de81d10e7b",
   "metadata": {},
   "outputs": [
    {
     "data": {
      "application/vnd.jupyter.widget-view+json": {
       "model_id": "3691843b622249aa9005d3df42713a5e",
       "version_major": 2,
       "version_minor": 0
      },
      "text/plain": [
       "  0%|          | 0/19 [00:00<?, ?it/s]"
      ]
     },
     "metadata": {},
     "output_type": "display_data"
    },
    {
     "name": "stdout",
     "output_type": "stream",
     "text": [
      "[]\n"
     ]
    }
   ],
   "source": [
    "# check product that not have category\n",
    "res = []\n",
    "scid_2 = link_cat[link_cat['SCID'] == -2]['EID'].values\n",
    "pbar = tqdm(total=len(scid_2))\n",
    "not_in = True\n",
    "download_all(scid_2)\n",
    "pbar.close()\n",
    "print(res)"
   ]
  },
  {
   "cell_type": "markdown",
   "id": "7ff04e1c-64bc-48d9-9ff4-55cd0692addf",
   "metadata": {
    "jp-MarkdownHeadingCollapsed": true
   },
   "source": [
    "## add tag not have product on web"
   ]
  },
  {
   "cell_type": "code",
   "execution_count": 39,
   "id": "f595a8f6-dd4e-4d10-96ad-8f6222cda10a",
   "metadata": {},
   "outputs": [],
   "source": [
    "all_product_not_in_web = [47702, 43038, 40853, 28057, 32459, 9225, 26846, \n",
    "                          8030, 26881, 1976, 13824, 26418, 41594, 42120, \n",
    "                          4831, 29939, 4785, 31227, 41725, 45989, 50505, \n",
    "                          49053, 7367, 35536, 33241] + new_labels_product_not_link_cat.tolist()"
   ]
  },
  {
   "cell_type": "code",
   "execution_count": 45,
   "id": "31d805aa-fe24-45bd-8b1e-b130bf299f6e",
   "metadata": {},
   "outputs": [
    {
     "data": {
      "text/html": [
       "<div>\n",
       "<style scoped>\n",
       "    .dataframe tbody tr th:only-of-type {\n",
       "        vertical-align: middle;\n",
       "    }\n",
       "\n",
       "    .dataframe tbody tr th {\n",
       "        vertical-align: top;\n",
       "    }\n",
       "\n",
       "    .dataframe thead th {\n",
       "        text-align: right;\n",
       "    }\n",
       "</style>\n",
       "<table border=\"1\" class=\"dataframe\">\n",
       "  <thead>\n",
       "    <tr style=\"text-align: right;\">\n",
       "      <th></th>\n",
       "      <th>file_names</th>\n",
       "      <th>labels</th>\n",
       "      <th>images_path</th>\n",
       "      <th>BID</th>\n",
       "      <th>SCID</th>\n",
       "      <th>CID</th>\n",
       "    </tr>\n",
       "  </thead>\n",
       "  <tbody>\n",
       "    <tr>\n",
       "      <th>0</th>\n",
       "      <td>14624_14.jpg</td>\n",
       "      <td>14624</td>\n",
       "      <td>/app/nfs_clientshare/Datasets/Cosmenet_product...</td>\n",
       "      <td>1428</td>\n",
       "      <td>2542</td>\n",
       "      <td>59</td>\n",
       "    </tr>\n",
       "  </tbody>\n",
       "</table>\n",
       "</div>"
      ],
      "text/plain": [
       "     file_names  labels                                        images_path  \\\n",
       "0  14624_14.jpg   14624  /app/nfs_clientshare/Datasets/Cosmenet_product...   \n",
       "\n",
       "    BID  SCID  CID  \n",
       "0  1428  2542   59  "
      ]
     },
     "execution_count": 45,
     "metadata": {},
     "output_type": "execute_result"
    }
   ],
   "source": [
    "latest_data = pd.read_csv(ROOT_NFS_DATA / 'Cosmenet_uat_20231108' / 'data_last_join_2023_11_10.csv')\n",
    "latest_data.head(1)"
   ]
  },
  {
   "cell_type": "code",
   "execution_count": 46,
   "id": "29d4dc79-68b0-40fd-8ee4-486a7c52a4f6",
   "metadata": {},
   "outputs": [
    {
     "data": {
      "text/html": [
       "<div>\n",
       "<style scoped>\n",
       "    .dataframe tbody tr th:only-of-type {\n",
       "        vertical-align: middle;\n",
       "    }\n",
       "\n",
       "    .dataframe tbody tr th {\n",
       "        vertical-align: top;\n",
       "    }\n",
       "\n",
       "    .dataframe thead th {\n",
       "        text-align: right;\n",
       "    }\n",
       "</style>\n",
       "<table border=\"1\" class=\"dataframe\">\n",
       "  <thead>\n",
       "    <tr style=\"text-align: right;\">\n",
       "      <th></th>\n",
       "      <th>file_names</th>\n",
       "      <th>labels</th>\n",
       "      <th>images_path</th>\n",
       "      <th>BID</th>\n",
       "      <th>SCID</th>\n",
       "      <th>CID</th>\n",
       "      <th>Action</th>\n",
       "    </tr>\n",
       "  </thead>\n",
       "  <tbody>\n",
       "    <tr>\n",
       "      <th>0</th>\n",
       "      <td>14624_14.jpg</td>\n",
       "      <td>14624</td>\n",
       "      <td>/app/nfs_clientshare/Datasets/Cosmenet_product...</td>\n",
       "      <td>1428</td>\n",
       "      <td>2542</td>\n",
       "      <td>59</td>\n",
       "      <td>1</td>\n",
       "    </tr>\n",
       "  </tbody>\n",
       "</table>\n",
       "</div>"
      ],
      "text/plain": [
       "     file_names  labels                                        images_path  \\\n",
       "0  14624_14.jpg   14624  /app/nfs_clientshare/Datasets/Cosmenet_product...   \n",
       "\n",
       "    BID  SCID  CID  Action  \n",
       "0  1428  2542   59       1  "
      ]
     },
     "execution_count": 46,
     "metadata": {},
     "output_type": "execute_result"
    }
   ],
   "source": [
    "latest_data['Action'] = 1\n",
    "latest_data.head(1)"
   ]
  },
  {
   "cell_type": "code",
   "execution_count": 58,
   "id": "862daa26-3636-4681-9298-1e56ce1fb279",
   "metadata": {},
   "outputs": [
    {
     "data": {
      "text/html": [
       "<div>\n",
       "<style scoped>\n",
       "    .dataframe tbody tr th:only-of-type {\n",
       "        vertical-align: middle;\n",
       "    }\n",
       "\n",
       "    .dataframe tbody tr th {\n",
       "        vertical-align: top;\n",
       "    }\n",
       "\n",
       "    .dataframe thead th {\n",
       "        text-align: right;\n",
       "    }\n",
       "</style>\n",
       "<table border=\"1\" class=\"dataframe\">\n",
       "  <thead>\n",
       "    <tr style=\"text-align: right;\">\n",
       "      <th></th>\n",
       "      <th>file_names</th>\n",
       "      <th>labels</th>\n",
       "      <th>images_path</th>\n",
       "      <th>BID</th>\n",
       "      <th>SCID</th>\n",
       "      <th>CID</th>\n",
       "      <th>Action</th>\n",
       "    </tr>\n",
       "  </thead>\n",
       "  <tbody>\n",
       "    <tr>\n",
       "      <th>18497</th>\n",
       "      <td>ID47702_14.jpg</td>\n",
       "      <td>47702</td>\n",
       "      <td>/app/nfs_clientshare/Datasets/Cosmenet_product...</td>\n",
       "      <td>3161</td>\n",
       "      <td>2680</td>\n",
       "      <td>61</td>\n",
       "      <td>0</td>\n",
       "    </tr>\n",
       "  </tbody>\n",
       "</table>\n",
       "</div>"
      ],
      "text/plain": [
       "           file_names  labels  \\\n",
       "18497  ID47702_14.jpg   47702   \n",
       "\n",
       "                                             images_path   BID  SCID  CID  \\\n",
       "18497  /app/nfs_clientshare/Datasets/Cosmenet_product...  3161  2680   61   \n",
       "\n",
       "       Action  \n",
       "18497       0  "
      ]
     },
     "execution_count": 58,
     "metadata": {},
     "output_type": "execute_result"
    }
   ],
   "source": [
    "latest_data.loc[latest_data['labels'].isin(all_product_not_in_web), \n",
    "                ['Action']] = 0\n",
    "latest_data[latest_data['Action'] == 0].head(1)"
   ]
  },
  {
   "cell_type": "code",
   "execution_count": 59,
   "id": "fcd1267e-2827-4e3d-8393-4b6dee4d1002",
   "metadata": {},
   "outputs": [],
   "source": [
    "latest_data.to_csv(ROOT_NFS_DATA / 'Cosmenet_uat_20231108' / 'data_last_join_2023_11_10.csv',\n",
    "                  index=False)"
   ]
  },
  {
   "cell_type": "code",
   "execution_count": 60,
   "id": "0dcc4081-5a52-4924-87bd-b03fb4567052",
   "metadata": {},
   "outputs": [
    {
     "data": {
      "text/html": [
       "<div>\n",
       "<style scoped>\n",
       "    .dataframe tbody tr th:only-of-type {\n",
       "        vertical-align: middle;\n",
       "    }\n",
       "\n",
       "    .dataframe tbody tr th {\n",
       "        vertical-align: top;\n",
       "    }\n",
       "\n",
       "    .dataframe thead th {\n",
       "        text-align: right;\n",
       "    }\n",
       "</style>\n",
       "<table border=\"1\" class=\"dataframe\">\n",
       "  <thead>\n",
       "    <tr style=\"text-align: right;\">\n",
       "      <th></th>\n",
       "      <th>file_names</th>\n",
       "      <th>labels</th>\n",
       "      <th>images_path</th>\n",
       "      <th>BID</th>\n",
       "      <th>SCID</th>\n",
       "      <th>CID</th>\n",
       "      <th>Action</th>\n",
       "    </tr>\n",
       "  </thead>\n",
       "  <tbody>\n",
       "    <tr>\n",
       "      <th>0</th>\n",
       "      <td>14624_14.jpg</td>\n",
       "      <td>14624</td>\n",
       "      <td>/app/nfs_clientshare/Datasets/Cosmenet_product...</td>\n",
       "      <td>1428</td>\n",
       "      <td>2542</td>\n",
       "      <td>59</td>\n",
       "      <td>1</td>\n",
       "    </tr>\n",
       "  </tbody>\n",
       "</table>\n",
       "</div>"
      ],
      "text/plain": [
       "     file_names  labels                                        images_path  \\\n",
       "0  14624_14.jpg   14624  /app/nfs_clientshare/Datasets/Cosmenet_product...   \n",
       "\n",
       "    BID  SCID  CID  Action  \n",
       "0  1428  2542   59       1  "
      ]
     },
     "execution_count": 60,
     "metadata": {},
     "output_type": "execute_result"
    }
   ],
   "source": [
    "pd.read_csv(ROOT_NFS_DATA / 'Cosmenet_uat_20231108' / 'data_last_join_2023_11_10.csv').head(1)"
   ]
  }
 ],
 "metadata": {
  "kernelspec": {
   "display_name": "Python 3 (ipykernel)",
   "language": "python",
   "name": "python3"
  },
  "language_info": {
   "codemirror_mode": {
    "name": "ipython",
    "version": 3
   },
   "file_extension": ".py",
   "mimetype": "text/x-python",
   "name": "python",
   "nbconvert_exporter": "python",
   "pygments_lexer": "ipython3",
   "version": "3.11.6"
  }
 },
 "nbformat": 4,
 "nbformat_minor": 5
}
