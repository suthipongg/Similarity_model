{
 "cells": [
  {
   "cell_type": "markdown",
   "metadata": {},
   "source": [
    "# 1.Prepare data"
   ]
  },
  {
   "cell_type": "markdown",
   "metadata": {},
   "source": [
    "## 1.1 Import"
   ]
  },
  {
   "cell_type": "code",
   "execution_count": 1,
   "metadata": {},
   "outputs": [],
   "source": [
    "from datetime import datetime, date \n",
    "import pandas as pd\n",
    "from tqdm import tqdm\n",
    "tqdm.pandas()"
   ]
  },
  {
   "cell_type": "markdown",
   "metadata": {},
   "source": [
    "## 1.2 read data"
   ]
  },
  {
   "cell_type": "code",
   "execution_count": 2,
   "metadata": {},
   "outputs": [],
   "source": [
    "b_user_path = 'raw_data_production/b_user.csv'\n",
    "b_uts_user_path = 'raw_data_production/b_uts_user.csv'\n",
    "b_product_reviews_path = 'raw_data_production/b_product_review.csv'\n",
    "b_iblock_element_path = 'raw_data_production/b_iblock_element.csv'\n",
    "b_iblock_section_path = 'raw_data_production/b_iblock_section.csv'\n",
    "b_iblock_section_element_path = 'raw_data_production/b_iblock_section_element.csv'\n",
    "\n",
    "b_user = pd.read_csv(b_user_path, low_memory=False, usecols=['ID', 'PERSONAL_PROFESSION', 'PERSONAL_GENDER', 'PERSONAL_BIRTHDAY'])\n",
    "b_uts_user = pd.read_csv(b_uts_user_path, low_memory=False, usecols=['VALUE_ID', 'UF_EDU', 'UF_BLOODGROUP', 'UF_SHAPE', 'UF_HAIRLONG', 'UF_HAIRPROP', 'UF_SKINCOLOR', 'UF_SKINFACE', 'UF_SKINPROBLEM', \n",
    "    'UF_MAKEUPTIME', 'UF_PRODUCT_HAIR', 'UF_PRODUCT_SKINCARE', 'UF_PRODUCT_MAKEUP', 'UF_BUDGET', 'UF_BUYPERMONTH', 'UF_HAIRNATURE', 'UF_HAIRSIZE', 'UF_BODYCOLOR', 'UF_BODYTYPE', 'UF_BODYPROBLEM', \n",
    "    'UF_HAIRTYPE'])\n",
    "b_product_reviews = pd.read_csv(b_product_reviews_path, low_memory=False, lineterminator='\\n', usecols=['ID', 'EID', 'UID', 'POINT', 'EFFECT', 'LOCATION'])\n",
    "b_iblock_element = pd.read_csv(b_iblock_element_path, low_memory=False, usecols=['ID', 'ACTIVE', 'IBLOCK_SECTION_ID'])\n",
    "b_iblock_section = pd.read_csv(b_iblock_section_path, low_memory=False, usecols=['ID', 'IBLOCK_ID', 'IBLOCK_SECTION_ID', 'DEPTH_LEVEL'])\n",
    "b_iblock_section_element = pd.read_csv(b_iblock_section_element_path, low_memory=False, usecols=['IBLOCK_SECTION_ID', 'IBLOCK_ELEMENT_ID'])"
   ]
  },
  {
   "cell_type": "markdown",
   "metadata": {},
   "source": [
    "## 1.3 clean data"
   ]
  },
  {
   "cell_type": "markdown",
   "metadata": {},
   "source": [
    "### 1.3.1 product feature"
   ]
  },
  {
   "cell_type": "code",
   "execution_count": 3,
   "metadata": {},
   "outputs": [
    {
     "data": {
      "text/html": [
       "<div>\n",
       "<style scoped>\n",
       "    .dataframe tbody tr th:only-of-type {\n",
       "        vertical-align: middle;\n",
       "    }\n",
       "\n",
       "    .dataframe tbody tr th {\n",
       "        vertical-align: top;\n",
       "    }\n",
       "\n",
       "    .dataframe thead th {\n",
       "        text-align: right;\n",
       "    }\n",
       "</style>\n",
       "<table border=\"1\" class=\"dataframe\">\n",
       "  <thead>\n",
       "    <tr style=\"text-align: right;\">\n",
       "      <th></th>\n",
       "      <th>ID</th>\n",
       "      <th>IBLOCK_SECTION_ID</th>\n",
       "    </tr>\n",
       "  </thead>\n",
       "  <tbody>\n",
       "    <tr>\n",
       "      <th>0</th>\n",
       "      <td>91</td>\n",
       "      <td>NaN</td>\n",
       "    </tr>\n",
       "  </tbody>\n",
       "</table>\n",
       "</div>"
      ],
      "text/plain": [
       "   ID  IBLOCK_SECTION_ID\n",
       "0  91                NaN"
      ]
     },
     "execution_count": 3,
     "metadata": {},
     "output_type": "execute_result"
    }
   ],
   "source": [
    "product_feature = b_iblock_element[b_iblock_element['ACTIVE'] == 'Y'].drop(columns=['ACTIVE'])\n",
    "product_feature.head(1)"
   ]
  },
  {
   "cell_type": "code",
   "execution_count": 4,
   "metadata": {},
   "outputs": [
    {
     "data": {
      "text/html": [
       "<div>\n",
       "<style scoped>\n",
       "    .dataframe tbody tr th:only-of-type {\n",
       "        vertical-align: middle;\n",
       "    }\n",
       "\n",
       "    .dataframe tbody tr th {\n",
       "        vertical-align: top;\n",
       "    }\n",
       "\n",
       "    .dataframe thead th {\n",
       "        text-align: right;\n",
       "    }\n",
       "</style>\n",
       "<table border=\"1\" class=\"dataframe\">\n",
       "  <thead>\n",
       "    <tr style=\"text-align: right;\">\n",
       "      <th></th>\n",
       "      <th>ID</th>\n",
       "      <th>IBLOCK_SECTION_ID</th>\n",
       "      <th>SCID</th>\n",
       "      <th>CID</th>\n",
       "    </tr>\n",
       "  </thead>\n",
       "  <tbody>\n",
       "    <tr>\n",
       "      <th>0</th>\n",
       "      <td>102</td>\n",
       "      <td>1497.0</td>\n",
       "      <td>2595</td>\n",
       "      <td>53</td>\n",
       "    </tr>\n",
       "  </tbody>\n",
       "</table>\n",
       "</div>"
      ],
      "text/plain": [
       "    ID  IBLOCK_SECTION_ID  SCID  CID\n",
       "0  102             1497.0  2595   53"
      ]
     },
     "execution_count": 4,
     "metadata": {},
     "output_type": "execute_result"
    }
   ],
   "source": [
    "cat_subcat = b_iblock_section[b_iblock_section['IBLOCK_ID'] == 6].drop(columns=['IBLOCK_ID'])\n",
    "cat_subcat_merge = b_iblock_section_element.merge(cat_subcat, left_on='IBLOCK_SECTION_ID', right_on='ID')\n",
    "duplicate_cat_subcat = cat_subcat_merge[cat_subcat_merge['IBLOCK_ELEMENT_ID'].duplicated(keep=False)].reset_index()\n",
    "all_duplicate_index = duplicate_cat_subcat['index']\n",
    "deep_depth = duplicate_cat_subcat.groupby('IBLOCK_ELEMENT_ID').agg({'DEPTH_LEVEL': 'max'}).reset_index()\n",
    "duplicate_cat_subcat_keep = duplicate_cat_subcat.merge(deep_depth, on=['IBLOCK_ELEMENT_ID', 'DEPTH_LEVEL'])['index']\n",
    "outer_intersect = all_duplicate_index[~(all_duplicate_index.isin(duplicate_cat_subcat_keep))]\n",
    "cat_subcat_merge.drop(outer_intersect.values, inplace=True)\n",
    "\n",
    "cat_subcat_merge['IBLOCK_SECTION_ID_y'].fillna(cat_subcat_merge['IBLOCK_SECTION_ID_x'], inplace=True)\n",
    "cat_subcat_merge = cat_subcat_merge.merge(cat_subcat, left_on='IBLOCK_SECTION_ID_y', right_on='ID')\n",
    "cat_subcat_merge['IBLOCK_SECTION_ID'].fillna(cat_subcat_merge['ID_y'], inplace=True)\n",
    "cat_subcat_merge.loc[cat_subcat_merge[cat_subcat_merge['DEPTH_LEVEL_x'] != 3].index, 'IBLOCK_SECTION_ID_y'] = None\n",
    "cat_subcat_merge['IBLOCK_SECTION_ID'] = cat_subcat_merge['IBLOCK_SECTION_ID'].astype('Int64')\n",
    "cat_subcat_merge = cat_subcat_merge[['IBLOCK_ELEMENT_ID', 'IBLOCK_SECTION_ID_y', 'IBLOCK_SECTION_ID']]\n",
    "cat_subcat_merge.columns = ['IBLOCK_ELEMENT_ID', 'SCID', 'CID']\n",
    "product_feature = product_feature.merge(cat_subcat_merge, left_on='ID', right_on='IBLOCK_ELEMENT_ID').drop(columns=['IBLOCK_ELEMENT_ID'])\n",
    "product_feature['SCID'] = product_feature['SCID'].astype('Int64')\n",
    "product_feature.head(1)"
   ]
  },
  {
   "cell_type": "code",
   "execution_count": 5,
   "metadata": {},
   "outputs": [
    {
     "data": {
      "text/html": [
       "<div>\n",
       "<style scoped>\n",
       "    .dataframe tbody tr th:only-of-type {\n",
       "        vertical-align: middle;\n",
       "    }\n",
       "\n",
       "    .dataframe tbody tr th {\n",
       "        vertical-align: top;\n",
       "    }\n",
       "\n",
       "    .dataframe thead th {\n",
       "        text-align: right;\n",
       "    }\n",
       "</style>\n",
       "<table border=\"1\" class=\"dataframe\">\n",
       "  <thead>\n",
       "    <tr style=\"text-align: right;\">\n",
       "      <th></th>\n",
       "      <th>RE_ID</th>\n",
       "      <th>ID</th>\n",
       "      <th>SCID</th>\n",
       "      <th>CID</th>\n",
       "      <th>BID</th>\n",
       "      <th>MID</th>\n",
       "    </tr>\n",
       "  </thead>\n",
       "  <tbody>\n",
       "    <tr>\n",
       "      <th>0</th>\n",
       "      <td>0</td>\n",
       "      <td>102</td>\n",
       "      <td>2595</td>\n",
       "      <td>53</td>\n",
       "      <td>1497</td>\n",
       "      <td>1159</td>\n",
       "    </tr>\n",
       "  </tbody>\n",
       "</table>\n",
       "</div>"
      ],
      "text/plain": [
       "   RE_ID   ID  SCID  CID   BID   MID\n",
       "0      0  102  2595   53  1497  1159"
      ]
     },
     "execution_count": 5,
     "metadata": {},
     "output_type": "execute_result"
    }
   ],
   "source": [
    "brand_maker = b_iblock_section[b_iblock_section['IBLOCK_ID'] == 17].drop(columns=['IBLOCK_ID'])\n",
    "product_feature = product_feature.merge(brand_maker, left_on='IBLOCK_SECTION_ID', right_on='ID')\n",
    "product_feature['IBLOCK_SECTION_ID_y'].fillna(product_feature['ID_y'], inplace=True)\n",
    "product_feature = product_feature.merge(brand_maker, left_on='IBLOCK_SECTION_ID_y', right_on='ID')\n",
    "product_feature.loc[product_feature[product_feature['DEPTH_LEVEL_x'] == 1].index, 'ID_y'] = None\n",
    "product_feature.drop(columns=['IBLOCK_SECTION_ID_x', 'IBLOCK_SECTION_ID_y', 'IBLOCK_SECTION_ID', 'DEPTH_LEVEL_y', 'DEPTH_LEVEL_x'], inplace=True)\n",
    "product_feature.reset_index(inplace=True)\n",
    "product_feature.columns = ['RE_ID', 'ID', 'SCID', 'CID', 'BID', 'MID']\n",
    "product_feature['BID'] = product_feature['BID'].astype('Int64')\n",
    "product_feature.head(1)"
   ]
  },
  {
   "cell_type": "markdown",
   "metadata": {},
   "source": [
    "### 1.3.2 user feature"
   ]
  },
  {
   "cell_type": "code",
   "execution_count": 6,
   "metadata": {},
   "outputs": [],
   "source": [
    "def age_to_range(row):\n",
    "    age = int(row)\n",
    "    if age < 18:\n",
    "        return '0-17'\n",
    "    elif age < 25:\n",
    "        return '18-24'\n",
    "    elif age < 35:\n",
    "        return '25-34'\n",
    "    elif age < 45:\n",
    "        return '35-44'\n",
    "    elif age < 55:\n",
    "        return '45-54'\n",
    "    elif age < 65:\n",
    "        return '55-64'\n",
    "    else:\n",
    "        return '65+'\n",
    "\n",
    "today = date.today()\n",
    "def convert_age(row):\n",
    "    if pd.notnull(row) and str(row) >= '1970-01-01':\n",
    "        born = datetime.strptime(str(row), '%Y-%m-%d').date() \n",
    "        age = today.year - born.year - ((today.month, today.day) < (born.month, born.day))\n",
    "        return age_to_range(age)\n",
    "    else:\n",
    "        return None"
   ]
  },
  {
   "cell_type": "code",
   "execution_count": 7,
   "metadata": {},
   "outputs": [
    {
     "data": {
      "text/html": [
       "<div>\n",
       "<style scoped>\n",
       "    .dataframe tbody tr th:only-of-type {\n",
       "        vertical-align: middle;\n",
       "    }\n",
       "\n",
       "    .dataframe tbody tr th {\n",
       "        vertical-align: top;\n",
       "    }\n",
       "\n",
       "    .dataframe thead th {\n",
       "        text-align: right;\n",
       "    }\n",
       "</style>\n",
       "<table border=\"1\" class=\"dataframe\">\n",
       "  <thead>\n",
       "    <tr style=\"text-align: right;\">\n",
       "      <th></th>\n",
       "      <th>RE_ID</th>\n",
       "      <th>ID</th>\n",
       "      <th>PERSONAL_PROFESSION</th>\n",
       "      <th>PERSONAL_GENDER</th>\n",
       "      <th>UF_EDU</th>\n",
       "      <th>UF_BLOODGROUP</th>\n",
       "      <th>UF_SHAPE</th>\n",
       "      <th>UF_HAIRLONG</th>\n",
       "      <th>UF_HAIRPROP</th>\n",
       "      <th>UF_SKINCOLOR</th>\n",
       "      <th>...</th>\n",
       "      <th>UF_PRODUCT_MAKEUP</th>\n",
       "      <th>UF_BUDGET</th>\n",
       "      <th>UF_BUYPERMONTH</th>\n",
       "      <th>UF_HAIRNATURE</th>\n",
       "      <th>UF_HAIRSIZE</th>\n",
       "      <th>UF_BODYCOLOR</th>\n",
       "      <th>UF_BODYTYPE</th>\n",
       "      <th>UF_BODYPROBLEM</th>\n",
       "      <th>UF_HAIRTYPE</th>\n",
       "      <th>AGE</th>\n",
       "    </tr>\n",
       "  </thead>\n",
       "  <tbody>\n",
       "    <tr>\n",
       "      <th>0</th>\n",
       "      <td>0</td>\n",
       "      <td>1</td>\n",
       "      <td>พนักงานบริษัทเอกชน</td>\n",
       "      <td>F</td>\n",
       "      <td>ปริญญาตรี</td>\n",
       "      <td>NaN</td>\n",
       "      <td>NaN</td>\n",
       "      <td>NaN</td>\n",
       "      <td>NaN</td>\n",
       "      <td>NaN</td>\n",
       "      <td>...</td>\n",
       "      <td>NaN</td>\n",
       "      <td>NaN</td>\n",
       "      <td>NaN</td>\n",
       "      <td>NaN</td>\n",
       "      <td>NaN</td>\n",
       "      <td>NaN</td>\n",
       "      <td>NaN</td>\n",
       "      <td>NaN</td>\n",
       "      <td>NaN</td>\n",
       "      <td>25-34</td>\n",
       "    </tr>\n",
       "  </tbody>\n",
       "</table>\n",
       "<p>1 rows × 25 columns</p>\n",
       "</div>"
      ],
      "text/plain": [
       "   RE_ID  ID PERSONAL_PROFESSION PERSONAL_GENDER     UF_EDU UF_BLOODGROUP  \\\n",
       "0      0   1  พนักงานบริษัทเอกชน               F  ปริญญาตรี           NaN   \n",
       "\n",
       "  UF_SHAPE UF_HAIRLONG UF_HAIRPROP UF_SKINCOLOR  ... UF_PRODUCT_MAKEUP  \\\n",
       "0      NaN         NaN         NaN          NaN  ...               NaN   \n",
       "\n",
       "  UF_BUDGET UF_BUYPERMONTH UF_HAIRNATURE UF_HAIRSIZE UF_BODYCOLOR UF_BODYTYPE  \\\n",
       "0       NaN            NaN           NaN         NaN          NaN         NaN   \n",
       "\n",
       "  UF_BODYPROBLEM UF_HAIRTYPE    AGE  \n",
       "0            NaN         NaN  25-34  \n",
       "\n",
       "[1 rows x 25 columns]"
      ]
     },
     "execution_count": 7,
     "metadata": {},
     "output_type": "execute_result"
    }
   ],
   "source": [
    "user_feature = b_user.merge(b_uts_user, left_on='ID', right_on='VALUE_ID', how='left')\n",
    "user_feature['AGE'] = user_feature['PERSONAL_BIRTHDAY'].apply(lambda x: convert_age(x))\n",
    "user_feature.reset_index(inplace=True)\n",
    "user_feature.drop(columns=['PERSONAL_BIRTHDAY', 'VALUE_ID'], inplace=True)\n",
    "user_feature.rename(columns={'index': 'RE_ID'}, inplace=True)\n",
    "user_feature.head(1)"
   ]
  },
  {
   "cell_type": "markdown",
   "metadata": {},
   "source": [
    "### 1.3.3 product review"
   ]
  },
  {
   "cell_type": "code",
   "execution_count": 8,
   "metadata": {},
   "outputs": [],
   "source": [
    "product_not_avail_index = b_product_reviews[~(b_product_reviews['EID'].isin(product_feature['ID']))].index\n",
    "b_product_reviews.drop(product_not_avail_index, inplace=True)\n",
    "\n",
    "user_not_avail_index = b_product_reviews[~(b_product_reviews['UID'].isin(user_feature['ID']))].index\n",
    "b_product_reviews.drop(user_not_avail_index, inplace=True)\n",
    "\n",
    "b_product_reviews = b_product_reviews.groupby(['EID', 'UID']).agg({'POINT': 'mean'}).reset_index()"
   ]
  },
  {
   "cell_type": "code",
   "execution_count": 42,
   "metadata": {},
   "outputs": [
    {
     "data": {
      "text/html": [
       "<div>\n",
       "<style scoped>\n",
       "    .dataframe tbody tr th:only-of-type {\n",
       "        vertical-align: middle;\n",
       "    }\n",
       "\n",
       "    .dataframe tbody tr th {\n",
       "        vertical-align: top;\n",
       "    }\n",
       "\n",
       "    .dataframe thead th {\n",
       "        text-align: right;\n",
       "    }\n",
       "</style>\n",
       "<table border=\"1\" class=\"dataframe\">\n",
       "  <thead>\n",
       "    <tr style=\"text-align: right;\">\n",
       "      <th></th>\n",
       "      <th>itemID</th>\n",
       "      <th>userID</th>\n",
       "      <th>POINT</th>\n",
       "    </tr>\n",
       "  </thead>\n",
       "  <tbody>\n",
       "    <tr>\n",
       "      <th>count</th>\n",
       "      <td>7451.000000</td>\n",
       "      <td>7451.000000</td>\n",
       "      <td>7451.000000</td>\n",
       "    </tr>\n",
       "    <tr>\n",
       "      <th>mean</th>\n",
       "      <td>13927.971950</td>\n",
       "      <td>17.874111</td>\n",
       "      <td>3.524408</td>\n",
       "    </tr>\n",
       "    <tr>\n",
       "      <th>std</th>\n",
       "      <td>8653.750787</td>\n",
       "      <td>37.286538</td>\n",
       "      <td>0.820004</td>\n",
       "    </tr>\n",
       "    <tr>\n",
       "      <th>min</th>\n",
       "      <td>0.000000</td>\n",
       "      <td>3.000000</td>\n",
       "      <td>0.083333</td>\n",
       "    </tr>\n",
       "    <tr>\n",
       "      <th>25%</th>\n",
       "      <td>6447.500000</td>\n",
       "      <td>4.000000</td>\n",
       "      <td>3.000000</td>\n",
       "    </tr>\n",
       "    <tr>\n",
       "      <th>50%</th>\n",
       "      <td>13498.000000</td>\n",
       "      <td>7.000000</td>\n",
       "      <td>3.545455</td>\n",
       "    </tr>\n",
       "    <tr>\n",
       "      <th>75%</th>\n",
       "      <td>20986.500000</td>\n",
       "      <td>14.000000</td>\n",
       "      <td>4.181818</td>\n",
       "    </tr>\n",
       "    <tr>\n",
       "      <th>max</th>\n",
       "      <td>30676.000000</td>\n",
       "      <td>497.000000</td>\n",
       "      <td>5.000000</td>\n",
       "    </tr>\n",
       "  </tbody>\n",
       "</table>\n",
       "</div>"
      ],
      "text/plain": [
       "             itemID       userID        POINT\n",
       "count   7451.000000  7451.000000  7451.000000\n",
       "mean   13927.971950    17.874111     3.524408\n",
       "std     8653.750787    37.286538     0.820004\n",
       "min        0.000000     3.000000     0.083333\n",
       "25%     6447.500000     4.000000     3.000000\n",
       "50%    13498.000000     7.000000     3.545455\n",
       "75%    20986.500000    14.000000     4.181818\n",
       "max    30676.000000   497.000000     5.000000"
      ]
     },
     "execution_count": 42,
     "metadata": {},
     "output_type": "execute_result"
    }
   ],
   "source": [
    "min_review, max_review = 2, 500\n",
    "group_review = b_product_reviews.groupby('EID').agg({'UID': 'count', 'POINT': 'mean'}).reset_index()\n",
    "EID_filter = group_review[(group_review['UID'] > min_review) & (group_review['UID'] < max_review)]['EID']\n",
    "review_filtered = b_product_reviews[b_product_reviews['EID'].isin(EID_filter)]\n",
    "review_filtered = review_filtered.merge(product_feature[['ID', 'RE_ID']], left_on='EID', right_on='ID')\n",
    "review_filtered = review_filtered.merge(user_feature[['ID', 'RE_ID']], left_on='UID', right_on='ID')\n",
    "review_filtered.drop(columns=['EID', 'UID', 'ID_x', 'ID_y'], inplace=True)\n",
    "review_filtered.rename(columns={'RE_ID_x': 'itemID', 'RE_ID_y': 'userID'}, inplace=True)\n",
    "group_review_filter = review_filtered.groupby('itemID').agg({'userID': 'count', 'POINT': 'mean'}).reset_index()\n",
    "group_review_filter.describe()"
   ]
  },
  {
   "cell_type": "code",
   "execution_count": 43,
   "metadata": {},
   "outputs": [
    {
     "data": {
      "image/png": "[encoded data removed]",
      "text/plain": [
       "<Figure size 1000x500 with 1 Axes>"
      ]
     },
     "metadata": {},
     "output_type": "display_data"
    }
   ],
   "source": [
    "import matplotlib.pyplot as plt \n",
    "fig = plt.figure(figsize = (10, 5))\n",
    "\n",
    "# creating the bar plot\n",
    "count_UID = group_review.groupby('UID').agg({'UID':'count'}).rename(columns={'UID':'count'}).reset_index()\n",
    "plt.bar(count_UID['UID'], count_UID['count'], color ='maroon', width = 1)\n",
    "plt.show()"
   ]
  },
  {
   "cell_type": "markdown",
   "metadata": {},
   "source": [
    "### 1.3.4 clean"
   ]
  },
  {
   "cell_type": "code",
   "execution_count": 45,
   "metadata": {},
   "outputs": [],
   "source": [
    "def concat_with_column_name(row):\n",
    "    concatenated_values = []\n",
    "    for col, val in row.items():\n",
    "        if pd.notnull(val):\n",
    "            convert_value = lambda vals: [f\"{col}_{v.strip()}\" for v in vals.split(',')if v.strip() != '']\n",
    "            value = '|'.join(convert_value(val) if isinstance(val, str) else [f\"{col}_{val}\"])\n",
    "            if value:\n",
    "                concatenated_values.append(value)\n",
    "    return '|'.join(concatenated_values)"
   ]
  },
  {
   "cell_type": "code",
   "execution_count": 46,
   "metadata": {},
   "outputs": [
    {
     "name": "stderr",
     "output_type": "stream",
     "text": [
      " 18%|█▊        | 5387/30698 [00:00<00:00, 53868.77it/s]"
     ]
    },
    {
     "name": "stderr",
     "output_type": "stream",
     "text": [
      "100%|██████████| 30698/30698 [00:00<00:00, 55061.95it/s]\n",
      "100%|██████████| 107321/107321 [00:04<00:00, 25837.60it/s]\n"
     ]
    }
   ],
   "source": [
    "product_feature['tag'] = ''\n",
    "product_feature['tag'] = product_feature.drop(columns=['ID', 'RE_ID']).progress_apply(lambda row: concat_with_column_name(row), axis=1)\n",
    "user_feature['tag'] = ''\n",
    "user_feature['tag'] = user_feature.drop(columns=['ID', 'RE_ID']).progress_apply(lambda row: concat_with_column_name(row), axis=1)"
   ]
  },
  {
   "cell_type": "markdown",
   "metadata": {},
   "source": [
    "## 1.4 Example data"
   ]
  },
  {
   "cell_type": "code",
   "execution_count": 47,
   "metadata": {},
   "outputs": [
    {
     "data": {
      "text/html": [
       "<div style='display: inline-block; margin-right: 20px;'><h3>review_filtered</h3>\n",
       "<table border=\"1\" class=\"dataframe\">\n",
       "  <thead>\n",
       "    <tr style=\"text-align: right;\">\n",
       "      <th>POINT</th>\n",
       "      <th>itemID</th>\n",
       "      <th>userID</th>\n",
       "    </tr>\n",
       "  </thead>\n",
       "  <tbody>\n",
       "    <tr>\n",
       "      <td>3.0</td>\n",
       "      <td>0</td>\n",
       "      <td>831</td>\n",
       "    </tr>\n",
       "    <tr>\n",
       "      <td>2.0</td>\n",
       "      <td>817</td>\n",
       "      <td>831</td>\n",
       "    </tr>\n",
       "    <tr>\n",
       "      <td>4.0</td>\n",
       "      <td>486</td>\n",
       "      <td>831</td>\n",
       "    </tr>\n",
       "    <tr>\n",
       "      <td>2.0</td>\n",
       "      <td>2025</td>\n",
       "      <td>831</td>\n",
       "    </tr>\n",
       "    <tr>\n",
       "      <td>3.0</td>\n",
       "      <td>2050</td>\n",
       "      <td>831</td>\n",
       "    </tr>\n",
       "  </tbody>\n",
       "</table></div><div style='display: inline-block;'><h3>product_feature</h3>\n",
       "<table border=\"1\" class=\"dataframe\">\n",
       "  <thead>\n",
       "    <tr style=\"text-align: right;\">\n",
       "      <th>ID</th>\n",
       "      <th>tag</th>\n",
       "    </tr>\n",
       "  </thead>\n",
       "  <tbody>\n",
       "    <tr>\n",
       "      <td>102</td>\n",
       "      <td>SCID_2595|CID_53|BID_1497|MID_1159</td>\n",
       "    </tr>\n",
       "    <tr>\n",
       "      <td>104</td>\n",
       "      <td>SCID_2595|CID_53|BID_1497|MID_1159</td>\n",
       "    </tr>\n",
       "    <tr>\n",
       "      <td>6885</td>\n",
       "      <td>SCID_2585|CID_54|BID_1497|MID_1159</td>\n",
       "    </tr>\n",
       "    <tr>\n",
       "      <td>6886</td>\n",
       "      <td>SCID_2585|CID_54|BID_1497|MID_1159</td>\n",
       "    </tr>\n",
       "    <tr>\n",
       "      <td>6887</td>\n",
       "      <td>SCID_2585|CID_54|BID_1497|MID_1159</td>\n",
       "    </tr>\n",
       "  </tbody>\n",
       "</table></div><div style='display: inline-block; margin-right: 20px;'><h3>user_feature</h3>\n",
       "<table border=\"1\" class=\"dataframe\">\n",
       "  <thead>\n",
       "    <tr style=\"text-align: right;\">\n",
       "      <th>ID</th>\n",
       "      <th>tag</th>\n",
       "    </tr>\n",
       "  </thead>\n",
       "  <tbody>\n",
       "    <tr>\n",
       "      <td>1</td>\n",
       "      <td>PERSONAL_PROFESSION_พนักงานบริษัทเอกชน|PERSONAL_GENDER_F|UF_EDU_ปริญญาตรี|UF_SKINPROBLEM_สิว / รอยสิว|UF_SKINPROBLEM_แพ้ง่าย|AGE_25-34</td>\n",
       "    </tr>\n",
       "    <tr>\n",
       "      <td>4</td>\n",
       "      <td>PERSONAL_PROFESSION_programer|PERSONAL_GENDER_M|UF_SHAPE_รูปร่างทรงนาฬิกาทราย|UF_HAIRLONG_ผมสั้น|UF_HAIRPROP_ผมหนา|UF_SKINCOLOR_ผิวสองสี|UF_SKINFACE_ผิวมัน|UF_SKINPROBLEM_สิว / รอยสิว|UF_MAKEUPTIME_ไม่เกิน 15 นาที|UF_PRODUCT_HAIR_Shampoo|UF_PRODUCT_SKINCARE_Cleansing Oil|UF_BUDGET_มากกว่า 10|UF_BUDGET_000 บาท|UF_BUYPERMONTH_ไม่บ่อยเลย นาน ๆ ครั้ง|AGE_35-44</td>\n",
       "    </tr>\n",
       "    <tr>\n",
       "      <td>52</td>\n",
       "      <td>PERSONAL_GENDER_F|AGE_35-44</td>\n",
       "    </tr>\n",
       "    <tr>\n",
       "      <td>63</td>\n",
       "      <td>PERSONAL_GENDER_F|AGE_35-44</td>\n",
       "    </tr>\n",
       "    <tr>\n",
       "      <td>64</td>\n",
       "      <td></td>\n",
       "    </tr>\n",
       "  </tbody>\n",
       "</table></div>"
      ],
      "text/plain": [
       "<IPython.core.display.HTML object>"
      ]
     },
     "metadata": {},
     "output_type": "display_data"
    }
   ],
   "source": [
    "from IPython.display import display ,HTML\n",
    "\n",
    "review_filtered_html = f\"<h3>review_filtered</h3>\\n{review_filtered.head().to_html(index=False)}\"\n",
    "product_feature_html = f\"<h3>product_feature</h3>\\n{product_feature[['ID', 'tag']].head().to_html(index=False)}\"\n",
    "user_feature_html = f\"<h3>user_feature</h3>\\n{user_feature[['ID', 'tag']].head().to_html(index=False)}\"\n",
    "\n",
    "# Combine HTML for side-by-side display\n",
    "html_combined = f\"<div style='display: inline-block; margin-right: 20px;'>{review_filtered_html}</div>\" \\\n",
    "                f\"<div style='display: inline-block;'>{product_feature_html}</div>\" \\\n",
    "                f\"<div style='display: inline-block; margin-right: 20px;'>{user_feature_html}</div>\"\n",
    "\n",
    "# Display the HTML\n",
    "display(HTML(html_combined))"
   ]
  },
  {
   "cell_type": "markdown",
   "metadata": {},
   "source": [
    "# 2. recommender with LightFM"
   ]
  },
  {
   "cell_type": "markdown",
   "metadata": {},
   "source": [
    "## 2.1 Import libraries"
   ]
  },
  {
   "cell_type": "code",
   "execution_count": 48,
   "metadata": {},
   "outputs": [
    {
     "name": "stdout",
     "output_type": "stream",
     "text": [
      "System version: 3.8.10 (default, Nov 22 2023, 10:22:35) \n",
      "[GCC 9.4.0]\n",
      "LightFM version: 1.17\n"
     ]
    }
   ],
   "source": [
    "import os\n",
    "import sys\n",
    "import itertools\n",
    "import pandas as pd\n",
    "import numpy as np\n",
    "import matplotlib.pyplot as plt\n",
    "import seaborn as sns\n",
    "\n",
    "import lightfm\n",
    "from lightfm import LightFM\n",
    "from lightfm.data import Dataset\n",
    "from lightfm import cross_validation\n",
    "from lightfm.evaluation import precision_at_k as lightfm_prec_at_k\n",
    "from lightfm.evaluation import recall_at_k as lightfm_recall_at_k\n",
    "from lightfm.evaluation import auc_score as lightfm_auc_score\n",
    "\n",
    "from recommenders.evaluation.python_evaluation import precision_at_k, recall_at_k\n",
    "from recommenders.utils.timer import Timer\n",
    "from recommenders.datasets import movielens\n",
    "from recommenders.models.lightfm.lightfm_utils import (\n",
    "    track_model_metrics,\n",
    "    prepare_test_df,\n",
    "    prepare_all_predictions,\n",
    "    compare_metric,\n",
    "    similar_users,\n",
    "    similar_items,\n",
    ")\n",
    "from recommenders.utils.notebook_utils import store_metadata\n",
    "\n",
    "print(\"System version: {}\".format(sys.version))\n",
    "print(\"LightFM version: {}\".format(lightfm.__version__))"
   ]
  },
  {
   "cell_type": "markdown",
   "metadata": {},
   "source": [
    "## 2.2 Defining variables"
   ]
  },
  {
   "cell_type": "code",
   "execution_count": 49,
   "metadata": {},
   "outputs": [],
   "source": [
    "# Select MovieLens data size\n",
    "MOVIELENS_DATA_SIZE = '100k'\n",
    "\n",
    "# default number of recommendations\n",
    "K = 10\n",
    "# percentage of data used for testing\n",
    "TEST_PERCENTAGE = 0.25\n",
    "# model learning rate\n",
    "LEARNING_RATE = 0.25\n",
    "# no of latent factors\n",
    "NO_COMPONENTS = 20\n",
    "# no of epochs to fit model\n",
    "NO_EPOCHS = 200\n",
    "# no of threads to fit model\n",
    "NO_THREADS = 32\n",
    "# regularisation for both user and item features\n",
    "ITEM_ALPHA = 1e-6\n",
    "USER_ALPHA = 1e-6\n",
    "\n",
    "# seed for pseudonumber generations\n",
    "SEED = 42"
   ]
  },
  {
   "cell_type": "markdown",
   "metadata": {},
   "source": [
    "### 2.3 Prepare data"
   ]
  },
  {
   "cell_type": "markdown",
   "metadata": {},
   "source": [
    "Before fitting the LightFM model, we need to create an instance of `Dataset` which holds the interaction matrix."
   ]
  },
  {
   "cell_type": "code",
   "execution_count": 50,
   "metadata": {},
   "outputs": [],
   "source": [
    "dataset = Dataset()"
   ]
  },
  {
   "cell_type": "markdown",
   "metadata": {},
   "source": [
    "The `fit` method creates the user/item id mappings."
   ]
  },
  {
   "cell_type": "code",
   "execution_count": 51,
   "metadata": {},
   "outputs": [
    {
     "name": "stdout",
     "output_type": "stream",
     "text": [
      "Num users: 14282, num_topics: 7451.\n"
     ]
    }
   ],
   "source": [
    "dataset.fit(users=review_filtered['userID'], \n",
    "            items=review_filtered['itemID'])\n",
    "\n",
    "# quick check to determine the number of unique users and items in the data\n",
    "num_users, num_topics = dataset.interactions_shape()\n",
    "print(f'Num users: {num_users}, num_topics: {num_topics}.')"
   ]
  },
  {
   "cell_type": "markdown",
   "metadata": {},
   "source": [
    "Next is to build the interaction matrix. The `build_interactions` method returns 2 COO sparse matrices, namely the `interactions` and `weights` matrices."
   ]
  },
  {
   "cell_type": "code",
   "execution_count": 55,
   "metadata": {},
   "outputs": [],
   "source": [
    "(interactions, weights) = dataset.build_interactions(review_filtered.iloc[:, 2:0:-1].values)"
   ]
  },
  {
   "cell_type": "markdown",
   "metadata": {},
   "source": [
    "LightLM works slightly differently compared to other packages as it expects the train and test sets to have same dimension. Therefore the conventional train test split will not work.\n",
    "\n",
    "The package has included the `cross_validation.random_train_test_split` method to split the interaction data and splits it into two disjoint training and test sets. \n",
    "\n",
    "However, note that **it does not validate the interactions in the test set to guarantee all items and users have historical interactions in the training set**. Therefore this may result into a partial cold-start problem in the test set."
   ]
  },
  {
   "cell_type": "code",
   "execution_count": 56,
   "metadata": {},
   "outputs": [],
   "source": [
    "train_interactions, test_interactions = cross_validation.random_train_test_split(\n",
    "    interactions, test_percentage=TEST_PERCENTAGE,\n",
    "    random_state=np.random.RandomState(SEED))"
   ]
  },
  {
   "cell_type": "markdown",
   "metadata": {},
   "source": [
    "Double check the size of both the train and test sets."
   ]
  },
  {
   "cell_type": "code",
   "execution_count": 57,
   "metadata": {},
   "outputs": [
    {
     "name": "stdout",
     "output_type": "stream",
     "text": [
      "Shape of train interactions: (14282, 7451)\n",
      "Shape of test interactions: (14282, 7451)\n"
     ]
    }
   ],
   "source": [
    "print(f\"Shape of train interactions: {train_interactions.shape}\")\n",
    "print(f\"Shape of test interactions: {test_interactions.shape}\")"
   ]
  },
  {
   "cell_type": "markdown",
   "metadata": {},
   "source": [
    "### 2.4 Fit the LightFM model"
   ]
  },
  {
   "cell_type": "markdown",
   "metadata": {},
   "source": [
    "In this notebook, the LightFM model will be using the weighted Approximate-Rank Pairwise (WARP) as the loss. Further explanation on the topic can be found [here](https://making.lyst.com/lightfm/docs/examples/warp_loss.html#learning-to-rank-using-the-warp-loss).\n",
    "\n",
    "\n",
    "In general, it maximises the rank of positive examples by repeatedly sampling negative examples until a rank violation has been located. This approach is recommended when only positive interactions are present."
   ]
  },
  {
   "cell_type": "code",
   "execution_count": 58,
   "metadata": {},
   "outputs": [],
   "source": [
    "model1 = LightFM(loss='warp', no_components=NO_COMPONENTS, \n",
    "                 learning_rate=LEARNING_RATE,                 \n",
    "                 random_state=np.random.RandomState(SEED))"
   ]
  },
  {
   "cell_type": "markdown",
   "metadata": {},
   "source": [
    "The LightFM model can be fitted with the following code:"
   ]
  },
  {
   "cell_type": "code",
   "execution_count": 59,
   "metadata": {},
   "outputs": [
    {
     "name": "stderr",
     "output_type": "stream",
     "text": [
      "Epoch:   0%|          | 0/200 [00:00<?, ?it/s]"
     ]
    },
    {
     "name": "stderr",
     "output_type": "stream",
     "text": [
      "Epoch: 100%|██████████| 200/200 [00:30<00:00,  6.46it/s]\n"
     ]
    }
   ],
   "source": [
    "model1.fit(interactions=train_interactions,\n",
    "          epochs=NO_EPOCHS, verbose=True);"
   ]
  },
  {
   "cell_type": "markdown",
   "metadata": {},
   "source": [
    "### 2.5 Prepare model evaluation data"
   ]
  },
  {
   "cell_type": "markdown",
   "metadata": {},
   "source": [
    "Before we can evaluate the fitted model and to get the data into a format which is compatible with the existing evaluation methods within this repo, the data needs to be massaged slightly.\n",
    "\n",
    "First the train/test indices need to be extracted from the `lightfm.cross_validation` method as follows:"
   ]
  },
  {
   "cell_type": "code",
   "execution_count": 60,
   "metadata": {},
   "outputs": [],
   "source": [
    "uids, iids, interaction_data = cross_validation._shuffle(\n",
    "    interactions.row, interactions.col, interactions.data, \n",
    "    random_state=np.random.RandomState(SEED))\n",
    "\n",
    "cutoff = int((1.0 - TEST_PERCENTAGE) * len(uids))\n",
    "test_idx = slice(cutoff, None)"
   ]
  },
  {
   "cell_type": "markdown",
   "metadata": {},
   "source": [
    "Then the the mapping between internal and external representation of the user and item are extracted as follows:"
   ]
  },
  {
   "cell_type": "code",
   "execution_count": 61,
   "metadata": {},
   "outputs": [],
   "source": [
    "uid_map, ufeature_map, iid_map, ifeature_map = dataset.mapping()"
   ]
  },
  {
   "cell_type": "markdown",
   "metadata": {},
   "source": [
    "Once the train/test indices and mapping are ready, the test dataframe can be constructed as follows:"
   ]
  },
  {
   "cell_type": "code",
   "execution_count": 62,
   "metadata": {},
   "outputs": [
    {
     "name": "stderr",
     "output_type": "stream",
     "text": [
      "100%|██████████| 33295/33295 [00:01<00:00, 20096.99it/s]"
     ]
    },
    {
     "name": "stdout",
     "output_type": "stream",
     "text": [
      "Took 9.8 seconds for prepare and predict test data.\n"
     ]
    },
    {
     "name": "stderr",
     "output_type": "stream",
     "text": [
      "\n"
     ]
    }
   ],
   "source": [
    "with Timer() as test_time:\n",
    "    test_df = prepare_test_df(test_idx, uids, iids, uid_map, iid_map, weights)\n",
    "print(f\"Took {test_time.interval:.1f} seconds for prepare and predict test data.\")  \n",
    "time_reco1 = test_time.interval"
   ]
  },
  {
   "cell_type": "markdown",
   "metadata": {},
   "source": [
    "And samples of the test dataframe:"
   ]
  },
  {
   "cell_type": "code",
   "execution_count": 63,
   "metadata": {},
   "outputs": [
    {
     "data": {
      "text/html": [
       "<div>\n",
       "<style scoped>\n",
       "    .dataframe tbody tr th:only-of-type {\n",
       "        vertical-align: middle;\n",
       "    }\n",
       "\n",
       "    .dataframe tbody tr th {\n",
       "        vertical-align: top;\n",
       "    }\n",
       "\n",
       "    .dataframe thead th {\n",
       "        text-align: right;\n",
       "    }\n",
       "</style>\n",
       "<table border=\"1\" class=\"dataframe\">\n",
       "  <thead>\n",
       "    <tr style=\"text-align: right;\">\n",
       "      <th></th>\n",
       "      <th>userID</th>\n",
       "      <th>itemID</th>\n",
       "      <th>rating</th>\n",
       "    </tr>\n",
       "  </thead>\n",
       "  <tbody>\n",
       "    <tr>\n",
       "      <th>30229</th>\n",
       "      <td>4212</td>\n",
       "      <td>4718</td>\n",
       "      <td>1.0</td>\n",
       "    </tr>\n",
       "    <tr>\n",
       "      <th>5910</th>\n",
       "      <td>46126</td>\n",
       "      <td>13922</td>\n",
       "      <td>1.0</td>\n",
       "    </tr>\n",
       "    <tr>\n",
       "      <th>26773</th>\n",
       "      <td>81889</td>\n",
       "      <td>25692</td>\n",
       "      <td>1.0</td>\n",
       "    </tr>\n",
       "    <tr>\n",
       "      <th>7063</th>\n",
       "      <td>37114</td>\n",
       "      <td>19208</td>\n",
       "      <td>1.0</td>\n",
       "    </tr>\n",
       "    <tr>\n",
       "      <th>7653</th>\n",
       "      <td>28978</td>\n",
       "      <td>22274</td>\n",
       "      <td>1.0</td>\n",
       "    </tr>\n",
       "  </tbody>\n",
       "</table>\n",
       "</div>"
      ],
      "text/plain": [
       "       userID  itemID  rating\n",
       "30229    4212    4718     1.0\n",
       "5910    46126   13922     1.0\n",
       "26773   81889   25692     1.0\n",
       "7063    37114   19208     1.0\n",
       "7653    28978   22274     1.0"
      ]
     },
     "execution_count": 63,
     "metadata": {},
     "output_type": "execute_result"
    }
   ],
   "source": [
    "test_df.sample(5, random_state=SEED)"
   ]
  },
  {
   "cell_type": "markdown",
   "metadata": {},
   "source": [
    "In addition, the predictions of all unseen user-item pairs (e.g. removing those seen in the training data) can be prepared as follows:"
   ]
  },
  {
   "cell_type": "code",
   "execution_count": 27,
   "metadata": {},
   "outputs": [
    {
     "name": "stdout",
     "output_type": "stream",
     "text": [
      "prepare all predictions\n"
     ]
    },
    {
     "name": "stderr",
     "output_type": "stream",
     "text": [
      "100%|██████████| 5625/5625 [00:00<00:00, 8664.57it/s]\n"
     ]
    },
    {
     "name": "stdout",
     "output_type": "stream",
     "text": [
      "map ratings\n"
     ]
    },
    {
     "name": "stderr",
     "output_type": "stream",
     "text": [
      "100%|█████████▉| 29361818/29362500 [20:07<00:00, 23566.27it/s]"
     ]
    },
    {
     "ename": "",
     "evalue": "",
     "output_type": "error",
     "traceback": [
      "\u001b[1;31mThe Kernel crashed while executing code in the current cell or a previous cell. \n",
      "\u001b[1;31mPlease review the code in the cell(s) to identify a possible cause of the failure. \n",
      "\u001b[1;31mClick <a href='https://aka.ms/vscodeJupyterKernelCrash'>here</a> for more info. \n",
      "\u001b[1;31mView Jupyter <a href='command:jupyter.viewOutput'>log</a> for further details."
     ]
    }
   ],
   "source": [
    "with Timer() as test_time:\n",
    "    all_predictions = prepare_all_predictions(review_filtered, uid_map, iid_map, \n",
    "                                              interactions=train_interactions,\n",
    "                                              model=model1, \n",
    "                                              num_threads=NO_THREADS)\n",
    "print(f\"Took {test_time.interval:.1f} seconds for prepare and predict all data.\")\n",
    "time_reco2 = test_time.interval"
   ]
  },
  {
   "cell_type": "markdown",
   "metadata": {},
   "source": [
    "Samples of the `all_predictions` dataframe:"
   ]
  },
  {
   "cell_type": "code",
   "execution_count": null,
   "metadata": {},
   "outputs": [
    {
     "data": {
      "text/html": [
       "<div>\n",
       "<style scoped>\n",
       "    .dataframe tbody tr th:only-of-type {\n",
       "        vertical-align: middle;\n",
       "    }\n",
       "\n",
       "    .dataframe tbody tr th {\n",
       "        vertical-align: top;\n",
       "    }\n",
       "\n",
       "    .dataframe thead th {\n",
       "        text-align: right;\n",
       "    }\n",
       "</style>\n",
       "<table border=\"1\" class=\"dataframe\">\n",
       "  <thead>\n",
       "    <tr style=\"text-align: right;\">\n",
       "      <th></th>\n",
       "      <th>userID</th>\n",
       "      <th>itemID</th>\n",
       "      <th>prediction</th>\n",
       "    </tr>\n",
       "  </thead>\n",
       "  <tbody>\n",
       "    <tr>\n",
       "      <th>471550</th>\n",
       "      <td>626</td>\n",
       "      <td>1058</td>\n",
       "      <td>79.402306</td>\n",
       "    </tr>\n",
       "    <tr>\n",
       "      <th>373280</th>\n",
       "      <td>474</td>\n",
       "      <td>1564</td>\n",
       "      <td>-32.299191</td>\n",
       "    </tr>\n",
       "    <tr>\n",
       "      <th>1271323</th>\n",
       "      <td>75</td>\n",
       "      <td>1452</td>\n",
       "      <td>-104.067802</td>\n",
       "    </tr>\n",
       "    <tr>\n",
       "      <th>310738</th>\n",
       "      <td>352</td>\n",
       "      <td>1381</td>\n",
       "      <td>-111.917725</td>\n",
       "    </tr>\n",
       "    <tr>\n",
       "      <th>1323612</th>\n",
       "      <td>68</td>\n",
       "      <td>1584</td>\n",
       "      <td>-29.134760</td>\n",
       "    </tr>\n",
       "  </tbody>\n",
       "</table>\n",
       "</div>"
      ],
      "text/plain": [
       "         userID  itemID  prediction\n",
       "471550      626    1058   79.402306\n",
       "373280      474    1564  -32.299191\n",
       "1271323      75    1452 -104.067802\n",
       "310738      352    1381 -111.917725\n",
       "1323612      68    1584  -29.134760"
      ]
     },
     "metadata": {},
     "output_type": "display_data"
    }
   ],
   "source": [
    "all_predictions.sample(5, random_state=SEED)"
   ]
  },
  {
   "cell_type": "markdown",
   "metadata": {},
   "source": [
    "Note that the **raw prediction values from the LightFM model are for ranking purposes only**, they should not be used directly. The magnitude and sign of these values do not have any specific interpretation."
   ]
  },
  {
   "cell_type": "markdown",
   "metadata": {},
   "source": [
    "### 2.6 Model evaluation"
   ]
  },
  {
   "cell_type": "markdown",
   "metadata": {},
   "source": [
    "Once the evaluation data are ready, they can be passed into to the repo's evaluation methods as follows. The performance of the model will be tracked using both Precision@K and Recall@K.\n",
    "\n",
    "In addition, the results have also being compared with those computed from LightFM's own evaluation methods to ensure accuracy."
   ]
  },
  {
   "cell_type": "code",
   "execution_count": null,
   "metadata": {},
   "outputs": [
    {
     "name": "stdout",
     "output_type": "stream",
     "text": [
      "------ Using Repo's evaluation methods ------\n",
      "Precision@K:\t0.131601\n",
      "Recall@K:\t0.038056\n",
      "time:\t5.312\n",
      "\n",
      "------ Using LightFM evaluation methods ------\n",
      "Precision@K:\t0.131601\n",
      "Recall@K:\t0.038056\n",
      "time:\t0.490\n"
     ]
    }
   ],
   "source": [
    "with Timer() as test_time:\n",
    "    eval_precision = precision_at_k(rating_true=test_df, rating_pred=all_predictions, k=K)\n",
    "    eval_recall = recall_at_k(test_df, all_predictions, k=K)\n",
    "time_reco3 = test_time.interval\n",
    "\n",
    "with Timer() as test_time:\n",
    "    eval_precision_lfm = lightfm_prec_at_k(model1, test_interactions, train_interactions, k=K).mean()\n",
    "    eval_recall_lfm = lightfm_recall_at_k(model1, test_interactions, train_interactions, k=K).mean()\n",
    "eval_auc_lfm = lightfm_auc_score(model1, test_interactions, train_interactions).mean()\n",
    "time_lfm = test_time.interval\n",
    "    \n",
    "print(\n",
    "    \"------ Using Repo's evaluation methods ------\",\n",
    "    f\"Precision@K:\\t{eval_precision:.6f}\",\n",
    "    f\"Recall@K:\\t{eval_recall:.6f}\",\n",
    "    f\"time:\\t{time_reco3:.3f}\",\n",
    "    \"\\n------ Using LightFM evaluation methods ------\",\n",
    "    f\"Precision@K:\\t{eval_precision_lfm:.6f}\",\n",
    "    f\"Recall@K:\\t{eval_recall_lfm:.6f}\", \n",
    "    f\"time:\\t{time_lfm:.3f}\",\n",
    "    f\"Recall@K:\\t{eval_auc_lfm:.6f}\", \n",
    "    sep='\\n')"
   ]
  },
  {
   "cell_type": "markdown",
   "metadata": {},
   "source": [
    "## 3. Movie recommender with LightFM using explicit feedbacks and additional item and user features"
   ]
  },
  {
   "cell_type": "markdown",
   "metadata": {},
   "source": [
    "As the LightFM was designed to incorporates both user and item metadata, the model can be extended to include additional features such as movie genres and user occupations."
   ]
  },
  {
   "cell_type": "markdown",
   "metadata": {},
   "source": [
    "### 3.1 Extract and prepare movie genres"
   ]
  },
  {
   "cell_type": "markdown",
   "metadata": {},
   "source": [
    "In this notebook, the movie's genres will be used as the item metadata. As the genres have already been loaded during the initial data import, it can be processed directly as follows:"
   ]
  },
  {
   "cell_type": "code",
   "execution_count": null,
   "metadata": {},
   "outputs": [],
   "source": [
    "# split the genre based on the separator\n",
    "movie_genre = [x.split('|') for x in data['genre']]"
   ]
  },
  {
   "cell_type": "code",
   "execution_count": null,
   "metadata": {},
   "outputs": [
    {
     "data": {
      "text/plain": [
       "['Action',\n",
       " 'Adventure',\n",
       " 'Animation',\n",
       " \"Children's\",\n",
       " 'Comedy',\n",
       " 'Crime',\n",
       " 'Documentary',\n",
       " 'Drama',\n",
       " 'Fantasy',\n",
       " 'Film-Noir',\n",
       " 'Horror',\n",
       " 'Musical',\n",
       " 'Mystery',\n",
       " 'Romance',\n",
       " 'Sci-Fi',\n",
       " 'Thriller',\n",
       " 'War',\n",
       " 'Western',\n",
       " 'unknown']"
      ]
     },
     "metadata": {},
     "output_type": "display_data"
    }
   ],
   "source": [
    "# retrieve the all the unique genres in the data\n",
    "all_movie_genre = sorted(list(set(itertools.chain.from_iterable(movie_genre))))\n",
    "# quick look at the all the genres within the data\n",
    "all_movie_genre"
   ]
  },
  {
   "cell_type": "markdown",
   "metadata": {},
   "source": [
    "### 3.2 Retrieve and prepare movie genres"
   ]
  },
  {
   "cell_type": "markdown",
   "metadata": {},
   "source": [
    "Further user features can be included as part of the model fitting process. In this notebook, **only the occupation of each user will be included** but the feature list can be extended easily.\n"
   ]
  },
  {
   "cell_type": "markdown",
   "metadata": {},
   "source": [
    "#### 3.2.1 Retrieve and merge data"
   ]
  },
  {
   "cell_type": "markdown",
   "metadata": {},
   "source": [
    "The user features can be retrieved directly from the grouplens website and merged with the existing data as follows:"
   ]
  },
  {
   "cell_type": "code",
   "execution_count": null,
   "metadata": {},
   "outputs": [
    {
     "data": {
      "text/html": [
       "<div>\n",
       "<style scoped>\n",
       "    .dataframe tbody tr th:only-of-type {\n",
       "        vertical-align: middle;\n",
       "    }\n",
       "\n",
       "    .dataframe tbody tr th {\n",
       "        vertical-align: top;\n",
       "    }\n",
       "\n",
       "    .dataframe thead th {\n",
       "        text-align: right;\n",
       "    }\n",
       "</style>\n",
       "<table border=\"1\" class=\"dataframe\">\n",
       "  <thead>\n",
       "    <tr style=\"text-align: right;\">\n",
       "      <th></th>\n",
       "      <th>userID</th>\n",
       "      <th>itemID</th>\n",
       "      <th>rating</th>\n",
       "      <th>genre</th>\n",
       "      <th>occupation</th>\n",
       "    </tr>\n",
       "  </thead>\n",
       "  <tbody>\n",
       "    <tr>\n",
       "      <th>75721</th>\n",
       "      <td>455</td>\n",
       "      <td>402</td>\n",
       "      <td>4.0</td>\n",
       "      <td>Comedy|Romance|Thriller</td>\n",
       "      <td>administrator</td>\n",
       "    </tr>\n",
       "    <tr>\n",
       "      <th>80184</th>\n",
       "      <td>746</td>\n",
       "      <td>161</td>\n",
       "      <td>3.0</td>\n",
       "      <td>Action|Romance</td>\n",
       "      <td>engineer</td>\n",
       "    </tr>\n",
       "    <tr>\n",
       "      <th>19864</th>\n",
       "      <td>268</td>\n",
       "      <td>12</td>\n",
       "      <td>4.0</td>\n",
       "      <td>Crime|Thriller</td>\n",
       "      <td>engineer</td>\n",
       "    </tr>\n",
       "    <tr>\n",
       "      <th>76699</th>\n",
       "      <td>600</td>\n",
       "      <td>1004</td>\n",
       "      <td>4.0</td>\n",
       "      <td>Drama|Western</td>\n",
       "      <td>programmer</td>\n",
       "    </tr>\n",
       "    <tr>\n",
       "      <th>92991</th>\n",
       "      <td>396</td>\n",
       "      <td>125</td>\n",
       "      <td>3.0</td>\n",
       "      <td>Drama|Romance</td>\n",
       "      <td>engineer</td>\n",
       "    </tr>\n",
       "  </tbody>\n",
       "</table>\n",
       "</div>"
      ],
      "text/plain": [
       "       userID  itemID  rating                    genre     occupation\n",
       "75721     455     402     4.0  Comedy|Romance|Thriller  administrator\n",
       "80184     746     161     3.0           Action|Romance       engineer\n",
       "19864     268      12     4.0           Crime|Thriller       engineer\n",
       "76699     600    1004     4.0            Drama|Western     programmer\n",
       "92991     396     125     3.0            Drama|Romance       engineer"
      ]
     },
     "metadata": {},
     "output_type": "display_data"
    }
   ],
   "source": [
    "user_feature_URL = 'http://files.grouplens.org/datasets/movielens/ml-100k/u.user'\n",
    "columns = ['userID','age','gender','occupation','zipcode']\n",
    "user_data = pd.read_table(user_feature_URL, sep='|', header=None, names=columns)\n",
    "\n",
    "# merging user feature with existing data\n",
    "new_data = data.merge(user_data[['userID','occupation']], left_on='userID', right_on='userID')\n",
    "# quick look at the merged data\n",
    "new_data.sample(5, random_state=SEED)"
   ]
  },
  {
   "cell_type": "markdown",
   "metadata": {},
   "source": [
    "#### 3.2.2 Extract and prepare user occupations"
   ]
  },
  {
   "cell_type": "code",
   "execution_count": null,
   "metadata": {},
   "outputs": [],
   "source": [
    "# retrieve all the unique occupations in the data\n",
    "all_occupations = sorted(list(set(new_data['occupation'])))"
   ]
  },
  {
   "cell_type": "markdown",
   "metadata": {},
   "source": [
    "### 3.3 Prepare data and features"
   ]
  },
  {
   "cell_type": "markdown",
   "metadata": {},
   "source": [
    "Similar to the previous model, the data is required to be converted into a `Dataset` instance and then create a user/item id mapping with the `fit` method."
   ]
  },
  {
   "cell_type": "code",
   "execution_count": null,
   "metadata": {},
   "outputs": [],
   "source": [
    "dataset2 = Dataset()\n",
    "dataset2.fit(data['userID'], \n",
    "            data['itemID'], \n",
    "            item_features=all_movie_genre,\n",
    "            user_features=all_occupations)"
   ]
  },
  {
   "cell_type": "markdown",
   "metadata": {},
   "source": [
    "The movie genres are then converted into a item feature matrix using the `build_item_features` method as follows:"
   ]
  },
  {
   "cell_type": "code",
   "execution_count": null,
   "metadata": {},
   "outputs": [],
   "source": [
    "item_features = dataset2.build_item_features((x, y) for x,y in zip(data.itemID, movie_genre))"
   ]
  },
  {
   "cell_type": "markdown",
   "metadata": {},
   "source": [
    "The user occupations are then converted into an user feature matrix using the `build_user_features` method as follows:"
   ]
  },
  {
   "cell_type": "code",
   "execution_count": null,
   "metadata": {},
   "outputs": [],
   "source": [
    "user_features = dataset2.build_user_features((x, [y]) for x,y in zip(new_data.userID, new_data['occupation']))"
   ]
  },
  {
   "cell_type": "markdown",
   "metadata": {},
   "source": [
    "Once the item and user features matrices have been completed, the next steps are similar as before, which is to build the interaction matrix and split the interactions into train and test sets as follows:"
   ]
  },
  {
   "cell_type": "code",
   "execution_count": null,
   "metadata": {},
   "outputs": [],
   "source": [
    "interactions2, weights2 = dataset2.build_interactions(data.iloc[:, 0:3].values)\n",
    "\n",
    "train_interactions2, test_interactions2 = cross_validation.random_train_test_split(\n",
    "    interactions2, \n",
    "    test_percentage=TEST_PERCENTAGE,\n",
    "    random_state=np.random.RandomState(SEED)\n",
    ")"
   ]
  },
  {
   "cell_type": "markdown",
   "metadata": {},
   "source": [
    "### 3.3 Fit the LightFM model with additional user and item features"
   ]
  },
  {
   "cell_type": "markdown",
   "metadata": {},
   "source": [
    "The parameters of the second model will be similar to the first model to facilitates comparison.\n",
    "\n",
    "The model performance at each epoch is also tracked by the same metrics as before."
   ]
  },
  {
   "cell_type": "code",
   "execution_count": null,
   "metadata": {},
   "outputs": [],
   "source": [
    "model2 = LightFM(loss='warp', no_components=NO_COMPONENTS, \n",
    "                 learning_rate=LEARNING_RATE, \n",
    "                 item_alpha=ITEM_ALPHA,\n",
    "                 user_alpha=USER_ALPHA,\n",
    "                 random_state=np.random.RandomState(SEED)\n",
    "                )"
   ]
  },
  {
   "cell_type": "markdown",
   "metadata": {},
   "source": [
    "The LightFM model can then be fitted:"
   ]
  },
  {
   "cell_type": "code",
   "execution_count": null,
   "metadata": {},
   "outputs": [
    {
     "data": {
      "text/plain": [
       "<lightfm.lightfm.LightFM at 0x7f266da52610>"
      ]
     },
     "metadata": {},
     "output_type": "display_data"
    }
   ],
   "source": [
    "model2.fit(interactions=train_interactions2,\n",
    "           user_features=user_features,\n",
    "           item_features=item_features,\n",
    "           epochs=NO_EPOCHS\n",
    "           )"
   ]
  },
  {
   "cell_type": "markdown",
   "metadata": {},
   "source": [
    "### 3.4 Prepare model evaluation data"
   ]
  },
  {
   "cell_type": "markdown",
   "metadata": {},
   "source": [
    "Similar to the previous model, the evaluation data needs to be prepared in order to get them into a format consumable with this repo's evaluation methods.\n",
    "\n",
    "Firstly the train/test indices and id mappings are extracted using the new interations matrix as follows:"
   ]
  },
  {
   "cell_type": "code",
   "execution_count": null,
   "metadata": {},
   "outputs": [],
   "source": [
    "uids, iids, interaction_data = cross_validation._shuffle(\n",
    "    interactions2.row, \n",
    "    interactions2.col, \n",
    "    interactions2.data, \n",
    "    random_state=np.random.RandomState(SEED)\n",
    ")\n",
    "\n",
    "uid_map, ufeature_map, iid_map, ifeature_map = dataset2.mapping()"
   ]
  },
  {
   "cell_type": "markdown",
   "metadata": {},
   "source": [
    "The test dataframe is then constructed as follows:"
   ]
  },
  {
   "cell_type": "code",
   "execution_count": null,
   "metadata": {},
   "outputs": [
    {
     "name": "stderr",
     "output_type": "stream",
     "text": [
      "100%|██████████| 25000/25000 [00:01<00:00, 18637.98it/s]"
     ]
    },
    {
     "name": "stdout",
     "output_type": "stream",
     "text": [
      "Took 2.4 seconds for prepare and predict test data.\n"
     ]
    },
    {
     "name": "stderr",
     "output_type": "stream",
     "text": [
      "\n"
     ]
    }
   ],
   "source": [
    "with Timer() as test_time:\n",
    "    test_df2 = prepare_test_df(test_idx, uids, iids, uid_map, iid_map, weights2)\n",
    "print(f\"Took {test_time.interval:.1f} seconds for prepare and predict test data.\")  "
   ]
  },
  {
   "cell_type": "markdown",
   "metadata": {},
   "source": [
    "The predictions of all unseen user-item pairs can be prepared as follows:"
   ]
  },
  {
   "cell_type": "code",
   "execution_count": null,
   "metadata": {},
   "outputs": [
    {
     "name": "stderr",
     "output_type": "stream",
     "text": [
      "100%|██████████| 1586126/1586126 [01:06<00:00, 24003.76it/s]\n",
      "100%|██████████| 1511126/1511126 [17:22<00:00, 1449.00it/s]"
     ]
    },
    {
     "name": "stdout",
     "output_type": "stream",
     "text": [
      "Took 1118.6 seconds for prepare and predict all data.\n"
     ]
    },
    {
     "name": "stderr",
     "output_type": "stream",
     "text": [
      "\n"
     ]
    }
   ],
   "source": [
    "with Timer() as test_time:\n",
    "    all_predictions2 = prepare_all_predictions(data, uid_map, iid_map, \n",
    "                                              interactions=train_interactions2,\n",
    "                                               user_features=user_features,\n",
    "                                               item_features=item_features,\n",
    "                                               model=model2,\n",
    "                                               num_threads=NO_THREADS)\n",
    "\n",
    "print(f\"Took {test_time.interval:.1f} seconds for prepare and predict all data.\")"
   ]
  },
  {
   "cell_type": "markdown",
   "metadata": {},
   "source": [
    "### 3.5 Model evaluation and comparison"
   ]
  },
  {
   "cell_type": "markdown",
   "metadata": {},
   "source": [
    "The predictive performance of the new model can be computed and compared with the previous model (which used only the explicit rating) as follows:"
   ]
  },
  {
   "cell_type": "code",
   "execution_count": null,
   "metadata": {},
   "outputs": [
    {
     "name": "stdout",
     "output_type": "stream",
     "text": [
      "------ Using only explicit ratings ------\n",
      "Precision@K:\t0.131601\n",
      "Recall@K:\t0.038056\n",
      "\n",
      "------ Using both implicit and explicit ratings ------\n",
      "Precision@K:\t0.143372\n",
      "Recall@K:\t0.051515\n"
     ]
    }
   ],
   "source": [
    "eval_precision2 = precision_at_k(rating_true=test_df2, \n",
    "                                rating_pred=all_predictions2, k=K)\n",
    "eval_recall2 = recall_at_k(test_df2, all_predictions2, k=K)\n",
    "\n",
    "print(\n",
    "    \"------ Using only explicit ratings ------\",\n",
    "    f\"Precision@K:\\t{eval_precision:.6f}\",\n",
    "    f\"Recall@K:\\t{eval_recall:.6f}\",\n",
    "    \"\\n------ Using both implicit and explicit ratings ------\",\n",
    "    f\"Precision@K:\\t{eval_precision2:.6f}\",\n",
    "    f\"Recall@K:\\t{eval_recall2:.6f}\",\n",
    "    sep='\\n')"
   ]
  },
  {
   "cell_type": "markdown",
   "metadata": {},
   "source": [
    "The new model which used both implicit and explicit data performed consistently better than the previous model which used only the explicit data, thus highlighting the benefits of including such additional features to the model."
   ]
  },
  {
   "cell_type": "markdown",
   "metadata": {},
   "source": [
    "### 3.6 Evaluation metrics comparison"
   ]
  },
  {
   "cell_type": "markdown",
   "metadata": {},
   "source": [
    "Note that the evaluation approaches here are solely for demonstration purposes only.\n",
    "\n",
    "If the reader were using the LightFM package and/or its models, the LightFM's built-in evaluation methods are much more efficient and are the recommended approach for production usage as they are designed and optimised to work with the package. If the reader wants to compare LigthFM with other algorithms in Recommenders repository, it is better to use the evaluation tools in Recommenders.\n",
    "\n",
    "As a comparison, the times recorded to evaluate model1 are shown as follows:"
   ]
  },
  {
   "cell_type": "code",
   "execution_count": null,
   "metadata": {},
   "outputs": [
    {
     "name": "stdout",
     "output_type": "stream",
     "text": [
      "------ Using Repo's evaluation methods ------\n",
      "Time [sec]:\t1475.0\n",
      "\n",
      "------ Using LightFM evaluation methods ------\n",
      "Time [sec]:\t0.5\n"
     ]
    }
   ],
   "source": [
    "print(\n",
    "    \"------ Using Repo's evaluation methods ------\",\n",
    "    f\"Time [sec]:\\t{(time_reco1+time_reco2+time_reco3):.1f}\",\n",
    "    \"\\n------ Using LightFM evaluation methods ------\",\n",
    "    f\"Time [sec]:\\t{time_lfm:.1f}\",\n",
    "    sep='\\n')"
   ]
  },
  {
   "cell_type": "markdown",
   "metadata": {},
   "source": [
    "## 4. Evaluate model fitting process"
   ]
  },
  {
   "cell_type": "markdown",
   "metadata": {},
   "source": [
    "In addition to the inclusion of both implicit and explicit data, the model fitting process can also be monitored in order to determine whether the model is being trained properly. \n",
    "\n",
    "This notebook also includes a `track_model_metrics` method which plots the model's metrics e.g. Precision@K and Recall@K as model fitting progresses.\n",
    "\n",
    "For the first model (using only explicit data), the model fitting progress is shown as follows:"
   ]
  },
  {
   "cell_type": "code",
   "execution_count": null,
   "metadata": {},
   "outputs": [
    {
     "data": {
      "image/png": "[encoded data removed]",
      "text/plain": [
       "<Figure size 682.5x300 with 2 Axes>"
      ]
     },
     "metadata": {},
     "output_type": "display_data"
    }
   ],
   "source": [
    "output1, _ = track_model_metrics(model=model1, \n",
    "                                 train_interactions=train_interactions, \n",
    "                                 test_interactions=test_interactions, \n",
    "                                 k=K,\n",
    "                                 no_epochs=NO_EPOCHS, \n",
    "                                 no_threads=NO_THREADS)"
   ]
  },
  {
   "cell_type": "markdown",
   "metadata": {},
   "source": [
    "The second model (with both implicit and explicit data) fitting progress:"
   ]
  },
  {
   "cell_type": "code",
   "execution_count": null,
   "metadata": {},
   "outputs": [
    {
     "data": {
      "image/png": "[encoded data removed]",
      "text/plain": [
       "<Figure size 682.5x300 with 2 Axes>"
      ]
     },
     "metadata": {},
     "output_type": "display_data"
    }
   ],
   "source": [
    "output2, _ = track_model_metrics(model=model2, \n",
    "                                 train_interactions=train_interactions2, \n",
    "                                 test_interactions=test_interactions2, \n",
    "                                 k=K,                              \n",
    "                                 no_epochs=NO_EPOCHS, \n",
    "                                 no_threads=NO_THREADS, \n",
    "                                 item_features=item_features,\n",
    "                                 user_features=user_features)"
   ]
  },
  {
   "cell_type": "markdown",
   "metadata": {},
   "source": [
    "These show slightly different behaviour with the two approaches, the reader can then tune the hyperparameters to improve the model fitting process.\n"
   ]
  },
  {
   "cell_type": "markdown",
   "metadata": {},
   "source": [
    "### 4.1 Performance comparison"
   ]
  },
  {
   "cell_type": "markdown",
   "metadata": {},
   "source": [
    "In addition, the model's performance metrics (based on the test dataset) can be plotted together to facilitate easier comparison as follows:"
   ]
  },
  {
   "cell_type": "code",
   "execution_count": null,
   "metadata": {},
   "outputs": [
    {
     "data": {
      "image/png": "[encoded data removed]",
      "text/plain": [
       "<Figure size 640x480 with 1 Axes>"
      ]
     },
     "metadata": {},
     "output_type": "display_data"
    },
    {
     "data": {
      "image/png": "[encoded data removed]",
      "text/plain": [
       "<Figure size 640x480 with 1 Axes>"
      ]
     },
     "metadata": {},
     "output_type": "display_data"
    }
   ],
   "source": [
    "for i in ['Precision', 'Recall', 'AUC']:\n",
    "    sns.set_palette(\"Set2\")\n",
    "    plt.figure()\n",
    "    sns.scatterplot(x=\"epoch\", \n",
    "                    y=\"value\", \n",
    "                    hue='data',\n",
    "                    data=compare_metric(df_list = [output1, output2], metric=i)\n",
    "                   ).set_title(f'{i} comparison using test set');"
   ]
  },
  {
   "cell_type": "code",
   "execution_count": null,
   "metadata": {},
   "outputs": [],
   "source": [
    "auc_score_1 = lightfm_auc_score( \n",
    "        model1, test_interactions, train_interactions,\n",
    "        num_threads=8).mean()\n",
    "\n",
    "auc_score_2 = lightfm_auc_score( \n",
    "        model2, test_interactions2, train_interactions2, user_features=user_features, item_features=item_features, \n",
    "        num_threads=8).mean()"
   ]
  },
  {
   "cell_type": "code",
   "execution_count": null,
   "metadata": {},
   "outputs": [
    {
     "data": {
      "text/plain": [
       "(0.84126884, 0.86115015)"
      ]
     },
     "metadata": {},
     "output_type": "display_data"
    }
   ],
   "source": [
    "auc_score_1, auc_score_2"
   ]
  },
  {
   "cell_type": "markdown",
   "metadata": {},
   "source": [
    "Referring to the figures above, it is rather obvious that the number of epochs is too low as the model's performances have not stabilised. Reader can decide on the number of epochs and other hyperparameters to adjust suit the application.\n",
    "\n",
    "As stated previously, it is interesting to see model2 (using both implicit and explicit data) performed consistently better than model1 (using only explicit ratings). "
   ]
  },
  {
   "cell_type": "markdown",
   "metadata": {},
   "source": [
    "## 5. Similar users and items"
   ]
  },
  {
   "cell_type": "markdown",
   "metadata": {},
   "source": [
    "As the LightFM package operates based on latent embeddings, these can be retrieved once the model has been fitted to assess user-user and/or item-item affinity."
   ]
  },
  {
   "cell_type": "markdown",
   "metadata": {},
   "source": [
    "### 5.1 User affinity"
   ]
  },
  {
   "cell_type": "markdown",
   "metadata": {},
   "source": [
    "The user-user affinity can be retrieved with the `get_user_representations` method from the fitted model as follows:"
   ]
  },
  {
   "cell_type": "code",
   "execution_count": null,
   "metadata": {},
   "outputs": [
    {
     "data": {
      "text/plain": [
       "array([[-0.21063931, -1.1855344 ,  1.7477101 , ...,  2.956625  ,\n",
       "        -2.4791205 ,  3.6644025 ],\n",
       "       [-0.75674057,  0.7742681 ,  2.8317728 , ...,  3.6863408 ,\n",
       "        -4.324531  ,  4.1035767 ],\n",
       "       [-0.22949821,  2.1204798 ,  1.3568478 , ...,  1.0313106 ,\n",
       "        -5.474852  ,  4.5991907 ],\n",
       "       ...,\n",
       "       [ 1.6361976 , -1.3406836 ,  2.6016808 , ...,  2.2879155 ,\n",
       "        -2.5354466 ,  3.3360822 ],\n",
       "       [-0.7454586 ,  0.77087927,  2.7763193 , ...,  3.6080742 ,\n",
       "        -4.18906   ,  3.9646206 ],\n",
       "       [-1.253258  ,  1.5773958 ,  1.9461527 , ...,  3.371489  ,\n",
       "        -4.010922  ,  4.6178393 ]], dtype=float32)"
      ]
     },
     "metadata": {},
     "output_type": "display_data"
    }
   ],
   "source": [
    "_, user_embeddings = model2.get_user_representations(features=user_features)\n",
    "user_embeddings"
   ]
  },
  {
   "cell_type": "markdown",
   "metadata": {},
   "source": [
    "In order to retrieve the top N similar users, we can use the `similar_users` from `recommenders`. For example, if we want to choose top 10 users most similar to the user 1:"
   ]
  },
  {
   "cell_type": "code",
   "execution_count": null,
   "metadata": {},
   "outputs": [
    {
     "data": {
      "text/html": [
       "<div>\n",
       "<style scoped>\n",
       "    .dataframe tbody tr th:only-of-type {\n",
       "        vertical-align: middle;\n",
       "    }\n",
       "\n",
       "    .dataframe tbody tr th {\n",
       "        vertical-align: top;\n",
       "    }\n",
       "\n",
       "    .dataframe thead th {\n",
       "        text-align: right;\n",
       "    }\n",
       "</style>\n",
       "<table border=\"1\" class=\"dataframe\">\n",
       "  <thead>\n",
       "    <tr style=\"text-align: right;\">\n",
       "      <th></th>\n",
       "      <th>userID</th>\n",
       "      <th>score</th>\n",
       "    </tr>\n",
       "  </thead>\n",
       "  <tbody>\n",
       "    <tr>\n",
       "      <th>0</th>\n",
       "      <td>555</td>\n",
       "      <td>0.999999</td>\n",
       "    </tr>\n",
       "    <tr>\n",
       "      <th>1</th>\n",
       "      <td>54</td>\n",
       "      <td>0.999998</td>\n",
       "    </tr>\n",
       "    <tr>\n",
       "      <th>2</th>\n",
       "      <td>314</td>\n",
       "      <td>0.999995</td>\n",
       "    </tr>\n",
       "    <tr>\n",
       "      <th>3</th>\n",
       "      <td>395</td>\n",
       "      <td>0.999994</td>\n",
       "    </tr>\n",
       "    <tr>\n",
       "      <th>4</th>\n",
       "      <td>465</td>\n",
       "      <td>0.999994</td>\n",
       "    </tr>\n",
       "    <tr>\n",
       "      <th>5</th>\n",
       "      <td>481</td>\n",
       "      <td>0.999994</td>\n",
       "    </tr>\n",
       "    <tr>\n",
       "      <th>6</th>\n",
       "      <td>282</td>\n",
       "      <td>0.999993</td>\n",
       "    </tr>\n",
       "    <tr>\n",
       "      <th>7</th>\n",
       "      <td>527</td>\n",
       "      <td>0.999993</td>\n",
       "    </tr>\n",
       "    <tr>\n",
       "      <th>8</th>\n",
       "      <td>411</td>\n",
       "      <td>0.999992</td>\n",
       "    </tr>\n",
       "    <tr>\n",
       "      <th>9</th>\n",
       "      <td>881</td>\n",
       "      <td>0.999986</td>\n",
       "    </tr>\n",
       "  </tbody>\n",
       "</table>\n",
       "</div>"
      ],
      "text/plain": [
       "   userID     score\n",
       "0     555  0.999999\n",
       "1      54  0.999998\n",
       "2     314  0.999995\n",
       "3     395  0.999994\n",
       "4     465  0.999994\n",
       "5     481  0.999994\n",
       "6     282  0.999993\n",
       "7     527  0.999993\n",
       "8     411  0.999992\n",
       "9     881  0.999986"
      ]
     },
     "metadata": {},
     "output_type": "display_data"
    }
   ],
   "source": [
    "similar_users(user_id=1, \n",
    "              user_features=user_features, \n",
    "              model=model2)"
   ]
  },
  {
   "cell_type": "markdown",
   "metadata": {},
   "source": [
    "### 5.2 Item affinity"
   ]
  },
  {
   "cell_type": "markdown",
   "metadata": {},
   "source": [
    "Similar to the user affinity, the item-item affinity can be retrieved with the `get_item_representations` method using the fitted model."
   ]
  },
  {
   "cell_type": "code",
   "execution_count": null,
   "metadata": {},
   "outputs": [
    {
     "data": {
      "text/plain": [
       "array([[ 0.21875654,  0.4265887 ,  0.74579424, ...,  0.83563685,\n",
       "        -1.1177105 ,  0.9383874 ],\n",
       "       [ 0.16888407,  0.47610795,  0.86247116, ...,  1.0432467 ,\n",
       "        -1.0398555 ,  1.0684679 ],\n",
       "       [ 0.1448543 ,  0.59444225,  0.8099842 , ...,  0.81349605,\n",
       "        -1.0454067 ,  0.84652305],\n",
       "       ...,\n",
       "       [ 0.2720778 ,  0.02725954,  0.2605585 , ...,  0.2989042 ,\n",
       "        -0.40973735,  0.23907483],\n",
       "       [-0.55318254, -0.41106042,  0.5032477 , ...,  1.1808646 ,\n",
       "        -0.6489976 ,  0.91652644],\n",
       "       [-0.26365614, -0.27856615,  0.8784231 , ...,  0.7883837 ,\n",
       "        -0.75104433,  0.83417124]], dtype=float32)"
      ]
     },
     "metadata": {},
     "output_type": "display_data"
    }
   ],
   "source": [
    "_, item_embeddings = model2.get_item_representations(features=item_features)\n",
    "item_embeddings"
   ]
  },
  {
   "cell_type": "markdown",
   "metadata": {},
   "source": [
    "The function to retrieve the top N similar items is similar to similar_users() above. For example, if we want to choose top 10 items most similar to the item 10:"
   ]
  },
  {
   "cell_type": "code",
   "execution_count": null,
   "metadata": {},
   "outputs": [
    {
     "data": {
      "text/html": [
       "<div>\n",
       "<style scoped>\n",
       "    .dataframe tbody tr th:only-of-type {\n",
       "        vertical-align: middle;\n",
       "    }\n",
       "\n",
       "    .dataframe tbody tr th {\n",
       "        vertical-align: top;\n",
       "    }\n",
       "\n",
       "    .dataframe thead th {\n",
       "        text-align: right;\n",
       "    }\n",
       "</style>\n",
       "<table border=\"1\" class=\"dataframe\">\n",
       "  <thead>\n",
       "    <tr style=\"text-align: right;\">\n",
       "      <th></th>\n",
       "      <th>itemID</th>\n",
       "      <th>score</th>\n",
       "    </tr>\n",
       "  </thead>\n",
       "  <tbody>\n",
       "    <tr>\n",
       "      <th>0</th>\n",
       "      <td>417</td>\n",
       "      <td>0.999497</td>\n",
       "    </tr>\n",
       "    <tr>\n",
       "      <th>1</th>\n",
       "      <td>373</td>\n",
       "      <td>0.999292</td>\n",
       "    </tr>\n",
       "    <tr>\n",
       "      <th>2</th>\n",
       "      <td>12</td>\n",
       "      <td>0.999131</td>\n",
       "    </tr>\n",
       "    <tr>\n",
       "      <th>3</th>\n",
       "      <td>231</td>\n",
       "      <td>0.999130</td>\n",
       "    </tr>\n",
       "    <tr>\n",
       "      <th>4</th>\n",
       "      <td>182</td>\n",
       "      <td>0.999119</td>\n",
       "    </tr>\n",
       "    <tr>\n",
       "      <th>5</th>\n",
       "      <td>474</td>\n",
       "      <td>0.999111</td>\n",
       "    </tr>\n",
       "    <tr>\n",
       "      <th>6</th>\n",
       "      <td>76</td>\n",
       "      <td>0.999083</td>\n",
       "    </tr>\n",
       "    <tr>\n",
       "      <th>7</th>\n",
       "      <td>253</td>\n",
       "      <td>0.999078</td>\n",
       "    </tr>\n",
       "    <tr>\n",
       "      <th>8</th>\n",
       "      <td>573</td>\n",
       "      <td>0.999045</td>\n",
       "    </tr>\n",
       "    <tr>\n",
       "      <th>9</th>\n",
       "      <td>296</td>\n",
       "      <td>0.999031</td>\n",
       "    </tr>\n",
       "  </tbody>\n",
       "</table>\n",
       "</div>"
      ],
      "text/plain": [
       "   itemID     score\n",
       "0     417  0.999497\n",
       "1     373  0.999292\n",
       "2      12  0.999131\n",
       "3     231  0.999130\n",
       "4     182  0.999119\n",
       "5     474  0.999111\n",
       "6      76  0.999083\n",
       "7     253  0.999078\n",
       "8     573  0.999045\n",
       "9     296  0.999031"
      ]
     },
     "metadata": {},
     "output_type": "display_data"
    }
   ],
   "source": [
    "similar_items(item_id=10, \n",
    "              item_features=item_features, \n",
    "              model=model2)"
   ]
  },
  {
   "cell_type": "code",
   "execution_count": null,
   "metadata": {},
   "outputs": [],
   "source": [
    "# Record results for tests - ignore this cell\n",
    "store_metadata(\"eval_precision\", eval_precision)\n",
    "store_metadata(\"eval_recall\", eval_recall)\n",
    "store_metadata(\"eval_precision2\", eval_precision2)\n",
    "store_metadata(\"eval_recall2\", eval_recall2)\n"
   ]
  }
 ],
 "metadata": {
  "kernelspec": {
   "display_name": "Python 3",
   "language": "python",
   "name": "python3"
  },
  "language_info": {
   "codemirror_mode": {
    "name": "ipython",
    "version": 3
   },
   "file_extension": ".py",
   "mimetype": "text/x-python",
   "name": "python",
   "nbconvert_exporter": "python",
   "pygments_lexer": "ipython3",
   "version": "3.8.10"
  }
 },
 "nbformat": 4,
 "nbformat_minor": 2
}
