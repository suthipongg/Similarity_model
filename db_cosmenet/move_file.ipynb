{
 "cells": [
  {
   "cell_type": "markdown",
   "metadata": {},
   "source": [
    "# Clean database"
   ]
  },
  {
   "cell_type": "code",
   "execution_count": 2,
   "metadata": {},
   "outputs": [],
   "source": [
    "import os\n",
    "import pandas as pd\n",
    "from tqdm import tqdm"
   ]
  },
  {
   "cell_type": "markdown",
   "metadata": {},
   "source": [
    "## move file"
   ]
  },
  {
   "cell_type": "code",
   "execution_count": 2,
   "metadata": {},
   "outputs": [],
   "source": [
    "db_path = '/app/nfs_clientshare/Datasets/temp_db/2024-02-28-ส่งเทรนรูป-8'\n",
    "new_db_path = '/app/nfs_clientshare/Datasets/temp_db'"
   ]
  },
  {
   "cell_type": "code",
   "execution_count": 19,
   "metadata": {},
   "outputs": [],
   "source": [
    "def is_barcode(file):\n",
    "    if set('arcodบาร์์โค้ด') & set(file.lower()):\n",
    "        return True\n",
    "    return False"
   ]
  },
  {
   "cell_type": "code",
   "execution_count": 20,
   "metadata": {},
   "outputs": [],
   "source": [
    "def check_dir_exit(id, model):\n",
    "    if not os.path.exists(f'{new_db_path}/{model}/{id}'):\n",
    "        os.makedirs(f'{new_db_path}/{model}/{id}')"
   ]
  },
  {
   "cell_type": "code",
   "execution_count": 25,
   "metadata": {},
   "outputs": [
    {
     "name": "stderr",
     "output_type": "stream",
     "text": [
      "690it [00:12, 56.50it/s]\n"
     ]
    }
   ],
   "source": [
    "for root, dirs, files in tqdm(os.walk(db_path)):\n",
    "    for file in files:\n",
    "        product_id = os.path.basename(root)\n",
    "        if is_barcode(file):\n",
    "            check_dir_exit(product_id, 'barcode')\n",
    "            if os.path.exists(f'{new_db_path}/barcode/{product_id}/{file}'):\n",
    "                print(f'{root}/{file}')\n",
    "            else:\n",
    "                os.rename(f'{root}/{file}', f'{new_db_path}/barcode/{product_id}/{file}')\n",
    "        else:\n",
    "            check_dir_exit(product_id, 'product')\n",
    "            if os.path.exists(f'{new_db_path}/product/{product_id}/{file}'):\n",
    "                print(f'{root}/{file}')\n",
    "            else:\n",
    "                os.rename(f'{root}/{file}', f'{new_db_path}/product/{product_id}/{file}')"
   ]
  },
  {
   "cell_type": "code",
   "execution_count": 4,
   "metadata": {},
   "outputs": [
    {
     "name": "stderr",
     "output_type": "stream",
     "text": [
      "0it [00:00, ?it/s]"
     ]
    },
    {
     "name": "stderr",
     "output_type": "stream",
     "text": [
      "50it [00:00, 161.59it/s]\n"
     ]
    }
   ],
   "source": [
    "product_path = new_db_path + '/product'\n",
    "ls_data = []\n",
    "for root, dirs, files in tqdm(os.walk(product_path)):\n",
    "    for file in files:\n",
    "        id = os.path.basename(root)\n",
    "        image_path = root+'/'+file\n",
    "        ls_data.append([id, image_path])"
   ]
  },
  {
   "cell_type": "code",
   "execution_count": 5,
   "metadata": {},
   "outputs": [],
   "source": [
    "ls_data = pd.DataFrame(ls_data, columns=['id', 'image_path'])\n",
    "ls_data['id'] = ls_data['id'].astype(int)"
   ]
  },
  {
   "cell_type": "code",
   "execution_count": 3,
   "metadata": {},
   "outputs": [],
   "source": [
    "from PIL import Image"
   ]
  },
  {
   "cell_type": "code",
   "execution_count": 30,
   "metadata": {},
   "outputs": [
    {
     "name": "stderr",
     "output_type": "stream",
     "text": [
      "9603it [00:26, 362.89it/s]\n"
     ]
    }
   ],
   "source": [
    "for index, row in tqdm(ls_data.iterrows()):\n",
    "    try:\n",
    "        img = Image.open(row['image_path'])\n",
    "        img.verify()\n",
    "    except:\n",
    "        print(row['image_path'])"
   ]
  },
  {
   "cell_type": "markdown",
   "metadata": {},
   "source": [
    "## check duplicate"
   ]
  },
  {
   "cell_type": "code",
   "execution_count": 6,
   "metadata": {},
   "outputs": [],
   "source": [
    "current_code = pd.read_csv('result.csv')\n",
    "new_barcode = pd.read_csv('barcode_found.csv')\n",
    "old_barcode = pd.read_csv('barcode_old_found.csv')"
   ]
  },
  {
   "cell_type": "code",
   "execution_count": 21,
   "metadata": {},
   "outputs": [],
   "source": [
    "duplicate_index = old_barcode[old_barcode['CODE'].isin(current_code['code'])].index\n"
   ]
  },
  {
   "cell_type": "code",
   "execution_count": 22,
   "metadata": {},
   "outputs": [],
   "source": [
    "old_barcode.drop(duplicate_index, inplace=True)"
   ]
  },
  {
   "cell_type": "code",
   "execution_count": 27,
   "metadata": {},
   "outputs": [],
   "source": [
    "duplicate_id_index = old_barcode[old_barcode['id'].isin(current_code['product_id'])].index"
   ]
  },
  {
   "cell_type": "code",
   "execution_count": 28,
   "metadata": {},
   "outputs": [],
   "source": [
    "old_barcode.drop(duplicate_id_index, inplace=True)"
   ]
  },
  {
   "cell_type": "code",
   "execution_count": 32,
   "metadata": {},
   "outputs": [
    {
     "data": {
      "text/html": [
       "<div>\n",
       "<style scoped>\n",
       "    .dataframe tbody tr th:only-of-type {\n",
       "        vertical-align: middle;\n",
       "    }\n",
       "\n",
       "    .dataframe tbody tr th {\n",
       "        vertical-align: top;\n",
       "    }\n",
       "\n",
       "    .dataframe thead th {\n",
       "        text-align: right;\n",
       "    }\n",
       "</style>\n",
       "<table border=\"1\" class=\"dataframe\">\n",
       "  <thead>\n",
       "    <tr style=\"text-align: right;\">\n",
       "      <th></th>\n",
       "      <th>id</th>\n",
       "      <th>image_path</th>\n",
       "      <th>CODE</th>\n",
       "    </tr>\n",
       "  </thead>\n",
       "  <tbody>\n",
       "    <tr>\n",
       "      <th>0</th>\n",
       "      <td>44286</td>\n",
       "      <td>/app/nfs_clientshare/Datasets/cosmenet_scanpro...</td>\n",
       "      <td>689304181891</td>\n",
       "    </tr>\n",
       "    <tr>\n",
       "      <th>1</th>\n",
       "      <td>44286</td>\n",
       "      <td>/app/nfs_clientshare/Datasets/cosmenet_scanpro...</td>\n",
       "      <td>689304181884</td>\n",
       "    </tr>\n",
       "    <tr>\n",
       "      <th>2</th>\n",
       "      <td>42798</td>\n",
       "      <td>/app/nfs_clientshare/Datasets/cosmenet_scanpro...</td>\n",
       "      <td>8859572899930</td>\n",
       "    </tr>\n",
       "    <tr>\n",
       "      <th>3</th>\n",
       "      <td>44243</td>\n",
       "      <td>/app/nfs_clientshare/Datasets/cosmenet_scanpro...</td>\n",
       "      <td>810763038949</td>\n",
       "    </tr>\n",
       "    <tr>\n",
       "      <th>4</th>\n",
       "      <td>36648</td>\n",
       "      <td>/app/nfs_clientshare/Datasets/cosmenet_scanpro...</td>\n",
       "      <td>4548863002022</td>\n",
       "    </tr>\n",
       "    <tr>\n",
       "      <th>...</th>\n",
       "      <td>...</td>\n",
       "      <td>...</td>\n",
       "      <td>...</td>\n",
       "    </tr>\n",
       "    <tr>\n",
       "      <th>246</th>\n",
       "      <td>44559</td>\n",
       "      <td>/app/nfs_clientshare/Datasets/cosmenet_scanpro...</td>\n",
       "      <td>815402021269</td>\n",
       "    </tr>\n",
       "    <tr>\n",
       "      <th>247</th>\n",
       "      <td>47397</td>\n",
       "      <td>/app/nfs_clientshare/Datasets/cosmenet_scanpro...</td>\n",
       "      <td>18084014363</td>\n",
       "    </tr>\n",
       "    <tr>\n",
       "      <th>248</th>\n",
       "      <td>39721</td>\n",
       "      <td>/app/nfs_clientshare/Datasets/cosmenet_scanpro...</td>\n",
       "      <td>5939141217</td>\n",
       "    </tr>\n",
       "    <tr>\n",
       "      <th>249</th>\n",
       "      <td>37794</td>\n",
       "      <td>/app/nfs_clientshare/Datasets/cosmenet_scanpro...</td>\n",
       "      <td>6917246013357</td>\n",
       "    </tr>\n",
       "    <tr>\n",
       "      <th>250</th>\n",
       "      <td>36819</td>\n",
       "      <td>/app/nfs_clientshare/Datasets/cosmenet_scanpro...</td>\n",
       "      <td>8809198843046</td>\n",
       "    </tr>\n",
       "  </tbody>\n",
       "</table>\n",
       "<p>234 rows × 3 columns</p>\n",
       "</div>"
      ],
      "text/plain": [
       "        id                                         image_path           CODE\n",
       "0    44286  /app/nfs_clientshare/Datasets/cosmenet_scanpro...   689304181891\n",
       "1    44286  /app/nfs_clientshare/Datasets/cosmenet_scanpro...   689304181884\n",
       "2    42798  /app/nfs_clientshare/Datasets/cosmenet_scanpro...  8859572899930\n",
       "3    44243  /app/nfs_clientshare/Datasets/cosmenet_scanpro...   810763038949\n",
       "4    36648  /app/nfs_clientshare/Datasets/cosmenet_scanpro...  4548863002022\n",
       "..     ...                                                ...            ...\n",
       "246  44559  /app/nfs_clientshare/Datasets/cosmenet_scanpro...   815402021269\n",
       "247  47397  /app/nfs_clientshare/Datasets/cosmenet_scanpro...    18084014363\n",
       "248  39721  /app/nfs_clientshare/Datasets/cosmenet_scanpro...     5939141217\n",
       "249  37794  /app/nfs_clientshare/Datasets/cosmenet_scanpro...  6917246013357\n",
       "250  36819  /app/nfs_clientshare/Datasets/cosmenet_scanpro...  8809198843046\n",
       "\n",
       "[234 rows x 3 columns]"
      ]
     },
     "execution_count": 32,
     "metadata": {},
     "output_type": "execute_result"
    }
   ],
   "source": [
    "old_barcode"
   ]
  },
  {
   "cell_type": "code",
   "execution_count": 37,
   "metadata": {},
   "outputs": [
    {
     "data": {
      "text/plain": [
       "'/app/nfs_clientshare/Datasets/temp_db/barcode/36679/36679_Barcode#3.7ml..jpg'"
      ]
     },
     "execution_count": 37,
     "metadata": {},
     "output_type": "execute_result"
    }
   ],
   "source": [
    "new_barcode.image_path[0]"
   ]
  },
  {
   "cell_type": "code",
   "execution_count": 55,
   "metadata": {},
   "outputs": [],
   "source": [
    "new_scan = os.listdir('/app/nfs_clientshare/Datasets/temp_db/product')"
   ]
  },
  {
   "cell_type": "code",
   "execution_count": 57,
   "metadata": {},
   "outputs": [],
   "source": [
    "new_scan = pd.DataFrame(new_scan, columns=['id'])"
   ]
  },
  {
   "cell_type": "code",
   "execution_count": 60,
   "metadata": {},
   "outputs": [
    {
     "name": "stderr",
     "output_type": "stream",
     "text": [
      "683it [00:03, 184.05it/s]\n"
     ]
    }
   ],
   "source": [
    "list_file = []\n",
    "for root, dirs, files in tqdm(os.walk('/app/nfs_clientshare/Datasets/temp_db/product')):\n",
    "    for file in files:\n",
    "        pid = os.path.basename(root)\n",
    "        list_file.append([pid, root+'/'+file, file])\n",
    "list_file = pd.DataFrame(list_file, columns=['id', 'image_path', 'file_name'])"
   ]
  },
  {
   "cell_type": "code",
   "execution_count": 59,
   "metadata": {},
   "outputs": [],
   "source": [
    "link = 'https://chat.cosmenet.in.th/chatbot/upload/product/scan/'"
   ]
  },
  {
   "cell_type": "code",
   "execution_count": 62,
   "metadata": {},
   "outputs": [],
   "source": [
    "list_file['full_path'] = link + list_file['id'].astype(str) + '/' + list_file['file_name']"
   ]
  },
  {
   "cell_type": "code",
   "execution_count": 68,
   "metadata": {},
   "outputs": [],
   "source": [
    "import requests"
   ]
  },
  {
   "cell_type": "code",
   "execution_count": 73,
   "metadata": {},
   "outputs": [],
   "source": [
    "def insert_data(body, tag_name):\n",
    "    response = requests.post(\n",
    "        url=\"http://10.148.0.15:4445/\" + tag_name + \"/insert\", \n",
    "        json=body,\n",
    "        headers={\n",
    "            \"Content-Type\": \"application/json\", \n",
    "            'Authorization': 'Bearer dev'\n",
    "            },\n",
    "    )\n",
    "    fail = response.json()['datas_failed']\n",
    "    if len(fail) > 0:\n",
    "        print(fail)\n",
    "        return False\n",
    "    return response"
   ]
  },
  {
   "cell_type": "code",
   "execution_count": 74,
   "metadata": {},
   "outputs": [],
   "source": [
    "def find_link_id(id):\n",
    "    response = requests.get(\n",
    "            url=f\"http://10.148.0.15:4445/product?page_start=1&page_size=10&filter_fields=%27_id%27&filter=%7B%22product_id%22%3A{id}%7D&all_data=false\", \n",
    "            headers={\n",
    "                \"Content-Type\": \"application/json\", \n",
    "                'Authorization': 'Bearer dev'\n",
    "                },\n",
    "    )\n",
    "    return response.json()['datas'][0]['id']"
   ]
  },
  {
   "cell_type": "code",
   "execution_count": 78,
   "metadata": {},
   "outputs": [
    {
     "name": "stderr",
     "output_type": "stream",
     "text": [
      "100%|██████████| 9603/9603 [3:39:45<00:00,  1.37s/it]  \n"
     ]
    }
   ],
   "source": [
    "scan_body = {\n",
    "  \"image_path\": \"\",\n",
    "  \"product_link\": \"\",\n",
    "  \"update_by\": \"music\",\n",
    "}\n",
    "\n",
    "for i in tqdm(range(len(list_file))):\n",
    "  prouct_id = str(list_file.iloc[i]['id'])\n",
    "  scan_body['image_path'] = list_file.iloc[i]['full_path']\n",
    "  scan_body['product_link'] = find_link_id(prouct_id)\n",
    "  if not insert_data(scan_body, 'scan'):\n",
    "      print(f'index {i}')\n",
    "      break"
   ]
  },
  {
   "cell_type": "markdown",
   "metadata": {
    "jp-MarkdownHeadingCollapsed": true
   },
   "source": [
    "# Join data"
   ]
  },
  {
   "cell_type": "code",
   "execution_count": 46,
   "metadata": {},
   "outputs": [
    {
     "data": {
      "text/html": [
       "<div>\n",
       "<style scoped>\n",
       "    .dataframe tbody tr th:only-of-type {\n",
       "        vertical-align: middle;\n",
       "    }\n",
       "\n",
       "    .dataframe tbody tr th {\n",
       "        vertical-align: top;\n",
       "    }\n",
       "\n",
       "    .dataframe thead th {\n",
       "        text-align: right;\n",
       "    }\n",
       "</style>\n",
       "<table border=\"1\" class=\"dataframe\">\n",
       "  <thead>\n",
       "    <tr style=\"text-align: right;\">\n",
       "      <th></th>\n",
       "      <th>EID</th>\n",
       "      <th>TIMESTAMP_X</th>\n",
       "      <th>BID</th>\n",
       "      <th>ACTIVE</th>\n",
       "      <th>PRODUCT_NAME</th>\n",
       "      <th>PREVIEW_PICTURE</th>\n",
       "      <th>PRODUCT_URL</th>\n",
       "      <th>SCID</th>\n",
       "      <th>FILE_NAME</th>\n",
       "    </tr>\n",
       "  </thead>\n",
       "  <tbody>\n",
       "    <tr>\n",
       "      <th>0</th>\n",
       "      <td>102</td>\n",
       "      <td>2022-06-28 20:09:51</td>\n",
       "      <td>1497</td>\n",
       "      <td>Y</td>\n",
       "      <td>Beneficial Make Off Perfect Eye &amp; Lip Makeup R...</td>\n",
       "      <td>https://www.cosmenet.in.th/upload/iblock/b09/B...</td>\n",
       "      <td>https://www.cosmenet.in.th/product/102</td>\n",
       "      <td>73.0</td>\n",
       "      <td>Beneficial-Make-Off-Perfect-Eye-Lip-Makeup-Rem...</td>\n",
       "    </tr>\n",
       "  </tbody>\n",
       "</table>\n",
       "</div>"
      ],
      "text/plain": [
       "   EID          TIMESTAMP_X   BID ACTIVE  \\\n",
       "0  102  2022-06-28 20:09:51  1497      Y   \n",
       "\n",
       "                                        PRODUCT_NAME  \\\n",
       "0  Beneficial Make Off Perfect Eye & Lip Makeup R...   \n",
       "\n",
       "                                     PREVIEW_PICTURE  \\\n",
       "0  https://www.cosmenet.in.th/upload/iblock/b09/B...   \n",
       "\n",
       "                              PRODUCT_URL  SCID  \\\n",
       "0  https://www.cosmenet.in.th/product/102  73.0   \n",
       "\n",
       "                                           FILE_NAME  \n",
       "0  Beneficial-Make-Off-Perfect-Eye-Lip-Makeup-Rem...  "
      ]
     },
     "execution_count": 46,
     "metadata": {},
     "output_type": "execute_result"
    }
   ],
   "source": [
    "import pandas as pd\n",
    "import numpy as np\n",
    "from tqdm import tqdm\n",
    "from IPython.display import display ,HTML\n",
    "import requests, os\n",
    "from PIL import Image\n",
    "from io import BytesIO\n",
    "from pyzbar.pyzbar import decode\n",
    "from tqdm.auto import tqdm\n",
    "from pathlib import Path\n",
    "\n",
    "b_file_path = 'raw_data_production/b_file.csv'\n",
    "b_iblock_element_path = 'raw_data_production/b_iblock_element.csv'\n",
    "b_iblock_element_property_path = 'raw_data_production/b_iblock_element_property.csv'\n",
    "b_iblock_property_path = 'raw_data_production/b_iblock_property.csv'\n",
    "b_iblock_section_element_path = 'raw_data_production/b_iblock_section_element.csv'\n",
    "b_iblock_section_path = 'raw_data_production/b_iblock_section.csv'\n",
    "b_iblock_path = 'raw_data_production/b_iblock.csv'\n",
    "\n",
    "b_iblock_element_property = pd.read_csv(b_iblock_element_property_path, usecols=['ID', 'IBLOCK_PROPERTY_ID', 'IBLOCK_ELEMENT_ID', 'VALUE'])\n",
    "b_file = pd.read_csv(b_file_path, usecols=['ID', 'SUBDIR', 'FILE_NAME', 'ORIGINAL_NAME'])\n",
    "b_iblock_element = pd.read_csv(b_iblock_element_path, usecols=['ID', 'IBLOCK_ID', 'IBLOCK_SECTION_ID', 'ACTIVE', 'NAME', 'PREVIEW_PICTURE', 'TIMESTAMP_X'])\n",
    "b_iblock_property = pd.read_csv(b_iblock_property_path, usecols=['ID', 'IBLOCK_ID', 'NAME', 'ACTIVE'])\n",
    "b_iblock_section_element = pd.read_csv(b_iblock_section_element_path, usecols=['IBLOCK_SECTION_ID', 'IBLOCK_ELEMENT_ID'])\n",
    "b_iblock_section = pd.read_csv(b_iblock_section_path, usecols=['ID', 'IBLOCK_ID', 'IBLOCK_SECTION_ID', 'NAME', 'ACTIVE', 'DEPTH_LEVEL', 'TIMESTAMP_X'])\n",
    "b_iblock = pd.read_csv(b_iblock_path, usecols=['ID', 'IBLOCK_TYPE_ID', 'NAME'])\n",
    "\n",
    "url_404 = 'https://viterbischool.usc.edu/wp-content/uploads/2023/10/404.jpg'\n",
    "oops_url = 'https://colorlib.com/wp/wp-content/uploads/sites/2/404-error-page-templates.jpg'\n",
    "cosmenet_upload_url_prefix = 'https://www.cosmenet.in.th/upload/'\n",
    "product_url_prefix = 'https://www.cosmenet.in.th/product/'\n",
    "\n",
    "# Filter only brand and drop maker\n",
    "brand_and_maker_iblock_index = b_iblock_section['IBLOCK_ID'] == 17\n",
    "brand_depth_index = b_iblock_section['DEPTH_LEVEL'] == 2\n",
    "brand_data = b_iblock_section[brand_and_maker_iblock_index & brand_depth_index]\n",
    "brand_data = brand_data.drop(columns=['IBLOCK_ID', 'DEPTH_LEVEL'])\n",
    "brand_data.rename(columns={'ID': 'BID', 'NAME': 'BRAND_NAME', 'IBLOCK_SECTION_ID':'MID'}, inplace=True)\n",
    "brand_data = brand_data.astype({'MID': 'int32'})\n",
    "# Check for duplicate brand name\n",
    "brand_duplicate_unique = brand_data[brand_data['BRAND_NAME'].duplicated()].sort_values(by='BRAND_NAME')['BRAND_NAME'].unique()\n",
    "brand_duplicate = brand_data[brand_data['BRAND_NAME'].isin(brand_duplicate_unique)]\\\n",
    "    .sort_values(['BRAND_NAME', 'BID'])[['BID', 'BRAND_NAME']]\n",
    "# brand not active\n",
    "brand_not_active_index = brand_data['ACTIVE'] == 'N'\n",
    "brand_not_active_data = brand_data[brand_not_active_index]\n",
    "brand_not_active_data = brand_not_active_data.drop(columns=['ACTIVE'])\n",
    "# brand active\n",
    "brand_active_index = brand_data['ACTIVE'] == 'Y'\n",
    "brand_active_data = brand_data[brand_active_index]\n",
    "brand_active_data = brand_active_data.drop(columns=['ACTIVE'])\n",
    "\n",
    "brand_data.reset_index(drop=True, inplace=True)\n",
    "\n",
    "# Filter only category and subcategory\n",
    "cat_and_subcat_block_index = b_iblock_section['IBLOCK_ID'] == 6\n",
    "cat_subcat_data = b_iblock_section[cat_and_subcat_block_index]\n",
    "cat_subcat_data = cat_subcat_data.drop(columns=['IBLOCK_ID'])\n",
    "# not active\n",
    "cat_subcat_not_active_index = cat_subcat_data['ACTIVE'] == 'N'\n",
    "cat_subcat_not_active_data = cat_subcat_data[cat_subcat_not_active_index]\n",
    "cat_subcat_not_active_data = cat_subcat_not_active_data.drop(columns=['ACTIVE'])\n",
    "# active\n",
    "cat_subcat_active_index = cat_subcat_data['ACTIVE'] == 'Y'\n",
    "cat_subcat_active_data = cat_subcat_data[cat_subcat_active_index]\n",
    "cat_subcat_active_data = cat_subcat_active_data.drop(columns=['ACTIVE'])\n",
    "\n",
    "# Filter only category and drop subcategory\n",
    "category_data = cat_subcat_data[cat_subcat_data['DEPTH_LEVEL'] == 1]\n",
    "category_data = category_data.drop(columns=['DEPTH_LEVEL', 'IBLOCK_SECTION_ID'])\n",
    "category_data.rename(columns={'ID': 'CID', 'NAME': 'CATEGORY_NAME'}, inplace=True)\n",
    "category_data.reset_index(drop=True, inplace=True)\n",
    "\n",
    "# Merge category and subcategory\n",
    "subcategory_data = pd.merge(cat_subcat_data, cat_subcat_data, left_on='IBLOCK_SECTION_ID', right_on='ID')\n",
    "midcategory_index = subcategory_data['DEPTH_LEVEL_x'] == 2\n",
    "subcategory_data = subcategory_data[~midcategory_index]\n",
    "subcategory_data.drop(columns=['DEPTH_LEVEL_x', 'DEPTH_LEVEL_y', 'ID_y', 'NAME_y', 'IBLOCK_SECTION_ID_x', 'TIMESTAMP_X_y', 'ACTIVE_y'], inplace=True)\n",
    "subcategory_data.rename(columns={'ID_x': 'SCID', 'NAME_x': 'SUBCATEGORY_NAME', 'IBLOCK_SECTION_ID_y': 'CID', \n",
    "                                 'TIMESTAMP_X_x':'TIMESTAMP_X', 'ACTIVE_x':'ACTIVE'}, inplace=True)\n",
    "subcategory_data = subcategory_data.astype({'CID': 'int32'})\n",
    "subcategory_data.reset_index(drop=True, inplace=True)\n",
    "\n",
    "# Filter only product\n",
    "product_block_index = b_iblock_element['IBLOCK_ID'] == 17\n",
    "product_data = b_iblock_element[product_block_index]\n",
    "product_data = product_data.drop(columns=['IBLOCK_ID'])\n",
    "product_data.rename(columns={'ID': 'EID', 'IBLOCK_SECTION_ID': 'BID', 'NAME': 'PRODUCT_NAME'}, inplace=True)\n",
    "# Check brand not provided\n",
    "product_not_BID = product_data[product_data['BID'].isna()]\n",
    "product_data = product_data.astype({'BID': 'int32'})\n",
    "# create product url\n",
    "product_data['PRODUCT_URL'] = product_data['EID'].apply(lambda x: product_url_prefix + str(x))\n",
    "# merge product with category and subcategory\n",
    "subcat_link_data = pd.merge(b_iblock_section_element, subcategory_data.drop(columns=['ACTIVE']), how='right', left_on='IBLOCK_SECTION_ID', right_on='SCID')\n",
    "subcat_link_data.drop(columns=['IBLOCK_SECTION_ID', 'SUBCATEGORY_NAME', 'CID', 'TIMESTAMP_X'], inplace=True)\n",
    "product_data_linked= pd.merge(product_data, subcat_link_data, how='left', left_on='EID', right_on='IBLOCK_ELEMENT_ID')\n",
    "product_data_linked.drop(columns=['IBLOCK_ELEMENT_ID'], inplace=True)\n",
    "# create product preview image\n",
    "product_data_linked = pd.merge(product_data_linked, b_file, left_on='PREVIEW_PICTURE', right_on='ID', how='left')\n",
    "\n",
    "product_data_linked['PREVIEW_PICTURE'] = product_data_linked.apply(lambda x: cosmenet_upload_url_prefix + x['SUBDIR'] \n",
    "                                                                   if not pd.isna(x['PREVIEW_PICTURE']) \n",
    "                                                                   else None, axis=1)\n",
    "def check_url(x):\n",
    "    if not pd.isna(x['FILE_NAME']):\n",
    "        return x['PREVIEW_PICTURE'] + '/' + x['FILE_NAME']\n",
    "    else:\n",
    "        return None\n",
    "product_data_linked['PREVIEW_PICTURE'] = product_data_linked.apply(lambda x: check_url(x), axis=1)\n",
    "product_data_linked.drop(columns=['ID', 'SUBDIR', 'ORIGINAL_NAME'], inplace=True)\n",
    "# active\n",
    "product_active_index = product_data_linked['ACTIVE'] == 'Y'\n",
    "product_active_data = product_data_linked[product_active_index]\n",
    "product_active_data = product_active_data.drop(columns=['ACTIVE'])\n",
    "product_active_data = product_active_data.astype({'SCID': 'int32'})\n",
    "# not active\n",
    "product_not_active_index = product_data_linked['ACTIVE'] == 'N'\n",
    "product_not_active_data = product_data_linked[product_not_active_index]\n",
    "product_not_active_data = product_not_active_data.drop(columns=['ACTIVE'])\n",
    "\n",
    "product_data_linked.reset_index(drop=True, inplace=True)\n",
    "product_data_linked.head(1)"
   ]
  },
  {
   "cell_type": "code",
   "execution_count": null,
   "metadata": {},
   "outputs": [],
   "source": [
    "ls_data[~(ls_data['id'].isin(product_data_linked['EID']))]"
   ]
  }
 ],
 "metadata": {
  "kernelspec": {
   "display_name": "Python 3 (ipykernel)",
   "language": "python",
   "name": "python3"
  },
  "language_info": {
   "codemirror_mode": {
    "name": "ipython",
    "version": 3
   },
   "file_extension": ".py",
   "mimetype": "text/x-python",
   "name": "python",
   "nbconvert_exporter": "python",
   "pygments_lexer": "ipython3",
   "version": "3.8.10"
  }
 },
 "nbformat": 4,
 "nbformat_minor": 4
}
