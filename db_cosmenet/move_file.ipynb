{
 "cells": [
  {
   "cell_type": "code",
   "execution_count": 38,
   "metadata": {},
   "outputs": [],
   "source": [
    "import os\n",
    "import pandas as pd\n",
    "from tqdm import tqdm"
   ]
  },
  {
   "cell_type": "code",
   "execution_count": 28,
   "metadata": {},
   "outputs": [],
   "source": [
    "db_path = '/app/nfs_clientshare/Datasets/Cosmenet_product_20240220'\n",
    "new_db_path = '/app/nfs_clientshare/Datasets/cosmenet_scanproduct_clean'"
   ]
  },
  {
   "cell_type": "code",
   "execution_count": 35,
   "metadata": {},
   "outputs": [],
   "source": [
    "def is_barcode(file):\n",
    "    if set('arcodบาร์์ค้ด') & set(file.lower()):\n",
    "        return True\n",
    "    return False"
   ]
  },
  {
   "cell_type": "code",
   "execution_count": 30,
   "metadata": {},
   "outputs": [],
   "source": [
    "def check_dir_exit(id, model):\n",
    "    if not os.path.exists(f'{new_db_path}/{model}/{id}'):\n",
    "        os.makedirs(f'{new_db_path}/{model}/{id}')"
   ]
  },
  {
   "cell_type": "code",
   "execution_count": 37,
   "metadata": {},
   "outputs": [
    {
     "name": "stderr",
     "output_type": "stream",
     "text": [
      "6726it [00:02, 2363.33it/s]\n"
     ]
    }
   ],
   "source": [
    "for root, dirs, files in tqdm(os.walk(db_path)):\n",
    "    for file in files:\n",
    "        product_id = os.path.basename(root)\n",
    "        if is_barcode(file):\n",
    "            check_dir_exit(product_id, 'barcode')\n",
    "            os.rename(f'{root}/{file}', f'{new_db_path}/barcode/{product_id}/{file}')\n",
    "        else:\n",
    "            check_dir_exit(product_id, 'product')\n",
    "            os.rename(f'{root}/{file}', f'{new_db_path}/product/{product_id}/{file}')"
   ]
  },
  {
   "cell_type": "code",
   "execution_count": 45,
   "metadata": {},
   "outputs": [
    {
     "name": "stderr",
     "output_type": "stream",
     "text": [
      "6631it [00:03, 1929.54it/s]\n"
     ]
    }
   ],
   "source": [
    "product_path = new_db_path + '/product'\n",
    "ls_data = []\n",
    "for root, dirs, files in tqdm(os.walk(product_path)):\n",
    "    for file in files:\n",
    "        id = os.path.basename(root)\n",
    "        image_path = root+'/'+file\n",
    "        ls_data.append([id, image_path])"
   ]
  },
  {
   "cell_type": "code",
   "execution_count": 54,
   "metadata": {},
   "outputs": [],
   "source": [
    "ls_data = pd.DataFrame(ls_data, columns=['id', 'image_path'])\n",
    "ls_data['id'] = ls_data['id'].astype(int)"
   ]
  },
  {
   "cell_type": "code",
   "execution_count": 46,
   "metadata": {},
   "outputs": [
    {
     "data": {
      "text/html": [
       "<div>\n",
       "<style scoped>\n",
       "    .dataframe tbody tr th:only-of-type {\n",
       "        vertical-align: middle;\n",
       "    }\n",
       "\n",
       "    .dataframe tbody tr th {\n",
       "        vertical-align: top;\n",
       "    }\n",
       "\n",
       "    .dataframe thead th {\n",
       "        text-align: right;\n",
       "    }\n",
       "</style>\n",
       "<table border=\"1\" class=\"dataframe\">\n",
       "  <thead>\n",
       "    <tr style=\"text-align: right;\">\n",
       "      <th></th>\n",
       "      <th>EID</th>\n",
       "      <th>TIMESTAMP_X</th>\n",
       "      <th>BID</th>\n",
       "      <th>ACTIVE</th>\n",
       "      <th>PRODUCT_NAME</th>\n",
       "      <th>PREVIEW_PICTURE</th>\n",
       "      <th>PRODUCT_URL</th>\n",
       "      <th>SCID</th>\n",
       "      <th>FILE_NAME</th>\n",
       "    </tr>\n",
       "  </thead>\n",
       "  <tbody>\n",
       "    <tr>\n",
       "      <th>0</th>\n",
       "      <td>102</td>\n",
       "      <td>2022-06-28 20:09:51</td>\n",
       "      <td>1497</td>\n",
       "      <td>Y</td>\n",
       "      <td>Beneficial Make Off Perfect Eye &amp; Lip Makeup R...</td>\n",
       "      <td>https://www.cosmenet.in.th/upload/iblock/b09/B...</td>\n",
       "      <td>https://www.cosmenet.in.th/product/102</td>\n",
       "      <td>73.0</td>\n",
       "      <td>Beneficial-Make-Off-Perfect-Eye-Lip-Makeup-Rem...</td>\n",
       "    </tr>\n",
       "  </tbody>\n",
       "</table>\n",
       "</div>"
      ],
      "text/plain": [
       "   EID          TIMESTAMP_X   BID ACTIVE  \\\n",
       "0  102  2022-06-28 20:09:51  1497      Y   \n",
       "\n",
       "                                        PRODUCT_NAME  \\\n",
       "0  Beneficial Make Off Perfect Eye & Lip Makeup R...   \n",
       "\n",
       "                                     PREVIEW_PICTURE  \\\n",
       "0  https://www.cosmenet.in.th/upload/iblock/b09/B...   \n",
       "\n",
       "                              PRODUCT_URL  SCID  \\\n",
       "0  https://www.cosmenet.in.th/product/102  73.0   \n",
       "\n",
       "                                           FILE_NAME  \n",
       "0  Beneficial-Make-Off-Perfect-Eye-Lip-Makeup-Rem...  "
      ]
     },
     "execution_count": 46,
     "metadata": {},
     "output_type": "execute_result"
    }
   ],
   "source": [
    "import pandas as pd\n",
    "import numpy as np\n",
    "from tqdm import tqdm\n",
    "from IPython.display import display ,HTML\n",
    "import requests, os\n",
    "from PIL import Image\n",
    "from io import BytesIO\n",
    "from pyzbar.pyzbar import decode\n",
    "from tqdm.auto import tqdm\n",
    "from pathlib import Path\n",
    "\n",
    "b_file_path = 'raw_data_production/b_file.csv'\n",
    "b_iblock_element_path = 'raw_data_production/b_iblock_element.csv'\n",
    "b_iblock_element_property_path = 'raw_data_production/b_iblock_element_property.csv'\n",
    "b_iblock_property_path = 'raw_data_production/b_iblock_property.csv'\n",
    "b_iblock_section_element_path = 'raw_data_production/b_iblock_section_element.csv'\n",
    "b_iblock_section_path = 'raw_data_production/b_iblock_section.csv'\n",
    "b_iblock_path = 'raw_data_production/b_iblock.csv'\n",
    "\n",
    "b_iblock_element_property = pd.read_csv(b_iblock_element_property_path, usecols=['ID', 'IBLOCK_PROPERTY_ID', 'IBLOCK_ELEMENT_ID', 'VALUE'])\n",
    "b_file = pd.read_csv(b_file_path, usecols=['ID', 'SUBDIR', 'FILE_NAME', 'ORIGINAL_NAME'])\n",
    "b_iblock_element = pd.read_csv(b_iblock_element_path, usecols=['ID', 'IBLOCK_ID', 'IBLOCK_SECTION_ID', 'ACTIVE', 'NAME', 'PREVIEW_PICTURE', 'TIMESTAMP_X'])\n",
    "b_iblock_property = pd.read_csv(b_iblock_property_path, usecols=['ID', 'IBLOCK_ID', 'NAME', 'ACTIVE'])\n",
    "b_iblock_section_element = pd.read_csv(b_iblock_section_element_path, usecols=['IBLOCK_SECTION_ID', 'IBLOCK_ELEMENT_ID'])\n",
    "b_iblock_section = pd.read_csv(b_iblock_section_path, usecols=['ID', 'IBLOCK_ID', 'IBLOCK_SECTION_ID', 'NAME', 'ACTIVE', 'DEPTH_LEVEL', 'TIMESTAMP_X'])\n",
    "b_iblock = pd.read_csv(b_iblock_path, usecols=['ID', 'IBLOCK_TYPE_ID', 'NAME'])\n",
    "\n",
    "url_404 = 'https://viterbischool.usc.edu/wp-content/uploads/2023/10/404.jpg'\n",
    "oops_url = 'https://colorlib.com/wp/wp-content/uploads/sites/2/404-error-page-templates.jpg'\n",
    "cosmenet_upload_url_prefix = 'https://www.cosmenet.in.th/upload/'\n",
    "product_url_prefix = 'https://www.cosmenet.in.th/product/'\n",
    "\n",
    "# Filter only brand and drop maker\n",
    "brand_and_maker_iblock_index = b_iblock_section['IBLOCK_ID'] == 17\n",
    "brand_depth_index = b_iblock_section['DEPTH_LEVEL'] == 2\n",
    "brand_data = b_iblock_section[brand_and_maker_iblock_index & brand_depth_index]\n",
    "brand_data = brand_data.drop(columns=['IBLOCK_ID', 'DEPTH_LEVEL'])\n",
    "brand_data.rename(columns={'ID': 'BID', 'NAME': 'BRAND_NAME', 'IBLOCK_SECTION_ID':'MID'}, inplace=True)\n",
    "brand_data = brand_data.astype({'MID': 'int32'})\n",
    "# Check for duplicate brand name\n",
    "brand_duplicate_unique = brand_data[brand_data['BRAND_NAME'].duplicated()].sort_values(by='BRAND_NAME')['BRAND_NAME'].unique()\n",
    "brand_duplicate = brand_data[brand_data['BRAND_NAME'].isin(brand_duplicate_unique)]\\\n",
    "    .sort_values(['BRAND_NAME', 'BID'])[['BID', 'BRAND_NAME']]\n",
    "# brand not active\n",
    "brand_not_active_index = brand_data['ACTIVE'] == 'N'\n",
    "brand_not_active_data = brand_data[brand_not_active_index]\n",
    "brand_not_active_data = brand_not_active_data.drop(columns=['ACTIVE'])\n",
    "# brand active\n",
    "brand_active_index = brand_data['ACTIVE'] == 'Y'\n",
    "brand_active_data = brand_data[brand_active_index]\n",
    "brand_active_data = brand_active_data.drop(columns=['ACTIVE'])\n",
    "\n",
    "brand_data.reset_index(drop=True, inplace=True)\n",
    "\n",
    "# Filter only category and subcategory\n",
    "cat_and_subcat_block_index = b_iblock_section['IBLOCK_ID'] == 6\n",
    "cat_subcat_data = b_iblock_section[cat_and_subcat_block_index]\n",
    "cat_subcat_data = cat_subcat_data.drop(columns=['IBLOCK_ID'])\n",
    "# not active\n",
    "cat_subcat_not_active_index = cat_subcat_data['ACTIVE'] == 'N'\n",
    "cat_subcat_not_active_data = cat_subcat_data[cat_subcat_not_active_index]\n",
    "cat_subcat_not_active_data = cat_subcat_not_active_data.drop(columns=['ACTIVE'])\n",
    "# active\n",
    "cat_subcat_active_index = cat_subcat_data['ACTIVE'] == 'Y'\n",
    "cat_subcat_active_data = cat_subcat_data[cat_subcat_active_index]\n",
    "cat_subcat_active_data = cat_subcat_active_data.drop(columns=['ACTIVE'])\n",
    "\n",
    "# Filter only category and drop subcategory\n",
    "category_data = cat_subcat_data[cat_subcat_data['DEPTH_LEVEL'] == 1]\n",
    "category_data = category_data.drop(columns=['DEPTH_LEVEL', 'IBLOCK_SECTION_ID'])\n",
    "category_data.rename(columns={'ID': 'CID', 'NAME': 'CATEGORY_NAME'}, inplace=True)\n",
    "category_data.reset_index(drop=True, inplace=True)\n",
    "\n",
    "# Merge category and subcategory\n",
    "subcategory_data = pd.merge(cat_subcat_data, cat_subcat_data, left_on='IBLOCK_SECTION_ID', right_on='ID')\n",
    "midcategory_index = subcategory_data['DEPTH_LEVEL_x'] == 2\n",
    "subcategory_data = subcategory_data[~midcategory_index]\n",
    "subcategory_data.drop(columns=['DEPTH_LEVEL_x', 'DEPTH_LEVEL_y', 'ID_y', 'NAME_y', 'IBLOCK_SECTION_ID_x', 'TIMESTAMP_X_y', 'ACTIVE_y'], inplace=True)\n",
    "subcategory_data.rename(columns={'ID_x': 'SCID', 'NAME_x': 'SUBCATEGORY_NAME', 'IBLOCK_SECTION_ID_y': 'CID', \n",
    "                                 'TIMESTAMP_X_x':'TIMESTAMP_X', 'ACTIVE_x':'ACTIVE'}, inplace=True)\n",
    "subcategory_data = subcategory_data.astype({'CID': 'int32'})\n",
    "subcategory_data.reset_index(drop=True, inplace=True)\n",
    "\n",
    "# Filter only product\n",
    "product_block_index = b_iblock_element['IBLOCK_ID'] == 17\n",
    "product_data = b_iblock_element[product_block_index]\n",
    "product_data = product_data.drop(columns=['IBLOCK_ID'])\n",
    "product_data.rename(columns={'ID': 'EID', 'IBLOCK_SECTION_ID': 'BID', 'NAME': 'PRODUCT_NAME'}, inplace=True)\n",
    "# Check brand not provided\n",
    "product_not_BID = product_data[product_data['BID'].isna()]\n",
    "product_data = product_data.astype({'BID': 'int32'})\n",
    "# create product url\n",
    "product_data['PRODUCT_URL'] = product_data['EID'].apply(lambda x: product_url_prefix + str(x))\n",
    "# merge product with category and subcategory\n",
    "subcat_link_data = pd.merge(b_iblock_section_element, subcategory_data.drop(columns=['ACTIVE']), how='right', left_on='IBLOCK_SECTION_ID', right_on='SCID')\n",
    "subcat_link_data.drop(columns=['IBLOCK_SECTION_ID', 'SUBCATEGORY_NAME', 'CID', 'TIMESTAMP_X'], inplace=True)\n",
    "product_data_linked= pd.merge(product_data, subcat_link_data, how='left', left_on='EID', right_on='IBLOCK_ELEMENT_ID')\n",
    "product_data_linked.drop(columns=['IBLOCK_ELEMENT_ID'], inplace=True)\n",
    "# create product preview image\n",
    "product_data_linked = pd.merge(product_data_linked, b_file, left_on='PREVIEW_PICTURE', right_on='ID', how='left')\n",
    "\n",
    "product_data_linked['PREVIEW_PICTURE'] = product_data_linked.apply(lambda x: cosmenet_upload_url_prefix + x['SUBDIR'] \n",
    "                                                                   if not pd.isna(x['PREVIEW_PICTURE']) \n",
    "                                                                   else None, axis=1)\n",
    "def check_url(x):\n",
    "    if not pd.isna(x['FILE_NAME']):\n",
    "        return x['PREVIEW_PICTURE'] + '/' + x['FILE_NAME']\n",
    "    else:\n",
    "        return None\n",
    "product_data_linked['PREVIEW_PICTURE'] = product_data_linked.apply(lambda x: check_url(x), axis=1)\n",
    "product_data_linked.drop(columns=['ID', 'SUBDIR', 'ORIGINAL_NAME'], inplace=True)\n",
    "# active\n",
    "product_active_index = product_data_linked['ACTIVE'] == 'Y'\n",
    "product_active_data = product_data_linked[product_active_index]\n",
    "product_active_data = product_active_data.drop(columns=['ACTIVE'])\n",
    "product_active_data = product_active_data.astype({'SCID': 'int32'})\n",
    "# not active\n",
    "product_not_active_index = product_data_linked['ACTIVE'] == 'N'\n",
    "product_not_active_data = product_data_linked[product_not_active_index]\n",
    "product_not_active_data = product_not_active_data.drop(columns=['ACTIVE'])\n",
    "\n",
    "product_data_linked.reset_index(drop=True, inplace=True)\n",
    "product_data_linked.head(1)"
   ]
  },
  {
   "cell_type": "code",
   "execution_count": 57,
   "metadata": {},
   "outputs": [
    {
     "data": {
      "text/html": [
       "<div>\n",
       "<style scoped>\n",
       "    .dataframe tbody tr th:only-of-type {\n",
       "        vertical-align: middle;\n",
       "    }\n",
       "\n",
       "    .dataframe tbody tr th {\n",
       "        vertical-align: top;\n",
       "    }\n",
       "\n",
       "    .dataframe thead th {\n",
       "        text-align: right;\n",
       "    }\n",
       "</style>\n",
       "<table border=\"1\" class=\"dataframe\">\n",
       "  <thead>\n",
       "    <tr style=\"text-align: right;\">\n",
       "      <th></th>\n",
       "      <th>id</th>\n",
       "      <th>image_path</th>\n",
       "    </tr>\n",
       "  </thead>\n",
       "  <tbody>\n",
       "  </tbody>\n",
       "</table>\n",
       "</div>"
      ],
      "text/plain": [
       "Empty DataFrame\n",
       "Columns: [id, image_path]\n",
       "Index: []"
      ]
     },
     "execution_count": 57,
     "metadata": {},
     "output_type": "execute_result"
    }
   ],
   "source": [
    "ls_data[~(ls_data['id'].isin(product_data_linked['EID']))]"
   ]
  },
  {
   "cell_type": "code",
   "execution_count": 59,
   "metadata": {},
   "outputs": [],
   "source": [
    "from PIL import Image"
   ]
  },
  {
   "cell_type": "code",
   "execution_count": 60,
   "metadata": {},
   "outputs": [
    {
     "data": {
      "application/vnd.jupyter.widget-view+json": {
       "model_id": "bfb1a8860f28447aadb281ec2616a450",
       "version_major": 2,
       "version_minor": 0
      },
      "text/plain": [
       "0it [00:00, ?it/s]"
      ]
     },
     "metadata": {},
     "output_type": "display_data"
    },
    {
     "name": "stdout",
     "output_type": "stream",
     "text": [
      "/app/nfs_clientshare/Datasets/cosmenet_scanproduct_clean/product/36977/36977_10.jpg\n",
      "/app/nfs_clientshare/Datasets/cosmenet_scanproduct_clean/product/37041/37041_1.jpg\n",
      "/app/nfs_clientshare/Datasets/cosmenet_scanproduct_clean/product/37041/37041_10.jpg\n"
     ]
    }
   ],
   "source": [
    "for index, row in tqdm(ls_data.iterrows()):\n",
    "    try:\n",
    "        img = Image.open(row['image_path'])\n",
    "        img.verify()\n",
    "    except:\n",
    "        print(row['image_path'])"
   ]
  }
 ],
 "metadata": {
  "kernelspec": {
   "display_name": "similarity",
   "language": "python",
   "name": "python3"
  },
  "language_info": {
   "codemirror_mode": {
    "name": "ipython",
    "version": 3
   },
   "file_extension": ".py",
   "mimetype": "text/x-python",
   "name": "python",
   "nbconvert_exporter": "python",
   "pygments_lexer": "ipython3",
   "version": "3.11.6"
  }
 },
 "nbformat": 4,
 "nbformat_minor": 2
}
