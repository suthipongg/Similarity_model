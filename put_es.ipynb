{
 "cells": [
  {
   "cell_type": "code",
   "execution_count": 39,
   "metadata": {},
   "outputs": [],
   "source": [
    "from PIL import Image\n",
    "import numpy as np\n",
    "import pandas as pd\n",
    "\n",
    "import torch\n",
    "\n",
    "from script.tool import ROOT_NFS_TEST, ROOT_NFS_DATA, standardize_feature\n",
    "from tqdm.notebook import tqdm\n",
    "from pathlib import Path\n",
    "import time, os"
   ]
  },
  {
   "cell_type": "code",
   "execution_count": 14,
   "metadata": {},
   "outputs": [
    {
     "data": {
      "text/html": [
       "<div>\n",
       "<style scoped>\n",
       "    .dataframe tbody tr th:only-of-type {\n",
       "        vertical-align: middle;\n",
       "    }\n",
       "\n",
       "    .dataframe tbody tr th {\n",
       "        vertical-align: top;\n",
       "    }\n",
       "\n",
       "    .dataframe thead th {\n",
       "        text-align: right;\n",
       "    }\n",
       "</style>\n",
       "<table border=\"1\" class=\"dataframe\">\n",
       "  <thead>\n",
       "    <tr style=\"text-align: right;\">\n",
       "      <th></th>\n",
       "      <th>file_names</th>\n",
       "      <th>labels</th>\n",
       "      <th>images_path</th>\n",
       "    </tr>\n",
       "  </thead>\n",
       "  <tbody>\n",
       "    <tr>\n",
       "      <th>0</th>\n",
       "      <td>14624_14.jpg</td>\n",
       "      <td>14624</td>\n",
       "      <td>/app/nfs_clientshare/Datasets/Cosmenet_product...</td>\n",
       "    </tr>\n",
       "  </tbody>\n",
       "</table>\n",
       "</div>"
      ],
      "text/plain": [
       "     file_names  labels                                        images_path\n",
       "0  14624_14.jpg   14624  /app/nfs_clientshare/Datasets/Cosmenet_product..."
      ]
     },
     "execution_count": 14,
     "metadata": {},
     "output_type": "execute_result"
    }
   ],
   "source": [
    "path_dataset = ROOT_NFS_DATA / 'Cosmenet_product_20231018'\n",
    "device = torch.device(\"cpu\")\n",
    "df_pd = pd.read_csv(path_dataset / 'datas_20231018.csv')\n",
    "df_pd.head(1)"
   ]
  },
  {
   "cell_type": "code",
   "execution_count": 3,
   "metadata": {},
   "outputs": [
    {
     "data": {
      "text/html": [
       "<div>\n",
       "<style scoped>\n",
       "    .dataframe tbody tr th:only-of-type {\n",
       "        vertical-align: middle;\n",
       "    }\n",
       "\n",
       "    .dataframe tbody tr th {\n",
       "        vertical-align: top;\n",
       "    }\n",
       "\n",
       "    .dataframe thead th {\n",
       "        text-align: right;\n",
       "    }\n",
       "</style>\n",
       "<table border=\"1\" class=\"dataframe\">\n",
       "  <thead>\n",
       "    <tr style=\"text-align: right;\">\n",
       "      <th></th>\n",
       "      <th>labels</th>\n",
       "      <th>count</th>\n",
       "    </tr>\n",
       "  </thead>\n",
       "  <tbody>\n",
       "    <tr>\n",
       "      <th>4172</th>\n",
       "      <td>50348</td>\n",
       "      <td>100</td>\n",
       "    </tr>\n",
       "  </tbody>\n",
       "</table>\n",
       "</div>"
      ],
      "text/plain": [
       "      labels  count\n",
       "4172   50348    100"
      ]
     },
     "execution_count": 3,
     "metadata": {},
     "output_type": "execute_result"
    }
   ],
   "source": [
    "group_df = df_pd.groupby(['labels'])['labels'].count().reset_index(name='count').sort_values(['count'], ascending=False)\n",
    "group_df.head(1)"
   ]
  },
  {
   "cell_type": "code",
   "execution_count": 352,
   "metadata": {},
   "outputs": [],
   "source": [
    "filter_img = group_df[group_df['count'] <= 8]['labels'].values\n",
    "df_not_contain = df_pd[~df_pd['labels'].isin(filter_img)]"
   ]
  },
  {
   "cell_type": "code",
   "execution_count": 354,
   "metadata": {},
   "outputs": [
    {
     "name": "stdout",
     "output_type": "stream",
     "text": [
      "amount of all data : 60196\n",
      "amount of data not contain : 58631\n",
      "amount of data filter image : 1565\n"
     ]
    }
   ],
   "source": [
    "print(f\"amount of all data : {df_pd.__len__()}\")\n",
    "print(f\"amount of data not contain : {df_not_contain.__len__()}\")\n",
    "print(f\"amount of data filter image : {df_pd[df_pd['labels'].isin(filter_img)].__len__()}\")"
   ]
  },
  {
   "cell_type": "code",
   "execution_count": 355,
   "metadata": {},
   "outputs": [],
   "source": [
    "from sklearn.model_selection import StratifiedShuffleSplit"
   ]
  },
  {
   "cell_type": "code",
   "execution_count": 356,
   "metadata": {},
   "outputs": [],
   "source": [
    "sss = StratifiedShuffleSplit(n_splits=1, test_size=0.2, random_state=42)"
   ]
  },
  {
   "cell_type": "code",
   "execution_count": 357,
   "metadata": {},
   "outputs": [],
   "source": [
    "train_idx, test_idx = sss.split(df_not_contain, df_not_contain['labels']).__next__()\n",
    "df_train = df_not_contain.iloc[train_idx]\n",
    "df_test = df_not_contain.iloc[test_idx]"
   ]
  },
  {
   "cell_type": "code",
   "execution_count": 367,
   "metadata": {},
   "outputs": [
    {
     "data": {
      "text/html": [
       "<div>\n",
       "<style scoped>\n",
       "    .dataframe tbody tr th:only-of-type {\n",
       "        vertical-align: middle;\n",
       "    }\n",
       "\n",
       "    .dataframe tbody tr th {\n",
       "        vertical-align: top;\n",
       "    }\n",
       "\n",
       "    .dataframe thead th {\n",
       "        text-align: right;\n",
       "    }\n",
       "</style>\n",
       "<table border=\"1\" class=\"dataframe\">\n",
       "  <thead>\n",
       "    <tr style=\"text-align: right;\">\n",
       "      <th></th>\n",
       "      <th>file_names</th>\n",
       "      <th>labels</th>\n",
       "      <th>images_path</th>\n",
       "    </tr>\n",
       "  </thead>\n",
       "  <tbody>\n",
       "    <tr>\n",
       "      <th>3177</th>\n",
       "      <td>11596_2.jpg</td>\n",
       "      <td>11596</td>\n",
       "      <td>/app/nfs_clientshare/Datasets/Cosmenet_product...</td>\n",
       "    </tr>\n",
       "  </tbody>\n",
       "</table>\n",
       "</div>"
      ],
      "text/plain": [
       "       file_names  labels                                        images_path\n",
       "3177  11596_2.jpg   11596  /app/nfs_clientshare/Datasets/Cosmenet_product..."
      ]
     },
     "execution_count": 367,
     "metadata": {},
     "output_type": "execute_result"
    }
   ],
   "source": [
    "df_train.head(1)"
   ]
  },
  {
   "cell_type": "code",
   "execution_count": 365,
   "metadata": {},
   "outputs": [
    {
     "name": "stdout",
     "output_type": "stream",
     "text": [
      "amount of all class : 4178\n",
      "amount of class two img : 295\n",
      "amount of train class : 3883\n",
      "amount of test class : 3883\n",
      "amount of train data : 46904\n",
      "amount of test data : 11727\n",
      "minimum count : 2\n"
     ]
    }
   ],
   "source": [
    "print(f\"amount of all class : {df_pd['labels'].nunique()}\")\n",
    "print(f\"amount of class two img : {filter_img.__len__()}\")\n",
    "print(f\"amount of train class : {df_not_contain['labels'].iloc[train_idx].nunique()}\")\n",
    "print(f\"amount of test class : {df_not_contain['labels'].iloc[test_idx].nunique()}\")\n",
    "print(f\"amount of train data : {df_not_contain.iloc[train_idx].__len__()}\")\n",
    "print(f\"amount of test data : {df_not_contain.iloc[test_idx].__len__()}\")\n",
    "print(\"minimum count :\", df_not_contain.iloc[test_idx].groupby(['labels'])['labels'].count().min())"
   ]
  },
  {
   "cell_type": "code",
   "execution_count": 10,
   "metadata": {},
   "outputs": [],
   "source": [
    "def select_transformers_model(model, processor, pretrain=\"google/vit-base-patch16-224-in21k\"):\n",
    "    model = model.from_pretrained(pretrain)\n",
    "    processor = processor.from_pretrained(pretrain)\n",
    "    return model, processor"
   ]
  },
  {
   "cell_type": "code",
   "execution_count": 11,
   "metadata": {},
   "outputs": [],
   "source": [
    "# pipeline for transformer library\n",
    "class pipeline_transformer:\n",
    "    def __init__(self, layer, row=False, device='cuda:0'):\n",
    "        self.device = device\n",
    "        self.layer = layer\n",
    "        self.row = row\n",
    "    \n",
    "    def selct_model(self, model, processor):\n",
    "        self.model = model\n",
    "        self.processor = processor\n",
    "        self.model.eval().to(self.device)\n",
    "    \n",
    "    def process_model(self, img):\n",
    "        inputs = self.processor(images=img, return_tensors=\"pt\").to(self.device)\n",
    "        outputs = self.model(**inputs)\n",
    "        return outputs\n",
    "        \n",
    "    def extract(self, img):\n",
    "        ### return specific layer\n",
    "        outputs = self.process_model(img)\n",
    "        if type(self.row) == bool and not self.row:\n",
    "            outputs = outputs[self.layer]\n",
    "        else:\n",
    "            outputs = outputs[self.layer][:, self.row]\n",
    "        outputs = outputs.flatten().unsqueeze(0)\n",
    "        outputs = standardize_feature(outputs).to('cpu').detach().numpy()\n",
    "        return outputs\n",
    "    \n",
    "    def report_test(self):\n",
    "        img = Image.new('RGB', (224, 224))\n",
    "        start_time_torch = time.time()\n",
    "        outputs = self.process_model(img)\n",
    "        delta_time_torch = time.time() - start_time_torch\n",
    "        print(\"runtime :\", delta_time_torch*1000, \"ms\")\n",
    "        print(f\"outputs layers : {outputs.keys()}\")\n",
    "        print(f\"shape last_hidden_state : {outputs.last_hidden_state.shape}\")\n",
    "        print(f\"shape pooler_output : {outputs.pooler_output.shape}\")"
   ]
  },
  {
   "cell_type": "code",
   "execution_count": 12,
   "metadata": {},
   "outputs": [
    {
     "name": "stderr",
     "output_type": "stream",
     "text": [
      "2023-10-26 16:37:41.911488: I tensorflow/tsl/cuda/cudart_stub.cc:28] Could not find cuda drivers on your machine, GPU will not be used.\n",
      "2023-10-26 16:37:42.360946: E tensorflow/compiler/xla/stream_executor/cuda/cuda_dnn.cc:9342] Unable to register cuDNN factory: Attempting to register factory for plugin cuDNN when one has already been registered\n",
      "2023-10-26 16:37:42.360983: E tensorflow/compiler/xla/stream_executor/cuda/cuda_fft.cc:609] Unable to register cuFFT factory: Attempting to register factory for plugin cuFFT when one has already been registered\n",
      "2023-10-26 16:37:42.364077: E tensorflow/compiler/xla/stream_executor/cuda/cuda_blas.cc:1518] Unable to register cuBLAS factory: Attempting to register factory for plugin cuBLAS when one has already been registered\n",
      "2023-10-26 16:37:42.589494: I tensorflow/core/platform/cpu_feature_guard.cc:182] This TensorFlow binary is optimized to use available CPU instructions in performance-critical operations.\n",
      "To enable the following instructions: AVX2 AVX512F FMA, in other operations, rebuild TensorFlow with the appropriate compiler flags.\n",
      "2023-10-26 16:37:45.731293: W tensorflow/compiler/tf2tensorrt/utils/py_utils.cc:38] TF-TRT Warning: Could not find TensorRT\n"
     ]
    }
   ],
   "source": [
    "from transformers import ViTImageProcessor, ViTModel"
   ]
  },
  {
   "cell_type": "code",
   "execution_count": 16,
   "metadata": {},
   "outputs": [
    {
     "name": "stdout",
     "output_type": "stream",
     "text": [
      "runtime : 287.43863105773926 ms\n",
      "outputs layers : odict_keys(['last_hidden_state', 'pooler_output'])\n",
      "shape last_hidden_state : torch.Size([1, 197, 768])\n",
      "shape pooler_output : torch.Size([1, 768])\n"
     ]
    }
   ],
   "source": [
    "model, preprocess = select_transformers_model(ViTModel, ViTImageProcessor, \n",
    "                                              pretrain=ROOT_NFS_TEST / 'weights/vit_gg_lr2e-05_eu_9ep_0_95099acc')\n",
    "vit_gg_trained_lr2e_05_pipe = pipeline_transformer(layer=\"last_hidden_state\", row=0, device=device)\n",
    "vit_gg_trained_lr2e_05_pipe.selct_model(model, preprocess)\n",
    "vit_gg_trained_lr2e_05_pipe.report_test()"
   ]
  },
  {
   "cell_type": "code",
   "execution_count": 17,
   "metadata": {},
   "outputs": [
    {
     "name": "stdout",
     "output_type": "stream",
     "text": [
      "        file_names  labels                                        images_path\n",
      "34244  40959_8.png   40959  /app/nfs_clientshare/Datasets/Cosmenet_product...\n",
      "        file_names  labels                                        images_path\n",
      "41380  46687_6.png   46687  /app/nfs_clientshare/Datasets/Cosmenet_product...\n"
     ]
    }
   ],
   "source": [
    "print(df_train.head(1))\n",
    "print(df_test.head(1))"
   ]
  },
  {
   "cell_type": "code",
   "execution_count": 18,
   "metadata": {},
   "outputs": [],
   "source": [
    "from elasticsearch import Elasticsearch"
   ]
  },
  {
   "cell_type": "code",
   "execution_count": 19,
   "metadata": {},
   "outputs": [],
   "source": [
    "es = Elasticsearch(HOST=\"http://localhost\", PORT=9200)"
   ]
  },
  {
   "cell_type": "code",
   "execution_count": 295,
   "metadata": {},
   "outputs": [],
   "source": [
    "def check_index_exist(name=\"test_product\"):\n",
    "    if es.indices.exists(index=name):\n",
    "            print(f\"index {name} already exists\")\n",
    "    else:\n",
    "        body_product = {\n",
    "            \"mappings\":{\n",
    "                \"properties\":{\n",
    "                    \"labels\":{\n",
    "                        \"type\":\"keyword\"\n",
    "                    },\n",
    "                    \"file_names\":{\n",
    "                        \"type\":\"text\"\n",
    "                    },\n",
    "                    \"images_path\":{\n",
    "                        \"type\":\"text\"\n",
    "                    },\n",
    "                    \"features\":{  \n",
    "                        \"type\":\"dense_vector\",\n",
    "                        \"dims\":768,\n",
    "                        \"index\":True,\n",
    "                        \"similarity\": \"dot_product\"\n",
    "                    },\n",
    "                }\n",
    "            }\n",
    "        }\n",
    "        err = es.indices.create(index=name, body=body_product)\n",
    "        print(err)"
   ]
  },
  {
   "cell_type": "code",
   "execution_count": 309,
   "metadata": {},
   "outputs": [
    {
     "name": "stdout",
     "output_type": "stream",
     "text": [
      "{'acknowledged': True, 'shards_acknowledged': True, 'index': 'vit_gg_lr2e_05_eu_9ep_0_95099acc'}\n"
     ]
    },
    {
     "name": "stderr",
     "output_type": "stream",
     "text": [
      "/tmp/ipykernel_15910/2304151956.py:26: DeprecationWarning: The 'body' parameter is deprecated for the 'create' API and will be removed in a future version. Instead use API parameters directly. See https://github.com/elastic/elasticsearch-py/issues/1698 for more information\n",
      "  err = es.indices.create(index=name, body=body_product)\n"
     ]
    }
   ],
   "source": [
    "name_product = \"vit_gg_lr2e_05_eu_9ep_0_95099acc\"\n",
    "check_index_exist(name_product)"
   ]
  },
  {
   "cell_type": "code",
   "execution_count": 61,
   "metadata": {},
   "outputs": [],
   "source": [
    "def to_unit_len(vector):\n",
    "    return vector / np.linalg.norm(vector)"
   ]
  },
  {
   "cell_type": "code",
   "execution_count": 310,
   "metadata": {},
   "outputs": [
    {
     "data": {
      "application/vnd.jupyter.widget-view+json": {
       "model_id": "4f53e2f72bc54253828a82bb6a54bf12",
       "version_major": 2,
       "version_minor": 0
      },
      "text/plain": [
       "  0%|          | 0/48104 [00:00<?, ?it/s]"
      ]
     },
     "metadata": {},
     "output_type": "display_data"
    },
    {
     "name": "stderr",
     "output_type": "stream",
     "text": [
      "/tmp/ipykernel_15910/1293132499.py:10: DeprecationWarning: The 'body' parameter is deprecated for the 'index' API and will be removed in a future version. Instead use the 'document' parameter. See https://github.com/elastic/elasticsearch-py/issues/1698 for more information\n",
      "  es.index(index=name_product, id=n, body=data)\n"
     ]
    }
   ],
   "source": [
    "for n, img_path in enumerate(tqdm(df_train['images_path'])):\n",
    "    img = Image.open(img_path).convert('RGB')\n",
    "    output = vit_gg_trained_lr2e_05_pipe.extract(img).flatten()\n",
    "    data = {\n",
    "        \"labels\": df_train['labels'].iloc[n],\n",
    "        \"file_names\": df_train['file_names'].iloc[n],\n",
    "        \"images_path\": img_path,\n",
    "        \"features\": to_unit_len(output),\n",
    "    }\n",
    "    es.index(index=name_product, id=n, body=data)"
   ]
  },
  {
   "cell_type": "code",
   "execution_count": 203,
   "metadata": {},
   "outputs": [],
   "source": [
    "img_path_tet = df_train['images_path'].iloc[7]\n",
    "img_test = Image.open(img_path_tet).convert('RGB')\n",
    "output_test = vit_gg_trained_lr2e_05_pipe.extract(img_test).flatten()\n",
    "out_unit = to_unit_len(output_test)"
   ]
  },
  {
   "cell_type": "code",
   "execution_count": 311,
   "metadata": {},
   "outputs": [],
   "source": [
    "query = {\n",
    "    \"query\": \n",
    "    {\n",
    "        \"function_score\": \n",
    "        {\n",
    "            \"functions\": \n",
    "            [\n",
    "                {\n",
    "                    \"script_score\": \n",
    "                    {\n",
    "                        \"script\": \n",
    "                        {\n",
    "                            \"source\": \"cosineSimilarity(params.query_vector, doc['features'])/2+0.5\",\n",
    "                            \"params\": {\"query_vector\": out_unit}  # Replace with your query vector\n",
    "                        }\n",
    "                    }\n",
    "                }\n",
    "            ], \n",
    "            \"boost_mode\": \"replace\"\n",
    "        }\n",
    "    },\n",
    "    \n",
    "    \"_source\": \n",
    "    {\n",
    "        \"excludes\": [\"features\"]  # Exclude the \"features\" field from the search results\n",
    "    },\n",
    "    \n",
    "    \"size\": 5,\n",
    "    \n",
    "    \"collapse\": \n",
    "    {\n",
    "        \"field\": \"labels\"\n",
    "    },\n",
    "    \n",
    "    \"sort\": \n",
    "    [\n",
    "        {\n",
    "            \"_score\": \n",
    "            {\n",
    "                \"order\": \"desc\"\n",
    "            }\n",
    "        }\n",
    "    ],\n",
    "}"
   ]
  },
  {
   "cell_type": "code",
   "execution_count": 312,
   "metadata": {
    "scrolled": true
   },
   "outputs": [
    {
     "name": "stderr",
     "output_type": "stream",
     "text": [
      "/tmp/ipykernel_15910/2546922083.py:1: DeprecationWarning: The 'body' parameter is deprecated for the 'search' API and will be removed in a future version. Instead use API parameters directly. See https://github.com/elastic/elasticsearch-py/issues/1698 for more information\n",
      "  results = es.search(index=name_product, body=query)\n"
     ]
    }
   ],
   "source": [
    "results = es.search(index=name_product, body=query)"
   ]
  },
  {
   "cell_type": "code",
   "execution_count": 314,
   "metadata": {},
   "outputs": [
    {
     "name": "stdout",
     "output_type": "stream",
     "text": [
      "id : 7 | label : 47152 | score : 1.0\n",
      "id : 43651 | label : 16909 | score : 0.8186062\n",
      "id : 18485 | label : 41276 | score : 0.81833094\n",
      "id : 27779 | label : 47177 | score : 0.81676626\n",
      "id : 47321 | label : 45797 | score : 0.81667507\n"
     ]
    }
   ],
   "source": [
    "for res in results['hits']['hits']:\n",
    "    print(f\"id : {res['_id']} | label : {res['_source']['labels']} | score : {res['_score']}\")"
   ]
  },
  {
   "cell_type": "code",
   "execution_count": 296,
   "metadata": {},
   "outputs": [
    {
     "name": "stdout",
     "output_type": "stream",
     "text": [
      "{'acknowledged': True, 'shards_acknowledged': True, 'index': 'test_product'}\n"
     ]
    },
    {
     "name": "stderr",
     "output_type": "stream",
     "text": [
      "/tmp/ipykernel_15910/2304151956.py:26: DeprecationWarning: The 'body' parameter is deprecated for the 'create' API and will be removed in a future version. Instead use API parameters directly. See https://github.com/elastic/elasticsearch-py/issues/1698 for more information\n",
      "  err = es.indices.create(index=name, body=body_product)\n"
     ]
    }
   ],
   "source": [
    "check_index_exist(\"test_product\")"
   ]
  },
  {
   "cell_type": "code",
   "execution_count": 307,
   "metadata": {},
   "outputs": [
    {
     "data": {
      "text/plain": [
       "{'acknowledged': True}"
      ]
     },
     "execution_count": 307,
     "metadata": {},
     "output_type": "execute_result"
    }
   ],
   "source": [
    "es.indices.delete(index=\"test_product\")"
   ]
  }
 ],
 "metadata": {
  "kernelspec": {
   "display_name": "Python 3 (ipykernel)",
   "language": "python",
   "name": "python3"
  },
  "language_info": {
   "codemirror_mode": {
    "name": "ipython",
    "version": 3
   },
   "file_extension": ".py",
   "mimetype": "text/x-python",
   "name": "python",
   "nbconvert_exporter": "python",
   "pygments_lexer": "ipython3",
   "version": "3.11.5"
  }
 },
 "nbformat": 4,
 "nbformat_minor": 4
}
