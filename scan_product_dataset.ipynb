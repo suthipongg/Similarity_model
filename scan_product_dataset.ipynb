{
 "cells": [
  {
   "cell_type": "markdown",
   "id": "529855f4-bf36-4815-a075-594f7d5df245",
   "metadata": {},
   "source": [
    "# Import"
   ]
  },
  {
   "cell_type": "code",
   "execution_count": 1,
   "id": "d48840fe-a6d7-4fda-811f-2e26edac6699",
   "metadata": {},
   "outputs": [],
   "source": [
    "from script.tool import ROOT_NFS_DATA, scan_directory\n",
    "import os\n",
    "import pandas as pd\n",
    "import numpy as np"
   ]
  },
  {
   "cell_type": "markdown",
   "id": "11471c33-5bda-406d-bb0f-f2606c6c6325",
   "metadata": {},
   "source": [
    "# Scan new image to dataframe"
   ]
  },
  {
   "cell_type": "code",
   "execution_count": 2,
   "id": "c3de6dde-961a-44ed-82dd-21d8ee5197c6",
   "metadata": {},
   "outputs": [],
   "source": [
    "new_data_image_path = ROOT_NFS_DATA / 'Cosmenet_uat_20231108' / 'datas_image_from_db_uat'\n",
    "old_data_path = ROOT_NFS_DATA / 'Cosmenet_product_20231018' / 'datas_20231018.csv'"
   ]
  },
  {
   "cell_type": "code",
   "execution_count": 3,
   "id": "ff785de4-cec0-4017-adf8-85359ffbdbdb",
   "metadata": {},
   "outputs": [],
   "source": [
    "df_old_data = pd.read_csv(old_data_path)"
   ]
  },
  {
   "cell_type": "code",
   "execution_count": 4,
   "id": "95a26050-0dd3-4b05-8210-16a3065a71db",
   "metadata": {},
   "outputs": [
    {
     "name": "stdout",
     "output_type": "stream",
     "text": [
      "amount of all image : 34836\n"
     ]
    }
   ],
   "source": [
    "df_new_data_image = scan_directory(new_data_image_path, filter_blacklist=False, show_log=True)"
   ]
  },
  {
   "cell_type": "code",
   "execution_count": 5,
   "id": "15ab8439-825c-4904-a0b5-528fd446b0eb",
   "metadata": {},
   "outputs": [
    {
     "data": {
      "text/html": [
       "<div>\n",
       "<style scoped>\n",
       "    .dataframe tbody tr th:only-of-type {\n",
       "        vertical-align: middle;\n",
       "    }\n",
       "\n",
       "    .dataframe tbody tr th {\n",
       "        vertical-align: top;\n",
       "    }\n",
       "\n",
       "    .dataframe thead th {\n",
       "        text-align: right;\n",
       "    }\n",
       "</style>\n",
       "<table border=\"1\" class=\"dataframe\">\n",
       "  <thead>\n",
       "    <tr style=\"text-align: right;\">\n",
       "      <th></th>\n",
       "      <th>images_path</th>\n",
       "      <th>file_names</th>\n",
       "      <th>labels</th>\n",
       "    </tr>\n",
       "  </thead>\n",
       "  <tbody>\n",
       "    <tr>\n",
       "      <th>0</th>\n",
       "      <td>/app/nfs_clientshare/Datasets/Cosmenet_uat_202...</td>\n",
       "      <td>Kiko-Milano-Floral-Wonderland-Nail-Lacquer-001...</td>\n",
       "      <td>46838</td>\n",
       "    </tr>\n",
       "  </tbody>\n",
       "</table>\n",
       "</div>"
      ],
      "text/plain": [
       "                                         images_path  \\\n",
       "0  /app/nfs_clientshare/Datasets/Cosmenet_uat_202...   \n",
       "\n",
       "                                          file_names labels  \n",
       "0  Kiko-Milano-Floral-Wonderland-Nail-Lacquer-001...  46838  "
      ]
     },
     "execution_count": 5,
     "metadata": {},
     "output_type": "execute_result"
    }
   ],
   "source": [
    "df_new_data_image.head(1)"
   ]
  },
  {
   "cell_type": "code",
   "execution_count": 6,
   "id": "ed2963d4-c186-47fa-a026-68a01fcb668a",
   "metadata": {},
   "outputs": [
    {
     "data": {
      "text/html": [
       "<div>\n",
       "<style scoped>\n",
       "    .dataframe tbody tr th:only-of-type {\n",
       "        vertical-align: middle;\n",
       "    }\n",
       "\n",
       "    .dataframe tbody tr th {\n",
       "        vertical-align: top;\n",
       "    }\n",
       "\n",
       "    .dataframe thead th {\n",
       "        text-align: right;\n",
       "    }\n",
       "</style>\n",
       "<table border=\"1\" class=\"dataframe\">\n",
       "  <thead>\n",
       "    <tr style=\"text-align: right;\">\n",
       "      <th></th>\n",
       "      <th>file_names</th>\n",
       "      <th>labels</th>\n",
       "      <th>images_path</th>\n",
       "    </tr>\n",
       "  </thead>\n",
       "  <tbody>\n",
       "    <tr>\n",
       "      <th>0</th>\n",
       "      <td>14624_14.jpg</td>\n",
       "      <td>14624</td>\n",
       "      <td>/app/nfs_clientshare/Datasets/Cosmenet_product...</td>\n",
       "    </tr>\n",
       "  </tbody>\n",
       "</table>\n",
       "</div>"
      ],
      "text/plain": [
       "     file_names  labels                                        images_path\n",
       "0  14624_14.jpg   14624  /app/nfs_clientshare/Datasets/Cosmenet_product..."
      ]
     },
     "execution_count": 6,
     "metadata": {},
     "output_type": "execute_result"
    }
   ],
   "source": [
    "df_old_data.head(1)"
   ]
  },
  {
   "cell_type": "code",
   "execution_count": 7,
   "id": "8f450acd-6a3a-4cfb-9eb2-bd7a481207ef",
   "metadata": {},
   "outputs": [],
   "source": [
    "def check_name_duplicate(arr1, arr2):\n",
    "    ls_duplicate = np.intersect1d(arr1, arr2)\n",
    "    if len(ls_duplicate) == 0:\n",
    "        return 'not have duplicate file'\n",
    "    else:\n",
    "        return ls_duplicate"
   ]
  },
  {
   "cell_type": "code",
   "execution_count": 8,
   "id": "6d821e0d-285a-4458-9887-11b95cafa932",
   "metadata": {},
   "outputs": [
    {
     "name": "stdout",
     "output_type": "stream",
     "text": [
      "not have duplicate file\n"
     ]
    }
   ],
   "source": [
    "duplicate_file = check_name_duplicate(df_new_data_image.file_names.values, df_old_data.file_names.values)\n",
    "print(duplicate_file)"
   ]
  },
  {
   "cell_type": "code",
   "execution_count": 9,
   "id": "438d82ac-5087-4afd-8d14-53f2a2be9730",
   "metadata": {},
   "outputs": [],
   "source": [
    "df_new_data_image.to_csv(ROOT_NFS_DATA / 'Cosmenet_uat_20231108' / 'data_search.csv', index=False)"
   ]
  },
  {
   "cell_type": "code",
   "execution_count": 10,
   "id": "20c54c42-cd43-462b-8cb9-b4c5f2678c8c",
   "metadata": {},
   "outputs": [
    {
     "data": {
      "text/html": [
       "<div>\n",
       "<style scoped>\n",
       "    .dataframe tbody tr th:only-of-type {\n",
       "        vertical-align: middle;\n",
       "    }\n",
       "\n",
       "    .dataframe tbody tr th {\n",
       "        vertical-align: top;\n",
       "    }\n",
       "\n",
       "    .dataframe thead th {\n",
       "        text-align: right;\n",
       "    }\n",
       "</style>\n",
       "<table border=\"1\" class=\"dataframe\">\n",
       "  <thead>\n",
       "    <tr style=\"text-align: right;\">\n",
       "      <th></th>\n",
       "      <th>images_path</th>\n",
       "      <th>file_names</th>\n",
       "      <th>labels</th>\n",
       "    </tr>\n",
       "  </thead>\n",
       "  <tbody>\n",
       "    <tr>\n",
       "      <th>0</th>\n",
       "      <td>/app/nfs_clientshare/Datasets/Cosmenet_uat_202...</td>\n",
       "      <td>Kiko-Milano-Floral-Wonderland-Nail-Lacquer-001...</td>\n",
       "      <td>46838</td>\n",
       "    </tr>\n",
       "  </tbody>\n",
       "</table>\n",
       "</div>"
      ],
      "text/plain": [
       "                                         images_path  \\\n",
       "0  /app/nfs_clientshare/Datasets/Cosmenet_uat_202...   \n",
       "\n",
       "                                          file_names  labels  \n",
       "0  Kiko-Milano-Floral-Wonderland-Nail-Lacquer-001...   46838  "
      ]
     },
     "execution_count": 10,
     "metadata": {},
     "output_type": "execute_result"
    }
   ],
   "source": [
    "test = pd.read_csv(ROOT_NFS_DATA / 'Cosmenet_uat_20231108' / 'data_search.csv')\n",
    "test.head(1)"
   ]
  }
 ],
 "metadata": {
  "kernelspec": {
   "display_name": "Python 3 (ipykernel)",
   "language": "python",
   "name": "python3"
  },
  "language_info": {
   "codemirror_mode": {
    "name": "ipython",
    "version": 3
   },
   "file_extension": ".py",
   "mimetype": "text/x-python",
   "name": "python",
   "nbconvert_exporter": "python",
   "pygments_lexer": "ipython3",
   "version": "3.11.6"
  }
 },
 "nbformat": 4,
 "nbformat_minor": 5
}
