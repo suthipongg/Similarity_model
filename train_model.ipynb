{
 "cells": [
  {
   "cell_type": "markdown",
   "metadata": {},
   "source": [
    "# Create train_data.csv"
   ]
  },
  {
   "cell_type": "code",
   "execution_count": 1,
   "metadata": {},
   "outputs": [],
   "source": [
    "import os\n",
    "from pathlib import Path\n",
    "import pandas as pd"
   ]
  },
  {
   "cell_type": "code",
   "execution_count": 2,
   "metadata": {},
   "outputs": [],
   "source": [
    "path_cosmenet = Path(\"/home/music/Desktop/measure_model/data/cosmenet_test\")"
   ]
  },
  {
   "cell_type": "code",
   "execution_count": 3,
   "metadata": {},
   "outputs": [],
   "source": [
    "df = []\n",
    "for root, directories, files in os.walk(path_cosmenet):\n",
    "    for file in files:\n",
    "        classes = Path(root).name\n",
    "        df.append([file, classes])"
   ]
  },
  {
   "cell_type": "code",
   "execution_count": 48,
   "metadata": {},
   "outputs": [],
   "source": [
    "df_pd = pd.DataFrame(df, columns=['image_name', 'id_product'])"
   ]
  },
  {
   "cell_type": "code",
   "execution_count": 52,
   "metadata": {},
   "outputs": [],
   "source": [
    "df_pd.to_csv(path_cosmenet / 'train_data.csv', index=False)"
   ]
  },
  {
   "cell_type": "markdown",
   "metadata": {},
   "source": [
    "# Create Dataset"
   ]
  },
  {
   "cell_type": "code",
   "execution_count": 1,
   "metadata": {},
   "outputs": [],
   "source": [
    "import torch\n",
    "from torch.utils.data import DataLoader\n",
    "from torchvision.transforms import transforms\n",
    "\n",
    "import pandas as pd\n",
    "\n",
    "from PIL import Image\n",
    "from pathlib import Path\n",
    "import random"
   ]
  },
  {
   "cell_type": "code",
   "execution_count": 2,
   "metadata": {},
   "outputs": [],
   "source": [
    "def get_default_device():\n",
    "    if torch.cuda.is_available():\n",
    "        return torch.device('cuda')\n",
    "    else:\n",
    "        return torch.device('cpu')\n",
    "IMAGE_SIZE = 224\n",
    "BATCH_SIZE = 4\n",
    "DEVICE = get_default_device()\n",
    "LEARNING_RATE = 0.00002\n",
    "EPOCHS = 40"
   ]
  },
  {
   "cell_type": "code",
   "execution_count": 3,
   "metadata": {},
   "outputs": [],
   "source": [
    "class CosmenetDataset_Triplet():\n",
    "    def __init__(self, df: pd, path: Path, train=True, transform=None):\n",
    "        self.data_csv = df\n",
    "        self.is_train = train\n",
    "        self.transform = transform\n",
    "        self.path = path\n",
    "        if self.is_train:\n",
    "            self.images = df.iloc[:, 0].values\n",
    "            self.labels = df.iloc[:, 1].values\n",
    "            self.index = df.index.values \n",
    "    \n",
    "    def full_path(self, label,  image_name):\n",
    "        return self.path / str(label) / image_name\n",
    "    \n",
    "    def get_caompare_img(self, item, anchor_label, compare_type):\n",
    "        if compare_type == \"pos\":\n",
    "            compare_list = self.index[self.index!=item][self.labels[self.index!=item]==anchor_label]\n",
    "        elif compare_type == \"neg\":\n",
    "            compare_list = self.index[self.index!=item][self.labels[self.index!=item]!=anchor_label]\n",
    "        else:\n",
    "            raise ValueError(\"compare_type must be pos or neg\")\n",
    "        compare_item = random.choice(compare_list)\n",
    "        compare_image_name = self.images[compare_item]\n",
    "        compare_image_path = self.full_path(self.labels[compare_item], compare_image_name)\n",
    "        compare_img = Image.open(compare_image_path).convert('RGB')\n",
    "        return compare_img\n",
    "    \n",
    "    def __len__(self):\n",
    "        return len(self.images)\n",
    "    \n",
    "    def __getitem__(self, item):\n",
    "        anchor_label = self.labels[item]\n",
    "        anchor_image_name = self.images[item]\n",
    "        anchor_image_path = self.full_path(self.labels[item], anchor_image_name)\n",
    "        anchor_img = Image.open(anchor_image_path).convert('RGB')\n",
    "        if self.is_train:\n",
    "            positive_img = self.get_caompare_img(item, anchor_label, \"pos\")\n",
    "            negative_img = self.get_caompare_img(item, anchor_label, \"neg\")\n",
    "            if self.transform!=None:\n",
    "                anchor_img = (self.transform(anchor_img)*255).int()\n",
    "                positive_img = (self.transform(positive_img)*255).int()\n",
    "                negative_img = (self.transform(negative_img)*255).int()\n",
    "        return anchor_img, positive_img, negative_img"
   ]
  },
  {
   "cell_type": "code",
   "execution_count": 4,
   "metadata": {},
   "outputs": [],
   "source": [
    "# cosmenet test\n",
    "train_data_path = Path(\"/app/nfs_clientshare/mew/project/Similarity_model/data/cosmenet_test\")\n",
    "train_data= pd.read_csv(train_data_path / 'train_data.csv') # [imag_path, label]\n",
    "def get_train_dataset(IMAGE_SIZE):\n",
    "    trans = transforms.Compose([transforms.ToTensor(),transforms.Resize((IMAGE_SIZE,IMAGE_SIZE), antialias=False)])\n",
    "    train_dataset = CosmenetDataset_Triplet(train_data, path=train_data_path, train=True, transform=trans)\n",
    "    return train_dataset"
   ]
  },
  {
   "cell_type": "code",
   "execution_count": 4,
   "metadata": {},
   "outputs": [],
   "source": [
    "# real data\n",
    "train_data_path = Path(\"/app/nfs_clientshare/Datasets/Cosmenet_product_20231018/datas\")\n",
    "train_data = pd.read_csv('/app/nfs_clientshare/Datasets/Cosmenet_product_20231018/datas_20231018.csv')\n",
    "df_group = train_data.groupby('labels',sort=False).count()\n",
    "filter_count = df_group[(df_group.file_names >= 20).values & (df_group.file_names < 40).values].index\n",
    "train_data = train_data[train_data[\"labels\"].isin(filter_count)].reset_index(drop=True)\n",
    "def get_train_dataset(IMAGE_SIZE):\n",
    "    trans = transforms.Compose([transforms.ToTensor(),transforms.Resize((IMAGE_SIZE,IMAGE_SIZE), antialias=False)])\n",
    "    train_dataset = CosmenetDataset_Triplet(train_data, path=train_data_path, train=True, transform=trans)\n",
    "    return train_dataset"
   ]
  },
  {
   "cell_type": "code",
   "execution_count": 5,
   "metadata": {},
   "outputs": [],
   "source": [
    "train_dataset = get_train_dataset(IMAGE_SIZE)\n",
    "train_dl = DataLoader(train_dataset, batch_size=BATCH_SIZE, shuffle=True, num_workers=4, pin_memory=True)"
   ]
  },
  {
   "cell_type": "markdown",
   "metadata": {},
   "source": [
    "# Preprocessing"
   ]
  },
  {
   "cell_type": "code",
   "execution_count": 6,
   "metadata": {},
   "outputs": [],
   "source": [
    "import torch.nn as nn"
   ]
  },
  {
   "cell_type": "code",
   "execution_count": 8,
   "metadata": {},
   "outputs": [],
   "source": [
    "class TripletLoss(nn.Module):\n",
    "    def __init__(self, margin=1.0):\n",
    "        super(TripletLoss, self).__init__()\n",
    "        self.margin = margin\n",
    "        self.cos = nn.CosineSimilarity(dim=1, eps=1e-6)\n",
    "    def calc_euclidean(self, x1, x2):\n",
    "        return (x1 - x2).pow(2).sum(1)\n",
    "    def cosine(self, x1, x2):\n",
    "        return self.cos(x1, x2)\n",
    "    def forward(self, anchor: torch.Tensor, positive: torch.Tensor, negative: torch.Tensor) -> torch.Tensor:\n",
    "        distance_positive = self.cosine(anchor, positive)\n",
    "        distance_negative = self.cosine(anchor, negative)\n",
    "        losses = torch.relu(-distance_positive + distance_negative + self.margin)\n",
    "        return losses.mean()"
   ]
  },
  {
   "cell_type": "code",
   "execution_count": 19,
   "metadata": {},
   "outputs": [],
   "source": [
    "from transformers import ViTImageProcessor, ViTModel\n",
    "vit_gg = ViTModel.from_pretrained('google/vit-base-patch16-224-in21k')\n",
    "vit_gg.eval().to(DEVICE)\n",
    "processor_vit_gg = ViTImageProcessor.from_pretrained('google/vit-base-patch16-224-in21k')\n",
    "Optimizer = torch.optim.Adam(vit_gg.parameters(),lr = LEARNING_RATE)\n",
    "criterion = nn.TripletMarginLoss(margin=1.0, p=2, eps=1e-8)\n",
    "# criterion = TripletLoss()"
   ]
  },
  {
   "cell_type": "code",
   "execution_count": 20,
   "metadata": {},
   "outputs": [
    {
     "name": "stdout",
     "output_type": "stream",
     "text": [
      "pooler.dense.weight\n",
      "pooler.dense.bias\n"
     ]
    }
   ],
   "source": [
    "# LAST_LAYER = 199\n",
    "LAST_LAYER = 198\n",
    "for n, (layer, param) in enumerate(vit_gg.named_parameters()):\n",
    "    if n >= LAST_LAYER:\n",
    "        print(layer)\n",
    "        param.requires_grad = False\n",
    "    else:\n",
    "        param.requires_grad = True"
   ]
  },
  {
   "cell_type": "markdown",
   "metadata": {},
   "source": [
    "# Validate"
   ]
  },
  {
   "cell_type": "code",
   "execution_count": 9,
   "metadata": {},
   "outputs": [],
   "source": [
    "from script.tool import *"
   ]
  },
  {
   "cell_type": "code",
   "execution_count": 10,
   "metadata": {},
   "outputs": [
    {
     "name": "stdout",
     "output_type": "stream",
     "text": [
      "amount of all image : 15524\n",
      "amount of image that less than 5 in that class : 116\n",
      "amount of image that more than 5 in that class : 15408\n"
     ]
    }
   ],
   "source": [
    "n_cv = 5\n",
    "# path_dataset = '/home/music/Desktop/measure_model/data/product'\n",
    "path_dataset = Path(\"/app/nfs_clientshare/Datasets/Cosmenet_products_15000/raw_data\")\n",
    "device = torch.device(DEVICE)\n",
    "df = scan_directory(path_dataset)\n",
    "df_pd, index_less_than_n, index_greater_than_or_equal_to_n = filter_data(df, minimum_data_class=n_cv)\n",
    "y_label = df_pd['classes_labeled'].values"
   ]
  },
  {
   "cell_type": "code",
   "execution_count": 16,
   "metadata": {},
   "outputs": [],
   "source": [
    "def convert_feature_transformer(model, processor, layer, row=False, device='cuda:0'):\n",
    "    model.eval().to(device)\n",
    "    X_trans = []\n",
    "    first = True\n",
    "    for img_path in tqdm(df_pd['path_img'], desc=\"Extract\"):\n",
    "        img = Image.open(img_path).convert('RGB')\n",
    "        inputs = processor(images=img, return_tensors=\"pt\").to(device)\n",
    "        outputs = model(**inputs)\n",
    "        if type(row) == bool and row==False:\n",
    "            output = outputs[layer]\n",
    "        else:\n",
    "            output = outputs[layer][:, row]\n",
    "        output = output.flatten().unsqueeze(0)\n",
    "        output = standardize_feature(output).to('cpu').detach().numpy()\n",
    "        if first:\n",
    "            X_trans = output\n",
    "            first = False\n",
    "        else:\n",
    "            X_trans = np.concatenate((X_trans, output))\n",
    "    \n",
    "    df_x = pd.DataFrame(X_trans)\n",
    "    df_y = pd.DataFrame(df_pd['classes'], columns=['classes'])\n",
    "    data = pd.concat([df_x, df_y], axis=1)\n",
    "    return data"
   ]
  },
  {
   "cell_type": "code",
   "execution_count": 17,
   "metadata": {},
   "outputs": [],
   "source": [
    "def validate(data, n_cv=5):\n",
    "    x_gg, y_gg = data.iloc[:, :-1], data.iloc[:, -1]\n",
    "    X = x_gg\n",
    "    y = y_label\n",
    "    y_gg_un = y_gg\n",
    "    index_filter=(index_greater_than_or_equal_to_n, index_less_than_n)\n",
    "\n",
    "    first = True\n",
    "    result_in_n = []\n",
    "    skf = StratifiedKFold(n_splits=n_cv)\n",
    "    if index_filter != False:\n",
    "        index_greater_filtered, index_less_filtered = index_filter\n",
    "        X_less = X[index_less_filtered]\n",
    "        y_less = y[index_less_filtered]\n",
    "        y_gg_un_less = y_gg_un[index_less_filtered]\n",
    "        X = X[index_greater_filtered]\n",
    "        y = y[index_greater_filtered]\n",
    "        y_gg_un = y_gg_un[index_greater_filtered]\n",
    "                \n",
    "    index_df_split = skf.split(X, y)\n",
    "\n",
    "    for train_index, test_index in tqdm(index_df_split,  desc=\"Validate\"):\n",
    "        x_train = np.array(X)[train_index]\n",
    "        y_train = np.array(y)[train_index]\n",
    "        y_gg_un_train = np.array(y_gg_un)[train_index]\n",
    "        x_test = np.array(X)[test_index]\n",
    "        y_test = np.array(y)[test_index]\n",
    "        y_gg_un_test = np.array(y_gg_un)[test_index]\n",
    "        \n",
    "        if index_filter != False:\n",
    "            x_train = np.concatenate((x_train, X_less))\n",
    "            y_train = np.concatenate((y_train, y_less))\n",
    "            y_gg_train = np.concatenate((y_gg_un_train, y_gg_un_less))\n",
    "\n",
    "        dot_product = np.dot(x_test,x_train.T)              # (x_test , x_train)\n",
    "        norm_test = norm(x_test, axis=1).reshape(-1, 1)     # (x_test, 1)\n",
    "        norm_train = norm(x_train, axis=1).reshape(1, -1)   # (1, x_train)\n",
    "        res = dot_product/(norm_test*norm_train)            # res = (x_test , x_train), norm_test*norm_train = (x_test , x_train)\n",
    "        \n",
    "        f = True\n",
    "        rank_top_n = []\n",
    "        ranking = np.argsort(res, axis=1)\n",
    "        y_ranking = np.repeat(y_gg_train.reshape(1, -1), repeats=ranking.shape[0], axis=0)\n",
    "        result_ranking = np.take_along_axis(y_ranking, ranking, axis=1)[:, ::-1]\n",
    "        for row in result_ranking:\n",
    "            indexes = np.unique(row, return_index=True)\n",
    "            res_row = row[sorted(indexes[1])][:5].reshape(1, -1)\n",
    "            if f:\n",
    "                f = False\n",
    "                rank_top_n = res_row\n",
    "            else:\n",
    "                rank_top_n = np.concatenate((rank_top_n, res_row))\n",
    "        \n",
    "        if first:\n",
    "            first = False\n",
    "            result_in_n = [rank_top_n]\n",
    "        else:\n",
    "            result_in_n.append(rank_top_n)\n",
    "        \n",
    "    result_avg = sum((y_gg_un_test.reshape(-1, 1) == result_in_n[-1]).any(axis=1))/result_in_n[-1].shape[0]\n",
    "    return result_avg"
   ]
  },
  {
   "cell_type": "markdown",
   "metadata": {},
   "source": [
    "# Training"
   ]
  },
  {
   "cell_type": "code",
   "execution_count": 13,
   "metadata": {},
   "outputs": [],
   "source": [
    "from tqdm.notebook import tqdm\n",
    "import numpy as np"
   ]
  },
  {
   "cell_type": "code",
   "execution_count": 21,
   "metadata": {
    "scrolled": true
   },
   "outputs": [
    {
     "data": {
      "application/vnd.jupyter.widget-view+json": {
       "model_id": "f9ef3efa4b934088b83975ea7303edba",
       "version_major": 2,
       "version_minor": 0
      },
      "text/plain": [
       "Epochs:   0%|          | 0/40 [00:00<?, ?it/s]"
      ]
     },
     "metadata": {},
     "output_type": "display_data"
    },
    {
     "data": {
      "application/vnd.jupyter.widget-view+json": {
       "model_id": "",
       "version_major": 2,
       "version_minor": 0
      },
      "text/plain": [
       "Training:   0%|          | 0/678 [00:00<?, ?it/s]"
      ]
     },
     "metadata": {},
     "output_type": "display_data"
    },
    {
     "data": {
      "application/vnd.jupyter.widget-view+json": {
       "model_id": "973b3d19759f43d1a3ba5338ceec6b08",
       "version_major": 2,
       "version_minor": 0
      },
      "text/plain": [
       "Extract:   0%|          | 0/15524 [00:00<?, ?it/s]"
      ]
     },
     "metadata": {},
     "output_type": "display_data"
    },
    {
     "data": {
      "application/vnd.jupyter.widget-view+json": {
       "model_id": "5bf5305c217a4e6fae75c2cf22e81059",
       "version_major": 2,
       "version_minor": 0
      },
      "text/plain": [
       "Validate: 0it [00:00, ?it/s]"
      ]
     },
     "metadata": {},
     "output_type": "display_data"
    },
    {
     "name": "stdout",
     "output_type": "stream",
     "text": [
      "Best performance: 0.9448 at epoch 1\n",
      "Epoch: 1/40 — Loss: 0.1041 — acc : 0.9448\n"
     ]
    },
    {
     "data": {
      "application/vnd.jupyter.widget-view+json": {
       "model_id": "",
       "version_major": 2,
       "version_minor": 0
      },
      "text/plain": [
       "Training:   0%|          | 0/678 [00:00<?, ?it/s]"
      ]
     },
     "metadata": {},
     "output_type": "display_data"
    },
    {
     "data": {
      "application/vnd.jupyter.widget-view+json": {
       "model_id": "bb426c43b6ea4b7183f171a2c084de73",
       "version_major": 2,
       "version_minor": 0
      },
      "text/plain": [
       "Extract:   0%|          | 0/15524 [00:00<?, ?it/s]"
      ]
     },
     "metadata": {},
     "output_type": "display_data"
    },
    {
     "data": {
      "application/vnd.jupyter.widget-view+json": {
       "model_id": "e252eb2afc4d4089b605562f95c8b6ac",
       "version_major": 2,
       "version_minor": 0
      },
      "text/plain": [
       "Validate: 0it [00:00, ?it/s]"
      ]
     },
     "metadata": {},
     "output_type": "display_data"
    },
    {
     "name": "stdout",
     "output_type": "stream",
     "text": [
      "Best performance: 0.9455 at epoch 2\n",
      "Epoch: 2/40 — Loss: 0.0315 — acc : 0.9455\n"
     ]
    },
    {
     "data": {
      "application/vnd.jupyter.widget-view+json": {
       "model_id": "",
       "version_major": 2,
       "version_minor": 0
      },
      "text/plain": [
       "Training:   0%|          | 0/678 [00:00<?, ?it/s]"
      ]
     },
     "metadata": {},
     "output_type": "display_data"
    },
    {
     "data": {
      "application/vnd.jupyter.widget-view+json": {
       "model_id": "8c2c91af93f045059aa0f65021dea7f0",
       "version_major": 2,
       "version_minor": 0
      },
      "text/plain": [
       "Extract:   0%|          | 0/15524 [00:00<?, ?it/s]"
      ]
     },
     "metadata": {},
     "output_type": "display_data"
    },
    {
     "data": {
      "application/vnd.jupyter.widget-view+json": {
       "model_id": "b3ba10ae83a342b6bb66aebaf2cb31fb",
       "version_major": 2,
       "version_minor": 0
      },
      "text/plain": [
       "Validate: 0it [00:00, ?it/s]"
      ]
     },
     "metadata": {},
     "output_type": "display_data"
    },
    {
     "name": "stdout",
     "output_type": "stream",
     "text": [
      "Best performance: 0.9484 at epoch 3\n",
      "Epoch: 3/40 — Loss: 0.0181 — acc : 0.9484\n"
     ]
    },
    {
     "data": {
      "application/vnd.jupyter.widget-view+json": {
       "model_id": "",
       "version_major": 2,
       "version_minor": 0
      },
      "text/plain": [
       "Training:   0%|          | 0/678 [00:00<?, ?it/s]"
      ]
     },
     "metadata": {},
     "output_type": "display_data"
    },
    {
     "data": {
      "application/vnd.jupyter.widget-view+json": {
       "model_id": "2658656b9a704cc7897f212a033f6f7e",
       "version_major": 2,
       "version_minor": 0
      },
      "text/plain": [
       "Extract:   0%|          | 0/15524 [00:00<?, ?it/s]"
      ]
     },
     "metadata": {},
     "output_type": "display_data"
    },
    {
     "data": {
      "application/vnd.jupyter.widget-view+json": {
       "model_id": "c1b5eaf6b4604211b946534e49f5b684",
       "version_major": 2,
       "version_minor": 0
      },
      "text/plain": [
       "Validate: 0it [00:00, ?it/s]"
      ]
     },
     "metadata": {},
     "output_type": "display_data"
    },
    {
     "name": "stdout",
     "output_type": "stream",
     "text": [
      "Best performance: 0.9503 at epoch 4\n",
      "Epoch: 4/40 — Loss: 0.0161 — acc : 0.9503\n"
     ]
    },
    {
     "data": {
      "application/vnd.jupyter.widget-view+json": {
       "model_id": "",
       "version_major": 2,
       "version_minor": 0
      },
      "text/plain": [
       "Training:   0%|          | 0/678 [00:00<?, ?it/s]"
      ]
     },
     "metadata": {},
     "output_type": "display_data"
    },
    {
     "data": {
      "application/vnd.jupyter.widget-view+json": {
       "model_id": "e53a86428827496baf8f933366b47aaf",
       "version_major": 2,
       "version_minor": 0
      },
      "text/plain": [
       "Extract:   0%|          | 0/15524 [00:00<?, ?it/s]"
      ]
     },
     "metadata": {},
     "output_type": "display_data"
    },
    {
     "data": {
      "application/vnd.jupyter.widget-view+json": {
       "model_id": "0fb2db745d24467482c16cbd32be0f37",
       "version_major": 2,
       "version_minor": 0
      },
      "text/plain": [
       "Validate: 0it [00:00, ?it/s]"
      ]
     },
     "metadata": {},
     "output_type": "display_data"
    },
    {
     "name": "stdout",
     "output_type": "stream",
     "text": [
      "Epoch: 5/40 — Loss: 0.0156 — acc : 0.9490\n"
     ]
    },
    {
     "data": {
      "application/vnd.jupyter.widget-view+json": {
       "model_id": "",
       "version_major": 2,
       "version_minor": 0
      },
      "text/plain": [
       "Training:   0%|          | 0/678 [00:00<?, ?it/s]"
      ]
     },
     "metadata": {},
     "output_type": "display_data"
    },
    {
     "data": {
      "application/vnd.jupyter.widget-view+json": {
       "model_id": "143f7b670e294087a0ab0fd2a8ea42aa",
       "version_major": 2,
       "version_minor": 0
      },
      "text/plain": [
       "Extract:   0%|          | 0/15524 [00:00<?, ?it/s]"
      ]
     },
     "metadata": {},
     "output_type": "display_data"
    },
    {
     "data": {
      "application/vnd.jupyter.widget-view+json": {
       "model_id": "dca907ec7f2b4e6b923bfd02dea64321",
       "version_major": 2,
       "version_minor": 0
      },
      "text/plain": [
       "Validate: 0it [00:00, ?it/s]"
      ]
     },
     "metadata": {},
     "output_type": "display_data"
    },
    {
     "name": "stdout",
     "output_type": "stream",
     "text": [
      "Epoch: 6/40 — Loss: 0.0136 — acc : 0.9481\n"
     ]
    },
    {
     "data": {
      "application/vnd.jupyter.widget-view+json": {
       "model_id": "",
       "version_major": 2,
       "version_minor": 0
      },
      "text/plain": [
       "Training:   0%|          | 0/678 [00:00<?, ?it/s]"
      ]
     },
     "metadata": {},
     "output_type": "display_data"
    },
    {
     "data": {
      "application/vnd.jupyter.widget-view+json": {
       "model_id": "f3dd044edd75493f8d6feb3869856872",
       "version_major": 2,
       "version_minor": 0
      },
      "text/plain": [
       "Extract:   0%|          | 0/15524 [00:00<?, ?it/s]"
      ]
     },
     "metadata": {},
     "output_type": "display_data"
    },
    {
     "data": {
      "application/vnd.jupyter.widget-view+json": {
       "model_id": "f9828ca4472b4275a528d9f7ff0098c3",
       "version_major": 2,
       "version_minor": 0
      },
      "text/plain": [
       "Validate: 0it [00:00, ?it/s]"
      ]
     },
     "metadata": {},
     "output_type": "display_data"
    },
    {
     "name": "stdout",
     "output_type": "stream",
     "text": [
      "Epoch: 7/40 — Loss: 0.0130 — acc : 0.9487\n"
     ]
    },
    {
     "data": {
      "application/vnd.jupyter.widget-view+json": {
       "model_id": "",
       "version_major": 2,
       "version_minor": 0
      },
      "text/plain": [
       "Training:   0%|          | 0/678 [00:00<?, ?it/s]"
      ]
     },
     "metadata": {},
     "output_type": "display_data"
    },
    {
     "data": {
      "application/vnd.jupyter.widget-view+json": {
       "model_id": "42ce0260f069421b9ae3921ed128f491",
       "version_major": 2,
       "version_minor": 0
      },
      "text/plain": [
       "Extract:   0%|          | 0/15524 [00:00<?, ?it/s]"
      ]
     },
     "metadata": {},
     "output_type": "display_data"
    },
    {
     "data": {
      "application/vnd.jupyter.widget-view+json": {
       "model_id": "1ada6b3290014164a56432fdeeed190d",
       "version_major": 2,
       "version_minor": 0
      },
      "text/plain": [
       "Validate: 0it [00:00, ?it/s]"
      ]
     },
     "metadata": {},
     "output_type": "display_data"
    },
    {
     "name": "stdout",
     "output_type": "stream",
     "text": [
      "Epoch: 8/40 — Loss: 0.0100 — acc : 0.9464\n"
     ]
    },
    {
     "data": {
      "application/vnd.jupyter.widget-view+json": {
       "model_id": "",
       "version_major": 2,
       "version_minor": 0
      },
      "text/plain": [
       "Training:   0%|          | 0/678 [00:00<?, ?it/s]"
      ]
     },
     "metadata": {},
     "output_type": "display_data"
    },
    {
     "data": {
      "application/vnd.jupyter.widget-view+json": {
       "model_id": "ea639f0881f44d2cbeab53081a071fd8",
       "version_major": 2,
       "version_minor": 0
      },
      "text/plain": [
       "Extract:   0%|          | 0/15524 [00:00<?, ?it/s]"
      ]
     },
     "metadata": {},
     "output_type": "display_data"
    },
    {
     "data": {
      "application/vnd.jupyter.widget-view+json": {
       "model_id": "6cfd49f63a46406d88f41804e1e934e3",
       "version_major": 2,
       "version_minor": 0
      },
      "text/plain": [
       "Validate: 0it [00:00, ?it/s]"
      ]
     },
     "metadata": {},
     "output_type": "display_data"
    },
    {
     "name": "stdout",
     "output_type": "stream",
     "text": [
      "Best performance: 0.9510 at epoch 9\n",
      "Epoch: 9/40 — Loss: 0.0087 — acc : 0.9510\n"
     ]
    },
    {
     "data": {
      "application/vnd.jupyter.widget-view+json": {
       "model_id": "",
       "version_major": 2,
       "version_minor": 0
      },
      "text/plain": [
       "Training:   0%|          | 0/678 [00:00<?, ?it/s]"
      ]
     },
     "metadata": {},
     "output_type": "display_data"
    },
    {
     "data": {
      "application/vnd.jupyter.widget-view+json": {
       "model_id": "10d9983574eb4a3f8d6fe0ee324a7246",
       "version_major": 2,
       "version_minor": 0
      },
      "text/plain": [
       "Extract:   0%|          | 0/15524 [00:00<?, ?it/s]"
      ]
     },
     "metadata": {},
     "output_type": "display_data"
    },
    {
     "data": {
      "application/vnd.jupyter.widget-view+json": {
       "model_id": "02446caee9d74c7db7f8f0ca6bbe9def",
       "version_major": 2,
       "version_minor": 0
      },
      "text/plain": [
       "Validate: 0it [00:00, ?it/s]"
      ]
     },
     "metadata": {},
     "output_type": "display_data"
    },
    {
     "name": "stdout",
     "output_type": "stream",
     "text": [
      "Save model at epoch 10\n",
      "Epoch: 10/40 — Loss: 0.0104 — acc : 0.9438\n"
     ]
    },
    {
     "data": {
      "application/vnd.jupyter.widget-view+json": {
       "model_id": "",
       "version_major": 2,
       "version_minor": 0
      },
      "text/plain": [
       "Training:   0%|          | 0/678 [00:00<?, ?it/s]"
      ]
     },
     "metadata": {},
     "output_type": "display_data"
    },
    {
     "data": {
      "application/vnd.jupyter.widget-view+json": {
       "model_id": "15b325ff08784a3293fc4c85471a2dbc",
       "version_major": 2,
       "version_minor": 0
      },
      "text/plain": [
       "Extract:   0%|          | 0/15524 [00:00<?, ?it/s]"
      ]
     },
     "metadata": {},
     "output_type": "display_data"
    },
    {
     "data": {
      "application/vnd.jupyter.widget-view+json": {
       "model_id": "01494c3a009a4eeda1e50c7be4b9e936",
       "version_major": 2,
       "version_minor": 0
      },
      "text/plain": [
       "Validate: 0it [00:00, ?it/s]"
      ]
     },
     "metadata": {},
     "output_type": "display_data"
    },
    {
     "name": "stdout",
     "output_type": "stream",
     "text": [
      "Epoch: 11/40 — Loss: 0.0104 — acc : 0.9435\n"
     ]
    },
    {
     "data": {
      "application/vnd.jupyter.widget-view+json": {
       "model_id": "",
       "version_major": 2,
       "version_minor": 0
      },
      "text/plain": [
       "Training:   0%|          | 0/678 [00:00<?, ?it/s]"
      ]
     },
     "metadata": {},
     "output_type": "display_data"
    },
    {
     "data": {
      "application/vnd.jupyter.widget-view+json": {
       "model_id": "f89493e6c446420f819472ade0f0d8ad",
       "version_major": 2,
       "version_minor": 0
      },
      "text/plain": [
       "Extract:   0%|          | 0/15524 [00:00<?, ?it/s]"
      ]
     },
     "metadata": {},
     "output_type": "display_data"
    },
    {
     "data": {
      "application/vnd.jupyter.widget-view+json": {
       "model_id": "2848ead6905b433da83c9dd2f7403071",
       "version_major": 2,
       "version_minor": 0
      },
      "text/plain": [
       "Validate: 0it [00:00, ?it/s]"
      ]
     },
     "metadata": {},
     "output_type": "display_data"
    },
    {
     "name": "stdout",
     "output_type": "stream",
     "text": [
      "Epoch: 12/40 — Loss: 0.0051 — acc : 0.9422\n"
     ]
    },
    {
     "data": {
      "application/vnd.jupyter.widget-view+json": {
       "model_id": "",
       "version_major": 2,
       "version_minor": 0
      },
      "text/plain": [
       "Training:   0%|          | 0/678 [00:00<?, ?it/s]"
      ]
     },
     "metadata": {},
     "output_type": "display_data"
    },
    {
     "data": {
      "application/vnd.jupyter.widget-view+json": {
       "model_id": "052bbddbe1214346874516ce92ad7ecf",
       "version_major": 2,
       "version_minor": 0
      },
      "text/plain": [
       "Extract:   0%|          | 0/15524 [00:00<?, ?it/s]"
      ]
     },
     "metadata": {},
     "output_type": "display_data"
    },
    {
     "data": {
      "application/vnd.jupyter.widget-view+json": {
       "model_id": "e6b1ea642c1f42b393439ba0c7231e50",
       "version_major": 2,
       "version_minor": 0
      },
      "text/plain": [
       "Validate: 0it [00:00, ?it/s]"
      ]
     },
     "metadata": {},
     "output_type": "display_data"
    },
    {
     "name": "stdout",
     "output_type": "stream",
     "text": [
      "Epoch: 13/40 — Loss: 0.0066 — acc : 0.9383\n"
     ]
    },
    {
     "data": {
      "application/vnd.jupyter.widget-view+json": {
       "model_id": "1a9b9b54368a40d2a9fa037347bb0cf8",
       "version_major": 2,
       "version_minor": 0
      },
      "text/plain": [
       "Training:   0%|          | 0/678 [00:00<?, ?it/s]"
      ]
     },
     "metadata": {},
     "output_type": "display_data"
    },
    {
     "data": {
      "application/vnd.jupyter.widget-view+json": {
       "model_id": "5e508b6b21da42a58c4d87a4200a6b93",
       "version_major": 2,
       "version_minor": 0
      },
      "text/plain": [
       "Extract:   0%|          | 0/15524 [00:00<?, ?it/s]"
      ]
     },
     "metadata": {},
     "output_type": "display_data"
    },
    {
     "data": {
      "application/vnd.jupyter.widget-view+json": {
       "model_id": "3fa1d4bacefe487cb91322a10fb3f865",
       "version_major": 2,
       "version_minor": 0
      },
      "text/plain": [
       "Validate: 0it [00:00, ?it/s]"
      ]
     },
     "metadata": {},
     "output_type": "display_data"
    },
    {
     "name": "stdout",
     "output_type": "stream",
     "text": [
      "Epoch: 14/40 — Loss: 0.0031 — acc : 0.9438\n"
     ]
    },
    {
     "data": {
      "application/vnd.jupyter.widget-view+json": {
       "model_id": "e26c7833131a4be58b6fa1c8c7fffd80",
       "version_major": 2,
       "version_minor": 0
      },
      "text/plain": [
       "Training:   0%|          | 0/678 [00:00<?, ?it/s]"
      ]
     },
     "metadata": {},
     "output_type": "display_data"
    },
    {
     "data": {
      "application/vnd.jupyter.widget-view+json": {
       "model_id": "5cc78f9d89b748be8684ed3994cb10ca",
       "version_major": 2,
       "version_minor": 0
      },
      "text/plain": [
       "Extract:   0%|          | 0/15524 [00:00<?, ?it/s]"
      ]
     },
     "metadata": {},
     "output_type": "display_data"
    },
    {
     "data": {
      "application/vnd.jupyter.widget-view+json": {
       "model_id": "f1c05deb95f94982accf3d71a5cc0e93",
       "version_major": 2,
       "version_minor": 0
      },
      "text/plain": [
       "Validate: 0it [00:00, ?it/s]"
      ]
     },
     "metadata": {},
     "output_type": "display_data"
    },
    {
     "name": "stdout",
     "output_type": "stream",
     "text": [
      "Epoch: 15/40 — Loss: 0.0070 — acc : 0.9299\n"
     ]
    },
    {
     "data": {
      "application/vnd.jupyter.widget-view+json": {
       "model_id": "61facf0a47dd409dac153d4803f25f44",
       "version_major": 2,
       "version_minor": 0
      },
      "text/plain": [
       "Training:   0%|          | 0/678 [00:00<?, ?it/s]"
      ]
     },
     "metadata": {},
     "output_type": "display_data"
    },
    {
     "data": {
      "application/vnd.jupyter.widget-view+json": {
       "model_id": "654dd4944e6d40cfbb2961bbc32f31ed",
       "version_major": 2,
       "version_minor": 0
      },
      "text/plain": [
       "Extract:   0%|          | 0/15524 [00:00<?, ?it/s]"
      ]
     },
     "metadata": {},
     "output_type": "display_data"
    },
    {
     "data": {
      "application/vnd.jupyter.widget-view+json": {
       "model_id": "f2e7dc7104a04433981415271e8bafd9",
       "version_major": 2,
       "version_minor": 0
      },
      "text/plain": [
       "Validate: 0it [00:00, ?it/s]"
      ]
     },
     "metadata": {},
     "output_type": "display_data"
    },
    {
     "name": "stdout",
     "output_type": "stream",
     "text": [
      "Epoch: 16/40 — Loss: 0.0054 — acc : 0.9273\n"
     ]
    },
    {
     "data": {
      "application/vnd.jupyter.widget-view+json": {
       "model_id": "59b6f510c11147a1b03cc7c0e8698017",
       "version_major": 2,
       "version_minor": 0
      },
      "text/plain": [
       "Training:   0%|          | 0/678 [00:00<?, ?it/s]"
      ]
     },
     "metadata": {},
     "output_type": "display_data"
    },
    {
     "data": {
      "application/vnd.jupyter.widget-view+json": {
       "model_id": "bbb778ebaa2041dd85298c72085582db",
       "version_major": 2,
       "version_minor": 0
      },
      "text/plain": [
       "Extract:   0%|          | 0/15524 [00:00<?, ?it/s]"
      ]
     },
     "metadata": {},
     "output_type": "display_data"
    },
    {
     "data": {
      "application/vnd.jupyter.widget-view+json": {
       "model_id": "ca1af51173b9450ca5afaa7b9da319cc",
       "version_major": 2,
       "version_minor": 0
      },
      "text/plain": [
       "Validate: 0it [00:00, ?it/s]"
      ]
     },
     "metadata": {},
     "output_type": "display_data"
    },
    {
     "name": "stdout",
     "output_type": "stream",
     "text": [
      "Epoch: 17/40 — Loss: 0.0052 — acc : 0.9322\n"
     ]
    },
    {
     "data": {
      "application/vnd.jupyter.widget-view+json": {
       "model_id": "19c8cd62a97a4ca4b8d504c11ceee043",
       "version_major": 2,
       "version_minor": 0
      },
      "text/plain": [
       "Training:   0%|          | 0/678 [00:00<?, ?it/s]"
      ]
     },
     "metadata": {},
     "output_type": "display_data"
    },
    {
     "data": {
      "application/vnd.jupyter.widget-view+json": {
       "model_id": "0d1bb0bd517f4adfb2bc3be101c86c53",
       "version_major": 2,
       "version_minor": 0
      },
      "text/plain": [
       "Extract:   0%|          | 0/15524 [00:00<?, ?it/s]"
      ]
     },
     "metadata": {},
     "output_type": "display_data"
    },
    {
     "data": {
      "application/vnd.jupyter.widget-view+json": {
       "model_id": "161f33ea257e44cf94ff6e6dafd5e611",
       "version_major": 2,
       "version_minor": 0
      },
      "text/plain": [
       "Validate: 0it [00:00, ?it/s]"
      ]
     },
     "metadata": {},
     "output_type": "display_data"
    },
    {
     "name": "stdout",
     "output_type": "stream",
     "text": [
      "Epoch: 18/40 — Loss: 0.0029 — acc : 0.9338\n"
     ]
    },
    {
     "data": {
      "application/vnd.jupyter.widget-view+json": {
       "model_id": "d0304f394582430ea330fe0a4eea9c86",
       "version_major": 2,
       "version_minor": 0
      },
      "text/plain": [
       "Training:   0%|          | 0/678 [00:00<?, ?it/s]"
      ]
     },
     "metadata": {},
     "output_type": "display_data"
    },
    {
     "data": {
      "application/vnd.jupyter.widget-view+json": {
       "model_id": "3a81881091c745cc8bbc60a646c59664",
       "version_major": 2,
       "version_minor": 0
      },
      "text/plain": [
       "Extract:   0%|          | 0/15524 [00:00<?, ?it/s]"
      ]
     },
     "metadata": {},
     "output_type": "display_data"
    },
    {
     "data": {
      "application/vnd.jupyter.widget-view+json": {
       "model_id": "2446bceaad174be4a3ad91f3f96eb772",
       "version_major": 2,
       "version_minor": 0
      },
      "text/plain": [
       "Validate: 0it [00:00, ?it/s]"
      ]
     },
     "metadata": {},
     "output_type": "display_data"
    },
    {
     "name": "stdout",
     "output_type": "stream",
     "text": [
      "Epoch: 19/40 — Loss: 0.0039 — acc : 0.9234\n"
     ]
    },
    {
     "data": {
      "application/vnd.jupyter.widget-view+json": {
       "model_id": "a194b734a4424a74af1f36d0db6dd945",
       "version_major": 2,
       "version_minor": 0
      },
      "text/plain": [
       "Training:   0%|          | 0/678 [00:00<?, ?it/s]"
      ]
     },
     "metadata": {},
     "output_type": "display_data"
    },
    {
     "data": {
      "application/vnd.jupyter.widget-view+json": {
       "model_id": "8ed43104bf504cf7aabe2c55cd0d9359",
       "version_major": 2,
       "version_minor": 0
      },
      "text/plain": [
       "Extract:   0%|          | 0/15524 [00:00<?, ?it/s]"
      ]
     },
     "metadata": {},
     "output_type": "display_data"
    },
    {
     "data": {
      "application/vnd.jupyter.widget-view+json": {
       "model_id": "cafa00fc3bb94228b2d217a25641b512",
       "version_major": 2,
       "version_minor": 0
      },
      "text/plain": [
       "Validate: 0it [00:00, ?it/s]"
      ]
     },
     "metadata": {},
     "output_type": "display_data"
    },
    {
     "name": "stdout",
     "output_type": "stream",
     "text": [
      "Save model at epoch 20\n",
      "Epoch: 20/40 — Loss: 0.0042 — acc : 0.9387\n"
     ]
    },
    {
     "data": {
      "application/vnd.jupyter.widget-view+json": {
       "model_id": "5168322c6a514b73b8759f344ef4ff84",
       "version_major": 2,
       "version_minor": 0
      },
      "text/plain": [
       "Training:   0%|          | 0/678 [00:00<?, ?it/s]"
      ]
     },
     "metadata": {},
     "output_type": "display_data"
    },
    {
     "data": {
      "application/vnd.jupyter.widget-view+json": {
       "model_id": "55fc343548494040909a7b419eac072b",
       "version_major": 2,
       "version_minor": 0
      },
      "text/plain": [
       "Extract:   0%|          | 0/15524 [00:00<?, ?it/s]"
      ]
     },
     "metadata": {},
     "output_type": "display_data"
    },
    {
     "data": {
      "application/vnd.jupyter.widget-view+json": {
       "model_id": "a79473154dc342739bd0c06a58ec3a55",
       "version_major": 2,
       "version_minor": 0
      },
      "text/plain": [
       "Validate: 0it [00:00, ?it/s]"
      ]
     },
     "metadata": {},
     "output_type": "display_data"
    },
    {
     "name": "stdout",
     "output_type": "stream",
     "text": [
      "Epoch: 21/40 — Loss: 0.0073 — acc : 0.9429\n"
     ]
    },
    {
     "data": {
      "application/vnd.jupyter.widget-view+json": {
       "model_id": "f605ab84d46d4f04831515356a279056",
       "version_major": 2,
       "version_minor": 0
      },
      "text/plain": [
       "Training:   0%|          | 0/678 [00:00<?, ?it/s]"
      ]
     },
     "metadata": {},
     "output_type": "display_data"
    },
    {
     "data": {
      "application/vnd.jupyter.widget-view+json": {
       "model_id": "2e6dc78bed694916a9a9b216efc421f7",
       "version_major": 2,
       "version_minor": 0
      },
      "text/plain": [
       "Extract:   0%|          | 0/15524 [00:00<?, ?it/s]"
      ]
     },
     "metadata": {},
     "output_type": "display_data"
    },
    {
     "data": {
      "application/vnd.jupyter.widget-view+json": {
       "model_id": "041fc0ca145e4d14b185887ca8eb561f",
       "version_major": 2,
       "version_minor": 0
      },
      "text/plain": [
       "Validate: 0it [00:00, ?it/s]"
      ]
     },
     "metadata": {},
     "output_type": "display_data"
    },
    {
     "name": "stdout",
     "output_type": "stream",
     "text": [
      "Epoch: 22/40 — Loss: 0.0039 — acc : 0.9354\n"
     ]
    },
    {
     "data": {
      "application/vnd.jupyter.widget-view+json": {
       "model_id": "3863edceca1048b9afcf9469bc6fd795",
       "version_major": 2,
       "version_minor": 0
      },
      "text/plain": [
       "Training:   0%|          | 0/678 [00:00<?, ?it/s]"
      ]
     },
     "metadata": {},
     "output_type": "display_data"
    },
    {
     "data": {
      "application/vnd.jupyter.widget-view+json": {
       "model_id": "5eb02f5bb08f453bbd5ee5b18049157e",
       "version_major": 2,
       "version_minor": 0
      },
      "text/plain": [
       "Extract:   0%|          | 0/15524 [00:00<?, ?it/s]"
      ]
     },
     "metadata": {},
     "output_type": "display_data"
    },
    {
     "data": {
      "application/vnd.jupyter.widget-view+json": {
       "model_id": "ab484cf23bb048b7867dc6684c1f24b5",
       "version_major": 2,
       "version_minor": 0
      },
      "text/plain": [
       "Validate: 0it [00:00, ?it/s]"
      ]
     },
     "metadata": {},
     "output_type": "display_data"
    },
    {
     "name": "stdout",
     "output_type": "stream",
     "text": [
      "Epoch: 23/40 — Loss: 0.0076 — acc : 0.9361\n"
     ]
    },
    {
     "data": {
      "application/vnd.jupyter.widget-view+json": {
       "model_id": "0eceb3295dca4ec5b146d245a61e2f37",
       "version_major": 2,
       "version_minor": 0
      },
      "text/plain": [
       "Training:   0%|          | 0/678 [00:00<?, ?it/s]"
      ]
     },
     "metadata": {},
     "output_type": "display_data"
    },
    {
     "data": {
      "application/vnd.jupyter.widget-view+json": {
       "model_id": "19b0e3b006444f68885655f35373cbff",
       "version_major": 2,
       "version_minor": 0
      },
      "text/plain": [
       "Extract:   0%|          | 0/15524 [00:00<?, ?it/s]"
      ]
     },
     "metadata": {},
     "output_type": "display_data"
    },
    {
     "data": {
      "application/vnd.jupyter.widget-view+json": {
       "model_id": "f4e7c4fe62f44830940f0c7472258fd8",
       "version_major": 2,
       "version_minor": 0
      },
      "text/plain": [
       "Validate: 0it [00:00, ?it/s]"
      ]
     },
     "metadata": {},
     "output_type": "display_data"
    },
    {
     "name": "stdout",
     "output_type": "stream",
     "text": [
      "Epoch: 24/40 — Loss: 0.0040 — acc : 0.9432\n"
     ]
    },
    {
     "data": {
      "application/vnd.jupyter.widget-view+json": {
       "model_id": "",
       "version_major": 2,
       "version_minor": 0
      },
      "text/plain": [
       "Training:   0%|          | 0/678 [00:00<?, ?it/s]"
      ]
     },
     "metadata": {},
     "output_type": "display_data"
    },
    {
     "data": {
      "application/vnd.jupyter.widget-view+json": {
       "model_id": "d4bc382ae32547ffaa7673a33d5f4df3",
       "version_major": 2,
       "version_minor": 0
      },
      "text/plain": [
       "Extract:   0%|          | 0/15524 [00:00<?, ?it/s]"
      ]
     },
     "metadata": {},
     "output_type": "display_data"
    },
    {
     "data": {
      "application/vnd.jupyter.widget-view+json": {
       "model_id": "83fe8a54e4de4044bfe88a4d89f27756",
       "version_major": 2,
       "version_minor": 0
      },
      "text/plain": [
       "Validate: 0it [00:00, ?it/s]"
      ]
     },
     "metadata": {},
     "output_type": "display_data"
    },
    {
     "name": "stdout",
     "output_type": "stream",
     "text": [
      "Epoch: 25/40 — Loss: 0.0029 — acc : 0.9422\n"
     ]
    },
    {
     "data": {
      "application/vnd.jupyter.widget-view+json": {
       "model_id": "",
       "version_major": 2,
       "version_minor": 0
      },
      "text/plain": [
       "Training:   0%|          | 0/678 [00:00<?, ?it/s]"
      ]
     },
     "metadata": {},
     "output_type": "display_data"
    },
    {
     "data": {
      "application/vnd.jupyter.widget-view+json": {
       "model_id": "755395f5bbc34ffcb8f12910bc58e115",
       "version_major": 2,
       "version_minor": 0
      },
      "text/plain": [
       "Extract:   0%|          | 0/15524 [00:00<?, ?it/s]"
      ]
     },
     "metadata": {},
     "output_type": "display_data"
    },
    {
     "data": {
      "application/vnd.jupyter.widget-view+json": {
       "model_id": "fa5174fa1de848ff811204b688257d92",
       "version_major": 2,
       "version_minor": 0
      },
      "text/plain": [
       "Validate: 0it [00:00, ?it/s]"
      ]
     },
     "metadata": {},
     "output_type": "display_data"
    },
    {
     "name": "stdout",
     "output_type": "stream",
     "text": [
      "Epoch: 26/40 — Loss: 0.0047 — acc : 0.9283\n"
     ]
    },
    {
     "data": {
      "application/vnd.jupyter.widget-view+json": {
       "model_id": "",
       "version_major": 2,
       "version_minor": 0
      },
      "text/plain": [
       "Training:   0%|          | 0/678 [00:00<?, ?it/s]"
      ]
     },
     "metadata": {},
     "output_type": "display_data"
    },
    {
     "data": {
      "application/vnd.jupyter.widget-view+json": {
       "model_id": "f0675c0626204e0dbc77bd48d7ef26cf",
       "version_major": 2,
       "version_minor": 0
      },
      "text/plain": [
       "Extract:   0%|          | 0/15524 [00:00<?, ?it/s]"
      ]
     },
     "metadata": {},
     "output_type": "display_data"
    },
    {
     "data": {
      "application/vnd.jupyter.widget-view+json": {
       "model_id": "73e4098ef8b9407b8d0dfbc6aa0b121a",
       "version_major": 2,
       "version_minor": 0
      },
      "text/plain": [
       "Validate: 0it [00:00, ?it/s]"
      ]
     },
     "metadata": {},
     "output_type": "display_data"
    },
    {
     "name": "stdout",
     "output_type": "stream",
     "text": [
      "Epoch: 27/40 — Loss: 0.0047 — acc : 0.9228\n"
     ]
    },
    {
     "data": {
      "application/vnd.jupyter.widget-view+json": {
       "model_id": "",
       "version_major": 2,
       "version_minor": 0
      },
      "text/plain": [
       "Training:   0%|          | 0/678 [00:00<?, ?it/s]"
      ]
     },
     "metadata": {},
     "output_type": "display_data"
    },
    {
     "data": {
      "application/vnd.jupyter.widget-view+json": {
       "model_id": "5dc98edf3be8486c84f05e46651369cf",
       "version_major": 2,
       "version_minor": 0
      },
      "text/plain": [
       "Extract:   0%|          | 0/15524 [00:00<?, ?it/s]"
      ]
     },
     "metadata": {},
     "output_type": "display_data"
    },
    {
     "data": {
      "application/vnd.jupyter.widget-view+json": {
       "model_id": "0c4e0b3a09644fe282b315d593428669",
       "version_major": 2,
       "version_minor": 0
      },
      "text/plain": [
       "Validate: 0it [00:00, ?it/s]"
      ]
     },
     "metadata": {},
     "output_type": "display_data"
    },
    {
     "name": "stdout",
     "output_type": "stream",
     "text": [
      "Epoch: 28/40 — Loss: 0.0019 — acc : 0.9396\n"
     ]
    },
    {
     "data": {
      "application/vnd.jupyter.widget-view+json": {
       "model_id": "",
       "version_major": 2,
       "version_minor": 0
      },
      "text/plain": [
       "Training:   0%|          | 0/678 [00:00<?, ?it/s]"
      ]
     },
     "metadata": {},
     "output_type": "display_data"
    },
    {
     "data": {
      "application/vnd.jupyter.widget-view+json": {
       "model_id": "83fb32ee8a064a88a7dbc1a0332d323e",
       "version_major": 2,
       "version_minor": 0
      },
      "text/plain": [
       "Extract:   0%|          | 0/15524 [00:00<?, ?it/s]"
      ]
     },
     "metadata": {},
     "output_type": "display_data"
    },
    {
     "data": {
      "application/vnd.jupyter.widget-view+json": {
       "model_id": "48a69f5a51d94ea7b824a23717660aa7",
       "version_major": 2,
       "version_minor": 0
      },
      "text/plain": [
       "Validate: 0it [00:00, ?it/s]"
      ]
     },
     "metadata": {},
     "output_type": "display_data"
    },
    {
     "name": "stdout",
     "output_type": "stream",
     "text": [
      "Epoch: 29/40 — Loss: 0.0034 — acc : 0.9344\n"
     ]
    },
    {
     "data": {
      "application/vnd.jupyter.widget-view+json": {
       "model_id": "",
       "version_major": 2,
       "version_minor": 0
      },
      "text/plain": [
       "Training:   0%|          | 0/678 [00:00<?, ?it/s]"
      ]
     },
     "metadata": {},
     "output_type": "display_data"
    },
    {
     "data": {
      "application/vnd.jupyter.widget-view+json": {
       "model_id": "e26a2dfc1d3e4633ac61166e057eac5d",
       "version_major": 2,
       "version_minor": 0
      },
      "text/plain": [
       "Extract:   0%|          | 0/15524 [00:00<?, ?it/s]"
      ]
     },
     "metadata": {},
     "output_type": "display_data"
    },
    {
     "data": {
      "application/vnd.jupyter.widget-view+json": {
       "model_id": "ad04cd65d4824e9ebcd81fba0499eeaa",
       "version_major": 2,
       "version_minor": 0
      },
      "text/plain": [
       "Validate: 0it [00:00, ?it/s]"
      ]
     },
     "metadata": {},
     "output_type": "display_data"
    },
    {
     "name": "stdout",
     "output_type": "stream",
     "text": [
      "Save model at epoch 30\n",
      "Epoch: 30/40 — Loss: 0.0012 — acc : 0.9253\n"
     ]
    },
    {
     "data": {
      "application/vnd.jupyter.widget-view+json": {
       "model_id": "",
       "version_major": 2,
       "version_minor": 0
      },
      "text/plain": [
       "Training:   0%|          | 0/678 [00:00<?, ?it/s]"
      ]
     },
     "metadata": {},
     "output_type": "display_data"
    },
    {
     "data": {
      "application/vnd.jupyter.widget-view+json": {
       "model_id": "39ffcfc2532d484bb5e4d34968635b0d",
       "version_major": 2,
       "version_minor": 0
      },
      "text/plain": [
       "Extract:   0%|          | 0/15524 [00:00<?, ?it/s]"
      ]
     },
     "metadata": {},
     "output_type": "display_data"
    },
    {
     "data": {
      "application/vnd.jupyter.widget-view+json": {
       "model_id": "cb581d1962994452a3ff2306683d0956",
       "version_major": 2,
       "version_minor": 0
      },
      "text/plain": [
       "Validate: 0it [00:00, ?it/s]"
      ]
     },
     "metadata": {},
     "output_type": "display_data"
    },
    {
     "name": "stdout",
     "output_type": "stream",
     "text": [
      "Epoch: 31/40 — Loss: 0.0017 — acc : 0.9150\n"
     ]
    },
    {
     "data": {
      "application/vnd.jupyter.widget-view+json": {
       "model_id": "",
       "version_major": 2,
       "version_minor": 0
      },
      "text/plain": [
       "Training:   0%|          | 0/678 [00:00<?, ?it/s]"
      ]
     },
     "metadata": {},
     "output_type": "display_data"
    },
    {
     "data": {
      "application/vnd.jupyter.widget-view+json": {
       "model_id": "e06c7b675d5c4b53b97a5c6f8ea531cd",
       "version_major": 2,
       "version_minor": 0
      },
      "text/plain": [
       "Extract:   0%|          | 0/15524 [00:00<?, ?it/s]"
      ]
     },
     "metadata": {},
     "output_type": "display_data"
    },
    {
     "data": {
      "application/vnd.jupyter.widget-view+json": {
       "model_id": "ef18b187ea2246d889958052a6c1a190",
       "version_major": 2,
       "version_minor": 0
      },
      "text/plain": [
       "Validate: 0it [00:00, ?it/s]"
      ]
     },
     "metadata": {},
     "output_type": "display_data"
    },
    {
     "name": "stdout",
     "output_type": "stream",
     "text": [
      "Epoch: 32/40 — Loss: 0.0055 — acc : 0.9344\n"
     ]
    },
    {
     "data": {
      "application/vnd.jupyter.widget-view+json": {
       "model_id": "",
       "version_major": 2,
       "version_minor": 0
      },
      "text/plain": [
       "Training:   0%|          | 0/678 [00:00<?, ?it/s]"
      ]
     },
     "metadata": {},
     "output_type": "display_data"
    },
    {
     "data": {
      "application/vnd.jupyter.widget-view+json": {
       "model_id": "7d785caf7dae4f19a82b8b955c528194",
       "version_major": 2,
       "version_minor": 0
      },
      "text/plain": [
       "Extract:   0%|          | 0/15524 [00:00<?, ?it/s]"
      ]
     },
     "metadata": {},
     "output_type": "display_data"
    },
    {
     "data": {
      "application/vnd.jupyter.widget-view+json": {
       "model_id": "517ec51ec79c4eedbfec1f60dbbb5504",
       "version_major": 2,
       "version_minor": 0
      },
      "text/plain": [
       "Validate: 0it [00:00, ?it/s]"
      ]
     },
     "metadata": {},
     "output_type": "display_data"
    },
    {
     "name": "stdout",
     "output_type": "stream",
     "text": [
      "Epoch: 33/40 — Loss: 0.0019 — acc : 0.9364\n"
     ]
    },
    {
     "data": {
      "application/vnd.jupyter.widget-view+json": {
       "model_id": "",
       "version_major": 2,
       "version_minor": 0
      },
      "text/plain": [
       "Training:   0%|          | 0/678 [00:00<?, ?it/s]"
      ]
     },
     "metadata": {},
     "output_type": "display_data"
    },
    {
     "data": {
      "application/vnd.jupyter.widget-view+json": {
       "model_id": "3570389b5c0540a1bdf80e305984515c",
       "version_major": 2,
       "version_minor": 0
      },
      "text/plain": [
       "Extract:   0%|          | 0/15524 [00:00<?, ?it/s]"
      ]
     },
     "metadata": {},
     "output_type": "display_data"
    },
    {
     "data": {
      "application/vnd.jupyter.widget-view+json": {
       "model_id": "7b12794532e64b9b816b86d1588017b2",
       "version_major": 2,
       "version_minor": 0
      },
      "text/plain": [
       "Validate: 0it [00:00, ?it/s]"
      ]
     },
     "metadata": {},
     "output_type": "display_data"
    },
    {
     "name": "stdout",
     "output_type": "stream",
     "text": [
      "Epoch: 34/40 — Loss: 0.0038 — acc : 0.9328\n"
     ]
    },
    {
     "data": {
      "application/vnd.jupyter.widget-view+json": {
       "model_id": "",
       "version_major": 2,
       "version_minor": 0
      },
      "text/plain": [
       "Training:   0%|          | 0/678 [00:00<?, ?it/s]"
      ]
     },
     "metadata": {},
     "output_type": "display_data"
    },
    {
     "data": {
      "application/vnd.jupyter.widget-view+json": {
       "model_id": "8373dd6a0f2b4066a8b4dfa796af200c",
       "version_major": 2,
       "version_minor": 0
      },
      "text/plain": [
       "Extract:   0%|          | 0/15524 [00:00<?, ?it/s]"
      ]
     },
     "metadata": {},
     "output_type": "display_data"
    },
    {
     "data": {
      "application/vnd.jupyter.widget-view+json": {
       "model_id": "5e6b4c03107340c89bd2bcf74760244e",
       "version_major": 2,
       "version_minor": 0
      },
      "text/plain": [
       "Validate: 0it [00:00, ?it/s]"
      ]
     },
     "metadata": {},
     "output_type": "display_data"
    },
    {
     "name": "stdout",
     "output_type": "stream",
     "text": [
      "Epoch: 35/40 — Loss: 0.0023 — acc : 0.9231\n"
     ]
    },
    {
     "data": {
      "application/vnd.jupyter.widget-view+json": {
       "model_id": "",
       "version_major": 2,
       "version_minor": 0
      },
      "text/plain": [
       "Training:   0%|          | 0/678 [00:00<?, ?it/s]"
      ]
     },
     "metadata": {},
     "output_type": "display_data"
    },
    {
     "data": {
      "application/vnd.jupyter.widget-view+json": {
       "model_id": "67c96cba10aa4997a5b421e523f04332",
       "version_major": 2,
       "version_minor": 0
      },
      "text/plain": [
       "Extract:   0%|          | 0/15524 [00:00<?, ?it/s]"
      ]
     },
     "metadata": {},
     "output_type": "display_data"
    },
    {
     "data": {
      "application/vnd.jupyter.widget-view+json": {
       "model_id": "318f29e2463f4b238b4e69e7065568ec",
       "version_major": 2,
       "version_minor": 0
      },
      "text/plain": [
       "Validate: 0it [00:00, ?it/s]"
      ]
     },
     "metadata": {},
     "output_type": "display_data"
    },
    {
     "name": "stdout",
     "output_type": "stream",
     "text": [
      "Epoch: 36/40 — Loss: 0.0052 — acc : 0.9237\n"
     ]
    },
    {
     "data": {
      "application/vnd.jupyter.widget-view+json": {
       "model_id": "",
       "version_major": 2,
       "version_minor": 0
      },
      "text/plain": [
       "Training:   0%|          | 0/678 [00:00<?, ?it/s]"
      ]
     },
     "metadata": {},
     "output_type": "display_data"
    },
    {
     "data": {
      "application/vnd.jupyter.widget-view+json": {
       "model_id": "9086079695d344e4ad1dde9f53e8523c",
       "version_major": 2,
       "version_minor": 0
      },
      "text/plain": [
       "Extract:   0%|          | 0/15524 [00:00<?, ?it/s]"
      ]
     },
     "metadata": {},
     "output_type": "display_data"
    },
    {
     "data": {
      "application/vnd.jupyter.widget-view+json": {
       "model_id": "0fccbabf2133496cb4f8c4eed7a60193",
       "version_major": 2,
       "version_minor": 0
      },
      "text/plain": [
       "Validate: 0it [00:00, ?it/s]"
      ]
     },
     "metadata": {},
     "output_type": "display_data"
    },
    {
     "name": "stdout",
     "output_type": "stream",
     "text": [
      "Epoch: 37/40 — Loss: 0.0038 — acc : 0.9305\n"
     ]
    },
    {
     "data": {
      "application/vnd.jupyter.widget-view+json": {
       "model_id": "",
       "version_major": 2,
       "version_minor": 0
      },
      "text/plain": [
       "Training:   0%|          | 0/678 [00:00<?, ?it/s]"
      ]
     },
     "metadata": {},
     "output_type": "display_data"
    },
    {
     "data": {
      "application/vnd.jupyter.widget-view+json": {
       "model_id": "f2011cd732834bc4ab0cfc27c5851e84",
       "version_major": 2,
       "version_minor": 0
      },
      "text/plain": [
       "Extract:   0%|          | 0/15524 [00:00<?, ?it/s]"
      ]
     },
     "metadata": {},
     "output_type": "display_data"
    },
    {
     "data": {
      "application/vnd.jupyter.widget-view+json": {
       "model_id": "e1577f37dcc04cf3bdca572b7f0f5dc9",
       "version_major": 2,
       "version_minor": 0
      },
      "text/plain": [
       "Validate: 0it [00:00, ?it/s]"
      ]
     },
     "metadata": {},
     "output_type": "display_data"
    },
    {
     "name": "stdout",
     "output_type": "stream",
     "text": [
      "Epoch: 38/40 — Loss: 0.0043 — acc : 0.9279\n"
     ]
    },
    {
     "data": {
      "application/vnd.jupyter.widget-view+json": {
       "model_id": "",
       "version_major": 2,
       "version_minor": 0
      },
      "text/plain": [
       "Training:   0%|          | 0/678 [00:00<?, ?it/s]"
      ]
     },
     "metadata": {},
     "output_type": "display_data"
    },
    {
     "data": {
      "application/vnd.jupyter.widget-view+json": {
       "model_id": "de1ba7b4790440078d079286fe04f2b0",
       "version_major": 2,
       "version_minor": 0
      },
      "text/plain": [
       "Extract:   0%|          | 0/15524 [00:00<?, ?it/s]"
      ]
     },
     "metadata": {},
     "output_type": "display_data"
    },
    {
     "data": {
      "application/vnd.jupyter.widget-view+json": {
       "model_id": "5ad2940c622a4718afe676a9b99b2731",
       "version_major": 2,
       "version_minor": 0
      },
      "text/plain": [
       "Validate: 0it [00:00, ?it/s]"
      ]
     },
     "metadata": {},
     "output_type": "display_data"
    },
    {
     "name": "stdout",
     "output_type": "stream",
     "text": [
      "Epoch: 39/40 — Loss: 0.0031 — acc : 0.9221\n"
     ]
    },
    {
     "data": {
      "application/vnd.jupyter.widget-view+json": {
       "model_id": "",
       "version_major": 2,
       "version_minor": 0
      },
      "text/plain": [
       "Training:   0%|          | 0/678 [00:00<?, ?it/s]"
      ]
     },
     "metadata": {},
     "output_type": "display_data"
    },
    {
     "data": {
      "application/vnd.jupyter.widget-view+json": {
       "model_id": "8c923bfd07e14c0d9ece673cf35869cd",
       "version_major": 2,
       "version_minor": 0
      },
      "text/plain": [
       "Extract:   0%|          | 0/15524 [00:00<?, ?it/s]"
      ]
     },
     "metadata": {},
     "output_type": "display_data"
    },
    {
     "data": {
      "application/vnd.jupyter.widget-view+json": {
       "model_id": "28ba8fdc9fce426290caa61209930cf4",
       "version_major": 2,
       "version_minor": 0
      },
      "text/plain": [
       "Validate: 0it [00:00, ?it/s]"
      ]
     },
     "metadata": {},
     "output_type": "display_data"
    },
    {
     "name": "stdout",
     "output_type": "stream",
     "text": [
      "Save model at epoch 40\n",
      "Epoch: 40/40 — Loss: 0.0018 — acc : 0.9202\n"
     ]
    }
   ],
   "source": [
    "# triple loss\n",
    "best_performance = 0\n",
    "for epoch in tqdm(range(EPOCHS), desc=\"Epochs\"):\n",
    "    running_loss = []\n",
    "    for step, (anchor_img, positive_img, negative_img) in enumerate(tqdm(train_dl, desc=\"Training\", leave=False)):\n",
    "        anchor_img_pre = processor_vit_gg(images=anchor_img, return_tensors=\"pt\").to(DEVICE)\n",
    "        positive_img_pre = processor_vit_gg(images=positive_img, return_tensors=\"pt\").to(DEVICE)\n",
    "        negative_img_pre = processor_vit_gg(images=negative_img, return_tensors=\"pt\").to(DEVICE)\n",
    "        \n",
    "        anchor_out = vit_gg(**anchor_img_pre).last_hidden_state[:, 0]\n",
    "        positive_out = vit_gg(**positive_img_pre).last_hidden_state[:, 0]\n",
    "        negative_out = vit_gg(**negative_img_pre).last_hidden_state[:, 0]\n",
    "        \n",
    "        loss = criterion(anchor_out, positive_out, negative_out)\n",
    "        \n",
    "        Optimizer.zero_grad()\n",
    "        loss.backward()\n",
    "        Optimizer.step()\n",
    "        running_loss.append(loss.cpu().detach().numpy())\n",
    "    \n",
    "    x_trans = convert_feature_transformer(vit_gg, processor_vit_gg, layer=\"last_hidden_state\", row=0, device=DEVICE)\n",
    "    validation_loss = validate(x_trans)\n",
    "    if validation_loss > best_performance:\n",
    "        best_performance = validation_loss  # Update the best performance\n",
    "        best_epoch = epoch\n",
    "        sco = str(round(best_performance, 5)).split(\".\")\n",
    "        path_trained = \"weights/vit_gg_lr2e-05_eu_\" + str(epoch+1) + \"ep_\" + sco[0] + \"_\" + sco[1] + \"acc\"\n",
    "        vit_gg.save_pretrained(path_trained, from_pt=True)\n",
    "        processor_vit_gg.save_pretrained(path_trained, from_pt=True)\n",
    "        print(\"Best performance: {:.4f} at epoch {}\".format(best_performance, best_epoch+1))\n",
    "    \n",
    "    if epoch%10 == 9:\n",
    "        path_trained = \"weights/vit_gg_lr2e-05_eu_\" + str(epoch+1) + \"ep\"\n",
    "        vit_gg.save_pretrained(path_trained, from_pt=True)\n",
    "        processor_vit_gg.save_pretrained(path_trained, from_pt=True)\n",
    "        print(\"Save model at epoch {}\".format(epoch+1))\n",
    "\n",
    "    print(\"Epoch: {}/{} — Loss: {:.4f} — acc : {:.4f}\".format(epoch+1, EPOCHS, np.mean(running_loss), validation_loss))"
   ]
  },
  {
   "cell_type": "code",
   "execution_count": 12,
   "metadata": {},
   "outputs": [
    {
     "data": {
      "text/plain": [
       "['/home/music/Desktop/measure_model/weights/vit_gg_lr2e-05_eu_40ep/preprocessor_config.json']"
      ]
     },
     "execution_count": 12,
     "metadata": {},
     "output_type": "execute_result"
    }
   ],
   "source": [
    "path_trained = \"/home/music/Desktop/measure_model/weights/vit_gg_lr2e-05_eu_40ep\"\n",
    "vit_gg.save_pretrained(path_trained, from_pt=True)\n",
    "processor_vit_gg.save_pretrained(path_trained, from_pt=True)"
   ]
  },
  {
   "cell_type": "code",
   "execution_count": 8,
   "metadata": {},
   "outputs": [
    {
     "name": "stderr",
     "output_type": "stream",
     "text": [
      "2023-10-19 13:25:54.818862: I tensorflow/tsl/cuda/cudart_stub.cc:28] Could not find cuda drivers on your machine, GPU will not be used.\n",
      "2023-10-19 13:25:55.398070: E tensorflow/compiler/xla/stream_executor/cuda/cuda_dnn.cc:9342] Unable to register cuDNN factory: Attempting to register factory for plugin cuDNN when one has already been registered\n",
      "2023-10-19 13:25:55.398141: E tensorflow/compiler/xla/stream_executor/cuda/cuda_fft.cc:609] Unable to register cuFFT factory: Attempting to register factory for plugin cuFFT when one has already been registered\n",
      "2023-10-19 13:25:55.400202: E tensorflow/compiler/xla/stream_executor/cuda/cuda_blas.cc:1518] Unable to register cuBLAS factory: Attempting to register factory for plugin cuBLAS when one has already been registered\n",
      "2023-10-19 13:25:55.632841: I tensorflow/core/platform/cpu_feature_guard.cc:182] This TensorFlow binary is optimized to use available CPU instructions in performance-critical operations.\n",
      "To enable the following instructions: AVX2 AVX512F FMA, in other operations, rebuild TensorFlow with the appropriate compiler flags.\n",
      "2023-10-19 13:25:58.980028: W tensorflow/compiler/tf2tensorrt/utils/py_utils.cc:38] TF-TRT Warning: Could not find TensorRT\n"
     ]
    }
   ],
   "source": [
    "from transformers import ViTImageProcessor, ViTModel\n",
    "path_trained = \"/app/nfs_clientshare/mew/project/Similarity_model/weights/vit_gg_lr2e-05_pooler\"\n",
    "vit_gg = ViTModel.from_pretrained(path_trained)\n",
    "vit_gg.eval().to(DEVICE)\n",
    "processor_vit_gg = ViTImageProcessor.from_pretrained('google/vit-base-patch16-224-in21k')\n",
    "Optimizer = torch.optim.Adam(vit_gg.parameters(),lr = LEARNING_RATE)\n",
    "criterion = nn.TripletMarginLoss(margin=1.0, p=2, eps=1e-8)"
   ]
  }
 ],
 "metadata": {
  "kernelspec": {
   "display_name": "Python 3 (ipykernel)",
   "language": "python",
   "name": "python3"
  },
  "language_info": {
   "codemirror_mode": {
    "name": "ipython",
    "version": 3
   },
   "file_extension": ".py",
   "mimetype": "text/x-python",
   "name": "python",
   "nbconvert_exporter": "python",
   "pygments_lexer": "ipython3",
   "version": "3.8.10"
  }
 },
 "nbformat": 4,
 "nbformat_minor": 4
}
