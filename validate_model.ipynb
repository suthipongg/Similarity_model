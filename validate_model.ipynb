{
 "cells": [
  {
   "cell_type": "code",
   "execution_count": null,
   "metadata": {},
   "outputs": [],
   "source": [
    "# triple loss\n",
    "best_validation_loss = 100\n",
    "best_acc_top = 0\n",
    "best_acc_top_n = 0\n",
    "\n",
    "for epoch in tqdm(range(EPOCHS), desc=\"Epochs\"):\n",
    "    running_loss = []\n",
    "    for step, (anchor_img, positive_img, negative_img) in enumerate(tqdm(train_dl, desc=\"Training\", leave=False)):\n",
    "        anchor_out = cvt_feature_vit_gg.process_extract(anchor_img)\n",
    "        positive_out = cvt_feature_vit_gg.process_extract(positive_img)\n",
    "        negative_out = cvt_feature_vit_gg.process_extract(negative_img)\n",
    "        \n",
    "        loss = criterion(anchor_out, positive_out, negative_out)\n",
    "        \n",
    "        Optimizer.zero_grad()\n",
    "        loss.backward()\n",
    "        Optimizer.step()\n",
    "        running_loss.append(loss.cpu().detach().numpy())\n",
    "    \n",
    "    x_trans = convert_feature_transformer(vit_gg, processor_vit_gg, layer=\"last_hidden_state\", row=0, device=DEVICE)\n",
    "    validation_loss = validate(x_trans)\n",
    "    acc_top = \n",
    "    acc_top_n = \n",
    "    \n",
    "    if acc_top > best_acc_top:\n",
    "        best_acc_top = acc_top\n",
    "        save_weight(epoch, cvt_feature_vit_gg, Optimizer, running_loss, acc_top, acc_top_n)\n",
    "        print(\"Save model at Best acc top: {:.4f}\".format(best_acc_top))\n",
    "        \n",
    "    if acc_top_n > best_acc_top_n:\n",
    "        best_acc_top_n = acc_top_n\n",
    "        save_weight(epoch, cvt_feature_vit_gg, Optimizer, running_loss, acc_top, acc_top_n)\n",
    "        print(\"Save model at Best acc top n: {:.4f}\".format(best_acc_top_n))\n",
    "    \n",
    "    if validation_loss < best_validation_loss:\n",
    "        best_validation_loss = validation_loss  # Update the best performance\n",
    "        save_weight(epoch, cvt_feature_vit_gg, Optimizer, running_loss, acc_top, acc_top_n)\n",
    "        print(\"Save model at Best performance: {:.4f}\".format(best_validation_loss))\n",
    "    \n",
    "    if epoch%10 == 9:\n",
    "        save_weight(epoch, cvt_feature_vit_gg, Optimizer, running_loss, acc_top, acc_top_n)\n",
    "        print(\"Save model at epoch {}\".format(epoch+1))\n",
    "\n",
    "    print(\"Epoch: {}/{} — Loss: {:.4f} — validation_loss : {:.4f} — acc_top : {} — acc_top_n : {}\".format(\n",
    "        epoch+1, EPOCHS, np.mean(running_loss), validation_loss, acc_top, acc_top_n))"
   ]
  }
 ],
 "metadata": {
  "language_info": {
   "name": "python"
  }
 },
 "nbformat": 4,
 "nbformat_minor": 2
}
