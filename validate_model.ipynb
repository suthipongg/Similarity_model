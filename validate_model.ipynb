{
 "cells": [
  {
   "cell_type": "markdown",
   "metadata": {},
   "source": [
    "# Prepare data"
   ]
  },
  {
   "cell_type": "code",
   "execution_count": 1,
   "metadata": {},
   "outputs": [],
   "source": [
    "from script.func_split_data import split_data"
   ]
  },
  {
   "cell_type": "code",
   "execution_count": 2,
   "metadata": {},
   "outputs": [
    {
     "name": "stdout",
     "output_type": "stream",
     "text": [
      "amount of all data : 60196\n",
      "amount of all class : 4178\n",
      "amount of data 2-8 img : 1548\n",
      "amount of 2-8 img class : 278\n",
      "amount of data more 8 img : 58631\n",
      "amount of more 8 img class : 3883\n",
      "amount of data & class only one : 17\n",
      "\n",
      "amount of train split : 38474\n",
      "amount of train split class : 3184\n",
      "amount of test split : 9620\n",
      "amount of test split class : 3184\n",
      "amount of train val : 8430\n",
      "amount of train val class : 699\n",
      "amount of test val : 2107\n",
      "amount of test val class : 699\n",
      "amount of train val mix : 9204\n",
      "amount of train val mix class : 977\n",
      "amount of test val mix : 2881\n",
      "amount of test val mix class : 977\n"
     ]
    }
   ],
   "source": [
    "split_df = split_data(data_path='Cosmenet_product_20231018', data_csv='datas_20231018.csv')\n",
    "split_df.split_data()\n",
    "split_df.report_train_test_split()\n",
    "print()\n",
    "split_df.report_train_test_val_split()"
   ]
  },
  {
   "cell_type": "code",
   "execution_count": 3,
   "metadata": {},
   "outputs": [],
   "source": [
    "df_train_split, df_test_split = split_df.get_train_test()\n",
    "df_train_val_mix, df_test_val_mix = split_df.get_validate()"
   ]
  },
  {
   "cell_type": "code",
   "execution_count": 4,
   "metadata": {},
   "outputs": [
    {
     "data": {
      "text/html": [
       "<div>\n",
       "<style scoped>\n",
       "    .dataframe tbody tr th:only-of-type {\n",
       "        vertical-align: middle;\n",
       "    }\n",
       "\n",
       "    .dataframe tbody tr th {\n",
       "        vertical-align: top;\n",
       "    }\n",
       "\n",
       "    .dataframe thead th {\n",
       "        text-align: right;\n",
       "    }\n",
       "</style>\n",
       "<table border=\"1\" class=\"dataframe\">\n",
       "  <thead>\n",
       "    <tr style=\"text-align: right;\">\n",
       "      <th></th>\n",
       "      <th>file_names</th>\n",
       "      <th>labels</th>\n",
       "      <th>images_path</th>\n",
       "    </tr>\n",
       "  </thead>\n",
       "  <tbody>\n",
       "    <tr>\n",
       "      <th>0</th>\n",
       "      <td>11596_2.jpg</td>\n",
       "      <td>11596</td>\n",
       "      <td>/app/nfs_clientshare/Datasets/Cosmenet_product...</td>\n",
       "    </tr>\n",
       "  </tbody>\n",
       "</table>\n",
       "</div>"
      ],
      "text/plain": [
       "    file_names  labels                                        images_path\n",
       "0  11596_2.jpg   11596  /app/nfs_clientshare/Datasets/Cosmenet_product..."
      ]
     },
     "execution_count": 4,
     "metadata": {},
     "output_type": "execute_result"
    }
   ],
   "source": [
    "df_train_split.head(1)"
   ]
  },
  {
   "cell_type": "code",
   "execution_count": 5,
   "metadata": {},
   "outputs": [],
   "source": [
    "df = split_df.get_dict()"
   ]
  },
  {
   "cell_type": "markdown",
   "metadata": {},
   "source": [
    "# extract and put to elasticsearch"
   ]
  },
  {
   "cell_type": "code",
   "execution_count": 6,
   "metadata": {},
   "outputs": [],
   "source": [
    "import torch\n",
    "from transformers import ViTImageProcessor, ViTModel\n",
    "\n",
    "from script.func_extract_feature import select_transformers_model, pipeline_transformer\n",
    "from script.tool import ROOT_NFS_TEST"
   ]
  },
  {
   "cell_type": "code",
   "execution_count": 7,
   "metadata": {},
   "outputs": [
    {
     "name": "stdout",
     "output_type": "stream",
     "text": [
      "runtime : 332.99803733825684 ms\n",
      "outputs layers : odict_keys(['last_hidden_state', 'pooler_output'])\n",
      "shape last_hidden_state : torch.Size([1, 197, 768])\n",
      "shape pooler_output : torch.Size([1, 768])\n"
     ]
    }
   ],
   "source": [
    "device = torch.device('cuda' if torch.cuda.is_available() else 'cpu')\n",
    "\n",
    "model, preprocess = select_transformers_model(ViTModel, ViTImageProcessor, \n",
    "                                              pretrain=ROOT_NFS_TEST / 'weights/vit_gg_lr2e-05_eu_9ep_0_95099acc')\n",
    "model.load_state_dict(torch.load(ROOT_NFS_TEST / 'weights/temp_epoch/vitgg_lr2e05_ep5_loss0.0.pth')['model_state_dict'])\n",
    "vit_gg_trained_lr2e_05_pipe = pipeline_transformer(layer=\"last_hidden_state\", row=0, device=device)\n",
    "vit_gg_trained_lr2e_05_pipe.selct_model(model, preprocess)\n",
    "vit_gg_trained_lr2e_05_pipe.report_test()"
   ]
  },
  {
   "cell_type": "code",
   "execution_count": 8,
   "metadata": {},
   "outputs": [],
   "source": [
    "from script.func_query_score import extract_to_es"
   ]
  },
  {
   "cell_type": "code",
   "execution_count": 17,
   "metadata": {},
   "outputs": [
    {
     "name": "stdout",
     "output_type": "stream",
     "text": [
      "index vitgg_lr2e05_ep5_loss0.0 already exists\n"
     ]
    },
    {
     "data": {
      "application/vnd.jupyter.widget-view+json": {
       "model_id": "c0b15dd8b94a47899e3fc36bcdb21982",
       "version_major": 2,
       "version_minor": 0
      },
      "text/plain": [
       "  0%|          | 0/38474 [00:00<?, ?it/s]"
      ]
     },
     "metadata": {},
     "output_type": "display_data"
    },
    {
     "name": "stdout",
     "output_type": "stream",
     "text": [
      "================\n",
      "43968\n",
      "45422\n",
      "================\n",
      "40562\n",
      "41114\n",
      "================\n",
      "42125\n",
      "40562\n",
      "================\n",
      "48387\n",
      "42125\n",
      "================\n",
      "47701\n",
      "48387\n",
      "================\n",
      "48451\n",
      "47701\n",
      "================\n",
      "46973\n",
      "48451\n",
      "================\n",
      "47000\n",
      "43678\n",
      "================\n",
      "9472\n",
      "47000\n",
      "================\n",
      "41958\n",
      "9472\n",
      "================\n",
      "47111\n",
      "41958\n",
      "================\n",
      "41644\n",
      "47111\n",
      "================\n",
      "45430\n",
      "43387\n",
      "================\n",
      "43068\n",
      "41644\n",
      "================\n",
      "41817\n",
      "45430\n",
      "================\n",
      "40127\n",
      "46275\n",
      "================\n",
      "45798\n",
      "36896\n",
      "================\n",
      "46945\n",
      "43068\n",
      "================\n",
      "40537\n",
      "41817\n",
      "================\n",
      "41301\n",
      "40127\n",
      "================\n",
      "44802\n",
      "45798\n",
      "================\n",
      "47209\n",
      "46945\n",
      "================\n",
      "44407\n",
      "40537\n",
      "================\n",
      "47080\n",
      "41301\n",
      "================\n",
      "42528\n",
      "44802\n",
      "================\n",
      "46426\n",
      "47209\n",
      "================\n",
      "44732\n",
      "44407\n",
      "================\n",
      "41617\n",
      "47080\n",
      "================\n",
      "36658\n",
      "42528\n",
      "================\n",
      "41991\n",
      "39748\n",
      "================\n",
      "46020\n",
      "44732\n",
      "================\n",
      "13132\n",
      "41617\n",
      "================\n",
      "40358\n",
      "36658\n",
      "================\n",
      "39483\n",
      "41991\n",
      "================\n",
      "44987\n",
      "46020\n",
      "================\n",
      "7777\n",
      "13132\n",
      "================\n",
      "46404\n",
      "40358\n",
      "================\n",
      "34907\n",
      "39483\n",
      "================\n",
      "39788\n",
      "46404\n",
      "================\n",
      "47009\n",
      "34907\n",
      "================\n",
      "44063\n",
      "39788\n",
      "================\n",
      "43414\n",
      "47009\n",
      "================\n",
      "44010\n",
      "43414\n",
      "================\n",
      "41931\n",
      "44010\n",
      "================\n",
      "27782\n",
      "41931\n",
      "================\n",
      "13943\n",
      "27782\n",
      "================\n",
      "41630\n",
      "13943\n",
      "================\n",
      "38968\n",
      "41630\n",
      "================\n",
      "46278\n",
      "38968\n",
      "================\n",
      "39495\n",
      "46278\n",
      "================\n",
      "47006\n",
      "39495\n",
      "================\n",
      "41290\n",
      "47006\n",
      "================\n",
      "31347\n",
      "41290\n",
      "================\n",
      "42528\n",
      "31347\n",
      "================\n",
      "45298\n",
      "42528\n",
      "================\n",
      "39623\n",
      "45298\n",
      "================\n",
      "20249\n",
      "39623\n",
      "================\n",
      "41242\n",
      "46868\n",
      "================\n",
      "41630\n",
      "41242\n",
      "================\n",
      "43417\n",
      "41630\n",
      "================\n",
      "49469\n",
      "43417\n",
      "================\n",
      "39538\n",
      "44508\n",
      "================\n",
      "39976\n",
      "39538\n",
      "================\n",
      "40393\n",
      "43982\n",
      "================\n",
      "45877\n",
      "39976\n",
      "================\n",
      "23474\n",
      "40511\n",
      "================\n",
      "43927\n",
      "40393\n",
      "================\n",
      "48695\n",
      "45877\n",
      "================\n",
      "43514\n",
      "43038\n",
      "================\n",
      "41307\n",
      "1079\n",
      "================\n",
      "41760\n",
      "23474\n",
      "put tag train_split success\n"
     ]
    },
    {
     "data": {
      "application/vnd.jupyter.widget-view+json": {
       "model_id": "e0538ffa9c4343dab117fd8e23250a07",
       "version_major": 2,
       "version_minor": 0
      },
      "text/plain": [
       "  0%|          | 0/9620 [00:00<?, ?it/s]"
      ]
     },
     "metadata": {},
     "output_type": "display_data"
    },
    {
     "name": "stdout",
     "output_type": "stream",
     "text": [
      "put tag test_split success\n"
     ]
    },
    {
     "data": {
      "application/vnd.jupyter.widget-view+json": {
       "model_id": "e1e88d9f5f814e7a9677be1414f614fa",
       "version_major": 2,
       "version_minor": 0
      },
      "text/plain": [
       "  0%|          | 0/9204 [00:00<?, ?it/s]"
      ]
     },
     "metadata": {},
     "output_type": "display_data"
    }
   ],
   "source": [
    "ext_ep3_crop = extract_to_es('vitgg_lr2e05_ep5_loss0.0', url='http://192.168.1.97:9200')\n",
    "ext_ep3_crop.check_index_exist()\n",
    "ext_ep3_crop.put_all_tag(vit_gg_trained_lr2e_05_pipe, df, replace=False, crop=False)"
   ]
  },
  {
   "cell_type": "markdown",
   "metadata": {},
   "source": [
    "# Extract Elasticnet b1"
   ]
  },
  {
   "cell_type": "code",
   "execution_count": 39,
   "metadata": {},
   "outputs": [],
   "source": [
    "from script.func_extract_feature import select_timm_model, pipeline_timm"
   ]
  },
  {
   "cell_type": "code",
   "execution_count": 40,
   "metadata": {},
   "outputs": [
    {
     "name": "stdout",
     "output_type": "stream",
     "text": [
      "runtime : 179.80599403381348 ms\n",
      "Output shape at layer : torch.Size([1, 1280])\n"
     ]
    }
   ],
   "source": [
    "model, preprocess = select_timm_model('efficientnet_b1', num_classes=0, pretrain=True)\n",
    "eff_pipe = pipeline_timm(device=device)\n",
    "eff_pipe.selct_model(model, preprocess)\n",
    "eff_pipe.report_test()"
   ]
  },
  {
   "cell_type": "code",
   "execution_count": 41,
   "metadata": {},
   "outputs": [
    {
     "name": "stdout",
     "output_type": "stream",
     "text": [
      "index efficientnet_b1 already exists\n"
     ]
    },
    {
     "data": {
      "application/vnd.jupyter.widget-view+json": {
       "model_id": "",
       "version_major": 2,
       "version_minor": 0
      },
      "text/plain": [
       "  0%|          | 0/38474 [00:00<?, ?it/s]"
      ]
     },
     "metadata": {},
     "output_type": "display_data"
    },
    {
     "name": "stdout",
     "output_type": "stream",
     "text": [
      "put tag train_split success\n"
     ]
    },
    {
     "data": {
      "application/vnd.jupyter.widget-view+json": {
       "model_id": "",
       "version_major": 2,
       "version_minor": 0
      },
      "text/plain": [
       "  0%|          | 0/9620 [00:00<?, ?it/s]"
      ]
     },
     "metadata": {},
     "output_type": "display_data"
    },
    {
     "name": "stdout",
     "output_type": "stream",
     "text": [
      "put tag test_split success\n"
     ]
    },
    {
     "data": {
      "application/vnd.jupyter.widget-view+json": {
       "model_id": "",
       "version_major": 2,
       "version_minor": 0
      },
      "text/plain": [
       "  0%|          | 0/9204 [00:00<?, ?it/s]"
      ]
     },
     "metadata": {},
     "output_type": "display_data"
    },
    {
     "name": "stderr",
     "output_type": "stream",
     "text": [
      "/tmp/ipykernel_330647/2751088454.py:35: DeprecationWarning: The 'body' parameter is deprecated for the 'index' API and will be removed in a future version. Instead use the 'document' parameter. See https://github.com/elastic/elasticsearch-py/issues/1698 for more information\n",
      "  self.es.index(index=self.name_index, id=tag+\"_\"+str(n), body=data)\n"
     ]
    },
    {
     "name": "stdout",
     "output_type": "stream",
     "text": [
      "put tag train_val success\n"
     ]
    },
    {
     "data": {
      "application/vnd.jupyter.widget-view+json": {
       "model_id": "",
       "version_major": 2,
       "version_minor": 0
      },
      "text/plain": [
       "  0%|          | 0/2881 [00:00<?, ?it/s]"
      ]
     },
     "metadata": {},
     "output_type": "display_data"
    },
    {
     "name": "stdout",
     "output_type": "stream",
     "text": [
      "put tag test_val success\n"
     ]
    }
   ],
   "source": [
    "eff = extract_to_es('efficientnet_b1')\n",
    "eff.check_index_exist(dims=1280)\n",
    "eff.put_all_tag(eff_pipe, df, replace=False, crop=False)"
   ]
  },
  {
   "cell_type": "markdown",
   "metadata": {},
   "source": [
    "# measure_score"
   ]
  },
  {
   "cell_type": "code",
   "execution_count": null,
   "metadata": {},
   "outputs": [],
   "source": [
    "from script.func_query_score import measure_score, report_image"
   ]
  },
  {
   "cell_type": "code",
   "execution_count": null,
   "metadata": {},
   "outputs": [],
   "source": [
    "url = \"192.168.1.97:9200\""
   ]
  },
  {
   "cell_type": "code",
   "execution_count": null,
   "metadata": {},
   "outputs": [],
   "source": [
    "measure_15k = measure_score(\"efficientnet_b1\", url=url)\n",
    "result_15k = measure_15k.report_acc()"
   ]
  },
  {
   "cell_type": "markdown",
   "metadata": {},
   "source": [
    "## Show image"
   ]
  },
  {
   "cell_type": "code",
   "execution_count": null,
   "metadata": {},
   "outputs": [],
   "source": [
    "report = report_image(name_index=\"vitgg_lr2e05_ep3_loss0.0\", url=url)\n",
    "rand_id_split, rand_id_val = report.show_report(num_product=5, top_n=5, collapse=True)"
   ]
  }
 ],
 "metadata": {
  "kernelspec": {
   "display_name": "Python 3 (ipykernel)",
   "language": "python",
   "name": "python3"
  },
  "language_info": {
   "codemirror_mode": {
    "name": "ipython",
    "version": 3
   },
   "file_extension": ".py",
   "mimetype": "text/x-python",
   "name": "python",
   "nbconvert_exporter": "python",
   "pygments_lexer": "ipython3",
   "version": "3.8.10"
  }
 },
 "nbformat": 4,
 "nbformat_minor": 4
}
