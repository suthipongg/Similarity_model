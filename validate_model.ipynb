{
 "cells": [
  {
   "cell_type": "markdown",
   "metadata": {},
   "source": [
    "# Prepare data"
   ]
  },
  {
   "cell_type": "code",
   "execution_count": 1,
   "metadata": {},
   "outputs": [],
   "source": [
    "from script.func_split_data import split_data"
   ]
  },
  {
   "cell_type": "code",
   "execution_count": 2,
   "metadata": {},
   "outputs": [
    {
     "name": "stdout",
     "output_type": "stream",
     "text": [
      "amount of all data : 60196\n",
      "amount of all class : 4178\n",
      "amount of data 2-8 img : 1548\n",
      "amount of 2-8 img class : 278\n",
      "amount of data more 8 img : 58631\n",
      "amount of more 8 img class : 3883\n",
      "amount of data & class only one : 17\n",
      "\n",
      "amount of train split : 38474\n",
      "amount of train split class : 3184\n",
      "amount of test split : 9620\n",
      "amount of test split class : 3184\n",
      "amount of train val : 8430\n",
      "amount of train val class : 699\n",
      "amount of test val : 2107\n",
      "amount of test val class : 699\n",
      "amount of train val mix : 9204\n",
      "amount of train val mix class : 977\n",
      "amount of test val mix : 2881\n",
      "amount of test val mix class : 977\n"
     ]
    }
   ],
   "source": [
    "split_df = split_data(data_path='Cosmenet_product_20231018', data_csv='datas_20231018.csv')\n",
    "split_df.split_data()\n",
    "split_df.report_train_test_split()\n",
    "print()\n",
    "split_df.report_train_test_val_split()"
   ]
  },
  {
   "cell_type": "code",
   "execution_count": 3,
   "metadata": {},
   "outputs": [],
   "source": [
    "df_train_split, df_test_split = split_df.get_train_test()\n",
    "df_train_val_mix, df_test_val_mix = split_df.get_validate()"
   ]
  },
  {
   "cell_type": "code",
   "execution_count": 5,
   "metadata": {},
   "outputs": [
    {
     "data": {
      "text/html": [
       "<div>\n",
       "<style scoped>\n",
       "    .dataframe tbody tr th:only-of-type {\n",
       "        vertical-align: middle;\n",
       "    }\n",
       "\n",
       "    .dataframe tbody tr th {\n",
       "        vertical-align: top;\n",
       "    }\n",
       "\n",
       "    .dataframe thead th {\n",
       "        text-align: right;\n",
       "    }\n",
       "</style>\n",
       "<table border=\"1\" class=\"dataframe\">\n",
       "  <thead>\n",
       "    <tr style=\"text-align: right;\">\n",
       "      <th></th>\n",
       "      <th>file_names</th>\n",
       "      <th>labels</th>\n",
       "      <th>images_path</th>\n",
       "    </tr>\n",
       "  </thead>\n",
       "  <tbody>\n",
       "    <tr>\n",
       "      <th>0</th>\n",
       "      <td>11596_2.jpg</td>\n",
       "      <td>11596</td>\n",
       "      <td>/app/nfs_clientshare/Datasets/Cosmenet_product...</td>\n",
       "    </tr>\n",
       "  </tbody>\n",
       "</table>\n",
       "</div>"
      ],
      "text/plain": [
       "    file_names  labels                                        images_path\n",
       "0  11596_2.jpg   11596  /app/nfs_clientshare/Datasets/Cosmenet_product..."
      ]
     },
     "execution_count": 5,
     "metadata": {},
     "output_type": "execute_result"
    }
   ],
   "source": [
    "df_train_split.head(1)"
   ]
  },
  {
   "cell_type": "markdown",
   "metadata": {},
   "source": [
    "# extract and put to elasticsearch"
   ]
  },
  {
   "cell_type": "code",
   "execution_count": null,
   "metadata": {},
   "outputs": [],
   "source": [
    "from PIL import Image\n",
    "import numpy as np\n",
    "import pandas as pd\n",
    "\n",
    "import torch\n",
    "\n",
    "from script.tool import ROOT_NFS_TEST, standardize_feature\n",
    "from tqdm.notebook import tqdm\n",
    "\n",
    "import time"
   ]
  },
  {
   "cell_type": "code",
   "execution_count": null,
   "metadata": {},
   "outputs": [],
   "source": [
    "def select_transformers_model(model, processor, pretrain=\"google/vit-base-patch16-224-in21k\"):\n",
    "    model = model.from_pretrained(pretrain)\n",
    "    processor = processor.from_pretrained(pretrain)\n",
    "    return model, processor"
   ]
  },
  {
   "cell_type": "code",
   "execution_count": null,
   "metadata": {},
   "outputs": [],
   "source": [
    "# pipeline for transformer library\n",
    "class pipeline_transformer:\n",
    "    def __init__(self, layer, row=False, device='cuda:0'):\n",
    "        self.device = device\n",
    "        self.layer = layer\n",
    "        self.row = row\n",
    "    \n",
    "    def selct_model(self, model, processor):\n",
    "        self.model = model\n",
    "        self.processor = processor\n",
    "        self.model.eval().to(self.device)\n",
    "    \n",
    "    def process_model(self, img):\n",
    "        inputs = self.processor(images=img, return_tensors=\"pt\").to(self.device)\n",
    "        outputs = self.model(**inputs)\n",
    "        return outputs\n",
    "        \n",
    "    def extract(self, img):\n",
    "        ### return specific layer\n",
    "        outputs = self.process_model(img)\n",
    "        if type(self.row) == bool and not self.row:\n",
    "            outputs = outputs[self.layer]\n",
    "        else:\n",
    "            outputs = outputs[self.layer][:, self.row]\n",
    "        outputs = outputs.flatten().unsqueeze(0)\n",
    "        outputs = standardize_feature(outputs).to('cpu').detach().numpy()\n",
    "        return outputs\n",
    "    \n",
    "    def report_test(self):\n",
    "        img = Image.new('RGB', (224, 224))\n",
    "        start_time_torch = time.time()\n",
    "        outputs = self.process_model(img)\n",
    "        delta_time_torch = time.time() - start_time_torch\n",
    "        print(\"runtime :\", delta_time_torch*1000, \"ms\")\n",
    "        print(f\"outputs layers : {outputs.keys()}\")\n",
    "        print(f\"shape last_hidden_state : {outputs.last_hidden_state.shape}\")\n",
    "        print(f\"shape pooler_output : {outputs.pooler_output.shape}\")"
   ]
  },
  {
   "cell_type": "code",
   "execution_count": null,
   "metadata": {},
   "outputs": [],
   "source": [
    "from transformers import ViTImageProcessor, ViTModel"
   ]
  },
  {
   "cell_type": "code",
   "execution_count": null,
   "metadata": {},
   "outputs": [],
   "source": [
    "device = torch.device('cpu')\n",
    "\n",
    "model, preprocess = select_transformers_model(ViTModel, ViTImageProcessor, \n",
    "                                              pretrain=ROOT_NFS_TEST / 'weights/vit_gg_lr2e-05_eu_9ep_0_95099acc')\n",
    "vit_gg_trained_lr2e_05_pipe = pipeline_transformer(layer=\"last_hidden_state\", row=0, device=device)\n",
    "vit_gg_trained_lr2e_05_pipe.selct_model(model, preprocess)\n",
    "vit_gg_trained_lr2e_05_pipe.report_test()"
   ]
  },
  {
   "cell_type": "code",
   "execution_count": null,
   "metadata": {},
   "outputs": [],
   "source": [
    "from elasticsearch import Elasticsearch"
   ]
  },
  {
   "cell_type": "code",
   "execution_count": null,
   "metadata": {},
   "outputs": [],
   "source": [
    "es = Elasticsearch(HOST=\"http://localhost\", PORT=9200)"
   ]
  },
  {
   "cell_type": "code",
   "execution_count": null,
   "metadata": {},
   "outputs": [],
   "source": [
    "def check_index_exist(name=\"test_product\"):\n",
    "    if es.indices.exists(index=name):\n",
    "            print(f\"index {name} already exists\")\n",
    "    else:\n",
    "        body_product = {\n",
    "            \"mappings\":{\n",
    "                \"properties\":{\n",
    "                    \"tag\":{\n",
    "                        \"type\":\"keyword\"\n",
    "                    },\n",
    "                    \"labels\":{\n",
    "                        \"type\":\"keyword\"\n",
    "                    },\n",
    "                    \"file_names\":{\n",
    "                        \"type\":\"text\"\n",
    "                    },\n",
    "                    \"images_path\":{\n",
    "                        \"type\":\"text\"\n",
    "                    },\n",
    "                    \"features\":{  \n",
    "                        \"type\":\"dense_vector\",\n",
    "                        \"dims\":768,\n",
    "                        \"index\":True,\n",
    "                        \"similarity\": \"dot_product\"\n",
    "                    },\n",
    "                    \"id\":{\n",
    "                        \"type\":\"keyword\"\n",
    "                    }\n",
    "                }\n",
    "            }\n",
    "        }\n",
    "        err = es.indices.create(index=name, body=body_product)\n",
    "        print(err)"
   ]
  },
  {
   "cell_type": "code",
   "execution_count": null,
   "metadata": {},
   "outputs": [],
   "source": [
    "name_product = \"vit_gg_lr2e_05_eu_9ep_0_95099acc\"\n",
    "check_index_exist(name_product)"
   ]
  },
  {
   "cell_type": "code",
   "execution_count": null,
   "metadata": {},
   "outputs": [],
   "source": [
    "def to_unit_len(vector):\n",
    "    return vector / np.linalg.norm(vector)"
   ]
  },
  {
   "cell_type": "code",
   "execution_count": null,
   "metadata": {},
   "outputs": [],
   "source": [
    "def put_to_es(mode, dataframe, index_name, tag=\"train_split\"):\n",
    "    for n, img_path in enumerate(tqdm(dataframe['images_path'])):\n",
    "        img = Image.open(img_path).convert('RGB')\n",
    "        output = mode.extract(img).flatten()\n",
    "        data = {\n",
    "            \"tag\": tag,\n",
    "            \"labels\": dataframe['labels'].iloc[n],\n",
    "            \"file_names\": dataframe['file_names'].iloc[n],\n",
    "            \"images_path\": img_path,\n",
    "            \"features\": to_unit_len(output),\n",
    "            \"id\": index_name+\"_\"+str(n)\n",
    "        }\n",
    "        es.index(index=index_name, id=index_name+\"_\"+str(n), body=data)"
   ]
  },
  {
   "cell_type": "code",
   "execution_count": null,
   "metadata": {},
   "outputs": [],
   "source": [
    "put_to_es(vit_gg_trained_lr2e_05_pipe, df_train_split, name_product, tag=\"train_split\")\n",
    "put_to_es(vit_gg_trained_lr2e_05_pipe, df_test_split, name_product, tag=\"test_split\")\n",
    "put_to_es(vit_gg_trained_lr2e_05_pipe, df_train_val_mix, name_product, tag=\"train_val\")\n",
    "put_to_es(vit_gg_trained_lr2e_05_pipe, df_test_val_mix, name_product, tag=\"test_val\")"
   ]
  },
  {
   "cell_type": "markdown",
   "metadata": {},
   "source": [
    "# query score"
   ]
  },
  {
   "cell_type": "code",
   "execution_count": null,
   "metadata": {},
   "outputs": [],
   "source": [
    "# triple loss\n",
    "best_validation_loss = 100\n",
    "best_acc_top = 0\n",
    "best_acc_top_n = 0\n",
    "\n",
    "for epoch in tqdm(range(EPOCHS), desc=\"Epochs\"):\n",
    "    running_loss = []\n",
    "    for step, (anchor_img, positive_img, negative_img) in enumerate(tqdm(train_dl, desc=\"Training\", leave=False)):\n",
    "        anchor_out = cvt_feature_vit_gg.process_extract(anchor_img)\n",
    "        positive_out = cvt_feature_vit_gg.process_extract(positive_img)\n",
    "        negative_out = cvt_feature_vit_gg.process_extract(negative_img)\n",
    "        \n",
    "        loss = criterion(anchor_out, positive_out, negative_out)\n",
    "        \n",
    "        Optimizer.zero_grad()\n",
    "        loss.backward()\n",
    "        Optimizer.step()\n",
    "        running_loss.append(loss.cpu().detach().numpy())\n",
    "    \n",
    "    x_trans = convert_feature_transformer(vit_gg, processor_vit_gg, layer=\"last_hidden_state\", row=0, device=DEVICE)\n",
    "    validation_loss = validate(x_trans)\n",
    "    acc_top = \n",
    "    acc_top_n = \n",
    "    \n",
    "    if acc_top > best_acc_top:\n",
    "        best_acc_top = acc_top\n",
    "        save_weight(epoch, cvt_feature_vit_gg, Optimizer, running_loss, acc_top, acc_top_n)\n",
    "        print(\"Save model at Best acc top: {:.4f}\".format(best_acc_top))\n",
    "        \n",
    "    if acc_top_n > best_acc_top_n:\n",
    "        best_acc_top_n = acc_top_n\n",
    "        save_weight(epoch, cvt_feature_vit_gg, Optimizer, running_loss, acc_top, acc_top_n)\n",
    "        print(\"Save model at Best acc top n: {:.4f}\".format(best_acc_top_n))\n",
    "    \n",
    "    if validation_loss < best_validation_loss:\n",
    "        best_validation_loss = validation_loss  # Update the best performance\n",
    "        save_weight(epoch, cvt_feature_vit_gg, Optimizer, running_loss, acc_top, acc_top_n)\n",
    "        print(\"Save model at Best performance: {:.4f}\".format(best_validation_loss))\n",
    "    \n",
    "    if epoch%10 == 9:\n",
    "        save_weight(epoch, cvt_feature_vit_gg, Optimizer, running_loss, acc_top, acc_top_n)\n",
    "        print(\"Save model at epoch {}\".format(epoch+1))\n",
    "\n",
    "    print(\"Epoch: {}/{} — Loss: {:.4f} — validation_loss : {:.4f} — acc_top : {} — acc_top_n : {}\".format(\n",
    "        epoch+1, EPOCHS, np.mean(running_loss), validation_loss, acc_top, acc_top_n))"
   ]
  }
 ],
 "metadata": {
  "kernelspec": {
   "display_name": "Python 3 (ipykernel)",
   "language": "python",
   "name": "python3"
  },
  "language_info": {
   "codemirror_mode": {
    "name": "ipython",
    "version": 3
   },
   "file_extension": ".py",
   "mimetype": "text/x-python",
   "name": "python",
   "nbconvert_exporter": "python",
   "pygments_lexer": "ipython3",
   "version": "3.8.10"
  }
 },
 "nbformat": 4,
 "nbformat_minor": 4
}
