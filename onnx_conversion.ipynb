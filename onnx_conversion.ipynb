{
 "cells": [
  {
   "cell_type": "markdown",
   "metadata": {},
   "source": [
    "# Import"
   ]
  },
  {
   "cell_type": "code",
   "execution_count": null,
   "metadata": {},
   "outputs": [],
   "source": [
    "from optimum.onnxruntime import ORTModelForFeatureExtraction, ORTQuantizer\n",
    "from optimum.onnxruntime.configuration import AutoQuantizationConfig\n",
    "from onnxruntime import InferenceSession\n",
    "from onnxruntime.quantization import QuantType\n",
    "from transformers import AutoFeatureExtractor\n",
    "import torch\n",
    "\n",
    "from PIL import Image\n",
    "import time"
   ]
  },
  {
   "cell_type": "markdown",
   "metadata": {},
   "source": [
    "# Convert Onnx"
   ]
  },
  {
   "cell_type": "markdown",
   "metadata": {},
   "source": [
    "## Vit google"
   ]
  },
  {
   "cell_type": "code",
   "execution_count": null,
   "metadata": {},
   "outputs": [],
   "source": [
    "# convert to onnx\n",
    "vit_gg_onnx = ORTModelForFeatureExtraction.from_pretrained('google/vit-base-patch16-224-in21k', export=True)\n",
    "processor_vit_gg_onnx = AutoFeatureExtractor.from_pretrained('google/vit-base-patch16-224-in21k')"
   ]
  },
  {
   "cell_type": "code",
   "execution_count": null,
   "metadata": {},
   "outputs": [],
   "source": [
    "# quantization\n",
    "quantizer = ORTQuantizer.from_pretrained(vit_gg_onnx)\n",
    "dqconfig = AutoQuantizationConfig.avx512_vnni(is_static=False, per_channel=False)\n",
    "dqconfig.weights_dtype = QuantType.QUInt8"
   ]
  },
  {
   "cell_type": "code",
   "execution_count": 87,
   "metadata": {},
   "outputs": [],
   "source": [
    "# save model onnx\n",
    "save_directory = \"/home/music/Desktop/measure_model/models/\"\n",
    "vit_gg_onnx.save_pretrained(save_directory+\"vit_gg_onnx\")"
   ]
  },
  {
   "cell_type": "code",
   "execution_count": null,
   "metadata": {},
   "outputs": [],
   "source": [
    "# save model onnx quantized\n",
    "model_quantized_path = quantizer.quantize(\n",
    "    save_dir=save_directory+\"vit_gg_onnx_quantize\",\n",
    "    quantization_config=dqconfig,\n",
    ")"
   ]
  },
  {
   "cell_type": "markdown",
   "metadata": {},
   "source": [
    "# test onnx"
   ]
  },
  {
   "cell_type": "code",
   "execution_count": 4,
   "metadata": {},
   "outputs": [],
   "source": [
    "img = Image.open(\"/home/music/Desktop/measure_model/data/image_net/n01514668_cock.JPEG\")"
   ]
  },
  {
   "cell_type": "markdown",
   "metadata": {},
   "source": [
    "## ViT google"
   ]
  },
  {
   "cell_type": "code",
   "execution_count": null,
   "metadata": {},
   "outputs": [],
   "source": [
    "# vit google onnx\n",
    "vit_gg_onnx_path = save_directory+\"vit_gg_onnx/model.onnx\"\n",
    "vit_gg_onnx = InferenceSession(vit_gg_onnx_path, providers=['CUDAExecutionProvider'])\n",
    "processor_vit_gg_onxx = AutoFeatureExtractor.from_pretrained('google/vit-base-patch16-224-in21k')"
   ]
  },
  {
   "cell_type": "code",
   "execution_count": 100,
   "metadata": {},
   "outputs": [
    {
     "name": "stdout",
     "output_type": "stream",
     "text": [
      "runtime : 287.0745658874512 ms\n"
     ]
    }
   ],
   "source": [
    "inputs = processor_vit_gg_onxx(images=img.convert(\"RGB\"), return_tensors=\"np\")\n",
    "st = time.time()\n",
    "outputs = vit_gg_onnx.run(output_names=[\"last_hidden_state\"], input_feed=dict(inputs))\n",
    "delta = time.time() - st\n",
    "print(f\"runtime : {delta*1000} ms\")"
   ]
  },
  {
   "cell_type": "code",
   "execution_count": null,
   "metadata": {},
   "outputs": [],
   "source": [
    "# vit google onnx quantized\n",
    "vit_gg_onnx_quantized_path = \"/home/music/Desktop/measure_model/models/vit_gg_onnx_quantize\"\n",
    "vit_gg_onnx_quantized_model_path = vit_gg_onnx_quantized_path+\"/model_quantized.onnx\"\n",
    "vit_gg_onnx_quantized = InferenceSession(vit_gg_onnx_quantized_model_path, providers=['CUDAExecutionProvider', 'CPUExecutionProvider'])\n",
    "processor_vit_gg_onxx = AutoFeatureExtractor.from_pretrained(vit_gg_onnx_quantized_path)"
   ]
  },
  {
   "cell_type": "code",
   "execution_count": 8,
   "metadata": {},
   "outputs": [
    {
     "name": "stdout",
     "output_type": "stream",
     "text": [
      "runtime : 264.401912689209 ms\n"
     ]
    }
   ],
   "source": [
    "inputs = processor_vit_gg_onxx(images=img.convert(\"RGB\"), return_tensors=\"np\")\n",
    "st = time.time()\n",
    "outputs = vit_gg_onnx_quantized.run(output_names=[\"last_hidden_state\"], input_feed=dict(inputs))\n",
    "delta = time.time() - st\n",
    "print(f\"runtime : {delta*1000} ms\")"
   ]
  },
  {
   "cell_type": "code",
   "execution_count": 109,
   "metadata": {},
   "outputs": [],
   "source": [
    "# Original ViT google\n",
    "from transformers import ViTImageProcessor, ViTModel\n",
    "vit_gg = ViTModel.from_pretrained('google/vit-base-patch16-224-in21k')\n",
    "processor_vit_gg = ViTImageProcessor.from_pretrained('google/vit-base-patch16-224-in21k')\n",
    "vit_gg.eval().to('cpu')\n",
    "inputs = processor_vit_gg(images=img, return_tensors=\"pt\").to('cpu')"
   ]
  },
  {
   "cell_type": "code",
   "execution_count": 129,
   "metadata": {},
   "outputs": [
    {
     "name": "stdout",
     "output_type": "stream",
     "text": [
      "runtime : 351.8397808074951 ms\n"
     ]
    }
   ],
   "source": [
    "start_time_torch = time.time()\n",
    "outputs = vit_gg(**inputs)\n",
    "delta_time_torch = time.time() - start_time_torch\n",
    "print(\"runtime :\", delta_time_torch*1000, \"ms\")"
   ]
  }
 ],
 "metadata": {
  "kernelspec": {
   "display_name": "Python 3",
   "language": "python",
   "name": "python3"
  },
  "language_info": {
   "codemirror_mode": {
    "name": "ipython",
    "version": 3
   },
   "file_extension": ".py",
   "mimetype": "text/x-python",
   "name": "python",
   "nbconvert_exporter": "python",
   "pygments_lexer": "ipython3",
   "version": "3.8.10"
  }
 },
 "nbformat": 4,
 "nbformat_minor": 2
}
