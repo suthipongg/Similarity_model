{
 "cells": [
  {
   "cell_type": "code",
   "execution_count": 2,
   "metadata": {},
   "outputs": [],
   "source": [
    "import pandas as pd\n",
    "import numpy as np\n",
    "import requests\n",
    "from tqdm import tqdm"
   ]
  },
  {
   "cell_type": "code",
   "execution_count": 3,
   "metadata": {},
   "outputs": [],
   "source": [
    "brand_df = pd.read_csv('db_cosmenet/brand_name.csv')\n",
    "category_df = pd.read_csv('db_cosmenet/category.csv')\n",
    "product_df = pd.read_csv('db_cosmenet/product_joined.csv')\n",
    "scan_df = pd.read_csv('/app/nfs_clientshare/Datasets/Cosmenet_uat_20231108/data_last_join_2023_12_18.csv')"
   ]
  },
  {
   "cell_type": "code",
   "execution_count": 4,
   "metadata": {},
   "outputs": [
    {
     "data": {
      "text/html": [
       "<div>\n",
       "<style scoped>\n",
       "    .dataframe tbody tr th:only-of-type {\n",
       "        vertical-align: middle;\n",
       "    }\n",
       "\n",
       "    .dataframe tbody tr th {\n",
       "        vertical-align: top;\n",
       "    }\n",
       "\n",
       "    .dataframe thead th {\n",
       "        text-align: right;\n",
       "    }\n",
       "</style>\n",
       "<table border=\"1\" class=\"dataframe\">\n",
       "  <thead>\n",
       "    <tr style=\"text-align: right;\">\n",
       "      <th></th>\n",
       "      <th>ID</th>\n",
       "      <th>NAME</th>\n",
       "    </tr>\n",
       "  </thead>\n",
       "  <tbody>\n",
       "    <tr>\n",
       "      <th>1350</th>\n",
       "      <td>4681</td>\n",
       "      <td>CHAT</td>\n",
       "    </tr>\n",
       "  </tbody>\n",
       "</table>\n",
       "</div>"
      ],
      "text/plain": [
       "        ID  NAME\n",
       "1350  4681  CHAT"
      ]
     },
     "execution_count": 4,
     "metadata": {},
     "output_type": "execute_result"
    }
   ],
   "source": [
    "brand_df_clean = brand_df[brand_df['DEPTH_LEVEL'] == 2].copy()\n",
    "brand_df_clean.drop(['DEPTH_LEVEL', 'IBLOCK_SECTION_ID'], axis=1, inplace=True)\n",
    "brand_df_clean.reset_index(drop=True, inplace=True)\n",
    "brand_df_clean.tail(1)"
   ]
  },
  {
   "cell_type": "code",
   "execution_count": 5,
   "metadata": {},
   "outputs": [
    {
     "data": {
      "text/html": [
       "<div>\n",
       "<style scoped>\n",
       "    .dataframe tbody tr th:only-of-type {\n",
       "        vertical-align: middle;\n",
       "    }\n",
       "\n",
       "    .dataframe tbody tr th {\n",
       "        vertical-align: top;\n",
       "    }\n",
       "\n",
       "    .dataframe thead th {\n",
       "        text-align: right;\n",
       "    }\n",
       "</style>\n",
       "<table border=\"1\" class=\"dataframe\">\n",
       "  <thead>\n",
       "    <tr style=\"text-align: right;\">\n",
       "      <th></th>\n",
       "      <th>ID</th>\n",
       "      <th>NAME</th>\n",
       "    </tr>\n",
       "  </thead>\n",
       "  <tbody>\n",
       "    <tr>\n",
       "      <th>9</th>\n",
       "      <td>1821</td>\n",
       "      <td>For Men</td>\n",
       "    </tr>\n",
       "  </tbody>\n",
       "</table>\n",
       "</div>"
      ],
      "text/plain": [
       "     ID     NAME\n",
       "9  1821  For Men"
      ]
     },
     "execution_count": 5,
     "metadata": {},
     "output_type": "execute_result"
    }
   ],
   "source": [
    "category_df_clean = category_df[category_df['DEPTH_LEVEL'] == 1].reset_index(drop=True)\n",
    "category_df_clean.drop(['DEPTH_LEVEL', 'IBLOCK_SECTION_ID'], axis=1, inplace=True)\n",
    "category_df_clean.tail(1)"
   ]
  },
  {
   "cell_type": "code",
   "execution_count": 6,
   "metadata": {},
   "outputs": [
    {
     "data": {
      "text/html": [
       "<div>\n",
       "<style scoped>\n",
       "    .dataframe tbody tr th:only-of-type {\n",
       "        vertical-align: middle;\n",
       "    }\n",
       "\n",
       "    .dataframe tbody tr th {\n",
       "        vertical-align: top;\n",
       "    }\n",
       "\n",
       "    .dataframe thead th {\n",
       "        text-align: right;\n",
       "    }\n",
       "</style>\n",
       "<table border=\"1\" class=\"dataframe\">\n",
       "  <thead>\n",
       "    <tr style=\"text-align: right;\">\n",
       "      <th></th>\n",
       "      <th>SCID</th>\n",
       "      <th>NAME</th>\n",
       "      <th>CID</th>\n",
       "    </tr>\n",
       "  </thead>\n",
       "  <tbody>\n",
       "    <tr>\n",
       "      <th>130</th>\n",
       "      <td>2683</td>\n",
       "      <td>Home Perfume</td>\n",
       "      <td>63</td>\n",
       "    </tr>\n",
       "  </tbody>\n",
       "</table>\n",
       "</div>"
      ],
      "text/plain": [
       "     SCID          NAME  CID\n",
       "130  2683  Home Perfume   63"
      ]
     },
     "execution_count": 6,
     "metadata": {},
     "output_type": "execute_result"
    }
   ],
   "source": [
    "subcategory_df_clean = category_df[category_df['DEPTH_LEVEL'] == 3].reset_index(drop=True)[['ID', 'IBLOCK_SECTION_ID', 'NAME']]\n",
    "subcategory_df_clean = pd.merge(subcategory_df_clean, category_df[['ID', 'IBLOCK_SECTION_ID']], left_on='IBLOCK_SECTION_ID', right_on='ID', how='left')\n",
    "subcategory_df_clean = pd.merge(subcategory_df_clean, category_df[['ID']], left_on='IBLOCK_SECTION_ID_y', right_on='ID', how='left')\n",
    "subcategory_df_clean.drop(['IBLOCK_SECTION_ID_x', 'ID_y', 'IBLOCK_SECTION_ID_y'], axis=1, inplace=True)\n",
    "subcategory_df_clean.columns = ['SCID', 'NAME', 'CID']\n",
    "\n",
    "subcategory_df_not_parent = subcategory_df_clean[subcategory_df_clean['CID'].isna()]\n",
    "subcategory_df_clean.drop(subcategory_df_not_parent.index, inplace=True)\n",
    "subcategory_df_clean.reset_index(drop=True, inplace=True)\n",
    "subcategory_df_clean.tail(1)"
   ]
  },
  {
   "cell_type": "code",
   "execution_count": 7,
   "metadata": {},
   "outputs": [
    {
     "data": {
      "text/html": [
       "<div>\n",
       "<style scoped>\n",
       "    .dataframe tbody tr th:only-of-type {\n",
       "        vertical-align: middle;\n",
       "    }\n",
       "\n",
       "    .dataframe tbody tr th {\n",
       "        vertical-align: top;\n",
       "    }\n",
       "\n",
       "    .dataframe thead th {\n",
       "        text-align: right;\n",
       "    }\n",
       "</style>\n",
       "<table border=\"1\" class=\"dataframe\">\n",
       "  <thead>\n",
       "    <tr style=\"text-align: right;\">\n",
       "      <th></th>\n",
       "      <th>EID</th>\n",
       "      <th>PRODUCT_NAME</th>\n",
       "      <th>BID</th>\n",
       "      <th>BRAND_NAME</th>\n",
       "      <th>SCID</th>\n",
       "      <th>SUBCAT_NAME</th>\n",
       "      <th>CID</th>\n",
       "      <th>CAT_NAME</th>\n",
       "    </tr>\n",
       "  </thead>\n",
       "  <tbody>\n",
       "    <tr>\n",
       "      <th>29901</th>\n",
       "      <td>49169</td>\n",
       "      <td>Bio Booster Skin Brightening Sun Surum SPF 50 ...</td>\n",
       "      <td>3992</td>\n",
       "      <td>Am Herb</td>\n",
       "      <td>248</td>\n",
       "      <td>Facial Sunscreen</td>\n",
       "      <td>62</td>\n",
       "      <td>Sun Product</td>\n",
       "    </tr>\n",
       "  </tbody>\n",
       "</table>\n",
       "</div>"
      ],
      "text/plain": [
       "         EID                                       PRODUCT_NAME   BID  \\\n",
       "29901  49169  Bio Booster Skin Brightening Sun Surum SPF 50 ...  3992   \n",
       "\n",
       "      BRAND_NAME  SCID       SUBCAT_NAME  CID     CAT_NAME  \n",
       "29901    Am Herb   248  Facial Sunscreen   62  Sun Product  "
      ]
     },
     "execution_count": 7,
     "metadata": {},
     "output_type": "execute_result"
    }
   ],
   "source": [
    "product_df_BID_not_provided = product_df[product_df['BID'] < 0]\n",
    "product_df_clean = product_df.drop(product_df_BID_not_provided.index)\n",
    "product_df_BID_not_have = product_df_clean[product_df_clean['BID'].isin(brand_df_clean['ID']) == False]\n",
    "product_df_clean.drop(product_df_BID_not_have.index, inplace=True)\n",
    "\n",
    "product_df_CID_not_provided = product_df_clean[product_df_clean['CID'] < 0]\n",
    "product_df_clean = product_df_clean.drop(product_df_CID_not_provided.index)\n",
    "product_df_CID_not_have = product_df_clean[product_df_clean['CID'].isin(category_df_clean['ID']) == False]\n",
    "product_df_clean.drop(product_df_CID_not_have.index, inplace=True)\n",
    "\n",
    "product_df_SCID_not_provided = product_df_clean[product_df_clean['SCID'] < 0]\n",
    "product_df_clean = product_df_clean.drop(product_df_SCID_not_provided.index)\n",
    "product_df_SCID_not_have = product_df_clean[product_df_clean['SCID'].isin(subcategory_df_clean['SCID']) == False]\n",
    "product_df_clean.drop(product_df_SCID_not_have.index, inplace=True)\n",
    "\n",
    "product_df_clean.reset_index(drop=True, inplace=True)\n",
    "product_df_clean.tail(1)"
   ]
  },
  {
   "cell_type": "code",
   "execution_count": 8,
   "metadata": {},
   "outputs": [
    {
     "data": {
      "text/html": [
       "<div>\n",
       "<style scoped>\n",
       "    .dataframe tbody tr th:only-of-type {\n",
       "        vertical-align: middle;\n",
       "    }\n",
       "\n",
       "    .dataframe tbody tr th {\n",
       "        vertical-align: top;\n",
       "    }\n",
       "\n",
       "    .dataframe thead th {\n",
       "        text-align: right;\n",
       "    }\n",
       "</style>\n",
       "<table border=\"1\" class=\"dataframe\">\n",
       "  <thead>\n",
       "    <tr style=\"text-align: right;\">\n",
       "      <th></th>\n",
       "      <th>file_names</th>\n",
       "      <th>labels</th>\n",
       "      <th>images_path</th>\n",
       "      <th>BID</th>\n",
       "      <th>SCID</th>\n",
       "      <th>CID</th>\n",
       "    </tr>\n",
       "  </thead>\n",
       "  <tbody>\n",
       "    <tr>\n",
       "      <th>93613</th>\n",
       "      <td>Be-You-Tiful-Eyeshadow-Palette.jpg</td>\n",
       "      <td>37992</td>\n",
       "      <td>/app/nfs_clientshare/Datasets/Cosmenet_uat_202...</td>\n",
       "      <td>2069</td>\n",
       "      <td>227</td>\n",
       "      <td>58</td>\n",
       "    </tr>\n",
       "  </tbody>\n",
       "</table>\n",
       "</div>"
      ],
      "text/plain": [
       "                               file_names  labels  \\\n",
       "93613  Be-You-Tiful-Eyeshadow-Palette.jpg   37992   \n",
       "\n",
       "                                             images_path   BID  SCID  CID  \n",
       "93613  /app/nfs_clientshare/Datasets/Cosmenet_uat_202...  2069   227   58  "
      ]
     },
     "execution_count": 8,
     "metadata": {},
     "output_type": "execute_result"
    }
   ],
   "source": [
    "scan_df_EID_not_have = scan_df[scan_df['labels'].isin(product_df_clean['EID']) == False]\n",
    "scan_df_clean = scan_df.drop(scan_df_EID_not_have.index)\n",
    "scan_df_clean.reset_index(drop=True, inplace=True)\n",
    "scan_df_clean.tail(1)"
   ]
  },
  {
   "cell_type": "code",
   "execution_count": 9,
   "metadata": {},
   "outputs": [],
   "source": [
    "def insert_data(body, tag_name):\n",
    "    response = requests.post(\n",
    "        url=\"http://127.0.0.1:8000/\" + tag_name + \"/insert\", \n",
    "        json=body,\n",
    "        headers={\"Content-Type\": \"application/json\"},\n",
    "    )\n",
    "    if response.status_code != 201:\n",
    "        print(response.status_code)\n",
    "        print(response.text)\n",
    "        return False\n",
    "    return True"
   ]
  },
  {
   "cell_type": "code",
   "execution_count": 20,
   "metadata": {},
   "outputs": [
    {
     "name": "stderr",
     "output_type": "stream",
     "text": [
      "100%|██████████| 1351/1351 [00:25<00:00, 53.24it/s]\n"
     ]
    }
   ],
   "source": [
    "brand_body = {\n",
    "  \"active\": 'true',\n",
    "  \"brand_id\": \"\",\n",
    "  \"brand_name\": \"\",\n",
    "  \"description\": \"\",\n",
    "  \"update_by\": \"admin\",\n",
    "  \"url\": \"https://www.google.com/\",\n",
    "  \"url_preview_image\": \"https://www.google.com/\"\n",
    "}\n",
    "\n",
    "for i in tqdm(range(len(brand_df_clean))):\n",
    "    brand_body['brand_id'] = str(brand_df_clean['ID'][i])\n",
    "    brand_body['brand_name'] = brand_df_clean['NAME'][i]\n",
    "    if not insert_data(brand_body, 'brand'):\n",
    "        print(f'index {i}')"
   ]
  },
  {
   "cell_type": "code",
   "execution_count": 22,
   "metadata": {},
   "outputs": [
    {
     "name": "stderr",
     "output_type": "stream",
     "text": [
      "100%|██████████| 10/10 [00:00<00:00, 34.33it/s]\n"
     ]
    }
   ],
   "source": [
    "category_body = {\n",
    "  \"active\": 'true',\n",
    "  \"category_id\": \"\",\n",
    "  \"category_name\": \"\",\n",
    "  \"description\": \"test\",\n",
    "  \"update_by\": \"admin\",\n",
    "  \"url\": \"https://www.google.com/\",\n",
    "  \"url_preview_image\": \"https://www.google.com/\"\n",
    "}\n",
    "\n",
    "for i in tqdm(range(len(category_df_clean))):\n",
    "    category_body['category_id'] = str(category_df_clean['ID'][i])\n",
    "    category_body['category_name'] = category_df_clean['NAME'][i]\n",
    "    if not insert_data(category_body, 'category'):\n",
    "        print(f'index {i}')"
   ]
  },
  {
   "cell_type": "code",
   "execution_count": 24,
   "metadata": {},
   "outputs": [
    {
     "name": "stderr",
     "output_type": "stream",
     "text": [
      "100%|██████████| 131/131 [00:02<00:00, 46.98it/s]\n"
     ]
    }
   ],
   "source": [
    "subcategory_body = {\n",
    "  \"active\": 'true',\n",
    "  \"category_id\": \"\",\n",
    "  \"description\": \"test\",\n",
    "  \"sub_category_id\": \"\",\n",
    "  \"sub_category_name\": \"\",\n",
    "  \"update_by\": \"admin\",\n",
    "  \"url\": \"https://www.google.com/\",\n",
    "  \"url_preview_image\": \"https://www.google.com/\"\n",
    "}\n",
    "\n",
    "for i in tqdm(range(len(subcategory_df_clean))):\n",
    "    subcategory_body['category_id'] = str(subcategory_df_clean['CID'][i])\n",
    "    subcategory_body['sub_category_id'] = str(subcategory_df_clean['SCID'][i])\n",
    "    subcategory_body['sub_category_name'] = subcategory_df_clean['NAME'][i]\n",
    "    if not insert_data(subcategory_body, 'subcategory'):\n",
    "        print(f'index {i}')"
   ]
  },
  {
   "cell_type": "code",
   "execution_count": 37,
   "metadata": {},
   "outputs": [
    {
     "name": "stderr",
     "output_type": "stream",
     "text": [
      "100%|██████████| 70/70 [00:03<00:00, 23.28it/s]\n"
     ]
    }
   ],
   "source": [
    "product_body = {\n",
    "  \"active\": 'true',\n",
    "  \"brand_id\": \"\",\n",
    "  \"description\": \"test\",\n",
    "  \"product_id\": \"\",\n",
    "  \"product_name\": \"\",\n",
    "  \"sub_category_id\": \"\",\n",
    "  \"update_by\": \"admin\",\n",
    "  \"url\": \"https://www.google.com/\",\n",
    "  \"url_preview_image\": \"https://www.google.com/\"\n",
    "}\n",
    "\n",
    "for i in tqdm(range(len(product_df_clean))):\n",
    "    product_body['brand_id'] = str(product_df_clean['BID'][i])\n",
    "    product_body['product_id'] = str(product_df_clean['EID'][i])\n",
    "    product_body['product_name'] = product_df_clean['PRODUCT_NAME'][i]\n",
    "    product_body['sub_category_id'] = str(product_df_clean['SCID'][i])\n",
    "    if not insert_data(product_body, 'product'):\n",
    "        print(f'index {i}')"
   ]
  },
  {
   "cell_type": "code",
   "execution_count": null,
   "metadata": {},
   "outputs": [],
   "source": [
    "scan_body = {\n",
    "  \"active\": 'true',\n",
    "  \"counter\": '0',\n",
    "  \"directory_name\": \"test\",\n",
    "  \"image_path\": \"\",\n",
    "  \"product_id\": \"\",\n",
    "  \"update_by\": \"admin\"\n",
    "}\n",
    "\n",
    "for i in tqdm(range(len(scan_df_clean))):\n",
    "    scan_body['image_path'] = scan_df_clean['images_path'][i]\n",
    "    scan_body['product_id'] = str(scan_df_clean['labels'][i])\n",
    "    if not insert_data(scan_body, 'main'):\n",
    "        print(f'index {i}')"
   ]
  },
  {
   "cell_type": "code",
   "execution_count": 13,
   "metadata": {},
   "outputs": [
    {
     "data": {
      "text/plain": [
       "'/app/nfs_clientshare/Datasets/Cosmenet_product_20231018/datas/14624/14624_14.jpg'"
      ]
     },
     "execution_count": 13,
     "metadata": {},
     "output_type": "execute_result"
    }
   ],
   "source": [
    "scan_df_clean.iloc[0]['images_path']"
   ]
  },
  {
   "cell_type": "code",
   "execution_count": 14,
   "metadata": {},
   "outputs": [],
   "source": [
    "pred_body = {\n",
    "  \"brand_id\": \"\",\n",
    "  \"category_id\": \"\",\n",
    "  \"image_path\": \"/app/nfs_clientshare/Datasets/Cosmenet_product_20231018/datas/14624/14624_14.jpg\",\n",
    "  \"page\": 1,\n",
    "  \"size\": 5,\n",
    "  \"sub_category_id\": \"\",\n",
    "  \"update_by\": \"\"\n",
    "}"
   ]
  },
  {
   "cell_type": "code",
   "execution_count": 122,
   "metadata": {},
   "outputs": [],
   "source": [
    "response = requests.post(\n",
    "    url=\"http://127.0.0.1:8000/\" + 'predict' + \"/product\", \n",
    "    json=pred_body,\n",
    "    headers={\"Content-Type\": \"application/json\"},\n",
    ")"
   ]
  }
 ],
 "metadata": {
  "kernelspec": {
   "display_name": "Python 3",
   "language": "python",
   "name": "python3"
  },
  "language_info": {
   "codemirror_mode": {
    "name": "ipython",
    "version": 3
   },
   "file_extension": ".py",
   "mimetype": "text/x-python",
   "name": "python",
   "nbconvert_exporter": "python",
   "pygments_lexer": "ipython3",
   "version": "3.8.10"
  }
 },
 "nbformat": 4,
 "nbformat_minor": 2
}
